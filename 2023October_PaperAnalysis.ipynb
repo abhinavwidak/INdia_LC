{
 "cells": [
  {
   "cell_type": "code",
   "execution_count": 1,
   "id": "b48796db-ca3c-487d-8ec2-66e866a6dd79",
   "metadata": {},
   "outputs": [
    {
     "data": {
      "text/html": [
       "<p>To authorize access needed by Earth Engine, open the following\n",
       "        URL in a web browser and follow the instructions:</p>\n",
       "        <p><a href=https://code.earthengine.google.com/client-auth?scopes=https%3A//www.googleapis.com/auth/earthengine%20https%3A//www.googleapis.com/auth/devstorage.full_control&request_id=Ml-iIjurU7QKm5dMFjdt7D76HVsR1-opiNmE0VEKvW8&tc=QCzoWeyhOuJCEcC9RLnozGmMF6qdWm1MRfTqdjKp4nk&cc=M4ya5iWqkQfAgyCkyeM9bZ5V2EemoSOdZQhCCSW_0-A>https://code.earthengine.google.com/client-auth?scopes=https%3A//www.googleapis.com/auth/earthengine%20https%3A//www.googleapis.com/auth/devstorage.full_control&request_id=Ml-iIjurU7QKm5dMFjdt7D76HVsR1-opiNmE0VEKvW8&tc=QCzoWeyhOuJCEcC9RLnozGmMF6qdWm1MRfTqdjKp4nk&cc=M4ya5iWqkQfAgyCkyeM9bZ5V2EemoSOdZQhCCSW_0-A</a></p>\n",
       "        <p>The authorization workflow will generate a code, which you should paste in the box below.</p>\n",
       "        "
      ],
      "text/plain": [
       "<IPython.core.display.HTML object>"
      ]
     },
     "metadata": {},
     "output_type": "display_data"
    },
    {
     "name": "stdin",
     "output_type": "stream",
     "text": [
      "Enter verification code:  4/1AfJohXk1j8Id94n7wMuLNyvClcw4zzeFShgnzMt6vcgdyHvxYlQ7EzqRrfg\n"
     ]
    },
    {
     "name": "stdout",
     "output_type": "stream",
     "text": [
      "\n",
      "Successfully saved authorization token.\n"
     ]
    }
   ],
   "source": [
    "# Import necessary libraries\n",
    "import ee\n",
    "import geemap\n",
    "\n",
    "# Authenticate to Earth Engine\n",
    "# ee.Authenticate()\n",
    "ee.Initialize()"
   ]
  },
  {
   "cell_type": "code",
   "execution_count": 21,
   "id": "4cdc5076-5f41-436b-b04b-dfb39b0b497c",
   "metadata": {},
   "outputs": [
    {
     "data": {
      "application/vnd.jupyter.widget-view+json": {
       "model_id": "2f3eb8dd08434896b90488b73d741b3a",
       "version_major": 2,
       "version_minor": 0
      },
      "text/plain": [
       "Map(bottom=27621.0, center=[28.646455931994893, 77.10900424302301], controls=(WidgetControl(options=['position…"
      ]
     },
     "execution_count": 21,
     "metadata": {},
     "output_type": "execute_result"
    }
   ],
   "source": [
    "\n",
    "\n",
    "# Define the FAO/GAUL administrative units dataset\n",
    "dataset = ee.FeatureCollection('FAO/GAUL/2015/level2')\n",
    "\n",
    "# Define a region of interest (ROI) for India\n",
    "india_roi = ee.Geometry.Polygon(\n",
    "    [[[\n",
    "      68.11137880340998, 7.96553484576015],\n",
    "      [88.3927306205192, 7.96553484576015],\n",
    "      [88.3927306205192, 35.67459030295267],\n",
    "      [68.11137880340998, 35.67459030295267],\n",
    "      [68.11137880340998, 7.96553484576015]\n",
    "    ]]\n",
    ")\n",
    "\n",
    "\n",
    "Map"
   ]
  },
  {
   "cell_type": "code",
   "execution_count": 14,
   "id": "f0587f92-afd1-4c44-be74-e661e596d480",
   "metadata": {},
   "outputs": [
    {
     "name": "stdout",
     "output_type": "stream",
     "text": [
      "Selected Administrative Unit (New Delhi):\n",
      "Admin Unit ID: 17633\n",
      "Admin Unit Name: Delhi\n"
     ]
    },
    {
     "data": {
      "application/vnd.jupyter.widget-view+json": {
       "model_id": "c2be225e21b5409aa08f68d471d29450",
       "version_major": 2,
       "version_minor": 0
      },
      "text/plain": [
       "Map(center=[28.646455931994893, 77.10900424302301], controls=(WidgetControl(options=['position', 'transparent_…"
      ]
     },
     "execution_count": 14,
     "metadata": {},
     "output_type": "execute_result"
    }
   ],
   "source": [
    "import ee\n",
    "import geemap\n",
    "\n",
    "# Initialize Earth Engine\n",
    "ee.Initialize()\n",
    "\n",
    "# Define the FAO/GAUL administrative units dataset\n",
    "dataset = ee.FeatureCollection('FAO/GAUL/2015/level2')\n",
    "\n",
    "# Define a region of interest (ROI) for India\n",
    "india_roi = ee.Geometry.Polygon(\n",
    "    [[[\n",
    "      68.11137880340998, 7.96553484576015],\n",
    "      [88.3927306205192, 7.96553484576015],\n",
    "      [88.3927306205192, 35.67459030295267],\n",
    "      [68.11137880340998, 35.67459030295267],\n",
    "      [68.11137880340998, 7.96553484576015]\n",
    "    ]]\n",
    ")\n",
    "\n",
    "# Filter the administrative units dataset to select India\n",
    "india_dataset = dataset.filterBounds(india_roi)\n",
    "\n",
    "# Define a region of interest (ROI) for New Delhi\n",
    "delhi_roi = ee.Geometry.Point(77.216721, 28.613939).buffer(0.5)\n",
    "\n",
    "# Filter the India dataset to select New Delhi\n",
    "delhi_feature = india_dataset.filterBounds(delhi_roi)\n",
    "\n",
    "# Print the selected administrative unit (New Delhi)\n",
    "print(\"Selected Administrative Unit (New Delhi):\")\n",
    "selected_features = delhi_feature.getInfo()\n",
    "for feature in selected_features['features']:\n",
    "    print(\"Admin Unit ID:\", feature['properties']['ADM2_CODE'])\n",
    "    print(\"Admin Unit Name:\", feature['properties']['ADM2_NAME'])\n",
    "\n",
    "# Create a Map\n",
    "Map = geemap.Map()\n",
    "\n",
    "# Set the Map center\n",
    "Map.setCenter(12.876, 42.682, 5)\n",
    "\n",
    "# Add the administrative units dataset to the map\n",
    "Map.centerObject(india_dataset, 5)\n",
    "Map.addLayer(india_dataset, {'color': '00909F'}, 'Second Level Administrative Units')\n",
    "\n",
    "# Display New Delhi\n",
    "Map.centerObject(delhi_feature, 8)\n",
    "Map.addLayer(delhi_feature, {'color': 'FF0000'}, 'New Delhi')\n",
    "\n",
    "# Display the Map\n",
    "Map\n"
   ]
  },
  {
   "cell_type": "code",
   "execution_count": 27,
   "id": "8459b848-a19c-4fad-95ae-e38b86666457",
   "metadata": {},
   "outputs": [
    {
     "name": "stdout",
     "output_type": "stream",
     "text": [
      "Export task failed: {'state': 'READY', 'description': 'Study_Area', 'creation_timestamp_ms': 1696419400819, 'update_timestamp_ms': 1696419400819, 'start_timestamp_ms': 0, 'task_type': 'EXPORT_FEATURES', 'id': 'IW6SYI2S7A7RBQVDASWTI7ZH', 'name': 'projects/earthengine-legacy/operations/IW6SYI2S7A7RBQVDASWTI7ZH'}\n"
     ]
    }
   ],
   "source": [
    "# Filter the administrative units dataset to select administrative 2 regions surrounding Delhi\n",
    "delhi_surrounding_admin2 = india_dataset.filterBounds(delhi_roi).filter(ee.Filter.eq('ADM2_CODE', '2'))\n",
    "\n",
    "# Clip the study area to the administrative units around Delhi\n",
    "clipped_study_area = india_dataset.filterBounds(delhi_surrounding_admin2)\n",
    "\n",
    "# Export the clipped study area as a vector shapefile\n",
    "export_params = {\n",
    "    'collection': clipped_study_area,\n",
    "    'description': 'Study_Area',\n",
    "    'fileFormat': 'SHP'  # Export as a shapefile\n",
    "}\n",
    "\n",
    "# Define the export task\n",
    "export_task = ee.batch.Export.table.toDrive(**export_params)\n",
    "\n",
    "# Start the export task\n",
    "export_task.start()\n",
    "\n",
    "# Wait for the export task to complete\n",
    "import time\n",
    "while export_task.status()['state'] == 'RUNNING':\n",
    "    time.sleep(5)\n",
    "\n",
    "# Check if the export task completed successfully\n",
    "if export_task.status()['state'] == 'COMPLETED':\n",
    "    # Get the URL of the exported file\n",
    "    export_url = export_task.status()['destinationUrl']\n",
    "    print(\"File saved at:\", export_url)\n",
    "else:\n",
    "    print(\"Export task failed:\", export_task.status())\n"
   ]
  },
  {
   "cell_type": "code",
   "execution_count": 28,
   "id": "5f1c7dfe-feff-4a63-bfcd-50696587b1b9",
   "metadata": {},
   "outputs": [
    {
     "ename": "EEException",
     "evalue": "A different Operation was already started with the given request_id.",
     "output_type": "error",
     "traceback": [
      "\u001b[0;31m---------------------------------------------------------------------------\u001b[0m",
      "\u001b[0;31mHttpError\u001b[0m                                 Traceback (most recent call last)",
      "\u001b[0;32m~/opt/anaconda3/lib/python3.9/site-packages/ee/data.py\u001b[0m in \u001b[0;36m_execute_cloud_call\u001b[0;34m(call, num_retries)\u001b[0m\n\u001b[1;32m    341\u001b[0m   \u001b[0;32mtry\u001b[0m\u001b[0;34m:\u001b[0m\u001b[0;34m\u001b[0m\u001b[0;34m\u001b[0m\u001b[0m\n\u001b[0;32m--> 342\u001b[0;31m     \u001b[0;32mreturn\u001b[0m \u001b[0mcall\u001b[0m\u001b[0;34m.\u001b[0m\u001b[0mexecute\u001b[0m\u001b[0;34m(\u001b[0m\u001b[0mnum_retries\u001b[0m\u001b[0;34m=\u001b[0m\u001b[0mnum_retries\u001b[0m\u001b[0;34m)\u001b[0m\u001b[0;34m\u001b[0m\u001b[0;34m\u001b[0m\u001b[0m\n\u001b[0m\u001b[1;32m    343\u001b[0m   \u001b[0;32mexcept\u001b[0m \u001b[0mgoogleapiclient\u001b[0m\u001b[0;34m.\u001b[0m\u001b[0merrors\u001b[0m\u001b[0;34m.\u001b[0m\u001b[0mHttpError\u001b[0m \u001b[0;32mas\u001b[0m \u001b[0me\u001b[0m\u001b[0;34m:\u001b[0m\u001b[0;34m\u001b[0m\u001b[0;34m\u001b[0m\u001b[0m\n",
      "\u001b[0;32m~/opt/anaconda3/lib/python3.9/site-packages/googleapiclient/_helpers.py\u001b[0m in \u001b[0;36mpositional_wrapper\u001b[0;34m(*args, **kwargs)\u001b[0m\n\u001b[1;32m    129\u001b[0m                     \u001b[0mlogger\u001b[0m\u001b[0;34m.\u001b[0m\u001b[0mwarning\u001b[0m\u001b[0;34m(\u001b[0m\u001b[0mmessage\u001b[0m\u001b[0;34m)\u001b[0m\u001b[0;34m\u001b[0m\u001b[0;34m\u001b[0m\u001b[0m\n\u001b[0;32m--> 130\u001b[0;31m             \u001b[0;32mreturn\u001b[0m \u001b[0mwrapped\u001b[0m\u001b[0;34m(\u001b[0m\u001b[0;34m*\u001b[0m\u001b[0margs\u001b[0m\u001b[0;34m,\u001b[0m \u001b[0;34m**\u001b[0m\u001b[0mkwargs\u001b[0m\u001b[0;34m)\u001b[0m\u001b[0;34m\u001b[0m\u001b[0;34m\u001b[0m\u001b[0m\n\u001b[0m\u001b[1;32m    131\u001b[0m \u001b[0;34m\u001b[0m\u001b[0m\n",
      "\u001b[0;32m~/opt/anaconda3/lib/python3.9/site-packages/googleapiclient/http.py\u001b[0m in \u001b[0;36mexecute\u001b[0;34m(self, http, num_retries)\u001b[0m\n\u001b[1;32m    937\u001b[0m         \u001b[0;32mif\u001b[0m \u001b[0mresp\u001b[0m\u001b[0;34m.\u001b[0m\u001b[0mstatus\u001b[0m \u001b[0;34m>=\u001b[0m \u001b[0;36m300\u001b[0m\u001b[0;34m:\u001b[0m\u001b[0;34m\u001b[0m\u001b[0;34m\u001b[0m\u001b[0m\n\u001b[0;32m--> 938\u001b[0;31m             \u001b[0;32mraise\u001b[0m \u001b[0mHttpError\u001b[0m\u001b[0;34m(\u001b[0m\u001b[0mresp\u001b[0m\u001b[0;34m,\u001b[0m \u001b[0mcontent\u001b[0m\u001b[0;34m,\u001b[0m \u001b[0muri\u001b[0m\u001b[0;34m=\u001b[0m\u001b[0mself\u001b[0m\u001b[0;34m.\u001b[0m\u001b[0muri\u001b[0m\u001b[0;34m)\u001b[0m\u001b[0;34m\u001b[0m\u001b[0;34m\u001b[0m\u001b[0m\n\u001b[0m\u001b[1;32m    939\u001b[0m         \u001b[0;32mreturn\u001b[0m \u001b[0mself\u001b[0m\u001b[0;34m.\u001b[0m\u001b[0mpostproc\u001b[0m\u001b[0;34m(\u001b[0m\u001b[0mresp\u001b[0m\u001b[0;34m,\u001b[0m \u001b[0mcontent\u001b[0m\u001b[0;34m)\u001b[0m\u001b[0;34m\u001b[0m\u001b[0;34m\u001b[0m\u001b[0m\n",
      "\u001b[0;31mHttpError\u001b[0m: <HttpError 400 when requesting https://earthengine.googleapis.com/v1/projects/earthengine-legacy/table:export?alt=json returned \"A different Operation was already started with the given request_id.\". Details: \"A different Operation was already started with the given request_id.\">",
      "\nDuring handling of the above exception, another exception occurred:\n",
      "\u001b[0;31mEEException\u001b[0m                               Traceback (most recent call last)",
      "\u001b[0;32m/var/folders/ly/rgjn5pn521xds5tj0m76ys_40000gn/T/ipykernel_42467/212361563.py\u001b[0m in \u001b[0;36m<module>\u001b[0;34m\u001b[0m\n\u001b[1;32m      1\u001b[0m \u001b[0;31m# Start the export task\u001b[0m\u001b[0;34m\u001b[0m\u001b[0;34m\u001b[0m\u001b[0m\n\u001b[0;32m----> 2\u001b[0;31m \u001b[0mexport_task\u001b[0m\u001b[0;34m.\u001b[0m\u001b[0mstart\u001b[0m\u001b[0;34m(\u001b[0m\u001b[0;34m)\u001b[0m\u001b[0;34m\u001b[0m\u001b[0;34m\u001b[0m\u001b[0m\n\u001b[0m\u001b[1;32m      3\u001b[0m \u001b[0;34m\u001b[0m\u001b[0m\n\u001b[1;32m      4\u001b[0m \u001b[0;31m# Wait for the export task to complete\u001b[0m\u001b[0;34m\u001b[0m\u001b[0;34m\u001b[0m\u001b[0m\n\u001b[1;32m      5\u001b[0m \u001b[0;32mimport\u001b[0m \u001b[0mtime\u001b[0m\u001b[0;34m\u001b[0m\u001b[0;34m\u001b[0m\u001b[0m\n",
      "\u001b[0;32m~/opt/anaconda3/lib/python3.9/site-packages/ee/batch.py\u001b[0m in \u001b[0;36mstart\u001b[0;34m(self)\u001b[0m\n\u001b[1;32m     92\u001b[0m       \u001b[0mresult\u001b[0m \u001b[0;34m=\u001b[0m \u001b[0mdata\u001b[0m\u001b[0;34m.\u001b[0m\u001b[0mexportMap\u001b[0m\u001b[0;34m(\u001b[0m\u001b[0mself\u001b[0m\u001b[0;34m.\u001b[0m\u001b[0m_request_id\u001b[0m\u001b[0;34m,\u001b[0m \u001b[0mself\u001b[0m\u001b[0;34m.\u001b[0m\u001b[0mconfig\u001b[0m\u001b[0;34m)\u001b[0m\u001b[0;34m\u001b[0m\u001b[0;34m\u001b[0m\u001b[0m\n\u001b[1;32m     93\u001b[0m     \u001b[0;32melif\u001b[0m \u001b[0mself\u001b[0m\u001b[0;34m.\u001b[0m\u001b[0mtask_type\u001b[0m \u001b[0;34m==\u001b[0m \u001b[0mTask\u001b[0m\u001b[0;34m.\u001b[0m\u001b[0mType\u001b[0m\u001b[0;34m.\u001b[0m\u001b[0mEXPORT_TABLE\u001b[0m\u001b[0;34m:\u001b[0m\u001b[0;34m\u001b[0m\u001b[0;34m\u001b[0m\u001b[0m\n\u001b[0;32m---> 94\u001b[0;31m       \u001b[0mresult\u001b[0m \u001b[0;34m=\u001b[0m \u001b[0mdata\u001b[0m\u001b[0;34m.\u001b[0m\u001b[0mexportTable\u001b[0m\u001b[0;34m(\u001b[0m\u001b[0mself\u001b[0m\u001b[0;34m.\u001b[0m\u001b[0m_request_id\u001b[0m\u001b[0;34m,\u001b[0m \u001b[0mself\u001b[0m\u001b[0;34m.\u001b[0m\u001b[0mconfig\u001b[0m\u001b[0;34m)\u001b[0m\u001b[0;34m\u001b[0m\u001b[0;34m\u001b[0m\u001b[0m\n\u001b[0m\u001b[1;32m     95\u001b[0m     \u001b[0;32melif\u001b[0m \u001b[0mself\u001b[0m\u001b[0;34m.\u001b[0m\u001b[0mtask_type\u001b[0m \u001b[0;34m==\u001b[0m \u001b[0mTask\u001b[0m\u001b[0;34m.\u001b[0m\u001b[0mType\u001b[0m\u001b[0;34m.\u001b[0m\u001b[0mEXPORT_VIDEO\u001b[0m\u001b[0;34m:\u001b[0m\u001b[0;34m\u001b[0m\u001b[0;34m\u001b[0m\u001b[0m\n\u001b[1;32m     96\u001b[0m       \u001b[0mresult\u001b[0m \u001b[0;34m=\u001b[0m \u001b[0mdata\u001b[0m\u001b[0;34m.\u001b[0m\u001b[0mexportVideo\u001b[0m\u001b[0;34m(\u001b[0m\u001b[0mself\u001b[0m\u001b[0;34m.\u001b[0m\u001b[0m_request_id\u001b[0m\u001b[0;34m,\u001b[0m \u001b[0mself\u001b[0m\u001b[0;34m.\u001b[0m\u001b[0mconfig\u001b[0m\u001b[0;34m)\u001b[0m\u001b[0;34m\u001b[0m\u001b[0;34m\u001b[0m\u001b[0m\n",
      "\u001b[0;32m~/opt/anaconda3/lib/python3.9/site-packages/ee/data.py\u001b[0m in \u001b[0;36mexportTable\u001b[0;34m(request_id, params)\u001b[0m\n\u001b[1;32m   1586\u001b[0m   \"\"\"\n\u001b[1;32m   1587\u001b[0m   \u001b[0mparams\u001b[0m \u001b[0;34m=\u001b[0m \u001b[0mparams\u001b[0m\u001b[0;34m.\u001b[0m\u001b[0mcopy\u001b[0m\u001b[0;34m(\u001b[0m\u001b[0;34m)\u001b[0m\u001b[0;34m\u001b[0m\u001b[0;34m\u001b[0m\u001b[0m\n\u001b[0;32m-> 1588\u001b[0;31m   return _prepare_and_run_export(\n\u001b[0m\u001b[1;32m   1589\u001b[0m       \u001b[0mrequest_id\u001b[0m\u001b[0;34m,\u001b[0m \u001b[0mparams\u001b[0m\u001b[0;34m,\u001b[0m \u001b[0m_get_cloud_projects\u001b[0m\u001b[0;34m(\u001b[0m\u001b[0;34m)\u001b[0m\u001b[0;34m.\u001b[0m\u001b[0mtable\u001b[0m\u001b[0;34m(\u001b[0m\u001b[0;34m)\u001b[0m\u001b[0;34m.\u001b[0m\u001b[0mexport\u001b[0m\u001b[0;34m\u001b[0m\u001b[0;34m\u001b[0m\u001b[0m\n\u001b[1;32m   1590\u001b[0m   )\n",
      "\u001b[0;32m~/opt/anaconda3/lib/python3.9/site-packages/ee/data.py\u001b[0m in \u001b[0;36m_prepare_and_run_export\u001b[0;34m(request_id, params, export_endpoint)\u001b[0m\n\u001b[1;32m   1674\u001b[0m         params['expression'], for_cloud_api=True)\n\u001b[1;32m   1675\u001b[0m   \u001b[0mnum_retries\u001b[0m \u001b[0;34m=\u001b[0m \u001b[0mMAX_RETRIES\u001b[0m \u001b[0;32mif\u001b[0m \u001b[0mrequest_id\u001b[0m \u001b[0;32melse\u001b[0m \u001b[0;36m0\u001b[0m\u001b[0;34m\u001b[0m\u001b[0;34m\u001b[0m\u001b[0m\n\u001b[0;32m-> 1676\u001b[0;31m   return _execute_cloud_call(\n\u001b[0m\u001b[1;32m   1677\u001b[0m       \u001b[0mexport_endpoint\u001b[0m\u001b[0;34m(\u001b[0m\u001b[0mproject\u001b[0m\u001b[0;34m=\u001b[0m\u001b[0m_get_projects_path\u001b[0m\u001b[0;34m(\u001b[0m\u001b[0;34m)\u001b[0m\u001b[0;34m,\u001b[0m \u001b[0mbody\u001b[0m\u001b[0;34m=\u001b[0m\u001b[0mparams\u001b[0m\u001b[0;34m)\u001b[0m\u001b[0;34m,\u001b[0m\u001b[0;34m\u001b[0m\u001b[0;34m\u001b[0m\u001b[0m\n\u001b[1;32m   1678\u001b[0m       num_retries=num_retries)\n",
      "\u001b[0;32m~/opt/anaconda3/lib/python3.9/site-packages/ee/data.py\u001b[0m in \u001b[0;36m_execute_cloud_call\u001b[0;34m(call, num_retries)\u001b[0m\n\u001b[1;32m    342\u001b[0m     \u001b[0;32mreturn\u001b[0m \u001b[0mcall\u001b[0m\u001b[0;34m.\u001b[0m\u001b[0mexecute\u001b[0m\u001b[0;34m(\u001b[0m\u001b[0mnum_retries\u001b[0m\u001b[0;34m=\u001b[0m\u001b[0mnum_retries\u001b[0m\u001b[0;34m)\u001b[0m\u001b[0;34m\u001b[0m\u001b[0;34m\u001b[0m\u001b[0m\n\u001b[1;32m    343\u001b[0m   \u001b[0;32mexcept\u001b[0m \u001b[0mgoogleapiclient\u001b[0m\u001b[0;34m.\u001b[0m\u001b[0merrors\u001b[0m\u001b[0;34m.\u001b[0m\u001b[0mHttpError\u001b[0m \u001b[0;32mas\u001b[0m \u001b[0me\u001b[0m\u001b[0;34m:\u001b[0m\u001b[0;34m\u001b[0m\u001b[0;34m\u001b[0m\u001b[0m\n\u001b[0;32m--> 344\u001b[0;31m     \u001b[0;32mraise\u001b[0m \u001b[0m_translate_cloud_exception\u001b[0m\u001b[0;34m(\u001b[0m\u001b[0me\u001b[0m\u001b[0;34m)\u001b[0m\u001b[0;34m\u001b[0m\u001b[0;34m\u001b[0m\u001b[0m\n\u001b[0m\u001b[1;32m    345\u001b[0m \u001b[0;34m\u001b[0m\u001b[0m\n\u001b[1;32m    346\u001b[0m \u001b[0;34m\u001b[0m\u001b[0m\n",
      "\u001b[0;31mEEException\u001b[0m: A different Operation was already started with the given request_id."
     ]
    }
   ],
   "source": [
    "# Start the export task\n",
    "export_task.start()\n",
    "\n",
    "# Wait for the export task to complete\n",
    "import time\n",
    "while export_task.status()['state'] == 'RUNNING':\n",
    "    time.sleep(30)  # Increased delay to 30 seconds\n",
    "    print(\"Export task is still running...\")\n",
    "\n",
    "# Check if the export task completed successfully\n",
    "if export_task.status()['state'] == 'COMPLETED':\n",
    "    # Get the URL of the exported file\n",
    "    export_url = export_task.status()['destinationUrl']\n",
    "    print(\"File saved at:\", export_url)\n",
    "else:\n",
    "    print(\"Export task failed:\", export_task.status())"
   ]
  },
  {
   "cell_type": "code",
   "execution_count": null,
   "id": "b0e43142-63d3-44e3-94a2-c6596c643734",
   "metadata": {},
   "outputs": [],
   "source": []
  }
 ],
 "metadata": {
  "kernelspec": {
   "display_name": "Python 3 (ipykernel)",
   "language": "python",
   "name": "python3"
  },
  "language_info": {
   "codemirror_mode": {
    "name": "ipython",
    "version": 3
   },
   "file_extension": ".py",
   "mimetype": "text/x-python",
   "name": "python",
   "nbconvert_exporter": "python",
   "pygments_lexer": "ipython3",
   "version": "3.9.15"
  },
  "widgets": {
   "application/vnd.jupyter.widget-state+json": {
    "state": {
     "000879cefa9141029823eabc92cbdae6": {
      "model_module": "@jupyter-widgets/controls",
      "model_module_version": "2.0.0",
      "model_name": "ToggleButtonStyleModel",
      "state": {
       "description_width": "",
       "font_family": null,
       "font_size": null,
       "font_style": null,
       "font_variant": null,
       "font_weight": null,
       "text_color": null,
       "text_decoration": null
      }
     },
     "0029d86b1c044f1c846b07a45e0fba1d": {
      "model_module": "@jupyter-widgets/base",
      "model_module_version": "2.0.0",
      "model_name": "LayoutModel",
      "state": {
       "grid_area": "dircontent",
       "width": "auto"
      }
     },
     "0031f5ebd8ca49f4a35072f7c1aa535c": {
      "model_module": "@jupyter-widgets/controls",
      "model_module_version": "2.0.0",
      "model_name": "ToggleButtonStyleModel",
      "state": {
       "description_width": "",
       "font_family": null,
       "font_size": null,
       "font_style": null,
       "font_variant": null,
       "font_weight": null,
       "text_color": null,
       "text_decoration": null
      }
     },
     "00879a9ba2e446bab4a89d6330afce2c": {
      "model_module": "@jupyter-widgets/controls",
      "model_module_version": "2.0.0",
      "model_name": "ToggleButtonStyleModel",
      "state": {
       "description_width": "",
       "font_family": null,
       "font_size": null,
       "font_style": null,
       "font_variant": null,
       "font_weight": null,
       "text_color": null,
       "text_decoration": null
      }
     },
     "00a40c29956e4754991b9420fe39e25a": {
      "model_module": "ipyevents",
      "model_module_version": "2.0.1",
      "model_name": "EventModel",
      "state": {
       "_supported_key_events": [
        "keydown",
        "keyup"
       ],
       "_supported_mouse_events": [
        "click",
        "auxclick",
        "dblclick",
        "mouseenter",
        "mouseleave",
        "mousedown",
        "mouseup",
        "mousemove",
        "wheel",
        "contextmenu",
        "dragstart",
        "drag",
        "dragend",
        "dragenter",
        "dragover",
        "dragleave",
        "drop"
       ],
       "_supported_touch_events": [
        "touchstart",
        "touchend",
        "touchmove",
        "touchcancel"
       ],
       "_view_module": "@jupyter-widgets/controls",
       "source": "IPY_MODEL_da461103ade34c94a3c176de35cd2f81",
       "throttle_or_debounce": "",
       "watched_events": [
        "mouseenter",
        "mouseleave"
       ],
       "xy_coordinate_system": ""
      }
     },
     "00a7b82864054d29818e8a0791603aed": {
      "model_module": "@jupyter-widgets/controls",
      "model_module_version": "2.0.0",
      "model_name": "VBoxModel",
      "state": {
       "_view_count": 0,
       "children": [
        "IPY_MODEL_d17df59b6edc4e1cb470e5a6127fd4c9"
       ],
       "layout": "IPY_MODEL_0e544ecc16354af29a46d51c68c36f94"
      }
     },
     "01023e5acea24fd18d37d094f529dc9c": {
      "model_module": "@jupyter-widgets/base",
      "model_module_version": "2.0.0",
      "model_name": "LayoutModel",
      "state": {
       "height": "auto",
       "padding": "0px 0px 0px 4px",
       "width": "auto"
      }
     },
     "0112ba8cbcec48739446e9f418ee7ec1": {
      "model_module": "@jupyter-widgets/base",
      "model_module_version": "2.0.0",
      "model_name": "LayoutModel",
      "state": {
       "height": "auto",
       "padding": "0px 0px 0px 4px",
       "width": "auto"
      }
     },
     "01137c91d006455dbb8c8493ae9d3834": {
      "model_module": "@jupyter-widgets/controls",
      "model_module_version": "2.0.0",
      "model_name": "VBoxModel",
      "state": {
       "_view_count": 2,
       "children": [
        "IPY_MODEL_7fd7914dc3044031b1d5a48fa8d97dae"
       ],
       "layout": "IPY_MODEL_b468c6a34e924b7baf91c71d7adc382f"
      }
     },
     "0136667aab5f403ba8b4641d62f38e15": {
      "model_module": "@jupyter-widgets/controls",
      "model_module_version": "2.0.0",
      "model_name": "ToggleButtonModel",
      "state": {
       "button_style": "primary",
       "icon": "line-chart",
       "layout": "IPY_MODEL_dcf94ba67ac74a739d21866bd4ddd8f7",
       "style": "IPY_MODEL_0f87383d8a094fe79c8ef4acb10c6823",
       "tooltip": "Creating and plotting transects"
      }
     },
     "015230b8ca7b42f693723b5d0bab89db": {
      "model_module": "@jupyter-widgets/controls",
      "model_module_version": "2.0.0",
      "model_name": "ToggleButtonStyleModel",
      "state": {
       "description_width": "",
       "font_family": null,
       "font_size": null,
       "font_style": null,
       "font_variant": null,
       "font_weight": null,
       "text_color": null,
       "text_decoration": null
      }
     },
     "01bf56d2e2f24db8947a1655dccf9e82": {
      "model_module": "@jupyter-widgets/controls",
      "model_module_version": "2.0.0",
      "model_name": "ToggleButtonModel",
      "state": {
       "button_style": "primary",
       "icon": "adjust",
       "layout": "IPY_MODEL_d82c0400ec7c4d4c81ae20b6344ff9f4",
       "style": "IPY_MODEL_e0194bbcdf844ecea02f9e42a0fb4d82",
       "tooltip": "Planet imagery"
      }
     },
     "01d99d560931499dbf3b33d40e796823": {
      "model_module": "@jupyter-widgets/base",
      "model_module_version": "2.0.0",
      "model_name": "LayoutModel",
      "state": {
       "height": "25px",
       "padding": "0px 0px 0px 5px",
       "width": "25px"
      }
     },
     "01e3b39cae34472daed3fcdb77495122": {
      "model_module": "jupyter-leaflet",
      "model_module_version": "^0.17",
      "model_name": "LeafletMeasureControlModel",
      "state": {
       "_model_module_version": "^0.17",
       "_view_module_version": "^0.17",
       "active_color": "orange",
       "options": [
        "active_color",
        "capture_z_index",
        "completed_color",
        "popup_options",
        "position",
        "primary_area_unit",
        "primary_length_unit",
        "secondary_area_unit",
        "secondary_length_unit"
       ],
       "position": "bottomleft",
       "primary_length_unit": "kilometers",
       "secondary_area_unit": null,
       "secondary_length_unit": null
      }
     },
     "01eb4d9860e7415ab78dd3ac5a050de6": {
      "model_module": "@jupyter-widgets/base",
      "model_module_version": "2.0.0",
      "model_name": "LayoutModel",
      "state": {
       "height": "auto",
       "padding": "0px 0px 0px 4px",
       "width": "auto"
      }
     },
     "01f948833a1a44f883b3a52cb603730d": {
      "model_module": "jupyter-leaflet",
      "model_module_version": "^0.17",
      "model_name": "LeafletWidgetControlModel",
      "state": {
       "_model_module": "jupyter-leaflet",
       "_model_module_version": "^0.17",
       "_view_count": null,
       "_view_module": "jupyter-leaflet",
       "_view_module_version": "^0.17",
       "options": [
        "position",
        "transparent_bg"
       ],
       "position": "topleft",
       "widget": "IPY_MODEL_9e4dd190cb2e44c3b0cb1214e8af6f3e"
      }
     },
     "020293b63af1423898d7368b347c9f42": {
      "model_module": "@jupyter-widgets/base",
      "model_module_version": "2.0.0",
      "model_name": "LayoutModel",
      "state": {
       "width": "auto"
      }
     },
     "022dc796cf9740b6bb605578e862cfba": {
      "model_module": "@jupyter-widgets/controls",
      "model_module_version": "2.0.0",
      "model_name": "ToggleButtonModel",
      "state": {
       "button_style": "primary",
       "icon": "globe",
       "layout": "IPY_MODEL_a8a483dab44c4466b716e67e7f6e09b2",
       "style": "IPY_MODEL_c54a4102711e4d44819396d15ea3e236",
       "tooltip": "Create timelapse"
      }
     },
     "025a42f5f9b7482fab8c3621d05f0d0b": {
      "model_module": "@jupyter-widgets/controls",
      "model_module_version": "2.0.0",
      "model_name": "ToggleButtonModel",
      "state": {
       "button_style": "primary",
       "icon": "line-chart",
       "layout": "IPY_MODEL_7c2ecdf265734ad9bb4ed8271894e77d",
       "style": "IPY_MODEL_4103d320e8a54b8dac5b2850eceacb91",
       "tooltip": "Creating and plotting transects"
      }
     },
     "02667154610c4a32b0e52471f9e74085": {
      "model_module": "@jupyter-widgets/base",
      "model_module_version": "2.0.0",
      "model_name": "LayoutModel",
      "state": {}
     },
     "02a74533ed394908bf24c69cd6fc9692": {
      "model_module": "@jupyter-widgets/base",
      "model_module_version": "2.0.0",
      "model_name": "LayoutModel",
      "state": {
       "max_width": "57px",
       "min_width": "57px"
      }
     },
     "02afc448a5104cc7b4ca4f5825e877f1": {
      "model_module": "@jupyter-widgets/controls",
      "model_module_version": "2.0.0",
      "model_name": "ToggleButtonModel",
      "state": {
       "button_style": "primary",
       "icon": "line-chart",
       "layout": "IPY_MODEL_62ebba9dd2684b288cf6a497aa4e1b85",
       "style": "IPY_MODEL_3bac3a16107440b19d01787446bf1618",
       "tooltip": "Creating and plotting transects"
      }
     },
     "02b18930614643dc99cf116b3554d436": {
      "model_module": "@jupyter-widgets/controls",
      "model_module_version": "2.0.0",
      "model_name": "ToggleButtonStyleModel",
      "state": {
       "description_width": "",
       "font_family": null,
       "font_size": null,
       "font_style": null,
       "font_variant": null,
       "font_weight": null,
       "text_color": null,
       "text_decoration": null
      }
     },
     "02cfe11378fa4e609080c63b94098fa1": {
      "model_module": "jupyter-leaflet",
      "model_module_version": "^0.17",
      "model_name": "LeafletAttributionControlModel",
      "state": {
       "_model_module_version": "^0.17",
       "_view_module_version": "^0.17",
       "options": [
        "position",
        "prefix"
       ],
       "position": "bottomright",
       "prefix": "ipyleaflet"
      }
     },
     "02fdd7433a8f4b5c89af5bc35014df88": {
      "model_module": "@jupyter-widgets/base",
      "model_module_version": "2.0.0",
      "model_name": "LayoutModel",
      "state": {}
     },
     "03354422c9cd4711be234215e613ba90": {
      "model_module": "@jupyter-widgets/controls",
      "model_module_version": "2.0.0",
      "model_name": "ToggleButtonStyleModel",
      "state": {
       "description_width": "",
       "font_family": null,
       "font_size": null,
       "font_style": null,
       "font_variant": null,
       "font_weight": null,
       "text_color": null,
       "text_decoration": null
      }
     },
     "03432429bf7d4e80857f31132f627167": {
      "model_module": "jupyter-leaflet",
      "model_module_version": "^0.17",
      "model_name": "LeafletTileLayerModel",
      "state": {
       "_model_module_version": "^0.17",
       "_view_module_version": "^0.17",
       "attribution": "&copy; <a href=\"https://www.openstreetmap.org/copyright\">OpenStreetMap</a> contributors",
       "base": true,
       "max_zoom": 19,
       "min_zoom": 1,
       "name": "OpenStreetMap.Mapnik",
       "options": [
        "attribution",
        "bounds",
        "detect_retina",
        "max_native_zoom",
        "max_zoom",
        "min_native_zoom",
        "min_zoom",
        "no_wrap",
        "tile_size",
        "tms",
        "zoom_offset"
       ],
       "url": "https://tile.openstreetmap.org/{z}/{x}/{y}.png"
      }
     },
     "03468900990049cb962b448e2ca63741": {
      "model_module": "@jupyter-widgets/controls",
      "model_module_version": "2.0.0",
      "model_name": "ToggleButtonModel",
      "state": {
       "button_style": "primary",
       "icon": "globe",
       "layout": "IPY_MODEL_6b7d2ac7fbb74392b1e75432597727e3",
       "style": "IPY_MODEL_61f9e8366b9646958aae53f39976bd7d",
       "tooltip": "Create timelapse"
      }
     },
     "034b362541094f5aa6cb72e306722197": {
      "model_module": "@jupyter-widgets/controls",
      "model_module_version": "2.0.0",
      "model_name": "ToggleButtonModel",
      "state": {
       "button_style": "primary",
       "icon": "info-circle",
       "layout": "IPY_MODEL_b16a47717c284bc4a86a43e8a4f0207c",
       "style": "IPY_MODEL_f5f0c65ca5474403ab259a22d5cfa19f",
       "tooltip": "Get COG/STAC pixel value"
      }
     },
     "03562547706140abbea3763560658413": {
      "model_module": "@jupyter-widgets/controls",
      "model_module_version": "2.0.0",
      "model_name": "DescriptionStyleModel",
      "state": {
       "description_width": ""
      }
     },
     "038113f9faba464cb5ed9d2b39524e36": {
      "model_module": "@jupyter-widgets/controls",
      "model_module_version": "2.0.0",
      "model_name": "ToggleButtonModel",
      "state": {
       "button_style": "primary",
       "icon": "fast-forward",
       "layout": "IPY_MODEL_47073197f7314fc987ff4d59243d6253",
       "style": "IPY_MODEL_8509b769916d4240bd1888be612ca2c5",
       "tooltip": "Activate timeslider"
      }
     },
     "03d7324452374280a986a21c83a8f1db": {
      "model_module": "@jupyter-widgets/controls",
      "model_module_version": "2.0.0",
      "model_name": "HBoxModel",
      "state": {
       "children": [
        "IPY_MODEL_ef197fa5542c4de78a888e8092ddd733",
        "IPY_MODEL_5ad35ed71c7345569d4cc1333f3bb493"
       ],
       "layout": "IPY_MODEL_0b46264894c64cf8b481685a99a5150e"
      }
     },
     "03d8a29ff7e94deb90acd64daf3021cd": {
      "model_module": "@jupyter-widgets/controls",
      "model_module_version": "2.0.0",
      "model_name": "DropdownModel",
      "state": {
       "index": null,
       "layout": "IPY_MODEL_e6f4c07db2b140cab36179baa444f665",
       "style": "IPY_MODEL_92b6e05ddb0f47fe8606eeaa89acabfc"
      }
     },
     "03eab4ffa79c4767977a2311d4672eee": {
      "model_module": "jupyter-leaflet",
      "model_module_version": "^0.17",
      "model_name": "LeafletTileLayerModel",
      "state": {
       "_model_module_version": "^0.17",
       "_view_module_version": "^0.17",
       "attribution": "&copy; <a href=\"https://www.openstreetmap.org/copyright\">OpenStreetMap</a> contributors",
       "base": true,
       "max_zoom": 19,
       "min_zoom": 1,
       "name": "OpenStreetMap.Mapnik",
       "options": [
        "attribution",
        "bounds",
        "detect_retina",
        "max_native_zoom",
        "max_zoom",
        "min_native_zoom",
        "min_zoom",
        "no_wrap",
        "tile_size",
        "tms",
        "zoom_offset"
       ],
       "url": "https://tile.openstreetmap.org/{z}/{x}/{y}.png"
      }
     },
     "03f0a9a1c42f480abf3f5ddb2a03178a": {
      "model_module": "@jupyter-widgets/controls",
      "model_module_version": "2.0.0",
      "model_name": "ToggleButtonStyleModel",
      "state": {
       "description_width": "",
       "font_family": null,
       "font_size": null,
       "font_style": null,
       "font_variant": null,
       "font_weight": null,
       "text_color": null,
       "text_decoration": null
      }
     },
     "040fb76f1eb44d79852fd43d823aee90": {
      "model_module": "jupyter-leaflet",
      "model_module_version": "^0.17",
      "model_name": "LeafletFullScreenControlModel",
      "state": {
       "_model_module_version": "^0.17",
       "_view_module_version": "^0.17",
       "options": [
        "position"
       ]
      }
     },
     "043009c2fb284464abff24395fa1b27b": {
      "model_module": "@jupyter-widgets/controls",
      "model_module_version": "2.0.0",
      "model_name": "ToggleButtonStyleModel",
      "state": {
       "description_width": "",
       "font_family": null,
       "font_size": null,
       "font_style": null,
       "font_variant": null,
       "font_weight": null,
       "text_color": null,
       "text_decoration": null
      }
     },
     "043c0539254448029f87d78026850cac": {
      "model_module": "@jupyter-widgets/base",
      "model_module_version": "2.0.0",
      "model_name": "LayoutModel",
      "state": {}
     },
     "045c93e5817f415dab7b640ad4e15908": {
      "model_module": "ipyevents",
      "model_module_version": "2.0.1",
      "model_name": "EventModel",
      "state": {
       "_supported_key_events": [
        "keydown",
        "keyup"
       ],
       "_supported_mouse_events": [
        "click",
        "auxclick",
        "dblclick",
        "mouseenter",
        "mouseleave",
        "mousedown",
        "mouseup",
        "mousemove",
        "wheel",
        "contextmenu",
        "dragstart",
        "drag",
        "dragend",
        "dragenter",
        "dragover",
        "dragleave",
        "drop"
       ],
       "_supported_touch_events": [
        "touchstart",
        "touchend",
        "touchmove",
        "touchcancel"
       ],
       "_view_module": "@jupyter-widgets/controls",
       "source": "IPY_MODEL_c3294f2894a44b81ad485ff2e0e1a611",
       "throttle_or_debounce": "",
       "watched_events": [
        "mouseenter",
        "mouseleave"
       ],
       "xy_coordinate_system": ""
      }
     },
     "047416db15124149b1b45f9877e39831": {
      "model_module": "@jupyter-widgets/controls",
      "model_module_version": "2.0.0",
      "model_name": "RadioButtonsModel",
      "state": {
       "index": null,
       "layout": "IPY_MODEL_9ffca4a5d22942fe912699678a1298bc",
       "style": "IPY_MODEL_adba746e327e47cd9bde38207fc8fb11"
      }
     },
     "04841e0220d147df96e84d413dea3786": {
      "model_module": "jupyter-leaflet",
      "model_module_version": "^0.17",
      "model_name": "LeafletTileLayerModel",
      "state": {
       "_model_module_version": "^0.17",
       "_view_module_version": "^0.17",
       "attribution": "Google",
       "max_zoom": 24,
       "name": "Google Maps",
       "options": [
        "attribution",
        "bounds",
        "detect_retina",
        "max_native_zoom",
        "max_zoom",
        "min_native_zoom",
        "min_zoom",
        "no_wrap",
        "tile_size",
        "tms",
        "zoom_offset"
       ],
       "url": "https://mt1.google.com/vt/lyrs=m&x={x}&y={y}&z={z}"
      }
     },
     "04c269f0e57c4dc8920f5087546d917e": {
      "model_module": "@jupyter-widgets/base",
      "model_module_version": "2.0.0",
      "model_name": "LayoutModel",
      "state": {}
     },
     "050e3654ad61488fa21587b22fa48ef5": {
      "model_module": "@jupyter-widgets/controls",
      "model_module_version": "2.0.0",
      "model_name": "ToggleButtonModel",
      "state": {
       "button_style": "primary",
       "icon": "info",
       "layout": "IPY_MODEL_d5b0ca0fe0184cab85c0710ab675f1d4",
       "style": "IPY_MODEL_6a30f13db25048609eb48debd9772566",
       "tooltip": "Inspector"
      }
     },
     "05162debe40d4ac6a3af69737706fca2": {
      "model_module": "@jupyter-widgets/base",
      "model_module_version": "2.0.0",
      "model_name": "LayoutModel",
      "state": {
       "height": "28px",
       "padding": "0px 0px 0px 4px",
       "width": "28px"
      }
     },
     "051dc65ed23249f5bbbf893e7dd5f6b3": {
      "model_module": "@jupyter-widgets/controls",
      "model_module_version": "2.0.0",
      "model_name": "ToggleButtonModel",
      "state": {
       "icon": "globe",
       "layout": "IPY_MODEL_41b13104a7cc46f9a832725c3d544087",
       "style": "IPY_MODEL_954a6f0da0d04f74bfb2849d7f17f927",
       "tooltip": "Search location/data"
      }
     },
     "0533e062c56a47ac8247813b4ccfe531": {
      "model_module": "@jupyter-widgets/base",
      "model_module_version": "2.0.0",
      "model_name": "LayoutModel",
      "state": {
       "height": "auto",
       "padding": "0px 0px 0px 4px",
       "width": "auto"
      }
     },
     "056cdc3fe99941f498d12b2c1d2ff7e3": {
      "model_module": "@jupyter-widgets/controls",
      "model_module_version": "2.0.0",
      "model_name": "ToggleButtonsModel",
      "state": {
       "_options_labels": [
        "name/address",
        "lat-lon",
        "data"
       ],
       "button_style": "",
       "icons": [],
       "index": 0,
       "layout": "IPY_MODEL_44df243f30f44d81bbb41606628ac5bc",
       "style": "IPY_MODEL_604e7f52e9244ff789a619be0c2da743",
       "tooltips": [
        "Search by place name or address",
        "Search by lat-lon coordinates",
        "Search Earth Engine data catalog"
       ]
      }
     },
     "057b80d98f344a51a6349b980e4330c4": {
      "model_module": "@jupyter-widgets/controls",
      "model_module_version": "2.0.0",
      "model_name": "ToggleButtonStyleModel",
      "state": {
       "description_width": "",
       "font_family": null,
       "font_size": null,
       "font_style": null,
       "font_variant": null,
       "font_weight": null,
       "text_color": null,
       "text_decoration": null
      }
     },
     "0589077ab9274c499c910469183f2676": {
      "model_module": "@jupyter-widgets/controls",
      "model_module_version": "2.0.0",
      "model_name": "ButtonStyleModel",
      "state": {
       "font_family": null,
       "font_size": null,
       "font_style": null,
       "font_variant": null,
       "font_weight": null,
       "text_color": null,
       "text_decoration": null
      }
     },
     "059bcd1c184c4532a90b68239e707b19": {
      "model_module": "@jupyter-widgets/controls",
      "model_module_version": "2.0.0",
      "model_name": "ToggleButtonStyleModel",
      "state": {
       "description_width": "",
       "font_family": null,
       "font_size": null,
       "font_style": null,
       "font_variant": null,
       "font_weight": null,
       "text_color": null,
       "text_decoration": null
      }
     },
     "05a8548ac29d43519aae826f2d348187": {
      "model_module": "@jupyter-widgets/base",
      "model_module_version": "2.0.0",
      "model_name": "LayoutModel",
      "state": {
       "max_width": "57px",
       "min_width": "57px"
      }
     },
     "05b563c3496f4fab8be1e51c9bb713e4": {
      "model_module": "@jupyter-widgets/controls",
      "model_module_version": "2.0.0",
      "model_name": "ToggleButtonModel",
      "state": {
       "icon": "gear",
       "layout": "IPY_MODEL_37b6013768864a1da245cf9b8f497481",
       "style": "IPY_MODEL_f3a76a0d8cd841dea61704c4c0ad4a46",
       "tooltip": "New Delhi"
      }
     },
     "05d96c3c38724927a0c4faf58f6d9cdc": {
      "model_module": "@jupyter-widgets/controls",
      "model_module_version": "2.0.0",
      "model_name": "VBoxModel",
      "state": {
       "children": [
        "IPY_MODEL_e0e495b1fb024d9882836ad303ac2161",
        "IPY_MODEL_b9d0cf511a474a2c9cb2f692a4a57870"
       ],
       "layout": "IPY_MODEL_4577bffc731647249b15edc98661fa8a"
      }
     },
     "05e92c2810294cc99cfcd727b1edcd7a": {
      "model_module": "@jupyter-widgets/base",
      "model_module_version": "2.0.0",
      "model_name": "LayoutModel",
      "state": {
       "width": "340px"
      }
     },
     "05fb21bdfaba46a288d4c3f9e4978b5e": {
      "model_module": "@jupyter-widgets/base",
      "model_module_version": "2.0.0",
      "model_name": "LayoutModel",
      "state": {
       "height": "28px",
       "padding": "0px 0px 0px 4px",
       "width": "28px"
      }
     },
     "05fe100eb2b444b1a8e3c6e2a9547994": {
      "model_module": "@jupyter-widgets/controls",
      "model_module_version": "2.0.0",
      "model_name": "ToggleButtonStyleModel",
      "state": {
       "description_width": "",
       "font_family": null,
       "font_size": null,
       "font_style": null,
       "font_variant": null,
       "font_weight": null,
       "text_color": null,
       "text_decoration": null
      }
     },
     "06923c69bad5414cbbdf22195ae9c68a": {
      "model_module": "@jupyter-widgets/base",
      "model_module_version": "2.0.0",
      "model_name": "LayoutModel",
      "state": {
       "height": "28px",
       "width": "72px"
      }
     },
     "06b36caa0ee84caeb01eb2ab2a368952": {
      "model_module": "@jupyter-widgets/base",
      "model_module_version": "2.0.0",
      "model_name": "LayoutModel",
      "state": {}
     },
     "06b512f871194000b28f451ddbff05dc": {
      "model_module": "@jupyter-widgets/controls",
      "model_module_version": "2.0.0",
      "model_name": "HBoxModel",
      "state": {
       "_view_count": 0,
       "children": [
        "IPY_MODEL_ac46669053d9447594a3e9b674285dcf"
       ],
       "layout": "IPY_MODEL_1ac371347f224f6f9719fa3da368c9e7"
      }
     },
     "06ba75180caa403cb6eaab16bc77fd88": {
      "model_module": "@jupyter-widgets/controls",
      "model_module_version": "2.0.0",
      "model_name": "DropdownModel",
      "state": {
       "index": null,
       "layout": "IPY_MODEL_eb685791450e40e0ba08591999bc6d2e",
       "style": "IPY_MODEL_73a3ee8c098445c89f7f6b17e1e3d787"
      }
     },
     "06d859f14777465f91849bc2fca71ac8": {
      "model_module": "@jupyter-widgets/base",
      "model_module_version": "2.0.0",
      "model_name": "LayoutModel",
      "state": {
       "height": "auto",
       "padding": "0px 0px 0px 4px",
       "width": "auto"
      }
     },
     "06daad7159374a47a06bbd0f8b2d0125": {
      "model_module": "jupyter-leaflet",
      "model_module_version": "^0.17",
      "model_name": "LeafletTileLayerModel",
      "state": {
       "_model_module_version": "^0.17",
       "_view_module_version": "^0.17",
       "attribution": "Google",
       "max_zoom": 24,
       "name": "Google Maps",
       "options": [
        "attribution",
        "bounds",
        "detect_retina",
        "max_native_zoom",
        "max_zoom",
        "min_native_zoom",
        "min_zoom",
        "no_wrap",
        "tile_size",
        "tms",
        "zoom_offset"
       ],
       "url": "https://mt1.google.com/vt/lyrs=m&x={x}&y={y}&z={z}"
      }
     },
     "06f231bccb8d47d3953a749b5609e47d": {
      "model_module": "@jupyter-widgets/controls",
      "model_module_version": "2.0.0",
      "model_name": "ToggleButtonStyleModel",
      "state": {
       "description_width": "",
       "font_family": null,
       "font_size": null,
       "font_style": null,
       "font_variant": null,
       "font_weight": null,
       "text_color": null,
       "text_decoration": null
      }
     },
     "0704e16fd0f14e5f87c91dabbcf50bed": {
      "model_module": "@jupyter-widgets/controls",
      "model_module_version": "2.0.0",
      "model_name": "ToggleButtonStyleModel",
      "state": {
       "description_width": "",
       "font_family": null,
       "font_size": null,
       "font_style": null,
       "font_variant": null,
       "font_weight": null,
       "text_color": null,
       "text_decoration": null
      }
     },
     "072d620f9ace45c6a20a77116ae4ca73": {
      "model_module": "@jupyter-widgets/controls",
      "model_module_version": "2.0.0",
      "model_name": "ToggleButtonStyleModel",
      "state": {
       "description_width": "",
       "font_family": null,
       "font_size": null,
       "font_style": null,
       "font_variant": null,
       "font_weight": null,
       "text_color": null,
       "text_decoration": null
      }
     },
     "075a4678ba3e4ad9bea8e040ecd1f5e3": {
      "model_module": "@jupyter-widgets/controls",
      "model_module_version": "2.0.0",
      "model_name": "RadioButtonsModel",
      "state": {
       "index": null,
       "layout": "IPY_MODEL_0cc8d58577764d1480c039051c08b62b",
       "style": "IPY_MODEL_4158ab557c3e4aa4bb15b688bfc8b011"
      }
     },
     "075b0eef0de344199ab33305e0f87752": {
      "model_module": "jupyter-leaflet",
      "model_module_version": "^0.17",
      "model_name": "LeafletTileLayerModel",
      "state": {
       "_model_module_version": "^0.17",
       "_view_module_version": "^0.17",
       "attribution": "Google Earth Engine",
       "max_zoom": 24,
       "name": "Second Level Administrative Units",
       "options": [
        "attribution",
        "bounds",
        "detect_retina",
        "max_native_zoom",
        "max_zoom",
        "min_native_zoom",
        "min_zoom",
        "no_wrap",
        "tile_size",
        "tms",
        "zoom_offset"
       ],
       "url": "https://earthengine.googleapis.com/v1/projects/earthengine-legacy/maps/b6c709d492e1674d293a033202b58450-8690c9452b8b40f74b53fb53e3a71447/tiles/{z}/{x}/{y}"
      }
     },
     "0761b75c90d840aeabbeaefb15afb818": {
      "model_module": "jupyter-leaflet",
      "model_module_version": "^0.17",
      "model_name": "LeafletMapStyleModel",
      "state": {
       "_model_module_version": "^0.17"
      }
     },
     "0799e417f4b24f3fb5e0d39c9835779f": {
      "model_module": "@jupyter-widgets/controls",
      "model_module_version": "2.0.0",
      "model_name": "ToggleButtonModel",
      "state": {
       "button_style": "primary",
       "icon": "globe",
       "layout": "IPY_MODEL_5116e8ff56ce4f6ca39d2cf90f955536",
       "style": "IPY_MODEL_d6afff66f64b47eabe0a7892a051c7ec",
       "tooltip": "Create timelapse"
      }
     },
     "07c8b83d10ea4f69b1c62356ee5546ea": {
      "model_module": "@jupyter-widgets/base",
      "model_module_version": "2.0.0",
      "model_name": "LayoutModel",
      "state": {}
     },
     "07cb622a9b0b47528b0d17b107a6c804": {
      "model_module": "@jupyter-widgets/controls",
      "model_module_version": "2.0.0",
      "model_name": "DescriptionStyleModel",
      "state": {
       "description_width": ""
      }
     },
     "07dffdb038004cbaa3af94468d166d23": {
      "model_module": "@jupyter-widgets/controls",
      "model_module_version": "2.0.0",
      "model_name": "CheckboxStyleModel",
      "state": {
       "description_width": ""
      }
     },
     "07f573f869e1414f9bb7845246a2cc88": {
      "model_module": "@jupyter-widgets/controls",
      "model_module_version": "2.0.0",
      "model_name": "HTMLModel",
      "state": {
       "layout": "IPY_MODEL_e121b846d4c446eb8f764a0b1da57f49",
       "style": "IPY_MODEL_856e38767501432a8c0d0ca50e7333c4"
      }
     },
     "07fba864fcba4fa8b703ac1b999d2cab": {
      "model_module": "@jupyter-widgets/base",
      "model_module_version": "2.0.0",
      "model_name": "LayoutModel",
      "state": {
       "height": "auto",
       "padding": "0px 0px 0px 4px",
       "width": "auto"
      }
     },
     "0839f7dfffeb498493baf4a27a9fdde8": {
      "model_module": "jupyter-leaflet",
      "model_module_version": "^0.17",
      "model_name": "LeafletAttributionControlModel",
      "state": {
       "_model_module_version": "^0.17",
       "_view_module_version": "^0.17",
       "options": [
        "position",
        "prefix"
       ],
       "position": "bottomright",
       "prefix": "ipyleaflet"
      }
     },
     "085ba3e51dcc4fa69310fec0c55adab0": {
      "model_module": "@jupyter-widgets/controls",
      "model_module_version": "2.0.0",
      "model_name": "ToggleButtonModel",
      "state": {
       "icon": "globe",
       "layout": "IPY_MODEL_4bb7ff88bcab41b9920b55f7a63b08f5",
       "style": "IPY_MODEL_0c122631950040d0bbc71fe5ff759489",
       "tooltip": "Search location/data"
      }
     },
     "089bde116be4455baceae9cc5eca6073": {
      "model_module": "@jupyter-widgets/base",
      "model_module_version": "2.0.0",
      "model_name": "LayoutModel",
      "state": {
       "max_height": "500px",
       "width": "630px"
      }
     },
     "08a8cf9f380842d29ce38130ee53719b": {
      "model_module": "@jupyter-widgets/output",
      "model_module_version": "1.0.0",
      "model_name": "OutputModel",
      "state": {
       "layout": "IPY_MODEL_859ac43e52ac4b74a3f212a830d5a2c8"
      }
     },
     "08c9f4d8551747e682e88e25e0554a0b": {
      "model_module": "@jupyter-widgets/controls",
      "model_module_version": "2.0.0",
      "model_name": "HTMLStyleModel",
      "state": {
       "description_width": "",
       "font_size": null,
       "text_color": null
      }
     },
     "08d33232e0c54cb88fe52a86d2885045": {
      "model_module": "@jupyter-widgets/controls",
      "model_module_version": "2.0.0",
      "model_name": "ToggleButtonModel",
      "state": {
       "button_style": "primary",
       "icon": "plus",
       "layout": "IPY_MODEL_633cfd5514c54b9b981c84c73b260e42",
       "style": "IPY_MODEL_415eac8d4087413a85697641ea9aec93",
       "tooltip": "Expand toolbar"
      }
     },
     "08f7ef3beafa455eb5fdc8bbe1311cae": {
      "model_module": "@jupyter-widgets/base",
      "model_module_version": "2.0.0",
      "model_name": "LayoutModel",
      "state": {
       "height": "auto",
       "padding": "0px 0px 0px 4px",
       "width": "auto"
      }
     },
     "08f98c47cf4a4755b4cd14c3944bf85a": {
      "model_module": "@jupyter-widgets/controls",
      "model_module_version": "2.0.0",
      "model_name": "ToggleButtonModel",
      "state": {
       "button_style": "primary",
       "icon": "info-circle",
       "layout": "IPY_MODEL_db8c198851d442f49d55774701ed8dd5",
       "style": "IPY_MODEL_66fe7dcc068f43d18b978c9f0dea3c43",
       "tooltip": "Get COG/STAC pixel value"
      }
     },
     "091b0eb2602146e99e726089ea4ac19c": {
      "model_module": "@jupyter-widgets/controls",
      "model_module_version": "2.0.0",
      "model_name": "ButtonModel",
      "state": {
       "button_style": "primary",
       "description": "import",
       "layout": "IPY_MODEL_33dad25715d146a18b78dfd9a108e206",
       "style": "IPY_MODEL_4fb38ef2625e44a7a7e9fe4c7d9e623b",
       "tooltip": "Click to import the selected asset"
      }
     },
     "092bc042f541424ab9ef240ba0d689bb": {
      "model_module": "@jupyter-widgets/base",
      "model_module_version": "2.0.0",
      "model_name": "LayoutModel",
      "state": {
       "height": "auto",
       "padding": "0px 0px 0px 4px",
       "width": "auto"
      }
     },
     "092e196da8764897865a55c89aa5383c": {
      "model_module": "jupyter-leaflet",
      "model_module_version": "^0.17",
      "model_name": "LeafletWidgetControlModel",
      "state": {
       "_model_module": "jupyter-leaflet",
       "_model_module_version": "^0.17",
       "_view_count": null,
       "_view_module": "jupyter-leaflet",
       "_view_module_version": "^0.17",
       "options": [
        "position",
        "transparent_bg"
       ],
       "position": "topleft",
       "widget": "IPY_MODEL_da461103ade34c94a3c176de35cd2f81"
      }
     },
     "0952c685d6c445348d8e60f2e8077182": {
      "model_module": "@jupyter-widgets/base",
      "model_module_version": "2.0.0",
      "model_name": "LayoutModel",
      "state": {
       "width": "80px"
      }
     },
     "0978d754350f43f99ff2a773d51d180b": {
      "model_module": "@jupyter-widgets/base",
      "model_module_version": "2.0.0",
      "model_name": "LayoutModel",
      "state": {}
     },
     "098d8d39f22d46149cc0c73308206b17": {
      "model_module": "jupyter-leaflet",
      "model_module_version": "^0.17",
      "model_name": "LeafletTileLayerModel",
      "state": {
       "_model_module_version": "^0.17",
       "_view_module_version": "^0.17",
       "attribution": "Google Earth Engine",
       "max_zoom": 24,
       "name": "New Delhi",
       "options": [
        "attribution",
        "bounds",
        "detect_retina",
        "max_native_zoom",
        "max_zoom",
        "min_native_zoom",
        "min_zoom",
        "no_wrap",
        "tile_size",
        "tms",
        "zoom_offset"
       ],
       "url": "https://earthengine.googleapis.com/v1/projects/earthengine-legacy/maps/00998ae602db08d60e1c5dc4acfc0fdb-8d6f3b6e17e86a7d56f2dce3cbd6a4d1/tiles/{z}/{x}/{y}"
      }
     },
     "0990062e859946c0bec8b9da68a29ee8": {
      "model_module": "jupyter-leaflet",
      "model_module_version": "^0.17",
      "model_name": "LeafletAttributionControlModel",
      "state": {
       "_model_module_version": "^0.17",
       "_view_module_version": "^0.17",
       "options": [
        "position",
        "prefix"
       ],
       "position": "bottomright",
       "prefix": "ipyleaflet"
      }
     },
     "09a1518808f94362b743a7cab6fcc721": {
      "model_module": "@jupyter-widgets/base",
      "model_module_version": "2.0.0",
      "model_name": "LayoutModel",
      "state": {
       "height": "auto",
       "padding": "0px 0px 0px 4px",
       "width": "auto"
      }
     },
     "0a0e43ca82304a68af04ef6f70d0dcea": {
      "model_module": "@jupyter-widgets/controls",
      "model_module_version": "2.0.0",
      "model_name": "ToggleButtonModel",
      "state": {
       "button_style": "primary",
       "icon": "info",
       "layout": "IPY_MODEL_93e8af6e084f4fa8bf90909cbc331356",
       "style": "IPY_MODEL_9d746b3060e14ce0b79720d6fc7a88f0",
       "tooltip": "Inspector"
      }
     },
     "0a15234466604d70806c26dca1854542": {
      "model_module": "@jupyter-widgets/controls",
      "model_module_version": "2.0.0",
      "model_name": "VBoxModel",
      "state": {
       "children": [
        "IPY_MODEL_63ef39cda8e7412291cb6c5868e90ce5"
       ],
       "layout": "IPY_MODEL_f519809956a24592bfc71f75ad3bcb9a"
      }
     },
     "0a668e5718f249a59adbc74df9b25682": {
      "model_module": "jupyter-leaflet",
      "model_module_version": "^0.17",
      "model_name": "LeafletTileLayerModel",
      "state": {
       "_model_module_version": "^0.17",
       "_view_module_version": "^0.17",
       "attribution": "Google Earth Engine",
       "max_zoom": 24,
       "name": "Administrative 2 Regions Surrounding Delhi",
       "options": [
        "attribution",
        "bounds",
        "detect_retina",
        "max_native_zoom",
        "max_zoom",
        "min_native_zoom",
        "min_zoom",
        "no_wrap",
        "tile_size",
        "tms",
        "zoom_offset"
       ],
       "url": "https://earthengine.googleapis.com/v1/projects/earthengine-legacy/maps/883cf9bc1c39191675a0f1d39a6fbba8-c2d8b847d9fe28b25fce2c757759bc21/tiles/{z}/{x}/{y}"
      }
     },
     "0a683a805b324180ba4e063e04f89c4f": {
      "model_module": "@jupyter-widgets/base",
      "model_module_version": "2.0.0",
      "model_name": "LayoutModel",
      "state": {
       "height": "auto",
       "padding": "0px 0px 0px 4px",
       "width": "auto"
      }
     },
     "0a8a8ac40e9445a891be2929a6ea87f5": {
      "model_module": "@jupyter-widgets/controls",
      "model_module_version": "2.0.0",
      "model_name": "ToggleButtonModel",
      "state": {
       "button_style": "primary",
       "icon": "info-circle",
       "layout": "IPY_MODEL_c6b5ad27b40847fbaaa875fd2edb67f1",
       "style": "IPY_MODEL_99f84163842b420bb4e946db36986944",
       "tooltip": "Get COG/STAC pixel value"
      }
     },
     "0ab2c5c7c22f467cb56df726a4dbc793": {
      "model_module": "@jupyter-widgets/controls",
      "model_module_version": "2.0.0",
      "model_name": "RadioButtonsModel",
      "state": {
       "index": null,
       "layout": "IPY_MODEL_575f52ed70f94a14bd0788423be8480a",
       "style": "IPY_MODEL_fec0d2c7f7be4d3188640152740617b3"
      }
     },
     "0b4521b3d8834174acacfe4a3ebf8d7e": {
      "model_module": "ipyevents",
      "model_module_version": "2.0.1",
      "model_name": "EventModel",
      "state": {
       "_supported_key_events": [
        "keydown",
        "keyup"
       ],
       "_supported_mouse_events": [
        "click",
        "auxclick",
        "dblclick",
        "mouseenter",
        "mouseleave",
        "mousedown",
        "mouseup",
        "mousemove",
        "wheel",
        "contextmenu",
        "dragstart",
        "drag",
        "dragend",
        "dragenter",
        "dragover",
        "dragleave",
        "drop"
       ],
       "_supported_touch_events": [
        "touchstart",
        "touchend",
        "touchmove",
        "touchcancel"
       ],
       "_view_module": "@jupyter-widgets/controls",
       "source": "IPY_MODEL_00a7b82864054d29818e8a0791603aed",
       "throttle_or_debounce": "",
       "watched_events": [
        "mouseenter",
        "mouseleave"
       ],
       "xy_coordinate_system": ""
      }
     },
     "0b46264894c64cf8b481685a99a5150e": {
      "model_module": "@jupyter-widgets/base",
      "model_module_version": "2.0.0",
      "model_name": "LayoutModel",
      "state": {}
     },
     "0b576598fceb4ca296702b227da3731b": {
      "model_module": "@jupyter-widgets/base",
      "model_module_version": "2.0.0",
      "model_name": "LayoutModel",
      "state": {
       "height": "auto",
       "padding": "0px 0px 0px 4px",
       "width": "auto"
      }
     },
     "0b5a1bb0de304449a8bf71fb2883dc85": {
      "model_module": "@jupyter-widgets/controls",
      "model_module_version": "2.0.0",
      "model_name": "ToggleButtonStyleModel",
      "state": {
       "description_width": "",
       "font_family": null,
       "font_size": null,
       "font_style": null,
       "font_variant": null,
       "font_weight": null,
       "text_color": null,
       "text_decoration": null
      }
     },
     "0b6d69452a9f4b5ba89e5544a0c4c159": {
      "model_module": "@jupyter-widgets/base",
      "model_module_version": "2.0.0",
      "model_name": "LayoutModel",
      "state": {
       "grid_gap": "1px 1px",
       "grid_template_columns": "32px 32px 32px ",
       "grid_template_rows": "32px 32px ",
       "padding": "5px",
       "width": "109px"
      }
     },
     "0bd01f44811a49f69301d40784b7d5f5": {
      "model_module": "@jupyter-widgets/base",
      "model_module_version": "2.0.0",
      "model_name": "LayoutModel",
      "state": {
       "grid_gap": "1px 1px",
       "grid_template_columns": "32px 32px 32px ",
       "grid_template_rows": "32px 32px ",
       "padding": "5px",
       "width": "109px"
      }
     },
     "0c044d1a9cdd44049186d5a39ac15b14": {
      "model_module": "@jupyter-widgets/controls",
      "model_module_version": "2.0.0",
      "model_name": "ToggleButtonModel",
      "state": {
       "icon": "wrench",
       "layout": "IPY_MODEL_49f6dd274f2e4a6e80514125ea9cfb67",
       "style": "IPY_MODEL_963f4c6dc1324240aca2f623e757c34c",
       "tooltip": "Toolbar"
      }
     },
     "0c122631950040d0bbc71fe5ff759489": {
      "model_module": "@jupyter-widgets/controls",
      "model_module_version": "2.0.0",
      "model_name": "ToggleButtonStyleModel",
      "state": {
       "description_width": "",
       "font_family": null,
       "font_size": null,
       "font_style": null,
       "font_variant": null,
       "font_weight": null,
       "text_color": null,
       "text_decoration": null
      }
     },
     "0c14ba6672d048cd84a401db14535168": {
      "model_module": "@jupyter-widgets/controls",
      "model_module_version": "2.0.0",
      "model_name": "HBoxModel",
      "state": {
       "_view_count": 1,
       "children": [
        "IPY_MODEL_23258197c4ac4cbcbd67c9cfbf4c385c"
       ],
       "layout": "IPY_MODEL_406ee1c043fb49e3b5e680cc5f2b8cd8"
      }
     },
     "0c4a36273ec74c6ea482c485b6ba9ee7": {
      "model_module": "@jupyter-widgets/base",
      "model_module_version": "2.0.0",
      "model_name": "LayoutModel",
      "state": {
       "height": "28px",
       "padding": "0px 0px 0px 4px",
       "width": "28px"
      }
     },
     "0c84aa9b684d4c4d98819d1c1a4146e4": {
      "model_module": "jupyter-leaflet",
      "model_module_version": "^0.17",
      "model_name": "LeafletFullScreenControlModel",
      "state": {
       "_model_module_version": "^0.17",
       "_view_module_version": "^0.17",
       "options": [
        "position"
       ]
      }
     },
     "0c9ed4623a54481c8c4f9b46da635e09": {
      "model_module": "@jupyter-widgets/base",
      "model_module_version": "2.0.0",
      "model_name": "LayoutModel",
      "state": {}
     },
     "0c9fce67ef144f6099a4d698f7289c87": {
      "model_module": "@jupyter-widgets/controls",
      "model_module_version": "2.0.0",
      "model_name": "ToggleButtonStyleModel",
      "state": {
       "description_width": "",
       "font_family": null,
       "font_size": null,
       "font_style": null,
       "font_variant": null,
       "font_weight": null,
       "text_color": null,
       "text_decoration": null
      }
     },
     "0cbfffac196745bbb3c0fbd6f207a92b": {
      "model_module": "@jupyter-widgets/controls",
      "model_module_version": "2.0.0",
      "model_name": "ButtonStyleModel",
      "state": {
       "font_family": null,
       "font_size": null,
       "font_style": null,
       "font_variant": null,
       "font_weight": null,
       "text_color": null,
       "text_decoration": null
      }
     },
     "0cc8d58577764d1480c039051c08b62b": {
      "model_module": "@jupyter-widgets/base",
      "model_module_version": "2.0.0",
      "model_name": "LayoutModel",
      "state": {}
     },
     "0cd622c66a0746ef8e4855fed97a9965": {
      "model_module": "jupyter-leaflet",
      "model_module_version": "^0.17",
      "model_name": "LeafletTileLayerModel",
      "state": {
       "_model_module_version": "^0.17",
       "_view_module_version": "^0.17",
       "attribution": "Google",
       "max_zoom": 24,
       "name": "Google Maps",
       "options": [
        "attribution",
        "bounds",
        "detect_retina",
        "max_native_zoom",
        "max_zoom",
        "min_native_zoom",
        "min_zoom",
        "no_wrap",
        "tile_size",
        "tms",
        "zoom_offset"
       ],
       "url": "https://mt1.google.com/vt/lyrs=m&x={x}&y={y}&z={z}"
      }
     },
     "0cdf14f8b4af446c91437c946a0e0327": {
      "model_module": "jupyter-leaflet",
      "model_module_version": "^0.17",
      "model_name": "LeafletMeasureControlModel",
      "state": {
       "_model_module_version": "^0.17",
       "_view_module_version": "^0.17",
       "active_color": "orange",
       "options": [
        "active_color",
        "capture_z_index",
        "completed_color",
        "popup_options",
        "position",
        "primary_area_unit",
        "primary_length_unit",
        "secondary_area_unit",
        "secondary_length_unit"
       ],
       "position": "bottomleft",
       "primary_length_unit": "kilometers",
       "secondary_area_unit": null,
       "secondary_length_unit": null
      }
     },
     "0cf07308c62b418a97d8d36b286cf734": {
      "model_module": "@jupyter-widgets/controls",
      "model_module_version": "2.0.0",
      "model_name": "ToggleButtonModel",
      "state": {
       "button_style": "primary",
       "icon": "adjust",
       "layout": "IPY_MODEL_c19fd49249ba490aa6732222d61358bb",
       "style": "IPY_MODEL_d2b80e40e9f146ef8ff12c035d563a61",
       "tooltip": "Planet imagery"
      }
     },
     "0d1b1ad78a434bd8be2efc0bd8e9188f": {
      "model_module": "jupyter-leaflet",
      "model_module_version": "^0.17",
      "model_name": "LeafletDrawControlModel",
      "state": {
       "_model_module_version": "^0.17",
       "_view_module_version": "^0.17",
       "marker": {
        "shapeOptions": {
         "color": "#3388ff"
        }
       },
       "options": [
        "position"
       ],
       "polygon": {
        "shapeOptions": {
         "clickable": true,
         "color": "#3388ff",
         "fill": true,
         "fillColor": null,
         "fillOpacity": 0.2,
         "opacity": 0.5,
         "stroke": true,
         "weight": 4
        }
       },
       "polyline": {
        "shapeOptions": {
         "clickable": true,
         "color": "#3388ff",
         "fill": false,
         "opacity": 0.5,
         "stroke": true,
         "weight": 4
        }
       },
       "rectangle": {
        "shapeOptions": {
         "clickable": true,
         "color": "#3388ff",
         "fill": true,
         "fillColor": null,
         "fillOpacity": 0.2,
         "opacity": 0.5,
         "stroke": true,
         "weight": 4
        }
       }
      }
     },
     "0d45d3b74ca541bf943d2156ccf53434": {
      "model_module": "jupyter-leaflet",
      "model_module_version": "^0.17",
      "model_name": "LeafletWidgetControlModel",
      "state": {
       "_model_module": "jupyter-leaflet",
       "_model_module_version": "^0.17",
       "_view_count": null,
       "_view_module": "jupyter-leaflet",
       "_view_module_version": "^0.17",
       "options": [
        "position",
        "transparent_bg"
       ],
       "position": "topright",
       "widget": "IPY_MODEL_b6e5f4055d1c441fbfcd574511377eb3"
      }
     },
     "0d4e453b11ea4590b4b039ecc9b5bd66": {
      "model_module": "@jupyter-widgets/controls",
      "model_module_version": "2.0.0",
      "model_name": "ToggleButtonModel",
      "state": {
       "button_style": "primary",
       "icon": "info",
       "layout": "IPY_MODEL_54ef45380f214e0ba0854f0e0fb205d5",
       "style": "IPY_MODEL_5d23777a266a4206b5b5dfb9620598ec",
       "tooltip": "Inspector"
      }
     },
     "0d64923e2f714e12af6c4a0e29eb6433": {
      "model_module": "@jupyter-widgets/controls",
      "model_module_version": "2.0.0",
      "model_name": "ToggleButtonModel",
      "state": {
       "button_style": "primary",
       "icon": "gears",
       "layout": "IPY_MODEL_ce41a8e577ed44f49a169df632a9dfc0",
       "style": "IPY_MODEL_27538d84c0744b9f8f9e38f734126dee",
       "tooltip": "WhiteboxTools for local geoprocessing"
      }
     },
     "0d8513b95c194f699f113b14e65e98bf": {
      "model_module": "@jupyter-widgets/base",
      "model_module_version": "2.0.0",
      "model_name": "LayoutModel",
      "state": {
       "height": "auto",
       "padding": "0px 0px 0px 4px",
       "width": "auto"
      }
     },
     "0deaf64c0d5d43178a2ea42004b17f41": {
      "model_module": "@jupyter-widgets/controls",
      "model_module_version": "2.0.0",
      "model_name": "FloatSliderModel",
      "state": {
       "behavior": "drag-tap",
       "layout": "IPY_MODEL_0952c685d6c445348d8e60f2e8077182",
       "max": 1,
       "readout": false,
       "step": 0.01,
       "style": "IPY_MODEL_b3e5e673770540b7bfec60a0afd4def7",
       "value": 1
      }
     },
     "0df27ed16e42401d91bde3271044d3c2": {
      "model_module": "@jupyter-widgets/base",
      "model_module_version": "2.0.0",
      "model_name": "LayoutModel",
      "state": {
       "grid_gap": "1px 1px",
       "grid_template_columns": "32px 32px 32px ",
       "grid_template_rows": "32px 32px ",
       "padding": "5px",
       "width": "109px"
      }
     },
     "0e0bb58067704e93a3273bd099d51bcd": {
      "model_module": "@jupyter-widgets/controls",
      "model_module_version": "2.0.0",
      "model_name": "ToggleButtonModel",
      "state": {
       "button_style": "primary",
       "icon": "hand-o-up",
       "layout": "IPY_MODEL_b65dc5915b9d4368b67f15c91f64104c",
       "style": "IPY_MODEL_aa59533148df4190b046f7c3ebded617",
       "tooltip": "Collect training samples"
      }
     },
     "0e16a9c8eb1e46489265aa4a89880a36": {
      "model_module": "@jupyter-widgets/controls",
      "model_module_version": "2.0.0",
      "model_name": "TextModel",
      "state": {
       "layout": "IPY_MODEL_4bf4035bd4584bb38944869bf610b4d7",
       "placeholder": "Search by place name or address",
       "style": "IPY_MODEL_cf179e75febb4e7c8ed1759afa0d8a3f",
       "tooltip": "Search location"
      }
     },
     "0e544ecc16354af29a46d51c68c36f94": {
      "model_module": "@jupyter-widgets/base",
      "model_module_version": "2.0.0",
      "model_name": "LayoutModel",
      "state": {}
     },
     "0f36c229d3bf4d8f8e9db2bcf21f8f60": {
      "model_module": "@jupyter-widgets/controls",
      "model_module_version": "2.0.0",
      "model_name": "ToggleButtonModel",
      "state": {
       "button_style": "primary",
       "icon": "random",
       "layout": "IPY_MODEL_b1f4c0ba0892466691a2c2deb441ce23",
       "style": "IPY_MODEL_e1b0ad21a0254cff8ce069b179feccc8",
       "tooltip": "Sankey plots"
      }
     },
     "0f8238632a594b3f9679aae64a158139": {
      "model_module": "jupyter-leaflet",
      "model_module_version": "^0.17",
      "model_name": "LeafletZoomControlModel",
      "state": {
       "_model_module_version": "^0.17",
       "_view_module_version": "^0.17",
       "options": [
        "position",
        "zoom_in_text",
        "zoom_in_title",
        "zoom_out_text",
        "zoom_out_title"
       ]
      }
     },
     "0f87383d8a094fe79c8ef4acb10c6823": {
      "model_module": "@jupyter-widgets/controls",
      "model_module_version": "2.0.0",
      "model_name": "ToggleButtonStyleModel",
      "state": {
       "description_width": "",
       "font_family": null,
       "font_size": null,
       "font_style": null,
       "font_variant": null,
       "font_weight": null,
       "text_color": null,
       "text_decoration": null
      }
     },
     "0fa164f5540f4b4b8adcf8f7bfe9be8a": {
      "model_module": "@jupyter-widgets/controls",
      "model_module_version": "2.0.0",
      "model_name": "ToggleButtonsModel",
      "state": {
       "_options_labels": [
        "name/address",
        "lat-lon",
        "data"
       ],
       "button_style": "",
       "icons": [],
       "index": 0,
       "layout": "IPY_MODEL_3e972fff2d564be4adb39f2a45c75685",
       "style": "IPY_MODEL_a07fa9ce2b13447e93a75e59973f0b53",
       "tooltips": [
        "Search by place name or address",
        "Search by lat-lon coordinates",
        "Search Earth Engine data catalog"
       ]
      }
     },
     "0fcb5b9dbc304a86ac2321b4a3db44d0": {
      "model_module": "@jupyter-widgets/controls",
      "model_module_version": "2.0.0",
      "model_name": "ToggleButtonStyleModel",
      "state": {
       "description_width": "",
       "font_family": null,
       "font_size": null,
       "font_style": null,
       "font_variant": null,
       "font_weight": null,
       "text_color": null,
       "text_decoration": null
      }
     },
     "0fd08adbd948415aac2e9a051ed6bd7d": {
      "model_module": "@jupyter-widgets/controls",
      "model_module_version": "2.0.0",
      "model_name": "ToggleButtonModel",
      "state": {
       "button_style": "primary",
       "icon": "plus",
       "layout": "IPY_MODEL_8aafc745ce954bcaafc572f0b38af5c5",
       "style": "IPY_MODEL_98531b983ad64fa09696dde974447ccb",
       "tooltip": "Expand toolbar"
      }
     },
     "0fedc42af33d415e80c7a5ba06935ae9": {
      "model_module": "@jupyter-widgets/base",
      "model_module_version": "2.0.0",
      "model_name": "LayoutModel",
      "state": {
       "max_height": "350px",
       "max_width": "340px",
       "overflow": "scroll"
      }
     },
     "0ff921582e0f4cb0977f105b38c47eb7": {
      "model_module": "@jupyter-widgets/controls",
      "model_module_version": "2.0.0",
      "model_name": "ButtonModel",
      "state": {
       "button_style": "primary",
       "description": "import",
       "layout": "IPY_MODEL_f681ae24c9454ec6982ffac5b4bb2ab7",
       "style": "IPY_MODEL_0589077ab9274c499c910469183f2676",
       "tooltip": "Click to import the selected asset"
      }
     },
     "102aae35f15247d0a02ce62c13f05dce": {
      "model_module": "@jupyter-widgets/controls",
      "model_module_version": "2.0.0",
      "model_name": "CheckboxStyleModel",
      "state": {
       "description_width": ""
      }
     },
     "106a8c6229c04865b1de695c61fda38c": {
      "model_module": "@jupyter-widgets/base",
      "model_module_version": "2.0.0",
      "model_name": "LayoutModel",
      "state": {
       "max_height": "350px",
       "max_width": "340px",
       "overflow": "scroll"
      }
     },
     "10b857e81e344a56b96dd49eb7bb63d0": {
      "model_module": "ipyevents",
      "model_module_version": "2.0.1",
      "model_name": "EventModel",
      "state": {
       "_supported_key_events": [
        "keydown",
        "keyup"
       ],
       "_supported_mouse_events": [
        "click",
        "auxclick",
        "dblclick",
        "mouseenter",
        "mouseleave",
        "mousedown",
        "mouseup",
        "mousemove",
        "wheel",
        "contextmenu",
        "dragstart",
        "drag",
        "dragend",
        "dragenter",
        "dragover",
        "dragleave",
        "drop"
       ],
       "_supported_touch_events": [
        "touchstart",
        "touchend",
        "touchmove",
        "touchcancel"
       ],
       "_view_module": "@jupyter-widgets/controls",
       "source": "IPY_MODEL_b6540b6350d04fa4a402c39c113b4e95",
       "throttle_or_debounce": "",
       "watched_events": [
        "mouseenter",
        "mouseleave"
       ],
       "xy_coordinate_system": ""
      }
     },
     "10d345d0521645c190fb3480cb8ffead": {
      "model_module": "@jupyter-widgets/controls",
      "model_module_version": "2.0.0",
      "model_name": "DropdownModel",
      "state": {
       "index": null,
       "layout": "IPY_MODEL_93e8a1ea7755418d8eec57dd031d287c",
       "style": "IPY_MODEL_bf710fa24d504a65a9024ae15dccaa83"
      }
     },
     "10d3e95958f346d483be259d0ec98e97": {
      "model_module": "@jupyter-widgets/base",
      "model_module_version": "2.0.0",
      "model_name": "LayoutModel",
      "state": {
       "height": "28px",
       "padding": "0px 0px 0px 4px",
       "width": "28px"
      }
     },
     "10d46801573d4500a99c089de0c44ba0": {
      "model_module": "jupyter-leaflet",
      "model_module_version": "^0.17",
      "model_name": "LeafletAttributionControlModel",
      "state": {
       "_model_module_version": "^0.17",
       "_view_module_version": "^0.17",
       "options": [
        "position",
        "prefix"
       ],
       "position": "bottomright",
       "prefix": "ipyleaflet"
      }
     },
     "10d60ac744c74e54ba262646dc86e58e": {
      "model_module": "@jupyter-widgets/controls",
      "model_module_version": "2.0.0",
      "model_name": "ToggleButtonModel",
      "state": {
       "icon": "gear",
       "layout": "IPY_MODEL_d45c1a6c2e814ce2bf4942bf29854776",
       "style": "IPY_MODEL_5de1cda0f8c6404e882c953a18910738",
       "tooltip": "Administrative 2 Regions Surrounding Delhi"
      }
     },
     "10eb69e5531d4ed49cd7f21dff80900c": {
      "model_module": "@jupyter-widgets/controls",
      "model_module_version": "2.0.0",
      "model_name": "RadioButtonsModel",
      "state": {
       "index": null,
       "layout": "IPY_MODEL_9ee428fb50d94565bcea82d24446a678",
       "style": "IPY_MODEL_1fe747b47bcb4a40a3ccc763e71bfac7"
      }
     },
     "10f816f4de9b482b9b18defb8d73a205": {
      "model_module": "@jupyter-widgets/base",
      "model_module_version": "2.0.0",
      "model_name": "LayoutModel",
      "state": {
       "margin": "0 0 0 1em"
      }
     },
     "110ee379ce80483bbdb1e5c50d2431ac": {
      "model_module": "jupyter-leaflet",
      "model_module_version": "^0.17",
      "model_name": "LeafletWidgetControlModel",
      "state": {
       "_model_module": "jupyter-leaflet",
       "_model_module_version": "^0.17",
       "_view_count": null,
       "_view_module": "jupyter-leaflet",
       "_view_module_version": "^0.17",
       "options": [
        "position",
        "transparent_bg"
       ],
       "position": "topright",
       "widget": "IPY_MODEL_17b485d9432044c5894139fc2dcf22ba"
      }
     },
     "112993dbc4db458596e3f2eb9eec93f8": {
      "model_module": "@jupyter-widgets/base",
      "model_module_version": "2.0.0",
      "model_name": "LayoutModel",
      "state": {
       "max_width": "57px",
       "min_width": "57px"
      }
     },
     "1136f997fcdb46d2a66f70418a0a9e15": {
      "model_module": "@jupyter-widgets/base",
      "model_module_version": "2.0.0",
      "model_name": "LayoutModel",
      "state": {
       "height": "auto",
       "padding": "0px 0px 0px 4px",
       "width": "auto"
      }
     },
     "11e029d074244b828569b140ea5256cb": {
      "model_module": "@jupyter-widgets/controls",
      "model_module_version": "2.0.0",
      "model_name": "ToggleButtonModel",
      "state": {
       "button_style": "primary",
       "icon": "info",
       "layout": "IPY_MODEL_01023e5acea24fd18d37d094f529dc9c",
       "style": "IPY_MODEL_bcd941a5389947df94393f6d764c7538",
       "tooltip": "Inspector"
      }
     },
     "11e0624c38374208b48c8d5411e8ee3f": {
      "model_module": "jupyter-leaflet",
      "model_module_version": "^0.17",
      "model_name": "LeafletAttributionControlModel",
      "state": {
       "_model_module_version": "^0.17",
       "_view_module_version": "^0.17",
       "options": [
        "position",
        "prefix"
       ],
       "position": "bottomright",
       "prefix": "ipyleaflet"
      }
     },
     "121b390bc5ce45d48a34d35276cb0bb9": {
      "model_module": "jupyter-leaflet",
      "model_module_version": "^0.17",
      "model_name": "LeafletWidgetControlModel",
      "state": {
       "_model_module": "jupyter-leaflet",
       "_model_module_version": "^0.17",
       "_view_count": null,
       "_view_module": "jupyter-leaflet",
       "_view_module_version": "^0.17",
       "options": [
        "position",
        "transparent_bg"
       ],
       "position": "topright",
       "widget": "IPY_MODEL_efcb4d7aa90644388d8f7854cceb760a"
      }
     },
     "125147952ef143809562ea31fc52e0d8": {
      "model_module": "jupyter-leaflet",
      "model_module_version": "^0.17",
      "model_name": "LeafletScaleControlModel",
      "state": {
       "_model_module_version": "^0.17",
       "_view_module_version": "^0.17",
       "imperial": true,
       "max_width": 100,
       "metric": true,
       "options": [
        "imperial",
        "max_width",
        "metric",
        "position",
        "update_when_idle"
       ],
       "position": "bottomleft",
       "update_when_idle": false
      }
     },
     "12846089c1e44bdab8dad7da9f9ee38b": {
      "model_module": "@jupyter-widgets/base",
      "model_module_version": "2.0.0",
      "model_name": "LayoutModel",
      "state": {}
     },
     "12977de4a684440eb0a1b179cb9921f7": {
      "model_module": "@jupyter-widgets/controls",
      "model_module_version": "2.0.0",
      "model_name": "ToggleButtonModel",
      "state": {
       "button_style": "primary",
       "icon": "globe",
       "layout": "IPY_MODEL_130f0b2f371649fa82d68607dc4ba2fb",
       "style": "IPY_MODEL_192c44a70bc04a33a4893c8b2610c438",
       "tooltip": "Create timelapse"
      }
     },
     "12fdd342bafd437b939eb2720b795b10": {
      "model_module": "@jupyter-widgets/base",
      "model_module_version": "2.0.0",
      "model_name": "LayoutModel",
      "state": {
       "height": "600px"
      }
     },
     "130f0b2f371649fa82d68607dc4ba2fb": {
      "model_module": "@jupyter-widgets/base",
      "model_module_version": "2.0.0",
      "model_name": "LayoutModel",
      "state": {
       "height": "auto",
       "padding": "0px 0px 0px 4px",
       "width": "auto"
      }
     },
     "131035e7430b49098cc1fcca5c3cb80c": {
      "model_module": "@jupyter-widgets/controls",
      "model_module_version": "2.0.0",
      "model_name": "CheckboxStyleModel",
      "state": {
       "description_width": "initial"
      }
     },
     "131236f1280a456da12bf8aac45899ce": {
      "model_module": "@jupyter-widgets/base",
      "model_module_version": "2.0.0",
      "model_name": "LayoutModel",
      "state": {}
     },
     "131cfa967ca045b4ba66b357089df6cf": {
      "model_module": "@jupyter-widgets/base",
      "model_module_version": "2.0.0",
      "model_name": "LayoutModel",
      "state": {}
     },
     "13321bff97a145949e72e003942f3818": {
      "model_module": "ipyevents",
      "model_module_version": "2.0.1",
      "model_name": "EventModel",
      "state": {
       "_supported_key_events": [
        "keydown",
        "keyup"
       ],
       "_supported_mouse_events": [
        "click",
        "auxclick",
        "dblclick",
        "mouseenter",
        "mouseleave",
        "mousedown",
        "mouseup",
        "mousemove",
        "wheel",
        "contextmenu",
        "dragstart",
        "drag",
        "dragend",
        "dragenter",
        "dragover",
        "dragleave",
        "drop"
       ],
       "_supported_touch_events": [
        "touchstart",
        "touchend",
        "touchmove",
        "touchcancel"
       ],
       "_view_module": "@jupyter-widgets/controls",
       "source": "IPY_MODEL_1c95b31fc7ae4d16b3b79a06f9efb935",
       "throttle_or_debounce": "",
       "watched_events": [
        "mouseenter",
        "mouseleave"
       ],
       "xy_coordinate_system": ""
      }
     },
     "133ed5f505634454853d009bf823ba96": {
      "model_module": "@jupyter-widgets/controls",
      "model_module_version": "2.0.0",
      "model_name": "ToggleButtonModel",
      "state": {
       "button_style": "primary",
       "icon": "eraser",
       "layout": "IPY_MODEL_64895aab17744a718779ef29c8ea4ccd",
       "style": "IPY_MODEL_9d9e7e8a53d54af38938ec34646346b2",
       "tooltip": "Remove all drawn features"
      }
     },
     "1340ad3c18f046bd9b841f7f8642a1c5": {
      "model_module": "@jupyter-widgets/controls",
      "model_module_version": "2.0.0",
      "model_name": "BoxModel",
      "state": {
       "children": [
        "IPY_MODEL_3c26c5457f98406c853da462f1ef4efe"
       ],
       "layout": "IPY_MODEL_fa84efe1d29e4c3a806a3d550e83d057"
      }
     },
     "1376b3e919bf4f3caf67320f88721a21": {
      "model_module": "@jupyter-widgets/base",
      "model_module_version": "2.0.0",
      "model_name": "LayoutModel",
      "state": {}
     },
     "1386fd2e6f554db783b5041f58f4e5d1": {
      "model_module": "jupyter-leaflet",
      "model_module_version": "^0.17",
      "model_name": "LeafletMapStyleModel",
      "state": {
       "_model_module_version": "^0.17"
      }
     },
     "13938e6689494d0cae36122e77a873df": {
      "model_module": "@jupyter-widgets/controls",
      "model_module_version": "2.0.0",
      "model_name": "ToggleButtonModel",
      "state": {
       "button_style": "primary",
       "icon": "folder-open",
       "layout": "IPY_MODEL_7679e1b2a9d84665b1f601ace9e5b9c4",
       "style": "IPY_MODEL_27d6ca33f4bc47608a5947512a0452d3",
       "tooltip": "Open local vector/raster data"
      }
     },
     "139783ad80c94e5099eb20cf2f0b9665": {
      "model_module": "@jupyter-widgets/base",
      "model_module_version": "2.0.0",
      "model_name": "LayoutModel",
      "state": {
       "height": "auto",
       "padding": "0px 0px 0px 4px",
       "width": "auto"
      }
     },
     "13a13f6a89e54200afc16b23461b4b29": {
      "model_module": "@jupyter-widgets/base",
      "model_module_version": "2.0.0",
      "model_name": "LayoutModel",
      "state": {
       "max_height": "350px",
       "max_width": "340px",
       "overflow": "scroll"
      }
     },
     "13b0ed0234b24d1e84d3e3c3c9312c0c": {
      "model_module": "jupyter-leaflet",
      "model_module_version": "^0.17",
      "model_name": "LeafletZoomControlModel",
      "state": {
       "_model_module_version": "^0.17",
       "_view_module_version": "^0.17",
       "options": [
        "position",
        "zoom_in_text",
        "zoom_in_title",
        "zoom_out_text",
        "zoom_out_title"
       ]
      }
     },
     "1494744c2ea341339178fcd9156885a1": {
      "model_module": "jupyter-leaflet",
      "model_module_version": "^0.17",
      "model_name": "LeafletMeasureControlModel",
      "state": {
       "_model_module_version": "^0.17",
       "_view_module_version": "^0.17",
       "active_color": "orange",
       "options": [
        "active_color",
        "capture_z_index",
        "completed_color",
        "popup_options",
        "position",
        "primary_area_unit",
        "primary_length_unit",
        "secondary_area_unit",
        "secondary_length_unit"
       ],
       "position": "bottomleft",
       "primary_length_unit": "kilometers",
       "secondary_area_unit": null,
       "secondary_length_unit": null
      }
     },
     "149a406d599d4894b29f86e7677d1596": {
      "model_module": "@jupyter-widgets/controls",
      "model_module_version": "2.0.0",
      "model_name": "ToggleButtonStyleModel",
      "state": {
       "description_width": "",
       "font_family": null,
       "font_size": null,
       "font_style": null,
       "font_variant": null,
       "font_weight": null,
       "text_color": null,
       "text_decoration": null
      }
     },
     "14d3607ea1d749a3ae83becbbaec17f9": {
      "model_module": "@jupyter-widgets/controls",
      "model_module_version": "2.0.0",
      "model_name": "CheckboxStyleModel",
      "state": {
       "description_width": ""
      }
     },
     "14dda0e9a5f140eda2b17d11293d2dcb": {
      "model_module": "jupyter-leaflet",
      "model_module_version": "^0.17",
      "model_name": "LeafletMeasureControlModel",
      "state": {
       "_model_module_version": "^0.17",
       "_view_module_version": "^0.17",
       "active_color": "orange",
       "options": [
        "active_color",
        "capture_z_index",
        "completed_color",
        "popup_options",
        "position",
        "primary_area_unit",
        "primary_length_unit",
        "secondary_area_unit",
        "secondary_length_unit"
       ],
       "position": "bottomleft",
       "primary_length_unit": "kilometers",
       "secondary_area_unit": null,
       "secondary_length_unit": null
      }
     },
     "14f063b034e8490d9905dfbbdd3fd541": {
      "model_module": "@jupyter-widgets/base",
      "model_module_version": "2.0.0",
      "model_name": "LayoutModel",
      "state": {
       "height": "auto",
       "padding": "0px 0px 0px 4px",
       "width": "auto"
      }
     },
     "1500c2d656c44af2acaeeca31c42b0d6": {
      "model_module": "@jupyter-widgets/controls",
      "model_module_version": "2.0.0",
      "model_name": "VBoxModel",
      "state": {
       "children": [
        "IPY_MODEL_487607c0f7184a18b8d3c753d078cc5a"
       ],
       "layout": "IPY_MODEL_af8a04373521435b8084514ec9882538"
      }
     },
     "153de01b3d1a42b492b1f883454cb92d": {
      "model_module": "@jupyter-widgets/controls",
      "model_module_version": "2.0.0",
      "model_name": "ToggleButtonStyleModel",
      "state": {
       "description_width": "",
       "font_family": null,
       "font_size": null,
       "font_style": null,
       "font_variant": null,
       "font_weight": null,
       "text_color": null,
       "text_decoration": null
      }
     },
     "15651a9c7b0b468a9842b81ccc50090f": {
      "model_module": "jupyter-leaflet",
      "model_module_version": "^0.17",
      "model_name": "LeafletFullScreenControlModel",
      "state": {
       "_model_module_version": "^0.17",
       "_view_module_version": "^0.17",
       "options": [
        "position"
       ]
      }
     },
     "156e92389c764cc4b8033bd2f3cfe054": {
      "model_module": "@jupyter-widgets/base",
      "model_module_version": "2.0.0",
      "model_name": "LayoutModel",
      "state": {
       "height": "auto",
       "padding": "0px 0px 0px 4px",
       "width": "auto"
      }
     },
     "157a2ba6192c4b1880dcb570bb6f5c64": {
      "model_module": "@jupyter-widgets/base",
      "model_module_version": "2.0.0",
      "model_name": "LayoutModel",
      "state": {
       "height": "auto",
       "padding": "0px 0px 0px 4px",
       "width": "auto"
      }
     },
     "15904aa8938047e1a4533eb236ebfbe3": {
      "model_module": "@jupyter-widgets/controls",
      "model_module_version": "2.0.0",
      "model_name": "ToggleButtonStyleModel",
      "state": {
       "description_width": "",
       "font_family": null,
       "font_size": null,
       "font_style": null,
       "font_variant": null,
       "font_weight": null,
       "text_color": null,
       "text_decoration": null
      }
     },
     "1594ff08ad39449c9f77ce36b1cc7ed1": {
      "model_module": "@jupyter-widgets/controls",
      "model_module_version": "2.0.0",
      "model_name": "ToggleButtonStyleModel",
      "state": {
       "description_width": "",
       "font_family": null,
       "font_size": null,
       "font_style": null,
       "font_variant": null,
       "font_weight": null,
       "text_color": null,
       "text_decoration": null
      }
     },
     "15b51dbed46448c190166daebdf8eaed": {
      "model_module": "jupyter-leaflet",
      "model_module_version": "^0.17",
      "model_name": "LeafletTileLayerModel",
      "state": {
       "_model_module_version": "^0.17",
       "_view_module_version": "^0.17",
       "attribution": "&copy; <a href=\"https://www.openstreetmap.org/copyright\">OpenStreetMap</a> contributors",
       "base": true,
       "max_zoom": 19,
       "min_zoom": 1,
       "name": "OpenStreetMap.Mapnik",
       "options": [
        "attribution",
        "bounds",
        "detect_retina",
        "max_native_zoom",
        "max_zoom",
        "min_native_zoom",
        "min_zoom",
        "no_wrap",
        "tile_size",
        "tms",
        "zoom_offset"
       ],
       "url": "https://tile.openstreetmap.org/{z}/{x}/{y}.png"
      }
     },
     "15cba674529f4023903edc52494983b2": {
      "model_module": "jupyter-leaflet",
      "model_module_version": "^0.17",
      "model_name": "LeafletZoomControlModel",
      "state": {
       "_model_module_version": "^0.17",
       "_view_module_version": "^0.17",
       "options": [
        "position",
        "zoom_in_text",
        "zoom_in_title",
        "zoom_out_text",
        "zoom_out_title"
       ]
      }
     },
     "15fc58afae3e487ca064c51df6d56c57": {
      "model_module": "jupyter-leaflet",
      "model_module_version": "^0.17",
      "model_name": "LeafletFullScreenControlModel",
      "state": {
       "_model_module_version": "^0.17",
       "_view_module_version": "^0.17",
       "options": [
        "position"
       ]
      }
     },
     "16763fde157c46948651162636781ca4": {
      "model_module": "@jupyter-widgets/controls",
      "model_module_version": "2.0.0",
      "model_name": "ToggleButtonStyleModel",
      "state": {
       "description_width": "",
       "font_family": null,
       "font_size": null,
       "font_style": null,
       "font_variant": null,
       "font_weight": null,
       "text_color": null,
       "text_decoration": null
      }
     },
     "1685dbcd0f7842798d7eae9c67c15979": {
      "model_module": "@jupyter-widgets/base",
      "model_module_version": "2.0.0",
      "model_name": "LayoutModel",
      "state": {
       "height": "28px",
       "padding": "0px 0px 0px 4px",
       "width": "28px"
      }
     },
     "16e551830c774b95821530a47d151b72": {
      "model_module": "@jupyter-widgets/base",
      "model_module_version": "2.0.0",
      "model_name": "LayoutModel",
      "state": {
       "min_width": "6em",
       "width": "6em"
      }
     },
     "172df0b8dde54cb5a9e5d2b9b4d402bb": {
      "model_module": "jupyter-leaflet",
      "model_module_version": "^0.17",
      "model_name": "LeafletTileLayerModel",
      "state": {
       "_model_module_version": "^0.17",
       "_view_module_version": "^0.17",
       "attribution": "Google",
       "max_zoom": 24,
       "name": "Google Maps",
       "options": [
        "attribution",
        "bounds",
        "detect_retina",
        "max_native_zoom",
        "max_zoom",
        "min_native_zoom",
        "min_zoom",
        "no_wrap",
        "tile_size",
        "tms",
        "zoom_offset"
       ],
       "url": "https://mt1.google.com/vt/lyrs=m&x={x}&y={y}&z={z}"
      }
     },
     "178ebcd441004916ad06b88ee1397f8f": {
      "model_module": "@jupyter-widgets/base",
      "model_module_version": "2.0.0",
      "model_name": "LayoutModel",
      "state": {
       "height": "auto",
       "padding": "0px 0px 0px 4px",
       "width": "auto"
      }
     },
     "17b485d9432044c5894139fc2dcf22ba": {
      "model_module": "@jupyter-widgets/controls",
      "model_module_version": "2.0.0",
      "model_name": "VBoxModel",
      "state": {
       "_view_count": 0,
       "children": [
        "IPY_MODEL_c86acd2310224382ab96445606537d8f"
       ],
       "layout": "IPY_MODEL_cb3a4e7fed7f4d89a17f9bd916fed40e"
      }
     },
     "17da963e54c74a9dba0827ce0229f409": {
      "model_module": "@jupyter-widgets/controls",
      "model_module_version": "2.0.0",
      "model_name": "ToggleButtonStyleModel",
      "state": {
       "description_width": "",
       "font_family": null,
       "font_size": null,
       "font_style": null,
       "font_variant": null,
       "font_weight": null,
       "text_color": null,
       "text_decoration": null
      }
     },
     "1817ec68a20f4ca583fbbb433e79ce7c": {
      "model_module": "@jupyter-widgets/controls",
      "model_module_version": "2.0.0",
      "model_name": "ToggleButtonStyleModel",
      "state": {
       "description_width": "",
       "font_family": null,
       "font_size": null,
       "font_style": null,
       "font_variant": null,
       "font_weight": null,
       "text_color": null,
       "text_decoration": null
      }
     },
     "182020e1a56e4c4b939c8f6d3353cabb": {
      "model_module": "@jupyter-widgets/base",
      "model_module_version": "2.0.0",
      "model_name": "LayoutModel",
      "state": {
       "height": "auto",
       "padding": "0px 0px 0px 4px",
       "width": "auto"
      }
     },
     "1822b8b886664447bd48debad0951445": {
      "model_module": "ipyevents",
      "model_module_version": "2.0.1",
      "model_name": "EventModel",
      "state": {
       "_supported_key_events": [
        "keydown",
        "keyup"
       ],
       "_supported_mouse_events": [
        "click",
        "auxclick",
        "dblclick",
        "mouseenter",
        "mouseleave",
        "mousedown",
        "mouseup",
        "mousemove",
        "wheel",
        "contextmenu",
        "dragstart",
        "drag",
        "dragend",
        "dragenter",
        "dragover",
        "dragleave",
        "drop"
       ],
       "_supported_touch_events": [
        "touchstart",
        "touchend",
        "touchmove",
        "touchcancel"
       ],
       "_view_module": "@jupyter-widgets/controls",
       "source": "IPY_MODEL_9c55eddaed77424da2b3b9c24b702c19",
       "throttle_or_debounce": "",
       "watched_events": [
        "mouseenter",
        "mouseleave"
       ],
       "xy_coordinate_system": ""
      }
     },
     "184bc5b09250448bab2ad427e806cf1e": {
      "model_module": "@jupyter-widgets/base",
      "model_module_version": "2.0.0",
      "model_name": "LayoutModel",
      "state": {
       "grid_area": "filename",
       "width": "auto"
      }
     },
     "1872f7a3a4224217940b13a55570e694": {
      "model_module": "jupyter-leaflet",
      "model_module_version": "^0.17",
      "model_name": "LeafletAttributionControlModel",
      "state": {
       "_model_module_version": "^0.17",
       "_view_module_version": "^0.17",
       "options": [
        "position",
        "prefix"
       ],
       "position": "bottomright",
       "prefix": "ipyleaflet"
      }
     },
     "187b5675e8874441841e4ff9fef018a9": {
      "model_module": "@jupyter-widgets/controls",
      "model_module_version": "2.0.0",
      "model_name": "ToggleButtonModel",
      "state": {
       "button_style": "primary",
       "icon": "plus",
       "layout": "IPY_MODEL_5ed53c45d98d4ede878da16b3ba4b850",
       "style": "IPY_MODEL_6c17995d690846018e4089700eef2537",
       "tooltip": "Expand toolbar"
      }
     },
     "1896cfd8c3b347e4b2d4cbc85db89228": {
      "model_module": "@jupyter-widgets/controls",
      "model_module_version": "2.0.0",
      "model_name": "ToggleButtonModel",
      "state": {
       "button_style": "primary",
       "icon": "hand-o-up",
       "layout": "IPY_MODEL_178ebcd441004916ad06b88ee1397f8f",
       "style": "IPY_MODEL_18f2458e9f204e7692ee4a114676b5f0",
       "tooltip": "Collect training samples"
      }
     },
     "18a5d77075a44188aef5cb9c36f5623c": {
      "model_module": "@jupyter-widgets/controls",
      "model_module_version": "2.0.0",
      "model_name": "ToggleButtonModel",
      "state": {
       "button_style": "primary",
       "icon": "eraser",
       "layout": "IPY_MODEL_48b24976ed64456980d3470227f687b0",
       "style": "IPY_MODEL_276c0c4670a84ded8a649a56d391f783",
       "tooltip": "Remove all drawn features"
      }
     },
     "18ba645e60454b06a16ccb48d479259b": {
      "model_module": "@jupyter-widgets/base",
      "model_module_version": "2.0.0",
      "model_name": "LayoutModel",
      "state": {
       "max_height": "350px",
       "max_width": "340px",
       "overflow": "scroll"
      }
     },
     "18e91b5428254a869d57ca16a1859d76": {
      "model_module": "@jupyter-widgets/controls",
      "model_module_version": "2.0.0",
      "model_name": "ToggleButtonModel",
      "state": {
       "button_style": "primary",
       "icon": "random",
       "layout": "IPY_MODEL_09a1518808f94362b743a7cab6fcc721",
       "style": "IPY_MODEL_d755ac93832e43e8b762e38f31433646",
       "tooltip": "Sankey plots"
      }
     },
     "18eb71e7b46f4e038b315072fed0dd1a": {
      "model_module": "@jupyter-widgets/controls",
      "model_module_version": "2.0.0",
      "model_name": "ToggleButtonsStyleModel",
      "state": {
       "button_width": "110px",
       "description_width": ""
      }
     },
     "18f2458e9f204e7692ee4a114676b5f0": {
      "model_module": "@jupyter-widgets/controls",
      "model_module_version": "2.0.0",
      "model_name": "ToggleButtonStyleModel",
      "state": {
       "description_width": "",
       "font_family": null,
       "font_size": null,
       "font_style": null,
       "font_variant": null,
       "font_weight": null,
       "text_color": null,
       "text_decoration": null
      }
     },
     "1915d00e0bc6488e81c8051e741b2c0d": {
      "model_module": "@jupyter-widgets/controls",
      "model_module_version": "2.0.0",
      "model_name": "ToggleButtonStyleModel",
      "state": {
       "description_width": "",
       "font_family": null,
       "font_size": null,
       "font_style": null,
       "font_variant": null,
       "font_weight": null,
       "text_color": null,
       "text_decoration": null
      }
     },
     "191b0ee05967446d8b804c7bdbb6732c": {
      "model_module": "@jupyter-widgets/base",
      "model_module_version": "2.0.0",
      "model_name": "LayoutModel",
      "state": {}
     },
     "191be60b7dbd44c0b7f9136cfcede2fb": {
      "model_module": "@jupyter-widgets/base",
      "model_module_version": "2.0.0",
      "model_name": "LayoutModel",
      "state": {
       "height": "auto",
       "padding": "0px 0px 0px 4px",
       "width": "auto"
      }
     },
     "192c44a70bc04a33a4893c8b2610c438": {
      "model_module": "@jupyter-widgets/controls",
      "model_module_version": "2.0.0",
      "model_name": "ToggleButtonStyleModel",
      "state": {
       "description_width": "",
       "font_family": null,
       "font_size": null,
       "font_style": null,
       "font_variant": null,
       "font_weight": null,
       "text_color": null,
       "text_decoration": null
      }
     },
     "195822c2f68543498cf749d8c9b0e68b": {
      "model_module": "jupyter-leaflet",
      "model_module_version": "^0.17",
      "model_name": "LeafletAttributionControlModel",
      "state": {
       "_model_module_version": "^0.17",
       "_view_module_version": "^0.17",
       "options": [
        "position",
        "prefix"
       ],
       "position": "bottomright",
       "prefix": "ipyleaflet"
      }
     },
     "1965899ad7b048e3a38efb3cc60e6575": {
      "model_module": "@jupyter-widgets/controls",
      "model_module_version": "2.0.0",
      "model_name": "LinkModel",
      "state": {
       "source": [
        "IPY_MODEL_88bba58bdcab470cb3f19fbb7f48809c",
        "value"
       ],
       "target": [
        "IPY_MODEL_0a668e5718f249a59adbc74df9b25682",
        "visible"
       ]
      }
     },
     "1966ca78205e471ab17da4a696a5330c": {
      "model_module": "@jupyter-widgets/controls",
      "model_module_version": "2.0.0",
      "model_name": "ToggleButtonStyleModel",
      "state": {
       "description_width": "",
       "font_family": null,
       "font_size": null,
       "font_style": null,
       "font_variant": null,
       "font_weight": null,
       "text_color": null,
       "text_decoration": null
      }
     },
     "198ae234184e46d7bb6e0215a77997fb": {
      "model_module": "@jupyter-widgets/base",
      "model_module_version": "2.0.0",
      "model_name": "LayoutModel",
      "state": {
       "max_height": "350px",
       "max_width": "340px",
       "overflow": "scroll"
      }
     },
     "19b2bc3878de40778ae815f0903743ea": {
      "model_module": "@jupyter-widgets/base",
      "model_module_version": "2.0.0",
      "model_name": "LayoutModel",
      "state": {
       "height": "auto",
       "padding": "0px 0px 0px 4px",
       "width": "auto"
      }
     },
     "19c48681f19248f9a35f24ab60fa03c3": {
      "model_module": "ipyevents",
      "model_module_version": "2.0.1",
      "model_name": "EventModel",
      "state": {
       "_supported_key_events": [
        "keydown",
        "keyup"
       ],
       "_supported_mouse_events": [
        "click",
        "auxclick",
        "dblclick",
        "mouseenter",
        "mouseleave",
        "mousedown",
        "mouseup",
        "mousemove",
        "wheel",
        "contextmenu",
        "dragstart",
        "drag",
        "dragend",
        "dragenter",
        "dragover",
        "dragleave",
        "drop"
       ],
       "_supported_touch_events": [
        "touchstart",
        "touchend",
        "touchmove",
        "touchcancel"
       ],
       "_view_module": "@jupyter-widgets/controls",
       "source": "IPY_MODEL_06b512f871194000b28f451ddbff05dc",
       "throttle_or_debounce": "",
       "watched_events": [
        "mouseenter",
        "mouseleave"
       ],
       "xy_coordinate_system": ""
      }
     },
     "1a3d672a88794104b728048880af30f9": {
      "model_module": "@jupyter-widgets/controls",
      "model_module_version": "2.0.0",
      "model_name": "ButtonStyleModel",
      "state": {
       "font_family": null,
       "font_size": null,
       "font_style": null,
       "font_variant": null,
       "font_weight": null,
       "text_color": null,
       "text_decoration": null
      }
     },
     "1a4612ba7b354f599277bed5937ff698": {
      "model_module": "@jupyter-widgets/base",
      "model_module_version": "2.0.0",
      "model_name": "LayoutModel",
      "state": {}
     },
     "1a6938045f1044228dd16320ecf0b923": {
      "model_module": "@jupyter-widgets/controls",
      "model_module_version": "2.0.0",
      "model_name": "TextModel",
      "state": {
       "layout": "IPY_MODEL_784cdaf191b641f786f394506b580084",
       "placeholder": "Search by place name or address",
       "style": "IPY_MODEL_d98bf9bece8b4b1c9a41e82815cb4d73",
       "tooltip": "Search location"
      }
     },
     "1a6d94b05f1c4ec5a94094b1eaf86f54": {
      "model_module": "@jupyter-widgets/controls",
      "model_module_version": "2.0.0",
      "model_name": "SelectModel",
      "state": {
       "_options_labels": [
        "All Tools",
        "Math and Stats Tools",
        "Geomorphometric Analysis",
        "Image Processing Tools",
        "Data Tools",
        "GIS Analysis",
        "LiDAR Tools",
        "Hydrological Analysis",
        "Machine Learning",
        "Stream Network Analysis",
        "Precision Agriculture"
       ],
       "index": 5,
       "layout": "IPY_MODEL_b5383a4b401b4ec0a5aabb9b7eddec1d",
       "style": "IPY_MODEL_dc98c6a49abe44f098175d67ee0168d0"
      }
     },
     "1a964432ab3f40cdbe5badffbee14585": {
      "model_module": "@jupyter-widgets/controls",
      "model_module_version": "2.0.0",
      "model_name": "ToggleButtonStyleModel",
      "state": {
       "description_width": "",
       "font_family": null,
       "font_size": null,
       "font_style": null,
       "font_variant": null,
       "font_weight": null,
       "text_color": null,
       "text_decoration": null
      }
     },
     "1ac371347f224f6f9719fa3da368c9e7": {
      "model_module": "@jupyter-widgets/base",
      "model_module_version": "2.0.0",
      "model_name": "LayoutModel",
      "state": {}
     },
     "1ac3ceaa40fc4d1990a12a2e500cefc7": {
      "model_module": "@jupyter-widgets/controls",
      "model_module_version": "2.0.0",
      "model_name": "ToggleButtonModel",
      "state": {
       "button_style": "primary",
       "icon": "hand-o-up",
       "layout": "IPY_MODEL_3f45d115fdbc4de98eef25ebfbe61874",
       "style": "IPY_MODEL_b64ff843cc774452bee2239f96d01f07",
       "tooltip": "Collect training samples"
      }
     },
     "1b832f5a76d64f499a334de6b9d0e3f6": {
      "model_module": "@jupyter-widgets/base",
      "model_module_version": "2.0.0",
      "model_name": "LayoutModel",
      "state": {
       "width": "80px"
      }
     },
     "1b95807ed9fb40328516f3e98b5ea5e7": {
      "model_module": "jupyter-leaflet",
      "model_module_version": "^0.17",
      "model_name": "LeafletMapStyleModel",
      "state": {
       "_model_module_version": "^0.17"
      }
     },
     "1bb567cc8dbd4a219fe5f3de8d898572": {
      "model_module": "@jupyter-widgets/controls",
      "model_module_version": "2.0.0",
      "model_name": "VBoxModel",
      "state": {
       "children": [
        "IPY_MODEL_9a78dd632f9e41fc8a0362731cbc6d60"
       ],
       "layout": "IPY_MODEL_fb972d96efd04fe8b7b8fb7bac51b6b2"
      }
     },
     "1bb6574380164385980c170f0afd0d86": {
      "model_module": "@jupyter-widgets/controls",
      "model_module_version": "2.0.0",
      "model_name": "DescriptionStyleModel",
      "state": {
       "description_width": ""
      }
     },
     "1be56211785641a4a80ca0a4b5153870": {
      "model_module": "@jupyter-widgets/base",
      "model_module_version": "2.0.0",
      "model_name": "LayoutModel",
      "state": {
       "height": "auto",
       "padding": "0px 0px 0px 4px",
       "width": "auto"
      }
     },
     "1c03b64b2fb64cc3815d9faf8eadc199": {
      "model_module": "@jupyter-widgets/controls",
      "model_module_version": "2.0.0",
      "model_name": "VBoxModel",
      "state": {
       "children": [
        "IPY_MODEL_d6b293ba20c24a918cb1ddaba66644eb",
        "IPY_MODEL_e3f3d583cd4b422fa82aa386701ec087",
        "IPY_MODEL_5a832b15d9ce41bc9c955bfb61da46e1"
       ],
       "layout": "IPY_MODEL_d8fad85ae5a34a25badf53151cfbcc21"
      }
     },
     "1c44bf0ff842466585425dc05db42511": {
      "model_module": "jupyter-leaflet",
      "model_module_version": "^0.17",
      "model_name": "LeafletMapStyleModel",
      "state": {
       "_model_module_version": "^0.17"
      }
     },
     "1c47d71f345a4fb682fb14399e57e8bc": {
      "model_module": "@jupyter-widgets/output",
      "model_module_version": "1.0.0",
      "model_name": "OutputModel",
      "state": {
       "layout": "IPY_MODEL_f4d2f3e99fac4188b5d016f60720aba7"
      }
     },
     "1c5c045261cd4149a66023d587eae87a": {
      "model_module": "@jupyter-widgets/controls",
      "model_module_version": "2.0.0",
      "model_name": "HTMLStyleModel",
      "state": {
       "description_width": "",
       "font_size": null,
       "text_color": null
      }
     },
     "1c8daa8331f14bdaa9abcb420c44d86a": {
      "model_module": "ipyevents",
      "model_module_version": "2.0.1",
      "model_name": "EventModel",
      "state": {
       "_supported_key_events": [
        "keydown",
        "keyup"
       ],
       "_supported_mouse_events": [
        "click",
        "auxclick",
        "dblclick",
        "mouseenter",
        "mouseleave",
        "mousedown",
        "mouseup",
        "mousemove",
        "wheel",
        "contextmenu",
        "dragstart",
        "drag",
        "dragend",
        "dragenter",
        "dragover",
        "dragleave",
        "drop"
       ],
       "_supported_touch_events": [
        "touchstart",
        "touchend",
        "touchmove",
        "touchcancel"
       ],
       "_view_module": "@jupyter-widgets/controls",
       "source": "IPY_MODEL_9fe61cd57aac45c299bc75301a8b70b8",
       "throttle_or_debounce": "",
       "watched_events": [
        "mouseenter",
        "mouseleave"
       ],
       "xy_coordinate_system": ""
      }
     },
     "1c95b31fc7ae4d16b3b79a06f9efb935": {
      "model_module": "@jupyter-widgets/controls",
      "model_module_version": "2.0.0",
      "model_name": "VBoxModel",
      "state": {
       "_view_count": 0,
       "children": [
        "IPY_MODEL_4436f72ad1c647d9b62723bfb1c719ed"
       ],
       "layout": "IPY_MODEL_a211eaed72884c4fb4cba3fecf91721f"
      }
     },
     "1cb9b0414e794077a374a3b17b1a5598": {
      "model_module": "@jupyter-widgets/output",
      "model_module_version": "1.0.0",
      "model_name": "OutputModel",
      "state": {
       "layout": "IPY_MODEL_198ae234184e46d7bb6e0215a77997fb"
      }
     },
     "1cea4096b9b240c781b7c03f4c672732": {
      "model_module": "@jupyter-widgets/base",
      "model_module_version": "2.0.0",
      "model_name": "LayoutModel",
      "state": {
       "min_width": "175px"
      }
     },
     "1ceb7b4aab33412eb028f9bf5c57b25f": {
      "model_module": "jupyter-leaflet",
      "model_module_version": "^0.17",
      "model_name": "LeafletWidgetControlModel",
      "state": {
       "_model_module": "jupyter-leaflet",
       "_model_module_version": "^0.17",
       "_view_count": null,
       "_view_module": "jupyter-leaflet",
       "_view_module_version": "^0.17",
       "options": [
        "position",
        "transparent_bg"
       ],
       "position": "topleft",
       "widget": "IPY_MODEL_d2b4b1db2843404c9c1299982472112e"
      }
     },
     "1cf5db1ced7c496da8225c1abc3b9fcb": {
      "model_module": "@jupyter-widgets/controls",
      "model_module_version": "2.0.0",
      "model_name": "ToggleButtonModel",
      "state": {
       "button_style": "primary",
       "icon": "info",
       "layout": "IPY_MODEL_725cc73eb2d64f7881229b20f5c17260",
       "style": "IPY_MODEL_d03a5833a6ab4471a61ca710189aceed",
       "tooltip": "Inspector"
      }
     },
     "1d38983fbc034c55a979bb107c1703a5": {
      "model_module": "@jupyter-widgets/base",
      "model_module_version": "2.0.0",
      "model_name": "LayoutModel",
      "state": {}
     },
     "1d8a3db95b06452592f7b524240e7071": {
      "model_module": "@jupyter-widgets/base",
      "model_module_version": "2.0.0",
      "model_name": "LayoutModel",
      "state": {
       "height": "auto",
       "padding": "0px 0px 0px 4px",
       "width": "auto"
      }
     },
     "1d8c9c0fdb8c43c1918af42ce5746720": {
      "model_module": "@jupyter-widgets/base",
      "model_module_version": "2.0.0",
      "model_name": "LayoutModel",
      "state": {
       "height": "auto",
       "padding": "0px 0px 0px 4px",
       "width": "auto"
      }
     },
     "1dc45b7a85694248bf481d2e229007d9": {
      "model_module": "@jupyter-widgets/controls",
      "model_module_version": "2.0.0",
      "model_name": "TextModel",
      "state": {
       "layout": "IPY_MODEL_bafaab9377054aba8b436e8409420236",
       "placeholder": "Search by place name or address",
       "style": "IPY_MODEL_27d3785d2a25493a95afed8df5d25ec6",
       "tooltip": "Search location"
      }
     },
     "1e2acf8c59654c4c892a1e6b9e11a8fc": {
      "model_module": "@jupyter-widgets/controls",
      "model_module_version": "2.0.0",
      "model_name": "ToggleButtonStyleModel",
      "state": {
       "description_width": "",
       "font_family": null,
       "font_size": null,
       "font_style": null,
       "font_variant": null,
       "font_weight": null,
       "text_color": null,
       "text_decoration": null
      }
     },
     "1e737503ef8c4b2e838f1da80bba1836": {
      "model_module": "@jupyter-widgets/base",
      "model_module_version": "2.0.0",
      "model_name": "LayoutModel",
      "state": {
       "height": "auto",
       "padding": "0px 0px 0px 4px",
       "width": "auto"
      }
     },
     "1ef91ac93a154bd4a933ae557f428b1c": {
      "model_module": "@jupyter-widgets/base",
      "model_module_version": "2.0.0",
      "model_name": "LayoutModel",
      "state": {
       "height": "auto",
       "padding": "0px 0px 0px 4px",
       "width": "auto"
      }
     },
     "1efc841a946a41fc8346f022a9294d46": {
      "model_module": "@jupyter-widgets/base",
      "model_module_version": "2.0.0",
      "model_name": "LayoutModel",
      "state": {}
     },
     "1f5195104e4b4c659b8220619db76701": {
      "model_module": "@jupyter-widgets/controls",
      "model_module_version": "2.0.0",
      "model_name": "ToggleButtonStyleModel",
      "state": {
       "description_width": "",
       "font_family": null,
       "font_size": null,
       "font_style": null,
       "font_variant": null,
       "font_weight": null,
       "text_color": null,
       "text_decoration": null
      }
     },
     "1f61ea58683e45da8ce2be23d5630995": {
      "model_module": "ipyevents",
      "model_module_version": "2.0.1",
      "model_name": "EventModel",
      "state": {
       "_supported_key_events": [
        "keydown",
        "keyup"
       ],
       "_supported_mouse_events": [
        "click",
        "auxclick",
        "dblclick",
        "mouseenter",
        "mouseleave",
        "mousedown",
        "mouseup",
        "mousemove",
        "wheel",
        "contextmenu",
        "dragstart",
        "drag",
        "dragend",
        "dragenter",
        "dragover",
        "dragleave",
        "drop"
       ],
       "_supported_touch_events": [
        "touchstart",
        "touchend",
        "touchmove",
        "touchcancel"
       ],
       "_view_module": "@jupyter-widgets/controls",
       "source": "IPY_MODEL_efcb4d7aa90644388d8f7854cceb760a",
       "throttle_or_debounce": "",
       "watched_events": [
        "mouseenter",
        "mouseleave"
       ],
       "xy_coordinate_system": ""
      }
     },
     "1f809c355f1a4b398d38037f5bf742ba": {
      "model_module": "@jupyter-widgets/controls",
      "model_module_version": "2.0.0",
      "model_name": "ToggleButtonModel",
      "state": {
       "button_style": "primary",
       "icon": "random",
       "layout": "IPY_MODEL_fb9c99196f36487b839c43c511bb1732",
       "style": "IPY_MODEL_feae659e998b4366a8a6800134a47eeb",
       "tooltip": "Sankey plots"
      }
     },
     "1f9663385e04437cb9045a1ceb0aa210": {
      "model_module": "@jupyter-widgets/controls",
      "model_module_version": "2.0.0",
      "model_name": "VBoxModel",
      "state": {
       "children": [
        "IPY_MODEL_a5eb79cd441543319b7fc611ad33f510"
       ],
       "layout": "IPY_MODEL_8b1b3a7737c44d0e8de5f0ff251e7509"
      }
     },
     "1fc37f957644411f94f26bdce371bac2": {
      "model_module": "@jupyter-widgets/controls",
      "model_module_version": "2.0.0",
      "model_name": "ToggleButtonModel",
      "state": {
       "button_style": "primary",
       "icon": "eraser",
       "layout": "IPY_MODEL_6c31e5039c864f1b838f2baa8d698317",
       "style": "IPY_MODEL_385e3f5a31794a47a8712e0a87d8a4ef",
       "tooltip": "Remove all drawn features"
      }
     },
     "1fdec708f31d44d9a9ae2bc1bea23f81": {
      "model_module": "@jupyter-widgets/base",
      "model_module_version": "2.0.0",
      "model_name": "LayoutModel",
      "state": {
       "max_height": "350px",
       "max_width": "340px",
       "overflow": "scroll"
      }
     },
     "1fe747b47bcb4a40a3ccc763e71bfac7": {
      "model_module": "@jupyter-widgets/controls",
      "model_module_version": "2.0.0",
      "model_name": "DescriptionStyleModel",
      "state": {
       "description_width": ""
      }
     },
     "20213819d9054b55ab5e135a9d491ea8": {
      "model_module": "@jupyter-widgets/base",
      "model_module_version": "2.0.0",
      "model_name": "LayoutModel",
      "state": {}
     },
     "204de1b5c2b74247ada7d008d3bb0d60": {
      "model_module": "@jupyter-widgets/base",
      "model_module_version": "2.0.0",
      "model_name": "LayoutModel",
      "state": {
       "max_height": "200px",
       "overflow": "scroll"
      }
     },
     "2065c2daff2647f0b2cf1cbc9a14282e": {
      "model_module": "@jupyter-widgets/controls",
      "model_module_version": "2.0.0",
      "model_name": "DescriptionStyleModel",
      "state": {
       "description_width": ""
      }
     },
     "20b96a8bf0554f05abe47c974fd3f063": {
      "model_module": "jupyter-leaflet",
      "model_module_version": "^0.17",
      "model_name": "LeafletTileLayerModel",
      "state": {
       "_model_module_version": "^0.17",
       "_view_module_version": "^0.17",
       "attribution": "&copy; <a href=\"https://www.openstreetmap.org/copyright\">OpenStreetMap</a> contributors",
       "base": true,
       "max_zoom": 19,
       "min_zoom": 1,
       "name": "OpenStreetMap.Mapnik",
       "options": [
        "attribution",
        "bounds",
        "detect_retina",
        "max_native_zoom",
        "max_zoom",
        "min_native_zoom",
        "min_zoom",
        "no_wrap",
        "tile_size",
        "tms",
        "zoom_offset"
       ],
       "url": "https://tile.openstreetmap.org/{z}/{x}/{y}.png"
      }
     },
     "20bdbc0db613404ca44c74a735d8c2ac": {
      "model_module": "@jupyter-widgets/controls",
      "model_module_version": "2.0.0",
      "model_name": "ToggleButtonStyleModel",
      "state": {
       "description_width": "",
       "font_family": null,
       "font_size": null,
       "font_style": null,
       "font_variant": null,
       "font_weight": null,
       "text_color": null,
       "text_decoration": null
      }
     },
     "20d5530136f54ea7a52674b62e813ed4": {
      "model_module": "jupyter-leaflet",
      "model_module_version": "^0.17",
      "model_name": "LeafletMapStyleModel",
      "state": {
       "_model_module_version": "^0.17",
       "cursor": "move"
      }
     },
     "20e39cbc33a7472aa817c029ea57f7de": {
      "model_module": "@jupyter-widgets/controls",
      "model_module_version": "2.0.0",
      "model_name": "ToggleButtonStyleModel",
      "state": {
       "description_width": "",
       "font_family": null,
       "font_size": null,
       "font_style": null,
       "font_variant": null,
       "font_weight": null,
       "text_color": null,
       "text_decoration": null
      }
     },
     "20fe3475cfc2472ab6563040962f8262": {
      "model_module": "@jupyter-widgets/controls",
      "model_module_version": "2.0.0",
      "model_name": "VBoxModel",
      "state": {
       "children": [
        "IPY_MODEL_0fa164f5540f4b4b8adcf8f7bfe9be8a",
        "IPY_MODEL_4c8a3c7c084a4fc8a779452ccaf2ff94"
       ],
       "layout": "IPY_MODEL_a18156a5807c4057b54173495fbfd761"
      }
     },
     "215cf6104f754ae485efd48eba62b563": {
      "model_module": "@jupyter-widgets/controls",
      "model_module_version": "2.0.0",
      "model_name": "ToggleButtonStyleModel",
      "state": {
       "description_width": "",
       "font_family": null,
       "font_size": null,
       "font_style": null,
       "font_variant": null,
       "font_weight": null,
       "text_color": null,
       "text_decoration": null
      }
     },
     "2160868589ce427cb06efefe74068f5e": {
      "model_module": "@jupyter-widgets/controls",
      "model_module_version": "2.0.0",
      "model_name": "ToggleButtonModel",
      "state": {
       "button_style": "primary",
       "icon": "adjust",
       "layout": "IPY_MODEL_e7c46f32541543d4857942a316676c30",
       "style": "IPY_MODEL_237c8a3463b64990a7b5d1b5db2b0fc3",
       "tooltip": "Planet imagery"
      }
     },
     "21f2ed217cbd4f8b8c5effc6b86a4dd6": {
      "model_module": "@jupyter-widgets/controls",
      "model_module_version": "2.0.0",
      "model_name": "DropdownModel",
      "state": {
       "index": null,
       "layout": "IPY_MODEL_cca78a7e40894a88bc883863f59a71db",
       "style": "IPY_MODEL_edc894afe83142e9b8b60d19db456b02"
      }
     },
     "2241111de53a485889cbbb190cd08e7e": {
      "model_module": "@jupyter-widgets/controls",
      "model_module_version": "2.0.0",
      "model_name": "ToggleButtonStyleModel",
      "state": {
       "description_width": "",
       "font_family": null,
       "font_size": null,
       "font_style": null,
       "font_variant": null,
       "font_weight": null,
       "text_color": null,
       "text_decoration": null
      }
     },
     "224c58eb54664cd38fc50ca6e0994498": {
      "model_module": "@jupyter-widgets/controls",
      "model_module_version": "2.0.0",
      "model_name": "ButtonStyleModel",
      "state": {
       "font_family": null,
       "font_size": null,
       "font_style": null,
       "font_variant": null,
       "font_weight": null,
       "text_color": null,
       "text_decoration": null
      }
     },
     "224f822957e84bfebc6c051cbd6c76c4": {
      "model_module": "ipyevents",
      "model_module_version": "2.0.1",
      "model_name": "EventModel",
      "state": {
       "_supported_key_events": [
        "keydown",
        "keyup"
       ],
       "_supported_mouse_events": [
        "click",
        "auxclick",
        "dblclick",
        "mouseenter",
        "mouseleave",
        "mousedown",
        "mouseup",
        "mousemove",
        "wheel",
        "contextmenu",
        "dragstart",
        "drag",
        "dragend",
        "dragenter",
        "dragover",
        "dragleave",
        "drop"
       ],
       "_supported_touch_events": [
        "touchstart",
        "touchend",
        "touchmove",
        "touchcancel"
       ],
       "_view_module": "@jupyter-widgets/controls",
       "source": "IPY_MODEL_d2b4b1db2843404c9c1299982472112e",
       "throttle_or_debounce": "",
       "watched_events": [
        "mouseenter",
        "mouseleave"
       ],
       "xy_coordinate_system": ""
      }
     },
     "2255e3ad0941446ca07770ca4015a26f": {
      "model_module": "@jupyter-widgets/controls",
      "model_module_version": "2.0.0",
      "model_name": "ToggleButtonModel",
      "state": {
       "button_style": "primary",
       "icon": "bar-chart",
       "layout": "IPY_MODEL_878f75ca1b564c0a9a86dc62d4a40eef",
       "style": "IPY_MODEL_7c1d9b97aee844a7b8146cbf610fa72a",
       "tooltip": "Plotting"
      }
     },
     "22636e9af4be465ea1b1fb70b28bdaf5": {
      "model_module": "@jupyter-widgets/controls",
      "model_module_version": "2.0.0",
      "model_name": "ToggleButtonStyleModel",
      "state": {
       "description_width": "",
       "font_family": null,
       "font_size": null,
       "font_style": null,
       "font_variant": null,
       "font_weight": null,
       "text_color": null,
       "text_decoration": null
      }
     },
     "22bff7d809454f2ab1b47ab80709517f": {
      "model_module": "@jupyter-widgets/base",
      "model_module_version": "2.0.0",
      "model_name": "LayoutModel",
      "state": {}
     },
     "22c8bbbda3f542cca6553247db6ab8f9": {
      "model_module": "@jupyter-widgets/base",
      "model_module_version": "2.0.0",
      "model_name": "LayoutModel",
      "state": {
       "max_height": "350px",
       "max_width": "340px",
       "overflow": "scroll"
      }
     },
     "22f0a525d2154227b4c518321fe04b47": {
      "model_module": "@jupyter-widgets/base",
      "model_module_version": "2.0.0",
      "model_name": "LayoutModel",
      "state": {
       "max_width": "279px",
       "min_width": "279px"
      }
     },
     "22f34e7ad2824a95ba8b2a33be1655fe": {
      "model_module": "@jupyter-widgets/controls",
      "model_module_version": "2.0.0",
      "model_name": "ToggleButtonModel",
      "state": {
       "icon": "server",
       "layout": "IPY_MODEL_955a5707a0b3498b9fc75c97137c174b",
       "style": "IPY_MODEL_e65bd839b5164cd8baa13aa67ba1c47a",
       "tooltip": "Layers"
      }
     },
     "231370d7ec4044cb9c5f11566edd904d": {
      "model_module": "jupyter-leaflet",
      "model_module_version": "^0.17",
      "model_name": "LeafletAttributionControlModel",
      "state": {
       "_model_module_version": "^0.17",
       "_view_module_version": "^0.17",
       "options": [
        "position",
        "prefix"
       ],
       "position": "bottomright",
       "prefix": "ipyleaflet"
      }
     },
     "23258197c4ac4cbcbd67c9cfbf4c385c": {
      "model_module": "@jupyter-widgets/controls",
      "model_module_version": "2.0.0",
      "model_name": "ToggleButtonModel",
      "state": {
       "icon": "globe",
       "layout": "IPY_MODEL_e7281539eb9c4b31a4f9167dbcca4a75",
       "style": "IPY_MODEL_4644d4ae795845279eddc5fe14f1b75f",
       "tooltip": "Search location/data"
      }
     },
     "233149929d984fd6bc4b0f9bfd9e0d00": {
      "model_module": "@jupyter-widgets/controls",
      "model_module_version": "2.0.0",
      "model_name": "VBoxModel",
      "state": {
       "_view_count": 1,
       "children": [
        "IPY_MODEL_a2f40e4d53394ccb8eff0ee5a61053ce"
       ],
       "layout": "IPY_MODEL_c4218f161a674ce89efcd2f8f51fa14f"
      }
     },
     "23323ef98bfa4e38982136b002d85744": {
      "model_module": "@jupyter-widgets/controls",
      "model_module_version": "2.0.0",
      "model_name": "LinkModel",
      "state": {
       "source": [
        "IPY_MODEL_d0f8327f50b84bb6a468b034b406f9e3",
        "value"
       ],
       "target": [
        "IPY_MODEL_db885b06a5304fd3a2a8eeac5c07b9c6",
        "visible"
       ]
      }
     },
     "23623674effd402bba20237c56ee8e0e": {
      "model_module": "@jupyter-widgets/base",
      "model_module_version": "2.0.0",
      "model_name": "LayoutModel",
      "state": {
       "height": "auto",
       "padding": "0px 0px 0px 4px",
       "width": "auto"
      }
     },
     "2374d72f478b4f89ba053de701879eb8": {
      "model_module": "@jupyter-widgets/controls",
      "model_module_version": "2.0.0",
      "model_name": "HBoxModel",
      "state": {
       "children": [
        "IPY_MODEL_50c6db3cc5e74d3d962c43803819d754",
        "IPY_MODEL_861f6e14812c4673bf07ea606454565b"
       ],
       "layout": "IPY_MODEL_06b36caa0ee84caeb01eb2ab2a368952"
      }
     },
     "237c8a3463b64990a7b5d1b5db2b0fc3": {
      "model_module": "@jupyter-widgets/controls",
      "model_module_version": "2.0.0",
      "model_name": "ToggleButtonStyleModel",
      "state": {
       "description_width": "",
       "font_family": null,
       "font_size": null,
       "font_style": null,
       "font_variant": null,
       "font_weight": null,
       "text_color": null,
       "text_decoration": null
      }
     },
     "238cc8b558994cdcb66fd3896cc44706": {
      "model_module": "@jupyter-widgets/controls",
      "model_module_version": "2.0.0",
      "model_name": "ToggleButtonModel",
      "state": {
       "icon": "globe",
       "layout": "IPY_MODEL_277911e993a54070a1555d04a23106eb",
       "style": "IPY_MODEL_02b18930614643dc99cf116b3554d436",
       "tooltip": "Search location/data"
      }
     },
     "2391e4942b724b9da0f4b0a396e385f9": {
      "model_module": "@jupyter-widgets/controls",
      "model_module_version": "2.0.0",
      "model_name": "ToggleButtonModel",
      "state": {
       "button_style": "primary",
       "icon": "hand-o-up",
       "layout": "IPY_MODEL_c35dd62127714f69ad87be51ba8d9a18",
       "style": "IPY_MODEL_49551f76c33a406785910a57877b0834",
       "tooltip": "Collect training samples"
      }
     },
     "23b97f951d9d4aef8b6cb5807930550a": {
      "model_module": "@jupyter-widgets/base",
      "model_module_version": "2.0.0",
      "model_name": "LayoutModel",
      "state": {
       "height": "auto",
       "padding": "0px 0px 0px 4px",
       "width": "auto"
      }
     },
     "23d20e91cf8b4221a053ad43cb3487c8": {
      "model_module": "@jupyter-widgets/base",
      "model_module_version": "2.0.0",
      "model_name": "LayoutModel",
      "state": {
       "height": "auto",
       "padding": "0px 0px 0px 4px",
       "width": "auto"
      }
     },
     "23d3da4bbe264880bd8dfbc8c391378c": {
      "model_module": "@jupyter-widgets/controls",
      "model_module_version": "2.0.0",
      "model_name": "HBoxModel",
      "state": {
       "children": [
        "IPY_MODEL_c66eb12468eb41f6b991bbc84977b84c",
        "IPY_MODEL_a2f40e4d53394ccb8eff0ee5a61053ce"
       ],
       "layout": "IPY_MODEL_043c0539254448029f87d78026850cac"
      }
     },
     "23e2d3d052964c8b8b5d29bfaff61939": {
      "model_module": "@jupyter-widgets/controls",
      "model_module_version": "2.0.0",
      "model_name": "TextStyleModel",
      "state": {
       "description_width": "",
       "font_size": null,
       "text_color": null
      }
     },
     "24640750aaef4f289652245a14eaf19e": {
      "model_module": "jupyter-leaflet",
      "model_module_version": "^0.17",
      "model_name": "LeafletZoomControlModel",
      "state": {
       "_model_module_version": "^0.17",
       "_view_module_version": "^0.17",
       "options": [
        "position",
        "zoom_in_text",
        "zoom_in_title",
        "zoom_out_text",
        "zoom_out_title"
       ]
      }
     },
     "247c9899ec6548e6932f3aa0053b37c3": {
      "model_module": "@jupyter-widgets/base",
      "model_module_version": "2.0.0",
      "model_name": "LayoutModel",
      "state": {}
     },
     "24915d1c0757408d8f6defda9888fb22": {
      "model_module": "@jupyter-widgets/controls",
      "model_module_version": "2.0.0",
      "model_name": "ToggleButtonStyleModel",
      "state": {
       "description_width": "",
       "font_family": null,
       "font_size": null,
       "font_style": null,
       "font_variant": null,
       "font_weight": null,
       "text_color": null,
       "text_decoration": null
      }
     },
     "249192fab7254498ab93e3961b1c5a14": {
      "model_module": "@jupyter-widgets/controls",
      "model_module_version": "2.0.0",
      "model_name": "ToggleButtonModel",
      "state": {
       "icon": "wrench",
       "layout": "IPY_MODEL_05162debe40d4ac6a3af69737706fca2",
       "style": "IPY_MODEL_ec6840481db14c628a89288183fc0d07",
       "tooltip": "Toolbar"
      }
     },
     "24d1f3e4e4604d4d958a7e71944d704c": {
      "model_module": "@jupyter-widgets/controls",
      "model_module_version": "2.0.0",
      "model_name": "ToggleButtonModel",
      "state": {
       "button_style": "primary",
       "icon": "fast-forward",
       "layout": "IPY_MODEL_9a3f2b32389c4aa8b731c7dea2b63185",
       "style": "IPY_MODEL_62060dc07e474f5d832d7594a91857e6",
       "tooltip": "Activate timeslider"
      }
     },
     "25326da1cf384ad68706b8afc5d04a12": {
      "model_module": "jupyter-leaflet",
      "model_module_version": "^0.17",
      "model_name": "LeafletAttributionControlModel",
      "state": {
       "_model_module_version": "^0.17",
       "_view_module_version": "^0.17",
       "options": [
        "position",
        "prefix"
       ],
       "position": "bottomright",
       "prefix": "ipyleaflet"
      }
     },
     "25dd09c0a6b14515ae85173bd74ecdb4": {
      "model_module": "@jupyter-widgets/controls",
      "model_module_version": "2.0.0",
      "model_name": "TextareaModel",
      "state": {
       "disabled": true,
       "layout": "IPY_MODEL_6891cc6b7b2c4227bc62188bab9b9604",
       "style": "IPY_MODEL_35b1b17986494c179f7c3f371241bb9f",
       "value": "Description: Clips a raster to a vector polygon."
      }
     },
     "25e952c432284352855af502fa12534a": {
      "model_module": "@jupyter-widgets/base",
      "model_module_version": "2.0.0",
      "model_name": "LayoutModel",
      "state": {}
     },
     "25ecc414009f4ab2b1ef4c2fe9e7c0eb": {
      "model_module": "@jupyter-widgets/controls",
      "model_module_version": "2.0.0",
      "model_name": "ButtonStyleModel",
      "state": {
       "font_family": null,
       "font_size": null,
       "font_style": null,
       "font_variant": null,
       "font_weight": null,
       "text_color": null,
       "text_decoration": null
      }
     },
     "25f0c7d39bac4f438eb4f6db63307c19": {
      "model_module": "@jupyter-widgets/controls",
      "model_module_version": "2.0.0",
      "model_name": "ToggleButtonModel",
      "state": {
       "button_style": "primary",
       "icon": "random",
       "layout": "IPY_MODEL_6c33e226414e4ff3a2f11085d3d66787",
       "style": "IPY_MODEL_d86de92ba09a4e86a21af44718c5cbc2",
       "tooltip": "Sankey plots"
      }
     },
     "2628c4df11d847b4aacbcee058224d97": {
      "model_module": "@jupyter-widgets/base",
      "model_module_version": "2.0.0",
      "model_name": "LayoutModel",
      "state": {
       "max_width": "279px",
       "min_width": "279px"
      }
     },
     "26420a8f932f4fb2a438ff5ebb9eea0a": {
      "model_module": "@jupyter-widgets/controls",
      "model_module_version": "2.0.0",
      "model_name": "ToggleButtonModel",
      "state": {
       "button_style": "primary",
       "icon": "plus",
       "layout": "IPY_MODEL_6fc2fd090ef44b90b9007ddd6757760e",
       "style": "IPY_MODEL_8f2b725e7fbf403299059af4df246328",
       "tooltip": "Expand toolbar"
      }
     },
     "26556563380746ff84d77bdd76614f54": {
      "model_module": "@jupyter-widgets/base",
      "model_module_version": "2.0.0",
      "model_name": "LayoutModel",
      "state": {
       "height": "auto",
       "padding": "0px 0px 0px 4px",
       "width": "auto"
      }
     },
     "2692612e2fc14b498b6e0837695f1ba1": {
      "model_module": "jupyter-leaflet",
      "model_module_version": "^0.17",
      "model_name": "LeafletScaleControlModel",
      "state": {
       "_model_module_version": "^0.17",
       "_view_module_version": "^0.17",
       "imperial": true,
       "max_width": 100,
       "metric": true,
       "options": [
        "imperial",
        "max_width",
        "metric",
        "position",
        "update_when_idle"
       ],
       "position": "bottomleft",
       "update_when_idle": false
      }
     },
     "269c2376231744d08796157077ef20d6": {
      "model_module": "@jupyter-widgets/controls",
      "model_module_version": "2.0.0",
      "model_name": "ToggleButtonModel",
      "state": {
       "button_style": "primary",
       "icon": "gears",
       "layout": "IPY_MODEL_1d8c9c0fdb8c43c1918af42ce5746720",
       "style": "IPY_MODEL_2a3cfbf9339548d3a57f060e77c87d1f",
       "tooltip": "WhiteboxTools for local geoprocessing"
      }
     },
     "26a9abd1b5d14ff4ab52453d6c8962f3": {
      "model_module": "@jupyter-widgets/controls",
      "model_module_version": "2.0.0",
      "model_name": "ButtonStyleModel",
      "state": {
       "font_family": null,
       "font_size": null,
       "font_style": null,
       "font_variant": null,
       "font_weight": null,
       "text_color": null,
       "text_decoration": null
      }
     },
     "2744a0af82be471394aa2c447757c367": {
      "model_module": "@jupyter-widgets/base",
      "model_module_version": "2.0.0",
      "model_name": "LayoutModel",
      "state": {}
     },
     "27538d84c0744b9f8f9e38f734126dee": {
      "model_module": "@jupyter-widgets/controls",
      "model_module_version": "2.0.0",
      "model_name": "ToggleButtonStyleModel",
      "state": {
       "description_width": "",
       "font_family": null,
       "font_size": null,
       "font_style": null,
       "font_variant": null,
       "font_weight": null,
       "text_color": null,
       "text_decoration": null
      }
     },
     "27549d28470d487991ba1aea773dbf73": {
      "model_module": "jupyter-leaflet",
      "model_module_version": "^0.17",
      "model_name": "LeafletWidgetControlModel",
      "state": {
       "_model_module": "jupyter-leaflet",
       "_model_module_version": "^0.17",
       "_view_count": null,
       "_view_module": "jupyter-leaflet",
       "_view_module_version": "^0.17",
       "options": [
        "position",
        "transparent_bg"
       ],
       "position": "topright",
       "widget": "IPY_MODEL_a5dd52bdcffc47dc9d395772bd1cd3aa"
      }
     },
     "276c0c4670a84ded8a649a56d391f783": {
      "model_module": "@jupyter-widgets/controls",
      "model_module_version": "2.0.0",
      "model_name": "ToggleButtonStyleModel",
      "state": {
       "description_width": "",
       "font_family": null,
       "font_size": null,
       "font_style": null,
       "font_variant": null,
       "font_weight": null,
       "text_color": null,
       "text_decoration": null
      }
     },
     "277911e993a54070a1555d04a23106eb": {
      "model_module": "@jupyter-widgets/base",
      "model_module_version": "2.0.0",
      "model_name": "LayoutModel",
      "state": {
       "height": "28px",
       "padding": "0px 0px 0px 4px",
       "width": "28px"
      }
     },
     "279b99b868ed44078c216f483f732c0d": {
      "model_module": "@jupyter-widgets/controls",
      "model_module_version": "2.0.0",
      "model_name": "ToggleButtonStyleModel",
      "state": {
       "description_width": "",
       "font_family": null,
       "font_size": null,
       "font_style": null,
       "font_variant": null,
       "font_weight": null,
       "text_color": null,
       "text_decoration": null
      }
     },
     "279d66519d094f0cb1088e657bfb2482": {
      "model_module": "@jupyter-widgets/controls",
      "model_module_version": "2.0.0",
      "model_name": "ToggleButtonModel",
      "state": {
       "icon": "wrench",
       "layout": "IPY_MODEL_29463239fd924f4ca423a56455e7d396",
       "style": "IPY_MODEL_059bcd1c184c4532a90b68239e707b19",
       "tooltip": "Toolbar"
      }
     },
     "27b4d617cb0341609fc3915c79d40aaf": {
      "model_module": "@jupyter-widgets/base",
      "model_module_version": "2.0.0",
      "model_name": "LayoutModel",
      "state": {
       "height": "auto",
       "padding": "0px 0px 0px 4px",
       "width": "auto"
      }
     },
     "27be2820f024436aab0005330368c300": {
      "model_module": "@jupyter-widgets/controls",
      "model_module_version": "2.0.0",
      "model_name": "ToggleButtonModel",
      "state": {
       "button_style": "primary",
       "icon": "globe",
       "layout": "IPY_MODEL_4f4c7d04182b405cb74caf1c35a0fdfc",
       "style": "IPY_MODEL_3b1da4b58b6948a88bff476628c13920",
       "tooltip": "Create timelapse"
      }
     },
     "27c3d4ef74994df59c9873791a7ffaf2": {
      "model_module": "@jupyter-widgets/controls",
      "model_module_version": "2.0.0",
      "model_name": "VBoxModel",
      "state": {
       "children": [
        "IPY_MODEL_3162c65d9b1e4518ba4e85116463aca2"
       ],
       "layout": "IPY_MODEL_40afba7634034edd94a827d034e7243f"
      }
     },
     "27d3785d2a25493a95afed8df5d25ec6": {
      "model_module": "@jupyter-widgets/controls",
      "model_module_version": "2.0.0",
      "model_name": "TextStyleModel",
      "state": {
       "description_width": "",
       "font_size": null,
       "text_color": null
      }
     },
     "27d6ca33f4bc47608a5947512a0452d3": {
      "model_module": "@jupyter-widgets/controls",
      "model_module_version": "2.0.0",
      "model_name": "ToggleButtonStyleModel",
      "state": {
       "description_width": "",
       "font_family": null,
       "font_size": null,
       "font_style": null,
       "font_variant": null,
       "font_weight": null,
       "text_color": null,
       "text_decoration": null
      }
     },
     "27f09070fe5140eab3f26d84aad9d114": {
      "model_module": "@jupyter-widgets/base",
      "model_module_version": "2.0.0",
      "model_name": "LayoutModel",
      "state": {}
     },
     "280b74728b1c45ae866dc8eb85dbc608": {
      "model_module": "@jupyter-widgets/controls",
      "model_module_version": "2.0.0",
      "model_name": "ToggleButtonStyleModel",
      "state": {
       "description_width": "",
       "font_family": null,
       "font_size": null,
       "font_style": null,
       "font_variant": null,
       "font_weight": null,
       "text_color": null,
       "text_decoration": null
      }
     },
     "280e642d8c3a4ffebca8163d46857780": {
      "model_module": "jupyter-leaflet",
      "model_module_version": "^0.17",
      "model_name": "LeafletTileLayerModel",
      "state": {
       "_model_module_version": "^0.17",
       "_view_module_version": "^0.17",
       "attribution": "Google Earth Engine",
       "max_zoom": 24,
       "name": "Administrative 2 Regions Surrounding Delhi",
       "options": [
        "attribution",
        "bounds",
        "detect_retina",
        "max_native_zoom",
        "max_zoom",
        "min_native_zoom",
        "min_zoom",
        "no_wrap",
        "tile_size",
        "tms",
        "zoom_offset"
       ],
       "url": "https://earthengine.googleapis.com/v1/projects/earthengine-legacy/maps/883cf9bc1c39191675a0f1d39a6fbba8-3385eda55f271587982996869c952cd3/tiles/{z}/{x}/{y}"
      }
     },
     "280f424014084eda9e31786aabba9d35": {
      "model_module": "@jupyter-widgets/controls",
      "model_module_version": "2.0.0",
      "model_name": "ToggleButtonStyleModel",
      "state": {
       "description_width": "",
       "font_family": null,
       "font_size": null,
       "font_style": null,
       "font_variant": null,
       "font_weight": null,
       "text_color": null,
       "text_decoration": null
      }
     },
     "280f757f23e14058999246f862fd37cf": {
      "model_module": "@jupyter-widgets/base",
      "model_module_version": "2.0.0",
      "model_name": "LayoutModel",
      "state": {
       "height": "auto",
       "padding": "0px 0px 0px 4px",
       "width": "auto"
      }
     },
     "281011569b3042eeaaef65d828793fb1": {
      "model_module": "@jupyter-widgets/controls",
      "model_module_version": "2.0.0",
      "model_name": "HTMLStyleModel",
      "state": {
       "description_width": "",
       "font_size": null,
       "text_color": null
      }
     },
     "2829ea15bf554f00900996437467558e": {
      "model_module": "@jupyter-widgets/controls",
      "model_module_version": "2.0.0",
      "model_name": "ToggleButtonModel",
      "state": {
       "button_style": "primary",
       "icon": "adjust",
       "layout": "IPY_MODEL_abf15c2443974ea7ab9c996c841cb70e",
       "style": "IPY_MODEL_000879cefa9141029823eabc92cbdae6",
       "tooltip": "Planet imagery"
      }
     },
     "284ae6ea0b4244ffa2c93aee3cd8c25b": {
      "model_module": "@jupyter-widgets/controls",
      "model_module_version": "2.0.0",
      "model_name": "HBoxModel",
      "state": {
       "children": [
        "IPY_MODEL_599fe2e973164fde9bf9f121d8f29c2b",
        "IPY_MODEL_a4419d37e4b9406680a67410a0cb7a17"
       ],
       "layout": "IPY_MODEL_bf3d1cd8aad84493bcec8f2e4cb770be"
      }
     },
     "28c5d56eba4e46efb3ce0c2bcbc10ab9": {
      "model_module": "@jupyter-widgets/base",
      "model_module_version": "2.0.0",
      "model_name": "LayoutModel",
      "state": {}
     },
     "28c8e5e507214173852636ec4ed91f2c": {
      "model_module": "@jupyter-widgets/controls",
      "model_module_version": "2.0.0",
      "model_name": "DescriptionStyleModel",
      "state": {
       "description_width": ""
      }
     },
     "28dca3dd68f341d5aacd760fc66d77c1": {
      "model_module": "@jupyter-widgets/base",
      "model_module_version": "2.0.0",
      "model_name": "LayoutModel",
      "state": {
       "height": "auto",
       "padding": "0px 0px 0px 4px",
       "width": "auto"
      }
     },
     "292a33d363ea4b8c918777cd2a8d9f11": {
      "model_module": "jupyter-leaflet",
      "model_module_version": "^0.17",
      "model_name": "LeafletWidgetControlModel",
      "state": {
       "_model_module": "jupyter-leaflet",
       "_model_module_version": "^0.17",
       "_view_count": null,
       "_view_module": "jupyter-leaflet",
       "_view_module_version": "^0.17",
       "options": [
        "position",
        "transparent_bg"
       ],
       "position": "topright",
       "widget": "IPY_MODEL_01137c91d006455dbb8c8493ae9d3834"
      }
     },
     "29463239fd924f4ca423a56455e7d396": {
      "model_module": "@jupyter-widgets/base",
      "model_module_version": "2.0.0",
      "model_name": "LayoutModel",
      "state": {
       "height": "28px",
       "padding": "0px 0px 0px 4px",
       "width": "28px"
      }
     },
     "296249dc9b8743deb798a97a67397802": {
      "model_module": "jupyter-leaflet",
      "model_module_version": "^0.17",
      "model_name": "LeafletMapStyleModel",
      "state": {
       "_model_module_version": "^0.17",
       "cursor": "move"
      }
     },
     "2991d57ad3e24ac98aa24ab279812b97": {
      "model_module": "@jupyter-widgets/controls",
      "model_module_version": "2.0.0",
      "model_name": "HTMLStyleModel",
      "state": {
       "description_width": "",
       "font_size": null,
       "text_color": null
      }
     },
     "29d413c78ac94424bb6afe7455d4019a": {
      "model_module": "@jupyter-widgets/controls",
      "model_module_version": "2.0.0",
      "model_name": "HBoxModel",
      "state": {
       "children": [
        "IPY_MODEL_dbde9485aa4147349ddaa1dd8478d8f3",
        "IPY_MODEL_279d66519d094f0cb1088e657bfb2482"
       ],
       "layout": "IPY_MODEL_ff52c80e596a4b7aa5942ea3539b02ab"
      }
     },
     "29e05937799145b8a66a35f735a3d741": {
      "model_module": "jupyter-leaflet",
      "model_module_version": "^0.17",
      "model_name": "LeafletTileLayerModel",
      "state": {
       "_model_module_version": "^0.17",
       "_view_module_version": "^0.17",
       "attribution": "Google Earth Engine",
       "max_zoom": 24,
       "name": "Administrative 2 Regions Surrounding Delhi",
       "options": [
        "attribution",
        "bounds",
        "detect_retina",
        "max_native_zoom",
        "max_zoom",
        "min_native_zoom",
        "min_zoom",
        "no_wrap",
        "tile_size",
        "tms",
        "zoom_offset"
       ],
       "url": "https://earthengine.googleapis.com/v1/projects/earthengine-legacy/maps/202c95a476a56c07eb23ecc46b4d7323-26abd1219264d94681dbe7d83e357c14/tiles/{z}/{x}/{y}"
      }
     },
     "2a1bf10b32504d01a029bb6c641150ad": {
      "model_module": "@jupyter-widgets/controls",
      "model_module_version": "2.0.0",
      "model_name": "ToggleButtonStyleModel",
      "state": {
       "description_width": "",
       "font_family": null,
       "font_size": null,
       "font_style": null,
       "font_variant": null,
       "font_weight": null,
       "text_color": null,
       "text_decoration": null
      }
     },
     "2a3cfbf9339548d3a57f060e77c87d1f": {
      "model_module": "@jupyter-widgets/controls",
      "model_module_version": "2.0.0",
      "model_name": "ToggleButtonStyleModel",
      "state": {
       "description_width": "",
       "font_family": null,
       "font_size": null,
       "font_style": null,
       "font_variant": null,
       "font_weight": null,
       "text_color": null,
       "text_decoration": null
      }
     },
     "2a42726adf6c43f0980a6d7e81e0479d": {
      "model_module": "@jupyter-widgets/controls",
      "model_module_version": "2.0.0",
      "model_name": "HBoxModel",
      "state": {
       "children": [
        "IPY_MODEL_88bba58bdcab470cb3f19fbb7f48809c",
        "IPY_MODEL_10d60ac744c74e54ba262646dc86e58e",
        "IPY_MODEL_d28bf111aebd4640998920684fe0fb8d"
       ],
       "layout": "IPY_MODEL_ea720ee95d294a2ea0178021eeb31690"
      }
     },
     "2a68e219d9a840bbb9b1c3e8df2f0dc6": {
      "model_module": "@jupyter-widgets/controls",
      "model_module_version": "2.0.0",
      "model_name": "ToggleButtonModel",
      "state": {
       "button_style": "primary",
       "icon": "random",
       "layout": "IPY_MODEL_b197fdc49d98417395eef4dc0d8e3c9d",
       "style": "IPY_MODEL_e4fb97dc68254af49104aea0e9173974",
       "tooltip": "Sankey plots"
      }
     },
     "2a7a7549d99a444299ca42694b6cc864": {
      "model_module": "@jupyter-widgets/controls",
      "model_module_version": "2.0.0",
      "model_name": "CheckboxStyleModel",
      "state": {
       "description_width": ""
      }
     },
     "2a871833bd3249c785efa57b923df187": {
      "model_module": "@jupyter-widgets/controls",
      "model_module_version": "2.0.0",
      "model_name": "ToggleButtonStyleModel",
      "state": {
       "description_width": "",
       "font_family": null,
       "font_size": null,
       "font_style": null,
       "font_variant": null,
       "font_weight": null,
       "text_color": null,
       "text_decoration": null
      }
     },
     "2aaf69e4eff94a0ab8e9a28bcb20c4ee": {
      "model_module": "@jupyter-widgets/controls",
      "model_module_version": "2.0.0",
      "model_name": "ToggleButtonModel",
      "state": {
       "button_style": "primary",
       "icon": "line-chart",
       "layout": "IPY_MODEL_06d859f14777465f91849bc2fca71ac8",
       "style": "IPY_MODEL_50c8b768434442d5aa4831be1f0b55c1",
       "tooltip": "Creating and plotting transects"
      }
     },
     "2aeb2ae6c9e243c19ae32d9aec471b69": {
      "model_module": "@jupyter-widgets/controls",
      "model_module_version": "2.0.0",
      "model_name": "DropdownModel",
      "state": {
       "_options_labels": [
        "/Users/rishi/02India_Analysis",
        "/Users/rishi",
        "/Users",
        "/"
       ],
       "index": 0,
       "layout": "IPY_MODEL_88cbb292a819431eb8446e0d8b777dcc",
       "style": "IPY_MODEL_e891ab93b6484406b17d3c7333f83824"
      }
     },
     "2b0681d770134338abe955fad03d8094": {
      "model_module": "jupyter-leaflet",
      "model_module_version": "^0.17",
      "model_name": "LeafletZoomControlModel",
      "state": {
       "_model_module_version": "^0.17",
       "_view_module_version": "^0.17",
       "options": [
        "position",
        "zoom_in_text",
        "zoom_in_title",
        "zoom_out_text",
        "zoom_out_title"
       ]
      }
     },
     "2b83f84aa47848cab9c1f54fa4fc52fe": {
      "model_module": "@jupyter-widgets/base",
      "model_module_version": "2.0.0",
      "model_name": "LayoutModel",
      "state": {
       "display": "none",
       "min_width": "6em",
       "width": "6em"
      }
     },
     "2bb6f86063254d74a052250da2c758a5": {
      "model_module": "@jupyter-widgets/output",
      "model_module_version": "1.0.0",
      "model_name": "OutputModel",
      "state": {
       "layout": "IPY_MODEL_22c8bbbda3f542cca6553247db6ab8f9"
      }
     },
     "2bf68eebe0c84357860382f9273f116e": {
      "model_module": "@jupyter-widgets/controls",
      "model_module_version": "2.0.0",
      "model_name": "ToggleButtonModel",
      "state": {
       "button_style": "primary",
       "icon": "plus",
       "layout": "IPY_MODEL_544737ab9615409d83ddcb42afab96f2",
       "style": "IPY_MODEL_57c0135cd69d485e8e59da84c7efc93d",
       "tooltip": "Expand toolbar"
      }
     },
     "2c0c31d05c884ddca4b3b908c8a7fda3": {
      "model_module": "@jupyter-widgets/base",
      "model_module_version": "2.0.0",
      "model_name": "LayoutModel",
      "state": {}
     },
     "2c1123e2bc8b42688b343b5170f400c5": {
      "model_module": "@jupyter-widgets/base",
      "model_module_version": "2.0.0",
      "model_name": "LayoutModel",
      "state": {
       "height": "auto",
       "padding": "0px 0px 0px 4px",
       "width": "auto"
      }
     },
     "2c2a410f2c7f4f0988b21ec8c7faebd2": {
      "model_module": "@jupyter-widgets/controls",
      "model_module_version": "2.0.0",
      "model_name": "ToggleButtonStyleModel",
      "state": {
       "description_width": "",
       "font_family": null,
       "font_size": null,
       "font_style": null,
       "font_variant": null,
       "font_weight": null,
       "text_color": null,
       "text_decoration": null
      }
     },
     "2c63fe713b3c4d239dfaa391e4c9e8a3": {
      "model_module": "@jupyter-widgets/base",
      "model_module_version": "2.0.0",
      "model_name": "LayoutModel",
      "state": {
       "max_width": "57px",
       "min_width": "57px"
      }
     },
     "2c76e6f8b8ab41da9b21bf95f02ae322": {
      "model_module": "@jupyter-widgets/base",
      "model_module_version": "2.0.0",
      "model_name": "LayoutModel",
      "state": {
       "height": "28px",
       "padding": "0px 0px 0px 4px",
       "width": "28px"
      }
     },
     "2c8d36720c924c50849a11688aff2f57": {
      "model_module": "@jupyter-widgets/base",
      "model_module_version": "2.0.0",
      "model_name": "LayoutModel",
      "state": {}
     },
     "2c9b09d49f4047988dfeae1e5de256b5": {
      "model_module": "@jupyter-widgets/controls",
      "model_module_version": "2.0.0",
      "model_name": "HTMLModel",
      "state": {
       "layout": "IPY_MODEL_f7f8dec92f6b4dd383fff44503ae19c1",
       "style": "IPY_MODEL_33fca95cd6784539848615b7b3264949",
       "value": "Output File*"
      }
     },
     "2ca304bad6b7458fba9ee759e974a3cc": {
      "model_module": "@jupyter-widgets/controls",
      "model_module_version": "2.0.0",
      "model_name": "HBoxModel",
      "state": {
       "_view_count": 0,
       "children": [
        "IPY_MODEL_66d0902b02634e34ba891ca89c62d6ca"
       ],
       "layout": "IPY_MODEL_25e952c432284352855af502fa12534a"
      }
     },
     "2caee604babd47dfbe0ba8b653b7accf": {
      "model_module": "@jupyter-widgets/controls",
      "model_module_version": "2.0.0",
      "model_name": "ToggleButtonModel",
      "state": {
       "button_style": "primary",
       "icon": "minus",
       "layout": "IPY_MODEL_1136f997fcdb46d2a66f70418a0a9e15",
       "style": "IPY_MODEL_a4da973deb9147cea31ded2bdde92182",
       "tooltip": "Expand toolbar"
      }
     },
     "2cf61ed528f040f3acf4e2756f6564fc": {
      "model_module": "@jupyter-widgets/base",
      "model_module_version": "2.0.0",
      "model_name": "LayoutModel",
      "state": {
       "height": "28px",
       "width": "72px"
      }
     },
     "2d25f6ae99a949c89b4b1801ab0b6048": {
      "model_module": "@jupyter-widgets/controls",
      "model_module_version": "2.0.0",
      "model_name": "ButtonModel",
      "state": {
       "button_style": "primary",
       "description": "import",
       "layout": "IPY_MODEL_02a74533ed394908bf24c69cd6fc9692",
       "style": "IPY_MODEL_c1b53aff37af4314821358b50cd204c6",
       "tooltip": "Click to import the selected asset"
      }
     },
     "2d75f150175345f68df6678f684e8879": {
      "model_module": "jupyter-leaflet",
      "model_module_version": "^0.17",
      "model_name": "LeafletZoomControlModel",
      "state": {
       "_model_module_version": "^0.17",
       "_view_module_version": "^0.17",
       "options": [
        "position",
        "zoom_in_text",
        "zoom_in_title",
        "zoom_out_text",
        "zoom_out_title"
       ]
      }
     },
     "2d7d7e617f904e75ba0bab1446b6bf5d": {
      "model_module": "jupyter-leaflet",
      "model_module_version": "^0.17",
      "model_name": "LeafletTileLayerModel",
      "state": {
       "_model_module_version": "^0.17",
       "_view_module_version": "^0.17",
       "attribution": "&copy; <a href=\"https://www.openstreetmap.org/copyright\">OpenStreetMap</a> contributors",
       "base": true,
       "max_zoom": 19,
       "min_zoom": 1,
       "name": "OpenStreetMap.Mapnik",
       "options": [
        "attribution",
        "bounds",
        "detect_retina",
        "max_native_zoom",
        "max_zoom",
        "min_native_zoom",
        "min_zoom",
        "no_wrap",
        "tile_size",
        "tms",
        "zoom_offset"
       ],
       "url": "https://tile.openstreetmap.org/{z}/{x}/{y}.png"
      }
     },
     "2d8632e93c8e48769b46a8327a12719a": {
      "model_module": "@jupyter-widgets/controls",
      "model_module_version": "2.0.0",
      "model_name": "ToggleButtonStyleModel",
      "state": {
       "description_width": "",
       "font_family": null,
       "font_size": null,
       "font_style": null,
       "font_variant": null,
       "font_weight": null,
       "text_color": null,
       "text_decoration": null
      }
     },
     "2dc645d9a8204ee4b8a2114bb49226d4": {
      "model_module": "@jupyter-widgets/controls",
      "model_module_version": "2.0.0",
      "model_name": "ButtonModel",
      "state": {
       "description": "View Code",
       "layout": "IPY_MODEL_d1dfafee955347a7bab346f63d42b7fb",
       "style": "IPY_MODEL_0cbfffac196745bbb3c0fbd6f207a92b",
       "tooltip": null
      }
     },
     "2dd8da64175b4729b76d6e34966a410f": {
      "model_module": "@jupyter-widgets/controls",
      "model_module_version": "2.0.0",
      "model_name": "ToggleButtonStyleModel",
      "state": {
       "description_width": "",
       "font_family": null,
       "font_size": null,
       "font_style": null,
       "font_variant": null,
       "font_weight": null,
       "text_color": null,
       "text_decoration": null
      }
     },
     "2e03294b9a3b42fd97c349afe04d374e": {
      "model_module": "@jupyter-widgets/controls",
      "model_module_version": "2.0.0",
      "model_name": "VBoxModel",
      "state": {
       "children": [
        "IPY_MODEL_a11a111239964e91a16b7b89934665ea",
        "IPY_MODEL_b3baf513f050417e94543b7cc9006ae4",
        "IPY_MODEL_9e7c563e85ac4afcaa0efa51d9b2c207",
        "IPY_MODEL_f23fa56e07dc4f5e92d0872a3667818f",
        "IPY_MODEL_2a42726adf6c43f0980a6d7e81e0479d",
        "IPY_MODEL_cb84b5acf8b848c29a15841939a688ec"
       ],
       "layout": "IPY_MODEL_4f5a47f6f72d4d2bbb89dd65938e76a7"
      }
     },
     "2e0f38a572c546ba91da7a8902f19c46": {
      "model_module": "@jupyter-widgets/base",
      "model_module_version": "2.0.0",
      "model_name": "LayoutModel",
      "state": {
       "height": "auto",
       "padding": "0px 0px 0px 4px",
       "width": "auto"
      }
     },
     "2e2c97c010fe4dd19872843835d7d199": {
      "model_module": "@jupyter-widgets/base",
      "model_module_version": "2.0.0",
      "model_name": "LayoutModel",
      "state": {
       "height": "600px"
      }
     },
     "2e50bdc5973e4a1f82b3ace15b95c2df": {
      "model_module": "@jupyter-widgets/controls",
      "model_module_version": "2.0.0",
      "model_name": "ToggleButtonStyleModel",
      "state": {
       "description_width": "",
       "font_family": null,
       "font_size": null,
       "font_style": null,
       "font_variant": null,
       "font_weight": null,
       "text_color": null,
       "text_decoration": null
      }
     },
     "2e551668e0e9482296ec7626761cb738": {
      "model_module": "@jupyter-widgets/controls",
      "model_module_version": "2.0.0",
      "model_name": "TextStyleModel",
      "state": {
       "description_width": "",
       "font_size": null,
       "text_color": null
      }
     },
     "2e75a6bd84784dbe8fa75505fa8b9108": {
      "model_module": "@jupyter-widgets/base",
      "model_module_version": "2.0.0",
      "model_name": "LayoutModel",
      "state": {
       "height": "auto",
       "padding": "0px 0px 0px 4px",
       "width": "auto"
      }
     },
     "2e8d0f9e3f7f4bce8221f572ed9da9e1": {
      "model_module": "@jupyter-widgets/controls",
      "model_module_version": "2.0.0",
      "model_name": "ToggleButtonModel",
      "state": {
       "button_style": "primary",
       "icon": "times",
       "layout": "IPY_MODEL_2c76e6f8b8ab41da9b21bf95f02ae322",
       "style": "IPY_MODEL_53e1411525fb489687a8c8401d3862ae",
       "tooltip": "Close the tool"
      }
     },
     "2f2e8bd8983b4dbe9392d4f4e0b8727d": {
      "model_module": "@jupyter-widgets/base",
      "model_module_version": "2.0.0",
      "model_name": "LayoutModel",
      "state": {
       "height": "auto",
       "padding": "0px 0px 0px 4px",
       "width": "auto"
      }
     },
     "2f3672fcb6144631903ab6cc605e443a": {
      "model_module": "ipyevents",
      "model_module_version": "2.0.1",
      "model_name": "EventModel",
      "state": {
       "_supported_key_events": [
        "keydown",
        "keyup"
       ],
       "_supported_mouse_events": [
        "click",
        "auxclick",
        "dblclick",
        "mouseenter",
        "mouseleave",
        "mousedown",
        "mouseup",
        "mousemove",
        "wheel",
        "contextmenu",
        "dragstart",
        "drag",
        "dragend",
        "dragenter",
        "dragover",
        "dragleave",
        "drop"
       ],
       "_supported_touch_events": [
        "touchstart",
        "touchend",
        "touchmove",
        "touchcancel"
       ],
       "_view_module": "@jupyter-widgets/controls",
       "source": "IPY_MODEL_cf0cfbfa732c4ed3ad1b5841755bbdea",
       "throttle_or_debounce": "",
       "watched_events": [
        "mouseenter",
        "mouseleave"
       ],
       "xy_coordinate_system": ""
      }
     },
     "2f3bc3bff3f24c84ba80a914c45224ca": {
      "model_module": "@jupyter-widgets/controls",
      "model_module_version": "2.0.0",
      "model_name": "ToggleButtonStyleModel",
      "state": {
       "description_width": "",
       "font_family": null,
       "font_size": null,
       "font_style": null,
       "font_variant": null,
       "font_weight": null,
       "text_color": null,
       "text_decoration": null
      }
     },
     "2f3eb8dd08434896b90488b73d741b3a": {
      "model_module": "jupyter-leaflet",
      "model_module_version": "^0.17",
      "model_name": "LeafletMapModel",
      "state": {
       "_model_module_version": "^0.17",
       "_view_module_version": "^0.17",
       "bottom": 3637,
       "center": [
        31.615965936476076,
        83.27636718750001
       ],
       "controls": [
        "IPY_MODEL_fb80c1b990494fd2aa6c37f91d805509",
        "IPY_MODEL_964fa86b5d8542fda7c3b0d00a7d47e7",
        "IPY_MODEL_15651a9c7b0b468a9842b81ccc50090f",
        "IPY_MODEL_60ae8e692fff4990bd963caf7e41615b",
        "IPY_MODEL_c0cbd21a91ed4d5a8ed2e6d3a057b6e3",
        "IPY_MODEL_9e0be9faa46249969514deaa798d0b55",
        "IPY_MODEL_292a33d363ea4b8c918777cd2a8d9f11",
        "IPY_MODEL_da42b1900f2c41fa95432c02fdd97c40",
        "IPY_MODEL_314989331dd14d1a9a1b7ed7ec1091ce",
        "IPY_MODEL_5deb73ca091340879a7063f29dd9ba78"
       ],
       "default_style": "IPY_MODEL_624401306b5f40268b2fedb2a0753e1d",
       "dragging_style": "IPY_MODEL_e89c1a2372304d15a91d1312140238bf",
       "east": 102.48046875000001,
       "fullscreen": false,
       "interpolation": "bilinear",
       "layers": [
        "IPY_MODEL_20b96a8bf0554f05abe47c974fd3f063",
        "IPY_MODEL_db885b06a5304fd3a2a8eeac5c07b9c6",
        "IPY_MODEL_91e0285af09b4e5ab0c129e71cff85c8",
        "IPY_MODEL_d363072b14fa431b9a00fb97217597a7",
        "IPY_MODEL_0a668e5718f249a59adbc74df9b25682",
        "IPY_MODEL_91e57568e8f7439b907717bc8300e889"
       ],
       "layout": "IPY_MODEL_7a56e7c9c03340eb8fd6d50e7964d6cf",
       "left": 5554,
       "max_zoom": 24,
       "modisdate": "2023-10-03",
       "north": 42.13082130188811,
       "options": [
        "bounce_at_zoom_limits",
        "box_zoom",
        "center",
        "close_popup_on_click",
        "double_click_zoom",
        "dragging",
        "fullscreen",
        "inertia",
        "inertia_deceleration",
        "inertia_max_speed",
        "interpolation",
        "keyboard",
        "keyboard_pan_offset",
        "keyboard_zoom_offset",
        "max_zoom",
        "min_zoom",
        "prefer_canvas",
        "scroll_wheel_zoom",
        "tap",
        "tap_tolerance",
        "touch_zoom",
        "world_copy_jump",
        "zoom",
        "zoom_animation_threshold",
        "zoom_delta",
        "zoom_snap"
       ],
       "prefer_canvas": false,
       "right": 6428,
       "scroll_wheel_zoom": true,
       "south": 19.766703551716976,
       "style": "IPY_MODEL_624401306b5f40268b2fedb2a0753e1d",
       "top": 3037,
       "west": 64.07226562500001,
       "window_url": "http://localhost:8888/lab/tree/02India_Analysis/2023October_PaperAnalysis.ipynb",
       "zoom": 5
      }
     },
     "2f4ad91f55c047e19f78e1fc4c4fbcde": {
      "model_module": "@jupyter-widgets/controls",
      "model_module_version": "2.0.0",
      "model_name": "DescriptionStyleModel",
      "state": {
       "description_width": ""
      }
     },
     "2f5b918bbdad4417834639f266dfd6a1": {
      "model_module": "@jupyter-widgets/controls",
      "model_module_version": "2.0.0",
      "model_name": "ToggleButtonModel",
      "state": {
       "button_style": "primary",
       "icon": "hand-o-up",
       "layout": "IPY_MODEL_49e51a8191004f03bdd5220b40cb0fef",
       "style": "IPY_MODEL_b7ef723ccb99404b981db3a87e8d0699",
       "tooltip": "Collect training samples"
      }
     },
     "2f69e6685e0748279077d7a07686996a": {
      "model_module": "@jupyter-widgets/base",
      "model_module_version": "2.0.0",
      "model_name": "LayoutModel",
      "state": {
       "height": "18px",
       "width": "140px"
      }
     },
     "2f72cf0b4e7446e68799ea9ab35513c7": {
      "model_module": "@jupyter-widgets/controls",
      "model_module_version": "2.0.0",
      "model_name": "ToggleButtonsModel",
      "state": {
       "_options_labels": [
        "name/address",
        "lat-lon",
        "data"
       ],
       "button_style": "",
       "icons": [],
       "index": 0,
       "layout": "IPY_MODEL_d31724a837944d35baaa077b7674bfbe",
       "style": "IPY_MODEL_6ce6b1db6b11473284bef965a986220f",
       "tooltips": [
        "Search by place name or address",
        "Search by lat-lon coordinates",
        "Search Earth Engine data catalog"
       ]
      }
     },
     "30018185dfb141ac91e0f4dcd7c963b2": {
      "model_module": "@jupyter-widgets/base",
      "model_module_version": "2.0.0",
      "model_name": "LayoutModel",
      "state": {}
     },
     "301003b9bd0c4e22a354ed846658ce27": {
      "model_module": "@jupyter-widgets/controls",
      "model_module_version": "2.0.0",
      "model_name": "ToggleButtonStyleModel",
      "state": {
       "description_width": "",
       "font_family": null,
       "font_size": null,
       "font_style": null,
       "font_variant": null,
       "font_weight": null,
       "text_color": null,
       "text_decoration": null
      }
     },
     "3036b85a5c274b548be309cfb298eab8": {
      "model_module": "@jupyter-widgets/controls",
      "model_module_version": "2.0.0",
      "model_name": "ButtonModel",
      "state": {
       "description": "Select",
       "layout": "IPY_MODEL_7440087482cc461fbb50275435b61b36",
       "style": "IPY_MODEL_e4921815aca94821a632dcb8f8740da2",
       "tooltip": null
      }
     },
     "3037ef6269174095b3ac005460f63753": {
      "model_module": "@jupyter-widgets/base",
      "model_module_version": "2.0.0",
      "model_name": "LayoutModel",
      "state": {
       "height": "350px",
       "width": "465px"
      }
     },
     "3075e0b6ab3a49bc9b9a6856167881cf": {
      "model_module": "@jupyter-widgets/controls",
      "model_module_version": "2.0.0",
      "model_name": "ToggleButtonStyleModel",
      "state": {
       "description_width": "",
       "font_family": null,
       "font_size": null,
       "font_style": null,
       "font_variant": null,
       "font_weight": null,
       "text_color": null,
       "text_decoration": null
      }
     },
     "3088e27581244fa5871e14bd60b45535": {
      "model_module": "@jupyter-widgets/base",
      "model_module_version": "2.0.0",
      "model_name": "LayoutModel",
      "state": {}
     },
     "309a67742c574e09804b8b75eb20c980": {
      "model_module": "@jupyter-widgets/base",
      "model_module_version": "2.0.0",
      "model_name": "LayoutModel",
      "state": {
       "max_height": "500px",
       "max_width": "800px"
      }
     },
     "30a0eb70a87f434aa255822358e47a80": {
      "model_module": "@jupyter-widgets/controls",
      "model_module_version": "2.0.0",
      "model_name": "ToggleButtonModel",
      "state": {
       "button_style": "primary",
       "icon": "bar-chart",
       "layout": "IPY_MODEL_329d17c9b5f44b3f99f5fd4b7d3fc8e4",
       "style": "IPY_MODEL_80885a50a83246f8896ea14f0023f116",
       "tooltip": "Plotting"
      }
     },
     "30b61bb8fe6d47c0aae1a0b3cb0f775c": {
      "model_module": "@jupyter-widgets/controls",
      "model_module_version": "2.0.0",
      "model_name": "ToggleButtonStyleModel",
      "state": {
       "description_width": "",
       "font_family": null,
       "font_size": null,
       "font_style": null,
       "font_variant": null,
       "font_weight": null,
       "text_color": null,
       "text_decoration": null
      }
     },
     "30bb295d359e4999b4122bfefe38ba48": {
      "model_module": "@jupyter-widgets/controls",
      "model_module_version": "2.0.0",
      "model_name": "ToggleButtonsStyleModel",
      "state": {
       "button_width": "110px",
       "description_width": ""
      }
     },
     "30bd05418b804064963e62147b81c7d8": {
      "model_module": "@jupyter-widgets/controls",
      "model_module_version": "2.0.0",
      "model_name": "ToggleButtonModel",
      "state": {
       "button_style": "primary",
       "icon": "folder-open",
       "layout": "IPY_MODEL_37036e363bb2496d83cd4b45659f6696",
       "style": "IPY_MODEL_609388096a55441fb0aecf8de12cc342",
       "tooltip": "Open local vector/raster data"
      }
     },
     "30c5d08dfefe409280cfa1c4fec11127": {
      "model_module": "@jupyter-widgets/base",
      "model_module_version": "2.0.0",
      "model_name": "LayoutModel",
      "state": {}
     },
     "30c7de99e6d74250b84f195abc6b6ac9": {
      "model_module": "jupyter-leaflet",
      "model_module_version": "^0.17",
      "model_name": "LeafletMapStyleModel",
      "state": {
       "_model_module_version": "^0.17"
      }
     },
     "30f454f9ea0b485681418136db29e8e1": {
      "model_module": "jupyter-leaflet",
      "model_module_version": "^0.17",
      "model_name": "LeafletMapStyleModel",
      "state": {
       "_model_module_version": "^0.17"
      }
     },
     "314989331dd14d1a9a1b7ed7ec1091ce": {
      "model_module": "jupyter-leaflet",
      "model_module_version": "^0.17",
      "model_name": "LeafletLayersControlModel",
      "state": {
       "_model_module_version": "^0.17",
       "_view_module_version": "^0.17",
       "options": [
        "position"
       ],
       "position": "topright"
      }
     },
     "3162c65d9b1e4518ba4e85116463aca2": {
      "model_module": "@jupyter-widgets/controls",
      "model_module_version": "2.0.0",
      "model_name": "GridBoxModel",
      "state": {
       "children": [
        "IPY_MODEL_b57eb96462c048039a858aab31e8279a",
        "IPY_MODEL_fc0cf95611f148be8c4ebfcf8a11894f",
        "IPY_MODEL_90b6b3164ca24fc4814d82285c71b3b8",
        "IPY_MODEL_a3d944ea18664a04b6902fef9ca76a5b",
        "IPY_MODEL_8e8f43c37d3e41b5a15b864fed58f8e2",
        "IPY_MODEL_26420a8f932f4fb2a438ff5ebb9eea0a"
       ],
       "layout": "IPY_MODEL_58bcfad7bb5d4fc6ad98b5cf982c9596"
      }
     },
     "3166a36f32c44223a62c7541b108b7db": {
      "model_module": "@jupyter-widgets/controls",
      "model_module_version": "2.0.0",
      "model_name": "BoxModel",
      "state": {
       "children": [
        "IPY_MODEL_39adbdca05184d7d8b5e3ad45127554f"
       ],
       "layout": "IPY_MODEL_5ab9e21277bd4d3e8651084217521a39"
      }
     },
     "31a15dada2404c949f4f4ada069216ec": {
      "model_module": "@jupyter-widgets/controls",
      "model_module_version": "2.0.0",
      "model_name": "VBoxModel",
      "state": {
       "_view_count": 0,
       "children": [
        "IPY_MODEL_6bc8dbdebd994daabd33468213121723"
       ],
       "layout": "IPY_MODEL_ec07e8003ea549aaa450d1822823877a"
      }
     },
     "31e37b08c7af4e83aa8bf33cbcc3bd2c": {
      "model_module": "@jupyter-widgets/controls",
      "model_module_version": "2.0.0",
      "model_name": "TextModel",
      "state": {
       "layout": "IPY_MODEL_9bc2531b3c1d4bf38ea987dfe1a0b7f7",
       "placeholder": "output filename",
       "style": "IPY_MODEL_be377b3897f54ada9d258c857f9375a0",
       "value": "Vector_StudyArea"
      }
     },
     "3202546b86cb45f388d7e29301d12dde": {
      "model_module": "jupyter-leaflet",
      "model_module_version": "^0.17",
      "model_name": "LeafletScaleControlModel",
      "state": {
       "_model_module_version": "^0.17",
       "_view_module_version": "^0.17",
       "imperial": true,
       "max_width": 100,
       "metric": true,
       "options": [
        "imperial",
        "max_width",
        "metric",
        "position",
        "update_when_idle"
       ],
       "position": "bottomleft",
       "update_when_idle": false
      }
     },
     "3215b6bf259644c39b92e03b1390b6f2": {
      "model_module": "jupyter-leaflet",
      "model_module_version": "^0.17",
      "model_name": "LeafletMapStyleModel",
      "state": {
       "_model_module_version": "^0.17"
      }
     },
     "323bfb9da13c43a3be355676bb319ae1": {
      "model_module": "@jupyter-widgets/controls",
      "model_module_version": "2.0.0",
      "model_name": "VBoxModel",
      "state": {
       "children": [
        "IPY_MODEL_481d54f986084f15bc5c7fab6ca812f9"
       ],
       "layout": "IPY_MODEL_41dbfc5382bc4960b4e3c866b51f8729"
      }
     },
     "324aec79fdf4498593fd0c2582a081d5": {
      "model_module": "@jupyter-widgets/controls",
      "model_module_version": "2.0.0",
      "model_name": "ToggleButtonStyleModel",
      "state": {
       "description_width": "",
       "font_family": null,
       "font_size": null,
       "font_style": null,
       "font_variant": null,
       "font_weight": null,
       "text_color": null,
       "text_decoration": null
      }
     },
     "325231d24dd54dc191ed38832da713bd": {
      "model_module": "@jupyter-widgets/controls",
      "model_module_version": "2.0.0",
      "model_name": "ToggleButtonStyleModel",
      "state": {
       "description_width": "",
       "font_family": null,
       "font_size": null,
       "font_style": null,
       "font_variant": null,
       "font_weight": null,
       "text_color": null,
       "text_decoration": null
      }
     },
     "3278a27f282a48f794d80b41c3f59e24": {
      "model_module": "@jupyter-widgets/controls",
      "model_module_version": "2.0.0",
      "model_name": "ToggleButtonStyleModel",
      "state": {
       "description_width": "",
       "font_family": null,
       "font_size": null,
       "font_style": null,
       "font_variant": null,
       "font_weight": null,
       "text_color": null,
       "text_decoration": null
      }
     },
     "329d17c9b5f44b3f99f5fd4b7d3fc8e4": {
      "model_module": "@jupyter-widgets/base",
      "model_module_version": "2.0.0",
      "model_name": "LayoutModel",
      "state": {
       "height": "auto",
       "padding": "0px 0px 0px 4px",
       "width": "auto"
      }
     },
     "32f0bfff701e49a193196d1f839ea5a6": {
      "model_module": "jupyter-leaflet",
      "model_module_version": "^0.17",
      "model_name": "LeafletWidgetControlModel",
      "state": {
       "_model_module": "jupyter-leaflet",
       "_model_module_version": "^0.17",
       "_view_count": null,
       "_view_module": "jupyter-leaflet",
       "_view_module_version": "^0.17",
       "options": [
        "position",
        "transparent_bg"
       ],
       "position": "topright",
       "widget": "IPY_MODEL_233149929d984fd6bc4b0f9bfd9e0d00"
      }
     },
     "330669f312604f409a2cc1561d13c7d3": {
      "model_module": "@jupyter-widgets/controls",
      "model_module_version": "2.0.0",
      "model_name": "ToggleButtonModel",
      "state": {
       "button_style": "primary",
       "icon": "folder-open",
       "layout": "IPY_MODEL_bd3fc17d716e4cbaa0776b6a780fa962",
       "style": "IPY_MODEL_fc0e4827771a46d7a718dfb2a16ce72c",
       "tooltip": "Open local vector/raster data"
      }
     },
     "330c03c8891141bbab1583aa53f82151": {
      "model_module": "@jupyter-widgets/controls",
      "model_module_version": "2.0.0",
      "model_name": "ToggleButtonModel",
      "state": {
       "icon": "wrench",
       "layout": "IPY_MODEL_79e9a9b41cc341598ffa887924a99cf3",
       "style": "IPY_MODEL_96011ed8ae7a48efb5e208dd00a483f9",
       "tooltip": "Toolbar"
      }
     },
     "3346f5f14e374b0f9ccc0d60a07d7aba": {
      "model_module": "@jupyter-widgets/controls",
      "model_module_version": "2.0.0",
      "model_name": "FloatSliderModel",
      "state": {
       "behavior": "drag-tap",
       "layout": "IPY_MODEL_1b832f5a76d64f499a334de6b9d0e3f6",
       "max": 1,
       "readout": false,
       "step": 0.01,
       "style": "IPY_MODEL_b0000ccf9b974ff5895ff8fbc3886d9d",
       "value": 1
      }
     },
     "336912b3b9bd49d0ab3bf9b81657071f": {
      "model_module": "@jupyter-widgets/controls",
      "model_module_version": "2.0.0",
      "model_name": "HTMLStyleModel",
      "state": {
       "description_width": "",
       "font_size": null,
       "text_color": null
      }
     },
     "33a30ca57dd74bab87b3ead583f4779d": {
      "model_module": "@jupyter-widgets/base",
      "model_module_version": "2.0.0",
      "model_name": "LayoutModel",
      "state": {
       "height": "auto",
       "padding": "0px 0px 0px 4px",
       "width": "auto"
      }
     },
     "33a9144d08264574a214c3f66755cf32": {
      "model_module": "@jupyter-widgets/base",
      "model_module_version": "2.0.0",
      "model_name": "LayoutModel",
      "state": {
       "width": "340px"
      }
     },
     "33b37dac8e5c49fcbdc45a599c22ced0": {
      "model_module": "@jupyter-widgets/base",
      "model_module_version": "2.0.0",
      "model_name": "LayoutModel",
      "state": {
       "height": "auto",
       "padding": "0px 0px 0px 4px",
       "width": "auto"
      }
     },
     "33dad25715d146a18b78dfd9a108e206": {
      "model_module": "@jupyter-widgets/base",
      "model_module_version": "2.0.0",
      "model_name": "LayoutModel",
      "state": {
       "max_width": "57px",
       "min_width": "57px"
      }
     },
     "33fca95cd6784539848615b7b3264949": {
      "model_module": "@jupyter-widgets/controls",
      "model_module_version": "2.0.0",
      "model_name": "HTMLStyleModel",
      "state": {
       "description_width": "",
       "font_size": null,
       "text_color": null
      }
     },
     "3450c8fbd1144994a7a85b8783ac787a": {
      "model_module": "@jupyter-widgets/base",
      "model_module_version": "2.0.0",
      "model_name": "LayoutModel",
      "state": {
       "height": "600px"
      }
     },
     "34581e8d5fe0432e851f7588e61cf024": {
      "model_module": "@jupyter-widgets/controls",
      "model_module_version": "2.0.0",
      "model_name": "ToggleButtonStyleModel",
      "state": {
       "description_width": "",
       "font_family": null,
       "font_size": null,
       "font_style": null,
       "font_variant": null,
       "font_weight": null,
       "text_color": null,
       "text_decoration": null
      }
     },
     "349afcff89b14131b64dfe04b2768d7e": {
      "model_module": "@jupyter-widgets/controls",
      "model_module_version": "2.0.0",
      "model_name": "ToggleButtonModel",
      "state": {
       "button_style": "primary",
       "icon": "retweet",
       "layout": "IPY_MODEL_dc3d3c45c9ab4a418fe9d7b645d570cd",
       "style": "IPY_MODEL_043009c2fb284464abff24395fa1b27b",
       "tooltip": "Convert Earth Engine JavaScript to Python"
      }
     },
     "34a1018a54ac4b3ca276ba2642109deb": {
      "model_module": "@jupyter-widgets/base",
      "model_module_version": "2.0.0",
      "model_name": "LayoutModel",
      "state": {
       "height": "28px",
       "padding": "0px 0px 0px 4px",
       "width": "28px"
      }
     },
     "34a5b91ec08a4d9b912065afe05bbf00": {
      "model_module": "@jupyter-widgets/controls",
      "model_module_version": "2.0.0",
      "model_name": "ToggleButtonModel",
      "state": {
       "icon": "gear",
       "layout": "IPY_MODEL_c17b5f7c17b64ace83eb177770252fa3",
       "style": "IPY_MODEL_be2d64b6f35d43b6bcc479daa93a790d",
       "tooltip": "Google Maps"
      }
     },
     "34c4e37c54cf4ca2a31d5437770019b5": {
      "model_module": "@jupyter-widgets/controls",
      "model_module_version": "2.0.0",
      "model_name": "TextStyleModel",
      "state": {
       "description_width": "",
       "font_size": null,
       "text_color": null
      }
     },
     "34c87cd431c04dfeb08031af6493f1f1": {
      "model_module": "@jupyter-widgets/controls",
      "model_module_version": "2.0.0",
      "model_name": "ToggleButtonModel",
      "state": {
       "button_style": "primary",
       "icon": "line-chart",
       "layout": "IPY_MODEL_47a54adcef0642c8aa4279a7a475a029",
       "style": "IPY_MODEL_b1b7fb1eee1b44cea290f628e18c4785",
       "tooltip": "Creating and plotting transects"
      }
     },
     "35246a53eb974d0e96ad13ffef662e15": {
      "model_module": "@jupyter-widgets/controls",
      "model_module_version": "2.0.0",
      "model_name": "ToggleButtonStyleModel",
      "state": {
       "description_width": "",
       "font_family": null,
       "font_size": null,
       "font_style": null,
       "font_variant": null,
       "font_weight": null,
       "text_color": null,
       "text_decoration": null
      }
     },
     "3547dad7fb38466f8ac5a4712ebbaac1": {
      "model_module": "@jupyter-widgets/controls",
      "model_module_version": "2.0.0",
      "model_name": "DescriptionStyleModel",
      "state": {
       "description_width": ""
      }
     },
     "35724063b3894c088c1a31e4758d8dd8": {
      "model_module": "@jupyter-widgets/controls",
      "model_module_version": "2.0.0",
      "model_name": "ToggleButtonStyleModel",
      "state": {
       "description_width": "",
       "font_family": null,
       "font_size": null,
       "font_style": null,
       "font_variant": null,
       "font_weight": null,
       "text_color": null,
       "text_decoration": null
      }
     },
     "35997f1da6b5444ca0f3233a84c86d8c": {
      "model_module": "@jupyter-widgets/controls",
      "model_module_version": "2.0.0",
      "model_name": "ToggleButtonStyleModel",
      "state": {
       "description_width": "",
       "font_family": null,
       "font_size": null,
       "font_style": null,
       "font_variant": null,
       "font_weight": null,
       "text_color": null,
       "text_decoration": null
      }
     },
     "35a44c1916f441ac953a6b454f15754e": {
      "model_module": "@jupyter-widgets/controls",
      "model_module_version": "2.0.0",
      "model_name": "TextStyleModel",
      "state": {
       "description_width": "",
       "font_size": null,
       "text_color": null
      }
     },
     "35b1b17986494c179f7c3f371241bb9f": {
      "model_module": "@jupyter-widgets/controls",
      "model_module_version": "2.0.0",
      "model_name": "TextStyleModel",
      "state": {
       "description_width": "",
       "font_size": null,
       "text_color": null
      }
     },
     "35c6c6178c1d4b8e8c8e27a65942568d": {
      "model_module": "@jupyter-widgets/base",
      "model_module_version": "2.0.0",
      "model_name": "LayoutModel",
      "state": {}
     },
     "35fe4b10ab464c8084fa25f9b9e75c7e": {
      "model_module": "jupyter-leaflet",
      "model_module_version": "^0.17",
      "model_name": "LeafletZoomControlModel",
      "state": {
       "_model_module_version": "^0.17",
       "_view_module_version": "^0.17",
       "options": [
        "position",
        "zoom_in_text",
        "zoom_in_title",
        "zoom_out_text",
        "zoom_out_title"
       ]
      }
     },
     "3607d882b25543848ce23b7c781b6163": {
      "model_module": "@jupyter-widgets/controls",
      "model_module_version": "2.0.0",
      "model_name": "TextModel",
      "state": {
       "layout": "IPY_MODEL_70bb811073d54acaa541c203c4b25bba",
       "placeholder": "output filename",
       "style": "IPY_MODEL_f3c9543f63ae4d4ea569ab05b8ec331e"
      }
     },
     "364d93f086ea42bfa6426048017b68a1": {
      "model_module": "@jupyter-widgets/controls",
      "model_module_version": "2.0.0",
      "model_name": "ToggleButtonStyleModel",
      "state": {
       "description_width": "",
       "font_family": null,
       "font_size": null,
       "font_style": null,
       "font_variant": null,
       "font_weight": null,
       "text_color": null,
       "text_decoration": null
      }
     },
     "365dd9c2916d487c933ecaa6bf52fc01": {
      "model_module": "@jupyter-widgets/base",
      "model_module_version": "2.0.0",
      "model_name": "LayoutModel",
      "state": {
       "height": "auto",
       "padding": "0px 0px 0px 4px",
       "width": "auto"
      }
     },
     "36a8f0ecb7b24995b16133e28f3bfaed": {
      "model_module": "@jupyter-widgets/base",
      "model_module_version": "2.0.0",
      "model_name": "LayoutModel",
      "state": {
       "height": "auto",
       "padding": "0px 0px 0px 4px",
       "width": "auto"
      }
     },
     "36ca5a4ec9694d8ea647ef67ca08ebb2": {
      "model_module": "@jupyter-widgets/controls",
      "model_module_version": "2.0.0",
      "model_name": "ToggleButtonsModel",
      "state": {
       "_options_labels": [
        "name/address",
        "lat-lon",
        "data"
       ],
       "button_style": "",
       "icons": [],
       "index": 0,
       "layout": "IPY_MODEL_97ac560afc044eb2851e13e8e9d88a83",
       "style": "IPY_MODEL_cdfb95dc7dc74874a0908c80d171965e",
       "tooltips": [
        "Search by place name or address",
        "Search by lat-lon coordinates",
        "Search Earth Engine data catalog"
       ]
      }
     },
     "37036e363bb2496d83cd4b45659f6696": {
      "model_module": "@jupyter-widgets/base",
      "model_module_version": "2.0.0",
      "model_name": "LayoutModel",
      "state": {
       "height": "auto",
       "padding": "0px 0px 0px 4px",
       "width": "auto"
      }
     },
     "37417b2c200e46cba3634054ccdc4cf7": {
      "model_module": "jupyter-leaflet",
      "model_module_version": "^0.17",
      "model_name": "LeafletAttributionControlModel",
      "state": {
       "_model_module_version": "^0.17",
       "_view_module_version": "^0.17",
       "options": [
        "position",
        "prefix"
       ],
       "position": "bottomright",
       "prefix": "ipyleaflet"
      }
     },
     "3743dcad8d4c491ea60c0ada31d2630f": {
      "model_module": "@jupyter-widgets/output",
      "model_module_version": "1.0.0",
      "model_name": "OutputModel",
      "state": {
       "layout": "IPY_MODEL_ccbb65104d8e4b91b7b3149e7ccd3eee"
      }
     },
     "374548ac735c4e07a7a6c0ca4f142b0f": {
      "model_module": "@jupyter-widgets/base",
      "model_module_version": "2.0.0",
      "model_name": "LayoutModel",
      "state": {
       "width": "170px"
      }
     },
     "37b6013768864a1da245cf9b8f497481": {
      "model_module": "@jupyter-widgets/base",
      "model_module_version": "2.0.0",
      "model_name": "LayoutModel",
      "state": {
       "height": "25px",
       "padding": "0px 0px 0px 5px",
       "width": "25px"
      }
     },
     "37c9dc06e53c4328860a2d0b48af4ef0": {
      "model_module": "@jupyter-widgets/controls",
      "model_module_version": "2.0.0",
      "model_name": "ToggleButtonModel",
      "state": {
       "button_style": "primary",
       "icon": "map",
       "layout": "IPY_MODEL_4925c51558d540d98061c0caf1bc440e",
       "style": "IPY_MODEL_df2a04e93b7e4182a0fcda81f4d63487",
       "tooltip": "Change basemap"
      }
     },
     "38105d091d474b2386287b33e65addf6": {
      "model_module": "@jupyter-widgets/controls",
      "model_module_version": "2.0.0",
      "model_name": "ToggleButtonStyleModel",
      "state": {
       "description_width": "",
       "font_family": null,
       "font_size": null,
       "font_style": null,
       "font_variant": null,
       "font_weight": null,
       "text_color": null,
       "text_decoration": null
      }
     },
     "3824160f1763491fb138cc85719b7eac": {
      "model_module": "@jupyter-widgets/controls",
      "model_module_version": "2.0.0",
      "model_name": "TextModel",
      "state": {
       "layout": "IPY_MODEL_631b51c2f3f747b190c90d28a7e23f9a",
       "placeholder": "Search by place name or address",
       "style": "IPY_MODEL_34c4e37c54cf4ca2a31d5437770019b5",
       "tooltip": "Search location"
      }
     },
     "382e671b16d24499a1b1cedfdc76fe6c": {
      "model_module": "@jupyter-widgets/controls",
      "model_module_version": "2.0.0",
      "model_name": "CheckboxModel",
      "state": {
       "description": "New Delhi",
       "disabled": false,
       "indent": false,
       "layout": "IPY_MODEL_75d902d2eda44d8ea5d834d6f59fa008",
       "style": "IPY_MODEL_2a7a7549d99a444299ca42694b6cc864",
       "value": true
      }
     },
     "385e3f5a31794a47a8712e0a87d8a4ef": {
      "model_module": "@jupyter-widgets/controls",
      "model_module_version": "2.0.0",
      "model_name": "ToggleButtonStyleModel",
      "state": {
       "description_width": "",
       "font_family": null,
       "font_size": null,
       "font_style": null,
       "font_variant": null,
       "font_weight": null,
       "text_color": null,
       "text_decoration": null
      }
     },
     "3897284a226e4808856e83570c3a2600": {
      "model_module": "jupyter-leaflet",
      "model_module_version": "^0.17",
      "model_name": "LeafletTileLayerModel",
      "state": {
       "_model_module_version": "^0.17",
       "_view_module_version": "^0.17",
       "attribution": "Google Earth Engine",
       "max_zoom": 24,
       "name": "Second Level Administrative Units",
       "options": [
        "attribution",
        "bounds",
        "detect_retina",
        "max_native_zoom",
        "max_zoom",
        "min_native_zoom",
        "min_zoom",
        "no_wrap",
        "tile_size",
        "tms",
        "zoom_offset"
       ],
       "url": "https://earthengine.googleapis.com/v1/projects/earthengine-legacy/maps/b6c709d492e1674d293a033202b58450-855601b394eb5820a3f412c6e440d014/tiles/{z}/{x}/{y}"
      }
     },
     "38a9100dcb2944f2a01a9f19e90ab20e": {
      "model_module": "jupyter-leaflet",
      "model_module_version": "^0.17",
      "model_name": "LeafletWidgetControlModel",
      "state": {
       "_model_module": "jupyter-leaflet",
       "_model_module_version": "^0.17",
       "_view_count": null,
       "_view_module": "jupyter-leaflet",
       "_view_module_version": "^0.17",
       "options": [
        "position",
        "transparent_bg"
       ],
       "position": "topright",
       "widget": "IPY_MODEL_bb369d8efb5c46d4b02d337be7d9536a"
      }
     },
     "38ba1e44a56f4ebf82c49b286636b0cc": {
      "model_module": "@jupyter-widgets/controls",
      "model_module_version": "2.0.0",
      "model_name": "ToggleButtonModel",
      "state": {
       "button_style": "primary",
       "icon": "eraser",
       "layout": "IPY_MODEL_2e0f38a572c546ba91da7a8902f19c46",
       "style": "IPY_MODEL_60eb7c7ffa95491da9d12710e9d05b02",
       "tooltip": "Remove all drawn features"
      }
     },
     "391a8400fba84b7983af1999a7fbb938": {
      "model_module": "@jupyter-widgets/controls",
      "model_module_version": "2.0.0",
      "model_name": "ToggleButtonModel",
      "state": {
       "button_style": "primary",
       "icon": "bar-chart",
       "layout": "IPY_MODEL_07fba864fcba4fa8b703ac1b999d2cab",
       "style": "IPY_MODEL_280f424014084eda9e31786aabba9d35",
       "tooltip": "Plotting"
      }
     },
     "39adbdca05184d7d8b5e3ad45127554f": {
      "model_module": "@jupyter-widgets/controls",
      "model_module_version": "2.0.0",
      "model_name": "HTMLModel",
      "state": {
       "layout": "IPY_MODEL_10f816f4de9b482b9b18defb8d73a205",
       "placeholder": "",
       "style": "IPY_MODEL_e610dfba30b44066ae724f92d1579346",
       "value": "<span style=\"color:orange;\">/Users/rishi/02India_Analysis/2023October_PaperAnalysis.ipynb</span>"
      }
     },
     "39cbd8738c1a4f01b19ff5ca97a486e2": {
      "model_module": "@jupyter-widgets/controls",
      "model_module_version": "2.0.0",
      "model_name": "HBoxModel",
      "state": {
       "children": [
        "IPY_MODEL_f22165e415b5429c87588fdb121b8466",
        "IPY_MODEL_ea42087094074cbaa26554a474c2eb7b"
       ],
       "layout": "IPY_MODEL_743ded739f7540d989eb0ab028261017"
      }
     },
     "39d22e093fe74ab5b9130c2abe4ad8e6": {
      "model_module": "@jupyter-widgets/controls",
      "model_module_version": "2.0.0",
      "model_name": "VBoxModel",
      "state": {
       "children": [
        "IPY_MODEL_b5dbbfcb241c490c8ef976c98a8c18b3"
       ],
       "layout": "IPY_MODEL_28c5d56eba4e46efb3ce0c2bcbc10ab9"
      }
     },
     "39dc0b86cc16440889b11965ab3f749f": {
      "model_module": "@jupyter-widgets/base",
      "model_module_version": "2.0.0",
      "model_name": "LayoutModel",
      "state": {
       "width": "340px"
      }
     },
     "39eecacc9e2248f097e611c8cdc9665c": {
      "model_module": "@jupyter-widgets/controls",
      "model_module_version": "2.0.0",
      "model_name": "ToggleButtonStyleModel",
      "state": {
       "description_width": "",
       "font_family": null,
       "font_size": null,
       "font_style": null,
       "font_variant": null,
       "font_weight": null,
       "text_color": null,
       "text_decoration": null
      }
     },
     "3a2fda54ca5b4087a80e6970d593b6da": {
      "model_module": "@jupyter-widgets/controls",
      "model_module_version": "2.0.0",
      "model_name": "ToggleButtonStyleModel",
      "state": {
       "description_width": "",
       "font_family": null,
       "font_size": null,
       "font_style": null,
       "font_variant": null,
       "font_weight": null,
       "text_color": null,
       "text_decoration": null
      }
     },
     "3a600dc6aff9488194d30b846988b902": {
      "model_module": "@jupyter-widgets/controls",
      "model_module_version": "2.0.0",
      "model_name": "ToggleButtonModel",
      "state": {
       "button_style": "primary",
       "icon": "globe",
       "layout": "IPY_MODEL_8b21a844d3144414918d9a9f838a2009",
       "style": "IPY_MODEL_dcc4e3fcd1b9448493b350c8e4f7a3b9",
       "tooltip": "Create timelapse"
      }
     },
     "3a7a3b5c909c43deaebc0decd8f09fc7": {
      "model_module": "@jupyter-widgets/controls",
      "model_module_version": "2.0.0",
      "model_name": "ToggleButtonModel",
      "state": {
       "button_style": "primary",
       "icon": "info",
       "layout": "IPY_MODEL_8b3bc584545847dca62be185ad283fd4",
       "style": "IPY_MODEL_f96e37103eba48a8965cfef1b5a2ec7d",
       "tooltip": "Inspector"
      }
     },
     "3ac0891f9d78487092ff8f28df6e4a94": {
      "model_module": "@jupyter-widgets/base",
      "model_module_version": "2.0.0",
      "model_name": "LayoutModel",
      "state": {
       "max_height": "350px",
       "max_width": "340px",
       "overflow": "scroll"
      }
     },
     "3b1da4b58b6948a88bff476628c13920": {
      "model_module": "@jupyter-widgets/controls",
      "model_module_version": "2.0.0",
      "model_name": "ToggleButtonStyleModel",
      "state": {
       "description_width": "",
       "font_family": null,
       "font_size": null,
       "font_style": null,
       "font_variant": null,
       "font_weight": null,
       "text_color": null,
       "text_decoration": null
      }
     },
     "3b47881c6c2847bbbd366050b60ee646": {
      "model_module": "@jupyter-widgets/output",
      "model_module_version": "1.0.0",
      "model_name": "OutputModel",
      "state": {
       "layout": "IPY_MODEL_4c0e01bdd133488489f839286b2eefb7"
      }
     },
     "3ba3aebfdb704d1aa1f443599a456616": {
      "model_module": "@jupyter-widgets/controls",
      "model_module_version": "2.0.0",
      "model_name": "HBoxModel",
      "state": {
       "children": [
        "IPY_MODEL_fcb496ccf5e84d45aa73674f0b3a80e3",
        "IPY_MODEL_57b77f626a784651af6c3b22805dfebc"
       ],
       "layout": "IPY_MODEL_be6a1634f8184baebb9c83d0cea738b7"
      }
     },
     "3bac3a16107440b19d01787446bf1618": {
      "model_module": "@jupyter-widgets/controls",
      "model_module_version": "2.0.0",
      "model_name": "ToggleButtonStyleModel",
      "state": {
       "description_width": "",
       "font_family": null,
       "font_size": null,
       "font_style": null,
       "font_variant": null,
       "font_weight": null,
       "text_color": null,
       "text_decoration": null
      }
     },
     "3bd864adcd2841e4ac9dd680fa2a872b": {
      "model_module": "@jupyter-widgets/base",
      "model_module_version": "2.0.0",
      "model_name": "LayoutModel",
      "state": {}
     },
     "3c17a8ebaeb2421b964a735168c8787c": {
      "model_module": "jupyter-leaflet",
      "model_module_version": "^0.17",
      "model_name": "LeafletWidgetControlModel",
      "state": {
       "_model_module": "jupyter-leaflet",
       "_model_module_version": "^0.17",
       "_view_count": null,
       "_view_module": "jupyter-leaflet",
       "_view_module_version": "^0.17",
       "options": [
        "position",
        "transparent_bg"
       ],
       "position": "topleft",
       "widget": "IPY_MODEL_2ca304bad6b7458fba9ee759e974a3cc"
      }
     },
     "3c26c5457f98406c853da462f1ef4efe": {
      "model_module": "@jupyter-widgets/controls",
      "model_module_version": "2.0.0",
      "model_name": "HTMLModel",
      "state": {
       "layout": "IPY_MODEL_b68820864f6a4f6ab446953492c3ecd0",
       "placeholder": "",
       "style": "IPY_MODEL_4fe39c70a8f04c239fe32e52e2909abc",
       "value": "<span style=\"color:green;\">/Users/rishi/02India_Analysis/Vector_StudyArea</span>"
      }
     },
     "3ca9d00737144c769d2148194005e18e": {
      "model_module": "@jupyter-widgets/controls",
      "model_module_version": "2.0.0",
      "model_name": "ButtonModel",
      "state": {
       "button_style": "primary",
       "description": "import",
       "layout": "IPY_MODEL_4c9846dc382a4f628557ed94b978e123",
       "style": "IPY_MODEL_9aa616353f984c92a334a7b967fc6c08",
       "tooltip": "Click to import the selected asset"
      }
     },
     "3cd782433cff48c693eb087ee03e2781": {
      "model_module": "@jupyter-widgets/base",
      "model_module_version": "2.0.0",
      "model_name": "LayoutModel",
      "state": {
       "height": "auto",
       "padding": "0px 0px 0px 4px",
       "width": "auto"
      }
     },
     "3d0f8ec8d2cb4d59bf827f35c861f179": {
      "model_module": "@jupyter-widgets/base",
      "model_module_version": "2.0.0",
      "model_name": "LayoutModel",
      "state": {
       "height": "600px"
      }
     },
     "3d83c6442cbd4dfb9cb9032973afa704": {
      "model_module": "@jupyter-widgets/base",
      "model_module_version": "2.0.0",
      "model_name": "LayoutModel",
      "state": {
       "height": "auto",
       "padding": "0px 0px 0px 4px",
       "width": "auto"
      }
     },
     "3d8f71107f2f4c0299a48818d1d71d0f": {
      "model_module": "jupyter-leaflet",
      "model_module_version": "^0.17",
      "model_name": "LeafletMapModel",
      "state": {
       "_model_module_version": "^0.17",
       "_view_module_version": "^0.17",
       "center": [
        42.682,
        12.876
       ],
       "controls": [
        "IPY_MODEL_092e196da8764897865a55c89aa5383c",
        "IPY_MODEL_e8064e1860fc4871b02b4eeeaca1b954",
        "IPY_MODEL_577e8dc21ea946ee976e32c665a24420",
        "IPY_MODEL_b6c353dcee3a4f7f9e772112f5e9df84",
        "IPY_MODEL_5b465b8144a542c48487edfa240650a7",
        "IPY_MODEL_01e3b39cae34472daed3fcdb77495122",
        "IPY_MODEL_121b390bc5ce45d48a34d35276cb0bb9",
        "IPY_MODEL_67b8ef154e104f5ca8a18aee087a9102"
       ],
       "default_style": "IPY_MODEL_5613db61671547a3a5d6e4813a6d8fe9",
       "dragging_style": "IPY_MODEL_6e9eeb3c9d054dd3a0f0fab5fa658030",
       "fullscreen": false,
       "interpolation": "bilinear",
       "layers": [
        "IPY_MODEL_da7fb9d123fc4bc094139f78cc1ca744",
        "IPY_MODEL_c5e8e94b2ea04d3192f8236fc1408a64"
       ],
       "layout": "IPY_MODEL_8b51af0fc4484c20bd02b6c0892bfce7",
       "max_zoom": 24,
       "modisdate": "2023-10-03",
       "options": [
        "bounce_at_zoom_limits",
        "box_zoom",
        "center",
        "close_popup_on_click",
        "double_click_zoom",
        "dragging",
        "fullscreen",
        "inertia",
        "inertia_deceleration",
        "inertia_max_speed",
        "interpolation",
        "keyboard",
        "keyboard_pan_offset",
        "keyboard_zoom_offset",
        "max_zoom",
        "min_zoom",
        "prefer_canvas",
        "scroll_wheel_zoom",
        "tap",
        "tap_tolerance",
        "touch_zoom",
        "world_copy_jump",
        "zoom",
        "zoom_animation_threshold",
        "zoom_delta",
        "zoom_snap"
       ],
       "prefer_canvas": false,
       "scroll_wheel_zoom": true,
       "style": "IPY_MODEL_ec7ba34ebd0348b989c9d9b1bbc26635",
       "window_url": "http://localhost:8888/lab/tree/02India_Analysis/2023October_PaperAnalysis.ipynb",
       "zoom": 5
      }
     },
     "3d97a48f87fe4854aca3971279aee3d8": {
      "model_module": "@jupyter-widgets/base",
      "model_module_version": "2.0.0",
      "model_name": "LayoutModel",
      "state": {
       "width": "340px"
      }
     },
     "3db55f91386f482ba2d2e29716d0bace": {
      "model_module": "jupyter-leaflet",
      "model_module_version": "^0.17",
      "model_name": "LeafletMeasureControlModel",
      "state": {
       "_model_module_version": "^0.17",
       "_view_module_version": "^0.17",
       "active_color": "orange",
       "options": [
        "active_color",
        "capture_z_index",
        "completed_color",
        "popup_options",
        "position",
        "primary_area_unit",
        "primary_length_unit",
        "secondary_area_unit",
        "secondary_length_unit"
       ],
       "position": "bottomleft",
       "primary_length_unit": "kilometers",
       "secondary_area_unit": null,
       "secondary_length_unit": null
      }
     },
     "3dbb6c86fae34fee96a5ccfd195192ff": {
      "model_module": "@jupyter-widgets/base",
      "model_module_version": "2.0.0",
      "model_name": "LayoutModel",
      "state": {
       "height": "auto",
       "padding": "0px 0px 0px 4px",
       "width": "auto"
      }
     },
     "3dc0a0b65d3d4189983021bf7620efd3": {
      "model_module": "@jupyter-widgets/controls",
      "model_module_version": "2.0.0",
      "model_name": "ToggleButtonStyleModel",
      "state": {
       "description_width": "",
       "font_family": null,
       "font_size": null,
       "font_style": null,
       "font_variant": null,
       "font_weight": null,
       "text_color": null,
       "text_decoration": null
      }
     },
     "3dd0e600a3334910aa7995cf028d4592": {
      "model_module": "@jupyter-widgets/base",
      "model_module_version": "2.0.0",
      "model_name": "LayoutModel",
      "state": {}
     },
     "3dd67e7f8a764cd6b4d7a7742c02a1cd": {
      "model_module": "@jupyter-widgets/controls",
      "model_module_version": "2.0.0",
      "model_name": "ToggleButtonModel",
      "state": {
       "button_style": "primary",
       "icon": "bar-chart",
       "layout": "IPY_MODEL_14f063b034e8490d9905dfbbdd3fd541",
       "style": "IPY_MODEL_5f435927318b48ac9c71ec2cd2ff3f75",
       "tooltip": "Plotting"
      }
     },
     "3e2f3e85c4dd443dbd988aacc3474113": {
      "model_module": "@jupyter-widgets/base",
      "model_module_version": "2.0.0",
      "model_name": "LayoutModel",
      "state": {
       "height": "auto",
       "padding": "0px 0px 0px 4px",
       "width": "auto"
      }
     },
     "3e40d10cb1054fb8adcdc0c125d4236b": {
      "model_module": "@jupyter-widgets/controls",
      "model_module_version": "2.0.0",
      "model_name": "ToggleButtonModel",
      "state": {
       "button_style": "primary",
       "icon": "folder-open",
       "layout": "IPY_MODEL_156e92389c764cc4b8033bd2f3cfe054",
       "style": "IPY_MODEL_2a1bf10b32504d01a029bb6c641150ad",
       "tooltip": "Open local vector/raster data"
      }
     },
     "3e4dbe82018a4b4d824c1b836899e0e3": {
      "model_module": "@jupyter-widgets/output",
      "model_module_version": "1.0.0",
      "model_name": "OutputModel",
      "state": {
       "layout": "IPY_MODEL_13a13f6a89e54200afc16b23461b4b29"
      }
     },
     "3e6c87482baa480abcb6e4866d2a032d": {
      "model_module": "ipyevents",
      "model_module_version": "2.0.1",
      "model_name": "EventModel",
      "state": {
       "_supported_key_events": [
        "keydown",
        "keyup"
       ],
       "_supported_mouse_events": [
        "click",
        "auxclick",
        "dblclick",
        "mouseenter",
        "mouseleave",
        "mousedown",
        "mouseup",
        "mousemove",
        "wheel",
        "contextmenu",
        "dragstart",
        "drag",
        "dragend",
        "dragenter",
        "dragover",
        "dragleave",
        "drop"
       ],
       "_supported_touch_events": [
        "touchstart",
        "touchend",
        "touchmove",
        "touchcancel"
       ],
       "_view_module": "@jupyter-widgets/controls",
       "source": "IPY_MODEL_b6e5f4055d1c441fbfcd574511377eb3",
       "throttle_or_debounce": "",
       "watched_events": [
        "mouseenter",
        "mouseleave"
       ],
       "xy_coordinate_system": ""
      }
     },
     "3e719a0217d842ef83f3365c5a8f8a0b": {
      "model_module": "@jupyter-widgets/base",
      "model_module_version": "2.0.0",
      "model_name": "LayoutModel",
      "state": {
       "height": "25px",
       "padding": "0px 0px 0px 5px",
       "width": "25px"
      }
     },
     "3e794c80996643d7aed9d83b1f6599d4": {
      "model_module": "jupyter-leaflet",
      "model_module_version": "^0.17",
      "model_name": "LeafletMapModel",
      "state": {
       "_model_module_version": "^0.17",
       "_view_module_version": "^0.17",
       "center": [
        42.682,
        12.876
       ],
       "controls": [
        "IPY_MODEL_f95347ae1bc2462eb3b1a49f9de9194d",
        "IPY_MODEL_f84237e87c634cbfaeb95825704d1b0a",
        "IPY_MODEL_4baf23811e824456aa555e6c27055636",
        "IPY_MODEL_8a08457888ff492d84453983c6e6f323",
        "IPY_MODEL_4fc378e8b1b4419c88cb96ee6d9125d9",
        "IPY_MODEL_d5a54999521f4a8a8ad15a81b8c12ab4",
        "IPY_MODEL_652c5937e9e04f82b0acc02790501615",
        "IPY_MODEL_195822c2f68543498cf749d8c9b0e68b"
       ],
       "default_style": "IPY_MODEL_82142ae630a54c4fb8c8e36a584a630b",
       "dragging_style": "IPY_MODEL_6e18eb1fc4f14d19ab6ae2f60c717fb0",
       "fullscreen": false,
       "interpolation": "bilinear",
       "layers": [
        "IPY_MODEL_a4524826b071473fab2bede97a0884f3",
        "IPY_MODEL_86cbb67ca36e4b529c0b9ab3b996e65b"
       ],
       "layout": "IPY_MODEL_747cf5d08aad4eb2a1c100e39387b4ab",
       "max_zoom": 24,
       "modisdate": "2023-10-03",
       "options": [
        "bounce_at_zoom_limits",
        "box_zoom",
        "center",
        "close_popup_on_click",
        "double_click_zoom",
        "dragging",
        "fullscreen",
        "inertia",
        "inertia_deceleration",
        "inertia_max_speed",
        "interpolation",
        "keyboard",
        "keyboard_pan_offset",
        "keyboard_zoom_offset",
        "max_zoom",
        "min_zoom",
        "prefer_canvas",
        "scroll_wheel_zoom",
        "tap",
        "tap_tolerance",
        "touch_zoom",
        "world_copy_jump",
        "zoom",
        "zoom_animation_threshold",
        "zoom_delta",
        "zoom_snap"
       ],
       "prefer_canvas": false,
       "scroll_wheel_zoom": true,
       "style": "IPY_MODEL_806110f0b44e4ac093dc4f16531e7433",
       "window_url": "http://localhost:8888/lab/tree/02India_Analysis/2023October_PaperAnalysis.ipynb",
       "zoom": 5
      }
     },
     "3e7e6ec1e94e4289bcc7f646341bb943": {
      "model_module": "@jupyter-widgets/base",
      "model_module_version": "2.0.0",
      "model_name": "LayoutModel",
      "state": {
       "height": "auto",
       "padding": "0px 0px 0px 4px",
       "width": "auto"
      }
     },
     "3e972fff2d564be4adb39f2a45c75685": {
      "model_module": "@jupyter-widgets/base",
      "model_module_version": "2.0.0",
      "model_name": "LayoutModel",
      "state": {}
     },
     "3ea49be3a890455ba5e01cb0952abfdb": {
      "model_module": "@jupyter-widgets/controls",
      "model_module_version": "2.0.0",
      "model_name": "ButtonStyleModel",
      "state": {
       "font_family": null,
       "font_size": null,
       "font_style": null,
       "font_variant": null,
       "font_weight": null,
       "text_color": null,
       "text_decoration": null
      }
     },
     "3eb2a7aea2364b879d51a399be8e9907": {
      "model_module": "@jupyter-widgets/controls",
      "model_module_version": "2.0.0",
      "model_name": "VBoxModel",
      "state": {
       "children": [
        "IPY_MODEL_b70163889a784c87a0d4153db58c7460"
       ],
       "layout": "IPY_MODEL_94a523d436974cc98a7a5e3aafca620f"
      }
     },
     "3f45d115fdbc4de98eef25ebfbe61874": {
      "model_module": "@jupyter-widgets/base",
      "model_module_version": "2.0.0",
      "model_name": "LayoutModel",
      "state": {
       "height": "auto",
       "padding": "0px 0px 0px 4px",
       "width": "auto"
      }
     },
     "3f65822b257240ee8e86119c508ee3be": {
      "model_module": "jupyter-leaflet",
      "model_module_version": "^0.17",
      "model_name": "LeafletTileLayerModel",
      "state": {
       "_model_module_version": "^0.17",
       "_view_module_version": "^0.17",
       "attribution": "Google Earth Engine",
       "max_zoom": 24,
       "name": "Administrative 2 Regions Surrounding Delhi",
       "options": [
        "attribution",
        "bounds",
        "detect_retina",
        "max_native_zoom",
        "max_zoom",
        "min_native_zoom",
        "min_zoom",
        "no_wrap",
        "tile_size",
        "tms",
        "zoom_offset"
       ],
       "url": "https://earthengine.googleapis.com/v1/projects/earthengine-legacy/maps/883cf9bc1c39191675a0f1d39a6fbba8-15e5b2ef51f01fb2d0c4c1cd769919ba/tiles/{z}/{x}/{y}"
      }
     },
     "3f82cc34c72248efaa27a83ace6e5072": {
      "model_module": "@jupyter-widgets/base",
      "model_module_version": "2.0.0",
      "model_name": "LayoutModel",
      "state": {
       "height": "auto",
       "padding": "0px 0px 0px 4px",
       "width": "auto"
      }
     },
     "3fa89b9020ca425a9cf976645fcb2de3": {
      "model_module": "@jupyter-widgets/controls",
      "model_module_version": "2.0.0",
      "model_name": "ToggleButtonStyleModel",
      "state": {
       "description_width": "",
       "font_family": null,
       "font_size": null,
       "font_style": null,
       "font_variant": null,
       "font_weight": null,
       "text_color": null,
       "text_decoration": null
      }
     },
     "3fc33f97333246efa36ad24c3950f79e": {
      "model_module": "@jupyter-widgets/base",
      "model_module_version": "2.0.0",
      "model_name": "LayoutModel",
      "state": {
       "height": "auto",
       "padding": "0px 0px 0px 4px",
       "width": "auto"
      }
     },
     "4031b0266329471e91afc9fe36af7eb7": {
      "model_module": "jupyter-leaflet",
      "model_module_version": "^0.17",
      "model_name": "LeafletWidgetControlModel",
      "state": {
       "_model_module": "jupyter-leaflet",
       "_model_module_version": "^0.17",
       "_view_count": null,
       "_view_module": "jupyter-leaflet",
       "_view_module_version": "^0.17",
       "options": [
        "position",
        "transparent_bg"
       ],
       "position": "topleft",
       "widget": "IPY_MODEL_7db906f527524efeb8b52fb7c191f820"
      }
     },
     "405049a97542414a8f083490b9f81001": {
      "model_module": "jupyter-leaflet",
      "model_module_version": "^0.17",
      "model_name": "LeafletFullScreenControlModel",
      "state": {
       "_model_module_version": "^0.17",
       "_view_module_version": "^0.17",
       "options": [
        "position"
       ]
      }
     },
     "406ee1c043fb49e3b5e680cc5f2b8cd8": {
      "model_module": "@jupyter-widgets/base",
      "model_module_version": "2.0.0",
      "model_name": "LayoutModel",
      "state": {}
     },
     "407c43ffa0524bf9bcd7221149f54491": {
      "model_module": "@jupyter-widgets/controls",
      "model_module_version": "2.0.0",
      "model_name": "ToggleButtonModel",
      "state": {
       "button_style": "primary",
       "icon": "line-chart",
       "layout": "IPY_MODEL_3e2f3e85c4dd443dbd988aacc3474113",
       "style": "IPY_MODEL_cc2d029810ef4df9ab4b00ede780a845",
       "tooltip": "Creating and plotting transects"
      }
     },
     "40957a823e444d99b22c84741345b381": {
      "model_module": "@jupyter-widgets/controls",
      "model_module_version": "2.0.0",
      "model_name": "TextStyleModel",
      "state": {
       "description_width": "",
       "font_size": null,
       "text_color": null
      }
     },
     "40a27cabea4d4e8bb44347ff67e49679": {
      "model_module": "@jupyter-widgets/controls",
      "model_module_version": "2.0.0",
      "model_name": "ToggleButtonModel",
      "state": {
       "button_style": "primary",
       "icon": "random",
       "layout": "IPY_MODEL_48904ebad59444b98e0cd3bc37d9faec",
       "style": "IPY_MODEL_71c5e001883b469480e033c8a6ac8234",
       "tooltip": "Sankey plots"
      }
     },
     "40a9a5d3f81d4d16860d878fd3c543f2": {
      "model_module": "jupyter-leaflet",
      "model_module_version": "^0.17",
      "model_name": "LeafletWidgetControlModel",
      "state": {
       "_model_module": "jupyter-leaflet",
       "_model_module_version": "^0.17",
       "_view_count": null,
       "_view_module": "jupyter-leaflet",
       "_view_module_version": "^0.17",
       "options": [
        "position",
        "transparent_bg"
       ],
       "position": "topleft",
       "widget": "IPY_MODEL_06b512f871194000b28f451ddbff05dc"
      }
     },
     "40afba7634034edd94a827d034e7243f": {
      "model_module": "@jupyter-widgets/base",
      "model_module_version": "2.0.0",
      "model_name": "LayoutModel",
      "state": {}
     },
     "40edbee7dbf94a5699ad9541e00ebe87": {
      "model_module": "@jupyter-widgets/controls",
      "model_module_version": "2.0.0",
      "model_name": "DescriptionStyleModel",
      "state": {
       "description_width": ""
      }
     },
     "4103d320e8a54b8dac5b2850eceacb91": {
      "model_module": "@jupyter-widgets/controls",
      "model_module_version": "2.0.0",
      "model_name": "ToggleButtonStyleModel",
      "state": {
       "description_width": "",
       "font_family": null,
       "font_size": null,
       "font_style": null,
       "font_variant": null,
       "font_weight": null,
       "text_color": null,
       "text_decoration": null
      }
     },
     "413686ae832f4e40a990f535ca1658f6": {
      "model_module": "jupyter-leaflet",
      "model_module_version": "^0.17",
      "model_name": "LeafletWidgetControlModel",
      "state": {
       "_model_module": "jupyter-leaflet",
       "_model_module_version": "^0.17",
       "_view_count": null,
       "_view_module": "jupyter-leaflet",
       "_view_module_version": "^0.17",
       "options": [
        "position",
        "transparent_bg"
       ],
       "position": "topleft",
       "widget": "IPY_MODEL_e5ec20f7f453428b8672b8a9539dc149"
      }
     },
     "413800b43cc040d1b09db56ac2e408ee": {
      "model_module": "@jupyter-widgets/controls",
      "model_module_version": "2.0.0",
      "model_name": "ButtonModel",
      "state": {
       "description": "Run",
       "layout": "IPY_MODEL_9a537cf34bba4bbc83e397f093d28c32",
       "style": "IPY_MODEL_8681cdfb430d4c8db20e49e86b9fe58f",
       "tooltip": null
      }
     },
     "414e7ad590b7400b833c2bcb13d19261": {
      "model_module": "@jupyter-widgets/controls",
      "model_module_version": "2.0.0",
      "model_name": "ToggleButtonStyleModel",
      "state": {
       "description_width": "",
       "font_family": null,
       "font_size": null,
       "font_style": null,
       "font_variant": null,
       "font_weight": null,
       "text_color": null,
       "text_decoration": null
      }
     },
     "4158ab557c3e4aa4bb15b688bfc8b011": {
      "model_module": "@jupyter-widgets/controls",
      "model_module_version": "2.0.0",
      "model_name": "DescriptionStyleModel",
      "state": {
       "description_width": ""
      }
     },
     "415eac8d4087413a85697641ea9aec93": {
      "model_module": "@jupyter-widgets/controls",
      "model_module_version": "2.0.0",
      "model_name": "ToggleButtonStyleModel",
      "state": {
       "description_width": "",
       "font_family": null,
       "font_size": null,
       "font_style": null,
       "font_variant": null,
       "font_weight": null,
       "text_color": null,
       "text_decoration": null
      }
     },
     "4188def02e964dec940b898f42b4a673": {
      "model_module": "@jupyter-widgets/base",
      "model_module_version": "2.0.0",
      "model_name": "LayoutModel",
      "state": {
       "grid_gap": "1px 1px",
       "grid_template_columns": "32px 32px 32px ",
       "grid_template_rows": "32px 32px ",
       "padding": "5px",
       "width": "109px"
      }
     },
     "41b13104a7cc46f9a832725c3d544087": {
      "model_module": "@jupyter-widgets/base",
      "model_module_version": "2.0.0",
      "model_name": "LayoutModel",
      "state": {
       "height": "28px",
       "padding": "0px 0px 0px 4px",
       "width": "28px"
      }
     },
     "41dbfc5382bc4960b4e3c866b51f8729": {
      "model_module": "@jupyter-widgets/base",
      "model_module_version": "2.0.0",
      "model_name": "LayoutModel",
      "state": {}
     },
     "4200ea2bce194eabbb8bbc272fb52fcf": {
      "model_module": "ipyevents",
      "model_module_version": "2.0.1",
      "model_name": "EventModel",
      "state": {
       "_supported_key_events": [
        "keydown",
        "keyup"
       ],
       "_supported_mouse_events": [
        "click",
        "auxclick",
        "dblclick",
        "mouseenter",
        "mouseleave",
        "mousedown",
        "mouseup",
        "mousemove",
        "wheel",
        "contextmenu",
        "dragstart",
        "drag",
        "dragend",
        "dragenter",
        "dragover",
        "dragleave",
        "drop"
       ],
       "_supported_touch_events": [
        "touchstart",
        "touchend",
        "touchmove",
        "touchcancel"
       ],
       "_view_module": "@jupyter-widgets/controls",
       "source": "IPY_MODEL_584b67c0ed704c23a5be28477c66a8d1",
       "throttle_or_debounce": "",
       "watched_events": [
        "mouseenter",
        "mouseleave"
       ],
       "xy_coordinate_system": ""
      }
     },
     "4223c7fa5ac64d2fb5401e251c8dad9b": {
      "model_module": "@jupyter-widgets/controls",
      "model_module_version": "2.0.0",
      "model_name": "ToggleButtonModel",
      "state": {
       "button_style": "primary",
       "icon": "info",
       "layout": "IPY_MODEL_b52270faa5e0452a8a48e22ed6681a68",
       "style": "IPY_MODEL_4807770ddd3248f39fdbc32048ea00ad",
       "tooltip": "Inspector"
      }
     },
     "4296e5d1f87c4f90979193538ae8720e": {
      "model_module": "@jupyter-widgets/base",
      "model_module_version": "2.0.0",
      "model_name": "LayoutModel",
      "state": {
       "width": "80px"
      }
     },
     "42a5d72a224c484f8a572b52893e6962": {
      "model_module": "@jupyter-widgets/controls",
      "model_module_version": "2.0.0",
      "model_name": "DropdownModel",
      "state": {
       "_options_labels": [
        "/Users/rishi/02India_Analysis",
        "/Users/rishi",
        "/Users",
        "/"
       ],
       "index": 0,
       "layout": "IPY_MODEL_63b290ef49324c0ea6623350449444f8",
       "style": "IPY_MODEL_d2418270d8bb4cfd9da8adc175b441db"
      }
     },
     "42bf206e417d4a53b609eb16bc345985": {
      "model_module": "@jupyter-widgets/controls",
      "model_module_version": "2.0.0",
      "model_name": "ToggleButtonModel",
      "state": {
       "button_style": "primary",
       "icon": "random",
       "layout": "IPY_MODEL_498257f354924fdaa2811a4d30012ef8",
       "style": "IPY_MODEL_06f231bccb8d47d3953a749b5609e47d",
       "tooltip": "Sankey plots"
      }
     },
     "430f5335057d4e14b5e91d0cf98f7afc": {
      "model_module": "@jupyter-widgets/base",
      "model_module_version": "2.0.0",
      "model_name": "LayoutModel",
      "state": {
       "width": "340px"
      }
     },
     "4334cf8087d948c8ae60acc57031fef5": {
      "model_module": "@jupyter-widgets/base",
      "model_module_version": "2.0.0",
      "model_name": "LayoutModel",
      "state": {
       "grid_gap": "0px 0px",
       "grid_template_areas": "\n                    'pathlist filename'\n                    'dircontent dircontent'\n                    ",
       "grid_template_columns": "60% 40%",
       "grid_template_rows": "auto auto",
       "width": "auto"
      }
     },
     "43433f585a6941299a323719d7a89f19": {
      "model_module": "jupyter-leaflet",
      "model_module_version": "^0.17",
      "model_name": "LeafletMapStyleModel",
      "state": {
       "_model_module_version": "^0.17"
      }
     },
     "43e9ccef6ff645b9bf385103a5909728": {
      "model_module": "@jupyter-widgets/base",
      "model_module_version": "2.0.0",
      "model_name": "LayoutModel",
      "state": {}
     },
     "43f1b9190c064e6084480c242d58053d": {
      "model_module": "@jupyter-widgets/controls",
      "model_module_version": "2.0.0",
      "model_name": "ToggleButtonsStyleModel",
      "state": {
       "button_width": "110px",
       "description_width": ""
      }
     },
     "43fb14ce36364819bfa82962b440497d": {
      "model_module": "@jupyter-widgets/controls",
      "model_module_version": "2.0.0",
      "model_name": "DescriptionStyleModel",
      "state": {
       "description_width": ""
      }
     },
     "4424540f3c1344f5990f65b180d21e5e": {
      "model_module": "@jupyter-widgets/base",
      "model_module_version": "2.0.0",
      "model_name": "LayoutModel",
      "state": {
       "width": "80px"
      }
     },
     "4436f72ad1c647d9b62723bfb1c719ed": {
      "model_module": "@jupyter-widgets/controls",
      "model_module_version": "2.0.0",
      "model_name": "ToggleButtonModel",
      "state": {
       "icon": "wrench",
       "layout": "IPY_MODEL_9a5ddd3ddcc54a3f878d8fe1a1e7d6ac",
       "style": "IPY_MODEL_c7f4199b9d054b789ec6e4d80316c564",
       "tooltip": "Toolbar"
      }
     },
     "444a742a2d564f9597d35c6b7b8963eb": {
      "model_module": "jupyter-leaflet",
      "model_module_version": "^0.17",
      "model_name": "LeafletTileLayerModel",
      "state": {
       "_model_module_version": "^0.17",
       "_view_module_version": "^0.17",
       "attribution": "Google Earth Engine",
       "max_zoom": 24,
       "name": "Second Level Administrative Units",
       "options": [
        "attribution",
        "bounds",
        "detect_retina",
        "max_native_zoom",
        "max_zoom",
        "min_native_zoom",
        "min_zoom",
        "no_wrap",
        "tile_size",
        "tms",
        "zoom_offset"
       ],
       "url": "https://earthengine.googleapis.com/v1/projects/earthengine-legacy/maps/b6c709d492e1674d293a033202b58450-0821b566648c4b1eed10aad29c1f1f44/tiles/{z}/{x}/{y}"
      }
     },
     "449c6f15798146888f4511e56ce2d4a3": {
      "model_module": "@jupyter-widgets/controls",
      "model_module_version": "2.0.0",
      "model_name": "HTMLModel",
      "state": {
       "layout": "IPY_MODEL_1d38983fbc034c55a979bb107c1703a5",
       "style": "IPY_MODEL_281011569b3042eeaaef65d828793fb1"
      }
     },
     "44b33fbf2fc54931a0f50036c05943ec": {
      "model_module": "@jupyter-widgets/base",
      "model_module_version": "2.0.0",
      "model_name": "LayoutModel",
      "state": {
       "max_width": "410px",
       "width": "500px"
      }
     },
     "44bb33e1f6d24944a161c42ccfbd7b18": {
      "model_module": "@jupyter-widgets/controls",
      "model_module_version": "2.0.0",
      "model_name": "ToggleButtonModel",
      "state": {
       "icon": "globe",
       "layout": "IPY_MODEL_0c4a36273ec74c6ea482c485b6ba9ee7",
       "style": "IPY_MODEL_5d40ad369de043129aeb1e826fa4e8d5",
       "tooltip": "Search location/data"
      }
     },
     "44c3bd97392e4e62b2b101f69b9fbd2b": {
      "model_module": "jupyter-leaflet",
      "model_module_version": "^0.17",
      "model_name": "LeafletDrawControlModel",
      "state": {
       "_model_module_version": "^0.17",
       "_view_module_version": "^0.17",
       "marker": {
        "shapeOptions": {
         "color": "#3388ff"
        }
       },
       "options": [
        "position"
       ],
       "polygon": {
        "shapeOptions": {
         "clickable": true,
         "color": "#3388ff",
         "fill": true,
         "fillColor": null,
         "fillOpacity": 0.2,
         "opacity": 0.5,
         "stroke": true,
         "weight": 4
        }
       },
       "polyline": {
        "shapeOptions": {
         "clickable": true,
         "color": "#3388ff",
         "fill": false,
         "opacity": 0.5,
         "stroke": true,
         "weight": 4
        }
       },
       "rectangle": {
        "shapeOptions": {
         "clickable": true,
         "color": "#3388ff",
         "fill": true,
         "fillColor": null,
         "fillOpacity": 0.2,
         "opacity": 0.5,
         "stroke": true,
         "weight": 4
        }
       }
      }
     },
     "44d6f67137de4b6cbb9dfa8601040e14": {
      "model_module": "jupyter-leaflet",
      "model_module_version": "^0.17",
      "model_name": "LeafletZoomControlModel",
      "state": {
       "_model_module_version": "^0.17",
       "_view_module_version": "^0.17",
       "options": [
        "position",
        "zoom_in_text",
        "zoom_in_title",
        "zoom_out_text",
        "zoom_out_title"
       ]
      }
     },
     "44df243f30f44d81bbb41606628ac5bc": {
      "model_module": "@jupyter-widgets/base",
      "model_module_version": "2.0.0",
      "model_name": "LayoutModel",
      "state": {}
     },
     "452ada5c72fe4cd3b5fe0f92cb972103": {
      "model_module": "@jupyter-widgets/controls",
      "model_module_version": "2.0.0",
      "model_name": "HBoxModel",
      "state": {
       "children": [
        "IPY_MODEL_96fef6e64adb4f498ba9e5c9cd4727de",
        "IPY_MODEL_c8aa1b74af8c40cc8d2ffa84d146fa78",
        "IPY_MODEL_3166a36f32c44223a62c7541b108b7db"
       ],
       "layout": "IPY_MODEL_d665bbb788e847ce8f75da76af8b4e8c"
      }
     },
     "452c492f4ab34453936d3b5a0cd20c4d": {
      "model_module": "@jupyter-widgets/controls",
      "model_module_version": "2.0.0",
      "model_name": "ToggleButtonModel",
      "state": {
       "button_style": "primary",
       "icon": "retweet",
       "layout": "IPY_MODEL_84b12869cc604879a39a0d8b3e2a34d6",
       "style": "IPY_MODEL_b8e95cdf10354e1a8ae9711ab1f5c143",
       "tooltip": "Convert Earth Engine JavaScript to Python"
      }
     },
     "45382f695d3d4655bf7f50545accbf55": {
      "model_module": "jupyter-leaflet",
      "model_module_version": "^0.17",
      "model_name": "LeafletZoomControlModel",
      "state": {
       "_model_module_version": "^0.17",
       "_view_module_version": "^0.17",
       "options": [
        "position",
        "zoom_in_text",
        "zoom_in_title",
        "zoom_out_text",
        "zoom_out_title"
       ]
      }
     },
     "4577bffc731647249b15edc98661fa8a": {
      "model_module": "@jupyter-widgets/base",
      "model_module_version": "2.0.0",
      "model_name": "LayoutModel",
      "state": {}
     },
     "457b7ebb7573485f965837130f34c298": {
      "model_module": "@jupyter-widgets/base",
      "model_module_version": "2.0.0",
      "model_name": "LayoutModel",
      "state": {}
     },
     "4587336e6b5346789c185c29f3f57d24": {
      "model_module": "@jupyter-widgets/controls",
      "model_module_version": "2.0.0",
      "model_name": "ToggleButtonModel",
      "state": {
       "button_style": "primary",
       "icon": "map",
       "layout": "IPY_MODEL_f0064a5521e0431eb94e68c3af3ee535",
       "style": "IPY_MODEL_5cfd842e8eb3430290676971e38d494d",
       "tooltip": "Change basemap"
      }
     },
     "458db83f843d47699163825f7e4889cc": {
      "model_module": "@jupyter-widgets/controls",
      "model_module_version": "2.0.0",
      "model_name": "ToggleButtonStyleModel",
      "state": {
       "description_width": "",
       "font_family": null,
       "font_size": null,
       "font_style": null,
       "font_variant": null,
       "font_weight": null,
       "text_color": null,
       "text_decoration": null
      }
     },
     "45bacdfe28b3417f84650acaead483dc": {
      "model_module": "@jupyter-widgets/controls",
      "model_module_version": "2.0.0",
      "model_name": "ToggleButtonStyleModel",
      "state": {
       "description_width": "",
       "font_family": null,
       "font_size": null,
       "font_style": null,
       "font_variant": null,
       "font_weight": null,
       "text_color": null,
       "text_decoration": null
      }
     },
     "45be5c70fc9d4273baec54f0ca451c72": {
      "model_module": "@jupyter-widgets/output",
      "model_module_version": "1.0.0",
      "model_name": "OutputModel",
      "state": {
       "layout": "IPY_MODEL_0fedc42af33d415e80c7a5ba06935ae9"
      }
     },
     "45c529e45a32497e9087f38b7f028df8": {
      "model_module": "@jupyter-widgets/controls",
      "model_module_version": "2.0.0",
      "model_name": "GridBoxModel",
      "state": {
       "children": [
        "IPY_MODEL_627f85b0c26240eb929dd4d98912a73c",
        "IPY_MODEL_3dd67e7f8a764cd6b4d7a7742c02a1cd",
        "IPY_MODEL_27be2820f024436aab0005330368c300",
        "IPY_MODEL_95e77b5890444bb79fc78e9118f70159",
        "IPY_MODEL_c8d250b715ab4ac9a27a08ed25c88070",
        "IPY_MODEL_0fd08adbd948415aac2e9a051ed6bd7d"
       ],
       "layout": "IPY_MODEL_0df27ed16e42401d91bde3271044d3c2"
      }
     },
     "45ca0c5815da47daacf8f2744769b480": {
      "model_module": "@jupyter-widgets/base",
      "model_module_version": "2.0.0",
      "model_name": "LayoutModel",
      "state": {
       "height": "28px",
       "padding": "0px 0px 0px 4px",
       "width": "28px"
      }
     },
     "4624bcd648d341c49a0e9c20bc73681b": {
      "model_module": "@jupyter-widgets/controls",
      "model_module_version": "2.0.0",
      "model_name": "ToggleButtonStyleModel",
      "state": {
       "description_width": "",
       "font_family": null,
       "font_size": null,
       "font_style": null,
       "font_variant": null,
       "font_weight": null,
       "text_color": null,
       "text_decoration": null
      }
     },
     "4644d4ae795845279eddc5fe14f1b75f": {
      "model_module": "@jupyter-widgets/controls",
      "model_module_version": "2.0.0",
      "model_name": "ToggleButtonStyleModel",
      "state": {
       "description_width": "",
       "font_family": null,
       "font_size": null,
       "font_style": null,
       "font_variant": null,
       "font_weight": null,
       "text_color": null,
       "text_decoration": null
      }
     },
     "4665e76cf5a6455b97b892788778754b": {
      "model_module": "@jupyter-widgets/controls",
      "model_module_version": "2.0.0",
      "model_name": "ToggleButtonModel",
      "state": {
       "button_style": "primary",
       "icon": "info",
       "layout": "IPY_MODEL_c0b4081213ae4269b5624299de3979d5",
       "style": "IPY_MODEL_610adee536e846b99d9c25b4e529365b",
       "tooltip": "Inspector"
      }
     },
     "4672b31fc25d43288662ebd621681081": {
      "model_module": "@jupyter-widgets/base",
      "model_module_version": "2.0.0",
      "model_name": "LayoutModel",
      "state": {
       "height": "auto",
       "padding": "0px 0px 0px 4px",
       "width": "auto"
      }
     },
     "46d20c58202c4f96bba4c9d3e57b78c8": {
      "model_module": "jupyter-leaflet",
      "model_module_version": "^0.17",
      "model_name": "LeafletMeasureControlModel",
      "state": {
       "_model_module_version": "^0.17",
       "_view_module_version": "^0.17",
       "active_color": "orange",
       "options": [
        "active_color",
        "capture_z_index",
        "completed_color",
        "popup_options",
        "position",
        "primary_area_unit",
        "primary_length_unit",
        "secondary_area_unit",
        "secondary_length_unit"
       ],
       "position": "bottomleft",
       "primary_length_unit": "kilometers",
       "secondary_area_unit": null,
       "secondary_length_unit": null
      }
     },
     "47073197f7314fc987ff4d59243d6253": {
      "model_module": "@jupyter-widgets/base",
      "model_module_version": "2.0.0",
      "model_name": "LayoutModel",
      "state": {
       "height": "auto",
       "padding": "0px 0px 0px 4px",
       "width": "auto"
      }
     },
     "476a22cdb6da43a588bff1f9834a3ea1": {
      "model_module": "@jupyter-widgets/controls",
      "model_module_version": "2.0.0",
      "model_name": "ToggleButtonStyleModel",
      "state": {
       "description_width": "",
       "font_family": null,
       "font_size": null,
       "font_style": null,
       "font_variant": null,
       "font_weight": null,
       "text_color": null,
       "text_decoration": null
      }
     },
     "478b4c35309b49a794649d56c8b44a57": {
      "model_module": "@jupyter-widgets/controls",
      "model_module_version": "2.0.0",
      "model_name": "ToggleButtonModel",
      "state": {
       "button_style": "primary",
       "icon": "retweet",
       "layout": "IPY_MODEL_cd835f5d5483449e887fa74367cd822f",
       "style": "IPY_MODEL_90523d674c6641efbc28b1db40e15e72",
       "tooltip": "Convert Earth Engine JavaScript to Python"
      }
     },
     "47a54adcef0642c8aa4279a7a475a029": {
      "model_module": "@jupyter-widgets/base",
      "model_module_version": "2.0.0",
      "model_name": "LayoutModel",
      "state": {
       "height": "auto",
       "padding": "0px 0px 0px 4px",
       "width": "auto"
      }
     },
     "47e4ef49ead24e3cb33aa37b480896d5": {
      "model_module": "@jupyter-widgets/base",
      "model_module_version": "2.0.0",
      "model_name": "LayoutModel",
      "state": {
       "height": "auto",
       "padding": "0px 0px 0px 4px",
       "width": "auto"
      }
     },
     "4807770ddd3248f39fdbc32048ea00ad": {
      "model_module": "@jupyter-widgets/controls",
      "model_module_version": "2.0.0",
      "model_name": "ToggleButtonStyleModel",
      "state": {
       "description_width": "",
       "font_family": null,
       "font_size": null,
       "font_style": null,
       "font_variant": null,
       "font_weight": null,
       "text_color": null,
       "text_decoration": null
      }
     },
     "481d54f986084f15bc5c7fab6ca812f9": {
      "model_module": "@jupyter-widgets/controls",
      "model_module_version": "2.0.0",
      "model_name": "GridBoxModel",
      "state": {
       "children": [
        "IPY_MODEL_4665e76cf5a6455b97b892788778754b",
        "IPY_MODEL_636d95d56fcd49b292d9af6abde5e97c",
        "IPY_MODEL_5c6654e530c5462b8cb9ac7053d108ef",
        "IPY_MODEL_dea1f9f1780940e185b848925286ad28",
        "IPY_MODEL_e5143372c5fc46fcb22f708157fc46c1",
        "IPY_MODEL_a9a2eed199f84a41a4927198b75be85c"
       ],
       "layout": "IPY_MODEL_a6a47c4b9f1f45e09ecf74bd2b5c8f6e"
      }
     },
     "483186ac68854172a192587672944353": {
      "model_module": "@jupyter-widgets/controls",
      "model_module_version": "2.0.0",
      "model_name": "ToggleButtonModel",
      "state": {
       "button_style": "primary",
       "icon": "info",
       "layout": "IPY_MODEL_a93b0d717e81494b9306605ed3958f40",
       "style": "IPY_MODEL_05fe100eb2b444b1a8e3c6e2a9547994",
       "tooltip": "Inspector"
      }
     },
     "487607c0f7184a18b8d3c753d078cc5a": {
      "model_module": "@jupyter-widgets/controls",
      "model_module_version": "2.0.0",
      "model_name": "SelectModel",
      "state": {
       "_options_labels": [
        "AggregateRaster",
        "AverageOverlay",
        "BlockMaximumGridding",
        "BlockMinimumGridding",
        "BoundaryShapeComplexity",
        "BufferRaster",
        "Centroid",
        "CentroidVector",
        "Clip",
        "ClipRasterToPolygon",
        "Clump",
        "CompactnessRatio",
        "ConstructVectorTin",
        "CostAllocation",
        "CostDistance",
        "CostPathway",
        "CountIf",
        "CreateHexagonalVectorGrid",
        "CreatePlane",
        "CreateRectangularVectorGrid",
        "Difference",
        "Dissolve",
        "EdgeProportion",
        "EliminateCoincidentPoints",
        "ElongationRatio",
        "Erase",
        "ErasePolygonFromRaster",
        "EuclideanAllocation",
        "EuclideanDistance",
        "ExtendVectorLines",
        "ExtractNodes",
        "ExtractRasterValuesAtPoints",
        "FilterRasterFeaturesByArea",
        "FindLowestOrHighestPoints",
        "FindPatchOrClassEdgeCells",
        "HighestPosition",
        "HoleProportion",
        "IdwInterpolation",
        "Intersect",
        "LayerFootprint",
        "LineIntersections",
        "LinearityIndex",
        "LowestPosition",
        "MaxAbsoluteOverlay",
        "MaxOverlay",
        "Medoid",
        "MergeLineSegments",
        "MinAbsoluteOverlay",
        "MinOverlay",
        "MinimumBoundingBox",
        "MinimumBoundingCircle",
        "MinimumBoundingEnvelope",
        "MinimumConvexHull",
        "NarrownessIndex",
        "NaturalNeighbourInterpolation",
        "NearestNeighbourGridding",
        "PatchOrientation",
        "PercentEqualTo",
        "PercentGreaterThan",
        "PercentLessThan",
        "PerimeterAreaRatio",
        "PickFromList",
        "PolygonArea",
        "PolygonLongAxis",
        "PolygonPerimeter",
        "PolygonShortAxis",
        "Polygonize",
        "RadialBasisFunctionInterpolation",
        "RadiusOfGyration",
        "RasterArea",
        "RasterCellAssignment",
        "RasterPerimeter",
        "Reclass",
        "ReclassEqualInterval",
        "ReclassFromFile",
        "RelatedCircumscribingCircle",
        "ShapeComplexityIndex",
        "ShapeComplexityIndexRaster",
        "SmoothVectors",
        "SplitVectorLines",
        "SplitWithLines",
        "SumOverlay",
        "SymmetricalDifference",
        "TinGridding",
        "Union",
        "UpdateNodataCells",
        "VectorHexBinning",
        "VoronoiDiagram",
        "WeightedOverlay",
        "WeightedSum"
       ],
       "index": 9,
       "layout": "IPY_MODEL_77489019ed4b4b6487a5d1d967fc552d",
       "style": "IPY_MODEL_5926bcbf4b8d4f20baa4c05799450fbb"
      }
     },
     "48904ebad59444b98e0cd3bc37d9faec": {
      "model_module": "@jupyter-widgets/base",
      "model_module_version": "2.0.0",
      "model_name": "LayoutModel",
      "state": {
       "height": "auto",
       "padding": "0px 0px 0px 4px",
       "width": "auto"
      }
     },
     "4892acbc5c2e4507b9a35db2046ea282": {
      "model_module": "@jupyter-widgets/controls",
      "model_module_version": "2.0.0",
      "model_name": "DescriptionStyleModel",
      "state": {
       "description_width": ""
      }
     },
     "48b24976ed64456980d3470227f687b0": {
      "model_module": "@jupyter-widgets/base",
      "model_module_version": "2.0.0",
      "model_name": "LayoutModel",
      "state": {
       "height": "auto",
       "padding": "0px 0px 0px 4px",
       "width": "auto"
      }
     },
     "48b3864ce8df4f01bf364c9bb8cbe003": {
      "model_module": "@jupyter-widgets/base",
      "model_module_version": "2.0.0",
      "model_name": "LayoutModel",
      "state": {
       "max_width": "279px",
       "min_width": "279px"
      }
     },
     "48e06b28d8824c8d9996fa1bd7258ea3": {
      "model_module": "@jupyter-widgets/controls",
      "model_module_version": "2.0.0",
      "model_name": "ToggleButtonStyleModel",
      "state": {
       "description_width": "",
       "font_family": null,
       "font_size": null,
       "font_style": null,
       "font_variant": null,
       "font_weight": null,
       "text_color": null,
       "text_decoration": null
      }
     },
     "48ec494ce5d341259f5ea24fb7c8f3c1": {
      "model_module": "@jupyter-widgets/controls",
      "model_module_version": "2.0.0",
      "model_name": "ToggleButtonStyleModel",
      "state": {
       "description_width": "",
       "font_family": null,
       "font_size": null,
       "font_style": null,
       "font_variant": null,
       "font_weight": null,
       "text_color": null,
       "text_decoration": null
      }
     },
     "48f1f0fd7a87498aaec0a0f4296aa811": {
      "model_module": "jupyter-leaflet",
      "model_module_version": "^0.17",
      "model_name": "LeafletMeasureControlModel",
      "state": {
       "_model_module_version": "^0.17",
       "_view_module_version": "^0.17",
       "active_color": "orange",
       "options": [
        "active_color",
        "capture_z_index",
        "completed_color",
        "popup_options",
        "position",
        "primary_area_unit",
        "primary_length_unit",
        "secondary_area_unit",
        "secondary_length_unit"
       ],
       "position": "bottomleft",
       "primary_length_unit": "kilometers",
       "secondary_area_unit": null,
       "secondary_length_unit": null
      }
     },
     "4925c51558d540d98061c0caf1bc440e": {
      "model_module": "@jupyter-widgets/base",
      "model_module_version": "2.0.0",
      "model_name": "LayoutModel",
      "state": {
       "height": "auto",
       "padding": "0px 0px 0px 4px",
       "width": "auto"
      }
     },
     "49512f29f1f54dffae6f07338c438709": {
      "model_module": "@jupyter-widgets/controls",
      "model_module_version": "2.0.0",
      "model_name": "ToggleButtonModel",
      "state": {
       "button_style": "primary",
       "icon": "info-circle",
       "layout": "IPY_MODEL_50337319cecd4a0aaf962bc05c573592",
       "style": "IPY_MODEL_4e0cd72c632e4e38b8f45cf926a87715",
       "tooltip": "Get COG/STAC pixel value"
      }
     },
     "49551f76c33a406785910a57877b0834": {
      "model_module": "@jupyter-widgets/controls",
      "model_module_version": "2.0.0",
      "model_name": "ToggleButtonStyleModel",
      "state": {
       "description_width": "",
       "font_family": null,
       "font_size": null,
       "font_style": null,
       "font_variant": null,
       "font_weight": null,
       "text_color": null,
       "text_decoration": null
      }
     },
     "498257f354924fdaa2811a4d30012ef8": {
      "model_module": "@jupyter-widgets/base",
      "model_module_version": "2.0.0",
      "model_name": "LayoutModel",
      "state": {
       "height": "auto",
       "padding": "0px 0px 0px 4px",
       "width": "auto"
      }
     },
     "4987cde898d04031ad5ae6ba92631ed4": {
      "model_module": "@jupyter-widgets/base",
      "model_module_version": "2.0.0",
      "model_name": "LayoutModel",
      "state": {
       "height": "auto",
       "padding": "0px 0px 0px 4px",
       "width": "auto"
      }
     },
     "49e51a8191004f03bdd5220b40cb0fef": {
      "model_module": "@jupyter-widgets/base",
      "model_module_version": "2.0.0",
      "model_name": "LayoutModel",
      "state": {
       "height": "auto",
       "padding": "0px 0px 0px 4px",
       "width": "auto"
      }
     },
     "49f6dd274f2e4a6e80514125ea9cfb67": {
      "model_module": "@jupyter-widgets/base",
      "model_module_version": "2.0.0",
      "model_name": "LayoutModel",
      "state": {
       "height": "28px",
       "padding": "0px 0px 0px 4px",
       "width": "28px"
      }
     },
     "4a554b3d9d9c4a15ae2f20bdbb55076a": {
      "model_module": "@jupyter-widgets/controls",
      "model_module_version": "2.0.0",
      "model_name": "ToggleButtonModel",
      "state": {
       "button_style": "primary",
       "icon": "folder-open",
       "layout": "IPY_MODEL_862ee813e356497d8ad3c54604775242",
       "style": "IPY_MODEL_8b954a19a89f4830af31c79853c7e8bd",
       "tooltip": "Open local vector/raster data"
      }
     },
     "4a95d82678a24a1f877f9abe6deec877": {
      "model_module": "@jupyter-widgets/controls",
      "model_module_version": "2.0.0",
      "model_name": "ToggleButtonModel",
      "state": {
       "button_style": "primary",
       "icon": "fast-forward",
       "layout": "IPY_MODEL_e6e722da8e5248989cc47004f64fef51",
       "style": "IPY_MODEL_acb8928e02584e90b1308ae2c29cd4ac",
       "tooltip": "Activate timeslider"
      }
     },
     "4a9db7bf645f4d2384b9d2caeae0fad8": {
      "model_module": "@jupyter-widgets/base",
      "model_module_version": "2.0.0",
      "model_name": "LayoutModel",
      "state": {
       "height": "auto",
       "padding": "0px 0px 0px 4px",
       "width": "auto"
      }
     },
     "4ae1afb606f44cfc8759f223d360b3dc": {
      "model_module": "@jupyter-widgets/controls",
      "model_module_version": "2.0.0",
      "model_name": "ToggleButtonStyleModel",
      "state": {
       "description_width": "",
       "font_family": null,
       "font_size": null,
       "font_style": null,
       "font_variant": null,
       "font_weight": null,
       "text_color": null,
       "text_decoration": null
      }
     },
     "4afc0cce30a2434193b202da264c5343": {
      "model_module": "@jupyter-widgets/controls",
      "model_module_version": "2.0.0",
      "model_name": "ToggleButtonModel",
      "state": {
       "button_style": "primary",
       "icon": "retweet",
       "layout": "IPY_MODEL_8ea70dc758a34d049cc3e0941c588fa9",
       "style": "IPY_MODEL_a472ee810b114941b4dbed23f1c66f16",
       "tooltip": "Convert Earth Engine JavaScript to Python"
      }
     },
     "4b007cab1d3b4c3a8ab7d8deb74aed1c": {
      "model_module": "@jupyter-widgets/controls",
      "model_module_version": "2.0.0",
      "model_name": "ToggleButtonStyleModel",
      "state": {
       "description_width": "",
       "font_family": null,
       "font_size": null,
       "font_style": null,
       "font_variant": null,
       "font_weight": null,
       "text_color": null,
       "text_decoration": null
      }
     },
     "4b0f9f1a033d48a28ca8a318ab05b150": {
      "model_module": "@jupyter-widgets/controls",
      "model_module_version": "2.0.0",
      "model_name": "ButtonStyleModel",
      "state": {
       "font_family": null,
       "font_size": null,
       "font_style": null,
       "font_variant": null,
       "font_weight": null,
       "text_color": null,
       "text_decoration": null
      }
     },
     "4b1cd510070b4ca59c1bac4769ceecec": {
      "model_module": "@jupyter-widgets/output",
      "model_module_version": "1.0.0",
      "model_name": "OutputModel",
      "state": {
       "layout": "IPY_MODEL_3ac0891f9d78487092ff8f28df6e4a94"
      }
     },
     "4b5e3c2e40634892bc26db5aea3f2e1b": {
      "model_module": "@jupyter-widgets/controls",
      "model_module_version": "2.0.0",
      "model_name": "HBoxModel",
      "state": {
       "children": [
        "IPY_MODEL_a8a516eb7709447699a35bf5ad19189c",
        "IPY_MODEL_dddfa6a54a8e45f092b0205e9415bb9b"
       ],
       "layout": "IPY_MODEL_56cfcea5c3e34cce9d46b488ba5b81d8"
      }
     },
     "4b672920e7884087ba897b8383144d08": {
      "model_module": "@jupyter-widgets/base",
      "model_module_version": "2.0.0",
      "model_name": "LayoutModel",
      "state": {
       "padding": "0px 8px 0px 8px"
      }
     },
     "4b8717ce12bc4144a90535f20ada9eeb": {
      "model_module": "@jupyter-widgets/base",
      "model_module_version": "2.0.0",
      "model_name": "LayoutModel",
      "state": {
       "height": "auto",
       "padding": "0px 0px 0px 4px",
       "width": "auto"
      }
     },
     "4baf23811e824456aa555e6c27055636": {
      "model_module": "jupyter-leaflet",
      "model_module_version": "^0.17",
      "model_name": "LeafletFullScreenControlModel",
      "state": {
       "_model_module_version": "^0.17",
       "_view_module_version": "^0.17",
       "options": [
        "position"
       ]
      }
     },
     "4bb7ff88bcab41b9920b55f7a63b08f5": {
      "model_module": "@jupyter-widgets/base",
      "model_module_version": "2.0.0",
      "model_name": "LayoutModel",
      "state": {
       "height": "28px",
       "padding": "0px 0px 0px 4px",
       "width": "28px"
      }
     },
     "4bf4035bd4584bb38944869bf610b4d7": {
      "model_module": "@jupyter-widgets/base",
      "model_module_version": "2.0.0",
      "model_name": "LayoutModel",
      "state": {
       "width": "340px"
      }
     },
     "4bf550ddc8cb4b1e8a75ce55f502f1c2": {
      "model_module": "@jupyter-widgets/base",
      "model_module_version": "2.0.0",
      "model_name": "LayoutModel",
      "state": {
       "height": "auto",
       "padding": "0px 0px 0px 4px",
       "width": "auto"
      }
     },
     "4c0e01bdd133488489f839286b2eefb7": {
      "model_module": "@jupyter-widgets/base",
      "model_module_version": "2.0.0",
      "model_name": "LayoutModel",
      "state": {
       "max_height": "350px",
       "max_width": "340px",
       "overflow": "scroll"
      }
     },
     "4c1c2fb736b0438d8890ad7e98b0578f": {
      "model_module": "@jupyter-widgets/base",
      "model_module_version": "2.0.0",
      "model_name": "LayoutModel",
      "state": {
       "height": "28px",
       "padding": "0px 0px 0px 4px",
       "width": "28px"
      }
     },
     "4c8a3c7c084a4fc8a779452ccaf2ff94": {
      "model_module": "@jupyter-widgets/controls",
      "model_module_version": "2.0.0",
      "model_name": "TextModel",
      "state": {
       "layout": "IPY_MODEL_5a9a8d3f1b974999910a1556d8f2097f",
       "placeholder": "Search by place name or address",
       "style": "IPY_MODEL_d7fe518888c641e5970a1fbeac0ef260",
       "tooltip": "Search location"
      }
     },
     "4c9846dc382a4f628557ed94b978e123": {
      "model_module": "@jupyter-widgets/base",
      "model_module_version": "2.0.0",
      "model_name": "LayoutModel",
      "state": {
       "max_width": "57px",
       "min_width": "57px"
      }
     },
     "4d592a6ebaab4ccba1789ec536d689c8": {
      "model_module": "@jupyter-widgets/base",
      "model_module_version": "2.0.0",
      "model_name": "LayoutModel",
      "state": {
       "height": "auto",
       "padding": "0px 0px 0px 4px",
       "width": "auto"
      }
     },
     "4d99ce490d64469d8b9b7e1ca74b4035": {
      "model_module": "@jupyter-widgets/controls",
      "model_module_version": "2.0.0",
      "model_name": "ToggleButtonStyleModel",
      "state": {
       "description_width": "",
       "font_family": null,
       "font_size": null,
       "font_style": null,
       "font_variant": null,
       "font_weight": null,
       "text_color": null,
       "text_decoration": null
      }
     },
     "4dbccd282fa2437f98a3f86f5684dcbb": {
      "model_module": "@jupyter-widgets/controls",
      "model_module_version": "2.0.0",
      "model_name": "HBoxModel",
      "state": {
       "children": [
        "IPY_MODEL_e00f2b3752bc40b58262a57dee136aca",
        "IPY_MODEL_72ee1addcb1644d58f37130282da50bd"
       ],
       "layout": "IPY_MODEL_b5dc7ab4748e4bbe866ac02c208391d3"
      }
     },
     "4e0abf543cca4f0da41e74c064f441b7": {
      "model_module": "jupyter-leaflet",
      "model_module_version": "^0.17",
      "model_name": "LeafletFullScreenControlModel",
      "state": {
       "_model_module_version": "^0.17",
       "_view_module_version": "^0.17",
       "options": [
        "position"
       ]
      }
     },
     "4e0cd72c632e4e38b8f45cf926a87715": {
      "model_module": "@jupyter-widgets/controls",
      "model_module_version": "2.0.0",
      "model_name": "ToggleButtonStyleModel",
      "state": {
       "description_width": "",
       "font_family": null,
       "font_size": null,
       "font_style": null,
       "font_variant": null,
       "font_weight": null,
       "text_color": null,
       "text_decoration": null
      }
     },
     "4e1120c849884eb9b72cab84f1c1712d": {
      "model_module": "jupyter-leaflet",
      "model_module_version": "^0.17",
      "model_name": "LeafletWidgetControlModel",
      "state": {
       "_model_module": "jupyter-leaflet",
       "_model_module_version": "^0.17",
       "_view_count": null,
       "_view_module": "jupyter-leaflet",
       "_view_module_version": "^0.17",
       "options": [
        "position",
        "transparent_bg"
       ],
       "position": "topright",
       "widget": "IPY_MODEL_cf0cfbfa732c4ed3ad1b5841755bbdea"
      }
     },
     "4e8764cedbac4dc89b2e3b86d8a6b7bf": {
      "model_module": "@jupyter-widgets/base",
      "model_module_version": "2.0.0",
      "model_name": "LayoutModel",
      "state": {}
     },
     "4eb9a5578dc84a5fad8e87c40c1f5ed3": {
      "model_module": "@jupyter-widgets/base",
      "model_module_version": "2.0.0",
      "model_name": "LayoutModel",
      "state": {
       "height": "auto",
       "padding": "0px 0px 0px 4px",
       "width": "auto"
      }
     },
     "4ee7bfe608534d1bb2372725b8926076": {
      "model_module": "@jupyter-widgets/controls",
      "model_module_version": "2.0.0",
      "model_name": "ToggleButtonStyleModel",
      "state": {
       "description_width": "",
       "font_family": null,
       "font_size": null,
       "font_style": null,
       "font_variant": null,
       "font_weight": null,
       "text_color": null,
       "text_decoration": null
      }
     },
     "4ef736f32e4f438487aa97fbf7a1176e": {
      "model_module": "@jupyter-widgets/base",
      "model_module_version": "2.0.0",
      "model_name": "LayoutModel",
      "state": {}
     },
     "4f4c7d04182b405cb74caf1c35a0fdfc": {
      "model_module": "@jupyter-widgets/base",
      "model_module_version": "2.0.0",
      "model_name": "LayoutModel",
      "state": {
       "height": "auto",
       "padding": "0px 0px 0px 4px",
       "width": "auto"
      }
     },
     "4f5a47f6f72d4d2bbb89dd65938e76a7": {
      "model_module": "@jupyter-widgets/base",
      "model_module_version": "2.0.0",
      "model_name": "LayoutModel",
      "state": {}
     },
     "4f7c6384171049c49e194ba3d41c4572": {
      "model_module": "@jupyter-widgets/controls",
      "model_module_version": "2.0.0",
      "model_name": "VBoxModel",
      "state": {
       "children": [
        "IPY_MODEL_5f71e9b08428440f85827a8a30878d22",
        "IPY_MODEL_a5de7823f01a492a84d49249743122b1"
       ],
       "layout": "IPY_MODEL_940f81797cec42b39c1dacf7a20c0353"
      }
     },
     "4fb38ef2625e44a7a7e9fe4c7d9e623b": {
      "model_module": "@jupyter-widgets/controls",
      "model_module_version": "2.0.0",
      "model_name": "ButtonStyleModel",
      "state": {
       "font_family": null,
       "font_size": null,
       "font_style": null,
       "font_variant": null,
       "font_weight": null,
       "text_color": null,
       "text_decoration": null
      }
     },
     "4fc378e8b1b4419c88cb96ee6d9125d9": {
      "model_module": "jupyter-leaflet",
      "model_module_version": "^0.17",
      "model_name": "LeafletScaleControlModel",
      "state": {
       "_model_module_version": "^0.17",
       "_view_module_version": "^0.17",
       "imperial": true,
       "max_width": 100,
       "metric": true,
       "options": [
        "imperial",
        "max_width",
        "metric",
        "position",
        "update_when_idle"
       ],
       "position": "bottomleft",
       "update_when_idle": false
      }
     },
     "4fd2328b59ee4676bcedb49537283704": {
      "model_module": "@jupyter-widgets/controls",
      "model_module_version": "2.0.0",
      "model_name": "GridBoxModel",
      "state": {
       "children": [
        "IPY_MODEL_050e3654ad61488fa21587b22fa48ef5",
        "IPY_MODEL_6634635d1e0047f888be10cd8f14b8f5",
        "IPY_MODEL_3a600dc6aff9488194d30b846988b902",
        "IPY_MODEL_f8246a8c8c7b468b9168670d5ce68987",
        "IPY_MODEL_b4341bf22a2247bfbf67f342a960831c",
        "IPY_MODEL_2bf68eebe0c84357860382f9273f116e"
       ],
       "layout": "IPY_MODEL_0bd01f44811a49f69301d40784b7d5f5"
      }
     },
     "4fdbbb0b5ecf4246bb7b5d6257856fd9": {
      "model_module": "jupyter-leaflet",
      "model_module_version": "^0.17",
      "model_name": "LeafletAttributionControlModel",
      "state": {
       "_model_module_version": "^0.17",
       "_view_module_version": "^0.17",
       "options": [
        "position",
        "prefix"
       ],
       "position": "bottomright",
       "prefix": "ipyleaflet"
      }
     },
     "4fe39c70a8f04c239fe32e52e2909abc": {
      "model_module": "@jupyter-widgets/controls",
      "model_module_version": "2.0.0",
      "model_name": "HTMLStyleModel",
      "state": {
       "description_width": "",
       "font_size": null,
       "text_color": null
      }
     },
     "502b31f90ebc4667aeaa77d35b88aea6": {
      "model_module": "@jupyter-widgets/base",
      "model_module_version": "2.0.0",
      "model_name": "LayoutModel",
      "state": {
       "height": "auto",
       "padding": "0px 0px 0px 4px",
       "width": "auto"
      }
     },
     "50337319cecd4a0aaf962bc05c573592": {
      "model_module": "@jupyter-widgets/base",
      "model_module_version": "2.0.0",
      "model_name": "LayoutModel",
      "state": {
       "height": "auto",
       "padding": "0px 0px 0px 4px",
       "width": "auto"
      }
     },
     "5089137b5625446b8d625aa9771fe2c3": {
      "model_module": "@jupyter-widgets/controls",
      "model_module_version": "2.0.0",
      "model_name": "ToggleButtonStyleModel",
      "state": {
       "description_width": "",
       "font_family": null,
       "font_size": null,
       "font_style": null,
       "font_variant": null,
       "font_weight": null,
       "text_color": null,
       "text_decoration": null
      }
     },
     "50ae53d0fbbe47e39bc13cfe5e89a7be": {
      "model_module": "@jupyter-widgets/controls",
      "model_module_version": "2.0.0",
      "model_name": "ToggleButtonModel",
      "state": {
       "button_style": "primary",
       "icon": "globe",
       "layout": "IPY_MODEL_693aa45b8fba488c8cd0dc3c71ee0fb4",
       "style": "IPY_MODEL_22636e9af4be465ea1b1fb70b28bdaf5",
       "tooltip": "Create timelapse"
      }
     },
     "50bfb8c3b7f14230adfe940d93a8c7eb": {
      "model_module": "@jupyter-widgets/controls",
      "model_module_version": "2.0.0",
      "model_name": "ToggleButtonStyleModel",
      "state": {
       "description_width": "",
       "font_family": null,
       "font_size": null,
       "font_style": null,
       "font_variant": null,
       "font_weight": null,
       "text_color": null,
       "text_decoration": null
      }
     },
     "50c6db3cc5e74d3d962c43803819d754": {
      "model_module": "@jupyter-widgets/controls",
      "model_module_version": "2.0.0",
      "model_name": "ButtonModel",
      "state": {
       "button_style": "primary",
       "description": "import",
       "layout": "IPY_MODEL_fa9f8c36f8ee436782c6a02aa7b84b0b",
       "style": "IPY_MODEL_6f58d0b4c8e449ef8b58b704b59debf2",
       "tooltip": "Click to import the selected asset"
      }
     },
     "50c8b768434442d5aa4831be1f0b55c1": {
      "model_module": "@jupyter-widgets/controls",
      "model_module_version": "2.0.0",
      "model_name": "ToggleButtonStyleModel",
      "state": {
       "description_width": "",
       "font_family": null,
       "font_size": null,
       "font_style": null,
       "font_variant": null,
       "font_weight": null,
       "text_color": null,
       "text_decoration": null
      }
     },
     "50dab8a2a5654237adbcf6ee8450a777": {
      "model_module": "@jupyter-widgets/controls",
      "model_module_version": "2.0.0",
      "model_name": "GridBoxModel",
      "state": {
       "children": [
        "IPY_MODEL_1cf5db1ced7c496da8225c1abc3b9fcb",
        "IPY_MODEL_f5bc85fbaab44cba91cd3d7df39f8de0",
        "IPY_MODEL_c1b62fd6d55e4d00adc6ac5916a07fe8",
        "IPY_MODEL_7faa24713c0f49da99280a4e7b0aa627",
        "IPY_MODEL_452c492f4ab34453936d3b5a0cd20c4d",
        "IPY_MODEL_68333362de7e4e109955fc01f54f1f2b"
       ],
       "layout": "IPY_MODEL_8cd08ad3fb0b4d1bb9aa33bdc8397e2a"
      }
     },
     "50e87e72a6f84045be03a7aefe3bf91f": {
      "model_module": "@jupyter-widgets/base",
      "model_module_version": "2.0.0",
      "model_name": "LayoutModel",
      "state": {}
     },
     "5113f9b661ac4b7a85cede395e43cf12": {
      "model_module": "@jupyter-widgets/controls",
      "model_module_version": "2.0.0",
      "model_name": "VBoxModel",
      "state": {
       "children": [
        "IPY_MODEL_a889c2d7fff849c49e35aa8198964724"
       ],
       "layout": "IPY_MODEL_da70029f2b8640fba6cea76464fac315"
      }
     },
     "5116e8ff56ce4f6ca39d2cf90f955536": {
      "model_module": "@jupyter-widgets/base",
      "model_module_version": "2.0.0",
      "model_name": "LayoutModel",
      "state": {
       "height": "auto",
       "padding": "0px 0px 0px 4px",
       "width": "auto"
      }
     },
     "51391486b7364a53a77f5e2d11216275": {
      "model_module": "@jupyter-widgets/controls",
      "model_module_version": "2.0.0",
      "model_name": "ToggleButtonStyleModel",
      "state": {
       "description_width": "",
       "font_family": null,
       "font_size": null,
       "font_style": null,
       "font_variant": null,
       "font_weight": null,
       "text_color": null,
       "text_decoration": null
      }
     },
     "518a67f8d2944a3cbd70669af3ab9540": {
      "model_module": "@jupyter-widgets/controls",
      "model_module_version": "2.0.0",
      "model_name": "ToggleButtonModel",
      "state": {
       "button_style": "primary",
       "icon": "info",
       "layout": "IPY_MODEL_beb360f6dd8045908839fdf6965ed993",
       "style": "IPY_MODEL_83a0ce367a5e4ec682f8c1cdfe933fbf",
       "tooltip": "Inspector"
      }
     },
     "51c45356e8dc4adba146f46e2f8468c2": {
      "model_module": "@jupyter-widgets/base",
      "model_module_version": "2.0.0",
      "model_name": "LayoutModel",
      "state": {
       "height": "auto",
       "padding": "0px 0px 0px 4px",
       "width": "auto"
      }
     },
     "51e0e2923cb54e3c8dc2831ae2394147": {
      "model_module": "jupyter-leaflet",
      "model_module_version": "^0.17",
      "model_name": "LeafletTileLayerModel",
      "state": {
       "_model_module_version": "^0.17",
       "_view_module_version": "^0.17",
       "attribution": "&copy; <a href=\"https://www.openstreetmap.org/copyright\">OpenStreetMap</a> contributors",
       "base": true,
       "max_zoom": 19,
       "min_zoom": 1,
       "name": "OpenStreetMap.Mapnik",
       "options": [
        "attribution",
        "bounds",
        "detect_retina",
        "max_native_zoom",
        "max_zoom",
        "min_native_zoom",
        "min_zoom",
        "no_wrap",
        "tile_size",
        "tms",
        "zoom_offset"
       ],
       "url": "https://tile.openstreetmap.org/{z}/{x}/{y}.png"
      }
     },
     "51f1d49e9415427a9f66119276c2f064": {
      "model_module": "@jupyter-widgets/base",
      "model_module_version": "2.0.0",
      "model_name": "LayoutModel",
      "state": {
       "height": "28px",
       "width": "72px"
      }
     },
     "52297302f5154480b799e9d0ae7c9547": {
      "model_module": "@jupyter-widgets/base",
      "model_module_version": "2.0.0",
      "model_name": "LayoutModel",
      "state": {
       "min_width": "6em",
       "width": "6em"
      }
     },
     "5235773d87c6435a9127f4fa8c2f1cfb": {
      "model_module": "@jupyter-widgets/base",
      "model_module_version": "2.0.0",
      "model_name": "LayoutModel",
      "state": {}
     },
     "5245a1aa391d4d91bb24a8af2c7eface": {
      "model_module": "@jupyter-widgets/base",
      "model_module_version": "2.0.0",
      "model_name": "LayoutModel",
      "state": {
       "height": "auto",
       "padding": "0px 0px 0px 4px",
       "width": "auto"
      }
     },
     "524cfba8fc6f45bc8fae1a6caad131be": {
      "model_module": "@jupyter-widgets/base",
      "model_module_version": "2.0.0",
      "model_name": "LayoutModel",
      "state": {
       "height": "auto",
       "padding": "0px 0px 0px 4px",
       "width": "auto"
      }
     },
     "527d748ef04a4879840837d3d38fcad5": {
      "model_module": "jupyter-leaflet",
      "model_module_version": "^0.17",
      "model_name": "LeafletLayersControlModel",
      "state": {
       "_model_module_version": "^0.17",
       "_view_module_version": "^0.17",
       "options": [
        "position"
       ],
       "position": "topright"
      }
     },
     "529d869454c143da8279d47b4b8c5e2a": {
      "model_module": "@jupyter-widgets/controls",
      "model_module_version": "2.0.0",
      "model_name": "ToggleButtonModel",
      "state": {
       "button_style": "primary",
       "icon": "gears",
       "layout": "IPY_MODEL_9b4edaead3114ac0992f8dae33a669df",
       "style": "IPY_MODEL_631d516dc5e742b5b6672d11b45c443d",
       "tooltip": "WhiteboxTools for local geoprocessing"
      }
     },
     "52a624fad5a34e50bf0cae99feac6c3d": {
      "model_module": "jupyter-leaflet",
      "model_module_version": "^0.17",
      "model_name": "LeafletMapStyleModel",
      "state": {
       "_model_module_version": "^0.17"
      }
     },
     "532449a8c15a49a585da323a6b817a97": {
      "model_module": "jupyter-leaflet",
      "model_module_version": "^0.17",
      "model_name": "LeafletAttributionControlModel",
      "state": {
       "_model_module_version": "^0.17",
       "_view_module_version": "^0.17",
       "options": [
        "position",
        "prefix"
       ],
       "position": "bottomright",
       "prefix": "ipyleaflet"
      }
     },
     "534a94fd03b24b01ad8a55973b612e0f": {
      "model_module": "@jupyter-widgets/controls",
      "model_module_version": "2.0.0",
      "model_name": "ToggleButtonModel",
      "state": {
       "button_style": "primary",
       "icon": "line-chart",
       "layout": "IPY_MODEL_a00bd96b087c4f8f8eaf401271809c9c",
       "style": "IPY_MODEL_153de01b3d1a42b492b1f883454cb92d",
       "tooltip": "Creating and plotting transects"
      }
     },
     "53b6f800f7024341acf52bab46d78091": {
      "model_module": "@jupyter-widgets/controls",
      "model_module_version": "2.0.0",
      "model_name": "ToggleButtonStyleModel",
      "state": {
       "description_width": "",
       "font_family": null,
       "font_size": null,
       "font_style": null,
       "font_variant": null,
       "font_weight": null,
       "text_color": null,
       "text_decoration": null
      }
     },
     "53ca495c89024338944cee62b03ede89": {
      "model_module": "@jupyter-widgets/controls",
      "model_module_version": "2.0.0",
      "model_name": "ToggleButtonModel",
      "state": {
       "button_style": "primary",
       "icon": "line-chart",
       "layout": "IPY_MODEL_280f757f23e14058999246f862fd37cf",
       "style": "IPY_MODEL_b09af8231863485da0edc01cd584e8cf",
       "tooltip": "Creating and plotting transects"
      }
     },
     "53e1411525fb489687a8c8401d3862ae": {
      "model_module": "@jupyter-widgets/controls",
      "model_module_version": "2.0.0",
      "model_name": "ToggleButtonStyleModel",
      "state": {
       "description_width": "",
       "font_family": null,
       "font_size": null,
       "font_style": null,
       "font_variant": null,
       "font_weight": null,
       "text_color": null,
       "text_decoration": null
      }
     },
     "541b394d79e84787a41d2569709bb1bf": {
      "model_module": "@jupyter-widgets/base",
      "model_module_version": "2.0.0",
      "model_name": "LayoutModel",
      "state": {
       "width": "80px"
      }
     },
     "541c4f38bc094b76bbb8661a89b4fbfb": {
      "model_module": "@jupyter-widgets/base",
      "model_module_version": "2.0.0",
      "model_name": "LayoutModel",
      "state": {
       "height": "auto",
       "padding": "0px 0px 0px 4px",
       "width": "auto"
      }
     },
     "5428737e572a49f7a89763c469cc7cdf": {
      "model_module": "@jupyter-widgets/base",
      "model_module_version": "2.0.0",
      "model_name": "LayoutModel",
      "state": {}
     },
     "54288c0605ea4b6a8b00c1f83b1e9616": {
      "model_module": "@jupyter-widgets/base",
      "model_module_version": "2.0.0",
      "model_name": "LayoutModel",
      "state": {
       "height": "auto",
       "padding": "0px 0px 0px 4px",
       "width": "auto"
      }
     },
     "544737ab9615409d83ddcb42afab96f2": {
      "model_module": "@jupyter-widgets/base",
      "model_module_version": "2.0.0",
      "model_name": "LayoutModel",
      "state": {
       "height": "auto",
       "padding": "0px 0px 0px 4px",
       "width": "auto"
      }
     },
     "544ef4189ccf4707bb59583310ed1b42": {
      "model_module": "@jupyter-widgets/controls",
      "model_module_version": "2.0.0",
      "model_name": "ToggleButtonModel",
      "state": {
       "button_style": "primary",
       "icon": "adjust",
       "layout": "IPY_MODEL_d35e9beac3d04f9c84172105e6fbd375",
       "style": "IPY_MODEL_7ce4b08904d9474182477311c6da0b0c",
       "tooltip": "Planet imagery"
      }
     },
     "545d201097a14e56b8ad4f3bcc74a700": {
      "model_module": "@jupyter-widgets/controls",
      "model_module_version": "2.0.0",
      "model_name": "ToggleButtonStyleModel",
      "state": {
       "description_width": "",
       "font_family": null,
       "font_size": null,
       "font_style": null,
       "font_variant": null,
       "font_weight": null,
       "text_color": null,
       "text_decoration": null
      }
     },
     "54b5244aa1e547bd8d820104a15b0fa4": {
      "model_module": "@jupyter-widgets/controls",
      "model_module_version": "2.0.0",
      "model_name": "ToggleButtonModel",
      "state": {
       "button_style": "primary",
       "icon": "gears",
       "layout": "IPY_MODEL_707d7661ac984219a4ed9442f3ba702c",
       "style": "IPY_MODEL_5ac3384e978c4215924489f033fd9546",
       "tooltip": "WhiteboxTools for local geoprocessing"
      }
     },
     "54bfaf4f28a44619acfc51194e4b59da": {
      "model_module": "@jupyter-widgets/controls",
      "model_module_version": "2.0.0",
      "model_name": "ToggleButtonModel",
      "state": {
       "button_style": "primary",
       "icon": "bar-chart",
       "layout": "IPY_MODEL_139783ad80c94e5099eb20cf2f0b9665",
       "style": "IPY_MODEL_55503e8e8041484d8a7d88d9dc152f67",
       "tooltip": "Plotting"
      }
     },
     "54c55596240a418fb29e4bd15b6ee9c7": {
      "model_module": "@jupyter-widgets/controls",
      "model_module_version": "2.0.0",
      "model_name": "ToggleButtonStyleModel",
      "state": {
       "description_width": "",
       "font_family": null,
       "font_size": null,
       "font_style": null,
       "font_variant": null,
       "font_weight": null,
       "text_color": null,
       "text_decoration": null
      }
     },
     "54e7b9ce967a4d32b75aaaed707dd266": {
      "model_module": "@jupyter-widgets/controls",
      "model_module_version": "2.0.0",
      "model_name": "ToggleButtonsStyleModel",
      "state": {
       "button_width": "110px",
       "description_width": ""
      }
     },
     "54ef45380f214e0ba0854f0e0fb205d5": {
      "model_module": "@jupyter-widgets/base",
      "model_module_version": "2.0.0",
      "model_name": "LayoutModel",
      "state": {
       "height": "auto",
       "padding": "0px 0px 0px 4px",
       "width": "auto"
      }
     },
     "54f4b24ef98d4d7da87b2c9025407640": {
      "model_module": "@jupyter-widgets/controls",
      "model_module_version": "2.0.0",
      "model_name": "DescriptionStyleModel",
      "state": {
       "description_width": ""
      }
     },
     "55503e8e8041484d8a7d88d9dc152f67": {
      "model_module": "@jupyter-widgets/controls",
      "model_module_version": "2.0.0",
      "model_name": "ToggleButtonStyleModel",
      "state": {
       "description_width": "",
       "font_family": null,
       "font_size": null,
       "font_style": null,
       "font_variant": null,
       "font_weight": null,
       "text_color": null,
       "text_decoration": null
      }
     },
     "55655234d8924bf0ba749ee06f862110": {
      "model_module": "@jupyter-widgets/controls",
      "model_module_version": "2.0.0",
      "model_name": "ToggleButtonStyleModel",
      "state": {
       "description_width": "",
       "font_family": null,
       "font_size": null,
       "font_style": null,
       "font_variant": null,
       "font_weight": null,
       "text_color": null,
       "text_decoration": null
      }
     },
     "557dc06ff40843ea8cbe3c78cd4ae43c": {
      "model_module": "@jupyter-widgets/controls",
      "model_module_version": "2.0.0",
      "model_name": "ToggleButtonModel",
      "state": {
       "button_style": "primary",
       "icon": "line-chart",
       "layout": "IPY_MODEL_a0ec907d136242b2b583679f195ea285",
       "style": "IPY_MODEL_00879a9ba2e446bab4a89d6330afce2c",
       "tooltip": "Creating and plotting transects"
      }
     },
     "55902db8ce66477d8d02595ce82ee16d": {
      "model_module": "@jupyter-widgets/controls",
      "model_module_version": "2.0.0",
      "model_name": "ToggleButtonStyleModel",
      "state": {
       "description_width": "",
       "font_family": null,
       "font_size": null,
       "font_style": null,
       "font_variant": null,
       "font_weight": null,
       "text_color": null,
       "text_decoration": null
      }
     },
     "55e6855f2af5461189f564339c57d272": {
      "model_module": "@jupyter-widgets/controls",
      "model_module_version": "2.0.0",
      "model_name": "DescriptionStyleModel",
      "state": {
       "description_width": ""
      }
     },
     "55facd8bc78840d1b197d1d4001cfea3": {
      "model_module": "@jupyter-widgets/base",
      "model_module_version": "2.0.0",
      "model_name": "LayoutModel",
      "state": {
       "height": "600px"
      }
     },
     "5613db61671547a3a5d6e4813a6d8fe9": {
      "model_module": "jupyter-leaflet",
      "model_module_version": "^0.17",
      "model_name": "LeafletMapStyleModel",
      "state": {
       "_model_module_version": "^0.17"
      }
     },
     "562a9d41f2f54e90bad714a41bb99d0d": {
      "model_module": "@jupyter-widgets/controls",
      "model_module_version": "2.0.0",
      "model_name": "ButtonModel",
      "state": {
       "button_style": "primary",
       "description": "import",
       "layout": "IPY_MODEL_05a8548ac29d43519aae826f2d348187",
       "style": "IPY_MODEL_224c58eb54664cd38fc50ca6e0994498",
       "tooltip": "Click to import the selected asset"
      }
     },
     "56368fde4ea64c75aaefc1b277d68aeb": {
      "model_module": "@jupyter-widgets/base",
      "model_module_version": "2.0.0",
      "model_name": "LayoutModel",
      "state": {}
     },
     "568b5f1d7d70470f98fa0ed622506cd6": {
      "model_module": "@jupyter-widgets/base",
      "model_module_version": "2.0.0",
      "model_name": "LayoutModel",
      "state": {}
     },
     "56b1ceceb910484884b4e664db87bd0c": {
      "model_module": "@jupyter-widgets/controls",
      "model_module_version": "2.0.0",
      "model_name": "ToggleButtonStyleModel",
      "state": {
       "description_width": "",
       "font_family": null,
       "font_size": null,
       "font_style": null,
       "font_variant": null,
       "font_weight": null,
       "text_color": null,
       "text_decoration": null
      }
     },
     "56cfcea5c3e34cce9d46b488ba5b81d8": {
      "model_module": "@jupyter-widgets/base",
      "model_module_version": "2.0.0",
      "model_name": "LayoutModel",
      "state": {}
     },
     "56da98c175804df8abd9eb5756491fe0": {
      "model_module": "@jupyter-widgets/base",
      "model_module_version": "2.0.0",
      "model_name": "LayoutModel",
      "state": {}
     },
     "56ec5375804a497c8c9d0d89ac28bbbc": {
      "model_module": "@jupyter-widgets/base",
      "model_module_version": "2.0.0",
      "model_name": "LayoutModel",
      "state": {}
     },
     "56f4b25627eb47fd9a3e90b1f0b0fedc": {
      "model_module": "jupyter-leaflet",
      "model_module_version": "^0.17",
      "model_name": "LeafletTileLayerModel",
      "state": {
       "_model_module_version": "^0.17",
       "_view_module_version": "^0.17",
       "attribution": "Google",
       "max_zoom": 24,
       "name": "Google Maps",
       "options": [
        "attribution",
        "bounds",
        "detect_retina",
        "max_native_zoom",
        "max_zoom",
        "min_native_zoom",
        "min_zoom",
        "no_wrap",
        "tile_size",
        "tms",
        "zoom_offset"
       ],
       "url": "https://mt1.google.com/vt/lyrs=m&x={x}&y={y}&z={z}"
      }
     },
     "56f7bb0819134086a5ef988ae48f4cd0": {
      "model_module": "@jupyter-widgets/controls",
      "model_module_version": "2.0.0",
      "model_name": "ToggleButtonModel",
      "state": {
       "button_style": "primary",
       "icon": "folder-open",
       "layout": "IPY_MODEL_a4cc4c6905064a7b8063d9d14129cada",
       "style": "IPY_MODEL_de69e5cce7504f37b829ba56e8fb364d",
       "tooltip": "Open local vector/raster data"
      }
     },
     "57028f447210471db6f06a98cd92387b": {
      "model_module": "@jupyter-widgets/base",
      "model_module_version": "2.0.0",
      "model_name": "LayoutModel",
      "state": {
       "height": "auto",
       "padding": "0px 0px 0px 4px",
       "width": "auto"
      }
     },
     "575ee978e5104359af2f6f8c23dfd88d": {
      "model_module": "@jupyter-widgets/controls",
      "model_module_version": "2.0.0",
      "model_name": "ToggleButtonStyleModel",
      "state": {
       "description_width": "",
       "font_family": null,
       "font_size": null,
       "font_style": null,
       "font_variant": null,
       "font_weight": null,
       "text_color": null,
       "text_decoration": null
      }
     },
     "575f52ed70f94a14bd0788423be8480a": {
      "model_module": "@jupyter-widgets/base",
      "model_module_version": "2.0.0",
      "model_name": "LayoutModel",
      "state": {}
     },
     "577e8dc21ea946ee976e32c665a24420": {
      "model_module": "jupyter-leaflet",
      "model_module_version": "^0.17",
      "model_name": "LeafletFullScreenControlModel",
      "state": {
       "_model_module_version": "^0.17",
       "_view_module_version": "^0.17",
       "options": [
        "position"
       ]
      }
     },
     "57b77f626a784651af6c3b22805dfebc": {
      "model_module": "@jupyter-widgets/controls",
      "model_module_version": "2.0.0",
      "model_name": "ToggleButtonModel",
      "state": {
       "icon": "wrench",
       "layout": "IPY_MODEL_f0bedefb56344ca7b0d0d6669141677a",
       "style": "IPY_MODEL_ddda9b494fb24e2186c41110956982bc",
       "tooltip": "Toolbar"
      }
     },
     "57c0135cd69d485e8e59da84c7efc93d": {
      "model_module": "@jupyter-widgets/controls",
      "model_module_version": "2.0.0",
      "model_name": "ToggleButtonStyleModel",
      "state": {
       "description_width": "",
       "font_family": null,
       "font_size": null,
       "font_style": null,
       "font_variant": null,
       "font_weight": null,
       "text_color": null,
       "text_decoration": null
      }
     },
     "57c5653344a24e82843873c63c984ef0": {
      "model_module": "@jupyter-widgets/controls",
      "model_module_version": "2.0.0",
      "model_name": "ToggleButtonModel",
      "state": {
       "button_style": "primary",
       "icon": "eraser",
       "layout": "IPY_MODEL_aecf5771b3f44c5da7fe8e2bfe1c8dd5",
       "style": "IPY_MODEL_3278a27f282a48f794d80b41c3f59e24",
       "tooltip": "Remove all drawn features"
      }
     },
     "57ff0be3ed454c6ba06a0c3d80447595": {
      "model_module": "@jupyter-widgets/controls",
      "model_module_version": "2.0.0",
      "model_name": "ToggleButtonStyleModel",
      "state": {
       "description_width": "",
       "font_family": null,
       "font_size": null,
       "font_style": null,
       "font_variant": null,
       "font_weight": null,
       "text_color": null,
       "text_decoration": null
      }
     },
     "58089061042449308998ab439b5e7be2": {
      "model_module": "@jupyter-widgets/controls",
      "model_module_version": "2.0.0",
      "model_name": "ToggleButtonModel",
      "state": {
       "button_style": "primary",
       "icon": "line-chart",
       "layout": "IPY_MODEL_502b31f90ebc4667aeaa77d35b88aea6",
       "style": "IPY_MODEL_4ee7bfe608534d1bb2372725b8926076",
       "tooltip": "Creating and plotting transects"
      }
     },
     "5838d72acb014999a2e9af2445092478": {
      "model_module": "jupyter-leaflet",
      "model_module_version": "^0.17",
      "model_name": "LeafletMapStyleModel",
      "state": {
       "_model_module_version": "^0.17"
      }
     },
     "584b67c0ed704c23a5be28477c66a8d1": {
      "model_module": "@jupyter-widgets/controls",
      "model_module_version": "2.0.0",
      "model_name": "HBoxModel",
      "state": {
       "_view_count": 0,
       "children": [
        "IPY_MODEL_d7cbd6117c544ed9b9bb2b3ca48ce1b2"
       ],
       "layout": "IPY_MODEL_247c9899ec6548e6932f3aa0053b37c3"
      }
     },
     "58bcfad7bb5d4fc6ad98b5cf982c9596": {
      "model_module": "@jupyter-widgets/base",
      "model_module_version": "2.0.0",
      "model_name": "LayoutModel",
      "state": {
       "grid_gap": "1px 1px",
       "grid_template_columns": "32px 32px 32px ",
       "grid_template_rows": "32px 32px ",
       "padding": "5px",
       "width": "109px"
      }
     },
     "58c0d5485bd14681b0acbacc7c0356ba": {
      "model_module": "@jupyter-widgets/base",
      "model_module_version": "2.0.0",
      "model_name": "LayoutModel",
      "state": {}
     },
     "5926bcbf4b8d4f20baa4c05799450fbb": {
      "model_module": "@jupyter-widgets/controls",
      "model_module_version": "2.0.0",
      "model_name": "DescriptionStyleModel",
      "state": {
       "description_width": ""
      }
     },
     "59388721657b4c118a7acb856f2342f1": {
      "model_module": "@jupyter-widgets/controls",
      "model_module_version": "2.0.0",
      "model_name": "VBoxModel",
      "state": {
       "children": [
        "IPY_MODEL_2c9b09d49f4047988dfeae1e5de256b5",
        "IPY_MODEL_ac131a088f7142caa943b0db2948c4d1",
        "IPY_MODEL_7655e1b402204344b37912d8268f0ab4"
       ],
       "layout": "IPY_MODEL_d8fad85ae5a34a25badf53151cfbcc21"
      }
     },
     "595d7af6642244bdb8af68e13c62b9d7": {
      "model_module": "@jupyter-widgets/base",
      "model_module_version": "2.0.0",
      "model_name": "LayoutModel",
      "state": {
       "height": "auto",
       "padding": "0px 0px 0px 4px",
       "width": "auto"
      }
     },
     "5972c4e18d0d4513a6954ef916a0831d": {
      "model_module": "@jupyter-widgets/controls",
      "model_module_version": "2.0.0",
      "model_name": "ToggleButtonStyleModel",
      "state": {
       "description_width": "",
       "font_family": null,
       "font_size": null,
       "font_style": null,
       "font_variant": null,
       "font_weight": null,
       "text_color": null,
       "text_decoration": null
      }
     },
     "5989294a9d3a4de59d92fcb9b84ccd85": {
      "model_module": "@jupyter-widgets/base",
      "model_module_version": "2.0.0",
      "model_name": "LayoutModel",
      "state": {
       "height": "auto",
       "padding": "0px 0px 0px 4px",
       "width": "auto"
      }
     },
     "599242e89fae4caea4467c706aa25991": {
      "model_module": "jupyter-leaflet",
      "model_module_version": "^0.17",
      "model_name": "LeafletZoomControlModel",
      "state": {
       "_model_module_version": "^0.17",
       "_view_module_version": "^0.17",
       "options": [
        "position",
        "zoom_in_text",
        "zoom_in_title",
        "zoom_out_text",
        "zoom_out_title"
       ]
      }
     },
     "599e883eee6f42a8929bb9374cee8966": {
      "model_module": "@jupyter-widgets/controls",
      "model_module_version": "2.0.0",
      "model_name": "ToggleButtonModel",
      "state": {
       "button_style": "primary",
       "icon": "gears",
       "layout": "IPY_MODEL_c89d921322004e58abc8ef7cbb1b2955",
       "style": "IPY_MODEL_3dc0a0b65d3d4189983021bf7620efd3",
       "tooltip": "WhiteboxTools for local geoprocessing"
      }
     },
     "599fe2e973164fde9bf9f121d8f29c2b": {
      "model_module": "@jupyter-widgets/controls",
      "model_module_version": "2.0.0",
      "model_name": "ButtonModel",
      "state": {
       "button_style": "primary",
       "description": "import",
       "layout": "IPY_MODEL_ea858f7f39f24a4a932b8162f3b29291",
       "style": "IPY_MODEL_1a3d672a88794104b728048880af30f9",
       "tooltip": "Click to import the selected asset"
      }
     },
     "59b194f1b796417989332f81cecbc0af": {
      "model_module": "@jupyter-widgets/base",
      "model_module_version": "2.0.0",
      "model_name": "LayoutModel",
      "state": {
       "height": "auto",
       "padding": "0px 0px 0px 4px",
       "width": "auto"
      }
     },
     "59b4e85417614d3083310c9402076582": {
      "model_module": "@jupyter-widgets/controls",
      "model_module_version": "2.0.0",
      "model_name": "ToggleButtonModel",
      "state": {
       "icon": "server",
       "layout": "IPY_MODEL_c63b8a2e7ca243ad92d4b38b2a91f911",
       "style": "IPY_MODEL_3a2fda54ca5b4087a80e6970d593b6da",
       "tooltip": "Layers"
      }
     },
     "5a0141e2b30e40e3a184fc0c66966fc8": {
      "model_module": "@jupyter-widgets/controls",
      "model_module_version": "2.0.0",
      "model_name": "GridBoxModel",
      "state": {
       "children": [
        "IPY_MODEL_771346a2ed984454835454302cdcf754",
        "IPY_MODEL_54bfaf4f28a44619acfc51194e4b59da",
        "IPY_MODEL_c8067ff48763418cb4e3e5a555d98016",
        "IPY_MODEL_6809023ad3344b9785606cce199bf520",
        "IPY_MODEL_349afcff89b14131b64dfe04b2768d7e",
        "IPY_MODEL_187b5675e8874441841e4ff9fef018a9"
       ],
       "layout": "IPY_MODEL_c3a0369c3cb443fb9ba31502bc06fc13"
      }
     },
     "5a40ddad856342c19cdb70aa8dfcbb33": {
      "model_module": "@jupyter-widgets/controls",
      "model_module_version": "2.0.0",
      "model_name": "ToggleButtonModel",
      "state": {
       "button_style": "primary",
       "icon": "adjust",
       "layout": "IPY_MODEL_f823433d85a3487a88b6284a859433d0",
       "style": "IPY_MODEL_0fcb5b9dbc304a86ac2321b4a3db44d0",
       "tooltip": "Planet imagery"
      }
     },
     "5a79cf22e3dd42f7ad53518f4561393c": {
      "model_module": "@jupyter-widgets/base",
      "model_module_version": "2.0.0",
      "model_name": "LayoutModel",
      "state": {
       "width": "98px"
      }
     },
     "5a832b15d9ce41bc9c955bfb61da46e1": {
      "model_module": "@jupyter-widgets/controls",
      "model_module_version": "2.0.0",
      "model_name": "HBoxModel",
      "state": {
       "children": [
        "IPY_MODEL_d1867e37d1e0455a874ed2d222c79398",
        "IPY_MODEL_bb08e1bc57a84ba5a296335a220979a7",
        "IPY_MODEL_1340ad3c18f046bd9b841f7f8642a1c5"
       ],
       "layout": "IPY_MODEL_020293b63af1423898d7368b347c9f42"
      }
     },
     "5a844005178242df82be3542c98cbfc5": {
      "model_module": "@jupyter-widgets/controls",
      "model_module_version": "2.0.0",
      "model_name": "ToggleButtonStyleModel",
      "state": {
       "description_width": "",
       "font_family": null,
       "font_size": null,
       "font_style": null,
       "font_variant": null,
       "font_weight": null,
       "text_color": null,
       "text_decoration": null
      }
     },
     "5a88e2f4d39d4678a07d06ecb5269808": {
      "model_module": "@jupyter-widgets/base",
      "model_module_version": "2.0.0",
      "model_name": "LayoutModel",
      "state": {
       "width": "340px"
      }
     },
     "5a8c42e419364121849c78a3c532702b": {
      "model_module": "@jupyter-widgets/controls",
      "model_module_version": "2.0.0",
      "model_name": "ToggleButtonStyleModel",
      "state": {
       "description_width": "",
       "font_family": null,
       "font_size": null,
       "font_style": null,
       "font_variant": null,
       "font_weight": null,
       "text_color": null,
       "text_decoration": null
      }
     },
     "5a9a8d3f1b974999910a1556d8f2097f": {
      "model_module": "@jupyter-widgets/base",
      "model_module_version": "2.0.0",
      "model_name": "LayoutModel",
      "state": {
       "width": "340px"
      }
     },
     "5ab9e21277bd4d3e8651084217521a39": {
      "model_module": "@jupyter-widgets/base",
      "model_module_version": "2.0.0",
      "model_name": "LayoutModel",
      "state": {
       "overflow": "auto"
      }
     },
     "5ac3384e978c4215924489f033fd9546": {
      "model_module": "@jupyter-widgets/controls",
      "model_module_version": "2.0.0",
      "model_name": "ToggleButtonStyleModel",
      "state": {
       "description_width": "",
       "font_family": null,
       "font_size": null,
       "font_style": null,
       "font_variant": null,
       "font_weight": null,
       "text_color": null,
       "text_decoration": null
      }
     },
     "5ad35ed71c7345569d4cc1333f3bb493": {
      "model_module": "@jupyter-widgets/controls",
      "model_module_version": "2.0.0",
      "model_name": "ToggleButtonModel",
      "state": {
       "icon": "wrench",
       "layout": "IPY_MODEL_10d3e95958f346d483be259d0ec98e97",
       "style": "IPY_MODEL_35724063b3894c088c1a31e4758d8dd8",
       "tooltip": "Toolbar"
      }
     },
     "5aead5793c664fc5b17cfd247131b04d": {
      "model_module": "@jupyter-widgets/controls",
      "model_module_version": "2.0.0",
      "model_name": "VBoxModel",
      "state": {
       "children": [
        "IPY_MODEL_1a6d94b05f1c4ec5a94094b1eaf86f54",
        "IPY_MODEL_a46c4ba9b41b4c9b879a277141da0e0c",
        "IPY_MODEL_6c8223a54a3546ea85a74cc0a68df993",
        "IPY_MODEL_735775032dd546e7a58289d6dc1c56c6"
       ],
       "layout": "IPY_MODEL_1cea4096b9b240c781b7c03f4c672732"
      }
     },
     "5aeba96176824ed786a7ac774ef65f43": {
      "model_module": "@jupyter-widgets/controls",
      "model_module_version": "2.0.0",
      "model_name": "ToggleButtonStyleModel",
      "state": {
       "description_width": "",
       "font_family": null,
       "font_size": null,
       "font_style": null,
       "font_variant": null,
       "font_weight": null,
       "text_color": null,
       "text_decoration": null
      }
     },
     "5b10795e9c584f94bbd5605ebaf0fd72": {
      "model_module": "@jupyter-widgets/controls",
      "model_module_version": "2.0.0",
      "model_name": "VBoxModel",
      "state": {
       "children": [
        "IPY_MODEL_f542216a1c594384aba5b8ff1c5e2622"
       ],
       "layout": "IPY_MODEL_1a4612ba7b354f599277bed5937ff698"
      }
     },
     "5b18f7286d80471db596ab60da0cd4aa": {
      "model_module": "jupyter-leaflet",
      "model_module_version": "^0.17",
      "model_name": "LeafletMapModel",
      "state": {
       "_model_module_version": "^0.17",
       "_view_module_version": "^0.17",
       "center": [
        28.904801680303557,
        77.17895507812501
       ],
       "controls": [
        "IPY_MODEL_01f948833a1a44f883b3a52cb603730d",
        "IPY_MODEL_ab6604e65bdf4151939a9c822f2c3871",
        "IPY_MODEL_bd8a875b2b144ed1842d71bc34c1c10f",
        "IPY_MODEL_44c3bd97392e4e62b2b101f69b9fbd2b",
        "IPY_MODEL_fcde865d7c1a4bb0a24521f2a1361e75",
        "IPY_MODEL_7e94595b001244aca21d73c13805eb8a",
        "IPY_MODEL_76baf3607b2440c9a79d40f3107b0aaf",
        "IPY_MODEL_cf692834a37a45098728fb664905ee5a",
        "IPY_MODEL_80ee1aa14b0a4936b39397c3473109b8"
       ],
       "default_style": "IPY_MODEL_d23d8235cc2143aaae35a4d7a39afff8",
       "dragging_style": "IPY_MODEL_5c6009d718354db6b0e2a245888c5e04",
       "east": null,
       "fullscreen": false,
       "interpolation": "bilinear",
       "layers": [
        "IPY_MODEL_51e0e2923cb54e3c8dc2831ae2394147",
        "IPY_MODEL_b5e946dc8b3c4cb98c4b5e331e3042a4",
        "IPY_MODEL_7a7e69b29154410d95fe0fbe7ad0f6e6",
        "IPY_MODEL_7dd8ecce3e05488fa3a3b67cbd829025",
        "IPY_MODEL_82260f253ed44a6a92cf33dafb469ee8"
       ],
       "layout": "IPY_MODEL_c7b19f98bbc14bb9b903b70ffd454ae0",
       "max_zoom": 24,
       "modisdate": "2023-10-03",
       "north": -90,
       "options": [
        "bounce_at_zoom_limits",
        "box_zoom",
        "center",
        "close_popup_on_click",
        "double_click_zoom",
        "dragging",
        "fullscreen",
        "inertia",
        "inertia_deceleration",
        "inertia_max_speed",
        "interpolation",
        "keyboard",
        "keyboard_pan_offset",
        "keyboard_zoom_offset",
        "max_zoom",
        "min_zoom",
        "prefer_canvas",
        "scroll_wheel_zoom",
        "tap",
        "tap_tolerance",
        "touch_zoom",
        "world_copy_jump",
        "zoom",
        "zoom_animation_threshold",
        "zoom_delta",
        "zoom_snap"
       ],
       "prefer_canvas": false,
       "scroll_wheel_zoom": true,
       "south": 90,
       "style": "IPY_MODEL_d23d8235cc2143aaae35a4d7a39afff8",
       "west": null,
       "window_url": "http://localhost:8888/lab/tree/02India_Analysis/2023October_PaperAnalysis.ipynb",
       "zoom": 9
      }
     },
     "5b3038143e964cc7a8fecc5abcbafd62": {
      "model_module": "@jupyter-widgets/controls",
      "model_module_version": "2.0.0",
      "model_name": "DescriptionStyleModel",
      "state": {
       "description_width": ""
      }
     },
     "5b465b8144a542c48487edfa240650a7": {
      "model_module": "jupyter-leaflet",
      "model_module_version": "^0.17",
      "model_name": "LeafletScaleControlModel",
      "state": {
       "_model_module_version": "^0.17",
       "_view_module_version": "^0.17",
       "imperial": true,
       "max_width": 100,
       "metric": true,
       "options": [
        "imperial",
        "max_width",
        "metric",
        "position",
        "update_when_idle"
       ],
       "position": "bottomleft",
       "update_when_idle": false
      }
     },
     "5b52136a6b1d40ff9f001a4a9a3786d2": {
      "model_module": "@jupyter-widgets/controls",
      "model_module_version": "2.0.0",
      "model_name": "DirectionalLinkModel",
      "state": {
       "source": [
        "IPY_MODEL_0deaf64c0d5d43178a2ea42004b17f41",
        "value"
       ],
       "target": [
        "IPY_MODEL_91e0285af09b4e5ab0c129e71cff85c8",
        "opacity"
       ]
      }
     },
     "5b5ef62d2b3a46c2be30f7de01bf6e83": {
      "model_module": "@jupyter-widgets/base",
      "model_module_version": "2.0.0",
      "model_name": "LayoutModel",
      "state": {
       "height": "auto",
       "padding": "0px 0px 0px 4px",
       "width": "auto"
      }
     },
     "5b7c9d94f3de423cb91a1a448a76bd42": {
      "model_module": "@jupyter-widgets/controls",
      "model_module_version": "2.0.0",
      "model_name": "HTMLModel",
      "state": {
       "layout": "IPY_MODEL_b7b1692bced8488eac37ff6071a585ec",
       "style": "IPY_MODEL_d3c3dbe2a683483e8fcb77e7d67f9fa5"
      }
     },
     "5b9f0f3f675444cba504849adf21ba90": {
      "model_module": "@jupyter-widgets/controls",
      "model_module_version": "2.0.0",
      "model_name": "ToggleButtonStyleModel",
      "state": {
       "description_width": "",
       "font_family": null,
       "font_size": null,
       "font_style": null,
       "font_variant": null,
       "font_weight": null,
       "text_color": null,
       "text_decoration": null
      }
     },
     "5c14cf9448e64882b66eb5b6db956001": {
      "model_module": "@jupyter-widgets/base",
      "model_module_version": "2.0.0",
      "model_name": "LayoutModel",
      "state": {
       "height": "auto",
       "padding": "0px 0px 0px 4px",
       "width": "auto"
      }
     },
     "5c2caa5f5a624a8c8962c0612297088d": {
      "model_module": "@jupyter-widgets/controls",
      "model_module_version": "2.0.0",
      "model_name": "ToggleButtonModel",
      "state": {
       "button_style": "primary",
       "icon": "eraser",
       "layout": "IPY_MODEL_b234434fca17465dace385ca2ff9b073",
       "style": "IPY_MODEL_d41c422e08534568bcad2606146bbbde",
       "tooltip": "Remove all drawn features"
      }
     },
     "5c6009d718354db6b0e2a245888c5e04": {
      "model_module": "jupyter-leaflet",
      "model_module_version": "^0.17",
      "model_name": "LeafletMapStyleModel",
      "state": {
       "_model_module_version": "^0.17",
       "cursor": "move"
      }
     },
     "5c6654e530c5462b8cb9ac7053d108ef": {
      "model_module": "@jupyter-widgets/controls",
      "model_module_version": "2.0.0",
      "model_name": "ToggleButtonModel",
      "state": {
       "button_style": "primary",
       "icon": "globe",
       "layout": "IPY_MODEL_8ee7f76980284b92b2ae2da13c4032de",
       "style": "IPY_MODEL_7c1f1d983e064cc2b05018e7b66e3e93",
       "tooltip": "Create timelapse"
      }
     },
     "5c74142d64074128993416096d62f9b4": {
      "model_module": "@jupyter-widgets/controls",
      "model_module_version": "2.0.0",
      "model_name": "HBoxModel",
      "state": {
       "children": [
        "IPY_MODEL_eacfaa3a0fc1412193cc5b4f4255ed39",
        "IPY_MODEL_2dc645d9a8204ee4b8a2114bb49226d4"
       ],
       "layout": "IPY_MODEL_12846089c1e44bdab8dad7da9f9ee38b"
      }
     },
     "5c8abc838c69498fae6a61138aeef784": {
      "model_module": "@jupyter-widgets/base",
      "model_module_version": "2.0.0",
      "model_name": "LayoutModel",
      "state": {
       "display": "none",
       "grid_gap": "0px 0px",
       "grid_template_areas": "\n                    'pathlist filename'\n                    'dircontent dircontent'\n                    ",
       "grid_template_columns": "60% 40%",
       "grid_template_rows": "auto auto",
       "width": "auto"
      }
     },
     "5cbe3c8f1f7f47498bb805794b618091": {
      "model_module": "@jupyter-widgets/base",
      "model_module_version": "2.0.0",
      "model_name": "LayoutModel",
      "state": {
       "height": "auto",
       "padding": "0px 0px 0px 4px",
       "width": "auto"
      }
     },
     "5cfd842e8eb3430290676971e38d494d": {
      "model_module": "@jupyter-widgets/controls",
      "model_module_version": "2.0.0",
      "model_name": "ToggleButtonStyleModel",
      "state": {
       "description_width": "",
       "font_family": null,
       "font_size": null,
       "font_style": null,
       "font_variant": null,
       "font_weight": null,
       "text_color": null,
       "text_decoration": null
      }
     },
     "5d23777a266a4206b5b5dfb9620598ec": {
      "model_module": "@jupyter-widgets/controls",
      "model_module_version": "2.0.0",
      "model_name": "ToggleButtonStyleModel",
      "state": {
       "description_width": "",
       "font_family": null,
       "font_size": null,
       "font_style": null,
       "font_variant": null,
       "font_weight": null,
       "text_color": null,
       "text_decoration": null
      }
     },
     "5d40ad369de043129aeb1e826fa4e8d5": {
      "model_module": "@jupyter-widgets/controls",
      "model_module_version": "2.0.0",
      "model_name": "ToggleButtonStyleModel",
      "state": {
       "description_width": "",
       "font_family": null,
       "font_size": null,
       "font_style": null,
       "font_variant": null,
       "font_weight": null,
       "text_color": null,
       "text_decoration": null
      }
     },
     "5d6893a4e09c4be694c3381f56a3e569": {
      "model_module": "@jupyter-widgets/controls",
      "model_module_version": "2.0.0",
      "model_name": "LinkModel",
      "state": {
       "source": [
        "IPY_MODEL_ceb0a2e21a084caf938b4d25c4a4732d",
        "value"
       ],
       "target": [
        "IPY_MODEL_91e57568e8f7439b907717bc8300e889",
        "visible"
       ]
      }
     },
     "5d711cc3325348139691f12a55718dfa": {
      "model_module": "@jupyter-widgets/base",
      "model_module_version": "2.0.0",
      "model_name": "LayoutModel",
      "state": {}
     },
     "5d7d0d9efea7485491370a80887aad8e": {
      "model_module": "@jupyter-widgets/controls",
      "model_module_version": "2.0.0",
      "model_name": "DropdownModel",
      "state": {
       "index": null,
       "layout": "IPY_MODEL_d9fa9bc8b0c947d6a9e67bc76e3cd738",
       "style": "IPY_MODEL_f888aa7ca269414a92714ba36e75e449"
      }
     },
     "5d82af72f8794cfea2b1890ef47ecc36": {
      "model_module": "@jupyter-widgets/controls",
      "model_module_version": "2.0.0",
      "model_name": "VBoxModel",
      "state": {
       "children": [
        "IPY_MODEL_5c74142d64074128993416096d62f9b4",
        "IPY_MODEL_25dd09c0a6b14515ae85173bd74ecdb4",
        "IPY_MODEL_752b23a805ad4b51b3e6ace894225334",
        "IPY_MODEL_1c03b64b2fb64cc3815d9faf8eadc199",
        "IPY_MODEL_59388721657b4c118a7acb856f2342f1",
        "IPY_MODEL_f1b201cf119f408ea7e059cd09316837",
        "IPY_MODEL_68ce81851bc040fa966f917292bff3ab",
        "IPY_MODEL_8ba42b30b9f34741ae6c36de1f55b9d3"
       ],
       "layout": "IPY_MODEL_8f9bad24347e4c8db154889722e75795"
      }
     },
     "5de1cda0f8c6404e882c953a18910738": {
      "model_module": "@jupyter-widgets/controls",
      "model_module_version": "2.0.0",
      "model_name": "ToggleButtonStyleModel",
      "state": {
       "description_width": "",
       "font_family": null,
       "font_size": null,
       "font_style": null,
       "font_variant": null,
       "font_weight": null,
       "text_color": null,
       "text_decoration": null
      }
     },
     "5deb73ca091340879a7063f29dd9ba78": {
      "model_module": "jupyter-leaflet",
      "model_module_version": "^0.17",
      "model_name": "LeafletWidgetControlModel",
      "state": {
       "_model_module": "jupyter-leaflet",
       "_model_module_version": "^0.17",
       "_view_count": null,
       "_view_module": "jupyter-leaflet",
       "_view_module_version": "^0.17",
       "options": [
        "position",
        "transparent_bg"
       ],
       "position": "bottomright",
       "widget": "IPY_MODEL_8a048780e466441fb2ec82248d49a14a"
      }
     },
     "5def44ea5633438d81a5fd3e443553bd": {
      "model_module": "@jupyter-widgets/controls",
      "model_module_version": "2.0.0",
      "model_name": "ToggleButtonModel",
      "state": {
       "button_style": "primary",
       "icon": "fast-forward",
       "layout": "IPY_MODEL_66b80f025c5944fead5045b150679ca1",
       "style": "IPY_MODEL_1915d00e0bc6488e81c8051e741b2c0d",
       "tooltip": "Activate timeslider"
      }
     },
     "5e1b790d592348e285e94f2374e261d0": {
      "model_module": "jupyter-leaflet",
      "model_module_version": "^0.17",
      "model_name": "LeafletDrawControlModel",
      "state": {
       "_model_module_version": "^0.17",
       "_view_module_version": "^0.17",
       "marker": {
        "shapeOptions": {
         "color": "#3388ff"
        }
       },
       "options": [
        "position"
       ],
       "rectangle": {
        "shapeOptions": {
         "color": "#3388ff"
        }
       }
      }
     },
     "5e3cf3bed40f4b6ea773327d5768cb13": {
      "model_module": "@jupyter-widgets/base",
      "model_module_version": "2.0.0",
      "model_name": "LayoutModel",
      "state": {
       "height": "auto",
       "padding": "0px 0px 0px 4px",
       "width": "auto"
      }
     },
     "5e537989381747179b93b3d68e946067": {
      "model_module": "@jupyter-widgets/controls",
      "model_module_version": "2.0.0",
      "model_name": "HBoxModel",
      "state": {
       "children": [
        "IPY_MODEL_0ff921582e0f4cb0977f105b38c47eb7",
        "IPY_MODEL_d49bce4c538b47e59599554b39c20eee"
       ],
       "layout": "IPY_MODEL_0978d754350f43f99ff2a773d51d180b"
      }
     },
     "5e5f18c4b30141ab94068688c19f5b22": {
      "model_module": "@jupyter-widgets/controls",
      "model_module_version": "2.0.0",
      "model_name": "TextModel",
      "state": {
       "layout": "IPY_MODEL_5f220838e1ad4eb58d21bfffafbdd908",
       "placeholder": "Search by place name or address",
       "style": "IPY_MODEL_b3b76702aa644db48d5048a626f10a58",
       "tooltip": "Search location"
      }
     },
     "5e62ca2ca4964fd9953bba3c15901e69": {
      "model_module": "jupyter-leaflet",
      "model_module_version": "^0.17",
      "model_name": "LeafletAttributionControlModel",
      "state": {
       "_model_module_version": "^0.17",
       "_view_module_version": "^0.17",
       "options": [
        "position",
        "prefix"
       ],
       "position": "bottomright",
       "prefix": "ipyleaflet"
      }
     },
     "5ec40d09a6f4452db0158b0d63807083": {
      "model_module": "@jupyter-widgets/controls",
      "model_module_version": "2.0.0",
      "model_name": "ToggleButtonStyleModel",
      "state": {
       "description_width": "",
       "font_family": null,
       "font_size": null,
       "font_style": null,
       "font_variant": null,
       "font_weight": null,
       "text_color": null,
       "text_decoration": null
      }
     },
     "5ed53371c9b148f98bd119c3373084d2": {
      "model_module": "jupyter-leaflet",
      "model_module_version": "^0.17",
      "model_name": "LeafletZoomControlModel",
      "state": {
       "_model_module_version": "^0.17",
       "_view_module_version": "^0.17",
       "options": [
        "position",
        "zoom_in_text",
        "zoom_in_title",
        "zoom_out_text",
        "zoom_out_title"
       ]
      }
     },
     "5ed53c45d98d4ede878da16b3ba4b850": {
      "model_module": "@jupyter-widgets/base",
      "model_module_version": "2.0.0",
      "model_name": "LayoutModel",
      "state": {
       "height": "auto",
       "padding": "0px 0px 0px 4px",
       "width": "auto"
      }
     },
     "5ef7fcb802cb47a4abac666b4731c130": {
      "model_module": "@jupyter-widgets/controls",
      "model_module_version": "2.0.0",
      "model_name": "DescriptionStyleModel",
      "state": {
       "description_width": ""
      }
     },
     "5f220838e1ad4eb58d21bfffafbdd908": {
      "model_module": "@jupyter-widgets/base",
      "model_module_version": "2.0.0",
      "model_name": "LayoutModel",
      "state": {
       "width": "340px"
      }
     },
     "5f435927318b48ac9c71ec2cd2ff3f75": {
      "model_module": "@jupyter-widgets/controls",
      "model_module_version": "2.0.0",
      "model_name": "ToggleButtonStyleModel",
      "state": {
       "description_width": "",
       "font_family": null,
       "font_size": null,
       "font_style": null,
       "font_variant": null,
       "font_weight": null,
       "text_color": null,
       "text_decoration": null
      }
     },
     "5f5d0678109f4e588fb32839c9ff33a6": {
      "model_module": "@jupyter-widgets/controls",
      "model_module_version": "2.0.0",
      "model_name": "ToggleButtonStyleModel",
      "state": {
       "description_width": "",
       "font_family": null,
       "font_size": null,
       "font_style": null,
       "font_variant": null,
       "font_weight": null,
       "text_color": null,
       "text_decoration": null
      }
     },
     "5f71e9b08428440f85827a8a30878d22": {
      "model_module": "@jupyter-widgets/controls",
      "model_module_version": "2.0.0",
      "model_name": "ToggleButtonsModel",
      "state": {
       "_options_labels": [
        "name/address",
        "lat-lon",
        "data"
       ],
       "button_style": "",
       "icons": [],
       "index": 0,
       "layout": "IPY_MODEL_a0a96365334d48918f6f822d1cda0d90",
       "style": "IPY_MODEL_ca04d91c962748808ea1630088adced5",
       "tooltips": [
        "Search by place name or address",
        "Search by lat-lon coordinates",
        "Search Earth Engine data catalog"
       ]
      }
     },
     "601af83729a94f3893fb2feaa0a765d8": {
      "model_module": "jupyter-leaflet",
      "model_module_version": "^0.17",
      "model_name": "LeafletTileLayerModel",
      "state": {
       "_model_module_version": "^0.17",
       "_view_module_version": "^0.17",
       "attribution": "&copy; <a href=\"https://www.openstreetmap.org/copyright\">OpenStreetMap</a> contributors",
       "base": true,
       "max_zoom": 19,
       "min_zoom": 1,
       "name": "OpenStreetMap.Mapnik",
       "options": [
        "attribution",
        "bounds",
        "detect_retina",
        "max_native_zoom",
        "max_zoom",
        "min_native_zoom",
        "min_zoom",
        "no_wrap",
        "tile_size",
        "tms",
        "zoom_offset"
       ],
       "url": "https://tile.openstreetmap.org/{z}/{x}/{y}.png"
      }
     },
     "604e7f52e9244ff789a619be0c2da743": {
      "model_module": "@jupyter-widgets/controls",
      "model_module_version": "2.0.0",
      "model_name": "ToggleButtonsStyleModel",
      "state": {
       "button_width": "110px",
       "description_width": ""
      }
     },
     "604ef21aa5f24521ba8a6318c54b143e": {
      "model_module": "jupyter-leaflet",
      "model_module_version": "^0.17",
      "model_name": "LeafletTileLayerModel",
      "state": {
       "_model_module_version": "^0.17",
       "_view_module_version": "^0.17",
       "attribution": "Google Earth Engine",
       "max_zoom": 24,
       "name": "New Delhi",
       "options": [
        "attribution",
        "bounds",
        "detect_retina",
        "max_native_zoom",
        "max_zoom",
        "min_native_zoom",
        "min_zoom",
        "no_wrap",
        "tile_size",
        "tms",
        "zoom_offset"
       ],
       "url": "https://earthengine.googleapis.com/v1/projects/earthengine-legacy/maps/00998ae602db08d60e1c5dc4acfc0fdb-cb110374aa4a327f0f94a9f2fe7b924a/tiles/{z}/{x}/{y}"
      }
     },
     "608b121165b4451fab3d2c249ecd7945": {
      "model_module": "@jupyter-widgets/controls",
      "model_module_version": "2.0.0",
      "model_name": "FloatSliderModel",
      "state": {
       "behavior": "drag-tap",
       "layout": "IPY_MODEL_4424540f3c1344f5990f65b180d21e5e",
       "max": 1,
       "readout": false,
       "step": 0.01,
       "style": "IPY_MODEL_60e4aaaba341420aa919ca600b0a689f",
       "value": 1
      }
     },
     "609388096a55441fb0aecf8de12cc342": {
      "model_module": "@jupyter-widgets/controls",
      "model_module_version": "2.0.0",
      "model_name": "ToggleButtonStyleModel",
      "state": {
       "description_width": "",
       "font_family": null,
       "font_size": null,
       "font_style": null,
       "font_variant": null,
       "font_weight": null,
       "text_color": null,
       "text_decoration": null
      }
     },
     "60988fa8854e4f7d98af62a609c50174": {
      "model_module": "@jupyter-widgets/controls",
      "model_module_version": "2.0.0",
      "model_name": "ToggleButtonStyleModel",
      "state": {
       "description_width": "",
       "font_family": null,
       "font_size": null,
       "font_style": null,
       "font_variant": null,
       "font_weight": null,
       "text_color": null,
       "text_decoration": null
      }
     },
     "60acfb9464ff4f10bf671aca3c9d8a12": {
      "model_module": "@jupyter-widgets/controls",
      "model_module_version": "2.0.0",
      "model_name": "RadioButtonsModel",
      "state": {
       "index": null,
       "layout": "IPY_MODEL_cc1f74cf55fb4f1c83a7deb2057632bc",
       "style": "IPY_MODEL_5b3038143e964cc7a8fecc5abcbafd62"
      }
     },
     "60ae8e692fff4990bd963caf7e41615b": {
      "model_module": "jupyter-leaflet",
      "model_module_version": "^0.17",
      "model_name": "LeafletDrawControlModel",
      "state": {
       "_model_module_version": "^0.17",
       "_view_module_version": "^0.17",
       "marker": {
        "shapeOptions": {
         "color": "#3388ff"
        }
       },
       "options": [
        "position"
       ],
       "polygon": {
        "shapeOptions": {
         "clickable": true,
         "color": "#3388ff",
         "fill": true,
         "fillColor": null,
         "fillOpacity": 0.2,
         "opacity": 0.5,
         "stroke": true,
         "weight": 4
        }
       },
       "polyline": {
        "shapeOptions": {
         "clickable": true,
         "color": "#3388ff",
         "fill": false,
         "opacity": 0.5,
         "stroke": true,
         "weight": 4
        }
       },
       "rectangle": {
        "shapeOptions": {
         "clickable": true,
         "color": "#3388ff",
         "fill": true,
         "fillColor": null,
         "fillOpacity": 0.2,
         "opacity": 0.5,
         "stroke": true,
         "weight": 4
        }
       }
      }
     },
     "60b20d2c195a46fabd9b9ad26d47eb3d": {
      "model_module": "@jupyter-widgets/base",
      "model_module_version": "2.0.0",
      "model_name": "LayoutModel",
      "state": {
       "height": "auto",
       "padding": "0px 0px 0px 4px",
       "width": "auto"
      }
     },
     "60d1723a49f047398a42bfa6ba216866": {
      "model_module": "jupyter-leaflet",
      "model_module_version": "^0.17",
      "model_name": "LeafletAttributionControlModel",
      "state": {
       "_model_module_version": "^0.17",
       "_view_module_version": "^0.17",
       "options": [
        "position",
        "prefix"
       ],
       "position": "bottomright",
       "prefix": "ipyleaflet"
      }
     },
     "60e4aaaba341420aa919ca600b0a689f": {
      "model_module": "@jupyter-widgets/controls",
      "model_module_version": "2.0.0",
      "model_name": "SliderStyleModel",
      "state": {
       "description_width": ""
      }
     },
     "60eb7c7ffa95491da9d12710e9d05b02": {
      "model_module": "@jupyter-widgets/controls",
      "model_module_version": "2.0.0",
      "model_name": "ToggleButtonStyleModel",
      "state": {
       "description_width": "",
       "font_family": null,
       "font_size": null,
       "font_style": null,
       "font_variant": null,
       "font_weight": null,
       "text_color": null,
       "text_decoration": null
      }
     },
     "60f7d10d498a4a938d45964e2ded9d25": {
      "model_module": "@jupyter-widgets/controls",
      "model_module_version": "2.0.0",
      "model_name": "SelectModel",
      "state": {
       "_options_labels": [
        "📁 ..",
        "2023October_PaperAnalysis.ipynb"
       ],
       "index": 1,
       "layout": "IPY_MODEL_0029d86b1c044f1c846b07a45e0fba1d",
       "rows": 8,
       "style": "IPY_MODEL_97f71c451c0341cd9807574766badbb1"
      }
     },
     "60fb773ebb5d4bc194338a3351763719": {
      "model_module": "@jupyter-widgets/controls",
      "model_module_version": "2.0.0",
      "model_name": "ToggleButtonModel",
      "state": {
       "button_style": "primary",
       "icon": "hand-o-up",
       "layout": "IPY_MODEL_e7a9e8c0f5dc4160821a0c094a9af0e7",
       "style": "IPY_MODEL_35997f1da6b5444ca0f3233a84c86d8c",
       "tooltip": "Collect training samples"
      }
     },
     "610adee536e846b99d9c25b4e529365b": {
      "model_module": "@jupyter-widgets/controls",
      "model_module_version": "2.0.0",
      "model_name": "ToggleButtonStyleModel",
      "state": {
       "description_width": "",
       "font_family": null,
       "font_size": null,
       "font_style": null,
       "font_variant": null,
       "font_weight": null,
       "text_color": null,
       "text_decoration": null
      }
     },
     "6117d7d045464b7ab9978295e3045483": {
      "model_module": "jupyter-leaflet",
      "model_module_version": "^0.17",
      "model_name": "LeafletScaleControlModel",
      "state": {
       "_model_module_version": "^0.17",
       "_view_module_version": "^0.17",
       "imperial": true,
       "max_width": 100,
       "metric": true,
       "options": [
        "imperial",
        "max_width",
        "metric",
        "position",
        "update_when_idle"
       ],
       "position": "bottomleft",
       "update_when_idle": false
      }
     },
     "61318a3321a64042a12c63fdd693660f": {
      "model_module": "@jupyter-widgets/controls",
      "model_module_version": "2.0.0",
      "model_name": "ToggleButtonModel",
      "state": {
       "button_style": "primary",
       "icon": "hand-o-up",
       "layout": "IPY_MODEL_97a0d0168a694dd686742acb7acfae93",
       "style": "IPY_MODEL_b6943e1e5b6d4a87b9f9bafbdcadaf1e",
       "tooltip": "Collect training samples"
      }
     },
     "61a81e73900b4fef8a2ac2cb8c68b418": {
      "model_module": "@jupyter-widgets/base",
      "model_module_version": "2.0.0",
      "model_name": "LayoutModel",
      "state": {
       "height": "auto",
       "padding": "0px 0px 0px 4px",
       "width": "auto"
      }
     },
     "61a8a5aea17a41488908694d4e56cb96": {
      "model_module": "jupyter-leaflet",
      "model_module_version": "^0.17",
      "model_name": "LeafletZoomControlModel",
      "state": {
       "_model_module_version": "^0.17",
       "_view_module_version": "^0.17",
       "options": [
        "position",
        "zoom_in_text",
        "zoom_in_title",
        "zoom_out_text",
        "zoom_out_title"
       ]
      }
     },
     "61b1780fa718437883e48f1698b0e18c": {
      "model_module": "@jupyter-widgets/base",
      "model_module_version": "2.0.0",
      "model_name": "LayoutModel",
      "state": {
       "height": "auto",
       "padding": "0px 0px 0px 4px",
       "width": "auto"
      }
     },
     "61ec770ad39b4376955e56095809da00": {
      "model_module": "@jupyter-widgets/controls",
      "model_module_version": "2.0.0",
      "model_name": "ToggleButtonStyleModel",
      "state": {
       "description_width": "",
       "font_family": null,
       "font_size": null,
       "font_style": null,
       "font_variant": null,
       "font_weight": null,
       "text_color": null,
       "text_decoration": null
      }
     },
     "61f9e8366b9646958aae53f39976bd7d": {
      "model_module": "@jupyter-widgets/controls",
      "model_module_version": "2.0.0",
      "model_name": "ToggleButtonStyleModel",
      "state": {
       "description_width": "",
       "font_family": null,
       "font_size": null,
       "font_style": null,
       "font_variant": null,
       "font_weight": null,
       "text_color": null,
       "text_decoration": null
      }
     },
     "62060dc07e474f5d832d7594a91857e6": {
      "model_module": "@jupyter-widgets/controls",
      "model_module_version": "2.0.0",
      "model_name": "ToggleButtonStyleModel",
      "state": {
       "description_width": "",
       "font_family": null,
       "font_size": null,
       "font_style": null,
       "font_variant": null,
       "font_weight": null,
       "text_color": null,
       "text_decoration": null
      }
     },
     "620911bb9beb4159b8ed3acc32c4926f": {
      "model_module": "@jupyter-widgets/controls",
      "model_module_version": "2.0.0",
      "model_name": "HTMLStyleModel",
      "state": {
       "description_width": "",
       "font_size": null,
       "text_color": null
      }
     },
     "6212e96937774d8c9200fdfa86b6aec1": {
      "model_module": "@jupyter-widgets/controls",
      "model_module_version": "2.0.0",
      "model_name": "TextModel",
      "state": {
       "layout": "IPY_MODEL_430f5335057d4e14b5e91d0cf98f7afc",
       "placeholder": "Search by place name or address",
       "style": "IPY_MODEL_35a44c1916f441ac953a6b454f15754e",
       "tooltip": "Search location"
      }
     },
     "6216d80183f5454a98ff5efc32e897b2": {
      "model_module": "@jupyter-widgets/controls",
      "model_module_version": "2.0.0",
      "model_name": "HTMLStyleModel",
      "state": {
       "description_width": "",
       "font_size": null,
       "text_color": null
      }
     },
     "622f3b3504c34fec8ca4e9b94a948782": {
      "model_module": "@jupyter-widgets/base",
      "model_module_version": "2.0.0",
      "model_name": "LayoutModel",
      "state": {
       "max_height": "350px",
       "max_width": "340px",
       "overflow": "scroll"
      }
     },
     "624401306b5f40268b2fedb2a0753e1d": {
      "model_module": "jupyter-leaflet",
      "model_module_version": "^0.17",
      "model_name": "LeafletMapStyleModel",
      "state": {
       "_model_module_version": "^0.17"
      }
     },
     "627f85b0c26240eb929dd4d98912a73c": {
      "model_module": "@jupyter-widgets/controls",
      "model_module_version": "2.0.0",
      "model_name": "ToggleButtonModel",
      "state": {
       "button_style": "primary",
       "icon": "info",
       "layout": "IPY_MODEL_963f0eae788b4e29bcc38e81d6260530",
       "style": "IPY_MODEL_bc65d39f038d4e6892e734b099d956b6",
       "tooltip": "Inspector"
      }
     },
     "62c810fc6f2042a1b7fed1c88de8fb5b": {
      "model_module": "jupyter-leaflet",
      "model_module_version": "^0.17",
      "model_name": "LeafletMapStyleModel",
      "state": {
       "_model_module_version": "^0.17"
      }
     },
     "62ebba9dd2684b288cf6a497aa4e1b85": {
      "model_module": "@jupyter-widgets/base",
      "model_module_version": "2.0.0",
      "model_name": "LayoutModel",
      "state": {
       "height": "auto",
       "padding": "0px 0px 0px 4px",
       "width": "auto"
      }
     },
     "62f985ac15c3417093b04fb0e888513e": {
      "model_module": "@jupyter-widgets/controls",
      "model_module_version": "2.0.0",
      "model_name": "ToggleButtonStyleModel",
      "state": {
       "description_width": "",
       "font_family": null,
       "font_size": null,
       "font_style": null,
       "font_variant": null,
       "font_weight": null,
       "text_color": null,
       "text_decoration": null
      }
     },
     "63062c0d468b497797cbaa2d16042931": {
      "model_module": "@jupyter-widgets/base",
      "model_module_version": "2.0.0",
      "model_name": "LayoutModel",
      "state": {}
     },
     "631b51c2f3f747b190c90d28a7e23f9a": {
      "model_module": "@jupyter-widgets/base",
      "model_module_version": "2.0.0",
      "model_name": "LayoutModel",
      "state": {
       "width": "340px"
      }
     },
     "631d516dc5e742b5b6672d11b45c443d": {
      "model_module": "@jupyter-widgets/controls",
      "model_module_version": "2.0.0",
      "model_name": "ToggleButtonStyleModel",
      "state": {
       "description_width": "",
       "font_family": null,
       "font_size": null,
       "font_style": null,
       "font_variant": null,
       "font_weight": null,
       "text_color": null,
       "text_decoration": null
      }
     },
     "633cfd5514c54b9b981c84c73b260e42": {
      "model_module": "@jupyter-widgets/base",
      "model_module_version": "2.0.0",
      "model_name": "LayoutModel",
      "state": {
       "height": "auto",
       "padding": "0px 0px 0px 4px",
       "width": "auto"
      }
     },
     "635bce3119ea4f4fa1d42537386ba301": {
      "model_module": "@jupyter-widgets/controls",
      "model_module_version": "2.0.0",
      "model_name": "ToggleButtonModel",
      "state": {
       "button_style": "primary",
       "icon": "gears",
       "layout": "IPY_MODEL_6f89f1d268114ab692d8d1a0c93ba5cb",
       "style": "IPY_MODEL_50bfb8c3b7f14230adfe940d93a8c7eb",
       "tooltip": "WhiteboxTools for local geoprocessing"
      }
     },
     "636d95d56fcd49b292d9af6abde5e97c": {
      "model_module": "@jupyter-widgets/controls",
      "model_module_version": "2.0.0",
      "model_name": "ToggleButtonModel",
      "state": {
       "button_style": "primary",
       "icon": "bar-chart",
       "layout": "IPY_MODEL_36a8f0ecb7b24995b16133e28f3bfaed",
       "style": "IPY_MODEL_ae1108d586f04f6ea58305208f1d13b7",
       "tooltip": "Plotting"
      }
     },
     "637edf5cc22e4f48bfb1060cbca10041": {
      "model_module": "@jupyter-widgets/base",
      "model_module_version": "2.0.0",
      "model_name": "LayoutModel",
      "state": {
       "height": "auto",
       "padding": "0px 0px 0px 4px",
       "width": "auto"
      }
     },
     "638322fb3da3487ab731c1ead8067342": {
      "model_module": "@jupyter-widgets/controls",
      "model_module_version": "2.0.0",
      "model_name": "HBoxModel",
      "state": {
       "children": [
        "IPY_MODEL_ff88636229054f4e98ea1f2f6d8cf663",
        "IPY_MODEL_7d99509a6de9444081d93d76a355e4bc"
       ],
       "layout": "IPY_MODEL_f312a1e9869f4072b2b90b91baaf420f"
      }
     },
     "63a9663272f24fc28fbccd7f75170f84": {
      "model_module": "jupyter-leaflet",
      "model_module_version": "^0.17",
      "model_name": "LeafletWidgetControlModel",
      "state": {
       "_model_module": "jupyter-leaflet",
       "_model_module_version": "^0.17",
       "_view_count": null,
       "_view_module": "jupyter-leaflet",
       "_view_module_version": "^0.17",
       "options": [
        "position",
        "transparent_bg"
       ],
       "position": "topleft",
       "widget": "IPY_MODEL_ed5b359224aa49acb4e9fa9f3d89e095"
      }
     },
     "63b290ef49324c0ea6623350449444f8": {
      "model_module": "@jupyter-widgets/base",
      "model_module_version": "2.0.0",
      "model_name": "LayoutModel",
      "state": {
       "grid_area": "pathlist",
       "width": "auto"
      }
     },
     "63b96ee5aa6743c99c414d1b6eec1825": {
      "model_module": "@jupyter-widgets/controls",
      "model_module_version": "2.0.0",
      "model_name": "ToggleButtonStyleModel",
      "state": {
       "description_width": "",
       "font_family": null,
       "font_size": null,
       "font_style": null,
       "font_variant": null,
       "font_weight": null,
       "text_color": null,
       "text_decoration": null
      }
     },
     "63ef39cda8e7412291cb6c5868e90ce5": {
      "model_module": "@jupyter-widgets/controls",
      "model_module_version": "2.0.0",
      "model_name": "GridBoxModel",
      "state": {
       "children": [
        "IPY_MODEL_11e029d074244b828569b140ea5256cb",
        "IPY_MODEL_d156405c0a1b463fb830906d1050c105",
        "IPY_MODEL_8ad4cd06df4e4e02991bd4f9a4ad366c",
        "IPY_MODEL_682f123562f64f5a8b37aa8bf9aa4c84",
        "IPY_MODEL_478b4c35309b49a794649d56c8b44a57",
        "IPY_MODEL_2caee604babd47dfbe0ba8b653b7accf",
        "IPY_MODEL_7b494509bad74b66bacca7d87c18b424",
        "IPY_MODEL_30bd05418b804064963e62147b81c7d8",
        "IPY_MODEL_76645ad8c785480eac9ed076ab201731",
        "IPY_MODEL_038113f9faba464cb5ed9d2b39524e36",
        "IPY_MODEL_88fc45b68b3d4d4ea126bc3033b02329",
        "IPY_MODEL_534a94fd03b24b01ad8a55973b612e0f",
        "IPY_MODEL_7d2b8c7d26da49db8856571656a48a25",
        "IPY_MODEL_9267ae954fac4dceadc079931da022dc",
        "IPY_MODEL_be4a88bfbb474addbd51ccd7e1aa116b"
       ],
       "layout": "IPY_MODEL_aa4cd1c94d1d4ba68926c473b147ae33"
      }
     },
     "6414d9d720274e0688d1373cbad8aa46": {
      "model_module": "@jupyter-widgets/controls",
      "model_module_version": "2.0.0",
      "model_name": "ToggleButtonStyleModel",
      "state": {
       "description_width": "",
       "font_family": null,
       "font_size": null,
       "font_style": null,
       "font_variant": null,
       "font_weight": null,
       "text_color": null,
       "text_decoration": null
      }
     },
     "643c44db9f42406685e734fd283505ae": {
      "model_module": "@jupyter-widgets/base",
      "model_module_version": "2.0.0",
      "model_name": "LayoutModel",
      "state": {
       "height": "auto",
       "padding": "0px 0px 0px 4px",
       "width": "auto"
      }
     },
     "645a759d690345ccbc33d26a6f9e771a": {
      "model_module": "@jupyter-widgets/base",
      "model_module_version": "2.0.0",
      "model_name": "LayoutModel",
      "state": {
       "height": "auto",
       "padding": "0px 0px 0px 4px",
       "width": "auto"
      }
     },
     "64647dbfdc8f4874a8728bee658f7768": {
      "model_module": "@jupyter-widgets/controls",
      "model_module_version": "2.0.0",
      "model_name": "DescriptionStyleModel",
      "state": {
       "description_width": ""
      }
     },
     "647f65f7428a435880a8daa48bcdd954": {
      "model_module": "@jupyter-widgets/controls",
      "model_module_version": "2.0.0",
      "model_name": "ToggleButtonStyleModel",
      "state": {
       "description_width": "",
       "font_family": null,
       "font_size": null,
       "font_style": null,
       "font_variant": null,
       "font_weight": null,
       "text_color": null,
       "text_decoration": null
      }
     },
     "64895aab17744a718779ef29c8ea4ccd": {
      "model_module": "@jupyter-widgets/base",
      "model_module_version": "2.0.0",
      "model_name": "LayoutModel",
      "state": {
       "height": "auto",
       "padding": "0px 0px 0px 4px",
       "width": "auto"
      }
     },
     "64b6ad8264b443aaaca1503a835885c0": {
      "model_module": "@jupyter-widgets/controls",
      "model_module_version": "2.0.0",
      "model_name": "ToggleButtonModel",
      "state": {
       "button_style": "primary",
       "icon": "gears",
       "layout": "IPY_MODEL_f9a8056860c94969bcbd9e5fb555cfd3",
       "style": "IPY_MODEL_efe2210966db4483ad594c4a26c5b7ea",
       "tooltip": "WhiteboxTools for local geoprocessing"
      }
     },
     "64c4041d4a5e491d9baf85624b558f2e": {
      "model_module": "@jupyter-widgets/base",
      "model_module_version": "2.0.0",
      "model_name": "LayoutModel",
      "state": {
       "max_height": "350px",
       "max_width": "340px",
       "overflow": "scroll"
      }
     },
     "64dfdef56046480aa6570876860d6011": {
      "model_module": "@jupyter-widgets/base",
      "model_module_version": "2.0.0",
      "model_name": "LayoutModel",
      "state": {}
     },
     "65007413030440b4bbfe2e096f271a18": {
      "model_module": "jupyter-leaflet",
      "model_module_version": "^0.17",
      "model_name": "LeafletDrawControlModel",
      "state": {
       "_model_module_version": "^0.17",
       "_view_module_version": "^0.17",
       "marker": {
        "shapeOptions": {
         "color": "#3388ff"
        }
       },
       "options": [
        "position"
       ],
       "polygon": {
        "shapeOptions": {
         "clickable": true,
         "color": "#3388ff",
         "fill": true,
         "fillColor": null,
         "fillOpacity": 0.2,
         "opacity": 0.5,
         "stroke": true,
         "weight": 4
        }
       },
       "polyline": {
        "shapeOptions": {
         "clickable": true,
         "color": "#3388ff",
         "fill": false,
         "opacity": 0.5,
         "stroke": true,
         "weight": 4
        }
       },
       "rectangle": {
        "shapeOptions": {
         "clickable": true,
         "color": "#3388ff",
         "fill": true,
         "fillColor": null,
         "fillOpacity": 0.2,
         "opacity": 0.5,
         "stroke": true,
         "weight": 4
        }
       }
      }
     },
     "651ce017ccc3488abdda32a5f546381d": {
      "model_module": "@jupyter-widgets/controls",
      "model_module_version": "2.0.0",
      "model_name": "ToggleButtonModel",
      "state": {
       "button_style": "primary",
       "icon": "random",
       "layout": "IPY_MODEL_23d20e91cf8b4221a053ad43cb3487c8",
       "style": "IPY_MODEL_56b1ceceb910484884b4e664db87bd0c",
       "tooltip": "Sankey plots"
      }
     },
     "651ee5198b8949059225f2c68b65b428": {
      "model_module": "@jupyter-widgets/base",
      "model_module_version": "2.0.0",
      "model_name": "LayoutModel",
      "state": {}
     },
     "652c5937e9e04f82b0acc02790501615": {
      "model_module": "jupyter-leaflet",
      "model_module_version": "^0.17",
      "model_name": "LeafletWidgetControlModel",
      "state": {
       "_model_module": "jupyter-leaflet",
       "_model_module_version": "^0.17",
       "_view_count": null,
       "_view_module": "jupyter-leaflet",
       "_view_module_version": "^0.17",
       "options": [
        "position",
        "transparent_bg"
       ],
       "position": "topright",
       "widget": "IPY_MODEL_80eee2beea774190b5b75c2d2b7eb498"
      }
     },
     "6531b83510664a4c8d3f623b1f550a00": {
      "model_module": "@jupyter-widgets/controls",
      "model_module_version": "2.0.0",
      "model_name": "ToggleButtonModel",
      "state": {
       "button_style": "primary",
       "icon": "line-chart",
       "layout": "IPY_MODEL_27b4d617cb0341609fc3915c79d40aaf",
       "style": "IPY_MODEL_a6abfb630b3f4001a9ab3ad5774f9705",
       "tooltip": "Creating and plotting transects"
      }
     },
     "65610265d335400ca6fb623bd383e141": {
      "model_module": "@jupyter-widgets/controls",
      "model_module_version": "2.0.0",
      "model_name": "VBoxModel",
      "state": {
       "children": [
        "IPY_MODEL_056cdc3fe99941f498d12b2c1d2ff7e3",
        "IPY_MODEL_b20d01aef0be44899153112e1085c9c9"
       ],
       "layout": "IPY_MODEL_8e74c66a5857413687aebdb7d108c33c"
      }
     },
     "65aecbc63dff4f8fa34054a5881a027f": {
      "model_module": "jupyter-leaflet",
      "model_module_version": "^0.17",
      "model_name": "LeafletMapStyleModel",
      "state": {
       "_model_module_version": "^0.17",
       "cursor": "move"
      }
     },
     "66258d5da6d64ac998ae084c088858f0": {
      "model_module": "jupyter-leaflet",
      "model_module_version": "^0.17",
      "model_name": "LeafletMeasureControlModel",
      "state": {
       "_model_module_version": "^0.17",
       "_view_module_version": "^0.17",
       "active_color": "orange",
       "options": [
        "active_color",
        "capture_z_index",
        "completed_color",
        "popup_options",
        "position",
        "primary_area_unit",
        "primary_length_unit",
        "secondary_area_unit",
        "secondary_length_unit"
       ],
       "position": "bottomleft",
       "primary_length_unit": "kilometers",
       "secondary_area_unit": null,
       "secondary_length_unit": null
      }
     },
     "6627846b2c2d4eaaa64b804803ca850c": {
      "model_module": "@jupyter-widgets/controls",
      "model_module_version": "2.0.0",
      "model_name": "ToggleButtonModel",
      "state": {
       "button_style": "primary",
       "icon": "gears",
       "layout": "IPY_MODEL_dc37eb4f56b04bce871fb57f4fd4b78e",
       "style": "IPY_MODEL_7090e223ac51482d9f6353c0e8fb6617",
       "tooltip": "WhiteboxTools for local geoprocessing"
      }
     },
     "6634635d1e0047f888be10cd8f14b8f5": {
      "model_module": "@jupyter-widgets/controls",
      "model_module_version": "2.0.0",
      "model_name": "ToggleButtonModel",
      "state": {
       "button_style": "primary",
       "icon": "bar-chart",
       "layout": "IPY_MODEL_e04b7d114c5e43f98d112486cff5ea21",
       "style": "IPY_MODEL_7d84b986d5244119874619a5d584f445",
       "tooltip": "Plotting"
      }
     },
     "66404bda7a1346b59f3d16e98483ee12": {
      "model_module": "@jupyter-widgets/controls",
      "model_module_version": "2.0.0",
      "model_name": "ToggleButtonModel",
      "state": {
       "button_style": "primary",
       "icon": "globe",
       "layout": "IPY_MODEL_23623674effd402bba20237c56ee8e0e",
       "style": "IPY_MODEL_90b6ae7f41d2461295c7f1591a2f8163",
       "tooltip": "Create timelapse"
      }
     },
     "66456530689a432d98136529a9048abc": {
      "model_module": "jupyter-leaflet",
      "model_module_version": "^0.17",
      "model_name": "LeafletWidgetControlModel",
      "state": {
       "_model_module": "jupyter-leaflet",
       "_model_module_version": "^0.17",
       "_view_count": null,
       "_view_module": "jupyter-leaflet",
       "_view_module_version": "^0.17",
       "options": [
        "position",
        "transparent_bg"
       ],
       "position": "topright",
       "widget": "IPY_MODEL_31a15dada2404c949f4f4ada069216ec"
      }
     },
     "66947a6a90814d11ae41e3ed70be947a": {
      "model_module": "jupyter-leaflet",
      "model_module_version": "^0.17",
      "model_name": "LeafletTileLayerModel",
      "state": {
       "_model_module_version": "^0.17",
       "_view_module_version": "^0.17",
       "attribution": "&copy; <a href=\"https://www.openstreetmap.org/copyright\">OpenStreetMap</a> contributors",
       "base": true,
       "max_zoom": 19,
       "min_zoom": 1,
       "name": "OpenStreetMap.Mapnik",
       "options": [
        "attribution",
        "bounds",
        "detect_retina",
        "max_native_zoom",
        "max_zoom",
        "min_native_zoom",
        "min_zoom",
        "no_wrap",
        "tile_size",
        "tms",
        "zoom_offset"
       ],
       "url": "https://tile.openstreetmap.org/{z}/{x}/{y}.png"
      }
     },
     "66aed28654be4c7f8341cb18374ef7b9": {
      "model_module": "jupyter-leaflet",
      "model_module_version": "^0.17",
      "model_name": "LeafletTileLayerModel",
      "state": {
       "_model_module_version": "^0.17",
       "_view_module_version": "^0.17",
       "attribution": "Google Earth Engine",
       "max_zoom": 24,
       "name": "Second Level Administrative Units",
       "options": [
        "attribution",
        "bounds",
        "detect_retina",
        "max_native_zoom",
        "max_zoom",
        "min_native_zoom",
        "min_zoom",
        "no_wrap",
        "tile_size",
        "tms",
        "zoom_offset"
       ],
       "url": "https://earthengine.googleapis.com/v1/projects/earthengine-legacy/maps/b6c709d492e1674d293a033202b58450-30130aecab7fbf6dfc31c40a82d6e383/tiles/{z}/{x}/{y}"
      }
     },
     "66b80f025c5944fead5045b150679ca1": {
      "model_module": "@jupyter-widgets/base",
      "model_module_version": "2.0.0",
      "model_name": "LayoutModel",
      "state": {
       "height": "auto",
       "padding": "0px 0px 0px 4px",
       "width": "auto"
      }
     },
     "66cbe565ebe9473d874f58143bec253d": {
      "model_module": "jupyter-leaflet",
      "model_module_version": "^0.17",
      "model_name": "LeafletMapStyleModel",
      "state": {
       "_model_module_version": "^0.17"
      }
     },
     "66d0902b02634e34ba891ca89c62d6ca": {
      "model_module": "@jupyter-widgets/controls",
      "model_module_version": "2.0.0",
      "model_name": "ToggleButtonModel",
      "state": {
       "icon": "globe",
       "layout": "IPY_MODEL_7ec55f9ae4f943d09f7fcda3d2c4cf78",
       "style": "IPY_MODEL_63b96ee5aa6743c99c414d1b6eec1825",
       "tooltip": "Search location/data"
      }
     },
     "66e3cbfcd80648879df62b6491cafaf9": {
      "model_module": "@jupyter-widgets/controls",
      "model_module_version": "2.0.0",
      "model_name": "ToggleButtonModel",
      "state": {
       "button_style": "primary",
       "icon": "plus",
       "layout": "IPY_MODEL_4d592a6ebaab4ccba1789ec536d689c8",
       "style": "IPY_MODEL_b2bdcc3b6604434fb8d52b5606008b52",
       "tooltip": "Expand toolbar"
      }
     },
     "66fe7dcc068f43d18b978c9f0dea3c43": {
      "model_module": "@jupyter-widgets/controls",
      "model_module_version": "2.0.0",
      "model_name": "ToggleButtonStyleModel",
      "state": {
       "description_width": "",
       "font_family": null,
       "font_size": null,
       "font_style": null,
       "font_variant": null,
       "font_weight": null,
       "text_color": null,
       "text_decoration": null
      }
     },
     "671726fed1b14f7384e49b637dc7ac2e": {
      "model_module": "@jupyter-widgets/controls",
      "model_module_version": "2.0.0",
      "model_name": "ToggleButtonStyleModel",
      "state": {
       "description_width": "",
       "font_family": null,
       "font_size": null,
       "font_style": null,
       "font_variant": null,
       "font_weight": null,
       "text_color": null,
       "text_decoration": null
      }
     },
     "671ed605b33c424a80cce02e3f400d6d": {
      "model_module": "@jupyter-widgets/controls",
      "model_module_version": "2.0.0",
      "model_name": "HBoxModel",
      "state": {
       "children": [
        "IPY_MODEL_b1c6a20388c74f53887f3ad480f33196",
        "IPY_MODEL_03d8a29ff7e94deb90acd64daf3021cd"
       ],
       "layout": "IPY_MODEL_4ef736f32e4f438487aa97fbf7a1176e"
      }
     },
     "6732a35879de4c23b2f759f6ad85b715": {
      "model_module": "@jupyter-widgets/base",
      "model_module_version": "2.0.0",
      "model_name": "LayoutModel",
      "state": {}
     },
     "674ac190cc8347cba6ac00fd3940945c": {
      "model_module": "@jupyter-widgets/controls",
      "model_module_version": "2.0.0",
      "model_name": "ToggleButtonStyleModel",
      "state": {
       "description_width": "",
       "font_family": null,
       "font_size": null,
       "font_style": null,
       "font_variant": null,
       "font_weight": null,
       "text_color": null,
       "text_decoration": null
      }
     },
     "67b8ef154e104f5ca8a18aee087a9102": {
      "model_module": "jupyter-leaflet",
      "model_module_version": "^0.17",
      "model_name": "LeafletAttributionControlModel",
      "state": {
       "_model_module_version": "^0.17",
       "_view_module_version": "^0.17",
       "options": [
        "position",
        "prefix"
       ],
       "position": "bottomright",
       "prefix": "ipyleaflet"
      }
     },
     "6809023ad3344b9785606cce199bf520": {
      "model_module": "@jupyter-widgets/controls",
      "model_module_version": "2.0.0",
      "model_name": "ToggleButtonModel",
      "state": {
       "button_style": "primary",
       "icon": "map",
       "layout": "IPY_MODEL_d442f70cb1584c7e80e3cd107204cfd6",
       "style": "IPY_MODEL_9f05c5aa927140ee93c0f281c6399d96",
       "tooltip": "Change basemap"
      }
     },
     "682ea535448745839727fa4466c7f51c": {
      "model_module": "jupyter-leaflet",
      "model_module_version": "^0.17",
      "model_name": "LeafletMapStyleModel",
      "state": {
       "_model_module_version": "^0.17"
      }
     },
     "682f123562f64f5a8b37aa8bf9aa4c84": {
      "model_module": "@jupyter-widgets/controls",
      "model_module_version": "2.0.0",
      "model_name": "ToggleButtonModel",
      "state": {
       "button_style": "primary",
       "icon": "map",
       "layout": "IPY_MODEL_88efd20fb6884d0696a201b86d2220e0",
       "style": "IPY_MODEL_325231d24dd54dc191ed38832da713bd",
       "tooltip": "Change basemap"
      }
     },
     "68333362de7e4e109955fc01f54f1f2b": {
      "model_module": "@jupyter-widgets/controls",
      "model_module_version": "2.0.0",
      "model_name": "ToggleButtonModel",
      "state": {
       "button_style": "primary",
       "icon": "plus",
       "layout": "IPY_MODEL_745f95a827a14847ab94cd974739d35a",
       "style": "IPY_MODEL_f7785f76b09146e3a40ebed173668458",
       "tooltip": "Expand toolbar"
      }
     },
     "685aa30074b84162a31613d38f53105d": {
      "model_module": "@jupyter-widgets/controls",
      "model_module_version": "2.0.0",
      "model_name": "ToggleButtonModel",
      "state": {
       "button_style": "primary",
       "icon": "bar-chart",
       "layout": "IPY_MODEL_9d01ab711ec0493c8505d6df1fb634d2",
       "style": "IPY_MODEL_cd9136cf681d450c87371a6a7b1f54dc",
       "tooltip": "Plotting"
      }
     },
     "687591d5f8af4d6f9367a5832a5984f4": {
      "model_module": "@jupyter-widgets/base",
      "model_module_version": "2.0.0",
      "model_name": "LayoutModel",
      "state": {}
     },
     "6876094cc1da44b090f133d6f4949b99": {
      "model_module": "@jupyter-widgets/controls",
      "model_module_version": "2.0.0",
      "model_name": "ToggleButtonModel",
      "state": {
       "button_style": "primary",
       "icon": "info",
       "layout": "IPY_MODEL_7b69b5134b3c441c9b9de13db50e04ec",
       "style": "IPY_MODEL_2a871833bd3249c785efa57b923df187",
       "tooltip": "Inspector"
      }
     },
     "687c270eb61442c5b4a7572172574ded": {
      "model_module": "@jupyter-widgets/controls",
      "model_module_version": "2.0.0",
      "model_name": "HBoxModel",
      "state": {
       "children": [
        "IPY_MODEL_b931f9a33aeb49819ddbd6b3168abf17",
        "IPY_MODEL_90e7731d6c0e4240ad5a0aabc01d042d"
       ],
       "layout": "IPY_MODEL_7b91ce3b4d094f5eb50624b62b89a4a5"
      }
     },
     "6891cc6b7b2c4227bc62188bab9b9604": {
      "model_module": "@jupyter-widgets/base",
      "model_module_version": "2.0.0",
      "model_name": "LayoutModel",
      "state": {
       "max_width": "410px",
       "width": "410px"
      }
     },
     "68ce81851bc040fa966f917292bff3ab": {
      "model_module": "@jupyter-widgets/controls",
      "model_module_version": "2.0.0",
      "model_name": "HBoxModel",
      "state": {
       "children": [
        "IPY_MODEL_413800b43cc040d1b09db56ac2e408ee",
        "IPY_MODEL_b237eb98707a42d1a88f44622329c647",
        "IPY_MODEL_d3b800a177794526a1d7d972e7be342c",
        "IPY_MODEL_7417a411db174ccda9fea1cbff733a6b"
       ],
       "layout": "IPY_MODEL_30c5d08dfefe409280cfa1c4fec11127"
      }
     },
     "68ec0a52a8414c8eb26b90d88e9240c7": {
      "model_module": "jupyter-leaflet",
      "model_module_version": "^0.17",
      "model_name": "LeafletTileLayerModel",
      "state": {
       "_model_module_version": "^0.17",
       "_view_module_version": "^0.17",
       "attribution": "&copy; <a href=\"https://www.openstreetmap.org/copyright\">OpenStreetMap</a> contributors",
       "base": true,
       "max_zoom": 19,
       "min_zoom": 1,
       "name": "OpenStreetMap.Mapnik",
       "options": [
        "attribution",
        "bounds",
        "detect_retina",
        "max_native_zoom",
        "max_zoom",
        "min_native_zoom",
        "min_zoom",
        "no_wrap",
        "tile_size",
        "tms",
        "zoom_offset"
       ],
       "url": "https://tile.openstreetmap.org/{z}/{x}/{y}.png"
      }
     },
     "693aa45b8fba488c8cd0dc3c71ee0fb4": {
      "model_module": "@jupyter-widgets/base",
      "model_module_version": "2.0.0",
      "model_name": "LayoutModel",
      "state": {
       "height": "auto",
       "padding": "0px 0px 0px 4px",
       "width": "auto"
      }
     },
     "6967c4b1bf7a48dcbb829dce14724331": {
      "model_module": "@jupyter-widgets/controls",
      "model_module_version": "2.0.0",
      "model_name": "ButtonModel",
      "state": {
       "button_style": "primary",
       "description": "import",
       "layout": "IPY_MODEL_2c63fe713b3c4d239dfaa391e4c9e8a3",
       "style": "IPY_MODEL_ccec2ed04bbf44ad8882bf9b88d9f640",
       "tooltip": "Click to import the selected asset"
      }
     },
     "6967ce42e1c94cff942f58ff725f5bff": {
      "model_module": "@jupyter-widgets/controls",
      "model_module_version": "2.0.0",
      "model_name": "CheckboxStyleModel",
      "state": {
       "description_width": ""
      }
     },
     "698599e581074faa958503bf1b737825": {
      "model_module": "@jupyter-widgets/controls",
      "model_module_version": "2.0.0",
      "model_name": "ToggleButtonsModel",
      "state": {
       "_options_labels": [
        "name/address",
        "lat-lon",
        "data"
       ],
       "button_style": "",
       "icons": [],
       "index": 0,
       "layout": "IPY_MODEL_8b3f39bbd74f47f2854db07221f0e828",
       "style": "IPY_MODEL_c6aa81ca02314d318511f5aec6660ac9",
       "tooltips": [
        "Search by place name or address",
        "Search by lat-lon coordinates",
        "Search Earth Engine data catalog"
       ]
      }
     },
     "698960a0acc94f488cc72b48ec9aa45b": {
      "model_module": "@jupyter-widgets/controls",
      "model_module_version": "2.0.0",
      "model_name": "ToggleButtonModel",
      "state": {
       "button_style": "primary",
       "icon": "line-chart",
       "layout": "IPY_MODEL_26556563380746ff84d77bdd76614f54",
       "style": "IPY_MODEL_c8f40fd3d4954c64a0c44d2ced10a540",
       "tooltip": "Creating and plotting transects"
      }
     },
     "69dafc6226fd4b8097079c13e480cef1": {
      "model_module": "jupyter-leaflet",
      "model_module_version": "^0.17",
      "model_name": "LeafletAttributionControlModel",
      "state": {
       "_model_module_version": "^0.17",
       "_view_module_version": "^0.17",
       "options": [
        "position",
        "prefix"
       ],
       "position": "bottomright",
       "prefix": "ipyleaflet"
      }
     },
     "69dc0574f5754a4594d9921c82c52c36": {
      "model_module": "@jupyter-widgets/base",
      "model_module_version": "2.0.0",
      "model_name": "LayoutModel",
      "state": {
       "width": "100px"
      }
     },
     "69ff3f3cab194cbea8700d18ba24e600": {
      "model_module": "@jupyter-widgets/base",
      "model_module_version": "2.0.0",
      "model_name": "LayoutModel",
      "state": {
       "width": "100px"
      }
     },
     "6a30f13db25048609eb48debd9772566": {
      "model_module": "@jupyter-widgets/controls",
      "model_module_version": "2.0.0",
      "model_name": "ToggleButtonStyleModel",
      "state": {
       "description_width": "",
       "font_family": null,
       "font_size": null,
       "font_style": null,
       "font_variant": null,
       "font_weight": null,
       "text_color": null,
       "text_decoration": null
      }
     },
     "6a456020171848a69177d2a5cdd2b9c2": {
      "model_module": "@jupyter-widgets/base",
      "model_module_version": "2.0.0",
      "model_name": "LayoutModel",
      "state": {}
     },
     "6a6d18959ac241079f6b5b8ca1db18d5": {
      "model_module": "jupyter-leaflet",
      "model_module_version": "^0.17",
      "model_name": "LeafletMapStyleModel",
      "state": {
       "_model_module_version": "^0.17"
      }
     },
     "6a831344e57246ecb8a377a25749f4cd": {
      "model_module": "@jupyter-widgets/controls",
      "model_module_version": "2.0.0",
      "model_name": "ToggleButtonModel",
      "state": {
       "button_style": "primary",
       "icon": "globe",
       "layout": "IPY_MODEL_4672b31fc25d43288662ebd621681081",
       "style": "IPY_MODEL_301003b9bd0c4e22a354ed846658ce27",
       "tooltip": "Create timelapse"
      }
     },
     "6af9959d78b84124b6cb02aaf0f9bee8": {
      "model_module": "@jupyter-widgets/controls",
      "model_module_version": "2.0.0",
      "model_name": "ToggleButtonModel",
      "state": {
       "button_style": "primary",
       "icon": "eraser",
       "layout": "IPY_MODEL_9df3dc0153634f50b93f198c07ce7c0a",
       "style": "IPY_MODEL_dabc6643e22d42049b4700161bfc8129",
       "tooltip": "Remove all drawn features"
      }
     },
     "6b2b4f8c484e4640b3438b9b9a415ddf": {
      "model_module": "@jupyter-widgets/base",
      "model_module_version": "2.0.0",
      "model_name": "LayoutModel",
      "state": {
       "height": "28px",
       "padding": "0px 0px 0px 4px",
       "width": "28px"
      }
     },
     "6b3ea50a347b42ad98b78594c62605b1": {
      "model_module": "@jupyter-widgets/controls",
      "model_module_version": "2.0.0",
      "model_name": "ToggleButtonModel",
      "state": {
       "button_style": "primary",
       "icon": "line-chart",
       "layout": "IPY_MODEL_28dca3dd68f341d5aacd760fc66d77c1",
       "style": "IPY_MODEL_f71fc0e3d1044722945026f41bad00fb",
       "tooltip": "Creating and plotting transects"
      }
     },
     "6b6829c4952244d58d97e8b67f96912b": {
      "model_module": "@jupyter-widgets/controls",
      "model_module_version": "2.0.0",
      "model_name": "ToggleButtonStyleModel",
      "state": {
       "description_width": "",
       "font_family": null,
       "font_size": null,
       "font_style": null,
       "font_variant": null,
       "font_weight": null,
       "text_color": null,
       "text_decoration": null
      }
     },
     "6b7d2ac7fbb74392b1e75432597727e3": {
      "model_module": "@jupyter-widgets/base",
      "model_module_version": "2.0.0",
      "model_name": "LayoutModel",
      "state": {
       "height": "auto",
       "padding": "0px 0px 0px 4px",
       "width": "auto"
      }
     },
     "6b9181932ed241e2ba82926bd471555a": {
      "model_module": "@jupyter-widgets/controls",
      "model_module_version": "2.0.0",
      "model_name": "ToggleButtonModel",
      "state": {
       "button_style": "primary",
       "icon": "info-circle",
       "layout": "IPY_MODEL_ecb249fb967e4e7b9a862a113198cd50",
       "style": "IPY_MODEL_ed8dfbb9ad02495f8b90731810dee8a2",
       "tooltip": "Get COG/STAC pixel value"
      }
     },
     "6bb74932e7934bf1a8405a412f80f65e": {
      "model_module": "@jupyter-widgets/controls",
      "model_module_version": "2.0.0",
      "model_name": "TextModel",
      "state": {
       "layout": "IPY_MODEL_e6e9c44e3ba44612a1f79c818e539c67",
       "placeholder": "Search by place name or address",
       "style": "IPY_MODEL_b8e503c3088c46ad80afdd3079479d04",
       "tooltip": "Search location"
      }
     },
     "6bc8dbdebd994daabd33468213121723": {
      "model_module": "@jupyter-widgets/controls",
      "model_module_version": "2.0.0",
      "model_name": "ToggleButtonModel",
      "state": {
       "icon": "wrench",
       "layout": "IPY_MODEL_6d017e28fda84fa9ab62471c09789524",
       "style": "IPY_MODEL_6b6829c4952244d58d97e8b67f96912b",
       "tooltip": "Toolbar"
      }
     },
     "6bcd23c301aa4886b0b6d70a6103854a": {
      "model_module": "ipyevents",
      "model_module_version": "2.0.1",
      "model_name": "EventModel",
      "state": {
       "_supported_key_events": [
        "keydown",
        "keyup"
       ],
       "_supported_mouse_events": [
        "click",
        "auxclick",
        "dblclick",
        "mouseenter",
        "mouseleave",
        "mousedown",
        "mouseup",
        "mousemove",
        "wheel",
        "contextmenu",
        "dragstart",
        "drag",
        "dragend",
        "dragenter",
        "dragover",
        "dragleave",
        "drop"
       ],
       "_supported_touch_events": [
        "touchstart",
        "touchend",
        "touchmove",
        "touchcancel"
       ],
       "_view_module": "@jupyter-widgets/controls",
       "source": "IPY_MODEL_d9ce774e0bf44457a3a057b844aa5769",
       "throttle_or_debounce": "",
       "watched_events": [
        "mouseenter",
        "mouseleave"
       ],
       "xy_coordinate_system": ""
      }
     },
     "6bf46deb63594117a3228c3f07086983": {
      "model_module": "@jupyter-widgets/controls",
      "model_module_version": "2.0.0",
      "model_name": "ToggleButtonModel",
      "state": {
       "button_style": "primary",
       "icon": "line-chart",
       "layout": "IPY_MODEL_541c4f38bc094b76bbb8661a89b4fbfb",
       "style": "IPY_MODEL_4d99ce490d64469d8b9b7e1ca74b4035",
       "tooltip": "Creating and plotting transects"
      }
     },
     "6c0f4c2c6c094bc3a60f0574c2b63c56": {
      "model_module": "@jupyter-widgets/base",
      "model_module_version": "2.0.0",
      "model_name": "LayoutModel",
      "state": {
       "grid_gap": "1px 1px",
       "grid_template_columns": "32px 32px 32px ",
       "grid_template_rows": "32px 32px ",
       "padding": "5px",
       "width": "109px"
      }
     },
     "6c17995d690846018e4089700eef2537": {
      "model_module": "@jupyter-widgets/controls",
      "model_module_version": "2.0.0",
      "model_name": "ToggleButtonStyleModel",
      "state": {
       "description_width": "",
       "font_family": null,
       "font_size": null,
       "font_style": null,
       "font_variant": null,
       "font_weight": null,
       "text_color": null,
       "text_decoration": null
      }
     },
     "6c31e5039c864f1b838f2baa8d698317": {
      "model_module": "@jupyter-widgets/base",
      "model_module_version": "2.0.0",
      "model_name": "LayoutModel",
      "state": {
       "height": "auto",
       "padding": "0px 0px 0px 4px",
       "width": "auto"
      }
     },
     "6c33e226414e4ff3a2f11085d3d66787": {
      "model_module": "@jupyter-widgets/base",
      "model_module_version": "2.0.0",
      "model_name": "LayoutModel",
      "state": {
       "height": "auto",
       "padding": "0px 0px 0px 4px",
       "width": "auto"
      }
     },
     "6c37a000d5ca400186481c27ea87b89e": {
      "model_module": "@jupyter-widgets/controls",
      "model_module_version": "2.0.0",
      "model_name": "ToggleButtonStyleModel",
      "state": {
       "description_width": "",
       "font_family": null,
       "font_size": null,
       "font_style": null,
       "font_variant": null,
       "font_weight": null,
       "text_color": null,
       "text_decoration": null
      }
     },
     "6c8223a54a3546ea85a74cc0a68df993": {
      "model_module": "@jupyter-widgets/controls",
      "model_module_version": "2.0.0",
      "model_name": "LabelModel",
      "state": {
       "layout": "IPY_MODEL_dc52965c9210405893f8f80fe1f2a4c7",
       "style": "IPY_MODEL_a9b037bf581b48f381e40c7eb2cc2b93",
       "value": "90 Available Tools"
      }
     },
     "6ce6b1db6b11473284bef965a986220f": {
      "model_module": "@jupyter-widgets/controls",
      "model_module_version": "2.0.0",
      "model_name": "ToggleButtonsStyleModel",
      "state": {
       "button_width": "110px",
       "description_width": ""
      }
     },
     "6cff7c6c0b9d40c8bef8fb6ab35d1bc7": {
      "model_module": "jupyter-leaflet",
      "model_module_version": "^0.17",
      "model_name": "LeafletScaleControlModel",
      "state": {
       "_model_module_version": "^0.17",
       "_view_module_version": "^0.17",
       "imperial": true,
       "max_width": 100,
       "metric": true,
       "options": [
        "imperial",
        "max_width",
        "metric",
        "position",
        "update_when_idle"
       ],
       "position": "bottomleft",
       "update_when_idle": false
      }
     },
     "6d017e28fda84fa9ab62471c09789524": {
      "model_module": "@jupyter-widgets/base",
      "model_module_version": "2.0.0",
      "model_name": "LayoutModel",
      "state": {
       "height": "28px",
       "padding": "0px 0px 0px 4px",
       "width": "28px"
      }
     },
     "6d058d29153442e59689ca7bc51daa84": {
      "model_module": "@jupyter-widgets/base",
      "model_module_version": "2.0.0",
      "model_name": "LayoutModel",
      "state": {
       "height": "auto",
       "padding": "0px 0px 0px 4px",
       "width": "auto"
      }
     },
     "6daf18f05de842cab8e28e39ac79947d": {
      "model_module": "@jupyter-widgets/controls",
      "model_module_version": "2.0.0",
      "model_name": "VBoxModel",
      "state": {
       "children": [
        "IPY_MODEL_e5a2c8a95f104837a2532aac5bc3bced"
       ],
       "layout": "IPY_MODEL_2c0c31d05c884ddca4b3b908c8a7fda3"
      }
     },
     "6dd528c801f94ae99b337aa35d65aa98": {
      "model_module": "jupyter-leaflet",
      "model_module_version": "^0.17",
      "model_name": "LeafletAttributionControlModel",
      "state": {
       "_model_module_version": "^0.17",
       "_view_module_version": "^0.17",
       "options": [
        "position",
        "prefix"
       ],
       "position": "bottomright",
       "prefix": "ipyleaflet"
      }
     },
     "6e18eb1fc4f14d19ab6ae2f60c717fb0": {
      "model_module": "jupyter-leaflet",
      "model_module_version": "^0.17",
      "model_name": "LeafletMapStyleModel",
      "state": {
       "_model_module_version": "^0.17",
       "cursor": "move"
      }
     },
     "6e7192c32b6149c38ea8c7d0eaa77276": {
      "model_module": "@jupyter-widgets/controls",
      "model_module_version": "2.0.0",
      "model_name": "ToggleButtonStyleModel",
      "state": {
       "description_width": "",
       "font_family": null,
       "font_size": null,
       "font_style": null,
       "font_variant": null,
       "font_weight": null,
       "text_color": null,
       "text_decoration": null
      }
     },
     "6e9eeb3c9d054dd3a0f0fab5fa658030": {
      "model_module": "jupyter-leaflet",
      "model_module_version": "^0.17",
      "model_name": "LeafletMapStyleModel",
      "state": {
       "_model_module_version": "^0.17",
       "cursor": "move"
      }
     },
     "6eff763ad4d84ef9a90fdced604b9407": {
      "model_module": "@jupyter-widgets/controls",
      "model_module_version": "2.0.0",
      "model_name": "ToggleButtonStyleModel",
      "state": {
       "description_width": "",
       "font_family": null,
       "font_size": null,
       "font_style": null,
       "font_variant": null,
       "font_weight": null,
       "text_color": null,
       "text_decoration": null
      }
     },
     "6f251e83703542ebabcde0d48ab4d04b": {
      "model_module": "@jupyter-widgets/controls",
      "model_module_version": "2.0.0",
      "model_name": "ToggleButtonStyleModel",
      "state": {
       "description_width": "",
       "font_family": null,
       "font_size": null,
       "font_style": null,
       "font_variant": null,
       "font_weight": null,
       "text_color": null,
       "text_decoration": null
      }
     },
     "6f3a0843bfea4562a494b63aba2e25b8": {
      "model_module": "@jupyter-widgets/controls",
      "model_module_version": "2.0.0",
      "model_name": "SelectModel",
      "state": {
       "_options_labels": [
        "📁 ..",
        "2023October_PaperAnalysis.ipynb"
       ],
       "index": null,
       "layout": "IPY_MODEL_8cdde361335d401eb2282612eff1e611",
       "rows": 8,
       "style": "IPY_MODEL_43fb14ce36364819bfa82962b440497d"
      }
     },
     "6f45bcbd56e14aa083e8a8977495976b": {
      "model_module": "@jupyter-widgets/controls",
      "model_module_version": "2.0.0",
      "model_name": "HTMLStyleModel",
      "state": {
       "description_width": "",
       "font_size": null,
       "text_color": null
      }
     },
     "6f58d0b4c8e449ef8b58b704b59debf2": {
      "model_module": "@jupyter-widgets/controls",
      "model_module_version": "2.0.0",
      "model_name": "ButtonStyleModel",
      "state": {
       "font_family": null,
       "font_size": null,
       "font_style": null,
       "font_variant": null,
       "font_weight": null,
       "text_color": null,
       "text_decoration": null
      }
     },
     "6f77ec8e9ee24ee5a869cc512219e4fc": {
      "model_module": "@jupyter-widgets/controls",
      "model_module_version": "2.0.0",
      "model_name": "ToggleButtonModel",
      "state": {
       "button_style": "primary",
       "icon": "map",
       "layout": "IPY_MODEL_54288c0605ea4b6a8b00c1f83b1e9616",
       "style": "IPY_MODEL_c84f5c27bc34442cb1c3a506b644b842",
       "tooltip": "Change basemap"
      }
     },
     "6f89f1d268114ab692d8d1a0c93ba5cb": {
      "model_module": "@jupyter-widgets/base",
      "model_module_version": "2.0.0",
      "model_name": "LayoutModel",
      "state": {
       "height": "auto",
       "padding": "0px 0px 0px 4px",
       "width": "auto"
      }
     },
     "6fa01563ef2f4b8f9f363dc721511c9e": {
      "model_module": "@jupyter-widgets/controls",
      "model_module_version": "2.0.0",
      "model_name": "ToggleButtonsModel",
      "state": {
       "_options_labels": [
        "name/address",
        "lat-lon",
        "data"
       ],
       "button_style": "",
       "icons": [],
       "index": 0,
       "layout": "IPY_MODEL_87fe1bc438914e97944ab0bd3a75cc61",
       "style": "IPY_MODEL_fa811b3df45442dc93f8e6b796b2b122",
       "tooltips": [
        "Search by place name or address",
        "Search by lat-lon coordinates",
        "Search Earth Engine data catalog"
       ]
      }
     },
     "6fc2fd090ef44b90b9007ddd6757760e": {
      "model_module": "@jupyter-widgets/base",
      "model_module_version": "2.0.0",
      "model_name": "LayoutModel",
      "state": {
       "height": "auto",
       "padding": "0px 0px 0px 4px",
       "width": "auto"
      }
     },
     "6fdd9d0568fd4782bf3d0d9b5e21e443": {
      "model_module": "@jupyter-widgets/base",
      "model_module_version": "2.0.0",
      "model_name": "LayoutModel",
      "state": {
       "height": "auto",
       "padding": "0px 0px 0px 4px",
       "width": "auto"
      }
     },
     "7017092430944216ab6691161540a317": {
      "model_module": "@jupyter-widgets/controls",
      "model_module_version": "2.0.0",
      "model_name": "ToggleButtonStyleModel",
      "state": {
       "description_width": "",
       "font_family": null,
       "font_size": null,
       "font_style": null,
       "font_variant": null,
       "font_weight": null,
       "text_color": null,
       "text_decoration": null
      }
     },
     "707d7661ac984219a4ed9442f3ba702c": {
      "model_module": "@jupyter-widgets/base",
      "model_module_version": "2.0.0",
      "model_name": "LayoutModel",
      "state": {
       "height": "auto",
       "padding": "0px 0px 0px 4px",
       "width": "auto"
      }
     },
     "7084fe8d949146c293bfc5c6c39ab85c": {
      "model_module": "@jupyter-widgets/base",
      "model_module_version": "2.0.0",
      "model_name": "LayoutModel",
      "state": {
       "height": "28px",
       "padding": "0px 0px 0px 4px",
       "width": "28px"
      }
     },
     "7090e223ac51482d9f6353c0e8fb6617": {
      "model_module": "@jupyter-widgets/controls",
      "model_module_version": "2.0.0",
      "model_name": "ToggleButtonStyleModel",
      "state": {
       "description_width": "",
       "font_family": null,
       "font_size": null,
       "font_style": null,
       "font_variant": null,
       "font_weight": null,
       "text_color": null,
       "text_decoration": null
      }
     },
     "70a266631ea84659985bb8d83d26ee8b": {
      "model_module": "@jupyter-widgets/controls",
      "model_module_version": "2.0.0",
      "model_name": "ToggleButtonModel",
      "state": {
       "button_style": "primary",
       "icon": "map",
       "layout": "IPY_MODEL_896af95ebc65443d9c5e45121dba60bc",
       "style": "IPY_MODEL_03f0a9a1c42f480abf3f5ddb2a03178a",
       "tooltip": "Change basemap"
      }
     },
     "70bb811073d54acaa541c203c4b25bba": {
      "model_module": "@jupyter-widgets/base",
      "model_module_version": "2.0.0",
      "model_name": "LayoutModel",
      "state": {
       "grid_area": "filename",
       "width": "auto"
      }
     },
     "70f065c21151460eb5c62a97791edf47": {
      "model_module": "@jupyter-widgets/controls",
      "model_module_version": "2.0.0",
      "model_name": "ToggleButtonModel",
      "state": {
       "button_style": "primary",
       "icon": "adjust",
       "layout": "IPY_MODEL_c19ae0b79d714026bf0c59d95f0a3cbd",
       "style": "IPY_MODEL_acd548543ea64c5c9ed1006681e8deab",
       "tooltip": "Planet imagery"
      }
     },
     "712460ac1d56464a9d5e35998152549b": {
      "model_module": "@jupyter-widgets/base",
      "model_module_version": "2.0.0",
      "model_name": "LayoutModel",
      "state": {
       "max_width": "57px",
       "min_width": "57px"
      }
     },
     "7198fcb4eb4e4f87b80397567c3c5518": {
      "model_module": "jupyter-leaflet",
      "model_module_version": "^0.17",
      "model_name": "LeafletMapStyleModel",
      "state": {
       "_model_module_version": "^0.17"
      }
     },
     "71c5e001883b469480e033c8a6ac8234": {
      "model_module": "@jupyter-widgets/controls",
      "model_module_version": "2.0.0",
      "model_name": "ToggleButtonStyleModel",
      "state": {
       "description_width": "",
       "font_family": null,
       "font_size": null,
       "font_style": null,
       "font_variant": null,
       "font_weight": null,
       "text_color": null,
       "text_decoration": null
      }
     },
     "724e55028a3741f6a5da682444e8dec1": {
      "model_module": "jupyter-leaflet",
      "model_module_version": "^0.17",
      "model_name": "LeafletWidgetControlModel",
      "state": {
       "_model_module": "jupyter-leaflet",
       "_model_module_version": "^0.17",
       "_view_count": null,
       "_view_module": "jupyter-leaflet",
       "_view_module_version": "^0.17",
       "options": [
        "position",
        "transparent_bg"
       ],
       "position": "topleft",
       "widget": "IPY_MODEL_9fe61cd57aac45c299bc75301a8b70b8"
      }
     },
     "725cc73eb2d64f7881229b20f5c17260": {
      "model_module": "@jupyter-widgets/base",
      "model_module_version": "2.0.0",
      "model_name": "LayoutModel",
      "state": {
       "height": "auto",
       "padding": "0px 0px 0px 4px",
       "width": "auto"
      }
     },
     "72b0e014282b4ee4a7ba091c23739b41": {
      "model_module": "@jupyter-widgets/base",
      "model_module_version": "2.0.0",
      "model_name": "LayoutModel",
      "state": {}
     },
     "72b4e435bbb649648bebc7ff9c64b1f8": {
      "model_module": "@jupyter-widgets/base",
      "model_module_version": "2.0.0",
      "model_name": "LayoutModel",
      "state": {
       "max_width": "57px",
       "min_width": "57px"
      }
     },
     "72ee1addcb1644d58f37130282da50bd": {
      "model_module": "@jupyter-widgets/controls",
      "model_module_version": "2.0.0",
      "model_name": "ToggleButtonModel",
      "state": {
       "icon": "wrench",
       "layout": "IPY_MODEL_ba9bbe12d6c54556a57262fa419eecea",
       "style": "IPY_MODEL_d9f32c00b1c54088bf2a847d626f40f4",
       "tooltip": "Toolbar"
      }
     },
     "72f76f916c644b49b47900cac8efbde0": {
      "model_module": "jupyter-leaflet",
      "model_module_version": "^0.17",
      "model_name": "LeafletFullScreenControlModel",
      "state": {
       "_model_module_version": "^0.17",
       "_view_module_version": "^0.17",
       "options": [
        "position"
       ]
      }
     },
     "7300b89cda10468dad975b4e6ea2569a": {
      "model_module": "ipyevents",
      "model_module_version": "2.0.1",
      "model_name": "EventModel",
      "state": {
       "_supported_key_events": [
        "keydown",
        "keyup"
       ],
       "_supported_mouse_events": [
        "click",
        "auxclick",
        "dblclick",
        "mouseenter",
        "mouseleave",
        "mousedown",
        "mouseup",
        "mousemove",
        "wheel",
        "contextmenu",
        "dragstart",
        "drag",
        "dragend",
        "dragenter",
        "dragover",
        "dragleave",
        "drop"
       ],
       "_supported_touch_events": [
        "touchstart",
        "touchend",
        "touchmove",
        "touchcancel"
       ],
       "_view_module": "@jupyter-widgets/controls",
       "source": "IPY_MODEL_a5dd52bdcffc47dc9d395772bd1cd3aa",
       "throttle_or_debounce": "",
       "watched_events": [
        "mouseenter",
        "mouseleave"
       ],
       "xy_coordinate_system": ""
      }
     },
     "73082e0d3cdb4f8793d9ad6bbb6bd687": {
      "model_module": "@jupyter-widgets/controls",
      "model_module_version": "2.0.0",
      "model_name": "ToggleButtonStyleModel",
      "state": {
       "description_width": "",
       "font_family": null,
       "font_size": null,
       "font_style": null,
       "font_variant": null,
       "font_weight": null,
       "text_color": null,
       "text_decoration": null
      }
     },
     "7329e5fe2bff479b948394e0fbba1698": {
      "model_module": "@jupyter-widgets/base",
      "model_module_version": "2.0.0",
      "model_name": "LayoutModel",
      "state": {
       "height": "auto",
       "padding": "0px 0px 0px 4px",
       "width": "auto"
      }
     },
     "735775032dd546e7a58289d6dc1c56c6": {
      "model_module": "@jupyter-widgets/controls",
      "model_module_version": "2.0.0",
      "model_name": "ButtonModel",
      "state": {
       "description": "Close Toolbox",
       "icon": "close",
       "layout": "IPY_MODEL_374548ac735c4e07a7a6c0ca4f142b0f",
       "style": "IPY_MODEL_26a9abd1b5d14ff4ab52453d6c8962f3",
       "tooltip": null
      }
     },
     "7363a66a70784711bb470452ba3fbcef": {
      "model_module": "@jupyter-widgets/controls",
      "model_module_version": "2.0.0",
      "model_name": "ToggleButtonStyleModel",
      "state": {
       "description_width": "",
       "font_family": null,
       "font_size": null,
       "font_style": null,
       "font_variant": null,
       "font_weight": null,
       "text_color": null,
       "text_decoration": null
      }
     },
     "736bd0d80fb54dfe96f4b10b814588b0": {
      "model_module": "@jupyter-widgets/base",
      "model_module_version": "2.0.0",
      "model_name": "LayoutModel",
      "state": {
       "max_width": "279px",
       "min_width": "279px"
      }
     },
     "739bbb1f0d7f4c59b1a61cdeac2cf86c": {
      "model_module": "@jupyter-widgets/controls",
      "model_module_version": "2.0.0",
      "model_name": "VBoxModel",
      "state": {
       "children": [
        "IPY_MODEL_45c529e45a32497e9087f38b7f028df8"
       ],
       "layout": "IPY_MODEL_72b0e014282b4ee4a7ba091c23739b41"
      }
     },
     "73a3ee8c098445c89f7f6b17e1e3d787": {
      "model_module": "@jupyter-widgets/controls",
      "model_module_version": "2.0.0",
      "model_name": "DescriptionStyleModel",
      "state": {
       "description_width": ""
      }
     },
     "73b0a491c5dd4793857845154e0e5c1d": {
      "model_module": "ipyevents",
      "model_module_version": "2.0.1",
      "model_name": "EventModel",
      "state": {
       "_supported_key_events": [
        "keydown",
        "keyup"
       ],
       "_supported_mouse_events": [
        "click",
        "auxclick",
        "dblclick",
        "mouseenter",
        "mouseleave",
        "mousedown",
        "mouseup",
        "mousemove",
        "wheel",
        "contextmenu",
        "dragstart",
        "drag",
        "dragend",
        "dragenter",
        "dragover",
        "dragleave",
        "drop"
       ],
       "_supported_touch_events": [
        "touchstart",
        "touchend",
        "touchmove",
        "touchcancel"
       ],
       "_view_module": "@jupyter-widgets/controls",
       "source": "IPY_MODEL_ed5b359224aa49acb4e9fa9f3d89e095",
       "throttle_or_debounce": "",
       "watched_events": [
        "mouseenter",
        "mouseleave"
       ],
       "xy_coordinate_system": ""
      }
     },
     "7402da94c984467db6e8f95ffeb9e2e2": {
      "model_module": "@jupyter-widgets/controls",
      "model_module_version": "2.0.0",
      "model_name": "ToggleButtonModel",
      "state": {
       "button_style": "primary",
       "icon": "info-circle",
       "layout": "IPY_MODEL_4987cde898d04031ad5ae6ba92631ed4",
       "style": "IPY_MODEL_5a8c42e419364121849c78a3c532702b",
       "tooltip": "Get COG/STAC pixel value"
      }
     },
     "7417a411db174ccda9fea1cbff733a6b": {
      "model_module": "@jupyter-widgets/controls",
      "model_module_version": "2.0.0",
      "model_name": "ButtonModel",
      "state": {
       "description": "Import",
       "layout": "IPY_MODEL_5a79cf22e3dd42f7ad53518f4561393c",
       "style": "IPY_MODEL_9003209660614eec8821d40b47130090",
       "tooltip": "Import the script to a new cell"
      }
     },
     "743ded739f7540d989eb0ab028261017": {
      "model_module": "@jupyter-widgets/base",
      "model_module_version": "2.0.0",
      "model_name": "LayoutModel",
      "state": {}
     },
     "7440087482cc461fbb50275435b61b36": {
      "model_module": "@jupyter-widgets/base",
      "model_module_version": "2.0.0",
      "model_name": "LayoutModel",
      "state": {
       "min_width": "6em",
       "width": "6em"
      }
     },
     "744b369c12464330996bf5925d7fb601": {
      "model_module": "@jupyter-widgets/base",
      "model_module_version": "2.0.0",
      "model_name": "LayoutModel",
      "state": {}
     },
     "745b21b4a3c1427099a9660c29cce8cb": {
      "model_module": "@jupyter-widgets/controls",
      "model_module_version": "2.0.0",
      "model_name": "ToggleButtonsStyleModel",
      "state": {
       "button_width": "110px",
       "description_width": ""
      }
     },
     "745f95a827a14847ab94cd974739d35a": {
      "model_module": "@jupyter-widgets/base",
      "model_module_version": "2.0.0",
      "model_name": "LayoutModel",
      "state": {
       "height": "auto",
       "padding": "0px 0px 0px 4px",
       "width": "auto"
      }
     },
     "747cf5d08aad4eb2a1c100e39387b4ab": {
      "model_module": "@jupyter-widgets/base",
      "model_module_version": "2.0.0",
      "model_name": "LayoutModel",
      "state": {
       "height": "600px"
      }
     },
     "7481ff7cf22a45d59c6635ce1a56f420": {
      "model_module": "@jupyter-widgets/controls",
      "model_module_version": "2.0.0",
      "model_name": "ToggleButtonModel",
      "state": {
       "button_style": "primary",
       "icon": "map",
       "layout": "IPY_MODEL_fc712cc0a9234d7a8d07addd47aa14b0",
       "style": "IPY_MODEL_9f7aa3d076a34758b7cec348e26075c8",
       "tooltip": "Change basemap"
      }
     },
     "748878f96a504e32a89b722ab347c56d": {
      "model_module": "@jupyter-widgets/controls",
      "model_module_version": "2.0.0",
      "model_name": "ToggleButtonStyleModel",
      "state": {
       "description_width": "",
       "font_family": null,
       "font_size": null,
       "font_style": null,
       "font_variant": null,
       "font_weight": null,
       "text_color": null,
       "text_decoration": null
      }
     },
     "74910a9f49c34dc08266539a0283b4a4": {
      "model_module": "jupyter-leaflet",
      "model_module_version": "^0.17",
      "model_name": "LeafletMapStyleModel",
      "state": {
       "_model_module_version": "^0.17"
      }
     },
     "750b3c126b2f466d9ba8dfd3e88b7a33": {
      "model_module": "@jupyter-widgets/base",
      "model_module_version": "2.0.0",
      "model_name": "LayoutModel",
      "state": {
       "max_width": "279px",
       "min_width": "279px"
      }
     },
     "752b23a805ad4b51b3e6ace894225334": {
      "model_module": "@jupyter-widgets/controls",
      "model_module_version": "2.0.0",
      "model_name": "VBoxModel",
      "state": {
       "children": [
        "IPY_MODEL_f9dc5f6a5c484106abd08b58f7880fa6",
        "IPY_MODEL_859d1fb680884ef5999b84154bab5eae",
        "IPY_MODEL_452ada5c72fe4cd3b5fe0f92cb972103"
       ],
       "layout": "IPY_MODEL_d8fad85ae5a34a25badf53151cfbcc21"
      }
     },
     "753beb68ab5f45cea074f9ce19b2ffa8": {
      "model_module": "@jupyter-widgets/controls",
      "model_module_version": "2.0.0",
      "model_name": "TextModel",
      "state": {
       "layout": "IPY_MODEL_5a88e2f4d39d4678a07d06ecb5269808",
       "placeholder": "Search by place name or address",
       "style": "IPY_MODEL_e2a43df4a8624861b98a5c78d8e2d9ec",
       "tooltip": "Search location"
      }
     },
     "754d22b14bfe41188e60a948d4a6e99c": {
      "model_module": "@jupyter-widgets/controls",
      "model_module_version": "2.0.0",
      "model_name": "SliderStyleModel",
      "state": {
       "description_width": ""
      }
     },
     "754ee08df49e4d7bbbb44bd1d360ef77": {
      "model_module": "@jupyter-widgets/base",
      "model_module_version": "2.0.0",
      "model_name": "LayoutModel",
      "state": {
       "height": "auto",
       "padding": "0px 0px 0px 4px",
       "width": "auto"
      }
     },
     "75533c26f47c4f1a83b7898f134b90fc": {
      "model_module": "@jupyter-widgets/controls",
      "model_module_version": "2.0.0",
      "model_name": "ToggleButtonStyleModel",
      "state": {
       "description_width": "",
       "font_family": null,
       "font_size": null,
       "font_style": null,
       "font_variant": null,
       "font_weight": null,
       "text_color": null,
       "text_decoration": null
      }
     },
     "75ac95ba57d24af2b7e586013bb50272": {
      "model_module": "@jupyter-widgets/controls",
      "model_module_version": "2.0.0",
      "model_name": "HBoxModel",
      "state": {
       "children": [
        "IPY_MODEL_d4be3fd72c6b4e49ae50c33eba5f14c9",
        "IPY_MODEL_330c03c8891141bbab1583aa53f82151"
       ],
       "layout": "IPY_MODEL_5235773d87c6435a9127f4fa8c2f1cfb"
      }
     },
     "75ae86cd1086434bbe540c81fd1b8b09": {
      "model_module": "@jupyter-widgets/controls",
      "model_module_version": "2.0.0",
      "model_name": "ToggleButtonStyleModel",
      "state": {
       "description_width": "",
       "font_family": null,
       "font_size": null,
       "font_style": null,
       "font_variant": null,
       "font_weight": null,
       "text_color": null,
       "text_decoration": null
      }
     },
     "75b3f9b810f343bbbe5eaf3625dcdf58": {
      "model_module": "@jupyter-widgets/controls",
      "model_module_version": "2.0.0",
      "model_name": "DirectionalLinkModel",
      "state": {
       "source": [
        "IPY_MODEL_608b121165b4451fab3d2c249ecd7945",
        "value"
       ],
       "target": [
        "IPY_MODEL_d363072b14fa431b9a00fb97217597a7",
        "opacity"
       ]
      }
     },
     "75c12a59e0c942f49bc01083c7dbdb46": {
      "model_module": "@jupyter-widgets/controls",
      "model_module_version": "2.0.0",
      "model_name": "DirectionalLinkModel",
      "state": {
       "source": [
        "IPY_MODEL_3346f5f14e374b0f9ccc0d60a07d7aba",
        "value"
       ],
       "target": [
        "IPY_MODEL_91e57568e8f7439b907717bc8300e889",
        "opacity"
       ]
      }
     },
     "75cb76e5fc734011aa17d24e4f912023": {
      "model_module": "@jupyter-widgets/base",
      "model_module_version": "2.0.0",
      "model_name": "LayoutModel",
      "state": {}
     },
     "75d902d2eda44d8ea5d834d6f59fa008": {
      "model_module": "@jupyter-widgets/base",
      "model_module_version": "2.0.0",
      "model_name": "LayoutModel",
      "state": {
       "height": "18px",
       "width": "140px"
      }
     },
     "760d5f49be194cc7842aa821a7622729": {
      "model_module": "@jupyter-widgets/base",
      "model_module_version": "2.0.0",
      "model_name": "LayoutModel",
      "state": {
       "grid_gap": "1px 1px",
       "grid_template_columns": "32px 32px 32px ",
       "grid_template_rows": "32px 32px ",
       "padding": "5px",
       "width": "109px"
      }
     },
     "76550b4f4660449ebe4cfe71b0be0163": {
      "model_module": "@jupyter-widgets/controls",
      "model_module_version": "2.0.0",
      "model_name": "HTMLModel",
      "state": {
       "layout": "IPY_MODEL_aafb0656f4e84066809a0da36b182993",
       "style": "IPY_MODEL_e604f0919eed4bcbbb842fedde5ad3a9"
      }
     },
     "7655e1b402204344b37912d8268f0ab4": {
      "model_module": "@jupyter-widgets/controls",
      "model_module_version": "2.0.0",
      "model_name": "HBoxModel",
      "state": {
       "children": [
        "IPY_MODEL_3036b85a5c274b548be309cfb298eab8",
        "IPY_MODEL_7e83404ba8154254b17b26b8ae69b2d1",
        "IPY_MODEL_7c4ff1b193d84206b143a0f2b5ac0471"
       ],
       "layout": "IPY_MODEL_cc3d81dcb72a4f5fb9441d7f3e6a31b7"
      }
     },
     "7656c72647644bbbb019a1fc5d8d30e1": {
      "model_module": "@jupyter-widgets/controls",
      "model_module_version": "2.0.0",
      "model_name": "ToggleButtonStyleModel",
      "state": {
       "description_width": "",
       "font_family": null,
       "font_size": null,
       "font_style": null,
       "font_variant": null,
       "font_weight": null,
       "text_color": null,
       "text_decoration": null
      }
     },
     "765c90d31caa4ffe8ff3aa10c0f8e759": {
      "model_module": "jupyter-leaflet",
      "model_module_version": "^0.17",
      "model_name": "LeafletWidgetControlModel",
      "state": {
       "_model_module": "jupyter-leaflet",
       "_model_module_version": "^0.17",
       "_view_count": null,
       "_view_module": "jupyter-leaflet",
       "_view_module_version": "^0.17",
       "options": [
        "position",
        "transparent_bg"
       ],
       "position": "topright",
       "widget": "IPY_MODEL_961cd9c6a7f24f9e921017c0e81be5ae"
      }
     },
     "76645ad8c785480eac9ed076ab201731": {
      "model_module": "@jupyter-widgets/controls",
      "model_module_version": "2.0.0",
      "model_name": "ToggleButtonModel",
      "state": {
       "button_style": "primary",
       "icon": "gears",
       "layout": "IPY_MODEL_01eb4d9860e7415ab78dd3ac5a050de6",
       "style": "IPY_MODEL_bb5ada17fe414be0af86198040ce3ee9",
       "tooltip": "WhiteboxTools for local geoprocessing"
      }
     },
     "7678d71297024895bbf92ccb646bf54d": {
      "model_module": "@jupyter-widgets/controls",
      "model_module_version": "2.0.0",
      "model_name": "HTMLModel",
      "state": {
       "layout": "IPY_MODEL_dcecaf329d0d405ba17c7c676a827bd7",
       "style": "IPY_MODEL_6f45bcbd56e14aa083e8a8977495976b"
      }
     },
     "7679e1b2a9d84665b1f601ace9e5b9c4": {
      "model_module": "@jupyter-widgets/base",
      "model_module_version": "2.0.0",
      "model_name": "LayoutModel",
      "state": {
       "height": "auto",
       "padding": "0px 0px 0px 4px",
       "width": "auto"
      }
     },
     "76baf3607b2440c9a79d40f3107b0aaf": {
      "model_module": "jupyter-leaflet",
      "model_module_version": "^0.17",
      "model_name": "LeafletWidgetControlModel",
      "state": {
       "_model_module": "jupyter-leaflet",
       "_model_module_version": "^0.17",
       "_view_count": null,
       "_view_module": "jupyter-leaflet",
       "_view_module_version": "^0.17",
       "options": [
        "position",
        "transparent_bg"
       ],
       "position": "topright",
       "widget": "IPY_MODEL_d4aaf3d8b10f4e06b1f99a228327a5db"
      }
     },
     "76cc9a1207fc49f1b5c4bd8e26ef2ac2": {
      "model_module": "@jupyter-widgets/controls",
      "model_module_version": "2.0.0",
      "model_name": "DropdownModel",
      "state": {
       "index": null,
       "layout": "IPY_MODEL_feb1e4ccfad7450bb14c93b03adba867",
       "style": "IPY_MODEL_924e1653e18d4d4e81662b5afc1b7986"
      }
     },
     "76da942bebb844108c09b98bcc61c27f": {
      "model_module": "@jupyter-widgets/controls",
      "model_module_version": "2.0.0",
      "model_name": "ToggleButtonStyleModel",
      "state": {
       "description_width": "",
       "font_family": null,
       "font_size": null,
       "font_style": null,
       "font_variant": null,
       "font_weight": null,
       "text_color": null,
       "text_decoration": null
      }
     },
     "76eed8e00f524e2a99ddba7a66ae2412": {
      "model_module": "jupyter-leaflet",
      "model_module_version": "^0.17",
      "model_name": "LeafletTileLayerModel",
      "state": {
       "_model_module_version": "^0.17",
       "_view_module_version": "^0.17",
       "attribution": "&copy; <a href=\"https://www.openstreetmap.org/copyright\">OpenStreetMap</a> contributors",
       "base": true,
       "max_zoom": 19,
       "min_zoom": 1,
       "name": "OpenStreetMap.Mapnik",
       "options": [
        "attribution",
        "bounds",
        "detect_retina",
        "max_native_zoom",
        "max_zoom",
        "min_native_zoom",
        "min_zoom",
        "no_wrap",
        "tile_size",
        "tms",
        "zoom_offset"
       ],
       "url": "https://tile.openstreetmap.org/{z}/{x}/{y}.png"
      }
     },
     "76ffe9794c194e408fee67a214b18b91": {
      "model_module": "@jupyter-widgets/base",
      "model_module_version": "2.0.0",
      "model_name": "LayoutModel",
      "state": {
       "height": "auto",
       "padding": "0px 0px 0px 4px",
       "width": "auto"
      }
     },
     "771346a2ed984454835454302cdcf754": {
      "model_module": "@jupyter-widgets/controls",
      "model_module_version": "2.0.0",
      "model_name": "ToggleButtonModel",
      "state": {
       "button_style": "primary",
       "icon": "info",
       "layout": "IPY_MODEL_df8e6cfeab564ef0a04244ce638eac6f",
       "style": "IPY_MODEL_7d32b6c045454e3db35f449030c7ae41",
       "tooltip": "Inspector"
      }
     },
     "771a9361ea524b359bba46883de07f2b": {
      "model_module": "@jupyter-widgets/base",
      "model_module_version": "2.0.0",
      "model_name": "LayoutModel",
      "state": {}
     },
     "77489019ed4b4b6487a5d1d967fc552d": {
      "model_module": "@jupyter-widgets/base",
      "model_module_version": "2.0.0",
      "model_name": "LayoutModel",
      "state": {
       "height": "400px",
       "width": "195px"
      }
     },
     "77d2ef8f630345f58574d945ba5b0ff8": {
      "model_module": "jupyter-leaflet",
      "model_module_version": "^0.17",
      "model_name": "LeafletZoomControlModel",
      "state": {
       "_model_module_version": "^0.17",
       "_view_module_version": "^0.17",
       "options": [
        "position",
        "zoom_in_text",
        "zoom_in_title",
        "zoom_out_text",
        "zoom_out_title"
       ]
      }
     },
     "784cdaf191b641f786f394506b580084": {
      "model_module": "@jupyter-widgets/base",
      "model_module_version": "2.0.0",
      "model_name": "LayoutModel",
      "state": {
       "width": "340px"
      }
     },
     "7860d6ea2bd941d681552c021108d558": {
      "model_module": "@jupyter-widgets/base",
      "model_module_version": "2.0.0",
      "model_name": "LayoutModel",
      "state": {
       "height": "28px",
       "padding": "0px 0px 0px 4px",
       "width": "28px"
      }
     },
     "78792ff2bc9944118898176fe8d5dccf": {
      "model_module": "@jupyter-widgets/base",
      "model_module_version": "2.0.0",
      "model_name": "LayoutModel",
      "state": {
       "height": "auto",
       "padding": "0px 0px 0px 4px",
       "width": "auto"
      }
     },
     "788c1e5799374c1db3b71969f53f0176": {
      "model_module": "jupyter-leaflet",
      "model_module_version": "^0.17",
      "model_name": "LeafletScaleControlModel",
      "state": {
       "_model_module_version": "^0.17",
       "_view_module_version": "^0.17",
       "imperial": true,
       "max_width": 100,
       "metric": true,
       "options": [
        "imperial",
        "max_width",
        "metric",
        "position",
        "update_when_idle"
       ],
       "position": "bottomleft",
       "update_when_idle": false
      }
     },
     "789b748fd59f41569920218b2cd1e541": {
      "model_module": "@jupyter-widgets/controls",
      "model_module_version": "2.0.0",
      "model_name": "DescriptionStyleModel",
      "state": {
       "description_width": ""
      }
     },
     "78a6fde687d04aea87f53ecd9e0caec7": {
      "model_module": "ipyevents",
      "model_module_version": "2.0.1",
      "model_name": "EventModel",
      "state": {
       "_supported_key_events": [
        "keydown",
        "keyup"
       ],
       "_supported_mouse_events": [
        "click",
        "auxclick",
        "dblclick",
        "mouseenter",
        "mouseleave",
        "mousedown",
        "mouseup",
        "mousemove",
        "wheel",
        "contextmenu",
        "dragstart",
        "drag",
        "dragend",
        "dragenter",
        "dragover",
        "dragleave",
        "drop"
       ],
       "_supported_touch_events": [
        "touchstart",
        "touchend",
        "touchmove",
        "touchcancel"
       ],
       "_view_module": "@jupyter-widgets/controls",
       "source": "IPY_MODEL_31a15dada2404c949f4f4ada069216ec",
       "throttle_or_debounce": "",
       "watched_events": [
        "mouseenter",
        "mouseleave"
       ],
       "xy_coordinate_system": ""
      }
     },
     "78b99a002cba4af1a6c6741e8d7e4816": {
      "model_module": "@jupyter-widgets/controls",
      "model_module_version": "2.0.0",
      "model_name": "ToggleButtonStyleModel",
      "state": {
       "description_width": "",
       "font_family": null,
       "font_size": null,
       "font_style": null,
       "font_variant": null,
       "font_weight": null,
       "text_color": null,
       "text_decoration": null
      }
     },
     "78f43e99a8684ee7b9dc1c17902a8d51": {
      "model_module": "@jupyter-widgets/base",
      "model_module_version": "2.0.0",
      "model_name": "LayoutModel",
      "state": {}
     },
     "794a39bf02454f36bc33f8ea78d04977": {
      "model_module": "@jupyter-widgets/controls",
      "model_module_version": "2.0.0",
      "model_name": "DescriptionStyleModel",
      "state": {
       "description_width": ""
      }
     },
     "794c8b3843bb47e2af0bf0cbf8714f3b": {
      "model_module": "@jupyter-widgets/controls",
      "model_module_version": "2.0.0",
      "model_name": "TextStyleModel",
      "state": {
       "description_width": "",
       "font_size": null,
       "text_color": null
      }
     },
     "79b3b9868cc44af1aae24c39494a4cad": {
      "model_module": "@jupyter-widgets/controls",
      "model_module_version": "2.0.0",
      "model_name": "ToggleButtonStyleModel",
      "state": {
       "description_width": "",
       "font_family": null,
       "font_size": null,
       "font_style": null,
       "font_variant": null,
       "font_weight": null,
       "text_color": null,
       "text_decoration": null
      }
     },
     "79d26d0257394a56bca673e996384f9d": {
      "model_module": "jupyter-leaflet",
      "model_module_version": "^0.17",
      "model_name": "LeafletTileLayerModel",
      "state": {
       "_model_module_version": "^0.17",
       "_view_module_version": "^0.17",
       "attribution": "Google Earth Engine",
       "max_zoom": 24,
       "name": "New Delhi",
       "options": [
        "attribution",
        "bounds",
        "detect_retina",
        "max_native_zoom",
        "max_zoom",
        "min_native_zoom",
        "min_zoom",
        "no_wrap",
        "tile_size",
        "tms",
        "zoom_offset"
       ],
       "url": "https://earthengine.googleapis.com/v1/projects/earthengine-legacy/maps/00998ae602db08d60e1c5dc4acfc0fdb-371c68767e851b213dff93280b63151d/tiles/{z}/{x}/{y}"
      }
     },
     "79e9a9b41cc341598ffa887924a99cf3": {
      "model_module": "@jupyter-widgets/base",
      "model_module_version": "2.0.0",
      "model_name": "LayoutModel",
      "state": {
       "height": "28px",
       "padding": "0px 0px 0px 4px",
       "width": "28px"
      }
     },
     "7a18f74d76004e7db1942fcfea176910": {
      "model_module": "@jupyter-widgets/base",
      "model_module_version": "2.0.0",
      "model_name": "LayoutModel",
      "state": {}
     },
     "7a26d94885a24e6093e6c8412d5250b2": {
      "model_module": "@jupyter-widgets/base",
      "model_module_version": "2.0.0",
      "model_name": "LayoutModel",
      "state": {}
     },
     "7a4c2ef180d64e4cb0b8c36fe4dbd3c8": {
      "model_module": "@jupyter-widgets/controls",
      "model_module_version": "2.0.0",
      "model_name": "ButtonModel",
      "state": {
       "button_style": "primary",
       "description": "import",
       "layout": "IPY_MODEL_a90db823de7c464c9b87db797e9ccbfd",
       "style": "IPY_MODEL_4b0f9f1a033d48a28ca8a318ab05b150",
       "tooltip": "Click to import the selected asset"
      }
     },
     "7a4eeb408207433e95b75bfaac569fd9": {
      "model_module": "@jupyter-widgets/base",
      "model_module_version": "2.0.0",
      "model_name": "LayoutModel",
      "state": {
       "height": "600px"
      }
     },
     "7a54b9727f5a47d882f705669b25d54c": {
      "model_module": "@jupyter-widgets/controls",
      "model_module_version": "2.0.0",
      "model_name": "ToggleButtonStyleModel",
      "state": {
       "description_width": "",
       "font_family": null,
       "font_size": null,
       "font_style": null,
       "font_variant": null,
       "font_weight": null,
       "text_color": null,
       "text_decoration": null
      }
     },
     "7a56e7c9c03340eb8fd6d50e7964d6cf": {
      "model_module": "@jupyter-widgets/base",
      "model_module_version": "2.0.0",
      "model_name": "LayoutModel",
      "state": {
       "height": "600px"
      }
     },
     "7a6781bd113a4dffb0e453980a6209ef": {
      "model_module": "@jupyter-widgets/controls",
      "model_module_version": "2.0.0",
      "model_name": "HTMLModel",
      "state": {
       "layout": "IPY_MODEL_02667154610c4a32b0e52471f9e74085",
       "style": "IPY_MODEL_df9258af772c44debbb0c980cf679623"
      }
     },
     "7a6b58d876774d44b8a136f901276d26": {
      "model_module": "@jupyter-widgets/controls",
      "model_module_version": "2.0.0",
      "model_name": "ToggleButtonModel",
      "state": {
       "icon": "globe",
       "layout": "IPY_MODEL_1685dbcd0f7842798d7eae9c67c15979",
       "style": "IPY_MODEL_057b80d98f344a51a6349b980e4330c4",
       "tooltip": "Search location/data"
      }
     },
     "7a7e69b29154410d95fe0fbe7ad0f6e6": {
      "model_module": "jupyter-leaflet",
      "model_module_version": "^0.17",
      "model_name": "LeafletTileLayerModel",
      "state": {
       "_model_module_version": "^0.17",
       "_view_module_version": "^0.17",
       "attribution": "Google Earth Engine",
       "max_zoom": 24,
       "name": "Second Level Administrative Units",
       "options": [
        "attribution",
        "bounds",
        "detect_retina",
        "max_native_zoom",
        "max_zoom",
        "min_native_zoom",
        "min_zoom",
        "no_wrap",
        "tile_size",
        "tms",
        "zoom_offset"
       ],
       "url": "https://earthengine.googleapis.com/v1/projects/earthengine-legacy/maps/b6c709d492e1674d293a033202b58450-2d58573f50bcde5d9918f57a600139f5/tiles/{z}/{x}/{y}"
      }
     },
     "7ab6b5a3177c4b669b4fed94f0c956ad": {
      "model_module": "jupyter-leaflet",
      "model_module_version": "^0.17",
      "model_name": "LeafletMapStyleModel",
      "state": {
       "_model_module_version": "^0.17",
       "cursor": "move"
      }
     },
     "7ace9e947e284e56ac1270d26c47b053": {
      "model_module": "@jupyter-widgets/controls",
      "model_module_version": "2.0.0",
      "model_name": "ToggleButtonModel",
      "state": {
       "button_style": "primary",
       "icon": "fast-forward",
       "layout": "IPY_MODEL_23b97f951d9d4aef8b6cb5807930550a",
       "style": "IPY_MODEL_9d18563b731a4371b33a1e325c76427b",
       "tooltip": "Activate timeslider"
      }
     },
     "7ad06f8b14e7439692aea290e6e20a3a": {
      "model_module": "@jupyter-widgets/controls",
      "model_module_version": "2.0.0",
      "model_name": "ToggleButtonModel",
      "state": {
       "button_style": "primary",
       "icon": "folder-open",
       "layout": "IPY_MODEL_d33fb91844d84d0a912f485eab07aa65",
       "style": "IPY_MODEL_9f90cdcd17b149a7826b9fe733f2f452",
       "tooltip": "Open local vector/raster data"
      }
     },
     "7ae5e03aac9147458319153ee8612363": {
      "model_module": "jupyter-leaflet",
      "model_module_version": "^0.17",
      "model_name": "LeafletZoomControlModel",
      "state": {
       "_model_module_version": "^0.17",
       "_view_module_version": "^0.17",
       "options": [
        "position",
        "zoom_in_text",
        "zoom_in_title",
        "zoom_out_text",
        "zoom_out_title"
       ]
      }
     },
     "7ae960d7853f416cae34becac2da7561": {
      "model_module": "jupyter-leaflet",
      "model_module_version": "^0.17",
      "model_name": "LeafletMapModel",
      "state": {
       "_model_module_version": "^0.17",
       "_view_module_version": "^0.17",
       "center": [
        42.682,
        12.876
       ],
       "controls": [
        "IPY_MODEL_40a9a5d3f81d4d16860d878fd3c543f2",
        "IPY_MODEL_15cba674529f4023903edc52494983b2",
        "IPY_MODEL_4e0abf543cca4f0da41e74c064f441b7",
        "IPY_MODEL_5e1b790d592348e285e94f2374e261d0",
        "IPY_MODEL_6cff7c6c0b9d40c8bef8fb6ab35d1bc7",
        "IPY_MODEL_0cdf14f8b4af446c91437c946a0e0327",
        "IPY_MODEL_c40871f6ce8249a3891ed8c7ba8596a2",
        "IPY_MODEL_eaa0cdfb410240f2b37fc87fa4f84a45"
       ],
       "default_style": "IPY_MODEL_8ef9c9dfa7e54e1f983ce7abdc3293c9",
       "dragging_style": "IPY_MODEL_20d5530136f54ea7a52674b62e813ed4",
       "fullscreen": false,
       "interpolation": "bilinear",
       "layers": [
        "IPY_MODEL_15b51dbed46448c190166daebdf8eaed",
        "IPY_MODEL_acd12d9b78bc44beba200291a4c98ed2"
       ],
       "layout": "IPY_MODEL_af81d07a1baa42e8b0f37e66be4ca095",
       "max_zoom": 24,
       "modisdate": "2023-10-03",
       "options": [
        "bounce_at_zoom_limits",
        "box_zoom",
        "center",
        "close_popup_on_click",
        "double_click_zoom",
        "dragging",
        "fullscreen",
        "inertia",
        "inertia_deceleration",
        "inertia_max_speed",
        "interpolation",
        "keyboard",
        "keyboard_pan_offset",
        "keyboard_zoom_offset",
        "max_zoom",
        "min_zoom",
        "prefer_canvas",
        "scroll_wheel_zoom",
        "tap",
        "tap_tolerance",
        "touch_zoom",
        "world_copy_jump",
        "zoom",
        "zoom_animation_threshold",
        "zoom_delta",
        "zoom_snap"
       ],
       "prefer_canvas": false,
       "scroll_wheel_zoom": true,
       "style": "IPY_MODEL_96dedd42f1c940549d4cea4248c164ff",
       "window_url": "http://localhost:8888/lab/tree/02India_Analysis/2023October_PaperAnalysis.ipynb",
       "zoom": 5
      }
     },
     "7b22aa1cb1a242828faa0c3d10b66e72": {
      "model_module": "jupyter-leaflet",
      "model_module_version": "^0.17",
      "model_name": "LeafletZoomControlModel",
      "state": {
       "_model_module_version": "^0.17",
       "_view_module_version": "^0.17",
       "options": [
        "position",
        "zoom_in_text",
        "zoom_in_title",
        "zoom_out_text",
        "zoom_out_title"
       ]
      }
     },
     "7b494509bad74b66bacca7d87c18b424": {
      "model_module": "@jupyter-widgets/controls",
      "model_module_version": "2.0.0",
      "model_name": "ToggleButtonModel",
      "state": {
       "button_style": "primary",
       "icon": "eraser",
       "layout": "IPY_MODEL_57028f447210471db6f06a98cd92387b",
       "style": "IPY_MODEL_fdb75422b6f24d3c80880c69f4ca128d",
       "tooltip": "Remove all drawn features"
      }
     },
     "7b69b5134b3c441c9b9de13db50e04ec": {
      "model_module": "@jupyter-widgets/base",
      "model_module_version": "2.0.0",
      "model_name": "LayoutModel",
      "state": {
       "height": "auto",
       "padding": "0px 0px 0px 4px",
       "width": "auto"
      }
     },
     "7b91ce3b4d094f5eb50624b62b89a4a5": {
      "model_module": "@jupyter-widgets/base",
      "model_module_version": "2.0.0",
      "model_name": "LayoutModel",
      "state": {}
     },
     "7bb5103935b44ad0ada9a473ecc104fc": {
      "model_module": "@jupyter-widgets/base",
      "model_module_version": "2.0.0",
      "model_name": "LayoutModel",
      "state": {
       "max_width": "57px",
       "min_width": "57px"
      }
     },
     "7bc207e4101a41fe9daa480f076bba28": {
      "model_module": "@jupyter-widgets/controls",
      "model_module_version": "2.0.0",
      "model_name": "ToggleButtonStyleModel",
      "state": {
       "description_width": "",
       "font_family": null,
       "font_size": null,
       "font_style": null,
       "font_variant": null,
       "font_weight": null,
       "text_color": null,
       "text_decoration": null
      }
     },
     "7c1d9b97aee844a7b8146cbf610fa72a": {
      "model_module": "@jupyter-widgets/controls",
      "model_module_version": "2.0.0",
      "model_name": "ToggleButtonStyleModel",
      "state": {
       "description_width": "",
       "font_family": null,
       "font_size": null,
       "font_style": null,
       "font_variant": null,
       "font_weight": null,
       "text_color": null,
       "text_decoration": null
      }
     },
     "7c1f1d983e064cc2b05018e7b66e3e93": {
      "model_module": "@jupyter-widgets/controls",
      "model_module_version": "2.0.0",
      "model_name": "ToggleButtonStyleModel",
      "state": {
       "description_width": "",
       "font_family": null,
       "font_size": null,
       "font_style": null,
       "font_variant": null,
       "font_weight": null,
       "text_color": null,
       "text_decoration": null
      }
     },
     "7c23442383f54e809e84238b2182712e": {
      "model_module": "jupyter-leaflet",
      "model_module_version": "^0.17",
      "model_name": "LeafletTileLayerModel",
      "state": {
       "_model_module_version": "^0.17",
       "_view_module_version": "^0.17",
       "attribution": "&copy; <a href=\"https://www.openstreetmap.org/copyright\">OpenStreetMap</a> contributors",
       "base": true,
       "max_zoom": 19,
       "min_zoom": 1,
       "name": "OpenStreetMap.Mapnik",
       "options": [
        "attribution",
        "bounds",
        "detect_retina",
        "max_native_zoom",
        "max_zoom",
        "min_native_zoom",
        "min_zoom",
        "no_wrap",
        "tile_size",
        "tms",
        "zoom_offset"
       ],
       "url": "https://tile.openstreetmap.org/{z}/{x}/{y}.png"
      }
     },
     "7c2ecdf265734ad9bb4ed8271894e77d": {
      "model_module": "@jupyter-widgets/base",
      "model_module_version": "2.0.0",
      "model_name": "LayoutModel",
      "state": {
       "height": "auto",
       "padding": "0px 0px 0px 4px",
       "width": "auto"
      }
     },
     "7c4ff1b193d84206b143a0f2b5ac0471": {
      "model_module": "@jupyter-widgets/controls",
      "model_module_version": "2.0.0",
      "model_name": "BoxModel",
      "state": {
       "children": [
        "IPY_MODEL_7f0ade2423084c349dddc28877171210"
       ],
       "layout": "IPY_MODEL_89c0baa6545e47a5971b9646051c4476"
      }
     },
     "7ce4b08904d9474182477311c6da0b0c": {
      "model_module": "@jupyter-widgets/controls",
      "model_module_version": "2.0.0",
      "model_name": "ToggleButtonStyleModel",
      "state": {
       "description_width": "",
       "font_family": null,
       "font_size": null,
       "font_style": null,
       "font_variant": null,
       "font_weight": null,
       "text_color": null,
       "text_decoration": null
      }
     },
     "7ce7a82a36d441ad8e0c423ccfa801a9": {
      "model_module": "@jupyter-widgets/controls",
      "model_module_version": "2.0.0",
      "model_name": "RadioButtonsModel",
      "state": {
       "index": null,
       "layout": "IPY_MODEL_30018185dfb141ac91e0f4dcd7c963b2",
       "style": "IPY_MODEL_55e6855f2af5461189f564339c57d272"
      }
     },
     "7d16a4f282bc4f16879e4c23910f93c4": {
      "model_module": "ipyevents",
      "model_module_version": "2.0.1",
      "model_name": "EventModel",
      "state": {
       "_supported_key_events": [
        "keydown",
        "keyup"
       ],
       "_supported_mouse_events": [
        "click",
        "auxclick",
        "dblclick",
        "mouseenter",
        "mouseleave",
        "mousedown",
        "mouseup",
        "mousemove",
        "wheel",
        "contextmenu",
        "dragstart",
        "drag",
        "dragend",
        "dragenter",
        "dragover",
        "dragleave",
        "drop"
       ],
       "_supported_touch_events": [
        "touchstart",
        "touchend",
        "touchmove",
        "touchcancel"
       ],
       "_view_module": "@jupyter-widgets/controls",
       "source": "IPY_MODEL_01137c91d006455dbb8c8493ae9d3834",
       "throttle_or_debounce": "",
       "watched_events": [
        "mouseenter",
        "mouseleave"
       ],
       "xy_coordinate_system": ""
      }
     },
     "7d2b8c7d26da49db8856571656a48a25": {
      "model_module": "@jupyter-widgets/controls",
      "model_module_version": "2.0.0",
      "model_name": "ToggleButtonModel",
      "state": {
       "button_style": "primary",
       "icon": "random",
       "layout": "IPY_MODEL_890210dd41324d71a792aa85c4087264",
       "style": "IPY_MODEL_a92eb6c0572d4e47b16b23c3f4b890c8",
       "tooltip": "Sankey plots"
      }
     },
     "7d32b6c045454e3db35f449030c7ae41": {
      "model_module": "@jupyter-widgets/controls",
      "model_module_version": "2.0.0",
      "model_name": "ToggleButtonStyleModel",
      "state": {
       "description_width": "",
       "font_family": null,
       "font_size": null,
       "font_style": null,
       "font_variant": null,
       "font_weight": null,
       "text_color": null,
       "text_decoration": null
      }
     },
     "7d650c363a4842698d514390dc218780": {
      "model_module": "@jupyter-widgets/controls",
      "model_module_version": "2.0.0",
      "model_name": "ToggleButtonStyleModel",
      "state": {
       "description_width": "",
       "font_family": null,
       "font_size": null,
       "font_style": null,
       "font_variant": null,
       "font_weight": null,
       "text_color": null,
       "text_decoration": null
      }
     },
     "7d84b986d5244119874619a5d584f445": {
      "model_module": "@jupyter-widgets/controls",
      "model_module_version": "2.0.0",
      "model_name": "ToggleButtonStyleModel",
      "state": {
       "description_width": "",
       "font_family": null,
       "font_size": null,
       "font_style": null,
       "font_variant": null,
       "font_weight": null,
       "text_color": null,
       "text_decoration": null
      }
     },
     "7d8b794dafab4b2e856abc3d484398cd": {
      "model_module": "@jupyter-widgets/controls",
      "model_module_version": "2.0.0",
      "model_name": "ToggleButtonStyleModel",
      "state": {
       "description_width": "",
       "font_family": null,
       "font_size": null,
       "font_style": null,
       "font_variant": null,
       "font_weight": null,
       "text_color": null,
       "text_decoration": null
      }
     },
     "7d92e15b47cc4db383ca22d3718e88e1": {
      "model_module": "@jupyter-widgets/controls",
      "model_module_version": "2.0.0",
      "model_name": "ToggleButtonModel",
      "state": {
       "button_style": "primary",
       "icon": "bar-chart",
       "layout": "IPY_MODEL_f43d9d42e81845b2872b0a7fdce6cb3b",
       "style": "IPY_MODEL_7bc207e4101a41fe9daa480f076bba28",
       "tooltip": "Plotting"
      }
     },
     "7d99509a6de9444081d93d76a355e4bc": {
      "model_module": "@jupyter-widgets/controls",
      "model_module_version": "2.0.0",
      "model_name": "ToggleButtonModel",
      "state": {
       "icon": "wrench",
       "layout": "IPY_MODEL_7860d6ea2bd941d681552c021108d558",
       "style": "IPY_MODEL_7a54b9727f5a47d882f705669b25d54c",
       "tooltip": "Toolbar"
      }
     },
     "7da62a7b4fce42c0bfcdaef72f88e7e3": {
      "model_module": "jupyter-leaflet",
      "model_module_version": "^0.17",
      "model_name": "LeafletFullScreenControlModel",
      "state": {
       "_model_module_version": "^0.17",
       "_view_module_version": "^0.17",
       "options": [
        "position"
       ]
      }
     },
     "7db906f527524efeb8b52fb7c191f820": {
      "model_module": "@jupyter-widgets/controls",
      "model_module_version": "2.0.0",
      "model_name": "HBoxModel",
      "state": {
       "_view_count": 1,
       "children": [
        "IPY_MODEL_d2b55f24fa334792a666d720288f1376"
       ],
       "layout": "IPY_MODEL_f449f0c0c81244a189bb56d851ab9cba"
      }
     },
     "7dd8ecce3e05488fa3a3b67cbd829025": {
      "model_module": "jupyter-leaflet",
      "model_module_version": "^0.17",
      "model_name": "LeafletTileLayerModel",
      "state": {
       "_model_module_version": "^0.17",
       "_view_module_version": "^0.17",
       "attribution": "Google Earth Engine",
       "max_zoom": 24,
       "name": "New Delhi",
       "options": [
        "attribution",
        "bounds",
        "detect_retina",
        "max_native_zoom",
        "max_zoom",
        "min_native_zoom",
        "min_zoom",
        "no_wrap",
        "tile_size",
        "tms",
        "zoom_offset"
       ],
       "url": "https://earthengine.googleapis.com/v1/projects/earthengine-legacy/maps/00998ae602db08d60e1c5dc4acfc0fdb-e4b9d18b7d7375267e1235c91c8e059a/tiles/{z}/{x}/{y}"
      }
     },
     "7e83404ba8154254b17b26b8ae69b2d1": {
      "model_module": "@jupyter-widgets/controls",
      "model_module_version": "2.0.0",
      "model_name": "ButtonModel",
      "state": {
       "description": "Cancel",
       "layout": "IPY_MODEL_16e551830c774b95821530a47d151b72",
       "style": "IPY_MODEL_f87102c7ca424cc1a5c8e31a385c80e2",
       "tooltip": null
      }
     },
     "7e94595b001244aca21d73c13805eb8a": {
      "model_module": "jupyter-leaflet",
      "model_module_version": "^0.17",
      "model_name": "LeafletMeasureControlModel",
      "state": {
       "_model_module_version": "^0.17",
       "_view_module_version": "^0.17",
       "active_color": "orange",
       "options": [
        "active_color",
        "capture_z_index",
        "completed_color",
        "popup_options",
        "position",
        "primary_area_unit",
        "primary_length_unit",
        "secondary_area_unit",
        "secondary_length_unit"
       ],
       "position": "bottomleft",
       "primary_length_unit": "kilometers",
       "secondary_area_unit": null,
       "secondary_length_unit": null
      }
     },
     "7eac29f9152c4868b439223a26d3f5e8": {
      "model_module": "ipyevents",
      "model_module_version": "2.0.1",
      "model_name": "EventModel",
      "state": {
       "_supported_key_events": [
        "keydown",
        "keyup"
       ],
       "_supported_mouse_events": [
        "click",
        "auxclick",
        "dblclick",
        "mouseenter",
        "mouseleave",
        "mousedown",
        "mouseup",
        "mousemove",
        "wheel",
        "contextmenu",
        "dragstart",
        "drag",
        "dragend",
        "dragenter",
        "dragover",
        "dragleave",
        "drop"
       ],
       "_supported_touch_events": [
        "touchstart",
        "touchend",
        "touchmove",
        "touchcancel"
       ],
       "_view_module": "@jupyter-widgets/controls",
       "source": "IPY_MODEL_8d0275eb87ab4c52b48fe6a1bfd52461",
       "throttle_or_debounce": "",
       "watched_events": [
        "mouseenter",
        "mouseleave"
       ],
       "xy_coordinate_system": ""
      }
     },
     "7ec55f9ae4f943d09f7fcda3d2c4cf78": {
      "model_module": "@jupyter-widgets/base",
      "model_module_version": "2.0.0",
      "model_name": "LayoutModel",
      "state": {
       "height": "28px",
       "padding": "0px 0px 0px 4px",
       "width": "28px"
      }
     },
     "7ecaac75977940e5be86e5c47c80d60d": {
      "model_module": "@jupyter-widgets/controls",
      "model_module_version": "2.0.0",
      "model_name": "ToggleButtonModel",
      "state": {
       "icon": "server",
       "layout": "IPY_MODEL_a140c51dbb2647e6bbfefcdf26fb179d",
       "style": "IPY_MODEL_faa734f553904eb98a7ed1256d98b234",
       "tooltip": "Layers"
      }
     },
     "7f0ade2423084c349dddc28877171210": {
      "model_module": "@jupyter-widgets/controls",
      "model_module_version": "2.0.0",
      "model_name": "HTMLModel",
      "state": {
       "layout": "IPY_MODEL_f85e5a7603394dc5aa7539d8298b9528",
       "placeholder": "",
       "style": "IPY_MODEL_a9c85e017fc24a4f89cd0387c53e8598",
       "value": "<span style=\"color:black;\">No selection</span>"
      }
     },
     "7f210498a14b4d8da081d98490f18a9f": {
      "model_module": "@jupyter-widgets/controls",
      "model_module_version": "2.0.0",
      "model_name": "ToggleButtonsModel",
      "state": {
       "_options_labels": [
        "name/address",
        "lat-lon",
        "data"
       ],
       "button_style": "",
       "icons": [],
       "index": 0,
       "layout": "IPY_MODEL_56ec5375804a497c8c9d0d89ac28bbbc",
       "style": "IPY_MODEL_90be5b251be94acf829ef3ae2b0109f3",
       "tooltips": [
        "Search by place name or address",
        "Search by lat-lon coordinates",
        "Search Earth Engine data catalog"
       ]
      }
     },
     "7f346dc83ddc48be993ee83e05cc6d37": {
      "model_module": "@jupyter-widgets/base",
      "model_module_version": "2.0.0",
      "model_name": "LayoutModel",
      "state": {
       "height": "auto",
       "padding": "0px 0px 0px 4px",
       "width": "auto"
      }
     },
     "7f3eec8d697c4d8ab3616bebcad3709b": {
      "model_module": "@jupyter-widgets/base",
      "model_module_version": "2.0.0",
      "model_name": "LayoutModel",
      "state": {
       "height": "auto",
       "padding": "0px 0px 0px 4px",
       "width": "auto"
      }
     },
     "7fa2759621ca4c0697604afd97d055b9": {
      "model_module": "@jupyter-widgets/controls",
      "model_module_version": "2.0.0",
      "model_name": "ToggleButtonModel",
      "state": {
       "button_style": "primary",
       "icon": "info-circle",
       "layout": "IPY_MODEL_47e4ef49ead24e3cb33aa37b480896d5",
       "style": "IPY_MODEL_34581e8d5fe0432e851f7588e61cf024",
       "tooltip": "Get COG/STAC pixel value"
      }
     },
     "7faa24713c0f49da99280a4e7b0aa627": {
      "model_module": "@jupyter-widgets/controls",
      "model_module_version": "2.0.0",
      "model_name": "ToggleButtonModel",
      "state": {
       "button_style": "primary",
       "icon": "map",
       "layout": "IPY_MODEL_cbc561fc551044acbb07e12cb535f38c",
       "style": "IPY_MODEL_d9943ac081ba48d69bf42c952f768c34",
       "tooltip": "Change basemap"
      }
     },
     "7fcbf752413c40fe91fc9999b7034455": {
      "model_module": "jupyter-leaflet",
      "model_module_version": "^0.17",
      "model_name": "LeafletMapStyleModel",
      "state": {
       "_model_module_version": "^0.17",
       "cursor": "move"
      }
     },
     "7fd7914dc3044031b1d5a48fa8d97dae": {
      "model_module": "@jupyter-widgets/controls",
      "model_module_version": "2.0.0",
      "model_name": "ToggleButtonModel",
      "state": {
       "icon": "wrench",
       "layout": "IPY_MODEL_d2497d119dcd496899753845ccc92c47",
       "style": "IPY_MODEL_dca65502951c4f1cbe8cba47f97d96cd",
       "tooltip": "Toolbar"
      }
     },
     "7fdec816bb704972af3ba72383ec84f2": {
      "model_module": "@jupyter-widgets/controls",
      "model_module_version": "2.0.0",
      "model_name": "HBoxModel",
      "state": {
       "children": [
        "IPY_MODEL_88edbbb8fa8f40348ba4623adeef5ea6",
        "IPY_MODEL_efe6162c4d384aaf9cd81248657757f3"
       ],
       "layout": "IPY_MODEL_cd74aecca8a242bb92c3a3cef7c60e1d"
      }
     },
     "802185ac2d8648bcb0a9947c57ee4344": {
      "model_module": "jupyter-leaflet",
      "model_module_version": "^0.17",
      "model_name": "LeafletWidgetControlModel",
      "state": {
       "_model_module": "jupyter-leaflet",
       "_model_module_version": "^0.17",
       "_view_count": null,
       "_view_module": "jupyter-leaflet",
       "_view_module_version": "^0.17",
       "options": [
        "position",
        "transparent_bg"
       ],
       "position": "topright",
       "widget": "IPY_MODEL_e7cef3f6d8584f808041222b11c917d2"
      }
     },
     "8025e824d2704346bdb91000f3d035a6": {
      "model_module": "jupyter-leaflet",
      "model_module_version": "^0.17",
      "model_name": "LeafletTileLayerModel",
      "state": {
       "_model_module_version": "^0.17",
       "_view_module_version": "^0.17",
       "attribution": "Google",
       "max_zoom": 24,
       "name": "Google Maps",
       "options": [
        "attribution",
        "bounds",
        "detect_retina",
        "max_native_zoom",
        "max_zoom",
        "min_native_zoom",
        "min_zoom",
        "no_wrap",
        "tile_size",
        "tms",
        "zoom_offset"
       ],
       "url": "https://mt1.google.com/vt/lyrs=m&x={x}&y={y}&z={z}"
      }
     },
     "806110f0b44e4ac093dc4f16531e7433": {
      "model_module": "jupyter-leaflet",
      "model_module_version": "^0.17",
      "model_name": "LeafletMapStyleModel",
      "state": {
       "_model_module_version": "^0.17"
      }
     },
     "80885a50a83246f8896ea14f0023f116": {
      "model_module": "@jupyter-widgets/controls",
      "model_module_version": "2.0.0",
      "model_name": "ToggleButtonStyleModel",
      "state": {
       "description_width": "",
       "font_family": null,
       "font_size": null,
       "font_style": null,
       "font_variant": null,
       "font_weight": null,
       "text_color": null,
       "text_decoration": null
      }
     },
     "80974d22cedc423bb8428ba01e6e88d0": {
      "model_module": "@jupyter-widgets/base",
      "model_module_version": "2.0.0",
      "model_name": "LayoutModel",
      "state": {
       "height": "auto",
       "padding": "0px 0px 0px 4px",
       "width": "auto"
      }
     },
     "8099a0c48dc54c1fbe41e3c04bfd79d5": {
      "model_module": "ipyevents",
      "model_module_version": "2.0.1",
      "model_name": "EventModel",
      "state": {
       "_supported_key_events": [
        "keydown",
        "keyup"
       ],
       "_supported_mouse_events": [
        "click",
        "auxclick",
        "dblclick",
        "mouseenter",
        "mouseleave",
        "mousedown",
        "mouseup",
        "mousemove",
        "wheel",
        "contextmenu",
        "dragstart",
        "drag",
        "dragend",
        "dragenter",
        "dragover",
        "dragleave",
        "drop"
       ],
       "_supported_touch_events": [
        "touchstart",
        "touchend",
        "touchmove",
        "touchcancel"
       ],
       "_view_module": "@jupyter-widgets/controls",
       "source": "IPY_MODEL_17b485d9432044c5894139fc2dcf22ba",
       "throttle_or_debounce": "",
       "watched_events": [
        "mouseenter",
        "mouseleave"
       ],
       "xy_coordinate_system": ""
      }
     },
     "80c008ed36c34cecbab9195642d0d97d": {
      "model_module": "@jupyter-widgets/controls",
      "model_module_version": "2.0.0",
      "model_name": "HTMLModel",
      "state": {
       "layout": "IPY_MODEL_91715b1280c84673be96332993fd6300",
       "style": "IPY_MODEL_1c5c045261cd4149a66023d587eae87a"
      }
     },
     "80ee1aa14b0a4936b39397c3473109b8": {
      "model_module": "jupyter-leaflet",
      "model_module_version": "^0.17",
      "model_name": "LeafletLayersControlModel",
      "state": {
       "_model_module_version": "^0.17",
       "_view_module_version": "^0.17",
       "options": [
        "position"
       ],
       "position": "topright"
      }
     },
     "80eee2beea774190b5b75c2d2b7eb498": {
      "model_module": "@jupyter-widgets/controls",
      "model_module_version": "2.0.0",
      "model_name": "VBoxModel",
      "state": {
       "_view_count": 0,
       "children": [
        "IPY_MODEL_57b77f626a784651af6c3b22805dfebc"
       ],
       "layout": "IPY_MODEL_c2dd5260506f490386ba3abdf6a34731"
      }
     },
     "80f5f0bd6fd148a9b45648c8b7728b1b": {
      "model_module": "@jupyter-widgets/controls",
      "model_module_version": "2.0.0",
      "model_name": "ToggleButtonModel",
      "state": {
       "icon": "gear",
       "layout": "IPY_MODEL_01d99d560931499dbf3b33d40e796823",
       "style": "IPY_MODEL_215cf6104f754ae485efd48eba62b563",
       "tooltip": "Buffer Around Delhi (Outside)"
      }
     },
     "82142ae630a54c4fb8c8e36a584a630b": {
      "model_module": "jupyter-leaflet",
      "model_module_version": "^0.17",
      "model_name": "LeafletMapStyleModel",
      "state": {
       "_model_module_version": "^0.17"
      }
     },
     "82240975819246eba762dbfbb4bbf444": {
      "model_module": "@jupyter-widgets/controls",
      "model_module_version": "2.0.0",
      "model_name": "ToggleButtonModel",
      "state": {
       "icon": "globe",
       "layout": "IPY_MODEL_6b2b4f8c484e4640b3438b9b9a415ddf",
       "style": "IPY_MODEL_986c9d2f38fb4f498e749500449cd82a",
       "tooltip": "Search location/data"
      }
     },
     "82260f253ed44a6a92cf33dafb469ee8": {
      "model_module": "jupyter-leaflet",
      "model_module_version": "^0.17",
      "model_name": "LeafletTileLayerModel",
      "state": {
       "_model_module_version": "^0.17",
       "_view_module_version": "^0.17",
       "attribution": "Google Earth Engine",
       "max_zoom": 24,
       "name": "Administrative 2 Regions Surrounding Delhi",
       "options": [
        "attribution",
        "bounds",
        "detect_retina",
        "max_native_zoom",
        "max_zoom",
        "min_native_zoom",
        "min_zoom",
        "no_wrap",
        "tile_size",
        "tms",
        "zoom_offset"
       ],
       "url": "https://earthengine.googleapis.com/v1/projects/earthengine-legacy/maps/883cf9bc1c39191675a0f1d39a6fbba8-7b1f4b344f65035052cdf90b4961409b/tiles/{z}/{x}/{y}"
      }
     },
     "82958dba14f849d1a2ba306d5cd9cac5": {
      "model_module": "@jupyter-widgets/base",
      "model_module_version": "2.0.0",
      "model_name": "LayoutModel",
      "state": {}
     },
     "82c139d72c4d43b6873f629cc304ede0": {
      "model_module": "@jupyter-widgets/base",
      "model_module_version": "2.0.0",
      "model_name": "LayoutModel",
      "state": {
       "max_width": "279px",
       "min_width": "279px"
      }
     },
     "82d7583062474011a317e31033e8b729": {
      "model_module": "@jupyter-widgets/base",
      "model_module_version": "2.0.0",
      "model_name": "LayoutModel",
      "state": {
       "grid_area": "pathlist",
       "width": "auto"
      }
     },
     "8349f63f848749b5ae5405a5051f6b46": {
      "model_module": "jupyter-leaflet",
      "model_module_version": "^0.17",
      "model_name": "LeafletMapStyleModel",
      "state": {
       "_model_module_version": "^0.17",
       "cursor": "move"
      }
     },
     "834bba88a833404b8a3233457312ce5e": {
      "model_module": "@jupyter-widgets/base",
      "model_module_version": "2.0.0",
      "model_name": "LayoutModel",
      "state": {
       "grid_gap": "1px 1px",
       "grid_template_columns": "32px 32px 32px ",
       "grid_template_rows": "32px 32px ",
       "padding": "5px",
       "width": "109px"
      }
     },
     "837a97ff318247eab53ecbc176c4a6f6": {
      "model_module": "@jupyter-widgets/controls",
      "model_module_version": "2.0.0",
      "model_name": "RadioButtonsModel",
      "state": {
       "index": null,
       "layout": "IPY_MODEL_a629bf57342c428fa98719083d8e6796",
       "style": "IPY_MODEL_4892acbc5c2e4507b9a35db2046ea282"
      }
     },
     "83a0ce367a5e4ec682f8c1cdfe933fbf": {
      "model_module": "@jupyter-widgets/controls",
      "model_module_version": "2.0.0",
      "model_name": "ToggleButtonStyleModel",
      "state": {
       "description_width": "",
       "font_family": null,
       "font_size": null,
       "font_style": null,
       "font_variant": null,
       "font_weight": null,
       "text_color": null,
       "text_decoration": null
      }
     },
     "8408178c7ebd4726948808df078e9681": {
      "model_module": "@jupyter-widgets/base",
      "model_module_version": "2.0.0",
      "model_name": "LayoutModel",
      "state": {}
     },
     "844f06bc37ff4479b1bbc9b65365ed84": {
      "model_module": "@jupyter-widgets/controls",
      "model_module_version": "2.0.0",
      "model_name": "ToggleButtonModel",
      "state": {
       "button_style": "primary",
       "icon": "random",
       "layout": "IPY_MODEL_1d8a3db95b06452592f7b524240e7071",
       "style": "IPY_MODEL_1817ec68a20f4ca583fbbb433e79ce7c",
       "tooltip": "Sankey plots"
      }
     },
     "84a37a65e5db48f5bdac246f07dae3c3": {
      "model_module": "@jupyter-widgets/controls",
      "model_module_version": "2.0.0",
      "model_name": "GridBoxModel",
      "state": {
       "children": [
        "IPY_MODEL_dbdd97b87e3e4f97a560f82d54e7367d",
        "IPY_MODEL_391a8400fba84b7983af1999a7fbb938",
        "IPY_MODEL_12977de4a684440eb0a1b179cb9921f7",
        "IPY_MODEL_4587336e6b5346789c185c29f3f57d24",
        "IPY_MODEL_c261dd9c0289451886115ce67f60c5f8",
        "IPY_MODEL_ff5fa9583b25483d98aed69101cb27ba",
        "IPY_MODEL_57c5653344a24e82843873c63c984ef0",
        "IPY_MODEL_13938e6689494d0cae36122e77a873df",
        "IPY_MODEL_fcb3bb499307434688fb00631f75c8ec",
        "IPY_MODEL_cda1ccf0954a4782a65d0be46197130c",
        "IPY_MODEL_2f5b918bbdad4417834639f266dfd6a1",
        "IPY_MODEL_53ca495c89024338944cee62b03ede89",
        "IPY_MODEL_0f36c229d3bf4d8f8e9db2bcf21f8f60",
        "IPY_MODEL_2160868589ce427cb06efefe74068f5e",
        "IPY_MODEL_ecc99d007a7c463baeef70c178e93f60"
       ],
       "layout": "IPY_MODEL_f6ef386da6a14dc786b5345cb65e1147"
      }
     },
     "84b12869cc604879a39a0d8b3e2a34d6": {
      "model_module": "@jupyter-widgets/base",
      "model_module_version": "2.0.0",
      "model_name": "LayoutModel",
      "state": {
       "height": "auto",
       "padding": "0px 0px 0px 4px",
       "width": "auto"
      }
     },
     "84b76b409c3d4ba184b3e87823cb5d0f": {
      "model_module": "@jupyter-widgets/base",
      "model_module_version": "2.0.0",
      "model_name": "LayoutModel",
      "state": {
       "height": "28px",
       "padding": "0px 0px 0px 4px",
       "width": "28px"
      }
     },
     "84c879fe71884b269eb76198530238dc": {
      "model_module": "@jupyter-widgets/base",
      "model_module_version": "2.0.0",
      "model_name": "LayoutModel",
      "state": {
       "height": "auto",
       "padding": "0px 0px 0px 4px",
       "width": "auto"
      }
     },
     "8508c094d1e34f71845dc07d7a020ace": {
      "model_module": "jupyter-leaflet",
      "model_module_version": "^0.17",
      "model_name": "LeafletMapModel",
      "state": {
       "_model_module_version": "^0.17",
       "_view_module_version": "^0.17",
       "center": [
        28.647210004919998,
        77.11303710937501
       ],
       "controls": [
        "IPY_MODEL_413686ae832f4e40a990f535ca1658f6",
        "IPY_MODEL_c66822628c6c49d1a652cc120c5f80b6",
        "IPY_MODEL_cb7d90e44ee74770afb2ce870dadd68a",
        "IPY_MODEL_65007413030440b4bbfe2e096f271a18",
        "IPY_MODEL_d5291ea1236549ad8c7a5f9f19ec2b00",
        "IPY_MODEL_14dda0e9a5f140eda2b17d11293d2dcb",
        "IPY_MODEL_38a9100dcb2944f2a01a9f19e90ab20e",
        "IPY_MODEL_e0f7cc8af2124a58a2c1965a71f9af81",
        "IPY_MODEL_527d748ef04a4879840837d3d38fcad5"
       ],
       "default_style": "IPY_MODEL_30f454f9ea0b485681418136db29e8e1",
       "dragging_style": "IPY_MODEL_7fcbf752413c40fe91fc9999b7034455",
       "east": null,
       "fullscreen": false,
       "interpolation": "bilinear",
       "layers": [
        "IPY_MODEL_89a62301d8514c60991216eb9d81063d",
        "IPY_MODEL_172df0b8dde54cb5a9e5d2b9b4d402bb",
        "IPY_MODEL_3897284a226e4808856e83570c3a2600",
        "IPY_MODEL_098d8d39f22d46149cc0c73308206b17",
        "IPY_MODEL_29e05937799145b8a66a35f735a3d741"
       ],
       "layout": "IPY_MODEL_cffa61bbf3fe41c3952182b11e5d4e28",
       "max_zoom": 24,
       "modisdate": "2023-10-03",
       "north": -90,
       "options": [
        "bounce_at_zoom_limits",
        "box_zoom",
        "center",
        "close_popup_on_click",
        "double_click_zoom",
        "dragging",
        "fullscreen",
        "inertia",
        "inertia_deceleration",
        "inertia_max_speed",
        "interpolation",
        "keyboard",
        "keyboard_pan_offset",
        "keyboard_zoom_offset",
        "max_zoom",
        "min_zoom",
        "prefer_canvas",
        "scroll_wheel_zoom",
        "tap",
        "tap_tolerance",
        "touch_zoom",
        "world_copy_jump",
        "zoom",
        "zoom_animation_threshold",
        "zoom_delta",
        "zoom_snap"
       ],
       "prefer_canvas": false,
       "scroll_wheel_zoom": true,
       "south": 90,
       "style": "IPY_MODEL_30f454f9ea0b485681418136db29e8e1",
       "west": null,
       "window_url": "http://localhost:8888/lab/tree/02India_Analysis/2023October_PaperAnalysis.ipynb",
       "zoom": 8
      }
     },
     "8509b769916d4240bd1888be612ca2c5": {
      "model_module": "@jupyter-widgets/controls",
      "model_module_version": "2.0.0",
      "model_name": "ToggleButtonStyleModel",
      "state": {
       "description_width": "",
       "font_family": null,
       "font_size": null,
       "font_style": null,
       "font_variant": null,
       "font_weight": null,
       "text_color": null,
       "text_decoration": null
      }
     },
     "85205b8b0c6441a48092d4b2ff4d9ac1": {
      "model_module": "jupyter-leaflet",
      "model_module_version": "^0.17",
      "model_name": "LeafletDrawControlModel",
      "state": {
       "_model_module_version": "^0.17",
       "_view_module_version": "^0.17",
       "marker": {
        "shapeOptions": {
         "color": "#3388ff"
        }
       },
       "options": [
        "position"
       ],
       "polygon": {
        "shapeOptions": {
         "clickable": true,
         "color": "#3388ff",
         "fill": true,
         "fillColor": null,
         "fillOpacity": 0.2,
         "opacity": 0.5,
         "stroke": true,
         "weight": 4
        }
       },
       "polyline": {
        "shapeOptions": {
         "clickable": true,
         "color": "#3388ff",
         "fill": false,
         "opacity": 0.5,
         "stroke": true,
         "weight": 4
        }
       },
       "rectangle": {
        "shapeOptions": {
         "clickable": true,
         "color": "#3388ff",
         "fill": true,
         "fillColor": null,
         "fillOpacity": 0.2,
         "opacity": 0.5,
         "stroke": true,
         "weight": 4
        }
       }
      }
     },
     "856e38767501432a8c0d0ca50e7333c4": {
      "model_module": "@jupyter-widgets/controls",
      "model_module_version": "2.0.0",
      "model_name": "HTMLStyleModel",
      "state": {
       "description_width": "",
       "font_size": null,
       "text_color": null
      }
     },
     "859ac43e52ac4b74a3f212a830d5a2c8": {
      "model_module": "@jupyter-widgets/base",
      "model_module_version": "2.0.0",
      "model_name": "LayoutModel",
      "state": {
       "max_height": "350px",
       "max_width": "340px",
       "overflow": "scroll"
      }
     },
     "859d1fb680884ef5999b84154bab5eae": {
      "model_module": "@jupyter-widgets/controls",
      "model_module_version": "2.0.0",
      "model_name": "GridBoxModel",
      "state": {
       "children": [
        "IPY_MODEL_e8b4b895403e4f5ea481509dc89eac64",
        "IPY_MODEL_c5a5e0ed1a56493a8f6828ddc053cb37",
        "IPY_MODEL_60f7d10d498a4a938d45964e2ded9d25"
       ],
       "layout": "IPY_MODEL_df9060236c3b460696c854a249870e1f"
      }
     },
     "85ad85688a5649e4b4d4f9f5ab2ef111": {
      "model_module": "@jupyter-widgets/controls",
      "model_module_version": "2.0.0",
      "model_name": "DescriptionStyleModel",
      "state": {
       "description_width": ""
      }
     },
     "8614581c9b514d57b56cc7555ed96641": {
      "model_module": "@jupyter-widgets/controls",
      "model_module_version": "2.0.0",
      "model_name": "CheckboxModel",
      "state": {
       "description": "Second Level Administrative Units",
       "disabled": false,
       "indent": false,
       "layout": "IPY_MODEL_f21ab972615040c09bd99102fc866348",
       "style": "IPY_MODEL_6967ce42e1c94cff942f58ff725f5bff",
       "value": true
      }
     },
     "861f6e14812c4673bf07ea606454565b": {
      "model_module": "@jupyter-widgets/controls",
      "model_module_version": "2.0.0",
      "model_name": "DropdownModel",
      "state": {
       "index": null,
       "layout": "IPY_MODEL_8a5e1260dfcd4c3194ae7f2987ad90e5",
       "style": "IPY_MODEL_c963af68c58e47adb7cfc3c6e6f336c6"
      }
     },
     "86252864cab9452b97acbb58d4243a1c": {
      "model_module": "@jupyter-widgets/controls",
      "model_module_version": "2.0.0",
      "model_name": "ToggleButtonsStyleModel",
      "state": {
       "button_width": "110px",
       "description_width": ""
      }
     },
     "862ee813e356497d8ad3c54604775242": {
      "model_module": "@jupyter-widgets/base",
      "model_module_version": "2.0.0",
      "model_name": "LayoutModel",
      "state": {
       "height": "auto",
       "padding": "0px 0px 0px 4px",
       "width": "auto"
      }
     },
     "8659e4af28064d7988fe8e85c7cafd21": {
      "model_module": "jupyter-leaflet",
      "model_module_version": "^0.17",
      "model_name": "LeafletAttributionControlModel",
      "state": {
       "_model_module_version": "^0.17",
       "_view_module_version": "^0.17",
       "options": [
        "position",
        "prefix"
       ],
       "position": "bottomright",
       "prefix": "ipyleaflet"
      }
     },
     "8681135a6be24f999ee6189f5a08e7bf": {
      "model_module": "@jupyter-widgets/controls",
      "model_module_version": "2.0.0",
      "model_name": "ToggleButtonModel",
      "state": {
       "button_style": "primary",
       "icon": "random",
       "layout": "IPY_MODEL_59b194f1b796417989332f81cecbc0af",
       "style": "IPY_MODEL_d32eacee374d4b7d9109a18bca9f70d7",
       "tooltip": "Sankey plots"
      }
     },
     "8681cdfb430d4c8db20e49e86b9fe58f": {
      "model_module": "@jupyter-widgets/controls",
      "model_module_version": "2.0.0",
      "model_name": "ButtonStyleModel",
      "state": {
       "font_family": null,
       "font_size": null,
       "font_style": null,
       "font_variant": null,
       "font_weight": null,
       "text_color": null,
       "text_decoration": null
      }
     },
     "86cbb67ca36e4b529c0b9ab3b996e65b": {
      "model_module": "jupyter-leaflet",
      "model_module_version": "^0.17",
      "model_name": "LeafletTileLayerModel",
      "state": {
       "_model_module_version": "^0.17",
       "_view_module_version": "^0.17",
       "attribution": "Google",
       "max_zoom": 24,
       "name": "Google Maps",
       "options": [
        "attribution",
        "bounds",
        "detect_retina",
        "max_native_zoom",
        "max_zoom",
        "min_native_zoom",
        "min_zoom",
        "no_wrap",
        "tile_size",
        "tms",
        "zoom_offset"
       ],
       "url": "https://mt1.google.com/vt/lyrs=m&x={x}&y={y}&z={z}"
      }
     },
     "86fcce55280a4e01ab67890dead68e7f": {
      "model_module": "@jupyter-widgets/base",
      "model_module_version": "2.0.0",
      "model_name": "LayoutModel",
      "state": {
       "height": "auto",
       "padding": "0px 0px 0px 4px",
       "width": "auto"
      }
     },
     "8764f9ea4b83492a8b2b8bc5df9e1782": {
      "model_module": "@jupyter-widgets/controls",
      "model_module_version": "2.0.0",
      "model_name": "ToggleButtonModel",
      "state": {
       "button_style": "primary",
       "icon": "adjust",
       "layout": "IPY_MODEL_84c879fe71884b269eb76198530238dc",
       "style": "IPY_MODEL_20e39cbc33a7472aa817c029ea57f7de",
       "tooltip": "Planet imagery"
      }
     },
     "878827cd0427444eaa3c901a23946cf7": {
      "model_module": "@jupyter-widgets/base",
      "model_module_version": "2.0.0",
      "model_name": "LayoutModel",
      "state": {
       "max_width": "410px",
       "width": "500px"
      }
     },
     "878ce2acf7f44d3f8f8dca151efbdb20": {
      "model_module": "@jupyter-widgets/controls",
      "model_module_version": "2.0.0",
      "model_name": "TextStyleModel",
      "state": {
       "description_width": "",
       "font_size": null,
       "text_color": null
      }
     },
     "878f75ca1b564c0a9a86dc62d4a40eef": {
      "model_module": "@jupyter-widgets/base",
      "model_module_version": "2.0.0",
      "model_name": "LayoutModel",
      "state": {
       "height": "auto",
       "padding": "0px 0px 0px 4px",
       "width": "auto"
      }
     },
     "87c5f790a4254dab8325a5c427a1bd3b": {
      "model_module": "@jupyter-widgets/controls",
      "model_module_version": "2.0.0",
      "model_name": "ToggleButtonModel",
      "state": {
       "button_style": "primary",
       "icon": "fast-forward",
       "layout": "IPY_MODEL_cf873fe798e74d39923e93ad26056a50",
       "style": "IPY_MODEL_2c2a410f2c7f4f0988b21ec8c7faebd2",
       "tooltip": "Activate timeslider"
      }
     },
     "87e7b86a76b94d89919536ee03ca2e42": {
      "model_module": "@jupyter-widgets/base",
      "model_module_version": "2.0.0",
      "model_name": "LayoutModel",
      "state": {
       "height": "auto",
       "padding": "0px 0px 0px 4px",
       "width": "auto"
      }
     },
     "87fe1bc438914e97944ab0bd3a75cc61": {
      "model_module": "@jupyter-widgets/base",
      "model_module_version": "2.0.0",
      "model_name": "LayoutModel",
      "state": {}
     },
     "883d066b9c0a478095be3fe36b2f39aa": {
      "model_module": "@jupyter-widgets/base",
      "model_module_version": "2.0.0",
      "model_name": "LayoutModel",
      "state": {
       "height": "auto",
       "padding": "0px 0px 0px 4px",
       "width": "auto"
      }
     },
     "888516ed6f054e038bf58dc1774683ff": {
      "model_module": "@jupyter-widgets/base",
      "model_module_version": "2.0.0",
      "model_name": "LayoutModel",
      "state": {
       "height": "auto",
       "padding": "0px 0px 0px 4px",
       "width": "auto"
      }
     },
     "88bba58bdcab470cb3f19fbb7f48809c": {
      "model_module": "@jupyter-widgets/controls",
      "model_module_version": "2.0.0",
      "model_name": "CheckboxModel",
      "state": {
       "description": "Administrative 2 Regions Surrounding Delhi",
       "disabled": false,
       "indent": false,
       "layout": "IPY_MODEL_a5e4cb73dd9d4e9a995902fd2580c214",
       "style": "IPY_MODEL_14d3607ea1d749a3ae83becbbaec17f9",
       "value": true
      }
     },
     "88cbb292a819431eb8446e0d8b777dcc": {
      "model_module": "@jupyter-widgets/base",
      "model_module_version": "2.0.0",
      "model_name": "LayoutModel",
      "state": {
       "grid_area": "pathlist",
       "width": "auto"
      }
     },
     "88edbbb8fa8f40348ba4623adeef5ea6": {
      "model_module": "@jupyter-widgets/controls",
      "model_module_version": "2.0.0",
      "model_name": "ButtonModel",
      "state": {
       "button_style": "primary",
       "description": "import",
       "layout": "IPY_MODEL_112993dbc4db458596e3f2eb9eec93f8",
       "style": "IPY_MODEL_b96e4362962640229668823bda3fefb3",
       "tooltip": "Click to import the selected asset"
      }
     },
     "88efd20fb6884d0696a201b86d2220e0": {
      "model_module": "@jupyter-widgets/base",
      "model_module_version": "2.0.0",
      "model_name": "LayoutModel",
      "state": {
       "height": "auto",
       "padding": "0px 0px 0px 4px",
       "width": "auto"
      }
     },
     "88fc45b68b3d4d4ea126bc3033b02329": {
      "model_module": "@jupyter-widgets/controls",
      "model_module_version": "2.0.0",
      "model_name": "ToggleButtonModel",
      "state": {
       "button_style": "primary",
       "icon": "hand-o-up",
       "layout": "IPY_MODEL_7f346dc83ddc48be993ee83e05cc6d37",
       "style": "IPY_MODEL_f1311716ea8c44f6ac469c0a495017f4",
       "tooltip": "Collect training samples"
      }
     },
     "890210dd41324d71a792aa85c4087264": {
      "model_module": "@jupyter-widgets/base",
      "model_module_version": "2.0.0",
      "model_name": "LayoutModel",
      "state": {
       "height": "auto",
       "padding": "0px 0px 0px 4px",
       "width": "auto"
      }
     },
     "896af95ebc65443d9c5e45121dba60bc": {
      "model_module": "@jupyter-widgets/base",
      "model_module_version": "2.0.0",
      "model_name": "LayoutModel",
      "state": {
       "height": "auto",
       "padding": "0px 0px 0px 4px",
       "width": "auto"
      }
     },
     "897b58a78b514674aadfba6bf081941c": {
      "model_module": "@jupyter-widgets/controls",
      "model_module_version": "2.0.0",
      "model_name": "ToggleButtonModel",
      "state": {
       "button_style": "primary",
       "icon": "info-circle",
       "layout": "IPY_MODEL_80974d22cedc423bb8428ba01e6e88d0",
       "style": "IPY_MODEL_279b99b868ed44078c216f483f732c0d",
       "tooltip": "Get COG/STAC pixel value"
      }
     },
     "89a62301d8514c60991216eb9d81063d": {
      "model_module": "jupyter-leaflet",
      "model_module_version": "^0.17",
      "model_name": "LeafletTileLayerModel",
      "state": {
       "_model_module_version": "^0.17",
       "_view_module_version": "^0.17",
       "attribution": "&copy; <a href=\"https://www.openstreetmap.org/copyright\">OpenStreetMap</a> contributors",
       "base": true,
       "max_zoom": 19,
       "min_zoom": 1,
       "name": "OpenStreetMap.Mapnik",
       "options": [
        "attribution",
        "bounds",
        "detect_retina",
        "max_native_zoom",
        "max_zoom",
        "min_native_zoom",
        "min_zoom",
        "no_wrap",
        "tile_size",
        "tms",
        "zoom_offset"
       ],
       "url": "https://tile.openstreetmap.org/{z}/{x}/{y}.png"
      }
     },
     "89c0baa6545e47a5971b9646051c4476": {
      "model_module": "@jupyter-widgets/base",
      "model_module_version": "2.0.0",
      "model_name": "LayoutModel",
      "state": {
       "overflow": "auto"
      }
     },
     "89c6c8c5557f4cc49e40e515780fb3ee": {
      "model_module": "@jupyter-widgets/controls",
      "model_module_version": "2.0.0",
      "model_name": "ToggleButtonModel",
      "state": {
       "icon": "wrench",
       "layout": "IPY_MODEL_a3814e40029d48189b3be1c901717239",
       "style": "IPY_MODEL_414e7ad590b7400b833c2bcb13d19261",
       "tooltip": "Toolbar"
      }
     },
     "8a08457888ff492d84453983c6e6f323": {
      "model_module": "jupyter-leaflet",
      "model_module_version": "^0.17",
      "model_name": "LeafletDrawControlModel",
      "state": {
       "_model_module_version": "^0.17",
       "_view_module_version": "^0.17",
       "marker": {
        "shapeOptions": {
         "color": "#3388ff"
        }
       },
       "options": [
        "position"
       ],
       "rectangle": {
        "shapeOptions": {
         "color": "#3388ff"
        }
       }
      }
     },
     "8a3e0d1716df47aba8645ce9134b3e13": {
      "model_module": "@jupyter-widgets/controls",
      "model_module_version": "2.0.0",
      "model_name": "ToggleButtonModel",
      "state": {
       "button_style": "primary",
       "icon": "bar-chart",
       "layout": "IPY_MODEL_d975419651224519b6adc50a56c7de88",
       "style": "IPY_MODEL_55902db8ce66477d8d02595ce82ee16d",
       "tooltip": "Plotting"
      }
     },
     "8a5e1260dfcd4c3194ae7f2987ad90e5": {
      "model_module": "@jupyter-widgets/base",
      "model_module_version": "2.0.0",
      "model_name": "LayoutModel",
      "state": {
       "max_width": "279px",
       "min_width": "279px"
      }
     },
     "8a77642067174eb9a754257b313671c6": {
      "model_module": "jupyter-leaflet",
      "model_module_version": "^0.17",
      "model_name": "LeafletScaleControlModel",
      "state": {
       "_model_module_version": "^0.17",
       "_view_module_version": "^0.17",
       "imperial": true,
       "max_width": 100,
       "metric": true,
       "options": [
        "imperial",
        "max_width",
        "metric",
        "position",
        "update_when_idle"
       ],
       "position": "bottomleft",
       "update_when_idle": false
      }
     },
     "8a86feb0bb29453d9a455474e1c72ee0": {
      "model_module": "@jupyter-widgets/controls",
      "model_module_version": "2.0.0",
      "model_name": "ToggleButtonModel",
      "state": {
       "button_style": "primary",
       "icon": "fast-forward",
       "layout": "IPY_MODEL_78792ff2bc9944118898176fe8d5dccf",
       "style": "IPY_MODEL_15904aa8938047e1a4533eb236ebfbe3",
       "tooltip": "Activate timeslider"
      }
     },
     "8aa655994ca04da790c80f8f4306ef03": {
      "model_module": "@jupyter-widgets/controls",
      "model_module_version": "2.0.0",
      "model_name": "ToggleButtonStyleModel",
      "state": {
       "description_width": "",
       "font_family": null,
       "font_size": null,
       "font_style": null,
       "font_variant": null,
       "font_weight": null,
       "text_color": null,
       "text_decoration": null
      }
     },
     "8aafc745ce954bcaafc572f0b38af5c5": {
      "model_module": "@jupyter-widgets/base",
      "model_module_version": "2.0.0",
      "model_name": "LayoutModel",
      "state": {
       "height": "auto",
       "padding": "0px 0px 0px 4px",
       "width": "auto"
      }
     },
     "8ab9095d006d404b88ccb0364f3470bd": {
      "model_module": "@jupyter-widgets/controls",
      "model_module_version": "2.0.0",
      "model_name": "ToggleButtonModel",
      "state": {
       "button_style": "primary",
       "icon": "fast-forward",
       "layout": "IPY_MODEL_33a30ca57dd74bab87b3ead583f4779d",
       "style": "IPY_MODEL_1a964432ab3f40cdbe5badffbee14585",
       "tooltip": "Activate timeslider"
      }
     },
     "8ac4a4e1e0104a49b0ec9044cd95360a": {
      "model_module": "@jupyter-widgets/controls",
      "model_module_version": "2.0.0",
      "model_name": "ToggleButtonModel",
      "state": {
       "button_style": "primary",
       "icon": "random",
       "layout": "IPY_MODEL_acffbb3c8df54242b6b4323ca8d3118c",
       "style": "IPY_MODEL_79b3b9868cc44af1aae24c39494a4cad",
       "tooltip": "Sankey plots"
      }
     },
     "8ad4cd06df4e4e02991bd4f9a4ad366c": {
      "model_module": "@jupyter-widgets/controls",
      "model_module_version": "2.0.0",
      "model_name": "ToggleButtonModel",
      "state": {
       "button_style": "primary",
       "icon": "globe",
       "layout": "IPY_MODEL_9f34645a5bef419d93901e4db1ae755f",
       "style": "IPY_MODEL_8aa655994ca04da790c80f8f4306ef03",
       "tooltip": "Create timelapse"
      }
     },
     "8ae2399a203647e08414fb7064ca6c00": {
      "model_module": "@jupyter-widgets/controls",
      "model_module_version": "2.0.0",
      "model_name": "ToggleButtonModel",
      "state": {
       "button_style": "primary",
       "icon": "globe",
       "layout": "IPY_MODEL_4eb9a5578dc84a5fad8e87c40c1f5ed3",
       "style": "IPY_MODEL_48e06b28d8824c8d9996fa1bd7258ea3",
       "tooltip": "Create timelapse"
      }
     },
     "8b05cc833e1941f08969f69698c1347c": {
      "model_module": "@jupyter-widgets/controls",
      "model_module_version": "2.0.0",
      "model_name": "ToggleButtonModel",
      "state": {
       "button_style": "primary",
       "icon": "adjust",
       "layout": "IPY_MODEL_bdda108dbdc04aae9b20c506280d7f2f",
       "style": "IPY_MODEL_5089137b5625446b8d625aa9771fe2c3",
       "tooltip": "Planet imagery"
      }
     },
     "8b14d53cf2dd46388a525a3874ff296e": {
      "model_module": "@jupyter-widgets/controls",
      "model_module_version": "2.0.0",
      "model_name": "VBoxModel",
      "state": {
       "children": [
        "IPY_MODEL_50dab8a2a5654237adbcf6ee8450a777"
       ],
       "layout": "IPY_MODEL_ec28cf2622734a5ba0ac9d248f7472a7"
      }
     },
     "8b1b3a7737c44d0e8de5f0ff251e7509": {
      "model_module": "@jupyter-widgets/base",
      "model_module_version": "2.0.0",
      "model_name": "LayoutModel",
      "state": {}
     },
     "8b21a844d3144414918d9a9f838a2009": {
      "model_module": "@jupyter-widgets/base",
      "model_module_version": "2.0.0",
      "model_name": "LayoutModel",
      "state": {
       "height": "auto",
       "padding": "0px 0px 0px 4px",
       "width": "auto"
      }
     },
     "8b3585e4660b4f70bea811006c60d315": {
      "model_module": "@jupyter-widgets/controls",
      "model_module_version": "2.0.0",
      "model_name": "ToggleButtonModel",
      "state": {
       "button_style": "primary",
       "icon": "folder-open",
       "layout": "IPY_MODEL_0112ba8cbcec48739446e9f418ee7ec1",
       "style": "IPY_MODEL_35246a53eb974d0e96ad13ffef662e15",
       "tooltip": "Open local vector/raster data"
      }
     },
     "8b3bc584545847dca62be185ad283fd4": {
      "model_module": "@jupyter-widgets/base",
      "model_module_version": "2.0.0",
      "model_name": "LayoutModel",
      "state": {
       "height": "auto",
       "padding": "0px 0px 0px 4px",
       "width": "auto"
      }
     },
     "8b3f39bbd74f47f2854db07221f0e828": {
      "model_module": "@jupyter-widgets/base",
      "model_module_version": "2.0.0",
      "model_name": "LayoutModel",
      "state": {}
     },
     "8b51af0fc4484c20bd02b6c0892bfce7": {
      "model_module": "@jupyter-widgets/base",
      "model_module_version": "2.0.0",
      "model_name": "LayoutModel",
      "state": {
       "height": "600px"
      }
     },
     "8b954a19a89f4830af31c79853c7e8bd": {
      "model_module": "@jupyter-widgets/controls",
      "model_module_version": "2.0.0",
      "model_name": "ToggleButtonStyleModel",
      "state": {
       "description_width": "",
       "font_family": null,
       "font_size": null,
       "font_style": null,
       "font_variant": null,
       "font_weight": null,
       "text_color": null,
       "text_decoration": null
      }
     },
     "8b99b091e81946b8b88c1620f907fcda": {
      "model_module": "@jupyter-widgets/controls",
      "model_module_version": "2.0.0",
      "model_name": "VBoxModel",
      "state": {
       "children": [
        "IPY_MODEL_698599e581074faa958503bf1b737825",
        "IPY_MODEL_0e16a9c8eb1e46489265aa4a89880a36"
       ],
       "layout": "IPY_MODEL_fd46a6d910bd4677afd9f77dd5c646d9"
      }
     },
     "8ba42b30b9f34741ae6c36de1f55b9d3": {
      "model_module": "@jupyter-widgets/output",
      "model_module_version": "1.0.0",
      "model_name": "OutputModel",
      "state": {
       "layout": "IPY_MODEL_204de1b5c2b74247ada7d008d3bb0d60"
      }
     },
     "8bad08c9edfb4a75893fcd402baefa8e": {
      "model_module": "@jupyter-widgets/base",
      "model_module_version": "2.0.0",
      "model_name": "LayoutModel",
      "state": {
       "height": "28px",
       "padding": "0px 0px 0px 4px",
       "width": "28px"
      }
     },
     "8bb5319650af415d8817ebf73f28bdae": {
      "model_module": "@jupyter-widgets/base",
      "model_module_version": "2.0.0",
      "model_name": "LayoutModel",
      "state": {
       "height": "auto",
       "padding": "0px 0px 0px 4px",
       "width": "auto"
      }
     },
     "8c69de02fc164631a2ea7233c5d0b1cf": {
      "model_module": "@jupyter-widgets/base",
      "model_module_version": "2.0.0",
      "model_name": "LayoutModel",
      "state": {}
     },
     "8cb817fa0bb946f29809f5aa466d0e9a": {
      "model_module": "@jupyter-widgets/controls",
      "model_module_version": "2.0.0",
      "model_name": "ToggleButtonModel",
      "state": {
       "button_style": "primary",
       "icon": "folder-open",
       "layout": "IPY_MODEL_8d6e04c26d3b450193fcaba76526fc11",
       "style": "IPY_MODEL_5aeba96176824ed786a7ac774ef65f43",
       "tooltip": "Open local vector/raster data"
      }
     },
     "8cc8e27372034fd2b633e2c65aae4cd2": {
      "model_module": "@jupyter-widgets/controls",
      "model_module_version": "2.0.0",
      "model_name": "HBoxModel",
      "state": {
       "children": [
        "IPY_MODEL_22f34e7ad2824a95ba8b2a33be1655fe",
        "IPY_MODEL_7fd7914dc3044031b1d5a48fa8d97dae"
       ],
       "layout": "IPY_MODEL_64dfdef56046480aa6570876860d6011"
      }
     },
     "8cd08ad3fb0b4d1bb9aa33bdc8397e2a": {
      "model_module": "@jupyter-widgets/base",
      "model_module_version": "2.0.0",
      "model_name": "LayoutModel",
      "state": {
       "grid_gap": "1px 1px",
       "grid_template_columns": "32px 32px 32px ",
       "grid_template_rows": "32px 32px ",
       "padding": "5px",
       "width": "109px"
      }
     },
     "8cdab511028d4fa3bc037df9ce6feab2": {
      "model_module": "@jupyter-widgets/controls",
      "model_module_version": "2.0.0",
      "model_name": "ToggleButtonModel",
      "state": {
       "button_style": "primary",
       "icon": "plus",
       "layout": "IPY_MODEL_6d058d29153442e59689ca7bc51daa84",
       "style": "IPY_MODEL_ef2b17e786f1480c9acbb1ebfd8f0065",
       "tooltip": "Expand toolbar"
      }
     },
     "8cdde361335d401eb2282612eff1e611": {
      "model_module": "@jupyter-widgets/base",
      "model_module_version": "2.0.0",
      "model_name": "LayoutModel",
      "state": {
       "grid_area": "dircontent",
       "width": "auto"
      }
     },
     "8d0275eb87ab4c52b48fe6a1bfd52461": {
      "model_module": "@jupyter-widgets/controls",
      "model_module_version": "2.0.0",
      "model_name": "HBoxModel",
      "state": {
       "_view_count": 1,
       "children": [
        "IPY_MODEL_238cc8b558994cdcb66fd3896cc44706"
       ],
       "layout": "IPY_MODEL_56368fde4ea64c75aaefc1b277d68aeb"
      }
     },
     "8d272234078f4e1e9863e1c577156443": {
      "model_module": "@jupyter-widgets/controls",
      "model_module_version": "2.0.0",
      "model_name": "HTMLModel",
      "state": {
       "layout": "IPY_MODEL_a9b088c516b44e81967adbf7de04a3a6",
       "style": "IPY_MODEL_2991d57ad3e24ac98aa24ab279812b97"
      }
     },
     "8d4295fb5bb549e79dfc426ed08b46a6": {
      "model_module": "@jupyter-widgets/base",
      "model_module_version": "2.0.0",
      "model_name": "LayoutModel",
      "state": {
       "height": "auto",
       "padding": "0px 0px 0px 4px",
       "width": "auto"
      }
     },
     "8d5b517a1a2e48b6a7ab4e97bf606bc7": {
      "model_module": "@jupyter-widgets/controls",
      "model_module_version": "2.0.0",
      "model_name": "ButtonStyleModel",
      "state": {
       "font_family": null,
       "font_size": null,
       "font_style": null,
       "font_variant": null,
       "font_weight": null,
       "text_color": null,
       "text_decoration": null
      }
     },
     "8d6e04c26d3b450193fcaba76526fc11": {
      "model_module": "@jupyter-widgets/base",
      "model_module_version": "2.0.0",
      "model_name": "LayoutModel",
      "state": {
       "height": "auto",
       "padding": "0px 0px 0px 4px",
       "width": "auto"
      }
     },
     "8d99c4cb7c4d432d96caaee9315f8373": {
      "model_module": "@jupyter-widgets/base",
      "model_module_version": "2.0.0",
      "model_name": "LayoutModel",
      "state": {
       "height": "auto",
       "padding": "0px 0px 0px 4px",
       "width": "auto"
      }
     },
     "8dd14fbc23074189bd93e9b5571ac70a": {
      "model_module": "jupyter-leaflet",
      "model_module_version": "^0.17",
      "model_name": "LeafletDrawControlModel",
      "state": {
       "_model_module_version": "^0.17",
       "_view_module_version": "^0.17",
       "marker": {
        "shapeOptions": {
         "color": "#3388ff"
        }
       },
       "options": [
        "position"
       ],
       "polygon": {
        "shapeOptions": {
         "clickable": true,
         "color": "#3388ff",
         "fill": true,
         "fillColor": null,
         "fillOpacity": 0.2,
         "opacity": 0.5,
         "stroke": true,
         "weight": 4
        }
       },
       "polyline": {
        "shapeOptions": {
         "clickable": true,
         "color": "#3388ff",
         "fill": false,
         "opacity": 0.5,
         "stroke": true,
         "weight": 4
        }
       },
       "rectangle": {
        "shapeOptions": {
         "clickable": true,
         "color": "#3388ff",
         "fill": true,
         "fillColor": null,
         "fillOpacity": 0.2,
         "opacity": 0.5,
         "stroke": true,
         "weight": 4
        }
       }
      }
     },
     "8e099f9048d241e6a4f558dfd357f80d": {
      "model_module": "jupyter-leaflet",
      "model_module_version": "^0.17",
      "model_name": "LeafletScaleControlModel",
      "state": {
       "_model_module_version": "^0.17",
       "_view_module_version": "^0.17",
       "imperial": true,
       "max_width": 100,
       "metric": true,
       "options": [
        "imperial",
        "max_width",
        "metric",
        "position",
        "update_when_idle"
       ],
       "position": "bottomleft",
       "update_when_idle": false
      }
     },
     "8e158c0f313a40c096ef12190dc363a2": {
      "model_module": "@jupyter-widgets/controls",
      "model_module_version": "2.0.0",
      "model_name": "ToggleButtonModel",
      "state": {
       "button_style": "primary",
       "icon": "plus",
       "layout": "IPY_MODEL_b0328602cc32409f8c5981b65c26b816",
       "style": "IPY_MODEL_d89ea3f24d874efcb6142474d67d7c16",
       "tooltip": "Expand toolbar"
      }
     },
     "8e2d72b9c3424226b1d9d61d54fcb84b": {
      "model_module": "@jupyter-widgets/controls",
      "model_module_version": "2.0.0",
      "model_name": "DropdownModel",
      "state": {
       "index": null,
       "layout": "IPY_MODEL_750b3c126b2f466d9ba8dfd3e88b7a33",
       "style": "IPY_MODEL_9326d9649f4e407db747d4d8dc9adcd7"
      }
     },
     "8e74c66a5857413687aebdb7d108c33c": {
      "model_module": "@jupyter-widgets/base",
      "model_module_version": "2.0.0",
      "model_name": "LayoutModel",
      "state": {}
     },
     "8e8c6879e8a2459eb86eea1a29ce561d": {
      "model_module": "@jupyter-widgets/base",
      "model_module_version": "2.0.0",
      "model_name": "LayoutModel",
      "state": {
       "height": "28px",
       "padding": "0px 0px 0px 4px",
       "width": "28px"
      }
     },
     "8e8f43c37d3e41b5a15b864fed58f8e2": {
      "model_module": "@jupyter-widgets/controls",
      "model_module_version": "2.0.0",
      "model_name": "ToggleButtonModel",
      "state": {
       "button_style": "primary",
       "icon": "retweet",
       "layout": "IPY_MODEL_86fcce55280a4e01ab67890dead68e7f",
       "style": "IPY_MODEL_5972c4e18d0d4513a6954ef916a0831d",
       "tooltip": "Convert Earth Engine JavaScript to Python"
      }
     },
     "8ea70dc758a34d049cc3e0941c588fa9": {
      "model_module": "@jupyter-widgets/base",
      "model_module_version": "2.0.0",
      "model_name": "LayoutModel",
      "state": {
       "height": "auto",
       "padding": "0px 0px 0px 4px",
       "width": "auto"
      }
     },
     "8ee7f76980284b92b2ae2da13c4032de": {
      "model_module": "@jupyter-widgets/base",
      "model_module_version": "2.0.0",
      "model_name": "LayoutModel",
      "state": {
       "height": "auto",
       "padding": "0px 0px 0px 4px",
       "width": "auto"
      }
     },
     "8ef9c9dfa7e54e1f983ce7abdc3293c9": {
      "model_module": "jupyter-leaflet",
      "model_module_version": "^0.17",
      "model_name": "LeafletMapStyleModel",
      "state": {
       "_model_module_version": "^0.17"
      }
     },
     "8f2b725e7fbf403299059af4df246328": {
      "model_module": "@jupyter-widgets/controls",
      "model_module_version": "2.0.0",
      "model_name": "ToggleButtonStyleModel",
      "state": {
       "description_width": "",
       "font_family": null,
       "font_size": null,
       "font_style": null,
       "font_variant": null,
       "font_weight": null,
       "text_color": null,
       "text_decoration": null
      }
     },
     "8f348e006c934374bfedadd4d348f77a": {
      "model_module": "@jupyter-widgets/base",
      "model_module_version": "2.0.0",
      "model_name": "LayoutModel",
      "state": {
       "height": "auto",
       "padding": "0px 0px 0px 4px",
       "width": "auto"
      }
     },
     "8f9bad24347e4c8db154889722e75795": {
      "model_module": "@jupyter-widgets/base",
      "model_module_version": "2.0.0",
      "model_name": "LayoutModel",
      "state": {
       "max_height": "500px",
       "max_width": "420px"
      }
     },
     "8fa5d6fb1b8c45ef9bac3977dfc0de67": {
      "model_module": "@jupyter-widgets/base",
      "model_module_version": "2.0.0",
      "model_name": "LayoutModel",
      "state": {}
     },
     "9003209660614eec8821d40b47130090": {
      "model_module": "@jupyter-widgets/controls",
      "model_module_version": "2.0.0",
      "model_name": "ButtonStyleModel",
      "state": {
       "font_family": null,
       "font_size": null,
       "font_style": null,
       "font_variant": null,
       "font_weight": null,
       "text_color": null,
       "text_decoration": null
      }
     },
     "90523d674c6641efbc28b1db40e15e72": {
      "model_module": "@jupyter-widgets/controls",
      "model_module_version": "2.0.0",
      "model_name": "ToggleButtonStyleModel",
      "state": {
       "description_width": "",
       "font_family": null,
       "font_size": null,
       "font_style": null,
       "font_variant": null,
       "font_weight": null,
       "text_color": null,
       "text_decoration": null
      }
     },
     "9069b463ebff4dc9a1323596fa3cbb2f": {
      "model_module": "@jupyter-widgets/controls",
      "model_module_version": "2.0.0",
      "model_name": "ToggleButtonModel",
      "state": {
       "button_style": "primary",
       "icon": "hand-o-up",
       "layout": "IPY_MODEL_fe5a5430f6e243c1862dae9ee52d55d5",
       "style": "IPY_MODEL_aafb024a359247c987538242e9d7c23d",
       "tooltip": "Collect training samples"
      }
     },
     "9070db2ffbb9455387ba66b7a5854489": {
      "model_module": "@jupyter-widgets/controls",
      "model_module_version": "2.0.0",
      "model_name": "ToggleButtonModel",
      "state": {
       "button_style": "primary",
       "icon": "adjust",
       "layout": "IPY_MODEL_cb1faf1fe62e411b9a6cef4eef677e01",
       "style": "IPY_MODEL_90cd1054a3024c6992d00056480acd1b",
       "tooltip": "Planet imagery"
      }
     },
     "9084a67988db4b778b386cac8932a48d": {
      "model_module": "@jupyter-widgets/base",
      "model_module_version": "2.0.0",
      "model_name": "LayoutModel",
      "state": {}
     },
     "90b17829843040548aee1c4d45349383": {
      "model_module": "@jupyter-widgets/controls",
      "model_module_version": "2.0.0",
      "model_name": "VBoxModel",
      "state": {
       "children": [
        "IPY_MODEL_d92d89a4b39b40eabac8f681ff08d3d7",
        "IPY_MODEL_f0a5dc3c3ba440288b9392e0046f6692"
       ],
       "layout": "IPY_MODEL_5428737e572a49f7a89763c469cc7cdf"
      }
     },
     "90b6ae7f41d2461295c7f1591a2f8163": {
      "model_module": "@jupyter-widgets/controls",
      "model_module_version": "2.0.0",
      "model_name": "ToggleButtonStyleModel",
      "state": {
       "description_width": "",
       "font_family": null,
       "font_size": null,
       "font_style": null,
       "font_variant": null,
       "font_weight": null,
       "text_color": null,
       "text_decoration": null
      }
     },
     "90b6b3164ca24fc4814d82285c71b3b8": {
      "model_module": "@jupyter-widgets/controls",
      "model_module_version": "2.0.0",
      "model_name": "ToggleButtonModel",
      "state": {
       "button_style": "primary",
       "icon": "globe",
       "layout": "IPY_MODEL_092bc042f541424ab9ef240ba0d689bb",
       "style": "IPY_MODEL_eac308dcc23c4331bd8e4b08d06489eb",
       "tooltip": "Create timelapse"
      }
     },
     "90be5b251be94acf829ef3ae2b0109f3": {
      "model_module": "@jupyter-widgets/controls",
      "model_module_version": "2.0.0",
      "model_name": "ToggleButtonsStyleModel",
      "state": {
       "button_width": "110px",
       "description_width": ""
      }
     },
     "90cd1054a3024c6992d00056480acd1b": {
      "model_module": "@jupyter-widgets/controls",
      "model_module_version": "2.0.0",
      "model_name": "ToggleButtonStyleModel",
      "state": {
       "description_width": "",
       "font_family": null,
       "font_size": null,
       "font_style": null,
       "font_variant": null,
       "font_weight": null,
       "text_color": null,
       "text_decoration": null
      }
     },
     "90d7026ca5304655b1240048a0ae2270": {
      "model_module": "@jupyter-widgets/controls",
      "model_module_version": "2.0.0",
      "model_name": "ToggleButtonStyleModel",
      "state": {
       "description_width": "",
       "font_family": null,
       "font_size": null,
       "font_style": null,
       "font_variant": null,
       "font_weight": null,
       "text_color": null,
       "text_decoration": null
      }
     },
     "90e7731d6c0e4240ad5a0aabc01d042d": {
      "model_module": "@jupyter-widgets/controls",
      "model_module_version": "2.0.0",
      "model_name": "DropdownModel",
      "state": {
       "index": null,
       "layout": "IPY_MODEL_f0de629ab7254288a175921e375938bd",
       "style": "IPY_MODEL_07cb622a9b0b47528b0d17b107a6c804"
      }
     },
     "912420b07d6645589edb0ac24d231401": {
      "model_module": "@jupyter-widgets/controls",
      "model_module_version": "2.0.0",
      "model_name": "ToggleButtonModel",
      "state": {
       "button_style": "primary",
       "icon": "plus",
       "layout": "IPY_MODEL_f01be20d3062411182ec799ed2825a6d",
       "style": "IPY_MODEL_ff9c7b3f9afe4a53b82aafee5ea7a68c",
       "tooltip": "Expand toolbar"
      }
     },
     "916df6b514444bb5ba46bc437be4f656": {
      "model_module": "@jupyter-widgets/controls",
      "model_module_version": "2.0.0",
      "model_name": "ToggleButtonsModel",
      "state": {
       "_options_labels": [
        "name/address",
        "lat-lon",
        "data"
       ],
       "button_style": "",
       "icons": [],
       "index": 0,
       "layout": "IPY_MODEL_1376b3e919bf4f3caf67320f88721a21",
       "style": "IPY_MODEL_9b316bc02f1d4483951f285b5f1bd43c",
       "tooltips": [
        "Search by place name or address",
        "Search by lat-lon coordinates",
        "Search Earth Engine data catalog"
       ]
      }
     },
     "91715b1280c84673be96332993fd6300": {
      "model_module": "@jupyter-widgets/base",
      "model_module_version": "2.0.0",
      "model_name": "LayoutModel",
      "state": {}
     },
     "91e0285af09b4e5ab0c129e71cff85c8": {
      "model_module": "jupyter-leaflet",
      "model_module_version": "^0.17",
      "model_name": "LeafletTileLayerModel",
      "state": {
       "_model_module_version": "^0.17",
       "_view_module_version": "^0.17",
       "attribution": "Google Earth Engine",
       "max_zoom": 24,
       "name": "Second Level Administrative Units",
       "options": [
        "attribution",
        "bounds",
        "detect_retina",
        "max_native_zoom",
        "max_zoom",
        "min_native_zoom",
        "min_zoom",
        "no_wrap",
        "tile_size",
        "tms",
        "zoom_offset"
       ],
       "url": "https://earthengine.googleapis.com/v1/projects/earthengine-legacy/maps/b6c709d492e1674d293a033202b58450-59e4ff744e0f9c5f7816317ad80f8f17/tiles/{z}/{x}/{y}"
      }
     },
     "91e57568e8f7439b907717bc8300e889": {
      "model_module": "jupyter-leaflet",
      "model_module_version": "^0.17",
      "model_name": "LeafletTileLayerModel",
      "state": {
       "_model_module_version": "^0.17",
       "_view_module_version": "^0.17",
       "attribution": "Google Earth Engine",
       "max_zoom": 24,
       "name": "Buffer Around Delhi (Outside)",
       "options": [
        "attribution",
        "bounds",
        "detect_retina",
        "max_native_zoom",
        "max_zoom",
        "min_native_zoom",
        "min_zoom",
        "no_wrap",
        "tile_size",
        "tms",
        "zoom_offset"
       ],
       "url": "https://earthengine.googleapis.com/v1/projects/earthengine-legacy/maps/06c8f1893b2b6be467471b0ef1d6e4a1-b954529cb4b22e2db41af5ab968183e6/tiles/{z}/{x}/{y}"
      }
     },
     "91f33e5a63324a5aa459606bb46d9992": {
      "model_module": "@jupyter-widgets/controls",
      "model_module_version": "2.0.0",
      "model_name": "ToggleButtonModel",
      "state": {
       "button_style": "primary",
       "icon": "fast-forward",
       "layout": "IPY_MODEL_157a2ba6192c4b1880dcb570bb6f5c64",
       "style": "IPY_MODEL_20bdbc0db613404ca44c74a735d8c2ac",
       "tooltip": "Activate timeslider"
      }
     },
     "921f318739de4a6e9486a715a49cb5f8": {
      "model_module": "@jupyter-widgets/controls",
      "model_module_version": "2.0.0",
      "model_name": "HTMLStyleModel",
      "state": {
       "description_width": "",
       "font_size": null,
       "text_color": null
      }
     },
     "924e1653e18d4d4e81662b5afc1b7986": {
      "model_module": "@jupyter-widgets/controls",
      "model_module_version": "2.0.0",
      "model_name": "DescriptionStyleModel",
      "state": {
       "description_width": ""
      }
     },
     "925ea0faa370460bb650e3d0a643a872": {
      "model_module": "@jupyter-widgets/controls",
      "model_module_version": "2.0.0",
      "model_name": "RadioButtonsModel",
      "state": {
       "index": null,
       "layout": "IPY_MODEL_938f3945ebf142b68398ebd85f064425",
       "style": "IPY_MODEL_03562547706140abbea3763560658413"
      }
     },
     "9267ae954fac4dceadc079931da022dc": {
      "model_module": "@jupyter-widgets/controls",
      "model_module_version": "2.0.0",
      "model_name": "ToggleButtonModel",
      "state": {
       "button_style": "primary",
       "icon": "adjust",
       "layout": "IPY_MODEL_d429a013d78c46e7a7c1b6f0cc46bb2d",
       "style": "IPY_MODEL_5f5d0678109f4e588fb32839c9ff33a6",
       "tooltip": "Planet imagery"
      }
     },
     "926891b8b80c4c168fc3f5d5a2f87049": {
      "model_module": "@jupyter-widgets/base",
      "model_module_version": "2.0.0",
      "model_name": "LayoutModel",
      "state": {
       "height": "auto",
       "padding": "0px 0px 0px 4px",
       "width": "auto"
      }
     },
     "92a443fcc3f54cb3827376fb934da8b2": {
      "model_module": "@jupyter-widgets/controls",
      "model_module_version": "2.0.0",
      "model_name": "ToggleButtonModel",
      "state": {
       "button_style": "primary",
       "icon": "adjust",
       "layout": "IPY_MODEL_61b1780fa718437883e48f1698b0e18c",
       "style": "IPY_MODEL_ed00dffbe1bc46738a8ede74b4cd36f8",
       "tooltip": "Planet imagery"
      }
     },
     "92b6e05ddb0f47fe8606eeaa89acabfc": {
      "model_module": "@jupyter-widgets/controls",
      "model_module_version": "2.0.0",
      "model_name": "DescriptionStyleModel",
      "state": {
       "description_width": ""
      }
     },
     "93173158a07944bba41741d3a51fc606": {
      "model_module": "jupyter-leaflet",
      "model_module_version": "^0.17",
      "model_name": "LeafletTileLayerModel",
      "state": {
       "_model_module_version": "^0.17",
       "_view_module_version": "^0.17",
       "attribution": "Google Earth Engine",
       "max_zoom": 24,
       "name": "New Delhi",
       "options": [
        "attribution",
        "bounds",
        "detect_retina",
        "max_native_zoom",
        "max_zoom",
        "min_native_zoom",
        "min_zoom",
        "no_wrap",
        "tile_size",
        "tms",
        "zoom_offset"
       ],
       "url": "https://earthengine.googleapis.com/v1/projects/earthengine-legacy/maps/00998ae602db08d60e1c5dc4acfc0fdb-5d06c42723e2203a34aa311a487ab315/tiles/{z}/{x}/{y}"
      }
     },
     "9326d9649f4e407db747d4d8dc9adcd7": {
      "model_module": "@jupyter-widgets/controls",
      "model_module_version": "2.0.0",
      "model_name": "DescriptionStyleModel",
      "state": {
       "description_width": ""
      }
     },
     "9366048dbba2451b9c8a4d219650146d": {
      "model_module": "@jupyter-widgets/controls",
      "model_module_version": "2.0.0",
      "model_name": "HTMLModel",
      "state": {
       "layout": "IPY_MODEL_78f43e99a8684ee7b9dc1c17902a8d51",
       "style": "IPY_MODEL_6216d80183f5454a98ff5efc32e897b2"
      }
     },
     "938aa6a1fdc94d6b8c3d401a90bdd533": {
      "model_module": "@jupyter-widgets/controls",
      "model_module_version": "2.0.0",
      "model_name": "ToggleButtonModel",
      "state": {
       "button_style": "primary",
       "icon": "eraser",
       "layout": "IPY_MODEL_b456b8585cca4b7999827eb333c77468",
       "style": "IPY_MODEL_b177a8f3d7df40169ff7f1ec3a7078bc",
       "tooltip": "Remove all drawn features"
      }
     },
     "938f3945ebf142b68398ebd85f064425": {
      "model_module": "@jupyter-widgets/base",
      "model_module_version": "2.0.0",
      "model_name": "LayoutModel",
      "state": {}
     },
     "93c643b803da48249a53d89d81d4acbf": {
      "model_module": "@jupyter-widgets/controls",
      "model_module_version": "2.0.0",
      "model_name": "ToggleButtonModel",
      "state": {
       "button_style": "primary",
       "icon": "hand-o-up",
       "layout": "IPY_MODEL_5c14cf9448e64882b66eb5b6db956001",
       "style": "IPY_MODEL_53b6f800f7024341acf52bab46d78091",
       "tooltip": "Collect training samples"
      }
     },
     "93e8a1ea7755418d8eec57dd031d287c": {
      "model_module": "@jupyter-widgets/base",
      "model_module_version": "2.0.0",
      "model_name": "LayoutModel",
      "state": {
       "max_width": "279px",
       "min_width": "279px"
      }
     },
     "93e8af6e084f4fa8bf90909cbc331356": {
      "model_module": "@jupyter-widgets/base",
      "model_module_version": "2.0.0",
      "model_name": "LayoutModel",
      "state": {
       "height": "auto",
       "padding": "0px 0px 0px 4px",
       "width": "auto"
      }
     },
     "940f81797cec42b39c1dacf7a20c0353": {
      "model_module": "@jupyter-widgets/base",
      "model_module_version": "2.0.0",
      "model_name": "LayoutModel",
      "state": {}
     },
     "941dd62cbe724efbbb4cb34a71abcdad": {
      "model_module": "@jupyter-widgets/controls",
      "model_module_version": "2.0.0",
      "model_name": "RadioButtonsModel",
      "state": {
       "index": null,
       "layout": "IPY_MODEL_eb60a1b3f7ed493cbd3b090275b9fcf1",
       "style": "IPY_MODEL_d12e928214bd43c4acf5155dbb8c306d"
      }
     },
     "94248200440d47c8826f9b1868bdf1af": {
      "model_module": "jupyter-leaflet",
      "model_module_version": "^0.17",
      "model_name": "LeafletWidgetControlModel",
      "state": {
       "_model_module": "jupyter-leaflet",
       "_model_module_version": "^0.17",
       "_view_count": null,
       "_view_module": "jupyter-leaflet",
       "_view_module_version": "^0.17",
       "options": [
        "position",
        "transparent_bg"
       ],
       "position": "topright",
       "widget": "IPY_MODEL_9c55eddaed77424da2b3b9c24b702c19"
      }
     },
     "9433c5d7e54343ada496b7f3041ec00e": {
      "model_module": "@jupyter-widgets/controls",
      "model_module_version": "2.0.0",
      "model_name": "ToggleButtonModel",
      "state": {
       "button_style": "primary",
       "icon": "map",
       "layout": "IPY_MODEL_5245a1aa391d4d91bb24a8af2c7eface",
       "style": "IPY_MODEL_73082e0d3cdb4f8793d9ad6bbb6bd687",
       "tooltip": "Change basemap"
      }
     },
     "94a523d436974cc98a7a5e3aafca620f": {
      "model_module": "@jupyter-widgets/base",
      "model_module_version": "2.0.0",
      "model_name": "LayoutModel",
      "state": {}
     },
     "94b0ee086c9a489681b3a7fc21627105": {
      "model_module": "@jupyter-widgets/controls",
      "model_module_version": "2.0.0",
      "model_name": "HTMLModel",
      "state": {
       "layout": "IPY_MODEL_2c8d36720c924c50849a11688aff2f57",
       "style": "IPY_MODEL_620911bb9beb4159b8ed3acc32c4926f"
      }
     },
     "94b3759dcca149b2bc4cb10f38cf8b90": {
      "model_module": "@jupyter-widgets/base",
      "model_module_version": "2.0.0",
      "model_name": "LayoutModel",
      "state": {
       "padding": "0px 8px 0px 8px"
      }
     },
     "94b5cac69ad64ecf960dabaa36e6fc8f": {
      "model_module": "@jupyter-widgets/controls",
      "model_module_version": "2.0.0",
      "model_name": "RadioButtonsModel",
      "state": {
       "index": null,
       "layout": "IPY_MODEL_131cfa967ca045b4ba66b357089df6cf",
       "style": "IPY_MODEL_54f4b24ef98d4d7da87b2c9025407640"
      }
     },
     "94d9ed6094024c48a160e31654f07cd6": {
      "model_module": "@jupyter-widgets/base",
      "model_module_version": "2.0.0",
      "model_name": "LayoutModel",
      "state": {
       "min_width": "6em",
       "width": "6em"
      }
     },
     "95070669967a4abf969e8f0ecd604c80": {
      "model_module": "@jupyter-widgets/controls",
      "model_module_version": "2.0.0",
      "model_name": "ToggleButtonStyleModel",
      "state": {
       "description_width": "",
       "font_family": null,
       "font_size": null,
       "font_style": null,
       "font_variant": null,
       "font_weight": null,
       "text_color": null,
       "text_decoration": null
      }
     },
     "951dc1ffa15d42d1b18cc103ed42ba07": {
      "model_module": "@jupyter-widgets/base",
      "model_module_version": "2.0.0",
      "model_name": "LayoutModel",
      "state": {
       "height": "auto",
       "padding": "0px 0px 0px 4px",
       "width": "auto"
      }
     },
     "954a6f0da0d04f74bfb2849d7f17f927": {
      "model_module": "@jupyter-widgets/controls",
      "model_module_version": "2.0.0",
      "model_name": "ToggleButtonStyleModel",
      "state": {
       "description_width": "",
       "font_family": null,
       "font_size": null,
       "font_style": null,
       "font_variant": null,
       "font_weight": null,
       "text_color": null,
       "text_decoration": null
      }
     },
     "955a5707a0b3498b9fc75c97137c174b": {
      "model_module": "@jupyter-widgets/base",
      "model_module_version": "2.0.0",
      "model_name": "LayoutModel",
      "state": {
       "height": "28px",
       "width": "72px"
      }
     },
     "957e21163f4044eab38397b0a1f360f3": {
      "model_module": "jupyter-leaflet",
      "model_module_version": "^0.17",
      "model_name": "LeafletZoomControlModel",
      "state": {
       "_model_module_version": "^0.17",
       "_view_module_version": "^0.17",
       "options": [
        "position",
        "zoom_in_text",
        "zoom_in_title",
        "zoom_out_text",
        "zoom_out_title"
       ]
      }
     },
     "957ef59b55514b5893b95259735ac9bb": {
      "model_module": "@jupyter-widgets/controls",
      "model_module_version": "2.0.0",
      "model_name": "FloatSliderModel",
      "state": {
       "behavior": "drag-tap",
       "layout": "IPY_MODEL_541b394d79e84787a41d2569709bb1bf",
       "max": 1,
       "readout": false,
       "step": 0.01,
       "style": "IPY_MODEL_c9f8b490c5a244beb72a3645374e71a6",
       "value": 1
      }
     },
     "95822d35a3544e24a81f000945c58a08": {
      "model_module": "@jupyter-widgets/controls",
      "model_module_version": "2.0.0",
      "model_name": "ToggleButtonStyleModel",
      "state": {
       "description_width": "",
       "font_family": null,
       "font_size": null,
       "font_style": null,
       "font_variant": null,
       "font_weight": null,
       "text_color": null,
       "text_decoration": null
      }
     },
     "95d8c896822a4fcb9771b629a0f34af6": {
      "model_module": "@jupyter-widgets/controls",
      "model_module_version": "2.0.0",
      "model_name": "HBoxModel",
      "state": {
       "children": [
        "IPY_MODEL_c4f895f220e64c5197910cebb6853036",
        "IPY_MODEL_df5e2b4dab4d4e578ea2b8ca69e50655"
       ],
       "layout": "IPY_MODEL_457b7ebb7573485f965837130f34c298"
      }
     },
     "95dde2c359854720a801f448b943df3e": {
      "model_module": "@jupyter-widgets/controls",
      "model_module_version": "2.0.0",
      "model_name": "ToggleButtonModel",
      "state": {
       "button_style": "primary",
       "icon": "folder-open",
       "layout": "IPY_MODEL_ee255efab8b24a0092068b25013d64c8",
       "style": "IPY_MODEL_da02c2070f754490b3f6e62895e03675",
       "tooltip": "Open local vector/raster data"
      }
     },
     "95e77b5890444bb79fc78e9118f70159": {
      "model_module": "@jupyter-widgets/controls",
      "model_module_version": "2.0.0",
      "model_name": "ToggleButtonModel",
      "state": {
       "button_style": "primary",
       "icon": "map",
       "layout": "IPY_MODEL_191be60b7dbd44c0b7f9136cfcede2fb",
       "style": "IPY_MODEL_0b5a1bb0de304449a8bf71fb2883dc85",
       "tooltip": "Change basemap"
      }
     },
     "95fba4aab82e4757a26fed3903a4bbe5": {
      "model_module": "@jupyter-widgets/controls",
      "model_module_version": "2.0.0",
      "model_name": "ToggleButtonModel",
      "state": {
       "icon": "globe",
       "layout": "IPY_MODEL_84b76b409c3d4ba184b3e87823cb5d0f",
       "style": "IPY_MODEL_62f985ac15c3417093b04fb0e888513e",
       "tooltip": "Search location/data"
      }
     },
     "96011ed8ae7a48efb5e208dd00a483f9": {
      "model_module": "@jupyter-widgets/controls",
      "model_module_version": "2.0.0",
      "model_name": "ToggleButtonStyleModel",
      "state": {
       "description_width": "",
       "font_family": null,
       "font_size": null,
       "font_style": null,
       "font_variant": null,
       "font_weight": null,
       "text_color": null,
       "text_decoration": null
      }
     },
     "961cd9c6a7f24f9e921017c0e81be5ae": {
      "model_module": "@jupyter-widgets/controls",
      "model_module_version": "2.0.0",
      "model_name": "VBoxModel",
      "state": {
       "_view_count": 1,
       "children": [
        "IPY_MODEL_7d99509a6de9444081d93d76a355e4bc"
       ],
       "layout": "IPY_MODEL_4e8764cedbac4dc89b2e3b86d8a6b7bf"
      }
     },
     "9621bafa9d054433927ff6f1ef193869": {
      "model_module": "jupyter-leaflet",
      "model_module_version": "^0.17",
      "model_name": "LeafletMeasureControlModel",
      "state": {
       "_model_module_version": "^0.17",
       "_view_module_version": "^0.17",
       "active_color": "orange",
       "options": [
        "active_color",
        "capture_z_index",
        "completed_color",
        "popup_options",
        "position",
        "primary_area_unit",
        "primary_length_unit",
        "secondary_area_unit",
        "secondary_length_unit"
       ],
       "position": "bottomleft",
       "primary_length_unit": "kilometers",
       "secondary_area_unit": null,
       "secondary_length_unit": null
      }
     },
     "963f0eae788b4e29bcc38e81d6260530": {
      "model_module": "@jupyter-widgets/base",
      "model_module_version": "2.0.0",
      "model_name": "LayoutModel",
      "state": {
       "height": "auto",
       "padding": "0px 0px 0px 4px",
       "width": "auto"
      }
     },
     "963f4c6dc1324240aca2f623e757c34c": {
      "model_module": "@jupyter-widgets/controls",
      "model_module_version": "2.0.0",
      "model_name": "ToggleButtonStyleModel",
      "state": {
       "description_width": "",
       "font_family": null,
       "font_size": null,
       "font_style": null,
       "font_variant": null,
       "font_weight": null,
       "text_color": null,
       "text_decoration": null
      }
     },
     "964fa86b5d8542fda7c3b0d00a7d47e7": {
      "model_module": "jupyter-leaflet",
      "model_module_version": "^0.17",
      "model_name": "LeafletZoomControlModel",
      "state": {
       "_model_module_version": "^0.17",
       "_view_module_version": "^0.17",
       "options": [
        "position",
        "zoom_in_text",
        "zoom_in_title",
        "zoom_out_text",
        "zoom_out_title"
       ]
      }
     },
     "96930c043cfa485bb6fe857569285d54": {
      "model_module": "jupyter-leaflet",
      "model_module_version": "^0.17",
      "model_name": "LeafletAttributionControlModel",
      "state": {
       "_model_module_version": "^0.17",
       "_view_module_version": "^0.17",
       "options": [
        "position",
        "prefix"
       ],
       "position": "bottomright",
       "prefix": "ipyleaflet"
      }
     },
     "96b23edf9d3e40f9ad89f86317446992": {
      "model_module": "@jupyter-widgets/controls",
      "model_module_version": "2.0.0",
      "model_name": "ToggleButtonModel",
      "state": {
       "button_style": "primary",
       "icon": "random",
       "layout": "IPY_MODEL_08f7ef3beafa455eb5fdc8bbe1311cae",
       "style": "IPY_MODEL_0031f5ebd8ca49f4a35072f7c1aa535c",
       "tooltip": "Sankey plots"
      }
     },
     "96dedd42f1c940549d4cea4248c164ff": {
      "model_module": "jupyter-leaflet",
      "model_module_version": "^0.17",
      "model_name": "LeafletMapStyleModel",
      "state": {
       "_model_module_version": "^0.17"
      }
     },
     "96fef6e64adb4f498ba9e5c9cd4727de": {
      "model_module": "@jupyter-widgets/controls",
      "model_module_version": "2.0.0",
      "model_name": "ButtonModel",
      "state": {
       "description": "Change",
       "layout": "IPY_MODEL_52297302f5154480b799e9d0ae7c9547",
       "style": "IPY_MODEL_ca540c9e76ea4e8685bbd9048efaf333",
       "tooltip": null
      }
     },
     "9704e28bda5641f3975b62021ae10159": {
      "model_module": "@jupyter-widgets/controls",
      "model_module_version": "2.0.0",
      "model_name": "HTMLStyleModel",
      "state": {
       "description_width": "",
       "font_size": null,
       "text_color": null
      }
     },
     "978a64fbe445476babf22d576d00c37c": {
      "model_module": "@jupyter-widgets/controls",
      "model_module_version": "2.0.0",
      "model_name": "ToggleButtonModel",
      "state": {
       "button_style": "primary",
       "icon": "bar-chart",
       "layout": "IPY_MODEL_8d99c4cb7c4d432d96caaee9315f8373",
       "style": "IPY_MODEL_7017092430944216ab6691161540a317",
       "tooltip": "Plotting"
      }
     },
     "97a0d0168a694dd686742acb7acfae93": {
      "model_module": "@jupyter-widgets/base",
      "model_module_version": "2.0.0",
      "model_name": "LayoutModel",
      "state": {
       "height": "auto",
       "padding": "0px 0px 0px 4px",
       "width": "auto"
      }
     },
     "97a884bd3c094566a6f1132e8b46c075": {
      "model_module": "@jupyter-widgets/controls",
      "model_module_version": "2.0.0",
      "model_name": "ToggleButtonModel",
      "state": {
       "button_style": "primary",
       "icon": "eraser",
       "layout": "IPY_MODEL_a16c2a9760fd4d4ebe02fa76bd0fd1df",
       "style": "IPY_MODEL_575ee978e5104359af2f6f8c23dfd88d",
       "tooltip": "Remove all drawn features"
      }
     },
     "97ac560afc044eb2851e13e8e9d88a83": {
      "model_module": "@jupyter-widgets/base",
      "model_module_version": "2.0.0",
      "model_name": "LayoutModel",
      "state": {}
     },
     "97f71c451c0341cd9807574766badbb1": {
      "model_module": "@jupyter-widgets/controls",
      "model_module_version": "2.0.0",
      "model_name": "DescriptionStyleModel",
      "state": {
       "description_width": ""
      }
     },
     "9832cd3c43b44af3960313c00e14da01": {
      "model_module": "@jupyter-widgets/base",
      "model_module_version": "2.0.0",
      "model_name": "LayoutModel",
      "state": {
       "max_width": "279px",
       "min_width": "279px"
      }
     },
     "98531b983ad64fa09696dde974447ccb": {
      "model_module": "@jupyter-widgets/controls",
      "model_module_version": "2.0.0",
      "model_name": "ToggleButtonStyleModel",
      "state": {
       "description_width": "",
       "font_family": null,
       "font_size": null,
       "font_style": null,
       "font_variant": null,
       "font_weight": null,
       "text_color": null,
       "text_decoration": null
      }
     },
     "986c9d2f38fb4f498e749500449cd82a": {
      "model_module": "@jupyter-widgets/controls",
      "model_module_version": "2.0.0",
      "model_name": "ToggleButtonStyleModel",
      "state": {
       "description_width": "",
       "font_family": null,
       "font_size": null,
       "font_style": null,
       "font_variant": null,
       "font_weight": null,
       "text_color": null,
       "text_decoration": null
      }
     },
     "9875c87e4fb34571a039cecbe5b9290a": {
      "model_module": "@jupyter-widgets/controls",
      "model_module_version": "2.0.0",
      "model_name": "ToggleButtonModel",
      "state": {
       "button_style": "primary",
       "icon": "fast-forward",
       "layout": "IPY_MODEL_9e440bad063a4f07a80bc1320c6f0360",
       "style": "IPY_MODEL_ee69d2b7ac964908b6677d9dbc3c1013",
       "tooltip": "Activate timeslider"
      }
     },
     "98ae01ecf99b49d199f7fa6190faf0ee": {
      "model_module": "@jupyter-widgets/base",
      "model_module_version": "2.0.0",
      "model_name": "LayoutModel",
      "state": {
       "height": "auto",
       "padding": "0px 0px 0px 4px",
       "width": "auto"
      }
     },
     "99a42cfdb5274c919388db04df43f68e": {
      "model_module": "jupyter-leaflet",
      "model_module_version": "^0.17",
      "model_name": "LeafletAttributionControlModel",
      "state": {
       "_model_module_version": "^0.17",
       "_view_module_version": "^0.17",
       "options": [
        "position",
        "prefix"
       ],
       "position": "bottomright",
       "prefix": "ipyleaflet"
      }
     },
     "99a4fa05ce624c14adbf9b096f0417c3": {
      "model_module": "@jupyter-widgets/base",
      "model_module_version": "2.0.0",
      "model_name": "LayoutModel",
      "state": {
       "height": "28px",
       "width": "72px"
      }
     },
     "99f84163842b420bb4e946db36986944": {
      "model_module": "@jupyter-widgets/controls",
      "model_module_version": "2.0.0",
      "model_name": "ToggleButtonStyleModel",
      "state": {
       "description_width": "",
       "font_family": null,
       "font_size": null,
       "font_style": null,
       "font_variant": null,
       "font_weight": null,
       "text_color": null,
       "text_decoration": null
      }
     },
     "9a2cc620d9704852a0cc9c6ba06a3c2c": {
      "model_module": "@jupyter-widgets/base",
      "model_module_version": "2.0.0",
      "model_name": "LayoutModel",
      "state": {}
     },
     "9a3f2b32389c4aa8b731c7dea2b63185": {
      "model_module": "@jupyter-widgets/base",
      "model_module_version": "2.0.0",
      "model_name": "LayoutModel",
      "state": {
       "height": "auto",
       "padding": "0px 0px 0px 4px",
       "width": "auto"
      }
     },
     "9a537cf34bba4bbc83e397f093d28c32": {
      "model_module": "@jupyter-widgets/base",
      "model_module_version": "2.0.0",
      "model_name": "LayoutModel",
      "state": {
       "width": "100px"
      }
     },
     "9a5ddd3ddcc54a3f878d8fe1a1e7d6ac": {
      "model_module": "@jupyter-widgets/base",
      "model_module_version": "2.0.0",
      "model_name": "LayoutModel",
      "state": {
       "height": "28px",
       "padding": "0px 0px 0px 4px",
       "width": "28px"
      }
     },
     "9a78dd632f9e41fc8a0362731cbc6d60": {
      "model_module": "@jupyter-widgets/controls",
      "model_module_version": "2.0.0",
      "model_name": "GridBoxModel",
      "state": {
       "children": [
        "IPY_MODEL_e7938277265a42408ed035de7579e5da",
        "IPY_MODEL_685aa30074b84162a31613d38f53105d",
        "IPY_MODEL_66404bda7a1346b59f3d16e98483ee12",
        "IPY_MODEL_7481ff7cf22a45d59c6635ce1a56f420",
        "IPY_MODEL_b99964d8ac544dbf9ba23cd5066b0a90",
        "IPY_MODEL_8e158c0f313a40c096ef12190dc363a2"
       ],
       "layout": "IPY_MODEL_834bba88a833404b8a3233457312ce5e"
      }
     },
     "9aa616353f984c92a334a7b967fc6c08": {
      "model_module": "@jupyter-widgets/controls",
      "model_module_version": "2.0.0",
      "model_name": "ButtonStyleModel",
      "state": {
       "font_family": null,
       "font_size": null,
       "font_style": null,
       "font_variant": null,
       "font_weight": null,
       "text_color": null,
       "text_decoration": null
      }
     },
     "9ad5650c33e04006abb2546969457b48": {
      "model_module": "@jupyter-widgets/output",
      "model_module_version": "1.0.0",
      "model_name": "OutputModel",
      "state": {
       "layout": "IPY_MODEL_18ba645e60454b06a16ccb48d479259b"
      }
     },
     "9b316bc02f1d4483951f285b5f1bd43c": {
      "model_module": "@jupyter-widgets/controls",
      "model_module_version": "2.0.0",
      "model_name": "ToggleButtonsStyleModel",
      "state": {
       "button_width": "110px",
       "description_width": ""
      }
     },
     "9b4edaead3114ac0992f8dae33a669df": {
      "model_module": "@jupyter-widgets/base",
      "model_module_version": "2.0.0",
      "model_name": "LayoutModel",
      "state": {
       "height": "auto",
       "padding": "0px 0px 0px 4px",
       "width": "auto"
      }
     },
     "9b6baebd300d4996b4834c5f9d22b538": {
      "model_module": "@jupyter-widgets/base",
      "model_module_version": "2.0.0",
      "model_name": "LayoutModel",
      "state": {
       "width": "340px"
      }
     },
     "9b7c5181a0474177be246905cfdda8f9": {
      "model_module": "jupyter-leaflet",
      "model_module_version": "^0.17",
      "model_name": "LeafletTileLayerModel",
      "state": {
       "_model_module_version": "^0.17",
       "_view_module_version": "^0.17",
       "attribution": "Google Earth Engine",
       "max_zoom": 24,
       "name": "Administrative 2 Regions Surrounding Delhi",
       "options": [
        "attribution",
        "bounds",
        "detect_retina",
        "max_native_zoom",
        "max_zoom",
        "min_native_zoom",
        "min_zoom",
        "no_wrap",
        "tile_size",
        "tms",
        "zoom_offset"
       ],
       "url": "https://earthengine.googleapis.com/v1/projects/earthengine-legacy/maps/883cf9bc1c39191675a0f1d39a6fbba8-4e6fd0349759793dad4995c324260de8/tiles/{z}/{x}/{y}"
      }
     },
     "9b7d076951854180b8f83431f8661253": {
      "model_module": "@jupyter-widgets/base",
      "model_module_version": "2.0.0",
      "model_name": "LayoutModel",
      "state": {}
     },
     "9ba12d3bde004e31be48909c7664ab55": {
      "model_module": "@jupyter-widgets/base",
      "model_module_version": "2.0.0",
      "model_name": "LayoutModel",
      "state": {
       "height": "28px",
       "width": "72px"
      }
     },
     "9bc2531b3c1d4bf38ea987dfe1a0b7f7": {
      "model_module": "@jupyter-widgets/base",
      "model_module_version": "2.0.0",
      "model_name": "LayoutModel",
      "state": {
       "grid_area": "filename",
       "width": "auto"
      }
     },
     "9c2ee4382b1f45b585cc819abf5ac0ba": {
      "model_module": "@jupyter-widgets/base",
      "model_module_version": "2.0.0",
      "model_name": "LayoutModel",
      "state": {
       "height": "auto",
       "padding": "0px 0px 0px 4px",
       "width": "auto"
      }
     },
     "9c55eddaed77424da2b3b9c24b702c19": {
      "model_module": "@jupyter-widgets/controls",
      "model_module_version": "2.0.0",
      "model_name": "VBoxModel",
      "state": {
       "_view_count": 0,
       "children": [
        "IPY_MODEL_ea42087094074cbaa26554a474c2eb7b"
       ],
       "layout": "IPY_MODEL_c63e4ff2060c4b46a1a72ac720469cc9"
      }
     },
     "9c6699b1e8e94b25810295f16eb76e26": {
      "model_module": "@jupyter-widgets/controls",
      "model_module_version": "2.0.0",
      "model_name": "TextStyleModel",
      "state": {
       "description_width": "",
       "font_size": null,
       "text_color": null
      }
     },
     "9cb951c019ce45d5a1f1822e6ea5d679": {
      "model_module": "jupyter-leaflet",
      "model_module_version": "^0.17",
      "model_name": "LeafletMapStyleModel",
      "state": {
       "_model_module_version": "^0.17"
      }
     },
     "9cc99d5e053841108a27dae16b8196f9": {
      "model_module": "jupyter-leaflet",
      "model_module_version": "^0.17",
      "model_name": "LeafletMapStyleModel",
      "state": {
       "_model_module_version": "^0.17",
       "cursor": "move"
      }
     },
     "9ccb31fc29324b0492ce2b6d312128ed": {
      "model_module": "jupyter-leaflet",
      "model_module_version": "^0.17",
      "model_name": "LeafletMapStyleModel",
      "state": {
       "_model_module_version": "^0.17"
      }
     },
     "9cd22ef286e24cb1b31c75e4b2f16539": {
      "model_module": "@jupyter-widgets/base",
      "model_module_version": "2.0.0",
      "model_name": "LayoutModel",
      "state": {
       "height": "310px",
       "width": "455px"
      }
     },
     "9cdb95044574476c804c646dee19b223": {
      "model_module": "@jupyter-widgets/controls",
      "model_module_version": "2.0.0",
      "model_name": "ToggleButtonModel",
      "state": {
       "button_style": "primary",
       "icon": "info-circle",
       "layout": "IPY_MODEL_3cd782433cff48c693eb087ee03e2781",
       "style": "IPY_MODEL_d16de83c30484353b36da19239843532",
       "tooltip": "Get COG/STAC pixel value"
      }
     },
     "9cddc5085393447eb8405567a5b14cb6": {
      "model_module": "@jupyter-widgets/controls",
      "model_module_version": "2.0.0",
      "model_name": "ToggleButtonModel",
      "state": {
       "button_style": "primary",
       "icon": "fast-forward",
       "layout": "IPY_MODEL_637edf5cc22e4f48bfb1060cbca10041",
       "style": "IPY_MODEL_5ec40d09a6f4452db0158b0d63807083",
       "tooltip": "Activate timeslider"
      }
     },
     "9cf6317fa55b4f12867da3bdffe0519d": {
      "model_module": "@jupyter-widgets/base",
      "model_module_version": "2.0.0",
      "model_name": "LayoutModel",
      "state": {
       "height": "auto",
       "padding": "0px 0px 0px 4px",
       "width": "auto"
      }
     },
     "9d01ab711ec0493c8505d6df1fb634d2": {
      "model_module": "@jupyter-widgets/base",
      "model_module_version": "2.0.0",
      "model_name": "LayoutModel",
      "state": {
       "height": "auto",
       "padding": "0px 0px 0px 4px",
       "width": "auto"
      }
     },
     "9d18563b731a4371b33a1e325c76427b": {
      "model_module": "@jupyter-widgets/controls",
      "model_module_version": "2.0.0",
      "model_name": "ToggleButtonStyleModel",
      "state": {
       "description_width": "",
       "font_family": null,
       "font_size": null,
       "font_style": null,
       "font_variant": null,
       "font_weight": null,
       "text_color": null,
       "text_decoration": null
      }
     },
     "9d40d2ccfde14ab396fb77674a16c651": {
      "model_module": "jupyter-leaflet",
      "model_module_version": "^0.17",
      "model_name": "LeafletZoomControlModel",
      "state": {
       "_model_module_version": "^0.17",
       "_view_module_version": "^0.17",
       "options": [
        "position",
        "zoom_in_text",
        "zoom_in_title",
        "zoom_out_text",
        "zoom_out_title"
       ]
      }
     },
     "9d44b4f92bfb4d58b101ef318f707bcc": {
      "model_module": "jupyter-leaflet",
      "model_module_version": "^0.17",
      "model_name": "LeafletMapStyleModel",
      "state": {
       "_model_module_version": "^0.17"
      }
     },
     "9d746b3060e14ce0b79720d6fc7a88f0": {
      "model_module": "@jupyter-widgets/controls",
      "model_module_version": "2.0.0",
      "model_name": "ToggleButtonStyleModel",
      "state": {
       "description_width": "",
       "font_family": null,
       "font_size": null,
       "font_style": null,
       "font_variant": null,
       "font_weight": null,
       "text_color": null,
       "text_decoration": null
      }
     },
     "9d967d3d47784cb599d6edd8e1f10091": {
      "model_module": "ipyevents",
      "model_module_version": "2.0.1",
      "model_name": "EventModel",
      "state": {
       "_supported_key_events": [
        "keydown",
        "keyup"
       ],
       "_supported_mouse_events": [
        "click",
        "auxclick",
        "dblclick",
        "mouseenter",
        "mouseleave",
        "mousedown",
        "mouseup",
        "mousemove",
        "wheel",
        "contextmenu",
        "dragstart",
        "drag",
        "dragend",
        "dragenter",
        "dragover",
        "dragleave",
        "drop"
       ],
       "_supported_touch_events": [
        "touchstart",
        "touchend",
        "touchmove",
        "touchcancel"
       ],
       "_view_module": "@jupyter-widgets/controls",
       "source": "IPY_MODEL_7db906f527524efeb8b52fb7c191f820",
       "throttle_or_debounce": "",
       "watched_events": [
        "mouseenter",
        "mouseleave"
       ],
       "xy_coordinate_system": ""
      }
     },
     "9d9e7e8a53d54af38938ec34646346b2": {
      "model_module": "@jupyter-widgets/controls",
      "model_module_version": "2.0.0",
      "model_name": "ToggleButtonStyleModel",
      "state": {
       "description_width": "",
       "font_family": null,
       "font_size": null,
       "font_style": null,
       "font_variant": null,
       "font_weight": null,
       "text_color": null,
       "text_decoration": null
      }
     },
     "9df3dc0153634f50b93f198c07ce7c0a": {
      "model_module": "@jupyter-widgets/base",
      "model_module_version": "2.0.0",
      "model_name": "LayoutModel",
      "state": {
       "height": "auto",
       "padding": "0px 0px 0px 4px",
       "width": "auto"
      }
     },
     "9e0be9faa46249969514deaa798d0b55": {
      "model_module": "jupyter-leaflet",
      "model_module_version": "^0.17",
      "model_name": "LeafletMeasureControlModel",
      "state": {
       "_model_module_version": "^0.17",
       "_view_module_version": "^0.17",
       "active_color": "orange",
       "options": [
        "active_color",
        "capture_z_index",
        "completed_color",
        "popup_options",
        "position",
        "primary_area_unit",
        "primary_length_unit",
        "secondary_area_unit",
        "secondary_length_unit"
       ],
       "position": "bottomleft",
       "primary_length_unit": "kilometers",
       "secondary_area_unit": null,
       "secondary_length_unit": null
      }
     },
     "9e3c9650bb7546bd9eea327de368a52b": {
      "model_module": "@jupyter-widgets/controls",
      "model_module_version": "2.0.0",
      "model_name": "ToggleButtonModel",
      "state": {
       "icon": "globe",
       "layout": "IPY_MODEL_d7eb9988a78e415a931122884004a38b",
       "style": "IPY_MODEL_149a406d599d4894b29f86e7677d1596",
       "tooltip": "Search location/data"
      }
     },
     "9e440bad063a4f07a80bc1320c6f0360": {
      "model_module": "@jupyter-widgets/base",
      "model_module_version": "2.0.0",
      "model_name": "LayoutModel",
      "state": {
       "height": "auto",
       "padding": "0px 0px 0px 4px",
       "width": "auto"
      }
     },
     "9e4777a47a0f4568b1fefbd38e245e6e": {
      "model_module": "@jupyter-widgets/base",
      "model_module_version": "2.0.0",
      "model_name": "LayoutModel",
      "state": {
       "height": "28px",
       "width": "72px"
      }
     },
     "9e4dd190cb2e44c3b0cb1214e8af6f3e": {
      "model_module": "@jupyter-widgets/controls",
      "model_module_version": "2.0.0",
      "model_name": "HBoxModel",
      "state": {
       "_view_count": 1,
       "children": [
        "IPY_MODEL_44bb33e1f6d24944a161c42ccfbd7b18"
       ],
       "layout": "IPY_MODEL_1efc841a946a41fc8346f022a9294d46"
      }
     },
     "9e7c563e85ac4afcaa0efa51d9b2c207": {
      "model_module": "@jupyter-widgets/controls",
      "model_module_version": "2.0.0",
      "model_name": "HBoxModel",
      "state": {
       "children": [
        "IPY_MODEL_8614581c9b514d57b56cc7555ed96641",
        "IPY_MODEL_d3921ce1b79940c3aed4e1cb5ea2513a",
        "IPY_MODEL_0deaf64c0d5d43178a2ea42004b17f41"
       ],
       "layout": "IPY_MODEL_b400397f5df642de9d419563f0f59073"
      }
     },
     "9ea5fcc79ddb4993a4d98116501c0eb6": {
      "model_module": "jupyter-leaflet",
      "model_module_version": "^0.17",
      "model_name": "LeafletDrawControlModel",
      "state": {
       "_model_module_version": "^0.17",
       "_view_module_version": "^0.17",
       "marker": {
        "shapeOptions": {
         "color": "#3388ff"
        }
       },
       "options": [
        "position"
       ],
       "polygon": {
        "shapeOptions": {
         "clickable": true,
         "color": "#3388ff",
         "fill": true,
         "fillColor": null,
         "fillOpacity": 0.2,
         "opacity": 0.5,
         "stroke": true,
         "weight": 4
        }
       },
       "polyline": {
        "shapeOptions": {
         "clickable": true,
         "color": "#3388ff",
         "fill": false,
         "opacity": 0.5,
         "stroke": true,
         "weight": 4
        }
       },
       "rectangle": {
        "shapeOptions": {
         "clickable": true,
         "color": "#3388ff",
         "fill": true,
         "fillColor": null,
         "fillOpacity": 0.2,
         "opacity": 0.5,
         "stroke": true,
         "weight": 4
        }
       }
      }
     },
     "9ebd2be343c04ac49a56c26a6828cc94": {
      "model_module": "@jupyter-widgets/controls",
      "model_module_version": "2.0.0",
      "model_name": "ToggleButtonModel",
      "state": {
       "button_style": "primary",
       "icon": "eraser",
       "layout": "IPY_MODEL_8d4295fb5bb549e79dfc426ed08b46a6",
       "style": "IPY_MODEL_476a22cdb6da43a588bff1f9834a3ea1",
       "tooltip": "Remove all drawn features"
      }
     },
     "9ecb2db80c9240e8984c30df57d8d7bd": {
      "model_module": "ipyevents",
      "model_module_version": "2.0.1",
      "model_name": "EventModel",
      "state": {
       "_supported_key_events": [
        "keydown",
        "keyup"
       ],
       "_supported_mouse_events": [
        "click",
        "auxclick",
        "dblclick",
        "mouseenter",
        "mouseleave",
        "mousedown",
        "mouseup",
        "mousemove",
        "wheel",
        "contextmenu",
        "dragstart",
        "drag",
        "dragend",
        "dragenter",
        "dragover",
        "dragleave",
        "drop"
       ],
       "_supported_touch_events": [
        "touchstart",
        "touchend",
        "touchmove",
        "touchcancel"
       ],
       "_view_module": "@jupyter-widgets/controls",
       "source": "IPY_MODEL_e7cef3f6d8584f808041222b11c917d2",
       "throttle_or_debounce": "",
       "watched_events": [
        "mouseenter",
        "mouseleave"
       ],
       "xy_coordinate_system": ""
      }
     },
     "9ed42abbd6c442daafca6bf81cd60655": {
      "model_module": "jupyter-leaflet",
      "model_module_version": "^0.17",
      "model_name": "LeafletMapModel",
      "state": {
       "_model_module_version": "^0.17",
       "_view_module_version": "^0.17",
       "center": [
        42.682,
        12.876
       ],
       "controls": [
        "IPY_MODEL_b7b72a84a7ef485f9e935721ccedf93b",
        "IPY_MODEL_13b0ed0234b24d1e84d3e3c3c9312c0c",
        "IPY_MODEL_c92c76a8b74c4b208b768546d016c2dc",
        "IPY_MODEL_f47c08b197b244fc8a5c947f63e6bf5e",
        "IPY_MODEL_788c1e5799374c1db3b71969f53f0176",
        "IPY_MODEL_48f1f0fd7a87498aaec0a0f4296aa811",
        "IPY_MODEL_110ee379ce80483bbdb1e5c50d2431ac",
        "IPY_MODEL_10d46801573d4500a99c089de0c44ba0"
       ],
       "default_style": "IPY_MODEL_6a6d18959ac241079f6b5b8ca1db18d5",
       "dragging_style": "IPY_MODEL_afa040b442b04cd99e4217697b896eee",
       "fullscreen": false,
       "interpolation": "bilinear",
       "layers": [
        "IPY_MODEL_03eab4ffa79c4767977a2311d4672eee",
        "IPY_MODEL_b26ad6e2053b437f991f18ab811ea28a"
       ],
       "layout": "IPY_MODEL_d91c4cb1f52741d499b6c50b39b51531",
       "max_zoom": 24,
       "modisdate": "2023-10-03",
       "options": [
        "bounce_at_zoom_limits",
        "box_zoom",
        "center",
        "close_popup_on_click",
        "double_click_zoom",
        "dragging",
        "fullscreen",
        "inertia",
        "inertia_deceleration",
        "inertia_max_speed",
        "interpolation",
        "keyboard",
        "keyboard_pan_offset",
        "keyboard_zoom_offset",
        "max_zoom",
        "min_zoom",
        "prefer_canvas",
        "scroll_wheel_zoom",
        "tap",
        "tap_tolerance",
        "touch_zoom",
        "world_copy_jump",
        "zoom",
        "zoom_animation_threshold",
        "zoom_delta",
        "zoom_snap"
       ],
       "prefer_canvas": false,
       "scroll_wheel_zoom": true,
       "style": "IPY_MODEL_b504d43a164d44f4905b136b342786d2",
       "window_url": "http://localhost:8888/lab/tree/02India_Analysis/2023October_PaperAnalysis.ipynb",
       "zoom": 5
      }
     },
     "9ee428fb50d94565bcea82d24446a678": {
      "model_module": "@jupyter-widgets/base",
      "model_module_version": "2.0.0",
      "model_name": "LayoutModel",
      "state": {}
     },
     "9f05c5aa927140ee93c0f281c6399d96": {
      "model_module": "@jupyter-widgets/controls",
      "model_module_version": "2.0.0",
      "model_name": "ToggleButtonStyleModel",
      "state": {
       "description_width": "",
       "font_family": null,
       "font_size": null,
       "font_style": null,
       "font_variant": null,
       "font_weight": null,
       "text_color": null,
       "text_decoration": null
      }
     },
     "9f34645a5bef419d93901e4db1ae755f": {
      "model_module": "@jupyter-widgets/base",
      "model_module_version": "2.0.0",
      "model_name": "LayoutModel",
      "state": {
       "height": "auto",
       "padding": "0px 0px 0px 4px",
       "width": "auto"
      }
     },
     "9f6c38127f6345609089c1a29f7d5328": {
      "model_module": "@jupyter-widgets/controls",
      "model_module_version": "2.0.0",
      "model_name": "ToggleButtonModel",
      "state": {
       "button_style": "primary",
       "icon": "random",
       "layout": "IPY_MODEL_2e75a6bd84784dbe8fa75505fa8b9108",
       "style": "IPY_MODEL_24915d1c0757408d8f6defda9888fb22",
       "tooltip": "Sankey plots"
      }
     },
     "9f7aa3d076a34758b7cec348e26075c8": {
      "model_module": "@jupyter-widgets/controls",
      "model_module_version": "2.0.0",
      "model_name": "ToggleButtonStyleModel",
      "state": {
       "description_width": "",
       "font_family": null,
       "font_size": null,
       "font_style": null,
       "font_variant": null,
       "font_weight": null,
       "text_color": null,
       "text_decoration": null
      }
     },
     "9f863652d5054c3fb6e067ece9ce233c": {
      "model_module": "@jupyter-widgets/controls",
      "model_module_version": "2.0.0",
      "model_name": "VBoxModel",
      "state": {
       "children": [
        "IPY_MODEL_dc571afb0fc14341ab10b58d9a866a75",
        "IPY_MODEL_1dc45b7a85694248bf481d2e229007d9"
       ],
       "layout": "IPY_MODEL_cadc8da242664e4e858782fd859dbab4"
      }
     },
     "9f90cdcd17b149a7826b9fe733f2f452": {
      "model_module": "@jupyter-widgets/controls",
      "model_module_version": "2.0.0",
      "model_name": "ToggleButtonStyleModel",
      "state": {
       "description_width": "",
       "font_family": null,
       "font_size": null,
       "font_style": null,
       "font_variant": null,
       "font_weight": null,
       "text_color": null,
       "text_decoration": null
      }
     },
     "9fb9bc9d9d8e4fc38a1cb49c21260529": {
      "model_module": "@jupyter-widgets/controls",
      "model_module_version": "2.0.0",
      "model_name": "ToggleButtonsStyleModel",
      "state": {
       "button_width": "128px",
       "description_width": ""
      }
     },
     "9fe3212a34d844db9c8adca90e4cbdf1": {
      "model_module": "@jupyter-widgets/controls",
      "model_module_version": "2.0.0",
      "model_name": "ToggleButtonModel",
      "state": {
       "button_style": "primary",
       "icon": "gears",
       "layout": "IPY_MODEL_8f348e006c934374bfedadd4d348f77a",
       "style": "IPY_MODEL_57ff0be3ed454c6ba06a0c3d80447595",
       "tooltip": "WhiteboxTools for local geoprocessing"
      }
     },
     "9fe61cd57aac45c299bc75301a8b70b8": {
      "model_module": "@jupyter-widgets/controls",
      "model_module_version": "2.0.0",
      "model_name": "HBoxModel",
      "state": {
       "_view_count": 1,
       "children": [
        "IPY_MODEL_7a6b58d876774d44b8a136f901276d26"
       ],
       "layout": "IPY_MODEL_5d711cc3325348139691f12a55718dfa"
      }
     },
     "9ffca4a5d22942fe912699678a1298bc": {
      "model_module": "@jupyter-widgets/base",
      "model_module_version": "2.0.0",
      "model_name": "LayoutModel",
      "state": {}
     },
     "a004de928a214f1da2559b6dfbc0ab3f": {
      "model_module": "jupyter-leaflet",
      "model_module_version": "^0.17",
      "model_name": "LeafletWidgetControlModel",
      "state": {
       "_model_module": "jupyter-leaflet",
       "_model_module_version": "^0.17",
       "_view_count": null,
       "_view_module": "jupyter-leaflet",
       "_view_module_version": "^0.17",
       "options": [
        "position",
        "transparent_bg"
       ],
       "position": "topleft",
       "widget": "IPY_MODEL_c3294f2894a44b81ad485ff2e0e1a611"
      }
     },
     "a00bd96b087c4f8f8eaf401271809c9c": {
      "model_module": "@jupyter-widgets/base",
      "model_module_version": "2.0.0",
      "model_name": "LayoutModel",
      "state": {
       "height": "auto",
       "padding": "0px 0px 0px 4px",
       "width": "auto"
      }
     },
     "a02d3db92da5495bb6de5ba477623561": {
      "model_module": "@jupyter-widgets/controls",
      "model_module_version": "2.0.0",
      "model_name": "HBoxModel",
      "state": {
       "children": [
        "IPY_MODEL_562a9d41f2f54e90bad714a41bb99d0d",
        "IPY_MODEL_5d7d0d9efea7485491370a80887aad8e"
       ],
       "layout": "IPY_MODEL_fee7c4ad36a341539e08c01cc31d714c"
      }
     },
     "a034a058703d409b92b4ac4d37551e64": {
      "model_module": "jupyter-leaflet",
      "model_module_version": "^0.17",
      "model_name": "LeafletTileLayerModel",
      "state": {
       "_model_module_version": "^0.17",
       "_view_module_version": "^0.17",
       "attribution": "Google",
       "max_zoom": 24,
       "name": "Google Maps",
       "options": [
        "attribution",
        "bounds",
        "detect_retina",
        "max_native_zoom",
        "max_zoom",
        "min_native_zoom",
        "min_zoom",
        "no_wrap",
        "tile_size",
        "tms",
        "zoom_offset"
       ],
       "url": "https://mt1.google.com/vt/lyrs=m&x={x}&y={y}&z={z}"
      }
     },
     "a07fa9ce2b13447e93a75e59973f0b53": {
      "model_module": "@jupyter-widgets/controls",
      "model_module_version": "2.0.0",
      "model_name": "ToggleButtonsStyleModel",
      "state": {
       "button_width": "110px",
       "description_width": ""
      }
     },
     "a08b05958af247a4bfb6f113116e4bda": {
      "model_module": "@jupyter-widgets/controls",
      "model_module_version": "2.0.0",
      "model_name": "ToggleButtonStyleModel",
      "state": {
       "description_width": "",
       "font_family": null,
       "font_size": null,
       "font_style": null,
       "font_variant": null,
       "font_weight": null,
       "text_color": null,
       "text_decoration": null
      }
     },
     "a0a96365334d48918f6f822d1cda0d90": {
      "model_module": "@jupyter-widgets/base",
      "model_module_version": "2.0.0",
      "model_name": "LayoutModel",
      "state": {}
     },
     "a0c63ccb161440d78ecd13f2e57a26ee": {
      "model_module": "@jupyter-widgets/base",
      "model_module_version": "2.0.0",
      "model_name": "LayoutModel",
      "state": {
       "height": "28px",
       "width": "72px"
      }
     },
     "a0ec907d136242b2b583679f195ea285": {
      "model_module": "@jupyter-widgets/base",
      "model_module_version": "2.0.0",
      "model_name": "LayoutModel",
      "state": {
       "height": "auto",
       "padding": "0px 0px 0px 4px",
       "width": "auto"
      }
     },
     "a11a111239964e91a16b7b89934665ea": {
      "model_module": "@jupyter-widgets/controls",
      "model_module_version": "2.0.0",
      "model_name": "CheckboxModel",
      "state": {
       "description": "All layers on/off",
       "disabled": false,
       "indent": false,
       "layout": "IPY_MODEL_dd9c44a164964f0ca511d376626df666",
       "style": "IPY_MODEL_d9f6f2775d684ae7b874301938c02a29",
       "value": false
      }
     },
     "a11b0845dbe04dadab6be595d35abd80": {
      "model_module": "@jupyter-widgets/base",
      "model_module_version": "2.0.0",
      "model_name": "LayoutModel",
      "state": {}
     },
     "a140c51dbb2647e6bbfefcdf26fb179d": {
      "model_module": "@jupyter-widgets/base",
      "model_module_version": "2.0.0",
      "model_name": "LayoutModel",
      "state": {
       "height": "28px",
       "width": "72px"
      }
     },
     "a1625d67835c49bea4b99fd1abd436da": {
      "model_module": "jupyter-leaflet",
      "model_module_version": "^0.17",
      "model_name": "LeafletMeasureControlModel",
      "state": {
       "_model_module_version": "^0.17",
       "_view_module_version": "^0.17",
       "active_color": "orange",
       "options": [
        "active_color",
        "capture_z_index",
        "completed_color",
        "popup_options",
        "position",
        "primary_area_unit",
        "primary_length_unit",
        "secondary_area_unit",
        "secondary_length_unit"
       ],
       "position": "bottomleft",
       "primary_length_unit": "kilometers",
       "secondary_area_unit": null,
       "secondary_length_unit": null
      }
     },
     "a16c2a9760fd4d4ebe02fa76bd0fd1df": {
      "model_module": "@jupyter-widgets/base",
      "model_module_version": "2.0.0",
      "model_name": "LayoutModel",
      "state": {
       "height": "auto",
       "padding": "0px 0px 0px 4px",
       "width": "auto"
      }
     },
     "a18156a5807c4057b54173495fbfd761": {
      "model_module": "@jupyter-widgets/base",
      "model_module_version": "2.0.0",
      "model_name": "LayoutModel",
      "state": {}
     },
     "a1887fbd9b0d47b1b2777b0fbdb38768": {
      "model_module": "jupyter-leaflet",
      "model_module_version": "^0.17",
      "model_name": "LeafletMapStyleModel",
      "state": {
       "_model_module_version": "^0.17",
       "cursor": "move"
      }
     },
     "a1cd16904a6843b3a7332b8eee14bcda": {
      "model_module": "@jupyter-widgets/controls",
      "model_module_version": "2.0.0",
      "model_name": "DropdownModel",
      "state": {
       "index": null,
       "layout": "IPY_MODEL_48b3864ce8df4f01bf364c9bb8cbe003",
       "style": "IPY_MODEL_c59fe3319ba34009a65d8cb6eb68db0e"
      }
     },
     "a211eaed72884c4fb4cba3fecf91721f": {
      "model_module": "@jupyter-widgets/base",
      "model_module_version": "2.0.0",
      "model_name": "LayoutModel",
      "state": {}
     },
     "a22d37646e1244a89ef87af8fe7138bb": {
      "model_module": "@jupyter-widgets/base",
      "model_module_version": "2.0.0",
      "model_name": "LayoutModel",
      "state": {}
     },
     "a28f50def8254379b23c549cb98f3a0f": {
      "model_module": "@jupyter-widgets/base",
      "model_module_version": "2.0.0",
      "model_name": "LayoutModel",
      "state": {
       "height": "auto",
       "padding": "0px 0px 0px 4px",
       "width": "auto"
      }
     },
     "a2927b97feb549e0b391f9db5adf61e6": {
      "model_module": "jupyter-leaflet",
      "model_module_version": "^0.17",
      "model_name": "LeafletTileLayerModel",
      "state": {
       "_model_module_version": "^0.17",
       "_view_module_version": "^0.17",
       "attribution": "Google Earth Engine",
       "max_zoom": 24,
       "name": "New Delhi",
       "options": [
        "attribution",
        "bounds",
        "detect_retina",
        "max_native_zoom",
        "max_zoom",
        "min_native_zoom",
        "min_zoom",
        "no_wrap",
        "tile_size",
        "tms",
        "zoom_offset"
       ],
       "url": "https://earthengine.googleapis.com/v1/projects/earthengine-legacy/maps/00998ae602db08d60e1c5dc4acfc0fdb-beb395fbbcff9b897c40f4c92fc4ba24/tiles/{z}/{x}/{y}"
      }
     },
     "a2e6b428c7df49d3a9ee4378e07e5cd5": {
      "model_module": "@jupyter-widgets/controls",
      "model_module_version": "2.0.0",
      "model_name": "ToggleButtonModel",
      "state": {
       "button_style": "primary",
       "icon": "line-chart",
       "layout": "IPY_MODEL_5e3cf3bed40f4b6ea773327d5768cb13",
       "style": "IPY_MODEL_48ec494ce5d341259f5ea24fb7c8f3c1",
       "tooltip": "Creating and plotting transects"
      }
     },
     "a2f40e4d53394ccb8eff0ee5a61053ce": {
      "model_module": "@jupyter-widgets/controls",
      "model_module_version": "2.0.0",
      "model_name": "ToggleButtonModel",
      "state": {
       "icon": "wrench",
       "layout": "IPY_MODEL_dfaca1e2ba584b30b74ac2372dc4d5ab",
       "style": "IPY_MODEL_ed3d8bbff1984fc4a414e8e13a0cd631",
       "tooltip": "Toolbar"
      }
     },
     "a312c4b7ec8740ae8260413a8e743f12": {
      "model_module": "@jupyter-widgets/controls",
      "model_module_version": "2.0.0",
      "model_name": "ToggleButtonModel",
      "state": {
       "button_style": "primary",
       "icon": "fast-forward",
       "layout": "IPY_MODEL_5b5ef62d2b3a46c2be30f7de01bf6e83",
       "style": "IPY_MODEL_be382dd714634963bb9b9cf75f91b843",
       "tooltip": "Activate timeslider"
      }
     },
     "a31cf72b0c4a4014b76e8f2f9df5e6f4": {
      "model_module": "@jupyter-widgets/controls",
      "model_module_version": "2.0.0",
      "model_name": "HBoxModel",
      "state": {
       "children": [
        "IPY_MODEL_bb493d173cf04c8082592130c45b2c40",
        "IPY_MODEL_f53e5eea823c46ec81ca48573395780a"
       ],
       "layout": "IPY_MODEL_651ee5198b8949059225f2c68b65b428"
      }
     },
     "a34dcc9d1765419ebb920a50891c5d20": {
      "model_module": "@jupyter-widgets/controls",
      "model_module_version": "2.0.0",
      "model_name": "ToggleButtonStyleModel",
      "state": {
       "description_width": "",
       "font_family": null,
       "font_size": null,
       "font_style": null,
       "font_variant": null,
       "font_weight": null,
       "text_color": null,
       "text_decoration": null
      }
     },
     "a3814e40029d48189b3be1c901717239": {
      "model_module": "@jupyter-widgets/base",
      "model_module_version": "2.0.0",
      "model_name": "LayoutModel",
      "state": {
       "height": "28px",
       "padding": "0px 0px 0px 4px",
       "width": "28px"
      }
     },
     "a38cbd2849f24272b1bf9400a0286681": {
      "model_module": "jupyter-leaflet",
      "model_module_version": "^0.17",
      "model_name": "LeafletZoomControlModel",
      "state": {
       "_model_module_version": "^0.17",
       "_view_module_version": "^0.17",
       "options": [
        "position",
        "zoom_in_text",
        "zoom_in_title",
        "zoom_out_text",
        "zoom_out_title"
       ]
      }
     },
     "a3900bd3c3b147ed89b295bb23e48fe3": {
      "model_module": "jupyter-leaflet",
      "model_module_version": "^0.17",
      "model_name": "LeafletWidgetControlModel",
      "state": {
       "_model_module": "jupyter-leaflet",
       "_model_module_version": "^0.17",
       "_view_count": null,
       "_view_module": "jupyter-leaflet",
       "_view_module_version": "^0.17",
       "options": [
        "position",
        "transparent_bg"
       ],
       "position": "topleft",
       "widget": "IPY_MODEL_8d0275eb87ab4c52b48fe6a1bfd52461"
      }
     },
     "a3ce66a94770416091e1926b138c6918": {
      "model_module": "jupyter-leaflet",
      "model_module_version": "^0.17",
      "model_name": "LeafletScaleControlModel",
      "state": {
       "_model_module_version": "^0.17",
       "_view_module_version": "^0.17",
       "imperial": true,
       "max_width": 100,
       "metric": true,
       "options": [
        "imperial",
        "max_width",
        "metric",
        "position",
        "update_when_idle"
       ],
       "position": "bottomleft",
       "update_when_idle": false
      }
     },
     "a3d6e71a8bba4181877192c3e634a020": {
      "model_module": "ipyevents",
      "model_module_version": "2.0.1",
      "model_name": "EventModel",
      "state": {
       "_supported_key_events": [
        "keydown",
        "keyup"
       ],
       "_supported_mouse_events": [
        "click",
        "auxclick",
        "dblclick",
        "mouseenter",
        "mouseleave",
        "mousedown",
        "mouseup",
        "mousemove",
        "wheel",
        "contextmenu",
        "dragstart",
        "drag",
        "dragend",
        "dragenter",
        "dragover",
        "dragleave",
        "drop"
       ],
       "_supported_touch_events": [
        "touchstart",
        "touchend",
        "touchmove",
        "touchcancel"
       ],
       "_view_module": "@jupyter-widgets/controls",
       "source": "IPY_MODEL_ff00646821214ad38b0607cb6d8ec1a1",
       "throttle_or_debounce": "",
       "watched_events": [
        "mouseenter",
        "mouseleave"
       ],
       "xy_coordinate_system": ""
      }
     },
     "a3d944ea18664a04b6902fef9ca76a5b": {
      "model_module": "@jupyter-widgets/controls",
      "model_module_version": "2.0.0",
      "model_name": "ToggleButtonModel",
      "state": {
       "button_style": "primary",
       "icon": "map",
       "layout": "IPY_MODEL_524cfba8fc6f45bc8fae1a6caad131be",
       "style": "IPY_MODEL_c9037e96592e4bc79747202c868db096",
       "tooltip": "Change basemap"
      }
     },
     "a42f01054b0f4d2bb248423cac06a6fa": {
      "model_module": "@jupyter-widgets/base",
      "model_module_version": "2.0.0",
      "model_name": "LayoutModel",
      "state": {
       "height": "auto",
       "padding": "0px 0px 0px 4px",
       "width": "auto"
      }
     },
     "a4419d37e4b9406680a67410a0cb7a17": {
      "model_module": "@jupyter-widgets/controls",
      "model_module_version": "2.0.0",
      "model_name": "DropdownModel",
      "state": {
       "index": null,
       "layout": "IPY_MODEL_82c139d72c4d43b6873f629cc304ede0",
       "style": "IPY_MODEL_40edbee7dbf94a5699ad9541e00ebe87"
      }
     },
     "a4524826b071473fab2bede97a0884f3": {
      "model_module": "jupyter-leaflet",
      "model_module_version": "^0.17",
      "model_name": "LeafletTileLayerModel",
      "state": {
       "_model_module_version": "^0.17",
       "_view_module_version": "^0.17",
       "attribution": "&copy; <a href=\"https://www.openstreetmap.org/copyright\">OpenStreetMap</a> contributors",
       "base": true,
       "max_zoom": 19,
       "min_zoom": 1,
       "name": "OpenStreetMap.Mapnik",
       "options": [
        "attribution",
        "bounds",
        "detect_retina",
        "max_native_zoom",
        "max_zoom",
        "min_native_zoom",
        "min_zoom",
        "no_wrap",
        "tile_size",
        "tms",
        "zoom_offset"
       ],
       "url": "https://tile.openstreetmap.org/{z}/{x}/{y}.png"
      }
     },
     "a4635d4f4f52435096d633d8be3faa12": {
      "model_module": "jupyter-leaflet",
      "model_module_version": "^0.17",
      "model_name": "LeafletTileLayerModel",
      "state": {
       "_model_module_version": "^0.17",
       "_view_module_version": "^0.17",
       "attribution": "&copy; <a href=\"https://www.openstreetmap.org/copyright\">OpenStreetMap</a> contributors",
       "base": true,
       "max_zoom": 19,
       "min_zoom": 1,
       "name": "OpenStreetMap.Mapnik",
       "options": [
        "attribution",
        "bounds",
        "detect_retina",
        "max_native_zoom",
        "max_zoom",
        "min_native_zoom",
        "min_zoom",
        "no_wrap",
        "tile_size",
        "tms",
        "zoom_offset"
       ],
       "url": "https://tile.openstreetmap.org/{z}/{x}/{y}.png"
      }
     },
     "a46c4ba9b41b4c9b879a277141da0e0c": {
      "model_module": "@jupyter-widgets/controls",
      "model_module_version": "2.0.0",
      "model_name": "TextModel",
      "state": {
       "layout": "IPY_MODEL_a58ab877e1b04b98b00e6264e6513bad",
       "placeholder": "Search tools ...",
       "style": "IPY_MODEL_794c8b3843bb47e2af0bf0cbf8714f3b"
      }
     },
     "a472ee810b114941b4dbed23f1c66f16": {
      "model_module": "@jupyter-widgets/controls",
      "model_module_version": "2.0.0",
      "model_name": "ToggleButtonStyleModel",
      "state": {
       "description_width": "",
       "font_family": null,
       "font_size": null,
       "font_style": null,
       "font_variant": null,
       "font_weight": null,
       "text_color": null,
       "text_decoration": null
      }
     },
     "a47c1584c8e248c5864c0a36f37da6a7": {
      "model_module": "@jupyter-widgets/controls",
      "model_module_version": "2.0.0",
      "model_name": "ToggleButtonStyleModel",
      "state": {
       "description_width": "",
       "font_family": null,
       "font_size": null,
       "font_style": null,
       "font_variant": null,
       "font_weight": null,
       "text_color": null,
       "text_decoration": null
      }
     },
     "a4cc4c6905064a7b8063d9d14129cada": {
      "model_module": "@jupyter-widgets/base",
      "model_module_version": "2.0.0",
      "model_name": "LayoutModel",
      "state": {
       "height": "auto",
       "padding": "0px 0px 0px 4px",
       "width": "auto"
      }
     },
     "a4da973deb9147cea31ded2bdde92182": {
      "model_module": "@jupyter-widgets/controls",
      "model_module_version": "2.0.0",
      "model_name": "ToggleButtonStyleModel",
      "state": {
       "description_width": "",
       "font_family": null,
       "font_size": null,
       "font_style": null,
       "font_variant": null,
       "font_weight": null,
       "text_color": null,
       "text_decoration": null
      }
     },
     "a53c5e2951194fbeac82f51f0a62acf6": {
      "model_module": "@jupyter-widgets/base",
      "model_module_version": "2.0.0",
      "model_name": "LayoutModel",
      "state": {
       "max_width": "410px",
       "width": "500px"
      }
     },
     "a58ab877e1b04b98b00e6264e6513bad": {
      "model_module": "@jupyter-widgets/base",
      "model_module_version": "2.0.0",
      "model_name": "LayoutModel",
      "state": {
       "width": "170px"
      }
     },
     "a5dd52bdcffc47dc9d395772bd1cd3aa": {
      "model_module": "@jupyter-widgets/controls",
      "model_module_version": "2.0.0",
      "model_name": "VBoxModel",
      "state": {
       "_view_count": 1,
       "children": [
        "IPY_MODEL_0c044d1a9cdd44049186d5a39ac15b14"
       ],
       "layout": "IPY_MODEL_b54c284b278b43e5a34d444c117a7488"
      }
     },
     "a5de7823f01a492a84d49249743122b1": {
      "model_module": "@jupyter-widgets/controls",
      "model_module_version": "2.0.0",
      "model_name": "TextModel",
      "state": {
       "layout": "IPY_MODEL_33a9144d08264574a214c3f66755cf32",
       "placeholder": "Search by place name or address",
       "style": "IPY_MODEL_e03a2a6406594f948b94547227881ea4",
       "tooltip": "Search location"
      }
     },
     "a5e4cb73dd9d4e9a995902fd2580c214": {
      "model_module": "@jupyter-widgets/base",
      "model_module_version": "2.0.0",
      "model_name": "LayoutModel",
      "state": {
       "height": "18px",
       "width": "140px"
      }
     },
     "a5eb79cd441543319b7fc611ad33f510": {
      "model_module": "@jupyter-widgets/controls",
      "model_module_version": "2.0.0",
      "model_name": "GridBoxModel",
      "state": {
       "children": [
        "IPY_MODEL_0a0e43ca82304a68af04ef6f70d0dcea",
        "IPY_MODEL_2255e3ad0941446ca07770ca4015a26f",
        "IPY_MODEL_50ae53d0fbbe47e39bc13cfe5e89a7be",
        "IPY_MODEL_bef831c2716c4c099122aa92c37c7889",
        "IPY_MODEL_bd31f301eeac43558be2de44d60d3a23",
        "IPY_MODEL_fe3712ed5f864575926a967a13dfc2a6"
       ],
       "layout": "IPY_MODEL_760d5f49be194cc7842aa821a7622729"
      }
     },
     "a616017bcbae402683cf7e1f1bea54fb": {
      "model_module": "@jupyter-widgets/base",
      "model_module_version": "2.0.0",
      "model_name": "LayoutModel",
      "state": {
       "height": "auto",
       "padding": "0px 0px 0px 4px",
       "width": "auto"
      }
     },
     "a61be2f1286547dea07578e341cd91a1": {
      "model_module": "@jupyter-widgets/controls",
      "model_module_version": "2.0.0",
      "model_name": "HBoxModel",
      "state": {
       "children": [
        "IPY_MODEL_ec4ff8d9f33a4eb8b90f25c0e410703a",
        "IPY_MODEL_4436f72ad1c647d9b62723bfb1c719ed"
       ],
       "layout": "IPY_MODEL_bd9bd41df3034a79bd9584e83307cbcd"
      }
     },
     "a61d39e21cae4a558eea478b0e7824bf": {
      "model_module": "@jupyter-widgets/base",
      "model_module_version": "2.0.0",
      "model_name": "LayoutModel",
      "state": {
       "height": "28px",
       "padding": "0px 0px 0px 4px",
       "width": "28px"
      }
     },
     "a629bf57342c428fa98719083d8e6796": {
      "model_module": "@jupyter-widgets/base",
      "model_module_version": "2.0.0",
      "model_name": "LayoutModel",
      "state": {}
     },
     "a640648ce2104ea18ddb1ed123c4628e": {
      "model_module": "@jupyter-widgets/controls",
      "model_module_version": "2.0.0",
      "model_name": "VBoxModel",
      "state": {
       "children": [
        "IPY_MODEL_6fa01563ef2f4b8f9f363dc721511c9e",
        "IPY_MODEL_753beb68ab5f45cea074f9ce19b2ffa8"
       ],
       "layout": "IPY_MODEL_20213819d9054b55ab5e135a9d491ea8"
      }
     },
     "a6a47c4b9f1f45e09ecf74bd2b5c8f6e": {
      "model_module": "@jupyter-widgets/base",
      "model_module_version": "2.0.0",
      "model_name": "LayoutModel",
      "state": {
       "grid_gap": "1px 1px",
       "grid_template_columns": "32px 32px 32px ",
       "grid_template_rows": "32px 32px ",
       "padding": "5px",
       "width": "109px"
      }
     },
     "a6abfb630b3f4001a9ab3ad5774f9705": {
      "model_module": "@jupyter-widgets/controls",
      "model_module_version": "2.0.0",
      "model_name": "ToggleButtonStyleModel",
      "state": {
       "description_width": "",
       "font_family": null,
       "font_size": null,
       "font_style": null,
       "font_variant": null,
       "font_weight": null,
       "text_color": null,
       "text_decoration": null
      }
     },
     "a6d33f99aac64210b49eb61343a3ee6f": {
      "model_module": "@jupyter-widgets/controls",
      "model_module_version": "2.0.0",
      "model_name": "ToggleButtonModel",
      "state": {
       "icon": "server",
       "layout": "IPY_MODEL_afa51c77022c4a29b32b2b12c9274019",
       "style": "IPY_MODEL_fad62156599a4cbca4c424abd664490a",
       "tooltip": "Layers"
      }
     },
     "a6d6e34b78744145ad86d26df490fe75": {
      "model_module": "@jupyter-widgets/controls",
      "model_module_version": "2.0.0",
      "model_name": "ButtonStyleModel",
      "state": {
       "font_family": null,
       "font_size": null,
       "font_style": null,
       "font_variant": null,
       "font_weight": null,
       "text_color": null,
       "text_decoration": null
      }
     },
     "a72d7926fb744d5f976342a032ef7cb6": {
      "model_module": "@jupyter-widgets/controls",
      "model_module_version": "2.0.0",
      "model_name": "ToggleButtonStyleModel",
      "state": {
       "description_width": "",
       "font_family": null,
       "font_size": null,
       "font_style": null,
       "font_variant": null,
       "font_weight": null,
       "text_color": null,
       "text_decoration": null
      }
     },
     "a74929f6a70c4f4686bb76e7f8324d67": {
      "model_module": "jupyter-leaflet",
      "model_module_version": "^0.17",
      "model_name": "LeafletZoomControlModel",
      "state": {
       "_model_module_version": "^0.17",
       "_view_module_version": "^0.17",
       "options": [
        "position",
        "zoom_in_text",
        "zoom_in_title",
        "zoom_out_text",
        "zoom_out_title"
       ]
      }
     },
     "a75114cd762b49eaa4f9ca90231481e6": {
      "model_module": "@jupyter-widgets/controls",
      "model_module_version": "2.0.0",
      "model_name": "TextModel",
      "state": {
       "layout": "IPY_MODEL_3d97a48f87fe4854aca3971279aee3d8",
       "placeholder": "Search by place name or address",
       "style": "IPY_MODEL_40957a823e444d99b22c84741345b381",
       "tooltip": "Search location"
      }
     },
     "a76d17c6501948af861573d3adb73fc1": {
      "model_module": "jupyter-leaflet",
      "model_module_version": "^0.17",
      "model_name": "LeafletAttributionControlModel",
      "state": {
       "_model_module_version": "^0.17",
       "_view_module_version": "^0.17",
       "options": [
        "position",
        "prefix"
       ],
       "position": "bottomright",
       "prefix": "ipyleaflet"
      }
     },
     "a7a1397357184a56bab9a5f9ad03da59": {
      "model_module": "@jupyter-widgets/controls",
      "model_module_version": "2.0.0",
      "model_name": "ToggleButtonStyleModel",
      "state": {
       "description_width": "",
       "font_family": null,
       "font_size": null,
       "font_style": null,
       "font_variant": null,
       "font_weight": null,
       "text_color": null,
       "text_decoration": null
      }
     },
     "a7ba9043a19f469fbe8f9739b7474148": {
      "model_module": "@jupyter-widgets/base",
      "model_module_version": "2.0.0",
      "model_name": "LayoutModel",
      "state": {
       "height": "18px",
       "width": "140px"
      }
     },
     "a8734b0b11ad41e7b9587925189263c3": {
      "model_module": "jupyter-leaflet",
      "model_module_version": "^0.17",
      "model_name": "LeafletDrawControlModel",
      "state": {
       "_model_module_version": "^0.17",
       "_view_module_version": "^0.17",
       "marker": {
        "shapeOptions": {
         "color": "#3388ff"
        }
       },
       "options": [
        "position"
       ],
       "rectangle": {
        "shapeOptions": {
         "color": "#3388ff"
        }
       }
      }
     },
     "a889c2d7fff849c49e35aa8198964724": {
      "model_module": "@jupyter-widgets/controls",
      "model_module_version": "2.0.0",
      "model_name": "GridBoxModel",
      "state": {
       "children": [
        "IPY_MODEL_6876094cc1da44b090f133d6f4949b99",
        "IPY_MODEL_7d92e15b47cc4db383ca22d3718e88e1",
        "IPY_MODEL_bf47fd4443914be49bfbf0a536cdb1fb",
        "IPY_MODEL_37c9dc06e53c4328860a2d0b48af4ef0",
        "IPY_MODEL_bdc8dbc5dc7548598ecf0f915df38af6",
        "IPY_MODEL_912420b07d6645589edb0ac24d231401"
       ],
       "layout": "IPY_MODEL_6c0f4c2c6c094bc3a60f0574c2b63c56"
      }
     },
     "a8a483dab44c4466b716e67e7f6e09b2": {
      "model_module": "@jupyter-widgets/base",
      "model_module_version": "2.0.0",
      "model_name": "LayoutModel",
      "state": {
       "height": "auto",
       "padding": "0px 0px 0px 4px",
       "width": "auto"
      }
     },
     "a8a516eb7709447699a35bf5ad19189c": {
      "model_module": "@jupyter-widgets/controls",
      "model_module_version": "2.0.0",
      "model_name": "ButtonModel",
      "state": {
       "button_style": "primary",
       "description": "import",
       "layout": "IPY_MODEL_b73f1dfa8db5495b93c06089f4f500f8",
       "style": "IPY_MODEL_8d5b517a1a2e48b6a7ab4e97bf606bc7",
       "tooltip": "Click to import the selected asset"
      }
     },
     "a8bb6442189e4606b0dfd5f1a208fd12": {
      "model_module": "@jupyter-widgets/base",
      "model_module_version": "2.0.0",
      "model_name": "LayoutModel",
      "state": {
       "height": "auto",
       "padding": "0px 0px 0px 4px",
       "width": "auto"
      }
     },
     "a90db823de7c464c9b87db797e9ccbfd": {
      "model_module": "@jupyter-widgets/base",
      "model_module_version": "2.0.0",
      "model_name": "LayoutModel",
      "state": {
       "max_width": "57px",
       "min_width": "57px"
      }
     },
     "a92eb6c0572d4e47b16b23c3f4b890c8": {
      "model_module": "@jupyter-widgets/controls",
      "model_module_version": "2.0.0",
      "model_name": "ToggleButtonStyleModel",
      "state": {
       "description_width": "",
       "font_family": null,
       "font_size": null,
       "font_style": null,
       "font_variant": null,
       "font_weight": null,
       "text_color": null,
       "text_decoration": null
      }
     },
     "a932b9783c5a4e7daa4cf5b68762732c": {
      "model_module": "jupyter-leaflet",
      "model_module_version": "^0.17",
      "model_name": "LeafletZoomControlModel",
      "state": {
       "_model_module_version": "^0.17",
       "_view_module_version": "^0.17",
       "options": [
        "position",
        "zoom_in_text",
        "zoom_in_title",
        "zoom_out_text",
        "zoom_out_title"
       ]
      }
     },
     "a9354eb8a2cd48c68eeb7444cdbde8f5": {
      "model_module": "@jupyter-widgets/base",
      "model_module_version": "2.0.0",
      "model_name": "LayoutModel",
      "state": {
       "padding": "0px 8px 0px 8px"
      }
     },
     "a93b0d717e81494b9306605ed3958f40": {
      "model_module": "@jupyter-widgets/base",
      "model_module_version": "2.0.0",
      "model_name": "LayoutModel",
      "state": {
       "height": "auto",
       "padding": "0px 0px 0px 4px",
       "width": "auto"
      }
     },
     "a9512d9dc3004c12b638f2d364bc961d": {
      "model_module": "@jupyter-widgets/base",
      "model_module_version": "2.0.0",
      "model_name": "LayoutModel",
      "state": {
       "width": "340px"
      }
     },
     "a961152202094b7190681a24f34f22dc": {
      "model_module": "@jupyter-widgets/controls",
      "model_module_version": "2.0.0",
      "model_name": "HBoxModel",
      "state": {
       "children": [
        "IPY_MODEL_a6d33f99aac64210b49eb61343a3ee6f",
        "IPY_MODEL_249192fab7254498ab93e3961b1c5a14"
       ],
       "layout": "IPY_MODEL_f34d88b61b4641ad917075a61e543cc3"
      }
     },
     "a99152c9a55e41cda389c1203614a428": {
      "model_module": "@jupyter-widgets/base",
      "model_module_version": "2.0.0",
      "model_name": "LayoutModel",
      "state": {
       "height": "auto",
       "padding": "0px 0px 0px 4px",
       "width": "auto"
      }
     },
     "a9a2eed199f84a41a4927198b75be85c": {
      "model_module": "@jupyter-widgets/controls",
      "model_module_version": "2.0.0",
      "model_name": "ToggleButtonModel",
      "state": {
       "button_style": "primary",
       "icon": "plus",
       "layout": "IPY_MODEL_645a759d690345ccbc33d26a6f9e771a",
       "style": "IPY_MODEL_f2b04dc06c6f49ac9f96be2be432e40b",
       "tooltip": "Expand toolbar"
      }
     },
     "a9b037bf581b48f381e40c7eb2cc2b93": {
      "model_module": "@jupyter-widgets/controls",
      "model_module_version": "2.0.0",
      "model_name": "LabelStyleModel",
      "state": {
       "description_width": "",
       "font_family": null,
       "font_size": null,
       "font_style": null,
       "font_variant": null,
       "font_weight": null,
       "text_color": null,
       "text_decoration": null
      }
     },
     "a9b088c516b44e81967adbf7de04a3a6": {
      "model_module": "@jupyter-widgets/base",
      "model_module_version": "2.0.0",
      "model_name": "LayoutModel",
      "state": {}
     },
     "a9c85e017fc24a4f89cd0387c53e8598": {
      "model_module": "@jupyter-widgets/controls",
      "model_module_version": "2.0.0",
      "model_name": "HTMLStyleModel",
      "state": {
       "description_width": "",
       "font_size": null,
       "text_color": null
      }
     },
     "aa4cd1c94d1d4ba68926c473b147ae33": {
      "model_module": "@jupyter-widgets/base",
      "model_module_version": "2.0.0",
      "model_name": "LayoutModel",
      "state": {
       "grid_gap": "1px 1px",
       "grid_template_columns": "32px 32px 32px ",
       "grid_template_rows": "32px 32px 32px 32px 32px ",
       "padding": "5px",
       "width": "109px"
      }
     },
     "aa507ca0293f48ecbbbe770a8daa04cf": {
      "model_module": "@jupyter-widgets/controls",
      "model_module_version": "2.0.0",
      "model_name": "HTMLModel",
      "state": {
       "layout": "IPY_MODEL_c3a44046807246be93e9a782f25b4714",
       "style": "IPY_MODEL_b8c816dc0c354d518b9ff0a7c8987ff5"
      }
     },
     "aa59533148df4190b046f7c3ebded617": {
      "model_module": "@jupyter-widgets/controls",
      "model_module_version": "2.0.0",
      "model_name": "ToggleButtonStyleModel",
      "state": {
       "description_width": "",
       "font_family": null,
       "font_size": null,
       "font_style": null,
       "font_variant": null,
       "font_weight": null,
       "text_color": null,
       "text_decoration": null
      }
     },
     "aa99d9d0467043a2a7309e5d33796647": {
      "model_module": "@jupyter-widgets/controls",
      "model_module_version": "2.0.0",
      "model_name": "VBoxModel",
      "state": {
       "children": [
        "IPY_MODEL_2f72cf0b4e7446e68799ea9ab35513c7",
        "IPY_MODEL_b2440a72a1794249b9a8b80f602e874d"
       ],
       "layout": "IPY_MODEL_56da98c175804df8abd9eb5756491fe0"
      }
     },
     "aafb024a359247c987538242e9d7c23d": {
      "model_module": "@jupyter-widgets/controls",
      "model_module_version": "2.0.0",
      "model_name": "ToggleButtonStyleModel",
      "state": {
       "description_width": "",
       "font_family": null,
       "font_size": null,
       "font_style": null,
       "font_variant": null,
       "font_weight": null,
       "text_color": null,
       "text_decoration": null
      }
     },
     "aafb0656f4e84066809a0da36b182993": {
      "model_module": "@jupyter-widgets/base",
      "model_module_version": "2.0.0",
      "model_name": "LayoutModel",
      "state": {}
     },
     "ab0a161ce3b44064aed5348d7677c0f7": {
      "model_module": "@jupyter-widgets/controls",
      "model_module_version": "2.0.0",
      "model_name": "TextareaModel",
      "state": {
       "layout": "IPY_MODEL_9cd22ef286e24cb1b31c75e4b2f16539",
       "placeholder": "Paste your Earth Engine JavaScript into this textbox and click the Convert button below to convert the Javascript to Python",
       "style": "IPY_MODEL_d0940788d8dd4bda88414a404483df36",
       "value": "# The code has been copied to the clipboard. \n# Press Ctrl+V to in a code cell to paste it.\n# Define the FAO/GAUL administrative units dataset\ndataset = ee.FeatureCollection('FAO/GAUL/2015/level2')\n\n# Define a region of interest (ROI) for India\nindia_roi = ee.Geometry.Polygon(\n    [[[\n      68.11137880340998, 7.96553484576015],\n      [88.3927306205192, 7.96553484576015],\n      [88.3927306205192, 35.67459030295267],\n      [68.11137880340998, 35.67459030295267],\n      [68.11137880340998, 7.96553484576015]\n    ]]\n)\n\n# Filter the administrative units dataset to select India\nindia_dataset = dataset.filterBounds(india_roi)\n\n# Define a region of interest (ROI) for New Delhi\ndelhi_roi = ee.Geometry.Point(77.216721, 28.613939).buffer(0.5)\n\n# Filter the India dataset to select New Delhi\ndelhi_feature = india_dataset.filterBounds(delhi_roi)\n\n# Print the selected administrative unit (New Delhi)\nprint(\"Selected Administrative Unit (New Delhi):\")\nselected_features = delhi_feature.getInfo()\nfor i in range(0, selected_features.features.length, 1):\n    feature = selected_features.features[i]\n    print(\"Admin Unit ID:\", feature.properties.ADM2_CODE)\n    print(\"Admin Unit Name:\", feature.properties.ADM2_NAME)\n\n# Add the administrative units dataset to the map\nMap.centerObject(india_dataset, 5)\nMap.addLayer(india_dataset, {'color': '00909F'}, 'Second Level Administrative Units')\n\n# Display New Delhi\nMap.centerObject(delhi_feature, 8)\nMap.addLayer(delhi_feature, {'color': 'FF0000'}, 'New Delhi')\n"
      }
     },
     "ab16e36408e2426d8ea45a2d0dbab8c1": {
      "model_module": "jupyter-leaflet",
      "model_module_version": "^0.17",
      "model_name": "LeafletDrawControlModel",
      "state": {
       "_model_module_version": "^0.17",
       "_view_module_version": "^0.17",
       "marker": {
        "shapeOptions": {
         "color": "#3388ff"
        }
       },
       "options": [
        "position"
       ],
       "rectangle": {
        "shapeOptions": {
         "color": "#3388ff"
        }
       }
      }
     },
     "ab641bf88d93432680163cb3730c7710": {
      "model_module": "@jupyter-widgets/controls",
      "model_module_version": "2.0.0",
      "model_name": "ToggleButtonModel",
      "state": {
       "button_style": "primary",
       "icon": "eraser",
       "layout": "IPY_MODEL_a99152c9a55e41cda389c1203614a428",
       "style": "IPY_MODEL_0c9fce67ef144f6099a4d698f7289c87",
       "tooltip": "Remove all drawn features"
      }
     },
     "ab6604e65bdf4151939a9c822f2c3871": {
      "model_module": "jupyter-leaflet",
      "model_module_version": "^0.17",
      "model_name": "LeafletZoomControlModel",
      "state": {
       "_model_module_version": "^0.17",
       "_view_module_version": "^0.17",
       "options": [
        "position",
        "zoom_in_text",
        "zoom_in_title",
        "zoom_out_text",
        "zoom_out_title"
       ]
      }
     },
     "ab930bb99f48425f89b3866eb779acfe": {
      "model_module": "@jupyter-widgets/base",
      "model_module_version": "2.0.0",
      "model_name": "LayoutModel",
      "state": {
       "max_width": "57px",
       "min_width": "57px"
      }
     },
     "ab9fd6a10f8c438aa4c8cece8f2a15b3": {
      "model_module": "jupyter-leaflet",
      "model_module_version": "^0.17",
      "model_name": "LeafletAttributionControlModel",
      "state": {
       "_model_module_version": "^0.17",
       "_view_module_version": "^0.17",
       "options": [
        "position",
        "prefix"
       ],
       "position": "bottomright",
       "prefix": "ipyleaflet"
      }
     },
     "abefcfa5b29a40db8e87d7ba1c8ddc31": {
      "model_module": "@jupyter-widgets/controls",
      "model_module_version": "2.0.0",
      "model_name": "DescriptionStyleModel",
      "state": {
       "description_width": ""
      }
     },
     "abf15c2443974ea7ab9c996c841cb70e": {
      "model_module": "@jupyter-widgets/base",
      "model_module_version": "2.0.0",
      "model_name": "LayoutModel",
      "state": {
       "height": "auto",
       "padding": "0px 0px 0px 4px",
       "width": "auto"
      }
     },
     "ac08f7f4e579493a8ccbf25cb7e8aec4": {
      "model_module": "@jupyter-widgets/controls",
      "model_module_version": "2.0.0",
      "model_name": "ToggleButtonStyleModel",
      "state": {
       "description_width": "",
       "font_family": null,
       "font_size": null,
       "font_style": null,
       "font_variant": null,
       "font_weight": null,
       "text_color": null,
       "text_decoration": null
      }
     },
     "ac131a088f7142caa943b0db2948c4d1": {
      "model_module": "@jupyter-widgets/controls",
      "model_module_version": "2.0.0",
      "model_name": "GridBoxModel",
      "state": {
       "children": [
        "IPY_MODEL_2aeb2ae6c9e243c19ae32d9aec471b69",
        "IPY_MODEL_3607d882b25543848ce23b7c781b6163",
        "IPY_MODEL_6f3a0843bfea4562a494b63aba2e25b8"
       ],
       "layout": "IPY_MODEL_4334cf8087d948c8ae60acc57031fef5"
      }
     },
     "ac46669053d9447594a3e9b674285dcf": {
      "model_module": "@jupyter-widgets/controls",
      "model_module_version": "2.0.0",
      "model_name": "ToggleButtonModel",
      "state": {
       "icon": "globe",
       "layout": "IPY_MODEL_05fb21bdfaba46a288d4c3f9e4978b5e",
       "style": "IPY_MODEL_78b99a002cba4af1a6c6741e8d7e4816",
       "tooltip": "Search location/data"
      }
     },
     "ac480d3373254032bea37a5f4274aa03": {
      "model_module": "@jupyter-widgets/base",
      "model_module_version": "2.0.0",
      "model_name": "LayoutModel",
      "state": {}
     },
     "acb8928e02584e90b1308ae2c29cd4ac": {
      "model_module": "@jupyter-widgets/controls",
      "model_module_version": "2.0.0",
      "model_name": "ToggleButtonStyleModel",
      "state": {
       "description_width": "",
       "font_family": null,
       "font_size": null,
       "font_style": null,
       "font_variant": null,
       "font_weight": null,
       "text_color": null,
       "text_decoration": null
      }
     },
     "acd12d9b78bc44beba200291a4c98ed2": {
      "model_module": "jupyter-leaflet",
      "model_module_version": "^0.17",
      "model_name": "LeafletTileLayerModel",
      "state": {
       "_model_module_version": "^0.17",
       "_view_module_version": "^0.17",
       "attribution": "Google",
       "max_zoom": 24,
       "name": "Google Maps",
       "options": [
        "attribution",
        "bounds",
        "detect_retina",
        "max_native_zoom",
        "max_zoom",
        "min_native_zoom",
        "min_zoom",
        "no_wrap",
        "tile_size",
        "tms",
        "zoom_offset"
       ],
       "url": "https://mt1.google.com/vt/lyrs=m&x={x}&y={y}&z={z}"
      }
     },
     "acd548543ea64c5c9ed1006681e8deab": {
      "model_module": "@jupyter-widgets/controls",
      "model_module_version": "2.0.0",
      "model_name": "ToggleButtonStyleModel",
      "state": {
       "description_width": "",
       "font_family": null,
       "font_size": null,
       "font_style": null,
       "font_variant": null,
       "font_weight": null,
       "text_color": null,
       "text_decoration": null
      }
     },
     "aceaffb037544708a7a68fdb5c9e9e7b": {
      "model_module": "@jupyter-widgets/base",
      "model_module_version": "2.0.0",
      "model_name": "LayoutModel",
      "state": {
       "height": "auto",
       "padding": "0px 0px 0px 4px",
       "width": "auto"
      }
     },
     "acffbb3c8df54242b6b4323ca8d3118c": {
      "model_module": "@jupyter-widgets/base",
      "model_module_version": "2.0.0",
      "model_name": "LayoutModel",
      "state": {
       "height": "auto",
       "padding": "0px 0px 0px 4px",
       "width": "auto"
      }
     },
     "ada6051b0c6b41e88394a03a89d545d3": {
      "model_module": "@jupyter-widgets/output",
      "model_module_version": "1.0.0",
      "model_name": "OutputModel",
      "state": {
       "layout": "IPY_MODEL_64c4041d4a5e491d9baf85624b558f2e"
      }
     },
     "adba746e327e47cd9bde38207fc8fb11": {
      "model_module": "@jupyter-widgets/controls",
      "model_module_version": "2.0.0",
      "model_name": "DescriptionStyleModel",
      "state": {
       "description_width": ""
      }
     },
     "ade1d02be3724d3badf29e981201905c": {
      "model_module": "@jupyter-widgets/controls",
      "model_module_version": "2.0.0",
      "model_name": "ToggleButtonModel",
      "state": {
       "icon": "globe",
       "layout": "IPY_MODEL_a61d39e21cae4a558eea478b0e7824bf",
       "style": "IPY_MODEL_38105d091d474b2386287b33e65addf6",
       "tooltip": "Search location/data"
      }
     },
     "ae1108d586f04f6ea58305208f1d13b7": {
      "model_module": "@jupyter-widgets/controls",
      "model_module_version": "2.0.0",
      "model_name": "ToggleButtonStyleModel",
      "state": {
       "description_width": "",
       "font_family": null,
       "font_size": null,
       "font_style": null,
       "font_variant": null,
       "font_weight": null,
       "text_color": null,
       "text_decoration": null
      }
     },
     "ae3222fe14ba4e4e886c278415a2054f": {
      "model_module": "@jupyter-widgets/base",
      "model_module_version": "2.0.0",
      "model_name": "LayoutModel",
      "state": {
       "height": "auto",
       "padding": "0px 0px 0px 4px",
       "width": "auto"
      }
     },
     "aecf5771b3f44c5da7fe8e2bfe1c8dd5": {
      "model_module": "@jupyter-widgets/base",
      "model_module_version": "2.0.0",
      "model_name": "LayoutModel",
      "state": {
       "height": "auto",
       "padding": "0px 0px 0px 4px",
       "width": "auto"
      }
     },
     "af81d07a1baa42e8b0f37e66be4ca095": {
      "model_module": "@jupyter-widgets/base",
      "model_module_version": "2.0.0",
      "model_name": "LayoutModel",
      "state": {
       "height": "600px"
      }
     },
     "af8a04373521435b8084514ec9882538": {
      "model_module": "@jupyter-widgets/base",
      "model_module_version": "2.0.0",
      "model_name": "LayoutModel",
      "state": {
       "max_width": "200px",
       "min_width": "200px"
      }
     },
     "afa040b442b04cd99e4217697b896eee": {
      "model_module": "jupyter-leaflet",
      "model_module_version": "^0.17",
      "model_name": "LeafletMapStyleModel",
      "state": {
       "_model_module_version": "^0.17",
       "cursor": "move"
      }
     },
     "afa51c77022c4a29b32b2b12c9274019": {
      "model_module": "@jupyter-widgets/base",
      "model_module_version": "2.0.0",
      "model_name": "LayoutModel",
      "state": {
       "height": "28px",
       "width": "72px"
      }
     },
     "b0000ccf9b974ff5895ff8fbc3886d9d": {
      "model_module": "@jupyter-widgets/controls",
      "model_module_version": "2.0.0",
      "model_name": "SliderStyleModel",
      "state": {
       "description_width": ""
      }
     },
     "b0328602cc32409f8c5981b65c26b816": {
      "model_module": "@jupyter-widgets/base",
      "model_module_version": "2.0.0",
      "model_name": "LayoutModel",
      "state": {
       "height": "auto",
       "padding": "0px 0px 0px 4px",
       "width": "auto"
      }
     },
     "b09af8231863485da0edc01cd584e8cf": {
      "model_module": "@jupyter-widgets/controls",
      "model_module_version": "2.0.0",
      "model_name": "ToggleButtonStyleModel",
      "state": {
       "description_width": "",
       "font_family": null,
       "font_size": null,
       "font_style": null,
       "font_variant": null,
       "font_weight": null,
       "text_color": null,
       "text_decoration": null
      }
     },
     "b0fa5fe1d6e64a129354ca606d64fe7c": {
      "model_module": "@jupyter-widgets/controls",
      "model_module_version": "2.0.0",
      "model_name": "HTMLModel",
      "state": {
       "layout": "IPY_MODEL_dc90327271644d4b91dfd101e35475e3",
       "style": "IPY_MODEL_9704e28bda5641f3975b62021ae10159",
       "value": "<a href=https://github.com/jblindsay/whitebox-tools/blob/master/whitebox-tools-app/src/tools/gis_analysis/clip_raster_to_polygon.rs target=\"_blank\">https://github.com/jblindsay/whitebox-tools/blob/master/whitebox-tools-app/src/tools/gis_analysis/clip_raster_to_polygon.rs</a>"
      }
     },
     "b1030746bbe14091bee6ee6b043ce31c": {
      "model_module": "jupyter-leaflet",
      "model_module_version": "^0.17",
      "model_name": "LeafletTileLayerModel",
      "state": {
       "_model_module_version": "^0.17",
       "_view_module_version": "^0.17",
       "attribution": "Google Earth Engine",
       "max_zoom": 24,
       "name": "Second Level Administrative Units",
       "options": [
        "attribution",
        "bounds",
        "detect_retina",
        "max_native_zoom",
        "max_zoom",
        "min_native_zoom",
        "min_zoom",
        "no_wrap",
        "tile_size",
        "tms",
        "zoom_offset"
       ],
       "url": "https://earthengine.googleapis.com/v1/projects/earthengine-legacy/maps/b6c709d492e1674d293a033202b58450-410e34c7944d5fbc19eaf875548320fd/tiles/{z}/{x}/{y}"
      }
     },
     "b10b813013384076ac69a7c0beaddb68": {
      "model_module": "@jupyter-widgets/base",
      "model_module_version": "2.0.0",
      "model_name": "LayoutModel",
      "state": {
       "height": "auto",
       "padding": "0px 0px 0px 4px",
       "width": "auto"
      }
     },
     "b11e79de4f874d7b99f3c1a8df241c70": {
      "model_module": "@jupyter-widgets/controls",
      "model_module_version": "2.0.0",
      "model_name": "ToggleButtonModel",
      "state": {
       "button_style": "primary",
       "icon": "adjust",
       "layout": "IPY_MODEL_d007ec73c20a4746b613f5ee063ef59e",
       "style": "IPY_MODEL_d697fb471b1f4f42b180c0a52a0250db",
       "tooltip": "Planet imagery"
      }
     },
     "b140ef7ad32c4122a18ebc7088b7da4e": {
      "model_module": "@jupyter-widgets/controls",
      "model_module_version": "2.0.0",
      "model_name": "HBoxModel",
      "state": {
       "children": [
        "IPY_MODEL_6967c4b1bf7a48dcbb829dce14724331",
        "IPY_MODEL_8e2d72b9c3424226b1d9d61d54fcb84b"
       ],
       "layout": "IPY_MODEL_f8a150b7f9874aa6aabb4d3009b7cfb2"
      }
     },
     "b16a47717c284bc4a86a43e8a4f0207c": {
      "model_module": "@jupyter-widgets/base",
      "model_module_version": "2.0.0",
      "model_name": "LayoutModel",
      "state": {
       "height": "auto",
       "padding": "0px 0px 0px 4px",
       "width": "auto"
      }
     },
     "b177a8f3d7df40169ff7f1ec3a7078bc": {
      "model_module": "@jupyter-widgets/controls",
      "model_module_version": "2.0.0",
      "model_name": "ToggleButtonStyleModel",
      "state": {
       "description_width": "",
       "font_family": null,
       "font_size": null,
       "font_style": null,
       "font_variant": null,
       "font_weight": null,
       "text_color": null,
       "text_decoration": null
      }
     },
     "b1781576c0884585adaebbe9d93b6821": {
      "model_module": "@jupyter-widgets/base",
      "model_module_version": "2.0.0",
      "model_name": "LayoutModel",
      "state": {
       "width": "340px"
      }
     },
     "b197fdc49d98417395eef4dc0d8e3c9d": {
      "model_module": "@jupyter-widgets/base",
      "model_module_version": "2.0.0",
      "model_name": "LayoutModel",
      "state": {
       "height": "auto",
       "padding": "0px 0px 0px 4px",
       "width": "auto"
      }
     },
     "b1b7fb1eee1b44cea290f628e18c4785": {
      "model_module": "@jupyter-widgets/controls",
      "model_module_version": "2.0.0",
      "model_name": "ToggleButtonStyleModel",
      "state": {
       "description_width": "",
       "font_family": null,
       "font_size": null,
       "font_style": null,
       "font_variant": null,
       "font_weight": null,
       "text_color": null,
       "text_decoration": null
      }
     },
     "b1c20a7dcee449f6ba8ce1fe7219aafb": {
      "model_module": "@jupyter-widgets/controls",
      "model_module_version": "2.0.0",
      "model_name": "ToggleButtonModel",
      "state": {
       "icon": "globe",
       "layout": "IPY_MODEL_34a1018a54ac4b3ca276ba2642109deb",
       "style": "IPY_MODEL_6414d9d720274e0688d1373cbad8aa46",
       "tooltip": "Search location/data"
      }
     },
     "b1c6a20388c74f53887f3ad480f33196": {
      "model_module": "@jupyter-widgets/controls",
      "model_module_version": "2.0.0",
      "model_name": "ButtonModel",
      "state": {
       "button_style": "primary",
       "description": "import",
       "layout": "IPY_MODEL_712460ac1d56464a9d5e35998152549b",
       "style": "IPY_MODEL_a6d6e34b78744145ad86d26df490fe75",
       "tooltip": "Click to import the selected asset"
      }
     },
     "b1f4c0ba0892466691a2c2deb441ce23": {
      "model_module": "@jupyter-widgets/base",
      "model_module_version": "2.0.0",
      "model_name": "LayoutModel",
      "state": {
       "height": "auto",
       "padding": "0px 0px 0px 4px",
       "width": "auto"
      }
     },
     "b20d01aef0be44899153112e1085c9c9": {
      "model_module": "@jupyter-widgets/controls",
      "model_module_version": "2.0.0",
      "model_name": "TextModel",
      "state": {
       "layout": "IPY_MODEL_9b6baebd300d4996b4834c5f9d22b538",
       "placeholder": "Search by place name or address",
       "style": "IPY_MODEL_2e551668e0e9482296ec7626761cb738",
       "tooltip": "Search location"
      }
     },
     "b234434fca17465dace385ca2ff9b073": {
      "model_module": "@jupyter-widgets/base",
      "model_module_version": "2.0.0",
      "model_name": "LayoutModel",
      "state": {
       "height": "auto",
       "padding": "0px 0px 0px 4px",
       "width": "auto"
      }
     },
     "b237eb98707a42d1a88f44622329c647": {
      "model_module": "@jupyter-widgets/controls",
      "model_module_version": "2.0.0",
      "model_name": "ButtonModel",
      "state": {
       "description": "Cancel",
       "layout": "IPY_MODEL_69dc0574f5754a4594d9921c82c52c36",
       "style": "IPY_MODEL_d0a2d6bc7165461cae7aeb1196a24e33",
       "tooltip": null
      }
     },
     "b2440a72a1794249b9a8b80f602e874d": {
      "model_module": "@jupyter-widgets/controls",
      "model_module_version": "2.0.0",
      "model_name": "TextModel",
      "state": {
       "layout": "IPY_MODEL_b1781576c0884585adaebbe9d93b6821",
       "placeholder": "Search by place name or address",
       "style": "IPY_MODEL_878ce2acf7f44d3f8f8dca151efbdb20",
       "tooltip": "Search location"
      }
     },
     "b26ad6e2053b437f991f18ab811ea28a": {
      "model_module": "jupyter-leaflet",
      "model_module_version": "^0.17",
      "model_name": "LeafletTileLayerModel",
      "state": {
       "_model_module_version": "^0.17",
       "_view_module_version": "^0.17",
       "attribution": "Google",
       "max_zoom": 24,
       "name": "Google Maps",
       "options": [
        "attribution",
        "bounds",
        "detect_retina",
        "max_native_zoom",
        "max_zoom",
        "min_native_zoom",
        "min_zoom",
        "no_wrap",
        "tile_size",
        "tms",
        "zoom_offset"
       ],
       "url": "https://mt1.google.com/vt/lyrs=m&x={x}&y={y}&z={z}"
      }
     },
     "b28b085c380a435daf7ba19876b670ea": {
      "model_module": "@jupyter-widgets/base",
      "model_module_version": "2.0.0",
      "model_name": "LayoutModel",
      "state": {
       "height": "28px",
       "width": "72px"
      }
     },
     "b2bdcc3b6604434fb8d52b5606008b52": {
      "model_module": "@jupyter-widgets/controls",
      "model_module_version": "2.0.0",
      "model_name": "ToggleButtonStyleModel",
      "state": {
       "description_width": "",
       "font_family": null,
       "font_size": null,
       "font_style": null,
       "font_variant": null,
       "font_weight": null,
       "text_color": null,
       "text_decoration": null
      }
     },
     "b306429e549d49dd97e3d17a177e0584": {
      "model_module": "jupyter-leaflet",
      "model_module_version": "^0.17",
      "model_name": "LeafletDrawControlModel",
      "state": {
       "_model_module_version": "^0.17",
       "_view_module_version": "^0.17",
       "marker": {
        "shapeOptions": {
         "color": "#3388ff"
        }
       },
       "options": [
        "position"
       ],
       "rectangle": {
        "shapeOptions": {
         "color": "#3388ff"
        }
       }
      }
     },
     "b30bfa949977466e9424f7e73008f6f1": {
      "model_module": "@jupyter-widgets/controls",
      "model_module_version": "2.0.0",
      "model_name": "VBoxModel",
      "state": {
       "children": [
        "IPY_MODEL_84a37a65e5db48f5bdac246f07dae3c3"
       ],
       "layout": "IPY_MODEL_dfb3fcd6d8b44b14953b6c36788f61d8"
      }
     },
     "b312c653071547eb930c0f1dd1755c6f": {
      "model_module": "jupyter-leaflet",
      "model_module_version": "^0.17",
      "model_name": "LeafletFullScreenControlModel",
      "state": {
       "_model_module_version": "^0.17",
       "_view_module_version": "^0.17",
       "options": [
        "position"
       ]
      }
     },
     "b31550021a234e178b5cb0232f8ab979": {
      "model_module": "@jupyter-widgets/base",
      "model_module_version": "2.0.0",
      "model_name": "LayoutModel",
      "state": {
       "width": "306px"
      }
     },
     "b31bcec8c4e7455e8ae09e97ccadedd1": {
      "model_module": "@jupyter-widgets/controls",
      "model_module_version": "2.0.0",
      "model_name": "ToggleButtonStyleModel",
      "state": {
       "description_width": "",
       "font_family": null,
       "font_size": null,
       "font_style": null,
       "font_variant": null,
       "font_weight": null,
       "text_color": null,
       "text_decoration": null
      }
     },
     "b3660dfc5ca84f9b9f640ad971199a41": {
      "model_module": "@jupyter-widgets/controls",
      "model_module_version": "2.0.0",
      "model_name": "ToggleButtonModel",
      "state": {
       "button_style": "primary",
       "icon": "plus",
       "layout": "IPY_MODEL_f75f39f9c2824767a719114f044781f0",
       "style": "IPY_MODEL_f67e993be24f43348736018223459b98",
       "tooltip": "Expand toolbar"
      }
     },
     "b3846071e9fb4a6eaf95315e5a1b2523": {
      "model_module": "jupyter-leaflet",
      "model_module_version": "^0.17",
      "model_name": "LeafletMapStyleModel",
      "state": {
       "_model_module_version": "^0.17",
       "cursor": "move"
      }
     },
     "b392095eea954d26821398992c5e6323": {
      "model_module": "@jupyter-widgets/base",
      "model_module_version": "2.0.0",
      "model_name": "LayoutModel",
      "state": {
       "height": "auto",
       "padding": "0px 0px 0px 4px",
       "width": "auto"
      }
     },
     "b3adecd458514bf4bdda047d26d6ee89": {
      "model_module": "@jupyter-widgets/controls",
      "model_module_version": "2.0.0",
      "model_name": "ToggleButtonModel",
      "state": {
       "button_style": "primary",
       "icon": "folder-open",
       "layout": "IPY_MODEL_0533e062c56a47ac8247813b4ccfe531",
       "style": "IPY_MODEL_324aec79fdf4498593fd0c2582a081d5",
       "tooltip": "Open local vector/raster data"
      }
     },
     "b3b76702aa644db48d5048a626f10a58": {
      "model_module": "@jupyter-widgets/controls",
      "model_module_version": "2.0.0",
      "model_name": "TextStyleModel",
      "state": {
       "description_width": "",
       "font_size": null,
       "text_color": null
      }
     },
     "b3baf513f050417e94543b7cc9006ae4": {
      "model_module": "@jupyter-widgets/controls",
      "model_module_version": "2.0.0",
      "model_name": "HBoxModel",
      "state": {
       "children": [
        "IPY_MODEL_d0f8327f50b84bb6a468b034b406f9e3",
        "IPY_MODEL_34a5b91ec08a4d9b912065afe05bbf00",
        "IPY_MODEL_957ef59b55514b5893b95259735ac9bb"
       ],
       "layout": "IPY_MODEL_4b672920e7884087ba897b8383144d08"
      }
     },
     "b3e5e673770540b7bfec60a0afd4def7": {
      "model_module": "@jupyter-widgets/controls",
      "model_module_version": "2.0.0",
      "model_name": "SliderStyleModel",
      "state": {
       "description_width": ""
      }
     },
     "b3fe48cedc2940e6a8c57c50f2812b70": {
      "model_module": "@jupyter-widgets/controls",
      "model_module_version": "2.0.0",
      "model_name": "ToggleButtonModel",
      "state": {
       "button_style": "primary",
       "icon": "eraser",
       "layout": "IPY_MODEL_87e7b86a76b94d89919536ee03ca2e42",
       "style": "IPY_MODEL_90d7026ca5304655b1240048a0ae2270",
       "tooltip": "Remove all drawn features"
      }
     },
     "b400397f5df642de9d419563f0f59073": {
      "model_module": "@jupyter-widgets/base",
      "model_module_version": "2.0.0",
      "model_name": "LayoutModel",
      "state": {
       "padding": "0px 8px 0px 8px"
      }
     },
     "b4341bf22a2247bfbf67f342a960831c": {
      "model_module": "@jupyter-widgets/controls",
      "model_module_version": "2.0.0",
      "model_name": "ToggleButtonModel",
      "state": {
       "button_style": "primary",
       "icon": "retweet",
       "layout": "IPY_MODEL_6fdd9d0568fd4782bf3d0d9b5e21e443",
       "style": "IPY_MODEL_fe1d9ebc2d0749169a5c0665dc11d9d4",
       "tooltip": "Convert Earth Engine JavaScript to Python"
      }
     },
     "b456b8585cca4b7999827eb333c77468": {
      "model_module": "@jupyter-widgets/base",
      "model_module_version": "2.0.0",
      "model_name": "LayoutModel",
      "state": {
       "height": "auto",
       "padding": "0px 0px 0px 4px",
       "width": "auto"
      }
     },
     "b468c6a34e924b7baf91c71d7adc382f": {
      "model_module": "@jupyter-widgets/base",
      "model_module_version": "2.0.0",
      "model_name": "LayoutModel",
      "state": {}
     },
     "b47cacdd6e04419ebefe80cb6d6af209": {
      "model_module": "@jupyter-widgets/controls",
      "model_module_version": "2.0.0",
      "model_name": "HBoxModel",
      "state": {
       "children": [
        "IPY_MODEL_fa5e823a38204825b38f7ba6c2d23306",
        "IPY_MODEL_10d345d0521645c190fb3480cb8ffead"
       ],
       "layout": "IPY_MODEL_9a2cc620d9704852a0cc9c6ba06a3c2c"
      }
     },
     "b49ad0fe68464fe78fdb26b0c0f9a536": {
      "model_module": "@jupyter-widgets/controls",
      "model_module_version": "2.0.0",
      "model_name": "HBoxModel",
      "state": {
       "children": [
        "IPY_MODEL_7a4c2ef180d64e4cb0b8c36fe4dbd3c8",
        "IPY_MODEL_06ba75180caa403cb6eaab16bc77fd88"
       ],
       "layout": "IPY_MODEL_e0984bba34fb4bdbaa9dc69ac70dbf21"
      }
     },
     "b4d6b3229df848278b2dd9a559936cb4": {
      "model_module": "jupyter-leaflet",
      "model_module_version": "^0.17",
      "model_name": "LeafletMapStyleModel",
      "state": {
       "_model_module_version": "^0.17"
      }
     },
     "b504d43a164d44f4905b136b342786d2": {
      "model_module": "jupyter-leaflet",
      "model_module_version": "^0.17",
      "model_name": "LeafletMapStyleModel",
      "state": {
       "_model_module_version": "^0.17"
      }
     },
     "b50ad16d5b0240bd8d01c799d1759e9f": {
      "model_module": "@jupyter-widgets/controls",
      "model_module_version": "2.0.0",
      "model_name": "ToggleButtonsStyleModel",
      "state": {
       "button_width": "110px",
       "description_width": ""
      }
     },
     "b515a21859374183a2f7def800fbd99c": {
      "model_module": "@jupyter-widgets/controls",
      "model_module_version": "2.0.0",
      "model_name": "HTMLModel",
      "state": {
       "layout": "IPY_MODEL_d1453c1a48454d9b8d9e210641211732",
       "style": "IPY_MODEL_bd84bd69acb642e8a80c8f3d6b5cb7c1"
      }
     },
     "b52270faa5e0452a8a48e22ed6681a68": {
      "model_module": "@jupyter-widgets/base",
      "model_module_version": "2.0.0",
      "model_name": "LayoutModel",
      "state": {
       "height": "auto",
       "padding": "0px 0px 0px 4px",
       "width": "auto"
      }
     },
     "b5383a4b401b4ec0a5aabb9b7eddec1d": {
      "model_module": "@jupyter-widgets/base",
      "model_module_version": "2.0.0",
      "model_name": "LayoutModel",
      "state": {
       "height": "175px",
       "width": "170px"
      }
     },
     "b54c284b278b43e5a34d444c117a7488": {
      "model_module": "@jupyter-widgets/base",
      "model_module_version": "2.0.0",
      "model_name": "LayoutModel",
      "state": {}
     },
     "b57eb96462c048039a858aab31e8279a": {
      "model_module": "@jupyter-widgets/controls",
      "model_module_version": "2.0.0",
      "model_name": "ToggleButtonModel",
      "state": {
       "button_style": "primary",
       "icon": "info",
       "layout": "IPY_MODEL_cef99d34154b4eb2a7ca0ac3d5933854",
       "style": "IPY_MODEL_2f3bc3bff3f24c84ba80a914c45224ca",
       "tooltip": "Inspector"
      }
     },
     "b5c92f34984b40a6a59e90995db08531": {
      "model_module": "jupyter-leaflet",
      "model_module_version": "^0.17",
      "model_name": "LeafletMapModel",
      "state": {
       "_model_module_version": "^0.17",
       "_view_module_version": "^0.17",
       "center": [
        28.647210004919998,
        77.11303710937501
       ],
       "controls": [
        "IPY_MODEL_a3900bd3c3b147ed89b295bb23e48fe3",
        "IPY_MODEL_b7330dd7d79e4ab687ccb760fa0117fe",
        "IPY_MODEL_df329d85e5a64808a20b85554ec746f7",
        "IPY_MODEL_8dd14fbc23074189bd93e9b5571ac70a",
        "IPY_MODEL_2692612e2fc14b498b6e0837695f1ba1",
        "IPY_MODEL_a1625d67835c49bea4b99fd1abd436da",
        "IPY_MODEL_802185ac2d8648bcb0a9947c57ee4344",
        "IPY_MODEL_25326da1cf384ad68706b8afc5d04a12"
       ],
       "default_style": "IPY_MODEL_62c810fc6f2042a1b7fed1c88de8fb5b",
       "dragging_style": "IPY_MODEL_b3846071e9fb4a6eaf95315e5a1b2523",
       "east": null,
       "fullscreen": false,
       "interpolation": "bilinear",
       "layers": [
        "IPY_MODEL_a4635d4f4f52435096d633d8be3faa12",
        "IPY_MODEL_56f4b25627eb47fd9a3e90b1f0b0fedc",
        "IPY_MODEL_075b0eef0de344199ab33305e0f87752",
        "IPY_MODEL_79d26d0257394a56bca673e996384f9d",
        "IPY_MODEL_3f65822b257240ee8e86119c508ee3be",
        "IPY_MODEL_e63ddd14f6314e48868f1e524851ef77"
       ],
       "layout": "IPY_MODEL_12fdd342bafd437b939eb2720b795b10",
       "max_zoom": 24,
       "modisdate": "2023-10-03",
       "north": -90,
       "options": [
        "bounce_at_zoom_limits",
        "box_zoom",
        "center",
        "close_popup_on_click",
        "double_click_zoom",
        "dragging",
        "fullscreen",
        "inertia",
        "inertia_deceleration",
        "inertia_max_speed",
        "interpolation",
        "keyboard",
        "keyboard_pan_offset",
        "keyboard_zoom_offset",
        "max_zoom",
        "min_zoom",
        "prefer_canvas",
        "scroll_wheel_zoom",
        "tap",
        "tap_tolerance",
        "touch_zoom",
        "world_copy_jump",
        "zoom",
        "zoom_animation_threshold",
        "zoom_delta",
        "zoom_snap"
       ],
       "prefer_canvas": false,
       "scroll_wheel_zoom": true,
       "south": 90,
       "style": "IPY_MODEL_62c810fc6f2042a1b7fed1c88de8fb5b",
       "west": null,
       "window_url": "http://localhost:8888/lab/tree/02India_Analysis/2023October_PaperAnalysis.ipynb",
       "zoom": 8
      }
     },
     "b5dbbfcb241c490c8ef976c98a8c18b3": {
      "model_module": "@jupyter-widgets/controls",
      "model_module_version": "2.0.0",
      "model_name": "GridBoxModel",
      "state": {
       "children": [
        "IPY_MODEL_4223c7fa5ac64d2fb5401e251c8dad9b",
        "IPY_MODEL_978a64fbe445476babf22d576d00c37c",
        "IPY_MODEL_022dc796cf9740b6bb605578e862cfba",
        "IPY_MODEL_ddf62a0bf62a4d8b94ac3a3890539854",
        "IPY_MODEL_4afc0cce30a2434193b202da264c5343",
        "IPY_MODEL_b3660dfc5ca84f9b9f640ad971199a41"
       ],
       "layout": "IPY_MODEL_b8e444c011454244b3b43c868f2ecc31"
      }
     },
     "b5dc7ab4748e4bbe866ac02c208391d3": {
      "model_module": "@jupyter-widgets/base",
      "model_module_version": "2.0.0",
      "model_name": "LayoutModel",
      "state": {}
     },
     "b5e946dc8b3c4cb98c4b5e331e3042a4": {
      "model_module": "jupyter-leaflet",
      "model_module_version": "^0.17",
      "model_name": "LeafletTileLayerModel",
      "state": {
       "_model_module_version": "^0.17",
       "_view_module_version": "^0.17",
       "attribution": "Google",
       "max_zoom": 24,
       "name": "Google Maps",
       "options": [
        "attribution",
        "bounds",
        "detect_retina",
        "max_native_zoom",
        "max_zoom",
        "min_native_zoom",
        "min_zoom",
        "no_wrap",
        "tile_size",
        "tms",
        "zoom_offset"
       ],
       "url": "https://mt1.google.com/vt/lyrs=m&x={x}&y={y}&z={z}"
      }
     },
     "b64ff843cc774452bee2239f96d01f07": {
      "model_module": "@jupyter-widgets/controls",
      "model_module_version": "2.0.0",
      "model_name": "ToggleButtonStyleModel",
      "state": {
       "description_width": "",
       "font_family": null,
       "font_size": null,
       "font_style": null,
       "font_variant": null,
       "font_weight": null,
       "text_color": null,
       "text_decoration": null
      }
     },
     "b6540b6350d04fa4a402c39c113b4e95": {
      "model_module": "@jupyter-widgets/controls",
      "model_module_version": "2.0.0",
      "model_name": "HBoxModel",
      "state": {
       "_view_count": 2,
       "children": [
        "IPY_MODEL_82240975819246eba762dbfbb4bbf444"
       ],
       "layout": "IPY_MODEL_8408178c7ebd4726948808df078e9681"
      }
     },
     "b65dc5915b9d4368b67f15c91f64104c": {
      "model_module": "@jupyter-widgets/base",
      "model_module_version": "2.0.0",
      "model_name": "LayoutModel",
      "state": {
       "height": "auto",
       "padding": "0px 0px 0px 4px",
       "width": "auto"
      }
     },
     "b68820864f6a4f6ab446953492c3ecd0": {
      "model_module": "@jupyter-widgets/base",
      "model_module_version": "2.0.0",
      "model_name": "LayoutModel",
      "state": {
       "margin": "0 0 0 1em"
      }
     },
     "b6943e1e5b6d4a87b9f9bafbdcadaf1e": {
      "model_module": "@jupyter-widgets/controls",
      "model_module_version": "2.0.0",
      "model_name": "ToggleButtonStyleModel",
      "state": {
       "description_width": "",
       "font_family": null,
       "font_size": null,
       "font_style": null,
       "font_variant": null,
       "font_weight": null,
       "text_color": null,
       "text_decoration": null
      }
     },
     "b6976eb88f334d4f9384df1fb26e211d": {
      "model_module": "@jupyter-widgets/controls",
      "model_module_version": "2.0.0",
      "model_name": "ToggleButtonModel",
      "state": {
       "button_style": "primary",
       "icon": "retweet",
       "layout": "IPY_MODEL_182020e1a56e4c4b939c8f6d3353cabb",
       "style": "IPY_MODEL_e6198d5a76684d26bb2daf584d095ee7",
       "tooltip": "Convert Earth Engine JavaScript to Python"
      }
     },
     "b6a45d6211b54eb987e850a74f3ecb9b": {
      "model_module": "jupyter-leaflet",
      "model_module_version": "^0.17",
      "model_name": "LeafletMapModel",
      "state": {
       "_model_module_version": "^0.17",
       "_view_module_version": "^0.17",
       "center": [
        42.682,
        12.876
       ],
       "controls": [
        "IPY_MODEL_63a9663272f24fc28fbccd7f75170f84",
        "IPY_MODEL_d225e38303ac42359b761d52b01b0b09",
        "IPY_MODEL_72f76f916c644b49b47900cac8efbde0",
        "IPY_MODEL_a8734b0b11ad41e7b9587925189263c3",
        "IPY_MODEL_8a77642067174eb9a754257b313671c6",
        "IPY_MODEL_d4ee512da1764c4b93a0908ae0849aa7",
        "IPY_MODEL_0d45d3b74ca541bf943d2156ccf53434",
        "IPY_MODEL_a76d17c6501948af861573d3adb73fc1"
       ],
       "default_style": "IPY_MODEL_7198fcb4eb4e4f87b80397567c3c5518",
       "dragging_style": "IPY_MODEL_7ab6b5a3177c4b669b4fed94f0c956ad",
       "fullscreen": false,
       "interpolation": "bilinear",
       "layers": [
        "IPY_MODEL_68ec0a52a8414c8eb26b90d88e9240c7",
        "IPY_MODEL_8025e824d2704346bdb91000f3d035a6"
       ],
       "layout": "IPY_MODEL_3d0f8ec8d2cb4d59bf827f35c861f179",
       "max_zoom": 24,
       "modisdate": "2023-10-03",
       "options": [
        "bounce_at_zoom_limits",
        "box_zoom",
        "center",
        "close_popup_on_click",
        "double_click_zoom",
        "dragging",
        "fullscreen",
        "inertia",
        "inertia_deceleration",
        "inertia_max_speed",
        "interpolation",
        "keyboard",
        "keyboard_pan_offset",
        "keyboard_zoom_offset",
        "max_zoom",
        "min_zoom",
        "prefer_canvas",
        "scroll_wheel_zoom",
        "tap",
        "tap_tolerance",
        "touch_zoom",
        "world_copy_jump",
        "zoom",
        "zoom_animation_threshold",
        "zoom_delta",
        "zoom_snap"
       ],
       "prefer_canvas": false,
       "scroll_wheel_zoom": true,
       "style": "IPY_MODEL_1c44bf0ff842466585425dc05db42511",
       "window_url": "http://localhost:8888/lab/tree/02India_Analysis/2023October_PaperAnalysis.ipynb",
       "zoom": 5
      }
     },
     "b6c353dcee3a4f7f9e772112f5e9df84": {
      "model_module": "jupyter-leaflet",
      "model_module_version": "^0.17",
      "model_name": "LeafletDrawControlModel",
      "state": {
       "_model_module_version": "^0.17",
       "_view_module_version": "^0.17",
       "marker": {
        "shapeOptions": {
         "color": "#3388ff"
        }
       },
       "options": [
        "position"
       ],
       "rectangle": {
        "shapeOptions": {
         "color": "#3388ff"
        }
       }
      }
     },
     "b6e5f4055d1c441fbfcd574511377eb3": {
      "model_module": "@jupyter-widgets/controls",
      "model_module_version": "2.0.0",
      "model_name": "VBoxModel",
      "state": {
       "_view_count": 0,
       "children": [
        "IPY_MODEL_279d66519d094f0cb1088e657bfb2482"
       ],
       "layout": "IPY_MODEL_fa26b1a763d441309e564a706b5bfd0c"
      }
     },
     "b70163889a784c87a0d4153db58c7460": {
      "model_module": "@jupyter-widgets/controls",
      "model_module_version": "2.0.0",
      "model_name": "GridBoxModel",
      "state": {
       "children": [
        "IPY_MODEL_3a7a3b5c909c43deaebc0decd8f09fc7",
        "IPY_MODEL_c82bbfb0becd4024ac8be24751cf6e82",
        "IPY_MODEL_8ae2399a203647e08414fb7064ca6c00",
        "IPY_MODEL_ce346ef9878a4d46b210d263550d4f4a",
        "IPY_MODEL_e4f854170fc142fb933fa7450ec599ae",
        "IPY_MODEL_66e3cbfcd80648879df62b6491cafaf9"
       ],
       "layout": "IPY_MODEL_0b6d69452a9f4b5ba89e5544a0c4c159"
      }
     },
     "b7330dd7d79e4ab687ccb760fa0117fe": {
      "model_module": "jupyter-leaflet",
      "model_module_version": "^0.17",
      "model_name": "LeafletZoomControlModel",
      "state": {
       "_model_module_version": "^0.17",
       "_view_module_version": "^0.17",
       "options": [
        "position",
        "zoom_in_text",
        "zoom_in_title",
        "zoom_out_text",
        "zoom_out_title"
       ]
      }
     },
     "b73f1dfa8db5495b93c06089f4f500f8": {
      "model_module": "@jupyter-widgets/base",
      "model_module_version": "2.0.0",
      "model_name": "LayoutModel",
      "state": {
       "max_width": "57px",
       "min_width": "57px"
      }
     },
     "b7721b88466743e3ab94b31d0b6c438c": {
      "model_module": "@jupyter-widgets/base",
      "model_module_version": "2.0.0",
      "model_name": "LayoutModel",
      "state": {
       "height": "auto",
       "padding": "0px 0px 0px 4px",
       "width": "auto"
      }
     },
     "b7b1692bced8488eac37ff6071a585ec": {
      "model_module": "@jupyter-widgets/base",
      "model_module_version": "2.0.0",
      "model_name": "LayoutModel",
      "state": {}
     },
     "b7b72a84a7ef485f9e935721ccedf93b": {
      "model_module": "jupyter-leaflet",
      "model_module_version": "^0.17",
      "model_name": "LeafletWidgetControlModel",
      "state": {
       "_model_module": "jupyter-leaflet",
       "_model_module_version": "^0.17",
       "_view_count": null,
       "_view_module": "jupyter-leaflet",
       "_view_module_version": "^0.17",
       "options": [
        "position",
        "transparent_bg"
       ],
       "position": "topleft",
       "widget": "IPY_MODEL_584b67c0ed704c23a5be28477c66a8d1"
      }
     },
     "b7e095746198467da002b143f53880b3": {
      "model_module": "@jupyter-widgets/base",
      "model_module_version": "2.0.0",
      "model_name": "LayoutModel",
      "state": {}
     },
     "b7ef723ccb99404b981db3a87e8d0699": {
      "model_module": "@jupyter-widgets/controls",
      "model_module_version": "2.0.0",
      "model_name": "ToggleButtonStyleModel",
      "state": {
       "description_width": "",
       "font_family": null,
       "font_size": null,
       "font_style": null,
       "font_variant": null,
       "font_weight": null,
       "text_color": null,
       "text_decoration": null
      }
     },
     "b88d1bd451c04244aec651c6a81f4e39": {
      "model_module": "@jupyter-widgets/base",
      "model_module_version": "2.0.0",
      "model_name": "LayoutModel",
      "state": {}
     },
     "b8a20643e1144ba78ce7f790ae3d44a1": {
      "model_module": "jupyter-leaflet",
      "model_module_version": "^0.17",
      "model_name": "LeafletMapModel",
      "state": {
       "_model_module_version": "^0.17",
       "_view_module_version": "^0.17",
       "center": [
        42.682,
        12.876
       ],
       "controls": [
        "IPY_MODEL_3c17a8ebaeb2421b964a735168c8787c",
        "IPY_MODEL_24640750aaef4f289652245a14eaf19e",
        "IPY_MODEL_b312c653071547eb930c0f1dd1755c6f",
        "IPY_MODEL_ab16e36408e2426d8ea45a2d0dbab8c1",
        "IPY_MODEL_a3ce66a94770416091e1926b138c6918",
        "IPY_MODEL_3db55f91386f482ba2d2e29716d0bace",
        "IPY_MODEL_fa0fde18b2ae42c682a8c8df7dc4e3ed",
        "IPY_MODEL_02cfe11378fa4e609080c63b94098fa1"
       ],
       "default_style": "IPY_MODEL_9d44b4f92bfb4d58b101ef318f707bcc",
       "dragging_style": "IPY_MODEL_8349f63f848749b5ae5405a5051f6b46",
       "fullscreen": false,
       "interpolation": "bilinear",
       "layers": [
        "IPY_MODEL_7c23442383f54e809e84238b2182712e",
        "IPY_MODEL_04841e0220d147df96e84d413dea3786"
       ],
       "layout": "IPY_MODEL_f729dffddb984e7790cb44bc10e7940b",
       "max_zoom": 24,
       "modisdate": "2023-10-03",
       "options": [
        "bounce_at_zoom_limits",
        "box_zoom",
        "center",
        "close_popup_on_click",
        "double_click_zoom",
        "dragging",
        "fullscreen",
        "inertia",
        "inertia_deceleration",
        "inertia_max_speed",
        "interpolation",
        "keyboard",
        "keyboard_pan_offset",
        "keyboard_zoom_offset",
        "max_zoom",
        "min_zoom",
        "prefer_canvas",
        "scroll_wheel_zoom",
        "tap",
        "tap_tolerance",
        "touch_zoom",
        "world_copy_jump",
        "zoom",
        "zoom_animation_threshold",
        "zoom_delta",
        "zoom_snap"
       ],
       "prefer_canvas": false,
       "scroll_wheel_zoom": true,
       "style": "IPY_MODEL_1b95807ed9fb40328516f3e98b5ea5e7",
       "window_url": "http://localhost:8888/lab/tree/02India_Analysis/2023October_PaperAnalysis.ipynb",
       "zoom": 5
      }
     },
     "b8c816dc0c354d518b9ff0a7c8987ff5": {
      "model_module": "@jupyter-widgets/controls",
      "model_module_version": "2.0.0",
      "model_name": "HTMLStyleModel",
      "state": {
       "description_width": "",
       "font_size": null,
       "text_color": null
      }
     },
     "b8e444c011454244b3b43c868f2ecc31": {
      "model_module": "@jupyter-widgets/base",
      "model_module_version": "2.0.0",
      "model_name": "LayoutModel",
      "state": {
       "grid_gap": "1px 1px",
       "grid_template_columns": "32px 32px 32px ",
       "grid_template_rows": "32px 32px ",
       "padding": "5px",
       "width": "109px"
      }
     },
     "b8e503c3088c46ad80afdd3079479d04": {
      "model_module": "@jupyter-widgets/controls",
      "model_module_version": "2.0.0",
      "model_name": "TextStyleModel",
      "state": {
       "description_width": "",
       "font_size": null,
       "text_color": null
      }
     },
     "b8e95cdf10354e1a8ae9711ab1f5c143": {
      "model_module": "@jupyter-widgets/controls",
      "model_module_version": "2.0.0",
      "model_name": "ToggleButtonStyleModel",
      "state": {
       "description_width": "",
       "font_family": null,
       "font_size": null,
       "font_style": null,
       "font_variant": null,
       "font_weight": null,
       "text_color": null,
       "text_decoration": null
      }
     },
     "b8ff3317e89342889b854a562cbc2f30": {
      "model_module": "@jupyter-widgets/controls",
      "model_module_version": "2.0.0",
      "model_name": "ToggleButtonModel",
      "state": {
       "button_style": "primary",
       "icon": "adjust",
       "layout": "IPY_MODEL_1be56211785641a4a80ca0a4b5153870",
       "style": "IPY_MODEL_1f5195104e4b4c659b8220619db76701",
       "tooltip": "Planet imagery"
      }
     },
     "b911bec28d0a4b7286f1d68657eb4f43": {
      "model_module": "jupyter-leaflet",
      "model_module_version": "^0.17",
      "model_name": "LeafletScaleControlModel",
      "state": {
       "_model_module_version": "^0.17",
       "_view_module_version": "^0.17",
       "imperial": true,
       "max_width": 100,
       "metric": true,
       "options": [
        "imperial",
        "max_width",
        "metric",
        "position",
        "update_when_idle"
       ],
       "position": "bottomleft",
       "update_when_idle": false
      }
     },
     "b9171089e5884206a835e9dfaf61dee1": {
      "model_module": "@jupyter-widgets/base",
      "model_module_version": "2.0.0",
      "model_name": "LayoutModel",
      "state": {}
     },
     "b931f9a33aeb49819ddbd6b3168abf17": {
      "model_module": "@jupyter-widgets/controls",
      "model_module_version": "2.0.0",
      "model_name": "ButtonModel",
      "state": {
       "button_style": "primary",
       "description": "import",
       "layout": "IPY_MODEL_eaceb37ad23e475aa8e2102e635a6815",
       "style": "IPY_MODEL_ef0b25029b434d488dd9830196a2cf37",
       "tooltip": "Click to import the selected asset"
      }
     },
     "b96e4362962640229668823bda3fefb3": {
      "model_module": "@jupyter-widgets/controls",
      "model_module_version": "2.0.0",
      "model_name": "ButtonStyleModel",
      "state": {
       "font_family": null,
       "font_size": null,
       "font_style": null,
       "font_variant": null,
       "font_weight": null,
       "text_color": null,
       "text_decoration": null
      }
     },
     "b97b84984327453a81402c52ba6d1538": {
      "model_module": "@jupyter-widgets/controls",
      "model_module_version": "2.0.0",
      "model_name": "RadioButtonsModel",
      "state": {
       "index": null,
       "layout": "IPY_MODEL_3bd864adcd2841e4ac9dd680fa2a872b",
       "style": "IPY_MODEL_2065c2daff2647f0b2cf1cbc9a14282e"
      }
     },
     "b99964d8ac544dbf9ba23cd5066b0a90": {
      "model_module": "@jupyter-widgets/controls",
      "model_module_version": "2.0.0",
      "model_name": "ToggleButtonModel",
      "state": {
       "button_style": "primary",
       "icon": "retweet",
       "layout": "IPY_MODEL_3e7e6ec1e94e4289bcc7f646341bb943",
       "style": "IPY_MODEL_54c55596240a418fb29e4bd15b6ee9c7",
       "tooltip": "Convert Earth Engine JavaScript to Python"
      }
     },
     "b9c08fb85c744fd1aaf99e18b4e7f5dd": {
      "model_module": "jupyter-leaflet",
      "model_module_version": "^0.17",
      "model_name": "LeafletDrawControlModel",
      "state": {
       "_model_module_version": "^0.17",
       "_view_module_version": "^0.17",
       "marker": {
        "shapeOptions": {
         "color": "#3388ff"
        }
       },
       "options": [
        "position"
       ],
       "rectangle": {
        "shapeOptions": {
         "color": "#3388ff"
        }
       }
      }
     },
     "b9d0cf511a474a2c9cb2f692a4a57870": {
      "model_module": "@jupyter-widgets/controls",
      "model_module_version": "2.0.0",
      "model_name": "TextModel",
      "state": {
       "layout": "IPY_MODEL_05e92c2810294cc99cfcd727b1edcd7a",
       "placeholder": "Search by place name or address",
       "style": "IPY_MODEL_f4f0c190341f4ec2a764fce79091a9fb",
       "tooltip": "Search location"
      }
     },
     "b9da06e0efa44b5d95128d26233a0586": {
      "model_module": "@jupyter-widgets/controls",
      "model_module_version": "2.0.0",
      "model_name": "ToggleButtonModel",
      "state": {
       "button_style": "primary",
       "icon": "bar-chart",
       "layout": "IPY_MODEL_c1012564f6d14f8dbbc1cc47fcfac447",
       "style": "IPY_MODEL_3075e0b6ab3a49bc9b9a6856167881cf",
       "tooltip": "Plotting"
      }
     },
     "ba9bbe12d6c54556a57262fa419eecea": {
      "model_module": "@jupyter-widgets/base",
      "model_module_version": "2.0.0",
      "model_name": "LayoutModel",
      "state": {
       "height": "28px",
       "padding": "0px 0px 0px 4px",
       "width": "28px"
      }
     },
     "bafaab9377054aba8b436e8409420236": {
      "model_module": "@jupyter-widgets/base",
      "model_module_version": "2.0.0",
      "model_name": "LayoutModel",
      "state": {
       "width": "340px"
      }
     },
     "bb08e1bc57a84ba5a296335a220979a7": {
      "model_module": "@jupyter-widgets/controls",
      "model_module_version": "2.0.0",
      "model_name": "ButtonModel",
      "state": {
       "description": "Cancel",
       "layout": "IPY_MODEL_e46ac8ebb85e45088ae088a824189510",
       "style": "IPY_MODEL_f730e51b2f624e23a7b4791dfa90ea53",
       "tooltip": null
      }
     },
     "bb21a081d1344a008ac3c561f0220863": {
      "model_module": "@jupyter-widgets/controls",
      "model_module_version": "2.0.0",
      "model_name": "HBoxModel",
      "state": {
       "children": [
        "IPY_MODEL_f3919cb2104241f98a24981644fead89",
        "IPY_MODEL_89c6c8c5557f4cc49e40e515780fb3ee"
       ],
       "layout": "IPY_MODEL_bc3197d7f36e414fbd9522c7159b40e7"
      }
     },
     "bb369d8efb5c46d4b02d337be7d9536a": {
      "model_module": "@jupyter-widgets/controls",
      "model_module_version": "2.0.0",
      "model_name": "VBoxModel",
      "state": {
       "_view_count": 1,
       "children": [
        "IPY_MODEL_5ad35ed71c7345569d4cc1333f3bb493"
       ],
       "layout": "IPY_MODEL_0c9ed4623a54481c8c4f9b46da635e09"
      }
     },
     "bb493d173cf04c8082592130c45b2c40": {
      "model_module": "@jupyter-widgets/controls",
      "model_module_version": "2.0.0",
      "model_name": "ButtonModel",
      "state": {
       "button_style": "primary",
       "description": "import",
       "layout": "IPY_MODEL_72b4e435bbb649648bebc7ff9c64b1f8",
       "style": "IPY_MODEL_25ecc414009f4ab2b1ef4c2fe9e7c0eb",
       "tooltip": "Click to import the selected asset"
      }
     },
     "bb5ada17fe414be0af86198040ce3ee9": {
      "model_module": "@jupyter-widgets/controls",
      "model_module_version": "2.0.0",
      "model_name": "ToggleButtonStyleModel",
      "state": {
       "description_width": "",
       "font_family": null,
       "font_size": null,
       "font_style": null,
       "font_variant": null,
       "font_weight": null,
       "text_color": null,
       "text_decoration": null
      }
     },
     "bbe8dd1729de4645a2c4a44638cc48d6": {
      "model_module": "@jupyter-widgets/controls",
      "model_module_version": "2.0.0",
      "model_name": "ToggleButtonStyleModel",
      "state": {
       "description_width": "",
       "font_family": null,
       "font_size": null,
       "font_style": null,
       "font_variant": null,
       "font_weight": null,
       "text_color": null,
       "text_decoration": null
      }
     },
     "bc3197d7f36e414fbd9522c7159b40e7": {
      "model_module": "@jupyter-widgets/base",
      "model_module_version": "2.0.0",
      "model_name": "LayoutModel",
      "state": {}
     },
     "bc3b80380743457da03b0cc61b1e42a5": {
      "model_module": "ipyevents",
      "model_module_version": "2.0.1",
      "model_name": "EventModel",
      "state": {
       "_supported_key_events": [
        "keydown",
        "keyup"
       ],
       "_supported_mouse_events": [
        "click",
        "auxclick",
        "dblclick",
        "mouseenter",
        "mouseleave",
        "mousedown",
        "mouseup",
        "mousemove",
        "wheel",
        "contextmenu",
        "dragstart",
        "drag",
        "dragend",
        "dragenter",
        "dragover",
        "dragleave",
        "drop"
       ],
       "_supported_touch_events": [
        "touchstart",
        "touchend",
        "touchmove",
        "touchcancel"
       ],
       "_view_module": "@jupyter-widgets/controls",
       "source": "IPY_MODEL_961cd9c6a7f24f9e921017c0e81be5ae",
       "throttle_or_debounce": "",
       "watched_events": [
        "mouseenter",
        "mouseleave"
       ],
       "xy_coordinate_system": ""
      }
     },
     "bc3c51d8dfdd400abbb1e4390cfd1738": {
      "model_module": "@jupyter-widgets/controls",
      "model_module_version": "2.0.0",
      "model_name": "ToggleButtonStyleModel",
      "state": {
       "description_width": "",
       "font_family": null,
       "font_size": null,
       "font_style": null,
       "font_variant": null,
       "font_weight": null,
       "text_color": null,
       "text_decoration": null
      }
     },
     "bc65d39f038d4e6892e734b099d956b6": {
      "model_module": "@jupyter-widgets/controls",
      "model_module_version": "2.0.0",
      "model_name": "ToggleButtonStyleModel",
      "state": {
       "description_width": "",
       "font_family": null,
       "font_size": null,
       "font_style": null,
       "font_variant": null,
       "font_weight": null,
       "text_color": null,
       "text_decoration": null
      }
     },
     "bcd941a5389947df94393f6d764c7538": {
      "model_module": "@jupyter-widgets/controls",
      "model_module_version": "2.0.0",
      "model_name": "ToggleButtonStyleModel",
      "state": {
       "description_width": "",
       "font_family": null,
       "font_size": null,
       "font_style": null,
       "font_variant": null,
       "font_weight": null,
       "text_color": null,
       "text_decoration": null
      }
     },
     "bcf842c06e2246258659af2a29ef922c": {
      "model_module": "@jupyter-widgets/base",
      "model_module_version": "2.0.0",
      "model_name": "LayoutModel",
      "state": {
       "height": "28px",
       "width": "72px"
      }
     },
     "bcfd45ed500a45d3b8074c517ac2f653": {
      "model_module": "@jupyter-widgets/base",
      "model_module_version": "2.0.0",
      "model_name": "LayoutModel",
      "state": {
       "height": "auto",
       "padding": "0px 0px 0px 4px",
       "width": "auto"
      }
     },
     "bd31f301eeac43558be2de44d60d3a23": {
      "model_module": "@jupyter-widgets/controls",
      "model_module_version": "2.0.0",
      "model_name": "ToggleButtonModel",
      "state": {
       "button_style": "primary",
       "icon": "retweet",
       "layout": "IPY_MODEL_aceaffb037544708a7a68fdb5c9e9e7b",
       "style": "IPY_MODEL_d3dcd89ed624499aae8d286ffb0373c4",
       "tooltip": "Convert Earth Engine JavaScript to Python"
      }
     },
     "bd3fc17d716e4cbaa0776b6a780fa962": {
      "model_module": "@jupyter-widgets/base",
      "model_module_version": "2.0.0",
      "model_name": "LayoutModel",
      "state": {
       "height": "auto",
       "padding": "0px 0px 0px 4px",
       "width": "auto"
      }
     },
     "bd84bd69acb642e8a80c8f3d6b5cb7c1": {
      "model_module": "@jupyter-widgets/controls",
      "model_module_version": "2.0.0",
      "model_name": "HTMLStyleModel",
      "state": {
       "description_width": "",
       "font_size": null,
       "text_color": null
      }
     },
     "bd8a875b2b144ed1842d71bc34c1c10f": {
      "model_module": "jupyter-leaflet",
      "model_module_version": "^0.17",
      "model_name": "LeafletFullScreenControlModel",
      "state": {
       "_model_module_version": "^0.17",
       "_view_module_version": "^0.17",
       "options": [
        "position"
       ]
      }
     },
     "bd9bd41df3034a79bd9584e83307cbcd": {
      "model_module": "@jupyter-widgets/base",
      "model_module_version": "2.0.0",
      "model_name": "LayoutModel",
      "state": {}
     },
     "bdc8dbc5dc7548598ecf0f915df38af6": {
      "model_module": "@jupyter-widgets/controls",
      "model_module_version": "2.0.0",
      "model_name": "ToggleButtonModel",
      "state": {
       "button_style": "primary",
       "icon": "retweet",
       "layout": "IPY_MODEL_51c45356e8dc4adba146f46e2f8468c2",
       "style": "IPY_MODEL_55655234d8924bf0ba749ee06f862110",
       "tooltip": "Convert Earth Engine JavaScript to Python"
      }
     },
     "bdda108dbdc04aae9b20c506280d7f2f": {
      "model_module": "@jupyter-widgets/base",
      "model_module_version": "2.0.0",
      "model_name": "LayoutModel",
      "state": {
       "height": "auto",
       "padding": "0px 0px 0px 4px",
       "width": "auto"
      }
     },
     "bdef21d549c545809e5893d4bdc6f0fb": {
      "model_module": "@jupyter-widgets/controls",
      "model_module_version": "2.0.0",
      "model_name": "VBoxModel",
      "state": {
       "children": [
        "IPY_MODEL_f16827561097495cb792b4ec91538fa2",
        "IPY_MODEL_3824160f1763491fb138cc85719b7eac"
       ],
       "layout": "IPY_MODEL_43e9ccef6ff645b9bf385103a5909728"
      }
     },
     "bdfb61c1fc72440daa99ca8e7399c125": {
      "model_module": "jupyter-leaflet",
      "model_module_version": "^0.17",
      "model_name": "LeafletTileLayerModel",
      "state": {
       "_model_module_version": "^0.17",
       "_view_module_version": "^0.17",
       "attribution": "Google",
       "max_zoom": 24,
       "name": "Google Maps",
       "options": [
        "attribution",
        "bounds",
        "detect_retina",
        "max_native_zoom",
        "max_zoom",
        "min_native_zoom",
        "min_zoom",
        "no_wrap",
        "tile_size",
        "tms",
        "zoom_offset"
       ],
       "url": "https://mt1.google.com/vt/lyrs=m&x={x}&y={y}&z={z}"
      }
     },
     "be2d64b6f35d43b6bcc479daa93a790d": {
      "model_module": "@jupyter-widgets/controls",
      "model_module_version": "2.0.0",
      "model_name": "ToggleButtonStyleModel",
      "state": {
       "description_width": "",
       "font_family": null,
       "font_size": null,
       "font_style": null,
       "font_variant": null,
       "font_weight": null,
       "text_color": null,
       "text_decoration": null
      }
     },
     "be377b3897f54ada9d258c857f9375a0": {
      "model_module": "@jupyter-widgets/controls",
      "model_module_version": "2.0.0",
      "model_name": "TextStyleModel",
      "state": {
       "description_width": "",
       "font_size": null,
       "text_color": null
      }
     },
     "be382dd714634963bb9b9cf75f91b843": {
      "model_module": "@jupyter-widgets/controls",
      "model_module_version": "2.0.0",
      "model_name": "ToggleButtonStyleModel",
      "state": {
       "description_width": "",
       "font_family": null,
       "font_size": null,
       "font_style": null,
       "font_variant": null,
       "font_weight": null,
       "text_color": null,
       "text_decoration": null
      }
     },
     "be4a88bfbb474addbd51ccd7e1aa116b": {
      "model_module": "@jupyter-widgets/controls",
      "model_module_version": "2.0.0",
      "model_name": "ToggleButtonModel",
      "state": {
       "button_style": "primary",
       "icon": "info-circle",
       "layout": "IPY_MODEL_3fc33f97333246efa36ad24c3950f79e",
       "style": "IPY_MODEL_75ae86cd1086434bbe540c81fd1b8b09",
       "tooltip": "Get COG/STAC pixel value"
      }
     },
     "be5f193080594d4ea762cae7468f6108": {
      "model_module": "@jupyter-widgets/controls",
      "model_module_version": "2.0.0",
      "model_name": "RadioButtonsModel",
      "state": {
       "index": null,
       "layout": "IPY_MODEL_6732a35879de4c23b2f759f6ad85b715",
       "style": "IPY_MODEL_dde07278c80b400ab7948040ae0b4062"
      }
     },
     "be6a1634f8184baebb9c83d0cea738b7": {
      "model_module": "@jupyter-widgets/base",
      "model_module_version": "2.0.0",
      "model_name": "LayoutModel",
      "state": {}
     },
     "beb360f6dd8045908839fdf6965ed993": {
      "model_module": "@jupyter-widgets/base",
      "model_module_version": "2.0.0",
      "model_name": "LayoutModel",
      "state": {
       "height": "auto",
       "padding": "0px 0px 0px 4px",
       "width": "auto"
      }
     },
     "beb9fe2a235040b8b67fe969fb362ff9": {
      "model_module": "@jupyter-widgets/base",
      "model_module_version": "2.0.0",
      "model_name": "LayoutModel",
      "state": {
       "height": "auto",
       "padding": "0px 0px 0px 4px",
       "width": "auto"
      }
     },
     "bed22473acc04ae8a6f2122e0210c027": {
      "model_module": "jupyter-leaflet",
      "model_module_version": "^0.17",
      "model_name": "LeafletTileLayerModel",
      "state": {
       "_model_module_version": "^0.17",
       "_view_module_version": "^0.17",
       "attribution": "Google",
       "max_zoom": 24,
       "name": "Google Maps",
       "options": [
        "attribution",
        "bounds",
        "detect_retina",
        "max_native_zoom",
        "max_zoom",
        "min_native_zoom",
        "min_zoom",
        "no_wrap",
        "tile_size",
        "tms",
        "zoom_offset"
       ],
       "url": "https://mt1.google.com/vt/lyrs=m&x={x}&y={y}&z={z}"
      }
     },
     "bef831c2716c4c099122aa92c37c7889": {
      "model_module": "@jupyter-widgets/controls",
      "model_module_version": "2.0.0",
      "model_name": "ToggleButtonModel",
      "state": {
       "button_style": "primary",
       "icon": "map",
       "layout": "IPY_MODEL_4a9db7bf645f4d2384b9d2caeae0fad8",
       "style": "IPY_MODEL_545d201097a14e56b8ad4f3bcc74a700",
       "tooltip": "Change basemap"
      }
     },
     "bf3d1cd8aad84493bcec8f2e4cb770be": {
      "model_module": "@jupyter-widgets/base",
      "model_module_version": "2.0.0",
      "model_name": "LayoutModel",
      "state": {}
     },
     "bf47fd4443914be49bfbf0a536cdb1fb": {
      "model_module": "@jupyter-widgets/controls",
      "model_module_version": "2.0.0",
      "model_name": "ToggleButtonModel",
      "state": {
       "button_style": "primary",
       "icon": "globe",
       "layout": "IPY_MODEL_d7e112e6ad31471d922e050ede794692",
       "style": "IPY_MODEL_3fa89b9020ca425a9cf976645fcb2de3",
       "tooltip": "Create timelapse"
      }
     },
     "bf4996fe833e4ff2837f00fdbea4d52b": {
      "model_module": "jupyter-leaflet",
      "model_module_version": "^0.17",
      "model_name": "LeafletMapStyleModel",
      "state": {
       "_model_module_version": "^0.17",
       "cursor": "move"
      }
     },
     "bf57f4f14aad4176bd058e6714d01a19": {
      "model_module": "@jupyter-widgets/base",
      "model_module_version": "2.0.0",
      "model_name": "LayoutModel",
      "state": {
       "max_width": "279px",
       "min_width": "279px"
      }
     },
     "bf659fb1a4074d6d997eaa6ed0a83bb9": {
      "model_module": "@jupyter-widgets/controls",
      "model_module_version": "2.0.0",
      "model_name": "HTMLModel",
      "state": {
       "layout": "IPY_MODEL_c4e01a853e24417b9cad330f59c80454",
       "style": "IPY_MODEL_921f318739de4a6e9486a715a49cb5f8"
      }
     },
     "bf710fa24d504a65a9024ae15dccaa83": {
      "model_module": "@jupyter-widgets/controls",
      "model_module_version": "2.0.0",
      "model_name": "DescriptionStyleModel",
      "state": {
       "description_width": ""
      }
     },
     "bf800c996ce64bbaa03b6e1abed084ec": {
      "model_module": "@jupyter-widgets/base",
      "model_module_version": "2.0.0",
      "model_name": "LayoutModel",
      "state": {
       "height": "600px"
      }
     },
     "bf93c397e67546c8ad12c3e335ec60a7": {
      "model_module": "@jupyter-widgets/controls",
      "model_module_version": "2.0.0",
      "model_name": "ToggleButtonModel",
      "state": {
       "button_style": "primary",
       "icon": "hand-o-up",
       "layout": "IPY_MODEL_fd794d6c89be49fd989254a64b971b5b",
       "style": "IPY_MODEL_4b007cab1d3b4c3a8ab7d8deb74aed1c",
       "tooltip": "Collect training samples"
      }
     },
     "bfb2d9f38dee4187a00da029b7336410": {
      "model_module": "jupyter-leaflet",
      "model_module_version": "^0.17",
      "model_name": "LeafletWidgetControlModel",
      "state": {
       "_model_module": "jupyter-leaflet",
       "_model_module_version": "^0.17",
       "_view_count": null,
       "_view_module": "jupyter-leaflet",
       "_view_module_version": "^0.17",
       "options": [
        "position",
        "transparent_bg"
       ],
       "position": "topleft",
       "widget": "IPY_MODEL_d9ce774e0bf44457a3a057b844aa5769"
      }
     },
     "bfcea3776dad4ab4a5c1613785eee7a7": {
      "model_module": "@jupyter-widgets/controls",
      "model_module_version": "2.0.0",
      "model_name": "LinkModel",
      "state": {
       "source": [
        "IPY_MODEL_382e671b16d24499a1b1cedfdc76fe6c",
        "value"
       ],
       "target": [
        "IPY_MODEL_d363072b14fa431b9a00fb97217597a7",
        "visible"
       ]
      }
     },
     "c023b36d1e8c4ab5856b0bd59dcac9df": {
      "model_module": "@jupyter-widgets/base",
      "model_module_version": "2.0.0",
      "model_name": "LayoutModel",
      "state": {
       "height": "28px",
       "width": "72px"
      }
     },
     "c0633139334f439c9f9017b12c705cd1": {
      "model_module": "@jupyter-widgets/controls",
      "model_module_version": "2.0.0",
      "model_name": "ToggleButtonModel",
      "state": {
       "button_style": "primary",
       "icon": "info-circle",
       "layout": "IPY_MODEL_ae3222fe14ba4e4e886c278415a2054f",
       "style": "IPY_MODEL_ee167dbec550484895174732769da191",
       "tooltip": "Get COG/STAC pixel value"
      }
     },
     "c0b38a511a4d471385951247d173b260": {
      "model_module": "jupyter-leaflet",
      "model_module_version": "^0.17",
      "model_name": "LeafletMapStyleModel",
      "state": {
       "_model_module_version": "^0.17"
      }
     },
     "c0b3d957c8274bc9aea8fc38ac05be84": {
      "model_module": "@jupyter-widgets/controls",
      "model_module_version": "2.0.0",
      "model_name": "ToggleButtonStyleModel",
      "state": {
       "description_width": "",
       "font_family": null,
       "font_size": null,
       "font_style": null,
       "font_variant": null,
       "font_weight": null,
       "text_color": null,
       "text_decoration": null
      }
     },
     "c0b4081213ae4269b5624299de3979d5": {
      "model_module": "@jupyter-widgets/base",
      "model_module_version": "2.0.0",
      "model_name": "LayoutModel",
      "state": {
       "height": "auto",
       "padding": "0px 0px 0px 4px",
       "width": "auto"
      }
     },
     "c0cbd21a91ed4d5a8ed2e6d3a057b6e3": {
      "model_module": "jupyter-leaflet",
      "model_module_version": "^0.17",
      "model_name": "LeafletScaleControlModel",
      "state": {
       "_model_module_version": "^0.17",
       "_view_module_version": "^0.17",
       "imperial": true,
       "max_width": 100,
       "metric": true,
       "options": [
        "imperial",
        "max_width",
        "metric",
        "position",
        "update_when_idle"
       ],
       "position": "bottomleft",
       "update_when_idle": false
      }
     },
     "c0f4cd67a95e49d69ac8426cae388101": {
      "model_module": "jupyter-leaflet",
      "model_module_version": "^0.17",
      "model_name": "LeafletTileLayerModel",
      "state": {
       "_model_module_version": "^0.17",
       "_view_module_version": "^0.17",
       "attribution": "&copy; <a href=\"https://www.openstreetmap.org/copyright\">OpenStreetMap</a> contributors",
       "base": true,
       "max_zoom": 19,
       "min_zoom": 1,
       "name": "OpenStreetMap.Mapnik",
       "options": [
        "attribution",
        "bounds",
        "detect_retina",
        "max_native_zoom",
        "max_zoom",
        "min_native_zoom",
        "min_zoom",
        "no_wrap",
        "tile_size",
        "tms",
        "zoom_offset"
       ],
       "url": "https://tile.openstreetmap.org/{z}/{x}/{y}.png"
      }
     },
     "c1012564f6d14f8dbbc1cc47fcfac447": {
      "model_module": "@jupyter-widgets/base",
      "model_module_version": "2.0.0",
      "model_name": "LayoutModel",
      "state": {
       "height": "auto",
       "padding": "0px 0px 0px 4px",
       "width": "auto"
      }
     },
     "c166b1a841534118a02e2d9cf8635151": {
      "model_module": "@jupyter-widgets/controls",
      "model_module_version": "2.0.0",
      "model_name": "VBoxModel",
      "state": {
       "children": [
        "IPY_MODEL_f2b10eade7304c78a4eed3c04eb448c3",
        "IPY_MODEL_ffea59d4ed434ab7a3928c2fc7a25491"
       ],
       "layout": "IPY_MODEL_3dd0e600a3334910aa7995cf028d4592"
      }
     },
     "c17b5f7c17b64ace83eb177770252fa3": {
      "model_module": "@jupyter-widgets/base",
      "model_module_version": "2.0.0",
      "model_name": "LayoutModel",
      "state": {
       "height": "25px",
       "padding": "0px 0px 0px 5px",
       "width": "25px"
      }
     },
     "c19ae0b79d714026bf0c59d95f0a3cbd": {
      "model_module": "@jupyter-widgets/base",
      "model_module_version": "2.0.0",
      "model_name": "LayoutModel",
      "state": {
       "height": "auto",
       "padding": "0px 0px 0px 4px",
       "width": "auto"
      }
     },
     "c19fd49249ba490aa6732222d61358bb": {
      "model_module": "@jupyter-widgets/base",
      "model_module_version": "2.0.0",
      "model_name": "LayoutModel",
      "state": {
       "height": "auto",
       "padding": "0px 0px 0px 4px",
       "width": "auto"
      }
     },
     "c1b53aff37af4314821358b50cd204c6": {
      "model_module": "@jupyter-widgets/controls",
      "model_module_version": "2.0.0",
      "model_name": "ButtonStyleModel",
      "state": {
       "font_family": null,
       "font_size": null,
       "font_style": null,
       "font_variant": null,
       "font_weight": null,
       "text_color": null,
       "text_decoration": null
      }
     },
     "c1b62fd6d55e4d00adc6ac5916a07fe8": {
      "model_module": "@jupyter-widgets/controls",
      "model_module_version": "2.0.0",
      "model_name": "ToggleButtonModel",
      "state": {
       "button_style": "primary",
       "icon": "globe",
       "layout": "IPY_MODEL_3d83c6442cbd4dfb9cb9032973afa704",
       "style": "IPY_MODEL_bc3c51d8dfdd400abbb1e4390cfd1738",
       "tooltip": "Create timelapse"
      }
     },
     "c1c794365c5c43ceb9c9f1b062ab34a7": {
      "model_module": "@jupyter-widgets/controls",
      "model_module_version": "2.0.0",
      "model_name": "HBoxModel",
      "state": {
       "children": [
        "IPY_MODEL_2d25f6ae99a949c89b4b1801ab0b6048",
        "IPY_MODEL_21f2ed217cbd4f8b8c5effc6b86a4dd6"
       ],
       "layout": "IPY_MODEL_744b369c12464330996bf5925d7fb601"
      }
     },
     "c1d75aa6b5184dbeaac0cdc2b650d30f": {
      "model_module": "@jupyter-widgets/controls",
      "model_module_version": "2.0.0",
      "model_name": "ToggleButtonModel",
      "state": {
       "button_style": "primary",
       "icon": "folder-open",
       "layout": "IPY_MODEL_4b8717ce12bc4144a90535f20ada9eeb",
       "style": "IPY_MODEL_5b9f0f3f675444cba504849adf21ba90",
       "tooltip": "Open local vector/raster data"
      }
     },
     "c201893c93274a1a93d9065f6513c1d7": {
      "model_module": "@jupyter-widgets/controls",
      "model_module_version": "2.0.0",
      "model_name": "HTMLStyleModel",
      "state": {
       "description_width": "",
       "font_size": null,
       "text_color": null
      }
     },
     "c21bc145287247c1b473dc9272c5a590": {
      "model_module": "jupyter-leaflet",
      "model_module_version": "^0.17",
      "model_name": "LeafletZoomControlModel",
      "state": {
       "_model_module_version": "^0.17",
       "_view_module_version": "^0.17",
       "options": [
        "position",
        "zoom_in_text",
        "zoom_in_title",
        "zoom_out_text",
        "zoom_out_title"
       ]
      }
     },
     "c21f5ab109774c7795cbee182cc3398f": {
      "model_module": "@jupyter-widgets/controls",
      "model_module_version": "2.0.0",
      "model_name": "ToggleButtonStyleModel",
      "state": {
       "description_width": "",
       "font_family": null,
       "font_size": null,
       "font_style": null,
       "font_variant": null,
       "font_weight": null,
       "text_color": null,
       "text_decoration": null
      }
     },
     "c261dd9c0289451886115ce67f60c5f8": {
      "model_module": "@jupyter-widgets/controls",
      "model_module_version": "2.0.0",
      "model_name": "ToggleButtonModel",
      "state": {
       "button_style": "primary",
       "icon": "retweet",
       "layout": "IPY_MODEL_de73716cf9f64ce19ce4d70367e5f098",
       "style": "IPY_MODEL_61ec770ad39b4376955e56095809da00",
       "tooltip": "Convert Earth Engine JavaScript to Python"
      }
     },
     "c2be225e21b5409aa08f68d471d29450": {
      "model_module": "jupyter-leaflet",
      "model_module_version": "^0.17",
      "model_name": "LeafletMapModel",
      "state": {
       "_model_module_version": "^0.17",
       "_view_module_version": "^0.17",
       "bottom": 27621,
       "center": [
        28.646455931994893,
        77.10900424302301
       ],
       "controls": [
        "IPY_MODEL_e53605ad528c4c048d8b203f405401b0",
        "IPY_MODEL_7b22aa1cb1a242828faa0c3d10b66e72",
        "IPY_MODEL_040fb76f1eb44d79852fd43d823aee90",
        "IPY_MODEL_85205b8b0c6441a48092d4b2ff4d9ac1",
        "IPY_MODEL_8e099f9048d241e6a4f558dfd357f80d",
        "IPY_MODEL_1494744c2ea341339178fcd9156885a1",
        "IPY_MODEL_27549d28470d487991ba1aea773dbf73",
        "IPY_MODEL_4fdbbb0b5ecf4246bb7b5d6257856fd9"
       ],
       "default_style": "IPY_MODEL_43433f585a6941299a323719d7a89f19",
       "dragging_style": "IPY_MODEL_a1887fbd9b0d47b1b2777b0fbdb38768",
       "east": 79.51354980468751,
       "fullscreen": false,
       "interpolation": "bilinear",
       "layers": [
        "IPY_MODEL_c0f4cd67a95e49d69ac8426cae388101",
        "IPY_MODEL_06daad7159374a47a06bbd0f8b2d0125",
        "IPY_MODEL_66aed28654be4c7f8341cb18374ef7b9",
        "IPY_MODEL_93173158a07944bba41741d3a51fc606"
       ],
       "layout": "IPY_MODEL_c485be869c074b768bb61dea7110ea31",
       "left": 46369,
       "max_zoom": 24,
       "modisdate": "2023-10-03",
       "north": 30.083354648756153,
       "options": [
        "bounce_at_zoom_limits",
        "box_zoom",
        "center",
        "close_popup_on_click",
        "double_click_zoom",
        "dragging",
        "fullscreen",
        "inertia",
        "inertia_deceleration",
        "inertia_max_speed",
        "interpolation",
        "keyboard",
        "keyboard_pan_offset",
        "keyboard_zoom_offset",
        "max_zoom",
        "min_zoom",
        "prefer_canvas",
        "scroll_wheel_zoom",
        "tap",
        "tap_tolerance",
        "touch_zoom",
        "world_copy_jump",
        "zoom",
        "zoom_animation_threshold",
        "zoom_delta",
        "zoom_snap"
       ],
       "prefer_canvas": false,
       "right": 47243,
       "scroll_wheel_zoom": true,
       "south": 27.19112839142226,
       "style": "IPY_MODEL_43433f585a6941299a323719d7a89f19",
       "top": 27021,
       "west": 74.71252441406251,
       "window_url": "http://localhost:8888/lab/tree/02India_Analysis/2023October_PaperAnalysis.ipynb",
       "zoom": 8
      }
     },
     "c2dd5260506f490386ba3abdf6a34731": {
      "model_module": "@jupyter-widgets/base",
      "model_module_version": "2.0.0",
      "model_name": "LayoutModel",
      "state": {}
     },
     "c309c3351ca84af4929f15c325dd9977": {
      "model_module": "@jupyter-widgets/controls",
      "model_module_version": "2.0.0",
      "model_name": "ToggleButtonModel",
      "state": {
       "button_style": "primary",
       "icon": "hand-o-up",
       "layout": "IPY_MODEL_b10b813013384076ac69a7c0beaddb68",
       "style": "IPY_MODEL_c21f5ab109774c7795cbee182cc3398f",
       "tooltip": "Collect training samples"
      }
     },
     "c3294f2894a44b81ad485ff2e0e1a611": {
      "model_module": "@jupyter-widgets/controls",
      "model_module_version": "2.0.0",
      "model_name": "HBoxModel",
      "state": {
       "_view_count": 0,
       "children": [
        "IPY_MODEL_ade1d02be3724d3badf29e981201905c"
       ],
       "layout": "IPY_MODEL_2744a0af82be471394aa2c447757c367"
      }
     },
     "c32d0d63f73f404397d55ea13a4aedd0": {
      "model_module": "@jupyter-widgets/controls",
      "model_module_version": "2.0.0",
      "model_name": "DescriptionStyleModel",
      "state": {
       "description_width": ""
      }
     },
     "c35dd62127714f69ad87be51ba8d9a18": {
      "model_module": "@jupyter-widgets/base",
      "model_module_version": "2.0.0",
      "model_name": "LayoutModel",
      "state": {
       "height": "auto",
       "padding": "0px 0px 0px 4px",
       "width": "auto"
      }
     },
     "c35e7a3822f3401a9a2457cbe7b03cf9": {
      "model_module": "jupyter-leaflet",
      "model_module_version": "^0.17",
      "model_name": "LeafletAttributionControlModel",
      "state": {
       "_model_module_version": "^0.17",
       "_view_module_version": "^0.17",
       "options": [
        "position",
        "prefix"
       ],
       "position": "bottomright",
       "prefix": "ipyleaflet"
      }
     },
     "c3a0369c3cb443fb9ba31502bc06fc13": {
      "model_module": "@jupyter-widgets/base",
      "model_module_version": "2.0.0",
      "model_name": "LayoutModel",
      "state": {
       "grid_gap": "1px 1px",
       "grid_template_columns": "32px 32px 32px ",
       "grid_template_rows": "32px 32px ",
       "padding": "5px",
       "width": "109px"
      }
     },
     "c3a44046807246be93e9a782f25b4714": {
      "model_module": "@jupyter-widgets/base",
      "model_module_version": "2.0.0",
      "model_name": "LayoutModel",
      "state": {}
     },
     "c3ec194f9ec64975974f3531f2d96e71": {
      "model_module": "@jupyter-widgets/base",
      "model_module_version": "2.0.0",
      "model_name": "LayoutModel",
      "state": {}
     },
     "c40871f6ce8249a3891ed8c7ba8596a2": {
      "model_module": "jupyter-leaflet",
      "model_module_version": "^0.17",
      "model_name": "LeafletWidgetControlModel",
      "state": {
       "_model_module": "jupyter-leaflet",
       "_model_module_version": "^0.17",
       "_view_count": null,
       "_view_module": "jupyter-leaflet",
       "_view_module_version": "^0.17",
       "options": [
        "position",
        "transparent_bg"
       ],
       "position": "topright",
       "widget": "IPY_MODEL_1c95b31fc7ae4d16b3b79a06f9efb935"
      }
     },
     "c4218f161a674ce89efcd2f8f51fa14f": {
      "model_module": "@jupyter-widgets/base",
      "model_module_version": "2.0.0",
      "model_name": "LayoutModel",
      "state": {}
     },
     "c47720a0770247048da9ddc05befeda2": {
      "model_module": "@jupyter-widgets/controls",
      "model_module_version": "2.0.0",
      "model_name": "ToggleButtonModel",
      "state": {
       "button_style": "primary",
       "icon": "plus",
       "layout": "IPY_MODEL_0d8513b95c194f699f113b14e65e98bf",
       "style": "IPY_MODEL_f28220ef6ee942df8bbe208d5ccd28c5",
       "tooltip": "Expand toolbar"
      }
     },
     "c485be869c074b768bb61dea7110ea31": {
      "model_module": "@jupyter-widgets/base",
      "model_module_version": "2.0.0",
      "model_name": "LayoutModel",
      "state": {
       "height": "600px"
      }
     },
     "c4ba4a0e3c7f49d7b223d9a9422b523d": {
      "model_module": "@jupyter-widgets/base",
      "model_module_version": "2.0.0",
      "model_name": "LayoutModel",
      "state": {}
     },
     "c4e01a853e24417b9cad330f59c80454": {
      "model_module": "@jupyter-widgets/base",
      "model_module_version": "2.0.0",
      "model_name": "LayoutModel",
      "state": {}
     },
     "c4e2877c32ce424a941cda4c2693644b": {
      "model_module": "@jupyter-widgets/controls",
      "model_module_version": "2.0.0",
      "model_name": "ToggleButtonsModel",
      "state": {
       "_options_labels": [
        "name/address",
        "lat-lon",
        "data"
       ],
       "button_style": "",
       "icons": [],
       "index": 0,
       "layout": "IPY_MODEL_131236f1280a456da12bf8aac45899ce",
       "style": "IPY_MODEL_86252864cab9452b97acbb58d4243a1c",
       "tooltips": [
        "Search by place name or address",
        "Search by lat-lon coordinates",
        "Search Earth Engine data catalog"
       ]
      }
     },
     "c4f895f220e64c5197910cebb6853036": {
      "model_module": "@jupyter-widgets/controls",
      "model_module_version": "2.0.0",
      "model_name": "ButtonModel",
      "state": {
       "button_style": "primary",
       "description": "import",
       "layout": "IPY_MODEL_7bb5103935b44ad0ada9a473ecc104fc",
       "style": "IPY_MODEL_ea6447764d5444aeb637e827f58268ca",
       "tooltip": "Click to import the selected asset"
      }
     },
     "c5253b01f1594f4f83795f31a3e9ecd1": {
      "model_module": "@jupyter-widgets/base",
      "model_module_version": "2.0.0",
      "model_name": "LayoutModel",
      "state": {
       "height": "28px",
       "width": "72px"
      }
     },
     "c53b5742316c43dfbb52fecf47775d79": {
      "model_module": "@jupyter-widgets/controls",
      "model_module_version": "2.0.0",
      "model_name": "ToggleButtonsModel",
      "state": {
       "_options_labels": [
        "name/address",
        "lat-lon",
        "data"
       ],
       "button_style": "",
       "icons": [],
       "index": 0,
       "layout": "IPY_MODEL_b9171089e5884206a835e9dfaf61dee1",
       "style": "IPY_MODEL_54e7b9ce967a4d32b75aaaed707dd266",
       "tooltips": [
        "Search by place name or address",
        "Search by lat-lon coordinates",
        "Search Earth Engine data catalog"
       ]
      }
     },
     "c54a4102711e4d44819396d15ea3e236": {
      "model_module": "@jupyter-widgets/controls",
      "model_module_version": "2.0.0",
      "model_name": "ToggleButtonStyleModel",
      "state": {
       "description_width": "",
       "font_family": null,
       "font_size": null,
       "font_style": null,
       "font_variant": null,
       "font_weight": null,
       "text_color": null,
       "text_decoration": null
      }
     },
     "c59fe3319ba34009a65d8cb6eb68db0e": {
      "model_module": "@jupyter-widgets/controls",
      "model_module_version": "2.0.0",
      "model_name": "DescriptionStyleModel",
      "state": {
       "description_width": ""
      }
     },
     "c5a5e0ed1a56493a8f6828ddc053cb37": {
      "model_module": "@jupyter-widgets/controls",
      "model_module_version": "2.0.0",
      "model_name": "TextModel",
      "state": {
       "layout": "IPY_MODEL_184bc5b09250448bab2ad427e806cf1e",
       "placeholder": "output filename",
       "style": "IPY_MODEL_9c6699b1e8e94b25810295f16eb76e26",
       "value": "2023October_PaperAnalysis.ipynb"
      }
     },
     "c5b04ddb44244535b83c34760cb50ee9": {
      "model_module": "@jupyter-widgets/output",
      "model_module_version": "1.0.0",
      "model_name": "OutputModel",
      "state": {
       "layout": "IPY_MODEL_d2e881d785bb44b39af71b08e49cf4a1"
      }
     },
     "c5e8e94b2ea04d3192f8236fc1408a64": {
      "model_module": "jupyter-leaflet",
      "model_module_version": "^0.17",
      "model_name": "LeafletTileLayerModel",
      "state": {
       "_model_module_version": "^0.17",
       "_view_module_version": "^0.17",
       "attribution": "Google",
       "max_zoom": 24,
       "name": "Google Maps",
       "options": [
        "attribution",
        "bounds",
        "detect_retina",
        "max_native_zoom",
        "max_zoom",
        "min_native_zoom",
        "min_zoom",
        "no_wrap",
        "tile_size",
        "tms",
        "zoom_offset"
       ],
       "url": "https://mt1.google.com/vt/lyrs=m&x={x}&y={y}&z={z}"
      }
     },
     "c62fa87a3bd447f6b13f177c0b89caf5": {
      "model_module": "@jupyter-widgets/base",
      "model_module_version": "2.0.0",
      "model_name": "LayoutModel",
      "state": {}
     },
     "c63b8a2e7ca243ad92d4b38b2a91f911": {
      "model_module": "@jupyter-widgets/base",
      "model_module_version": "2.0.0",
      "model_name": "LayoutModel",
      "state": {
       "height": "28px",
       "width": "72px"
      }
     },
     "c63e4ff2060c4b46a1a72ac720469cc9": {
      "model_module": "@jupyter-widgets/base",
      "model_module_version": "2.0.0",
      "model_name": "LayoutModel",
      "state": {}
     },
     "c66822628c6c49d1a652cc120c5f80b6": {
      "model_module": "jupyter-leaflet",
      "model_module_version": "^0.17",
      "model_name": "LeafletZoomControlModel",
      "state": {
       "_model_module_version": "^0.17",
       "_view_module_version": "^0.17",
       "options": [
        "position",
        "zoom_in_text",
        "zoom_in_title",
        "zoom_out_text",
        "zoom_out_title"
       ]
      }
     },
     "c66eb12468eb41f6b991bbc84977b84c": {
      "model_module": "@jupyter-widgets/controls",
      "model_module_version": "2.0.0",
      "model_name": "ToggleButtonModel",
      "state": {
       "icon": "server",
       "layout": "IPY_MODEL_c023b36d1e8c4ab5856b0bd59dcac9df",
       "style": "IPY_MODEL_6eff763ad4d84ef9a90fdced604b9407",
       "tooltip": "Layers"
      }
     },
     "c6811147fdf94e4998c3d384e8637aa2": {
      "model_module": "@jupyter-widgets/controls",
      "model_module_version": "2.0.0",
      "model_name": "ToggleButtonStyleModel",
      "state": {
       "description_width": "",
       "font_family": null,
       "font_size": null,
       "font_style": null,
       "font_variant": null,
       "font_weight": null,
       "text_color": null,
       "text_decoration": null
      }
     },
     "c6aa81ca02314d318511f5aec6660ac9": {
      "model_module": "@jupyter-widgets/controls",
      "model_module_version": "2.0.0",
      "model_name": "ToggleButtonsStyleModel",
      "state": {
       "button_width": "110px",
       "description_width": ""
      }
     },
     "c6b5ad27b40847fbaaa875fd2edb67f1": {
      "model_module": "@jupyter-widgets/base",
      "model_module_version": "2.0.0",
      "model_name": "LayoutModel",
      "state": {
       "height": "auto",
       "padding": "0px 0px 0px 4px",
       "width": "auto"
      }
     },
     "c7a345f105f4402183d07dc71e9048b5": {
      "model_module": "@jupyter-widgets/controls",
      "model_module_version": "2.0.0",
      "model_name": "RadioButtonsModel",
      "state": {
       "index": null,
       "layout": "IPY_MODEL_9084a67988db4b778b386cac8932a48d",
       "style": "IPY_MODEL_2f4ad91f55c047e19f78e1fc4c4fbcde"
      }
     },
     "c7b19f98bbc14bb9b903b70ffd454ae0": {
      "model_module": "@jupyter-widgets/base",
      "model_module_version": "2.0.0",
      "model_name": "LayoutModel",
      "state": {
       "height": "600px"
      }
     },
     "c7df825dc82f47d3911fbf9e4459316a": {
      "model_module": "@jupyter-widgets/output",
      "model_module_version": "1.0.0",
      "model_name": "OutputModel",
      "state": {
       "layout": "IPY_MODEL_622f3b3504c34fec8ca4e9b94a948782"
      }
     },
     "c7f0ed0195734ac2846947c09b5fdd5e": {
      "model_module": "@jupyter-widgets/base",
      "model_module_version": "2.0.0",
      "model_name": "LayoutModel",
      "state": {
       "height": "28px",
       "padding": "0px 0px 0px 4px",
       "width": "28px"
      }
     },
     "c7f4199b9d054b789ec6e4d80316c564": {
      "model_module": "@jupyter-widgets/controls",
      "model_module_version": "2.0.0",
      "model_name": "ToggleButtonStyleModel",
      "state": {
       "description_width": "",
       "font_family": null,
       "font_size": null,
       "font_style": null,
       "font_variant": null,
       "font_weight": null,
       "text_color": null,
       "text_decoration": null
      }
     },
     "c8067ff48763418cb4e3e5a555d98016": {
      "model_module": "@jupyter-widgets/controls",
      "model_module_version": "2.0.0",
      "model_name": "ToggleButtonModel",
      "state": {
       "button_style": "primary",
       "icon": "globe",
       "layout": "IPY_MODEL_d0b15096285049178de71562b92d9058",
       "style": "IPY_MODEL_cbc50a261af44e1dae227707ebeba085",
       "tooltip": "Create timelapse"
      }
     },
     "c82bbfb0becd4024ac8be24751cf6e82": {
      "model_module": "@jupyter-widgets/controls",
      "model_module_version": "2.0.0",
      "model_name": "ToggleButtonModel",
      "state": {
       "button_style": "primary",
       "icon": "bar-chart",
       "layout": "IPY_MODEL_e62734c11dcb49d584747d6897f09f05",
       "style": "IPY_MODEL_a7a1397357184a56bab9a5f9ad03da59",
       "tooltip": "Plotting"
      }
     },
     "c84f5c27bc34442cb1c3a506b644b842": {
      "model_module": "@jupyter-widgets/controls",
      "model_module_version": "2.0.0",
      "model_name": "ToggleButtonStyleModel",
      "state": {
       "description_width": "",
       "font_family": null,
       "font_size": null,
       "font_style": null,
       "font_variant": null,
       "font_weight": null,
       "text_color": null,
       "text_decoration": null
      }
     },
     "c86acd2310224382ab96445606537d8f": {
      "model_module": "@jupyter-widgets/controls",
      "model_module_version": "2.0.0",
      "model_name": "ToggleButtonModel",
      "state": {
       "icon": "wrench",
       "layout": "IPY_MODEL_7084fe8d949146c293bfc5c6c39ab85c",
       "style": "IPY_MODEL_c0b3d957c8274bc9aea8fc38ac05be84",
       "tooltip": "Toolbar"
      }
     },
     "c88f0270abc447d881c2bdc06bc8ee11": {
      "model_module": "@jupyter-widgets/controls",
      "model_module_version": "2.0.0",
      "model_name": "ToggleButtonStyleModel",
      "state": {
       "description_width": "",
       "font_family": null,
       "font_size": null,
       "font_style": null,
       "font_variant": null,
       "font_weight": null,
       "text_color": null,
       "text_decoration": null
      }
     },
     "c89d921322004e58abc8ef7cbb1b2955": {
      "model_module": "@jupyter-widgets/base",
      "model_module_version": "2.0.0",
      "model_name": "LayoutModel",
      "state": {
       "height": "auto",
       "padding": "0px 0px 0px 4px",
       "width": "auto"
      }
     },
     "c8aa1b74af8c40cc8d2ffa84d146fa78": {
      "model_module": "@jupyter-widgets/controls",
      "model_module_version": "2.0.0",
      "model_name": "ButtonModel",
      "state": {
       "description": "Cancel",
       "layout": "IPY_MODEL_2b83f84aa47848cab9c1f54fa4fc52fe",
       "style": "IPY_MODEL_f29a69a0e9fe4f1fb3b9b93d4e64c383",
       "tooltip": null
      }
     },
     "c8b80a4aba49430986c17537c9bffd59": {
      "model_module": "@jupyter-widgets/controls",
      "model_module_version": "2.0.0",
      "model_name": "VBoxModel",
      "state": {
       "children": [
        "IPY_MODEL_916df6b514444bb5ba46bc437be4f656",
        "IPY_MODEL_6212e96937774d8c9200fdfa86b6aec1"
       ],
       "layout": "IPY_MODEL_b88d1bd451c04244aec651c6a81f4e39"
      }
     },
     "c8d250b715ab4ac9a27a08ed25c88070": {
      "model_module": "@jupyter-widgets/controls",
      "model_module_version": "2.0.0",
      "model_name": "ToggleButtonModel",
      "state": {
       "button_style": "primary",
       "icon": "retweet",
       "layout": "IPY_MODEL_e0a48397ff1d4b9b8b29fc4ea325c44d",
       "style": "IPY_MODEL_eef281026714414cb18e01ce61696baf",
       "tooltip": "Convert Earth Engine JavaScript to Python"
      }
     },
     "c8f40fd3d4954c64a0c44d2ced10a540": {
      "model_module": "@jupyter-widgets/controls",
      "model_module_version": "2.0.0",
      "model_name": "ToggleButtonStyleModel",
      "state": {
       "description_width": "",
       "font_family": null,
       "font_size": null,
       "font_style": null,
       "font_variant": null,
       "font_weight": null,
       "text_color": null,
       "text_decoration": null
      }
     },
     "c9037e96592e4bc79747202c868db096": {
      "model_module": "@jupyter-widgets/controls",
      "model_module_version": "2.0.0",
      "model_name": "ToggleButtonStyleModel",
      "state": {
       "description_width": "",
       "font_family": null,
       "font_size": null,
       "font_style": null,
       "font_variant": null,
       "font_weight": null,
       "text_color": null,
       "text_decoration": null
      }
     },
     "c92c76a8b74c4b208b768546d016c2dc": {
      "model_module": "jupyter-leaflet",
      "model_module_version": "^0.17",
      "model_name": "LeafletFullScreenControlModel",
      "state": {
       "_model_module_version": "^0.17",
       "_view_module_version": "^0.17",
       "options": [
        "position"
       ]
      }
     },
     "c9450009eb4943618c6543c95b82b86e": {
      "model_module": "@jupyter-widgets/controls",
      "model_module_version": "2.0.0",
      "model_name": "HTMLModel",
      "state": {
       "layout": "IPY_MODEL_ebd4827506da4b76881e27da79122787",
       "style": "IPY_MODEL_08c9f4d8551747e682e88e25e0554a0b"
      }
     },
     "c963af68c58e47adb7cfc3c6e6f336c6": {
      "model_module": "@jupyter-widgets/controls",
      "model_module_version": "2.0.0",
      "model_name": "DescriptionStyleModel",
      "state": {
       "description_width": ""
      }
     },
     "c96ca950eb3b4ff38eea1d6415ad9853": {
      "model_module": "@jupyter-widgets/base",
      "model_module_version": "2.0.0",
      "model_name": "LayoutModel",
      "state": {}
     },
     "c9cbbfdd39674982aba1184b4900de60": {
      "model_module": "@jupyter-widgets/controls",
      "model_module_version": "2.0.0",
      "model_name": "HBoxModel",
      "state": {
       "children": [
        "IPY_MODEL_2e8d0f9e3f7f4bce8221f572ed9da9e1",
        "IPY_MODEL_ef9a941fc4f0417a8018fc3c24d0f90e"
       ],
       "layout": "IPY_MODEL_7a18f74d76004e7db1942fcfea176910"
      }
     },
     "c9cca32d7c024c4cb9ec22f150260f84": {
      "model_module": "@jupyter-widgets/controls",
      "model_module_version": "2.0.0",
      "model_name": "ToggleButtonStyleModel",
      "state": {
       "description_width": "",
       "font_family": null,
       "font_size": null,
       "font_style": null,
       "font_variant": null,
       "font_weight": null,
       "text_color": null,
       "text_decoration": null
      }
     },
     "c9d3b23dde8c4a92aeffa41427c18d09": {
      "model_module": "@jupyter-widgets/controls",
      "model_module_version": "2.0.0",
      "model_name": "ToggleButtonStyleModel",
      "state": {
       "description_width": "",
       "font_family": null,
       "font_size": null,
       "font_style": null,
       "font_variant": null,
       "font_weight": null,
       "text_color": null,
       "text_decoration": null
      }
     },
     "c9f58afa039f4571a1b639cacbdd8cbe": {
      "model_module": "@jupyter-widgets/controls",
      "model_module_version": "2.0.0",
      "model_name": "GridBoxModel",
      "state": {
       "children": [
        "IPY_MODEL_518a67f8d2944a3cbd70669af3ab9540",
        "IPY_MODEL_8a3e0d1716df47aba8645ce9134b3e13",
        "IPY_MODEL_0799e417f4b24f3fb5e0d39c9835779f",
        "IPY_MODEL_70a266631ea84659985bb8d83d26ee8b",
        "IPY_MODEL_d350b6a2eaec40b5860b00f5bb3046f4",
        "IPY_MODEL_8cdab511028d4fa3bc037df9ce6feab2"
       ],
       "layout": "IPY_MODEL_d7610fdfb17f431387927ce2f2a0f6ff"
      }
     },
     "c9f8b490c5a244beb72a3645374e71a6": {
      "model_module": "@jupyter-widgets/controls",
      "model_module_version": "2.0.0",
      "model_name": "SliderStyleModel",
      "state": {
       "description_width": ""
      }
     },
     "ca04d91c962748808ea1630088adced5": {
      "model_module": "@jupyter-widgets/controls",
      "model_module_version": "2.0.0",
      "model_name": "ToggleButtonsStyleModel",
      "state": {
       "button_width": "110px",
       "description_width": ""
      }
     },
     "ca06d7bcb842453aacc9598fcc74d736": {
      "model_module": "@jupyter-widgets/controls",
      "model_module_version": "2.0.0",
      "model_name": "ToggleButtonModel",
      "state": {
       "button_style": "primary",
       "icon": "hand-o-up",
       "layout": "IPY_MODEL_beb9fe2a235040b8b67fe969fb362ff9",
       "style": "IPY_MODEL_6f251e83703542ebabcde0d48ab4d04b",
       "tooltip": "Collect training samples"
      }
     },
     "ca172e4970e44789a097457f75139088": {
      "model_module": "jupyter-leaflet",
      "model_module_version": "^0.17",
      "model_name": "LeafletAttributionControlModel",
      "state": {
       "_model_module_version": "^0.17",
       "_view_module_version": "^0.17",
       "options": [
        "position",
        "prefix"
       ],
       "position": "bottomright",
       "prefix": "ipyleaflet"
      }
     },
     "ca1a5f73c1d846e4b82dfcab9623e4c4": {
      "model_module": "ipyevents",
      "model_module_version": "2.0.1",
      "model_name": "EventModel",
      "state": {
       "_supported_key_events": [
        "keydown",
        "keyup"
       ],
       "_supported_mouse_events": [
        "click",
        "auxclick",
        "dblclick",
        "mouseenter",
        "mouseleave",
        "mousedown",
        "mouseup",
        "mousemove",
        "wheel",
        "contextmenu",
        "dragstart",
        "drag",
        "dragend",
        "dragenter",
        "dragover",
        "dragleave",
        "drop"
       ],
       "_supported_touch_events": [
        "touchstart",
        "touchend",
        "touchmove",
        "touchcancel"
       ],
       "_view_module": "@jupyter-widgets/controls",
       "source": "IPY_MODEL_0c14ba6672d048cd84a401db14535168",
       "throttle_or_debounce": "",
       "watched_events": [
        "mouseenter",
        "mouseleave"
       ],
       "xy_coordinate_system": ""
      }
     },
     "ca540c9e76ea4e8685bbd9048efaf333": {
      "model_module": "@jupyter-widgets/controls",
      "model_module_version": "2.0.0",
      "model_name": "ButtonStyleModel",
      "state": {
       "font_family": null,
       "font_size": null,
       "font_style": null,
       "font_variant": null,
       "font_weight": null,
       "text_color": null,
       "text_decoration": null
      }
     },
     "caa4c107ee4e421fa3f18403f9e280d8": {
      "model_module": "@jupyter-widgets/controls",
      "model_module_version": "2.0.0",
      "model_name": "ToggleButtonModel",
      "state": {
       "button_style": "primary",
       "icon": "retweet",
       "layout": "IPY_MODEL_9cf6317fa55b4f12867da3bdffe0519d",
       "style": "IPY_MODEL_95070669967a4abf969e8f0ecd604c80",
       "tooltip": "Convert Earth Engine JavaScript to Python"
      }
     },
     "cadc8da242664e4e858782fd859dbab4": {
      "model_module": "@jupyter-widgets/base",
      "model_module_version": "2.0.0",
      "model_name": "LayoutModel",
      "state": {}
     },
     "cb1faf1fe62e411b9a6cef4eef677e01": {
      "model_module": "@jupyter-widgets/base",
      "model_module_version": "2.0.0",
      "model_name": "LayoutModel",
      "state": {
       "height": "auto",
       "padding": "0px 0px 0px 4px",
       "width": "auto"
      }
     },
     "cb3a4e7fed7f4d89a17f9bd916fed40e": {
      "model_module": "@jupyter-widgets/base",
      "model_module_version": "2.0.0",
      "model_name": "LayoutModel",
      "state": {}
     },
     "cb7d90e44ee74770afb2ce870dadd68a": {
      "model_module": "jupyter-leaflet",
      "model_module_version": "^0.17",
      "model_name": "LeafletFullScreenControlModel",
      "state": {
       "_model_module_version": "^0.17",
       "_view_module_version": "^0.17",
       "options": [
        "position"
       ]
      }
     },
     "cb84b5acf8b848c29a15841939a688ec": {
      "model_module": "@jupyter-widgets/controls",
      "model_module_version": "2.0.0",
      "model_name": "HBoxModel",
      "state": {
       "children": [
        "IPY_MODEL_ceb0a2e21a084caf938b4d25c4a4732d",
        "IPY_MODEL_80f5f0bd6fd148a9b45648c8b7728b1b",
        "IPY_MODEL_3346f5f14e374b0f9ccc0d60a07d7aba"
       ],
       "layout": "IPY_MODEL_a9354eb8a2cd48c68eeb7444cdbde8f5"
      }
     },
     "cbb7c0cf8c094722b6d512eeff257dc0": {
      "model_module": "@jupyter-widgets/base",
      "model_module_version": "2.0.0",
      "model_name": "LayoutModel",
      "state": {}
     },
     "cbc50a261af44e1dae227707ebeba085": {
      "model_module": "@jupyter-widgets/controls",
      "model_module_version": "2.0.0",
      "model_name": "ToggleButtonStyleModel",
      "state": {
       "description_width": "",
       "font_family": null,
       "font_size": null,
       "font_style": null,
       "font_variant": null,
       "font_weight": null,
       "text_color": null,
       "text_decoration": null
      }
     },
     "cbc561fc551044acbb07e12cb535f38c": {
      "model_module": "@jupyter-widgets/base",
      "model_module_version": "2.0.0",
      "model_name": "LayoutModel",
      "state": {
       "height": "auto",
       "padding": "0px 0px 0px 4px",
       "width": "auto"
      }
     },
     "cc1f74cf55fb4f1c83a7deb2057632bc": {
      "model_module": "@jupyter-widgets/base",
      "model_module_version": "2.0.0",
      "model_name": "LayoutModel",
      "state": {}
     },
     "cc2d029810ef4df9ab4b00ede780a845": {
      "model_module": "@jupyter-widgets/controls",
      "model_module_version": "2.0.0",
      "model_name": "ToggleButtonStyleModel",
      "state": {
       "description_width": "",
       "font_family": null,
       "font_size": null,
       "font_style": null,
       "font_variant": null,
       "font_weight": null,
       "text_color": null,
       "text_decoration": null
      }
     },
     "cc3d81dcb72a4f5fb9441d7f3e6a31b7": {
      "model_module": "@jupyter-widgets/base",
      "model_module_version": "2.0.0",
      "model_name": "LayoutModel",
      "state": {
       "width": "auto"
      }
     },
     "cca78a7e40894a88bc883863f59a71db": {
      "model_module": "@jupyter-widgets/base",
      "model_module_version": "2.0.0",
      "model_name": "LayoutModel",
      "state": {
       "max_width": "279px",
       "min_width": "279px"
      }
     },
     "ccbb65104d8e4b91b7b3149e7ccd3eee": {
      "model_module": "@jupyter-widgets/base",
      "model_module_version": "2.0.0",
      "model_name": "LayoutModel",
      "state": {
       "max_height": "350px",
       "max_width": "340px",
       "overflow": "scroll"
      }
     },
     "ccec2ed04bbf44ad8882bf9b88d9f640": {
      "model_module": "@jupyter-widgets/controls",
      "model_module_version": "2.0.0",
      "model_name": "ButtonStyleModel",
      "state": {
       "font_family": null,
       "font_size": null,
       "font_style": null,
       "font_variant": null,
       "font_weight": null,
       "text_color": null,
       "text_decoration": null
      }
     },
     "cd2fec77da7e4ac4b2d487b5778ccaf2": {
      "model_module": "jupyter-leaflet",
      "model_module_version": "^0.17",
      "model_name": "LeafletZoomControlModel",
      "state": {
       "_model_module_version": "^0.17",
       "_view_module_version": "^0.17",
       "options": [
        "position",
        "zoom_in_text",
        "zoom_in_title",
        "zoom_out_text",
        "zoom_out_title"
       ]
      }
     },
     "cd74aecca8a242bb92c3a3cef7c60e1d": {
      "model_module": "@jupyter-widgets/base",
      "model_module_version": "2.0.0",
      "model_name": "LayoutModel",
      "state": {}
     },
     "cd79ef93ec6a4298a73324d7734aaacd": {
      "model_module": "@jupyter-widgets/controls",
      "model_module_version": "2.0.0",
      "model_name": "VBoxModel",
      "state": {
       "children": [
        "IPY_MODEL_c9f58afa039f4571a1b639cacbdd8cbe"
       ],
       "layout": "IPY_MODEL_63062c0d468b497797cbaa2d16042931"
      }
     },
     "cd835f5d5483449e887fa74367cd822f": {
      "model_module": "@jupyter-widgets/base",
      "model_module_version": "2.0.0",
      "model_name": "LayoutModel",
      "state": {
       "height": "auto",
       "padding": "0px 0px 0px 4px",
       "width": "auto"
      }
     },
     "cd9136cf681d450c87371a6a7b1f54dc": {
      "model_module": "@jupyter-widgets/controls",
      "model_module_version": "2.0.0",
      "model_name": "ToggleButtonStyleModel",
      "state": {
       "description_width": "",
       "font_family": null,
       "font_size": null,
       "font_style": null,
       "font_variant": null,
       "font_weight": null,
       "text_color": null,
       "text_decoration": null
      }
     },
     "cda1ccf0954a4782a65d0be46197130c": {
      "model_module": "@jupyter-widgets/controls",
      "model_module_version": "2.0.0",
      "model_name": "ToggleButtonModel",
      "state": {
       "button_style": "primary",
       "icon": "fast-forward",
       "layout": "IPY_MODEL_5cbe3c8f1f7f47498bb805794b618091",
       "style": "IPY_MODEL_2dd8da64175b4729b76d6e34966a410f",
       "tooltip": "Activate timeslider"
      }
     },
     "cdab357365b5415f9036eda3776d2998": {
      "model_module": "@jupyter-widgets/base",
      "model_module_version": "2.0.0",
      "model_name": "LayoutModel",
      "state": {
       "grid_gap": "1px 1px",
       "grid_template_columns": "32px 32px 32px ",
       "grid_template_rows": "32px 32px ",
       "padding": "5px",
       "width": "109px"
      }
     },
     "cdbaba5822754040b7ed3ee5c7e7731d": {
      "model_module": "ipyevents",
      "model_module_version": "2.0.1",
      "model_name": "EventModel",
      "state": {
       "_supported_key_events": [
        "keydown",
        "keyup"
       ],
       "_supported_mouse_events": [
        "click",
        "auxclick",
        "dblclick",
        "mouseenter",
        "mouseleave",
        "mousedown",
        "mouseup",
        "mousemove",
        "wheel",
        "contextmenu",
        "dragstart",
        "drag",
        "dragend",
        "dragenter",
        "dragover",
        "dragleave",
        "drop"
       ],
       "_supported_touch_events": [
        "touchstart",
        "touchend",
        "touchmove",
        "touchcancel"
       ],
       "_view_module": "@jupyter-widgets/controls",
       "source": "IPY_MODEL_233149929d984fd6bc4b0f9bfd9e0d00",
       "throttle_or_debounce": "",
       "watched_events": [
        "mouseenter",
        "mouseleave"
       ],
       "xy_coordinate_system": ""
      }
     },
     "cdfb95dc7dc74874a0908c80d171965e": {
      "model_module": "@jupyter-widgets/controls",
      "model_module_version": "2.0.0",
      "model_name": "ToggleButtonsStyleModel",
      "state": {
       "button_width": "110px",
       "description_width": ""
      }
     },
     "ce300531b4914b6c965dbaef643ca37f": {
      "model_module": "@jupyter-widgets/controls",
      "model_module_version": "2.0.0",
      "model_name": "ToggleButtonModel",
      "state": {
       "button_style": "primary",
       "icon": "folder-open",
       "layout": "IPY_MODEL_1e737503ef8c4b2e838f1da80bba1836",
       "style": "IPY_MODEL_b31bcec8c4e7455e8ae09e97ccadedd1",
       "tooltip": "Open local vector/raster data"
      }
     },
     "ce346ef9878a4d46b210d263550d4f4a": {
      "model_module": "@jupyter-widgets/controls",
      "model_module_version": "2.0.0",
      "model_name": "ToggleButtonModel",
      "state": {
       "button_style": "primary",
       "icon": "map",
       "layout": "IPY_MODEL_888516ed6f054e038bf58dc1774683ff",
       "style": "IPY_MODEL_c9cca32d7c024c4cb9ec22f150260f84",
       "tooltip": "Change basemap"
      }
     },
     "ce3c0a69169c40ecad5c4f9670390906": {
      "model_module": "@jupyter-widgets/controls",
      "model_module_version": "2.0.0",
      "model_name": "ToggleButtonStyleModel",
      "state": {
       "description_width": "",
       "font_family": null,
       "font_size": null,
       "font_style": null,
       "font_variant": null,
       "font_weight": null,
       "text_color": null,
       "text_decoration": null
      }
     },
     "ce41a8e577ed44f49a169df632a9dfc0": {
      "model_module": "@jupyter-widgets/base",
      "model_module_version": "2.0.0",
      "model_name": "LayoutModel",
      "state": {
       "height": "auto",
       "padding": "0px 0px 0px 4px",
       "width": "auto"
      }
     },
     "ce753a619107414d84c15016d32f8252": {
      "model_module": "@jupyter-widgets/base",
      "model_module_version": "2.0.0",
      "model_name": "LayoutModel",
      "state": {
       "max_height": "350px",
       "max_width": "340px",
       "overflow": "scroll"
      }
     },
     "ce7aa6b603a84ea1bd2b5fe764119a34": {
      "model_module": "@jupyter-widgets/controls",
      "model_module_version": "2.0.0",
      "model_name": "VBoxModel",
      "state": {
       "children": [
        "IPY_MODEL_c9cbbfdd39674982aba1184b4900de60",
        "IPY_MODEL_2e03294b9a3b42fd97c349afe04d374e"
       ],
       "layout": "IPY_MODEL_c62fa87a3bd447f6b13f177c0b89caf5"
      }
     },
     "ceb0a2e21a084caf938b4d25c4a4732d": {
      "model_module": "@jupyter-widgets/controls",
      "model_module_version": "2.0.0",
      "model_name": "CheckboxModel",
      "state": {
       "description": "Buffer Around Delhi (Outside)",
       "disabled": false,
       "indent": false,
       "layout": "IPY_MODEL_2f69e6685e0748279077d7a07686996a",
       "style": "IPY_MODEL_07dffdb038004cbaa3af94468d166d23",
       "value": true
      }
     },
     "cef99d34154b4eb2a7ca0ac3d5933854": {
      "model_module": "@jupyter-widgets/base",
      "model_module_version": "2.0.0",
      "model_name": "LayoutModel",
      "state": {
       "height": "auto",
       "padding": "0px 0px 0px 4px",
       "width": "auto"
      }
     },
     "cf0cfbfa732c4ed3ad1b5841755bbdea": {
      "model_module": "@jupyter-widgets/controls",
      "model_module_version": "2.0.0",
      "model_name": "VBoxModel",
      "state": {
       "_view_count": 1,
       "children": [
        "IPY_MODEL_249192fab7254498ab93e3961b1c5a14"
       ],
       "layout": "IPY_MODEL_cbb7c0cf8c094722b6d512eeff257dc0"
      }
     },
     "cf179e75febb4e7c8ed1759afa0d8a3f": {
      "model_module": "@jupyter-widgets/controls",
      "model_module_version": "2.0.0",
      "model_name": "TextStyleModel",
      "state": {
       "description_width": "",
       "font_size": null,
       "text_color": null
      }
     },
     "cf3202f151c74b708649222da4873d3f": {
      "model_module": "@jupyter-widgets/base",
      "model_module_version": "2.0.0",
      "model_name": "LayoutModel",
      "state": {}
     },
     "cf4fc7a2becf4006bfd9b67464702169": {
      "model_module": "@jupyter-widgets/controls",
      "model_module_version": "2.0.0",
      "model_name": "HBoxModel",
      "state": {
       "children": [
        "IPY_MODEL_fe35ec1595e24f249c24c2b308d6eecd",
        "IPY_MODEL_6bc8dbdebd994daabd33468213121723"
       ],
       "layout": "IPY_MODEL_a11b0845dbe04dadab6be595d35abd80"
      }
     },
     "cf692834a37a45098728fb664905ee5a": {
      "model_module": "jupyter-leaflet",
      "model_module_version": "^0.17",
      "model_name": "LeafletAttributionControlModel",
      "state": {
       "_model_module_version": "^0.17",
       "_view_module_version": "^0.17",
       "options": [
        "position",
        "prefix"
       ],
       "position": "bottomright",
       "prefix": "ipyleaflet"
      }
     },
     "cf873fe798e74d39923e93ad26056a50": {
      "model_module": "@jupyter-widgets/base",
      "model_module_version": "2.0.0",
      "model_name": "LayoutModel",
      "state": {
       "height": "auto",
       "padding": "0px 0px 0px 4px",
       "width": "auto"
      }
     },
     "cfd5000dd36140b197889905991c140f": {
      "model_module": "@jupyter-widgets/controls",
      "model_module_version": "2.0.0",
      "model_name": "ToggleButtonStyleModel",
      "state": {
       "description_width": "",
       "font_family": null,
       "font_size": null,
       "font_style": null,
       "font_variant": null,
       "font_weight": null,
       "text_color": null,
       "text_decoration": null
      }
     },
     "cffa61bbf3fe41c3952182b11e5d4e28": {
      "model_module": "@jupyter-widgets/base",
      "model_module_version": "2.0.0",
      "model_name": "LayoutModel",
      "state": {
       "height": "600px"
      }
     },
     "cffe64d1568e4d1eab4777b502ab2155": {
      "model_module": "jupyter-leaflet",
      "model_module_version": "^0.17",
      "model_name": "LeafletZoomControlModel",
      "state": {
       "_model_module_version": "^0.17",
       "_view_module_version": "^0.17",
       "options": [
        "position",
        "zoom_in_text",
        "zoom_in_title",
        "zoom_out_text",
        "zoom_out_title"
       ]
      }
     },
     "d007ec73c20a4746b613f5ee063ef59e": {
      "model_module": "@jupyter-widgets/base",
      "model_module_version": "2.0.0",
      "model_name": "LayoutModel",
      "state": {
       "height": "auto",
       "padding": "0px 0px 0px 4px",
       "width": "auto"
      }
     },
     "d03a5833a6ab4471a61ca710189aceed": {
      "model_module": "@jupyter-widgets/controls",
      "model_module_version": "2.0.0",
      "model_name": "ToggleButtonStyleModel",
      "state": {
       "description_width": "",
       "font_family": null,
       "font_size": null,
       "font_style": null,
       "font_variant": null,
       "font_weight": null,
       "text_color": null,
       "text_decoration": null
      }
     },
     "d03d91f0a626419698e11052d3df4c4f": {
      "model_module": "@jupyter-widgets/controls",
      "model_module_version": "2.0.0",
      "model_name": "ToggleButtonModel",
      "state": {
       "button_style": "primary",
       "icon": "gears",
       "layout": "IPY_MODEL_33b37dac8e5c49fcbdc45a599c22ced0",
       "style": "IPY_MODEL_2241111de53a485889cbbb190cd08e7e",
       "tooltip": "WhiteboxTools for local geoprocessing"
      }
     },
     "d09188395b4c4930827cfb29309c89c2": {
      "model_module": "@jupyter-widgets/controls",
      "model_module_version": "2.0.0",
      "model_name": "ToggleButtonStyleModel",
      "state": {
       "description_width": "",
       "font_family": null,
       "font_size": null,
       "font_style": null,
       "font_variant": null,
       "font_weight": null,
       "text_color": null,
       "text_decoration": null
      }
     },
     "d0940788d8dd4bda88414a404483df36": {
      "model_module": "@jupyter-widgets/controls",
      "model_module_version": "2.0.0",
      "model_name": "TextStyleModel",
      "state": {
       "description_width": "",
       "font_size": null,
       "text_color": null
      }
     },
     "d0a2d6bc7165461cae7aeb1196a24e33": {
      "model_module": "@jupyter-widgets/controls",
      "model_module_version": "2.0.0",
      "model_name": "ButtonStyleModel",
      "state": {
       "font_family": null,
       "font_size": null,
       "font_style": null,
       "font_variant": null,
       "font_weight": null,
       "text_color": null,
       "text_decoration": null
      }
     },
     "d0b15096285049178de71562b92d9058": {
      "model_module": "@jupyter-widgets/base",
      "model_module_version": "2.0.0",
      "model_name": "LayoutModel",
      "state": {
       "height": "auto",
       "padding": "0px 0px 0px 4px",
       "width": "auto"
      }
     },
     "d0bad4cc7d0d4c818526906125ddf451": {
      "model_module": "@jupyter-widgets/controls",
      "model_module_version": "2.0.0",
      "model_name": "ToggleButtonModel",
      "state": {
       "button_style": "primary",
       "icon": "random",
       "layout": "IPY_MODEL_5989294a9d3a4de59d92fcb9b84ccd85",
       "style": "IPY_MODEL_76da942bebb844108c09b98bcc61c27f",
       "tooltip": "Sankey plots"
      }
     },
     "d0f8327f50b84bb6a468b034b406f9e3": {
      "model_module": "@jupyter-widgets/controls",
      "model_module_version": "2.0.0",
      "model_name": "CheckboxModel",
      "state": {
       "description": "Google Maps",
       "disabled": false,
       "indent": false,
       "layout": "IPY_MODEL_a7ba9043a19f469fbe8f9739b7474148",
       "style": "IPY_MODEL_102aae35f15247d0a02ce62c13f05dce",
       "value": true
      }
     },
     "d12e928214bd43c4acf5155dbb8c306d": {
      "model_module": "@jupyter-widgets/controls",
      "model_module_version": "2.0.0",
      "model_name": "DescriptionStyleModel",
      "state": {
       "description_width": ""
      }
     },
     "d1453c1a48454d9b8d9e210641211732": {
      "model_module": "@jupyter-widgets/base",
      "model_module_version": "2.0.0",
      "model_name": "LayoutModel",
      "state": {}
     },
     "d156405c0a1b463fb830906d1050c105": {
      "model_module": "@jupyter-widgets/controls",
      "model_module_version": "2.0.0",
      "model_name": "ToggleButtonModel",
      "state": {
       "button_style": "primary",
       "icon": "bar-chart",
       "layout": "IPY_MODEL_f664705790574e969ec224e83f03f7c4",
       "style": "IPY_MODEL_ac08f7f4e579493a8ccbf25cb7e8aec4",
       "tooltip": "Plotting"
      }
     },
     "d16de83c30484353b36da19239843532": {
      "model_module": "@jupyter-widgets/controls",
      "model_module_version": "2.0.0",
      "model_name": "ToggleButtonStyleModel",
      "state": {
       "description_width": "",
       "font_family": null,
       "font_size": null,
       "font_style": null,
       "font_variant": null,
       "font_weight": null,
       "text_color": null,
       "text_decoration": null
      }
     },
     "d17df59b6edc4e1cb470e5a6127fd4c9": {
      "model_module": "@jupyter-widgets/controls",
      "model_module_version": "2.0.0",
      "model_name": "ToggleButtonModel",
      "state": {
       "icon": "wrench",
       "layout": "IPY_MODEL_4c1c2fb736b0438d8890ad7e98b0578f",
       "style": "IPY_MODEL_748878f96a504e32a89b722ab347c56d",
       "tooltip": "Toolbar"
      }
     },
     "d1867e37d1e0455a874ed2d222c79398": {
      "model_module": "@jupyter-widgets/controls",
      "model_module_version": "2.0.0",
      "model_name": "ButtonModel",
      "state": {
       "description": "Change",
       "layout": "IPY_MODEL_94d9ed6094024c48a160e31654f07cd6",
       "style": "IPY_MODEL_3ea49be3a890455ba5e01cb0952abfdb",
       "tooltip": null
      }
     },
     "d1dfafee955347a7bab346f63d42b7fb": {
      "model_module": "@jupyter-widgets/base",
      "model_module_version": "2.0.0",
      "model_name": "LayoutModel",
      "state": {
       "width": "100px"
      }
     },
     "d214f507d75148d5a2abc8985c9331f8": {
      "model_module": "@jupyter-widgets/base",
      "model_module_version": "2.0.0",
      "model_name": "LayoutModel",
      "state": {
       "max_width": "410px",
       "width": "500px"
      }
     },
     "d219ac6056df4b9880063dbb6aacc559": {
      "model_module": "@jupyter-widgets/base",
      "model_module_version": "2.0.0",
      "model_name": "LayoutModel",
      "state": {}
     },
     "d225e38303ac42359b761d52b01b0b09": {
      "model_module": "jupyter-leaflet",
      "model_module_version": "^0.17",
      "model_name": "LeafletZoomControlModel",
      "state": {
       "_model_module_version": "^0.17",
       "_view_module_version": "^0.17",
       "options": [
        "position",
        "zoom_in_text",
        "zoom_in_title",
        "zoom_out_text",
        "zoom_out_title"
       ]
      }
     },
     "d23d8235cc2143aaae35a4d7a39afff8": {
      "model_module": "jupyter-leaflet",
      "model_module_version": "^0.17",
      "model_name": "LeafletMapStyleModel",
      "state": {
       "_model_module_version": "^0.17"
      }
     },
     "d2418270d8bb4cfd9da8adc175b441db": {
      "model_module": "@jupyter-widgets/controls",
      "model_module_version": "2.0.0",
      "model_name": "DescriptionStyleModel",
      "state": {
       "description_width": ""
      }
     },
     "d2497d119dcd496899753845ccc92c47": {
      "model_module": "@jupyter-widgets/base",
      "model_module_version": "2.0.0",
      "model_name": "LayoutModel",
      "state": {
       "height": "28px",
       "padding": "0px 0px 0px 4px",
       "width": "28px"
      }
     },
     "d28bf111aebd4640998920684fe0fb8d": {
      "model_module": "@jupyter-widgets/controls",
      "model_module_version": "2.0.0",
      "model_name": "FloatSliderModel",
      "state": {
       "behavior": "drag-tap",
       "layout": "IPY_MODEL_4296e5d1f87c4f90979193538ae8720e",
       "max": 1,
       "readout": false,
       "step": 0.01,
       "style": "IPY_MODEL_754d22b14bfe41188e60a948d4a6e99c",
       "value": 1
      }
     },
     "d2a1c7e269ae4482a41d4ec48f7a8539": {
      "model_module": "jupyter-leaflet",
      "model_module_version": "^0.17",
      "model_name": "LeafletMapStyleModel",
      "state": {
       "_model_module_version": "^0.17"
      }
     },
     "d2b4b1db2843404c9c1299982472112e": {
      "model_module": "@jupyter-widgets/controls",
      "model_module_version": "2.0.0",
      "model_name": "HBoxModel",
      "state": {
       "_view_count": 0,
       "children": [
        "IPY_MODEL_9e3c9650bb7546bd9eea327de368a52b"
       ],
       "layout": "IPY_MODEL_8c69de02fc164631a2ea7233c5d0b1cf"
      }
     },
     "d2b55f24fa334792a666d720288f1376": {
      "model_module": "@jupyter-widgets/controls",
      "model_module_version": "2.0.0",
      "model_name": "ToggleButtonModel",
      "state": {
       "icon": "globe",
       "layout": "IPY_MODEL_f2d8e18392f247168777de7aa271e0bf",
       "style": "IPY_MODEL_1e2acf8c59654c4c892a1e6b9e11a8fc",
       "tooltip": "Search location/data"
      }
     },
     "d2b80e40e9f146ef8ff12c035d563a61": {
      "model_module": "@jupyter-widgets/controls",
      "model_module_version": "2.0.0",
      "model_name": "ToggleButtonStyleModel",
      "state": {
       "description_width": "",
       "font_family": null,
       "font_size": null,
       "font_style": null,
       "font_variant": null,
       "font_weight": null,
       "text_color": null,
       "text_decoration": null
      }
     },
     "d2e0217430ec4ef6bae3260ec906dc88": {
      "model_module": "@jupyter-widgets/output",
      "model_module_version": "1.0.0",
      "model_name": "OutputModel",
      "state": {
       "layout": "IPY_MODEL_ce753a619107414d84c15016d32f8252"
      }
     },
     "d2e881d785bb44b39af71b08e49cf4a1": {
      "model_module": "@jupyter-widgets/base",
      "model_module_version": "2.0.0",
      "model_name": "LayoutModel",
      "state": {
       "max_height": "350px",
       "max_width": "340px",
       "overflow": "scroll"
      }
     },
     "d31724a837944d35baaa077b7674bfbe": {
      "model_module": "@jupyter-widgets/base",
      "model_module_version": "2.0.0",
      "model_name": "LayoutModel",
      "state": {}
     },
     "d3221207f46a4d4cafea3c7d8ca2fbc8": {
      "model_module": "jupyter-leaflet",
      "model_module_version": "^0.17",
      "model_name": "LeafletMapModel",
      "state": {
       "_model_module_version": "^0.17",
       "_view_module_version": "^0.17",
       "center": [
        28.647210004919998,
        77.11303710937501
       ],
       "controls": [
        "IPY_MODEL_724e55028a3741f6a5da682444e8dec1",
        "IPY_MODEL_cd2fec77da7e4ac4b2d487b5778ccaf2",
        "IPY_MODEL_d84e54ac80594542b6148f8dc07c653d",
        "IPY_MODEL_0d1b1ad78a434bd8be2efc0bd8e9188f",
        "IPY_MODEL_3202546b86cb45f388d7e29301d12dde",
        "IPY_MODEL_ffe0a8bbc31d4d3c947555584754269b",
        "IPY_MODEL_32f0bfff701e49a193196d1f839ea5a6",
        "IPY_MODEL_5e62ca2ca4964fd9953bba3c15901e69"
       ],
       "default_style": "IPY_MODEL_52a624fad5a34e50bf0cae99feac6c3d",
       "dragging_style": "IPY_MODEL_296249dc9b8743deb798a97a67397802",
       "east": null,
       "fullscreen": false,
       "interpolation": "bilinear",
       "layers": [
        "IPY_MODEL_03432429bf7d4e80857f31132f627167",
        "IPY_MODEL_0cd622c66a0746ef8e4855fed97a9965",
        "IPY_MODEL_b1030746bbe14091bee6ee6b043ce31c",
        "IPY_MODEL_a2927b97feb549e0b391f9db5adf61e6",
        "IPY_MODEL_280e642d8c3a4ffebca8163d46857780"
       ],
       "layout": "IPY_MODEL_55facd8bc78840d1b197d1d4001cfea3",
       "max_zoom": 24,
       "modisdate": "2023-10-03",
       "north": -90,
       "options": [
        "bounce_at_zoom_limits",
        "box_zoom",
        "center",
        "close_popup_on_click",
        "double_click_zoom",
        "dragging",
        "fullscreen",
        "inertia",
        "inertia_deceleration",
        "inertia_max_speed",
        "interpolation",
        "keyboard",
        "keyboard_pan_offset",
        "keyboard_zoom_offset",
        "max_zoom",
        "min_zoom",
        "prefer_canvas",
        "scroll_wheel_zoom",
        "tap",
        "tap_tolerance",
        "touch_zoom",
        "world_copy_jump",
        "zoom",
        "zoom_animation_threshold",
        "zoom_delta",
        "zoom_snap"
       ],
       "prefer_canvas": false,
       "scroll_wheel_zoom": true,
       "south": 90,
       "style": "IPY_MODEL_52a624fad5a34e50bf0cae99feac6c3d",
       "west": null,
       "window_url": "http://localhost:8888/lab/tree/02India_Analysis/2023October_PaperAnalysis.ipynb",
       "zoom": 8
      }
     },
     "d32eacee374d4b7d9109a18bca9f70d7": {
      "model_module": "@jupyter-widgets/controls",
      "model_module_version": "2.0.0",
      "model_name": "ToggleButtonStyleModel",
      "state": {
       "description_width": "",
       "font_family": null,
       "font_size": null,
       "font_style": null,
       "font_variant": null,
       "font_weight": null,
       "text_color": null,
       "text_decoration": null
      }
     },
     "d33fb91844d84d0a912f485eab07aa65": {
      "model_module": "@jupyter-widgets/base",
      "model_module_version": "2.0.0",
      "model_name": "LayoutModel",
      "state": {
       "height": "auto",
       "padding": "0px 0px 0px 4px",
       "width": "auto"
      }
     },
     "d350b6a2eaec40b5860b00f5bb3046f4": {
      "model_module": "@jupyter-widgets/controls",
      "model_module_version": "2.0.0",
      "model_name": "ToggleButtonModel",
      "state": {
       "button_style": "primary",
       "icon": "retweet",
       "layout": "IPY_MODEL_7f3eec8d697c4d8ab3616bebcad3709b",
       "style": "IPY_MODEL_e8c1a0507e5f4c87b5eb1bf8ce95cbfe",
       "tooltip": "Convert Earth Engine JavaScript to Python"
      }
     },
     "d35e9beac3d04f9c84172105e6fbd375": {
      "model_module": "@jupyter-widgets/base",
      "model_module_version": "2.0.0",
      "model_name": "LayoutModel",
      "state": {
       "height": "auto",
       "padding": "0px 0px 0px 4px",
       "width": "auto"
      }
     },
     "d363072b14fa431b9a00fb97217597a7": {
      "model_module": "jupyter-leaflet",
      "model_module_version": "^0.17",
      "model_name": "LeafletTileLayerModel",
      "state": {
       "_model_module_version": "^0.17",
       "_view_module_version": "^0.17",
       "attribution": "Google Earth Engine",
       "max_zoom": 24,
       "name": "New Delhi",
       "options": [
        "attribution",
        "bounds",
        "detect_retina",
        "max_native_zoom",
        "max_zoom",
        "min_native_zoom",
        "min_zoom",
        "no_wrap",
        "tile_size",
        "tms",
        "zoom_offset"
       ],
       "url": "https://earthengine.googleapis.com/v1/projects/earthengine-legacy/maps/00998ae602db08d60e1c5dc4acfc0fdb-afc3e0c1a70a1530114e9794b633f747/tiles/{z}/{x}/{y}"
      }
     },
     "d3921ce1b79940c3aed4e1cb5ea2513a": {
      "model_module": "@jupyter-widgets/controls",
      "model_module_version": "2.0.0",
      "model_name": "ToggleButtonModel",
      "state": {
       "icon": "gear",
       "layout": "IPY_MODEL_3e719a0217d842ef83f3365c5a8f8a0b",
       "style": "IPY_MODEL_2e50bdc5973e4a1f82b3ace15b95c2df",
       "tooltip": "Second Level Administrative Units"
      }
     },
     "d3a9c7ca355548f59e2438c04861df75": {
      "model_module": "@jupyter-widgets/controls",
      "model_module_version": "2.0.0",
      "model_name": "RadioButtonsModel",
      "state": {
       "index": null,
       "layout": "IPY_MODEL_e2c49d18d6834bbc80ab75f718c25f2f",
       "style": "IPY_MODEL_5ef7fcb802cb47a4abac666b4731c130"
      }
     },
     "d3b800a177794526a1d7d972e7be342c": {
      "model_module": "@jupyter-widgets/controls",
      "model_module_version": "2.0.0",
      "model_name": "ButtonModel",
      "state": {
       "description": "Help",
       "layout": "IPY_MODEL_69ff3f3cab194cbea8700d18ba24e600",
       "style": "IPY_MODEL_de7d0f94b96147e4a95ab1cc0ebcb847",
       "tooltip": null
      }
     },
     "d3c3dbe2a683483e8fcb77e7d67f9fa5": {
      "model_module": "@jupyter-widgets/controls",
      "model_module_version": "2.0.0",
      "model_name": "HTMLStyleModel",
      "state": {
       "description_width": "",
       "font_size": null,
       "text_color": null
      }
     },
     "d3dcd89ed624499aae8d286ffb0373c4": {
      "model_module": "@jupyter-widgets/controls",
      "model_module_version": "2.0.0",
      "model_name": "ToggleButtonStyleModel",
      "state": {
       "description_width": "",
       "font_family": null,
       "font_size": null,
       "font_style": null,
       "font_variant": null,
       "font_weight": null,
       "text_color": null,
       "text_decoration": null
      }
     },
     "d40b148d98c74673bb53b2a8bedab054": {
      "model_module": "@jupyter-widgets/controls",
      "model_module_version": "2.0.0",
      "model_name": "ToggleButtonModel",
      "state": {
       "button_style": "primary",
       "icon": "info-circle",
       "layout": "IPY_MODEL_a8bb6442189e4606b0dfd5f1a208fd12",
       "style": "IPY_MODEL_ef56b9c25f8a4310a8a7219cc87c6d2a",
       "tooltip": "Get COG/STAC pixel value"
      }
     },
     "d41c422e08534568bcad2606146bbbde": {
      "model_module": "@jupyter-widgets/controls",
      "model_module_version": "2.0.0",
      "model_name": "ToggleButtonStyleModel",
      "state": {
       "description_width": "",
       "font_family": null,
       "font_size": null,
       "font_style": null,
       "font_variant": null,
       "font_weight": null,
       "text_color": null,
       "text_decoration": null
      }
     },
     "d429a013d78c46e7a7c1b6f0cc46bb2d": {
      "model_module": "@jupyter-widgets/base",
      "model_module_version": "2.0.0",
      "model_name": "LayoutModel",
      "state": {
       "height": "auto",
       "padding": "0px 0px 0px 4px",
       "width": "auto"
      }
     },
     "d442f70cb1584c7e80e3cd107204cfd6": {
      "model_module": "@jupyter-widgets/base",
      "model_module_version": "2.0.0",
      "model_name": "LayoutModel",
      "state": {
       "height": "auto",
       "padding": "0px 0px 0px 4px",
       "width": "auto"
      }
     },
     "d45c1a6c2e814ce2bf4942bf29854776": {
      "model_module": "@jupyter-widgets/base",
      "model_module_version": "2.0.0",
      "model_name": "LayoutModel",
      "state": {
       "height": "25px",
       "padding": "0px 0px 0px 5px",
       "width": "25px"
      }
     },
     "d49bce4c538b47e59599554b39c20eee": {
      "model_module": "@jupyter-widgets/controls",
      "model_module_version": "2.0.0",
      "model_name": "DropdownModel",
      "state": {
       "index": null,
       "layout": "IPY_MODEL_736bd0d80fb54dfe96f4b10b814588b0",
       "style": "IPY_MODEL_789b748fd59f41569920218b2cd1e541"
      }
     },
     "d4a48bf7d3ed43929c8c419f14be0083": {
      "model_module": "@jupyter-widgets/output",
      "model_module_version": "1.0.0",
      "model_name": "OutputModel",
      "state": {
       "layout": "IPY_MODEL_1fdec708f31d44d9a9ae2bc1bea23f81"
      }
     },
     "d4aaf3d8b10f4e06b1f99a228327a5db": {
      "model_module": "@jupyter-widgets/controls",
      "model_module_version": "2.0.0",
      "model_name": "VBoxModel",
      "state": {
       "_view_count": 1,
       "children": [
        "IPY_MODEL_75ac95ba57d24af2b7e586013bb50272",
        "IPY_MODEL_5113f9b661ac4b7a85cede395e43cf12"
       ],
       "layout": "IPY_MODEL_50e87e72a6f84045be03a7aefe3bf91f"
      }
     },
     "d4be3fd72c6b4e49ae50c33eba5f14c9": {
      "model_module": "@jupyter-widgets/controls",
      "model_module_version": "2.0.0",
      "model_name": "ToggleButtonModel",
      "state": {
       "icon": "server",
       "layout": "IPY_MODEL_2cf61ed528f040f3acf4e2756f6564fc",
       "style": "IPY_MODEL_6c37a000d5ca400186481c27ea87b89e",
       "tooltip": "Layers"
      }
     },
     "d4d819b9d70447838afc4725a9f9f257": {
      "model_module": "jupyter-leaflet",
      "model_module_version": "^0.17",
      "model_name": "LeafletScaleControlModel",
      "state": {
       "_model_module_version": "^0.17",
       "_view_module_version": "^0.17",
       "imperial": true,
       "max_width": 100,
       "metric": true,
       "options": [
        "imperial",
        "max_width",
        "metric",
        "position",
        "update_when_idle"
       ],
       "position": "bottomleft",
       "update_when_idle": false
      }
     },
     "d4ee512da1764c4b93a0908ae0849aa7": {
      "model_module": "jupyter-leaflet",
      "model_module_version": "^0.17",
      "model_name": "LeafletMeasureControlModel",
      "state": {
       "_model_module_version": "^0.17",
       "_view_module_version": "^0.17",
       "active_color": "orange",
       "options": [
        "active_color",
        "capture_z_index",
        "completed_color",
        "popup_options",
        "position",
        "primary_area_unit",
        "primary_length_unit",
        "secondary_area_unit",
        "secondary_length_unit"
       ],
       "position": "bottomleft",
       "primary_length_unit": "kilometers",
       "secondary_area_unit": null,
       "secondary_length_unit": null
      }
     },
     "d5291ea1236549ad8c7a5f9f19ec2b00": {
      "model_module": "jupyter-leaflet",
      "model_module_version": "^0.17",
      "model_name": "LeafletScaleControlModel",
      "state": {
       "_model_module_version": "^0.17",
       "_view_module_version": "^0.17",
       "imperial": true,
       "max_width": 100,
       "metric": true,
       "options": [
        "imperial",
        "max_width",
        "metric",
        "position",
        "update_when_idle"
       ],
       "position": "bottomleft",
       "update_when_idle": false
      }
     },
     "d56e2d91c07940918659d5e6ca0c5a21": {
      "model_module": "@jupyter-widgets/base",
      "model_module_version": "2.0.0",
      "model_name": "LayoutModel",
      "state": {
       "height": "auto",
       "padding": "0px 0px 0px 4px",
       "width": "auto"
      }
     },
     "d58510bdfceb4bf183c00393044e2380": {
      "model_module": "@jupyter-widgets/controls",
      "model_module_version": "2.0.0",
      "model_name": "ToggleButtonStyleModel",
      "state": {
       "description_width": "",
       "font_family": null,
       "font_size": null,
       "font_style": null,
       "font_variant": null,
       "font_weight": null,
       "text_color": null,
       "text_decoration": null
      }
     },
     "d5a54999521f4a8a8ad15a81b8c12ab4": {
      "model_module": "jupyter-leaflet",
      "model_module_version": "^0.17",
      "model_name": "LeafletMeasureControlModel",
      "state": {
       "_model_module_version": "^0.17",
       "_view_module_version": "^0.17",
       "active_color": "orange",
       "options": [
        "active_color",
        "capture_z_index",
        "completed_color",
        "popup_options",
        "position",
        "primary_area_unit",
        "primary_length_unit",
        "secondary_area_unit",
        "secondary_length_unit"
       ],
       "position": "bottomleft",
       "primary_length_unit": "kilometers",
       "secondary_area_unit": null,
       "secondary_length_unit": null
      }
     },
     "d5b0ca0fe0184cab85c0710ab675f1d4": {
      "model_module": "@jupyter-widgets/base",
      "model_module_version": "2.0.0",
      "model_name": "LayoutModel",
      "state": {
       "height": "auto",
       "padding": "0px 0px 0px 4px",
       "width": "auto"
      }
     },
     "d5bdb48b37d54ff691d8af0c896388c5": {
      "model_module": "@jupyter-widgets/controls",
      "model_module_version": "2.0.0",
      "model_name": "ToggleButtonModel",
      "state": {
       "button_style": "primary",
       "icon": "gears",
       "layout": "IPY_MODEL_2f2e8bd8983b4dbe9392d4f4e0b8727d",
       "style": "IPY_MODEL_5a844005178242df82be3542c98cbfc5",
       "tooltip": "WhiteboxTools for local geoprocessing"
      }
     },
     "d5ef4a54ca054115812954e9981c6539": {
      "model_module": "@jupyter-widgets/controls",
      "model_module_version": "2.0.0",
      "model_name": "HBoxModel",
      "state": {
       "children": [
        "IPY_MODEL_59b4e85417614d3083310c9402076582",
        "IPY_MODEL_0c044d1a9cdd44049186d5a39ac15b14"
       ],
       "layout": "IPY_MODEL_ac480d3373254032bea37a5f4274aa03"
      }
     },
     "d639932fd5304fcc91695ea6c0dbc295": {
      "model_module": "ipyevents",
      "model_module_version": "2.0.1",
      "model_name": "EventModel",
      "state": {
       "_supported_key_events": [
        "keydown",
        "keyup"
       ],
       "_supported_mouse_events": [
        "click",
        "auxclick",
        "dblclick",
        "mouseenter",
        "mouseleave",
        "mousedown",
        "mouseup",
        "mousemove",
        "wheel",
        "contextmenu",
        "dragstart",
        "drag",
        "dragend",
        "dragenter",
        "dragover",
        "dragleave",
        "drop"
       ],
       "_supported_touch_events": [
        "touchstart",
        "touchend",
        "touchmove",
        "touchcancel"
       ],
       "_view_module": "@jupyter-widgets/controls",
       "source": "IPY_MODEL_9e4dd190cb2e44c3b0cb1214e8af6f3e",
       "throttle_or_debounce": "",
       "watched_events": [
        "mouseenter",
        "mouseleave"
       ],
       "xy_coordinate_system": ""
      }
     },
     "d665bbb788e847ce8f75da76af8b4e8c": {
      "model_module": "@jupyter-widgets/base",
      "model_module_version": "2.0.0",
      "model_name": "LayoutModel",
      "state": {
       "width": "auto"
      }
     },
     "d697fb471b1f4f42b180c0a52a0250db": {
      "model_module": "@jupyter-widgets/controls",
      "model_module_version": "2.0.0",
      "model_name": "ToggleButtonStyleModel",
      "state": {
       "description_width": "",
       "font_family": null,
       "font_size": null,
       "font_style": null,
       "font_variant": null,
       "font_weight": null,
       "text_color": null,
       "text_decoration": null
      }
     },
     "d6afff66f64b47eabe0a7892a051c7ec": {
      "model_module": "@jupyter-widgets/controls",
      "model_module_version": "2.0.0",
      "model_name": "ToggleButtonStyleModel",
      "state": {
       "description_width": "",
       "font_family": null,
       "font_size": null,
       "font_style": null,
       "font_variant": null,
       "font_weight": null,
       "text_color": null,
       "text_decoration": null
      }
     },
     "d6b293ba20c24a918cb1ddaba66644eb": {
      "model_module": "@jupyter-widgets/controls",
      "model_module_version": "2.0.0",
      "model_name": "HTMLModel",
      "state": {
       "layout": "IPY_MODEL_07c8b83d10ea4f69b1c62356ee5546ea",
       "style": "IPY_MODEL_336912b3b9bd49d0ab3bf9b81657071f",
       "value": "Input Vector Polygon File*"
      }
     },
     "d70e1994be544af69e5f878e034f90a7": {
      "model_module": "@jupyter-widgets/controls",
      "model_module_version": "2.0.0",
      "model_name": "DirectionalLinkModel",
      "state": {
       "source": [
        "IPY_MODEL_d28bf111aebd4640998920684fe0fb8d",
        "value"
       ],
       "target": [
        "IPY_MODEL_0a668e5718f249a59adbc74df9b25682",
        "opacity"
       ]
      }
     },
     "d755ac93832e43e8b762e38f31433646": {
      "model_module": "@jupyter-widgets/controls",
      "model_module_version": "2.0.0",
      "model_name": "ToggleButtonStyleModel",
      "state": {
       "description_width": "",
       "font_family": null,
       "font_size": null,
       "font_style": null,
       "font_variant": null,
       "font_weight": null,
       "text_color": null,
       "text_decoration": null
      }
     },
     "d7610fdfb17f431387927ce2f2a0f6ff": {
      "model_module": "@jupyter-widgets/base",
      "model_module_version": "2.0.0",
      "model_name": "LayoutModel",
      "state": {
       "grid_gap": "1px 1px",
       "grid_template_columns": "32px 32px 32px ",
       "grid_template_rows": "32px 32px ",
       "padding": "5px",
       "width": "109px"
      }
     },
     "d7cbd6117c544ed9b9bb2b3ca48ce1b2": {
      "model_module": "@jupyter-widgets/controls",
      "model_module_version": "2.0.0",
      "model_name": "ToggleButtonModel",
      "state": {
       "icon": "globe",
       "layout": "IPY_MODEL_8e8c6879e8a2459eb86eea1a29ce561d",
       "style": "IPY_MODEL_f929f099e50a45ce9a2752cbd5b123d3",
       "tooltip": "Search location/data"
      }
     },
     "d7e112e6ad31471d922e050ede794692": {
      "model_module": "@jupyter-widgets/base",
      "model_module_version": "2.0.0",
      "model_name": "LayoutModel",
      "state": {
       "height": "auto",
       "padding": "0px 0px 0px 4px",
       "width": "auto"
      }
     },
     "d7eb9988a78e415a931122884004a38b": {
      "model_module": "@jupyter-widgets/base",
      "model_module_version": "2.0.0",
      "model_name": "LayoutModel",
      "state": {
       "height": "28px",
       "padding": "0px 0px 0px 4px",
       "width": "28px"
      }
     },
     "d7fe518888c641e5970a1fbeac0ef260": {
      "model_module": "@jupyter-widgets/controls",
      "model_module_version": "2.0.0",
      "model_name": "TextStyleModel",
      "state": {
       "description_width": "",
       "font_size": null,
       "text_color": null
      }
     },
     "d81d32acbf114708989df32459ff7b1b": {
      "model_module": "@jupyter-widgets/controls",
      "model_module_version": "2.0.0",
      "model_name": "ButtonStyleModel",
      "state": {
       "font_family": null,
       "font_size": null,
       "font_style": null,
       "font_variant": null,
       "font_weight": null,
       "text_color": null,
       "text_decoration": null
      }
     },
     "d82c0400ec7c4d4c81ae20b6344ff9f4": {
      "model_module": "@jupyter-widgets/base",
      "model_module_version": "2.0.0",
      "model_name": "LayoutModel",
      "state": {
       "height": "auto",
       "padding": "0px 0px 0px 4px",
       "width": "auto"
      }
     },
     "d84e54ac80594542b6148f8dc07c653d": {
      "model_module": "jupyter-leaflet",
      "model_module_version": "^0.17",
      "model_name": "LeafletFullScreenControlModel",
      "state": {
       "_model_module_version": "^0.17",
       "_view_module_version": "^0.17",
       "options": [
        "position"
       ]
      }
     },
     "d86de92ba09a4e86a21af44718c5cbc2": {
      "model_module": "@jupyter-widgets/controls",
      "model_module_version": "2.0.0",
      "model_name": "ToggleButtonStyleModel",
      "state": {
       "description_width": "",
       "font_family": null,
       "font_size": null,
       "font_style": null,
       "font_variant": null,
       "font_weight": null,
       "text_color": null,
       "text_decoration": null
      }
     },
     "d89405356f6a47048c380d3c1f642ff8": {
      "model_module": "@jupyter-widgets/controls",
      "model_module_version": "2.0.0",
      "model_name": "HBoxModel",
      "state": {
       "children": [
        "IPY_MODEL_3ca9d00737144c769d2148194005e18e",
        "IPY_MODEL_a1cd16904a6843b3a7332b8eee14bcda"
       ],
       "layout": "IPY_MODEL_191b0ee05967446d8b804c7bdbb6732c"
      }
     },
     "d89e115ceb734db3a2d2638d35b3334e": {
      "model_module": "@jupyter-widgets/controls",
      "model_module_version": "2.0.0",
      "model_name": "ToggleButtonModel",
      "state": {
       "icon": "server",
       "layout": "IPY_MODEL_9e4777a47a0f4568b1fefbd38e245e6e",
       "style": "IPY_MODEL_45bacdfe28b3417f84650acaead483dc",
       "tooltip": "Layers"
      }
     },
     "d89ea3f24d874efcb6142474d67d7c16": {
      "model_module": "@jupyter-widgets/controls",
      "model_module_version": "2.0.0",
      "model_name": "ToggleButtonStyleModel",
      "state": {
       "description_width": "",
       "font_family": null,
       "font_size": null,
       "font_style": null,
       "font_variant": null,
       "font_weight": null,
       "text_color": null,
       "text_decoration": null
      }
     },
     "d8fad85ae5a34a25badf53151cfbcc21": {
      "model_module": "@jupyter-widgets/base",
      "model_module_version": "2.0.0",
      "model_name": "LayoutModel",
      "state": {
       "width": "500px"
      }
     },
     "d916b9c659b9403ca2f9e3727808f408": {
      "model_module": "@jupyter-widgets/controls",
      "model_module_version": "2.0.0",
      "model_name": "VBoxModel",
      "state": {
       "children": [
        "IPY_MODEL_36ca5a4ec9694d8ea647ef67ca08ebb2",
        "IPY_MODEL_a75114cd762b49eaa4f9ca90231481e6"
       ],
       "layout": "IPY_MODEL_ee3e372409da449991d67f57ea725a71"
      }
     },
     "d91c4cb1f52741d499b6c50b39b51531": {
      "model_module": "@jupyter-widgets/base",
      "model_module_version": "2.0.0",
      "model_name": "LayoutModel",
      "state": {
       "height": "600px"
      }
     },
     "d92d89a4b39b40eabac8f681ff08d3d7": {
      "model_module": "@jupyter-widgets/controls",
      "model_module_version": "2.0.0",
      "model_name": "ToggleButtonsModel",
      "state": {
       "_options_labels": [
        "name/address",
        "lat-lon",
        "data"
       ],
       "button_style": "",
       "icons": [],
       "index": 0,
       "layout": "IPY_MODEL_82958dba14f849d1a2ba306d5cd9cac5",
       "style": "IPY_MODEL_18eb71e7b46f4e038b315072fed0dd1a",
       "tooltips": [
        "Search by place name or address",
        "Search by lat-lon coordinates",
        "Search Earth Engine data catalog"
       ]
      }
     },
     "d975419651224519b6adc50a56c7de88": {
      "model_module": "@jupyter-widgets/base",
      "model_module_version": "2.0.0",
      "model_name": "LayoutModel",
      "state": {
       "height": "auto",
       "padding": "0px 0px 0px 4px",
       "width": "auto"
      }
     },
     "d98bf9bece8b4b1c9a41e82815cb4d73": {
      "model_module": "@jupyter-widgets/controls",
      "model_module_version": "2.0.0",
      "model_name": "TextStyleModel",
      "state": {
       "description_width": "",
       "font_size": null,
       "text_color": null
      }
     },
     "d9943ac081ba48d69bf42c952f768c34": {
      "model_module": "@jupyter-widgets/controls",
      "model_module_version": "2.0.0",
      "model_name": "ToggleButtonStyleModel",
      "state": {
       "description_width": "",
       "font_family": null,
       "font_size": null,
       "font_style": null,
       "font_variant": null,
       "font_weight": null,
       "text_color": null,
       "text_decoration": null
      }
     },
     "d9ce774e0bf44457a3a057b844aa5769": {
      "model_module": "@jupyter-widgets/controls",
      "model_module_version": "2.0.0",
      "model_name": "HBoxModel",
      "state": {
       "_view_count": 1,
       "children": [
        "IPY_MODEL_085ba3e51dcc4fa69310fec0c55adab0"
       ],
       "layout": "IPY_MODEL_a22d37646e1244a89ef87af8fe7138bb"
      }
     },
     "d9f32c00b1c54088bf2a847d626f40f4": {
      "model_module": "@jupyter-widgets/controls",
      "model_module_version": "2.0.0",
      "model_name": "ToggleButtonStyleModel",
      "state": {
       "description_width": "",
       "font_family": null,
       "font_size": null,
       "font_style": null,
       "font_variant": null,
       "font_weight": null,
       "text_color": null,
       "text_decoration": null
      }
     },
     "d9f6f2775d684ae7b874301938c02a29": {
      "model_module": "@jupyter-widgets/controls",
      "model_module_version": "2.0.0",
      "model_name": "CheckboxStyleModel",
      "state": {
       "description_width": ""
      }
     },
     "d9fa9bc8b0c947d6a9e67bc76e3cd738": {
      "model_module": "@jupyter-widgets/base",
      "model_module_version": "2.0.0",
      "model_name": "LayoutModel",
      "state": {
       "max_width": "279px",
       "min_width": "279px"
      }
     },
     "da02c2070f754490b3f6e62895e03675": {
      "model_module": "@jupyter-widgets/controls",
      "model_module_version": "2.0.0",
      "model_name": "ToggleButtonStyleModel",
      "state": {
       "description_width": "",
       "font_family": null,
       "font_size": null,
       "font_style": null,
       "font_variant": null,
       "font_weight": null,
       "text_color": null,
       "text_decoration": null
      }
     },
     "da42b1900f2c41fa95432c02fdd97c40": {
      "model_module": "jupyter-leaflet",
      "model_module_version": "^0.17",
      "model_name": "LeafletAttributionControlModel",
      "state": {
       "_model_module_version": "^0.17",
       "_view_module_version": "^0.17",
       "options": [
        "position",
        "prefix"
       ],
       "position": "bottomright",
       "prefix": "ipyleaflet"
      }
     },
     "da461103ade34c94a3c176de35cd2f81": {
      "model_module": "@jupyter-widgets/controls",
      "model_module_version": "2.0.0",
      "model_name": "HBoxModel",
      "state": {
       "_view_count": 0,
       "children": [
        "IPY_MODEL_95fba4aab82e4757a26fed3903a4bbe5"
       ],
       "layout": "IPY_MODEL_75cb76e5fc734011aa17d24e4f912023"
      }
     },
     "da70029f2b8640fba6cea76464fac315": {
      "model_module": "@jupyter-widgets/base",
      "model_module_version": "2.0.0",
      "model_name": "LayoutModel",
      "state": {}
     },
     "da7fb9d123fc4bc094139f78cc1ca744": {
      "model_module": "jupyter-leaflet",
      "model_module_version": "^0.17",
      "model_name": "LeafletTileLayerModel",
      "state": {
       "_model_module_version": "^0.17",
       "_view_module_version": "^0.17",
       "attribution": "&copy; <a href=\"https://www.openstreetmap.org/copyright\">OpenStreetMap</a> contributors",
       "base": true,
       "max_zoom": 19,
       "min_zoom": 1,
       "name": "OpenStreetMap.Mapnik",
       "options": [
        "attribution",
        "bounds",
        "detect_retina",
        "max_native_zoom",
        "max_zoom",
        "min_native_zoom",
        "min_zoom",
        "no_wrap",
        "tile_size",
        "tms",
        "zoom_offset"
       ],
       "url": "https://tile.openstreetmap.org/{z}/{x}/{y}.png"
      }
     },
     "dabc6643e22d42049b4700161bfc8129": {
      "model_module": "@jupyter-widgets/controls",
      "model_module_version": "2.0.0",
      "model_name": "ToggleButtonStyleModel",
      "state": {
       "description_width": "",
       "font_family": null,
       "font_size": null,
       "font_style": null,
       "font_variant": null,
       "font_weight": null,
       "text_color": null,
       "text_decoration": null
      }
     },
     "db885b06a5304fd3a2a8eeac5c07b9c6": {
      "model_module": "jupyter-leaflet",
      "model_module_version": "^0.17",
      "model_name": "LeafletTileLayerModel",
      "state": {
       "_model_module_version": "^0.17",
       "_view_module_version": "^0.17",
       "attribution": "Google",
       "max_zoom": 24,
       "name": "Google Maps",
       "options": [
        "attribution",
        "bounds",
        "detect_retina",
        "max_native_zoom",
        "max_zoom",
        "min_native_zoom",
        "min_zoom",
        "no_wrap",
        "tile_size",
        "tms",
        "zoom_offset"
       ],
       "url": "https://mt1.google.com/vt/lyrs=m&x={x}&y={y}&z={z}"
      }
     },
     "db8a5093194f4daa82073739310d4b9d": {
      "model_module": "jupyter-leaflet",
      "model_module_version": "^0.17",
      "model_name": "LeafletMapStyleModel",
      "state": {
       "_model_module_version": "^0.17"
      }
     },
     "db8c198851d442f49d55774701ed8dd5": {
      "model_module": "@jupyter-widgets/base",
      "model_module_version": "2.0.0",
      "model_name": "LayoutModel",
      "state": {
       "height": "auto",
       "padding": "0px 0px 0px 4px",
       "width": "auto"
      }
     },
     "dbdd97b87e3e4f97a560f82d54e7367d": {
      "model_module": "@jupyter-widgets/controls",
      "model_module_version": "2.0.0",
      "model_name": "ToggleButtonModel",
      "state": {
       "button_style": "primary",
       "icon": "info",
       "layout": "IPY_MODEL_9c2ee4382b1f45b585cc819abf5ac0ba",
       "style": "IPY_MODEL_4ae1afb606f44cfc8759f223d360b3dc",
       "tooltip": "Inspector"
      }
     },
     "dbde9485aa4147349ddaa1dd8478d8f3": {
      "model_module": "@jupyter-widgets/controls",
      "model_module_version": "2.0.0",
      "model_name": "ToggleButtonModel",
      "state": {
       "icon": "server",
       "layout": "IPY_MODEL_a0c63ccb161440d78ecd13f2e57a26ee",
       "style": "IPY_MODEL_16763fde157c46948651162636781ca4",
       "tooltip": "Layers"
      }
     },
     "dc0cadc77fa64420823d71dcc2f562c0": {
      "model_module": "@jupyter-widgets/controls",
      "model_module_version": "2.0.0",
      "model_name": "ToggleButtonModel",
      "state": {
       "button_style": "primary",
       "icon": "eraser",
       "layout": "IPY_MODEL_8bb5319650af415d8817ebf73f28bdae",
       "style": "IPY_MODEL_0704e16fd0f14e5f87c91dabbcf50bed",
       "tooltip": "Remove all drawn features"
      }
     },
     "dc37eb4f56b04bce871fb57f4fd4b78e": {
      "model_module": "@jupyter-widgets/base",
      "model_module_version": "2.0.0",
      "model_name": "LayoutModel",
      "state": {
       "height": "auto",
       "padding": "0px 0px 0px 4px",
       "width": "auto"
      }
     },
     "dc3d3c45c9ab4a418fe9d7b645d570cd": {
      "model_module": "@jupyter-widgets/base",
      "model_module_version": "2.0.0",
      "model_name": "LayoutModel",
      "state": {
       "height": "auto",
       "padding": "0px 0px 0px 4px",
       "width": "auto"
      }
     },
     "dc52965c9210405893f8f80fe1f2a4c7": {
      "model_module": "@jupyter-widgets/base",
      "model_module_version": "2.0.0",
      "model_name": "LayoutModel",
      "state": {
       "width": "170px"
      }
     },
     "dc571afb0fc14341ab10b58d9a866a75": {
      "model_module": "@jupyter-widgets/controls",
      "model_module_version": "2.0.0",
      "model_name": "ToggleButtonsModel",
      "state": {
       "_options_labels": [
        "name/address",
        "lat-lon",
        "data"
       ],
       "button_style": "",
       "icons": [],
       "index": 0,
       "layout": "IPY_MODEL_c3ec194f9ec64975974f3531f2d96e71",
       "style": "IPY_MODEL_b50ad16d5b0240bd8d01c799d1759e9f",
       "tooltips": [
        "Search by place name or address",
        "Search by lat-lon coordinates",
        "Search Earth Engine data catalog"
       ]
      }
     },
     "dc5c4e80b2b74818a212e122c99636eb": {
      "model_module": "@jupyter-widgets/controls",
      "model_module_version": "2.0.0",
      "model_name": "HTMLModel",
      "state": {
       "layout": "IPY_MODEL_02fdd7433a8f4b5c89af5bc35014df88",
       "style": "IPY_MODEL_c201893c93274a1a93d9065f6513c1d7"
      }
     },
     "dc90327271644d4b91dfd101e35475e3": {
      "model_module": "@jupyter-widgets/base",
      "model_module_version": "2.0.0",
      "model_name": "LayoutModel",
      "state": {}
     },
     "dc98c6a49abe44f098175d67ee0168d0": {
      "model_module": "@jupyter-widgets/controls",
      "model_module_version": "2.0.0",
      "model_name": "DescriptionStyleModel",
      "state": {
       "description_width": ""
      }
     },
     "dca65502951c4f1cbe8cba47f97d96cd": {
      "model_module": "@jupyter-widgets/controls",
      "model_module_version": "2.0.0",
      "model_name": "ToggleButtonStyleModel",
      "state": {
       "description_width": "",
       "font_family": null,
       "font_size": null,
       "font_style": null,
       "font_variant": null,
       "font_weight": null,
       "text_color": null,
       "text_decoration": null
      }
     },
     "dcc4e3fcd1b9448493b350c8e4f7a3b9": {
      "model_module": "@jupyter-widgets/controls",
      "model_module_version": "2.0.0",
      "model_name": "ToggleButtonStyleModel",
      "state": {
       "description_width": "",
       "font_family": null,
       "font_size": null,
       "font_style": null,
       "font_variant": null,
       "font_weight": null,
       "text_color": null,
       "text_decoration": null
      }
     },
     "dcecaf329d0d405ba17c7c676a827bd7": {
      "model_module": "@jupyter-widgets/base",
      "model_module_version": "2.0.0",
      "model_name": "LayoutModel",
      "state": {}
     },
     "dcf94ba67ac74a739d21866bd4ddd8f7": {
      "model_module": "@jupyter-widgets/base",
      "model_module_version": "2.0.0",
      "model_name": "LayoutModel",
      "state": {
       "height": "auto",
       "padding": "0px 0px 0px 4px",
       "width": "auto"
      }
     },
     "dd74f577c8464e118bd56ad3567d4b7f": {
      "model_module": "@jupyter-widgets/controls",
      "model_module_version": "2.0.0",
      "model_name": "ToggleButtonModel",
      "state": {
       "button_style": "primary",
       "icon": "info-circle",
       "layout": "IPY_MODEL_b7721b88466743e3ab94b31d0b6c438c",
       "style": "IPY_MODEL_6e7192c32b6149c38ea8c7d0eaa77276",
       "tooltip": "Get COG/STAC pixel value"
      }
     },
     "dd9c44a164964f0ca511d376626df666": {
      "model_module": "@jupyter-widgets/base",
      "model_module_version": "2.0.0",
      "model_name": "LayoutModel",
      "state": {
       "height": "18px",
       "padding": "0px 8px 25px 8px",
       "width": "30ex"
      }
     },
     "ddda9b494fb24e2186c41110956982bc": {
      "model_module": "@jupyter-widgets/controls",
      "model_module_version": "2.0.0",
      "model_name": "ToggleButtonStyleModel",
      "state": {
       "description_width": "",
       "font_family": null,
       "font_size": null,
       "font_style": null,
       "font_variant": null,
       "font_weight": null,
       "text_color": null,
       "text_decoration": null
      }
     },
     "dddfa6a54a8e45f092b0205e9415bb9b": {
      "model_module": "@jupyter-widgets/controls",
      "model_module_version": "2.0.0",
      "model_name": "DropdownModel",
      "state": {
       "index": null,
       "layout": "IPY_MODEL_bf57f4f14aad4176bd058e6714d01a19",
       "style": "IPY_MODEL_794a39bf02454f36bc33f8ea78d04977"
      }
     },
     "dde07278c80b400ab7948040ae0b4062": {
      "model_module": "@jupyter-widgets/controls",
      "model_module_version": "2.0.0",
      "model_name": "DescriptionStyleModel",
      "state": {
       "description_width": ""
      }
     },
     "ddeaa1aa740f4403b01a04e7c531c86f": {
      "model_module": "@jupyter-widgets/controls",
      "model_module_version": "2.0.0",
      "model_name": "ToggleButtonModel",
      "state": {
       "button_style": "primary",
       "icon": "fast-forward",
       "layout": "IPY_MODEL_76ffe9794c194e408fee67a214b18b91",
       "style": "IPY_MODEL_a72d7926fb744d5f976342a032ef7cb6",
       "tooltip": "Activate timeslider"
      }
     },
     "ddf62a0bf62a4d8b94ac3a3890539854": {
      "model_module": "@jupyter-widgets/controls",
      "model_module_version": "2.0.0",
      "model_name": "ToggleButtonModel",
      "state": {
       "button_style": "primary",
       "icon": "map",
       "layout": "IPY_MODEL_98ae01ecf99b49d199f7fa6190faf0ee",
       "style": "IPY_MODEL_015230b8ca7b42f693723b5d0bab89db",
       "tooltip": "Change basemap"
      }
     },
     "de2fae04d6b14d40992a8ca3ec05b8f5": {
      "model_module": "jupyter-leaflet",
      "model_module_version": "^0.17",
      "model_name": "LeafletZoomControlModel",
      "state": {
       "_model_module_version": "^0.17",
       "_view_module_version": "^0.17",
       "options": [
        "position",
        "zoom_in_text",
        "zoom_in_title",
        "zoom_out_text",
        "zoom_out_title"
       ]
      }
     },
     "de69e5cce7504f37b829ba56e8fb364d": {
      "model_module": "@jupyter-widgets/controls",
      "model_module_version": "2.0.0",
      "model_name": "ToggleButtonStyleModel",
      "state": {
       "description_width": "",
       "font_family": null,
       "font_size": null,
       "font_style": null,
       "font_variant": null,
       "font_weight": null,
       "text_color": null,
       "text_decoration": null
      }
     },
     "de73716cf9f64ce19ce4d70367e5f098": {
      "model_module": "@jupyter-widgets/base",
      "model_module_version": "2.0.0",
      "model_name": "LayoutModel",
      "state": {
       "height": "auto",
       "padding": "0px 0px 0px 4px",
       "width": "auto"
      }
     },
     "de7d0f94b96147e4a95ab1cc0ebcb847": {
      "model_module": "@jupyter-widgets/controls",
      "model_module_version": "2.0.0",
      "model_name": "ButtonStyleModel",
      "state": {
       "font_family": null,
       "font_size": null,
       "font_style": null,
       "font_variant": null,
       "font_weight": null,
       "text_color": null,
       "text_decoration": null
      }
     },
     "dea1f9f1780940e185b848925286ad28": {
      "model_module": "@jupyter-widgets/controls",
      "model_module_version": "2.0.0",
      "model_name": "ToggleButtonModel",
      "state": {
       "button_style": "primary",
       "icon": "map",
       "layout": "IPY_MODEL_fb6576cd95a6418dbf4f0263fbd63ecc",
       "style": "IPY_MODEL_c9d3b23dde8c4a92aeffa41427c18d09",
       "tooltip": "Change basemap"
      }
     },
     "deedc6ff239942809ae5bdeedaf5af84": {
      "model_module": "@jupyter-widgets/controls",
      "model_module_version": "2.0.0",
      "model_name": "ToggleButtonModel",
      "state": {
       "button_style": "primary",
       "icon": "adjust",
       "layout": "IPY_MODEL_bcfd45ed500a45d3b8074c517ac2f653",
       "style": "IPY_MODEL_60988fa8854e4f7d98af62a609c50174",
       "tooltip": "Planet imagery"
      }
     },
     "df2a04e93b7e4182a0fcda81f4d63487": {
      "model_module": "@jupyter-widgets/controls",
      "model_module_version": "2.0.0",
      "model_name": "ToggleButtonStyleModel",
      "state": {
       "description_width": "",
       "font_family": null,
       "font_size": null,
       "font_style": null,
       "font_variant": null,
       "font_weight": null,
       "text_color": null,
       "text_decoration": null
      }
     },
     "df329d85e5a64808a20b85554ec746f7": {
      "model_module": "jupyter-leaflet",
      "model_module_version": "^0.17",
      "model_name": "LeafletFullScreenControlModel",
      "state": {
       "_model_module_version": "^0.17",
       "_view_module_version": "^0.17",
       "options": [
        "position"
       ]
      }
     },
     "df5e2b4dab4d4e578ea2b8ca69e50655": {
      "model_module": "@jupyter-widgets/controls",
      "model_module_version": "2.0.0",
      "model_name": "DropdownModel",
      "state": {
       "index": null,
       "layout": "IPY_MODEL_2628c4df11d847b4aacbcee058224d97",
       "style": "IPY_MODEL_1bb6574380164385980c170f0afd0d86"
      }
     },
     "df8e6cfeab564ef0a04244ce638eac6f": {
      "model_module": "@jupyter-widgets/base",
      "model_module_version": "2.0.0",
      "model_name": "LayoutModel",
      "state": {
       "height": "auto",
       "padding": "0px 0px 0px 4px",
       "width": "auto"
      }
     },
     "df9060236c3b460696c854a249870e1f": {
      "model_module": "@jupyter-widgets/base",
      "model_module_version": "2.0.0",
      "model_name": "LayoutModel",
      "state": {
       "display": "none",
       "grid_gap": "0px 0px",
       "grid_template_areas": "\n                    'pathlist filename'\n                    'dircontent dircontent'\n                    ",
       "grid_template_columns": "60% 40%",
       "grid_template_rows": "auto auto",
       "width": "auto"
      }
     },
     "df9258af772c44debbb0c980cf679623": {
      "model_module": "@jupyter-widgets/controls",
      "model_module_version": "2.0.0",
      "model_name": "HTMLStyleModel",
      "state": {
       "description_width": "",
       "font_size": null,
       "text_color": null
      }
     },
     "dfaca1e2ba584b30b74ac2372dc4d5ab": {
      "model_module": "@jupyter-widgets/base",
      "model_module_version": "2.0.0",
      "model_name": "LayoutModel",
      "state": {
       "height": "28px",
       "padding": "0px 0px 0px 4px",
       "width": "28px"
      }
     },
     "dfb3fcd6d8b44b14953b6c36788f61d8": {
      "model_module": "@jupyter-widgets/base",
      "model_module_version": "2.0.0",
      "model_name": "LayoutModel",
      "state": {}
     },
     "e00f2b3752bc40b58262a57dee136aca": {
      "model_module": "@jupyter-widgets/controls",
      "model_module_version": "2.0.0",
      "model_name": "ToggleButtonModel",
      "state": {
       "icon": "server",
       "layout": "IPY_MODEL_06923c69bad5414cbbdf22195ae9c68a",
       "style": "IPY_MODEL_e55115cd55f54597b7c095f91fb5f957",
       "tooltip": "Layers"
      }
     },
     "e0194bbcdf844ecea02f9e42a0fb4d82": {
      "model_module": "@jupyter-widgets/controls",
      "model_module_version": "2.0.0",
      "model_name": "ToggleButtonStyleModel",
      "state": {
       "description_width": "",
       "font_family": null,
       "font_size": null,
       "font_style": null,
       "font_variant": null,
       "font_weight": null,
       "text_color": null,
       "text_decoration": null
      }
     },
     "e03a2a6406594f948b94547227881ea4": {
      "model_module": "@jupyter-widgets/controls",
      "model_module_version": "2.0.0",
      "model_name": "TextStyleModel",
      "state": {
       "description_width": "",
       "font_size": null,
       "text_color": null
      }
     },
     "e04b7d114c5e43f98d112486cff5ea21": {
      "model_module": "@jupyter-widgets/base",
      "model_module_version": "2.0.0",
      "model_name": "LayoutModel",
      "state": {
       "height": "auto",
       "padding": "0px 0px 0px 4px",
       "width": "auto"
      }
     },
     "e09360d118be4aacb644edaab1c603e7": {
      "model_module": "ipyevents",
      "model_module_version": "2.0.1",
      "model_name": "EventModel",
      "state": {
       "_supported_key_events": [
        "keydown",
        "keyup"
       ],
       "_supported_mouse_events": [
        "click",
        "auxclick",
        "dblclick",
        "mouseenter",
        "mouseleave",
        "mousedown",
        "mouseup",
        "mousemove",
        "wheel",
        "contextmenu",
        "dragstart",
        "drag",
        "dragend",
        "dragenter",
        "dragover",
        "dragleave",
        "drop"
       ],
       "_supported_touch_events": [
        "touchstart",
        "touchend",
        "touchmove",
        "touchcancel"
       ],
       "_view_module": "@jupyter-widgets/controls",
       "source": "IPY_MODEL_80eee2beea774190b5b75c2d2b7eb498",
       "throttle_or_debounce": "",
       "watched_events": [
        "mouseenter",
        "mouseleave"
       ],
       "xy_coordinate_system": ""
      }
     },
     "e0984bba34fb4bdbaa9dc69ac70dbf21": {
      "model_module": "@jupyter-widgets/base",
      "model_module_version": "2.0.0",
      "model_name": "LayoutModel",
      "state": {}
     },
     "e0a48397ff1d4b9b8b29fc4ea325c44d": {
      "model_module": "@jupyter-widgets/base",
      "model_module_version": "2.0.0",
      "model_name": "LayoutModel",
      "state": {
       "height": "auto",
       "padding": "0px 0px 0px 4px",
       "width": "auto"
      }
     },
     "e0ae3a48074345c68de65c025684169b": {
      "model_module": "@jupyter-widgets/controls",
      "model_module_version": "2.0.0",
      "model_name": "VBoxModel",
      "state": {
       "children": [
        "IPY_MODEL_c53b5742316c43dfbb52fecf47775d79",
        "IPY_MODEL_6bb74932e7934bf1a8405a412f80f65e"
       ],
       "layout": "IPY_MODEL_568b5f1d7d70470f98fa0ed622506cd6"
      }
     },
     "e0e495b1fb024d9882836ad303ac2161": {
      "model_module": "@jupyter-widgets/controls",
      "model_module_version": "2.0.0",
      "model_name": "ToggleButtonsModel",
      "state": {
       "_options_labels": [
        "name/address",
        "lat-lon",
        "data"
       ],
       "button_style": "",
       "icons": [],
       "index": 0,
       "layout": "IPY_MODEL_687591d5f8af4d6f9367a5832a5984f4",
       "style": "IPY_MODEL_43f1b9190c064e6084480c242d58053d",
       "tooltips": [
        "Search by place name or address",
        "Search by lat-lon coordinates",
        "Search Earth Engine data catalog"
       ]
      }
     },
     "e0f7cc8af2124a58a2c1965a71f9af81": {
      "model_module": "jupyter-leaflet",
      "model_module_version": "^0.17",
      "model_name": "LeafletAttributionControlModel",
      "state": {
       "_model_module_version": "^0.17",
       "_view_module_version": "^0.17",
       "options": [
        "position",
        "prefix"
       ],
       "position": "bottomright",
       "prefix": "ipyleaflet"
      }
     },
     "e121b846d4c446eb8f764a0b1da57f49": {
      "model_module": "@jupyter-widgets/base",
      "model_module_version": "2.0.0",
      "model_name": "LayoutModel",
      "state": {}
     },
     "e127cb6b836f4e0a85a5be555c7a06d8": {
      "model_module": "jupyter-leaflet",
      "model_module_version": "^0.17",
      "model_name": "LeafletMapModel",
      "state": {
       "_model_module_version": "^0.17",
       "_view_module_version": "^0.17",
       "center": [
        42.682,
        12.876
       ],
       "controls": [
        "IPY_MODEL_1ceb7b4aab33412eb028f9bf5c57b25f",
        "IPY_MODEL_de2fae04d6b14d40992a8ca3ec05b8f5",
        "IPY_MODEL_7da62a7b4fce42c0bfcdaef72f88e7e3",
        "IPY_MODEL_b9c08fb85c744fd1aaf99e18b4e7f5dd",
        "IPY_MODEL_6117d7d045464b7ab9978295e3045483",
        "IPY_MODEL_46d20c58202c4f96bba4c9d3e57b78c8",
        "IPY_MODEL_94248200440d47c8826f9b1868bdf1af",
        "IPY_MODEL_99a42cfdb5274c919388db04df43f68e"
       ],
       "default_style": "IPY_MODEL_30c7de99e6d74250b84f195abc6b6ac9",
       "dragging_style": "IPY_MODEL_65aecbc63dff4f8fa34054a5881a027f",
       "fullscreen": false,
       "interpolation": "bilinear",
       "layers": [
        "IPY_MODEL_601af83729a94f3893fb2feaa0a765d8",
        "IPY_MODEL_a034a058703d409b92b4ac4d37551e64"
       ],
       "layout": "IPY_MODEL_2e2c97c010fe4dd19872843835d7d199",
       "max_zoom": 24,
       "modisdate": "2023-10-03",
       "options": [
        "bounce_at_zoom_limits",
        "box_zoom",
        "center",
        "close_popup_on_click",
        "double_click_zoom",
        "dragging",
        "fullscreen",
        "inertia",
        "inertia_deceleration",
        "inertia_max_speed",
        "interpolation",
        "keyboard",
        "keyboard_pan_offset",
        "keyboard_zoom_offset",
        "max_zoom",
        "min_zoom",
        "prefer_canvas",
        "scroll_wheel_zoom",
        "tap",
        "tap_tolerance",
        "touch_zoom",
        "world_copy_jump",
        "zoom",
        "zoom_animation_threshold",
        "zoom_delta",
        "zoom_snap"
       ],
       "prefer_canvas": false,
       "scroll_wheel_zoom": true,
       "style": "IPY_MODEL_1386fd2e6f554db783b5041f58f4e5d1",
       "window_url": "http://localhost:8888/lab/tree/02India_Analysis/2023October_PaperAnalysis.ipynb",
       "zoom": 5
      }
     },
     "e137d038f37849d9a79b4a29c873f250": {
      "model_module": "@jupyter-widgets/controls",
      "model_module_version": "2.0.0",
      "model_name": "ToggleButtonModel",
      "state": {
       "button_style": "primary",
       "icon": "info-circle",
       "layout": "IPY_MODEL_595d7af6642244bdb8af68e13c62b9d7",
       "style": "IPY_MODEL_4624bcd648d341c49a0e9c20bc73681b",
       "tooltip": "Get COG/STAC pixel value"
      }
     },
     "e150222d750a4c1b8d4f7ad576256904": {
      "model_module": "jupyter-leaflet",
      "model_module_version": "^0.17",
      "model_name": "LeafletMapStyleModel",
      "state": {
       "_model_module_version": "^0.17",
       "cursor": "move"
      }
     },
     "e1b0ad21a0254cff8ce069b179feccc8": {
      "model_module": "@jupyter-widgets/controls",
      "model_module_version": "2.0.0",
      "model_name": "ToggleButtonStyleModel",
      "state": {
       "description_width": "",
       "font_family": null,
       "font_size": null,
       "font_style": null,
       "font_variant": null,
       "font_weight": null,
       "text_color": null,
       "text_decoration": null
      }
     },
     "e20ab88320084d0eabdf7b770bc3fc9a": {
      "model_module": "@jupyter-widgets/controls",
      "model_module_version": "2.0.0",
      "model_name": "DirectionalLinkModel",
      "state": {
       "source": [
        "IPY_MODEL_957ef59b55514b5893b95259735ac9bb",
        "value"
       ],
       "target": [
        "IPY_MODEL_db885b06a5304fd3a2a8eeac5c07b9c6",
        "opacity"
       ]
      }
     },
     "e22f5089bcc34ae7b2371110424c4c2e": {
      "model_module": "@jupyter-widgets/controls",
      "model_module_version": "2.0.0",
      "model_name": "ToggleButtonModel",
      "state": {
       "button_style": "primary",
       "icon": "adjust",
       "layout": "IPY_MODEL_f9bf6701c20a449f94edb0c5a79fe5c7",
       "style": "IPY_MODEL_1966ca78205e471ab17da4a696a5330c",
       "tooltip": "Planet imagery"
      }
     },
     "e246c6ea16a94337b17b7afbadcf604f": {
      "model_module": "@jupyter-widgets/controls",
      "model_module_version": "2.0.0",
      "model_name": "ToggleButtonModel",
      "state": {
       "icon": "globe",
       "layout": "IPY_MODEL_c7f0ed0195734ac2846947c09b5fdd5e",
       "style": "IPY_MODEL_a34dcc9d1765419ebb920a50891c5d20",
       "tooltip": "Search location/data"
      }
     },
     "e24ae56d89ea475b8e09b6aa9bf08170": {
      "model_module": "@jupyter-widgets/base",
      "model_module_version": "2.0.0",
      "model_name": "LayoutModel",
      "state": {
       "height": "28px",
       "width": "72px"
      }
     },
     "e2a43df4a8624861b98a5c78d8e2d9ec": {
      "model_module": "@jupyter-widgets/controls",
      "model_module_version": "2.0.0",
      "model_name": "TextStyleModel",
      "state": {
       "description_width": "",
       "font_size": null,
       "text_color": null
      }
     },
     "e2c49d18d6834bbc80ab75f718c25f2f": {
      "model_module": "@jupyter-widgets/base",
      "model_module_version": "2.0.0",
      "model_name": "LayoutModel",
      "state": {}
     },
     "e2fbde6d12014c7f90e42fc837fb658a": {
      "model_module": "@jupyter-widgets/controls",
      "model_module_version": "2.0.0",
      "model_name": "VBoxModel",
      "state": {
       "children": [
        "IPY_MODEL_4fd2328b59ee4676bcedb49537283704"
       ],
       "layout": "IPY_MODEL_771a9361ea524b359bba46883de07f2b"
      }
     },
     "e3f3d583cd4b422fa82aa386701ec087": {
      "model_module": "@jupyter-widgets/controls",
      "model_module_version": "2.0.0",
      "model_name": "GridBoxModel",
      "state": {
       "children": [
        "IPY_MODEL_42a5d72a224c484f8a572b52893e6962",
        "IPY_MODEL_31e37b08c7af4e83aa8bf33cbcc3bd2c",
        "IPY_MODEL_e60963e2a5514a4a8f529cd51c678fa2"
       ],
       "layout": "IPY_MODEL_5c8abc838c69498fae6a61138aeef784"
      }
     },
     "e447bae9a8ed4ff0835cc6ae752383bf": {
      "model_module": "jupyter-leaflet",
      "model_module_version": "^0.17",
      "model_name": "LeafletMapModel",
      "state": {
       "_model_module_version": "^0.17",
       "_view_module_version": "^0.17",
       "center": [
        42.68243539838623,
        12.919921875000002
       ],
       "controls": [
        "IPY_MODEL_bfb2d9f38dee4187a00da029b7336410",
        "IPY_MODEL_a74929f6a70c4f4686bb76e7f8324d67",
        "IPY_MODEL_0c84aa9b684d4c4d98819d1c1a4146e4",
        "IPY_MODEL_9ea5fcc79ddb4993a4d98116501c0eb6",
        "IPY_MODEL_d4d819b9d70447838afc4725a9f9f257",
        "IPY_MODEL_f887551ad9de4b33b7fd865d632f3729",
        "IPY_MODEL_765c90d31caa4ffe8ff3aa10c0f8e759",
        "IPY_MODEL_532449a8c15a49a585da323a6b817a97"
       ],
       "default_style": "IPY_MODEL_0761b75c90d840aeabbeaefb15afb818",
       "dragging_style": "IPY_MODEL_9cc99d5e053841108a27dae16b8196f9",
       "east": null,
       "fullscreen": false,
       "interpolation": "bilinear",
       "layers": [
        "IPY_MODEL_76eed8e00f524e2a99ddba7a66ae2412",
        "IPY_MODEL_e6b70d1a7cfb4e29a5e69fcb6b53171b"
       ],
       "layout": "IPY_MODEL_3450c8fbd1144994a7a85b8783ac787a",
       "max_zoom": 24,
       "modisdate": "2023-10-03",
       "north": -90,
       "options": [
        "bounce_at_zoom_limits",
        "box_zoom",
        "center",
        "close_popup_on_click",
        "double_click_zoom",
        "dragging",
        "fullscreen",
        "inertia",
        "inertia_deceleration",
        "inertia_max_speed",
        "interpolation",
        "keyboard",
        "keyboard_pan_offset",
        "keyboard_zoom_offset",
        "max_zoom",
        "min_zoom",
        "prefer_canvas",
        "scroll_wheel_zoom",
        "tap",
        "tap_tolerance",
        "touch_zoom",
        "world_copy_jump",
        "zoom",
        "zoom_animation_threshold",
        "zoom_delta",
        "zoom_snap"
       ],
       "prefer_canvas": false,
       "scroll_wheel_zoom": true,
       "south": 90,
       "style": "IPY_MODEL_0761b75c90d840aeabbeaefb15afb818",
       "west": null,
       "window_url": "http://localhost:8888/lab/tree/02India_Analysis/2023October_PaperAnalysis.ipynb",
       "zoom": 5
      }
     },
     "e46ac8ebb85e45088ae088a824189510": {
      "model_module": "@jupyter-widgets/base",
      "model_module_version": "2.0.0",
      "model_name": "LayoutModel",
      "state": {
       "display": "none",
       "min_width": "6em",
       "width": "6em"
      }
     },
     "e4921815aca94821a632dcb8f8740da2": {
      "model_module": "@jupyter-widgets/controls",
      "model_module_version": "2.0.0",
      "model_name": "ButtonStyleModel",
      "state": {
       "font_family": null,
       "font_size": null,
       "font_style": null,
       "font_variant": null,
       "font_weight": null,
       "text_color": null,
       "text_decoration": null
      }
     },
     "e4a806c4d06d494e8ee997dd5e59d449": {
      "model_module": "jupyter-leaflet",
      "model_module_version": "^0.17",
      "model_name": "LeafletMapModel",
      "state": {
       "_model_module_version": "^0.17",
       "_view_module_version": "^0.17",
       "center": [
        42.682,
        12.876
       ],
       "controls": [
        "IPY_MODEL_a004de928a214f1da2559b6dfbc0ab3f",
        "IPY_MODEL_0f8238632a594b3f9679aae64a158139",
        "IPY_MODEL_15fc58afae3e487ca064c51df6d56c57",
        "IPY_MODEL_b306429e549d49dd97e3d17a177e0584",
        "IPY_MODEL_125147952ef143809562ea31fc52e0d8",
        "IPY_MODEL_66258d5da6d64ac998ae084c088858f0",
        "IPY_MODEL_66456530689a432d98136529a9048abc",
        "IPY_MODEL_0990062e859946c0bec8b9da68a29ee8"
       ],
       "default_style": "IPY_MODEL_682ea535448745839727fa4466c7f51c",
       "dragging_style": "IPY_MODEL_e150222d750a4c1b8d4f7ad576256904",
       "fullscreen": false,
       "interpolation": "bilinear",
       "layers": [
        "IPY_MODEL_2d7d7e617f904e75ba0bab1446b6bf5d",
        "IPY_MODEL_bdfb61c1fc72440daa99ca8e7399c125"
       ],
       "layout": "IPY_MODEL_7a4eeb408207433e95b75bfaac569fd9",
       "max_zoom": 24,
       "modisdate": "2023-10-03",
       "options": [
        "bounce_at_zoom_limits",
        "box_zoom",
        "center",
        "close_popup_on_click",
        "double_click_zoom",
        "dragging",
        "fullscreen",
        "inertia",
        "inertia_deceleration",
        "inertia_max_speed",
        "interpolation",
        "keyboard",
        "keyboard_pan_offset",
        "keyboard_zoom_offset",
        "max_zoom",
        "min_zoom",
        "prefer_canvas",
        "scroll_wheel_zoom",
        "tap",
        "tap_tolerance",
        "touch_zoom",
        "world_copy_jump",
        "zoom",
        "zoom_animation_threshold",
        "zoom_delta",
        "zoom_snap"
       ],
       "prefer_canvas": false,
       "scroll_wheel_zoom": true,
       "style": "IPY_MODEL_d2a1c7e269ae4482a41d4ec48f7a8539",
       "window_url": "http://localhost:8888/lab/tree/02India_Analysis/2023October_PaperAnalysis.ipynb",
       "zoom": 5
      }
     },
     "e4f854170fc142fb933fa7450ec599ae": {
      "model_module": "@jupyter-widgets/controls",
      "model_module_version": "2.0.0",
      "model_name": "ToggleButtonModel",
      "state": {
       "button_style": "primary",
       "icon": "retweet",
       "layout": "IPY_MODEL_3dbb6c86fae34fee96a5ccfd195192ff",
       "style": "IPY_MODEL_072d620f9ace45c6a20a77116ae4ca73",
       "tooltip": "Convert Earth Engine JavaScript to Python"
      }
     },
     "e4fb97dc68254af49104aea0e9173974": {
      "model_module": "@jupyter-widgets/controls",
      "model_module_version": "2.0.0",
      "model_name": "ToggleButtonStyleModel",
      "state": {
       "description_width": "",
       "font_family": null,
       "font_size": null,
       "font_style": null,
       "font_variant": null,
       "font_weight": null,
       "text_color": null,
       "text_decoration": null
      }
     },
     "e5143372c5fc46fcb22f708157fc46c1": {
      "model_module": "@jupyter-widgets/controls",
      "model_module_version": "2.0.0",
      "model_name": "ToggleButtonModel",
      "state": {
       "button_style": "primary",
       "icon": "retweet",
       "layout": "IPY_MODEL_883d066b9c0a478095be3fe36b2f39aa",
       "style": "IPY_MODEL_bbe8dd1729de4645a2c4a44638cc48d6",
       "tooltip": "Convert Earth Engine JavaScript to Python"
      }
     },
     "e53605ad528c4c048d8b203f405401b0": {
      "model_module": "jupyter-leaflet",
      "model_module_version": "^0.17",
      "model_name": "LeafletWidgetControlModel",
      "state": {
       "_model_module": "jupyter-leaflet",
       "_model_module_version": "^0.17",
       "_view_count": null,
       "_view_module": "jupyter-leaflet",
       "_view_module_version": "^0.17",
       "options": [
        "position",
        "transparent_bg"
       ],
       "position": "topleft",
       "widget": "IPY_MODEL_0c14ba6672d048cd84a401db14535168"
      }
     },
     "e55115cd55f54597b7c095f91fb5f957": {
      "model_module": "@jupyter-widgets/controls",
      "model_module_version": "2.0.0",
      "model_name": "ToggleButtonStyleModel",
      "state": {
       "description_width": "",
       "font_family": null,
       "font_size": null,
       "font_style": null,
       "font_variant": null,
       "font_weight": null,
       "text_color": null,
       "text_decoration": null
      }
     },
     "e598a5d86d1f4bb9870e0d1acb4bed26": {
      "model_module": "@jupyter-widgets/base",
      "model_module_version": "2.0.0",
      "model_name": "LayoutModel",
      "state": {}
     },
     "e5a2c8a95f104837a2532aac5bc3bced": {
      "model_module": "@jupyter-widgets/controls",
      "model_module_version": "2.0.0",
      "model_name": "GridBoxModel",
      "state": {
       "children": [
        "IPY_MODEL_0d4e453b11ea4590b4b039ecc9b5bd66",
        "IPY_MODEL_30a0eb70a87f434aa255822358e47a80",
        "IPY_MODEL_03468900990049cb962b448e2ca63741",
        "IPY_MODEL_9433c5d7e54343ada496b7f3041ec00e",
        "IPY_MODEL_b6976eb88f334d4f9384df1fb26e211d",
        "IPY_MODEL_08d33232e0c54cb88fe52a86d2885045"
       ],
       "layout": "IPY_MODEL_cdab357365b5415f9036eda3776d2998"
      }
     },
     "e5b2627788b242f69513eb952b5a895e": {
      "model_module": "ipyevents",
      "model_module_version": "2.0.1",
      "model_name": "EventModel",
      "state": {
       "_supported_key_events": [
        "keydown",
        "keyup"
       ],
       "_supported_mouse_events": [
        "click",
        "auxclick",
        "dblclick",
        "mouseenter",
        "mouseleave",
        "mousedown",
        "mouseup",
        "mousemove",
        "wheel",
        "contextmenu",
        "dragstart",
        "drag",
        "dragend",
        "dragenter",
        "dragover",
        "dragleave",
        "drop"
       ],
       "_supported_touch_events": [
        "touchstart",
        "touchend",
        "touchmove",
        "touchcancel"
       ],
       "_view_module": "@jupyter-widgets/controls",
       "source": "IPY_MODEL_2ca304bad6b7458fba9ee759e974a3cc",
       "throttle_or_debounce": "",
       "watched_events": [
        "mouseenter",
        "mouseleave"
       ],
       "xy_coordinate_system": ""
      }
     },
     "e5c64e401a44461bbc6447f431097d8f": {
      "model_module": "@jupyter-widgets/controls",
      "model_module_version": "2.0.0",
      "model_name": "VBoxModel",
      "state": {
       "children": [
        "IPY_MODEL_5a0141e2b30e40e3a184fc0c66966fc8"
       ],
       "layout": "IPY_MODEL_9b7d076951854180b8f83431f8661253"
      }
     },
     "e5ec20f7f453428b8672b8a9539dc149": {
      "model_module": "@jupyter-widgets/controls",
      "model_module_version": "2.0.0",
      "model_name": "HBoxModel",
      "state": {
       "_view_count": 1,
       "children": [
        "IPY_MODEL_b1c20a7dcee449f6ba8ce1fe7219aafb"
       ],
       "layout": "IPY_MODEL_22bff7d809454f2ab1b47ab80709517f"
      }
     },
     "e604f0919eed4bcbbb842fedde5ad3a9": {
      "model_module": "@jupyter-widgets/controls",
      "model_module_version": "2.0.0",
      "model_name": "HTMLStyleModel",
      "state": {
       "description_width": "",
       "font_size": null,
       "text_color": null
      }
     },
     "e60963e2a5514a4a8f529cd51c678fa2": {
      "model_module": "@jupyter-widgets/controls",
      "model_module_version": "2.0.0",
      "model_name": "SelectModel",
      "state": {
       "_options_labels": [
        "📁 ..",
        "2023October_PaperAnalysis.ipynb"
       ],
       "index": null,
       "layout": "IPY_MODEL_fb530312165240e595803bcd50bd3bc1",
       "rows": 8,
       "style": "IPY_MODEL_c32d0d63f73f404397d55ea13a4aedd0"
      }
     },
     "e610dfba30b44066ae724f92d1579346": {
      "model_module": "@jupyter-widgets/controls",
      "model_module_version": "2.0.0",
      "model_name": "HTMLStyleModel",
      "state": {
       "description_width": "",
       "font_size": null,
       "text_color": null
      }
     },
     "e6198d5a76684d26bb2daf584d095ee7": {
      "model_module": "@jupyter-widgets/controls",
      "model_module_version": "2.0.0",
      "model_name": "ToggleButtonStyleModel",
      "state": {
       "description_width": "",
       "font_family": null,
       "font_size": null,
       "font_style": null,
       "font_variant": null,
       "font_weight": null,
       "text_color": null,
       "text_decoration": null
      }
     },
     "e6264f570fa04311a2dc932f5edbf161": {
      "model_module": "@jupyter-widgets/controls",
      "model_module_version": "2.0.0",
      "model_name": "ToggleButtonModel",
      "state": {
       "button_style": "primary",
       "icon": "folder-open",
       "layout": "IPY_MODEL_1ef91ac93a154bd4a933ae557f428b1c",
       "style": "IPY_MODEL_d58510bdfceb4bf183c00393044e2380",
       "tooltip": "Open local vector/raster data"
      }
     },
     "e62734c11dcb49d584747d6897f09f05": {
      "model_module": "@jupyter-widgets/base",
      "model_module_version": "2.0.0",
      "model_name": "LayoutModel",
      "state": {
       "height": "auto",
       "padding": "0px 0px 0px 4px",
       "width": "auto"
      }
     },
     "e63ddd14f6314e48868f1e524851ef77": {
      "model_module": "jupyter-leaflet",
      "model_module_version": "^0.17",
      "model_name": "LeafletTileLayerModel",
      "state": {
       "_model_module_version": "^0.17",
       "_view_module_version": "^0.17",
       "attribution": "Google Earth Engine",
       "max_zoom": 24,
       "name": "Buffer Around Delhi (Outside)",
       "options": [
        "attribution",
        "bounds",
        "detect_retina",
        "max_native_zoom",
        "max_zoom",
        "min_native_zoom",
        "min_zoom",
        "no_wrap",
        "tile_size",
        "tms",
        "zoom_offset"
       ],
       "url": "https://earthengine.googleapis.com/v1/projects/earthengine-legacy/maps/06c8f1893b2b6be467471b0ef1d6e4a1-94ca596e491548ad53404d99d9979216/tiles/{z}/{x}/{y}"
      }
     },
     "e65bd839b5164cd8baa13aa67ba1c47a": {
      "model_module": "@jupyter-widgets/controls",
      "model_module_version": "2.0.0",
      "model_name": "ToggleButtonStyleModel",
      "state": {
       "description_width": "",
       "font_family": null,
       "font_size": null,
       "font_style": null,
       "font_variant": null,
       "font_weight": null,
       "text_color": null,
       "text_decoration": null
      }
     },
     "e6995e0d111c462288544e8194406e79": {
      "model_module": "@jupyter-widgets/output",
      "model_module_version": "1.0.0",
      "model_name": "OutputModel",
      "state": {
       "layout": "IPY_MODEL_089bde116be4455baceae9cc5eca6073",
       "outputs": [
        {
         "data": {
          "application/vnd.jupyter.widget-view+json": {
           "model_id": "5d82af72f8794cfea2b1890ef47ecc36",
           "version_major": 2,
           "version_minor": 0
          },
          "text/plain": "VBox(children=(HBox(children=(Label(value='Current Tool: ClipRasterToPolygon', layout=Layout(width='306px'), s…"
         },
         "metadata": {},
         "output_type": "display_data"
        }
       ]
      }
     },
     "e6b70d1a7cfb4e29a5e69fcb6b53171b": {
      "model_module": "jupyter-leaflet",
      "model_module_version": "^0.17",
      "model_name": "LeafletTileLayerModel",
      "state": {
       "_model_module_version": "^0.17",
       "_view_module_version": "^0.17",
       "attribution": "Google",
       "max_zoom": 24,
       "name": "Google Maps",
       "options": [
        "attribution",
        "bounds",
        "detect_retina",
        "max_native_zoom",
        "max_zoom",
        "min_native_zoom",
        "min_zoom",
        "no_wrap",
        "tile_size",
        "tms",
        "zoom_offset"
       ],
       "url": "https://mt1.google.com/vt/lyrs=m&x={x}&y={y}&z={z}"
      }
     },
     "e6c1805d5ac54a3899fbf28c1462d720": {
      "model_module": "@jupyter-widgets/controls",
      "model_module_version": "2.0.0",
      "model_name": "ToggleButtonModel",
      "state": {
       "button_style": "primary",
       "icon": "folder-open",
       "layout": "IPY_MODEL_7329e5fe2bff479b948394e0fbba1698",
       "style": "IPY_MODEL_03354422c9cd4711be234215e613ba90",
       "tooltip": "Open local vector/raster data"
      }
     },
     "e6dd7c45a548461ab96ce10053d64e84": {
      "model_module": "@jupyter-widgets/controls",
      "model_module_version": "2.0.0",
      "model_name": "ToggleButtonModel",
      "state": {
       "button_style": "primary",
       "icon": "gears",
       "layout": "IPY_MODEL_0a683a805b324180ba4e063e04f89c4f",
       "style": "IPY_MODEL_30b61bb8fe6d47c0aae1a0b3cb0f775c",
       "tooltip": "WhiteboxTools for local geoprocessing"
      }
     },
     "e6e722da8e5248989cc47004f64fef51": {
      "model_module": "@jupyter-widgets/base",
      "model_module_version": "2.0.0",
      "model_name": "LayoutModel",
      "state": {
       "height": "auto",
       "padding": "0px 0px 0px 4px",
       "width": "auto"
      }
     },
     "e6e9c44e3ba44612a1f79c818e539c67": {
      "model_module": "@jupyter-widgets/base",
      "model_module_version": "2.0.0",
      "model_name": "LayoutModel",
      "state": {
       "width": "340px"
      }
     },
     "e6f4c07db2b140cab36179baa444f665": {
      "model_module": "@jupyter-widgets/base",
      "model_module_version": "2.0.0",
      "model_name": "LayoutModel",
      "state": {
       "max_width": "279px",
       "min_width": "279px"
      }
     },
     "e7281539eb9c4b31a4f9167dbcca4a75": {
      "model_module": "@jupyter-widgets/base",
      "model_module_version": "2.0.0",
      "model_name": "LayoutModel",
      "state": {
       "height": "28px",
       "padding": "0px 0px 0px 4px",
       "width": "28px"
      }
     },
     "e7938277265a42408ed035de7579e5da": {
      "model_module": "@jupyter-widgets/controls",
      "model_module_version": "2.0.0",
      "model_name": "ToggleButtonModel",
      "state": {
       "button_style": "primary",
       "icon": "info",
       "layout": "IPY_MODEL_61a81e73900b4fef8a2ac2cb8c68b418",
       "style": "IPY_MODEL_e92365b9c9a84e2c8e17a15506c5fe8f",
       "tooltip": "Inspector"
      }
     },
     "e7a9e8c0f5dc4160821a0c094a9af0e7": {
      "model_module": "@jupyter-widgets/base",
      "model_module_version": "2.0.0",
      "model_name": "LayoutModel",
      "state": {
       "height": "auto",
       "padding": "0px 0px 0px 4px",
       "width": "auto"
      }
     },
     "e7c46f32541543d4857942a316676c30": {
      "model_module": "@jupyter-widgets/base",
      "model_module_version": "2.0.0",
      "model_name": "LayoutModel",
      "state": {
       "height": "auto",
       "padding": "0px 0px 0px 4px",
       "width": "auto"
      }
     },
     "e7cef3f6d8584f808041222b11c917d2": {
      "model_module": "@jupyter-widgets/controls",
      "model_module_version": "2.0.0",
      "model_name": "VBoxModel",
      "state": {
       "_view_count": 1,
       "children": [
        "IPY_MODEL_89c6c8c5557f4cc49e40e515780fb3ee"
       ],
       "layout": "IPY_MODEL_3088e27581244fa5871e14bd60b45535"
      }
     },
     "e8064e1860fc4871b02b4eeeaca1b954": {
      "model_module": "jupyter-leaflet",
      "model_module_version": "^0.17",
      "model_name": "LeafletZoomControlModel",
      "state": {
       "_model_module_version": "^0.17",
       "_view_module_version": "^0.17",
       "options": [
        "position",
        "zoom_in_text",
        "zoom_in_title",
        "zoom_out_text",
        "zoom_out_title"
       ]
      }
     },
     "e83d98147bb0416aa42bce639e2ec299": {
      "model_module": "@jupyter-widgets/controls",
      "model_module_version": "2.0.0",
      "model_name": "ToggleButtonStyleModel",
      "state": {
       "description_width": "",
       "font_family": null,
       "font_size": null,
       "font_style": null,
       "font_variant": null,
       "font_weight": null,
       "text_color": null,
       "text_decoration": null
      }
     },
     "e891ab93b6484406b17d3c7333f83824": {
      "model_module": "@jupyter-widgets/controls",
      "model_module_version": "2.0.0",
      "model_name": "DescriptionStyleModel",
      "state": {
       "description_width": ""
      }
     },
     "e89c1a2372304d15a91d1312140238bf": {
      "model_module": "jupyter-leaflet",
      "model_module_version": "^0.17",
      "model_name": "LeafletMapStyleModel",
      "state": {
       "_model_module_version": "^0.17",
       "cursor": "move"
      }
     },
     "e8b4b895403e4f5ea481509dc89eac64": {
      "model_module": "@jupyter-widgets/controls",
      "model_module_version": "2.0.0",
      "model_name": "DropdownModel",
      "state": {
       "_options_labels": [
        "/Users/rishi/02India_Analysis",
        "/Users/rishi",
        "/Users",
        "/"
       ],
       "index": 0,
       "layout": "IPY_MODEL_82d7583062474011a317e31033e8b729",
       "style": "IPY_MODEL_64647dbfdc8f4874a8728bee658f7768"
      }
     },
     "e8c1a0507e5f4c87b5eb1bf8ce95cbfe": {
      "model_module": "@jupyter-widgets/controls",
      "model_module_version": "2.0.0",
      "model_name": "ToggleButtonStyleModel",
      "state": {
       "description_width": "",
       "font_family": null,
       "font_size": null,
       "font_style": null,
       "font_variant": null,
       "font_weight": null,
       "text_color": null,
       "text_decoration": null
      }
     },
     "e8e26868f9a74d818684690706876660": {
      "model_module": "@jupyter-widgets/controls",
      "model_module_version": "2.0.0",
      "model_name": "ToggleButtonModel",
      "state": {
       "button_style": "primary",
       "icon": "eraser",
       "layout": "IPY_MODEL_951dc1ffa15d42d1b18cc103ed42ba07",
       "style": "IPY_MODEL_fd86395188cf48248b2aaa1671dcde05",
       "tooltip": "Remove all drawn features"
      }
     },
     "e92365b9c9a84e2c8e17a15506c5fe8f": {
      "model_module": "@jupyter-widgets/controls",
      "model_module_version": "2.0.0",
      "model_name": "ToggleButtonStyleModel",
      "state": {
       "description_width": "",
       "font_family": null,
       "font_size": null,
       "font_style": null,
       "font_variant": null,
       "font_weight": null,
       "text_color": null,
       "text_decoration": null
      }
     },
     "e9ca9300b6e440ee9a97de7730020b22": {
      "model_module": "@jupyter-widgets/controls",
      "model_module_version": "2.0.0",
      "model_name": "ToggleButtonModel",
      "state": {
       "button_style": "primary",
       "icon": "eraser",
       "layout": "IPY_MODEL_19b2bc3878de40778ae815f0903743ea",
       "style": "IPY_MODEL_7363a66a70784711bb470452ba3fbcef",
       "tooltip": "Remove all drawn features"
      }
     },
     "e9e5f126a9514427a49102fcfc725d2d": {
      "model_module": "@jupyter-widgets/controls",
      "model_module_version": "2.0.0",
      "model_name": "HBoxModel",
      "state": {
       "children": [
        "IPY_MODEL_7ecaac75977940e5be86e5c47c80d60d",
        "IPY_MODEL_d17df59b6edc4e1cb470e5a6127fd4c9"
       ],
       "layout": "IPY_MODEL_b7e095746198467da002b143f53880b3"
      }
     },
     "ea21f5dc9d464a4992c7ba4690ad1a9f": {
      "model_module": "@jupyter-widgets/controls",
      "model_module_version": "2.0.0",
      "model_name": "ToggleButtonsModel",
      "state": {
       "_options_labels": [
        "Convert",
        "Clear",
        "Close"
       ],
       "button_style": "primary",
       "icons": [],
       "index": null,
       "layout": "IPY_MODEL_04c269f0e57c4dc8920f5087546d917e",
       "style": "IPY_MODEL_9fb9bc9d9d8e4fc38a1cb49c21260529",
       "tooltips": [
        "Convert",
        "Clear",
        "Close"
       ]
      }
     },
     "ea42087094074cbaa26554a474c2eb7b": {
      "model_module": "@jupyter-widgets/controls",
      "model_module_version": "2.0.0",
      "model_name": "ToggleButtonModel",
      "state": {
       "icon": "wrench",
       "layout": "IPY_MODEL_8bad08c9edfb4a75893fcd402baefa8e",
       "style": "IPY_MODEL_7d650c363a4842698d514390dc218780",
       "tooltip": "Toolbar"
      }
     },
     "ea6447764d5444aeb637e827f58268ca": {
      "model_module": "@jupyter-widgets/controls",
      "model_module_version": "2.0.0",
      "model_name": "ButtonStyleModel",
      "state": {
       "font_family": null,
       "font_size": null,
       "font_style": null,
       "font_variant": null,
       "font_weight": null,
       "text_color": null,
       "text_decoration": null
      }
     },
     "ea720ee95d294a2ea0178021eeb31690": {
      "model_module": "@jupyter-widgets/base",
      "model_module_version": "2.0.0",
      "model_name": "LayoutModel",
      "state": {
       "padding": "0px 8px 0px 8px"
      }
     },
     "ea858f7f39f24a4a932b8162f3b29291": {
      "model_module": "@jupyter-widgets/base",
      "model_module_version": "2.0.0",
      "model_name": "LayoutModel",
      "state": {
       "max_width": "57px",
       "min_width": "57px"
      }
     },
     "ea86b73fa7164c1d96f576b3006eec4c": {
      "model_module": "jupyter-leaflet",
      "model_module_version": "^0.17",
      "model_name": "LeafletAttributionControlModel",
      "state": {
       "_model_module_version": "^0.17",
       "_view_module_version": "^0.17",
       "options": [
        "position",
        "prefix"
       ],
       "position": "bottomright",
       "prefix": "ipyleaflet"
      }
     },
     "ea9a952ad49847c8b8963c6f825ea5a7": {
      "model_module": "@jupyter-widgets/base",
      "model_module_version": "2.0.0",
      "model_name": "LayoutModel",
      "state": {
       "height": "auto",
       "padding": "0px 0px 0px 4px",
       "width": "auto"
      }
     },
     "eaa0cdfb410240f2b37fc87fa4f84a45": {
      "model_module": "jupyter-leaflet",
      "model_module_version": "^0.17",
      "model_name": "LeafletAttributionControlModel",
      "state": {
       "_model_module_version": "^0.17",
       "_view_module_version": "^0.17",
       "options": [
        "position",
        "prefix"
       ],
       "position": "bottomright",
       "prefix": "ipyleaflet"
      }
     },
     "eac308dcc23c4331bd8e4b08d06489eb": {
      "model_module": "@jupyter-widgets/controls",
      "model_module_version": "2.0.0",
      "model_name": "ToggleButtonStyleModel",
      "state": {
       "description_width": "",
       "font_family": null,
       "font_size": null,
       "font_style": null,
       "font_variant": null,
       "font_weight": null,
       "text_color": null,
       "text_decoration": null
      }
     },
     "eaceb37ad23e475aa8e2102e635a6815": {
      "model_module": "@jupyter-widgets/base",
      "model_module_version": "2.0.0",
      "model_name": "LayoutModel",
      "state": {
       "max_width": "57px",
       "min_width": "57px"
      }
     },
     "eacfaa3a0fc1412193cc5b4f4255ed39": {
      "model_module": "@jupyter-widgets/controls",
      "model_module_version": "2.0.0",
      "model_name": "LabelModel",
      "state": {
       "layout": "IPY_MODEL_b31550021a234e178b5cb0232f8ab979",
       "style": "IPY_MODEL_fce9fa00ab8c4210b80c45fb8a67467e",
       "value": "Current Tool: ClipRasterToPolygon"
      }
     },
     "eae463e2b2f2433aa77bb0d642f82e73": {
      "model_module": "@jupyter-widgets/controls",
      "model_module_version": "2.0.0",
      "model_name": "TextStyleModel",
      "state": {
       "description_width": "",
       "font_size": null,
       "text_color": null
      }
     },
     "eb60a1b3f7ed493cbd3b090275b9fcf1": {
      "model_module": "@jupyter-widgets/base",
      "model_module_version": "2.0.0",
      "model_name": "LayoutModel",
      "state": {}
     },
     "eb685791450e40e0ba08591999bc6d2e": {
      "model_module": "@jupyter-widgets/base",
      "model_module_version": "2.0.0",
      "model_name": "LayoutModel",
      "state": {
       "max_width": "279px",
       "min_width": "279px"
      }
     },
     "ebd4827506da4b76881e27da79122787": {
      "model_module": "@jupyter-widgets/base",
      "model_module_version": "2.0.0",
      "model_name": "LayoutModel",
      "state": {}
     },
     "ec027c41ea3444f1a3d6965f1d2660be": {
      "model_module": "@jupyter-widgets/controls",
      "model_module_version": "2.0.0",
      "model_name": "ToggleButtonModel",
      "state": {
       "button_style": "primary",
       "icon": "fast-forward",
       "layout": "IPY_MODEL_ea9a952ad49847c8b8963c6f825ea5a7",
       "style": "IPY_MODEL_f2444499ca9541e6be9c21e28ae79e8f",
       "tooltip": "Activate timeslider"
      }
     },
     "ec07e8003ea549aaa450d1822823877a": {
      "model_module": "@jupyter-widgets/base",
      "model_module_version": "2.0.0",
      "model_name": "LayoutModel",
      "state": {}
     },
     "ec187407200f4114b7b8e3a197ae4076": {
      "model_module": "@jupyter-widgets/controls",
      "model_module_version": "2.0.0",
      "model_name": "RadioButtonsModel",
      "state": {
       "index": null,
       "layout": "IPY_MODEL_6a456020171848a69177d2a5cdd2b9c2",
       "style": "IPY_MODEL_28c8e5e507214173852636ec4ed91f2c"
      }
     },
     "ec28cf2622734a5ba0ac9d248f7472a7": {
      "model_module": "@jupyter-widgets/base",
      "model_module_version": "2.0.0",
      "model_name": "LayoutModel",
      "state": {}
     },
     "ec4ff8d9f33a4eb8b90f25c0e410703a": {
      "model_module": "@jupyter-widgets/controls",
      "model_module_version": "2.0.0",
      "model_name": "ToggleButtonModel",
      "state": {
       "icon": "server",
       "layout": "IPY_MODEL_b28b085c380a435daf7ba19876b670ea",
       "style": "IPY_MODEL_d09188395b4c4930827cfb29309c89c2",
       "tooltip": "Layers"
      }
     },
     "ec6840481db14c628a89288183fc0d07": {
      "model_module": "@jupyter-widgets/controls",
      "model_module_version": "2.0.0",
      "model_name": "ToggleButtonStyleModel",
      "state": {
       "description_width": "",
       "font_family": null,
       "font_size": null,
       "font_style": null,
       "font_variant": null,
       "font_weight": null,
       "text_color": null,
       "text_decoration": null
      }
     },
     "ec7ba34ebd0348b989c9d9b1bbc26635": {
      "model_module": "jupyter-leaflet",
      "model_module_version": "^0.17",
      "model_name": "LeafletMapStyleModel",
      "state": {
       "_model_module_version": "^0.17"
      }
     },
     "ecb249fb967e4e7b9a862a113198cd50": {
      "model_module": "@jupyter-widgets/base",
      "model_module_version": "2.0.0",
      "model_name": "LayoutModel",
      "state": {
       "height": "auto",
       "padding": "0px 0px 0px 4px",
       "width": "auto"
      }
     },
     "ecc99d007a7c463baeef70c178e93f60": {
      "model_module": "@jupyter-widgets/controls",
      "model_module_version": "2.0.0",
      "model_name": "ToggleButtonModel",
      "state": {
       "button_style": "primary",
       "icon": "info-circle",
       "layout": "IPY_MODEL_a42f01054b0f4d2bb248423cac06a6fa",
       "style": "IPY_MODEL_7d8b794dafab4b2e856abc3d484398cd",
       "tooltip": "Get COG/STAC pixel value"
      }
     },
     "ed00dffbe1bc46738a8ede74b4cd36f8": {
      "model_module": "@jupyter-widgets/controls",
      "model_module_version": "2.0.0",
      "model_name": "ToggleButtonStyleModel",
      "state": {
       "description_width": "",
       "font_family": null,
       "font_size": null,
       "font_style": null,
       "font_variant": null,
       "font_weight": null,
       "text_color": null,
       "text_decoration": null
      }
     },
     "ed3d8bbff1984fc4a414e8e13a0cd631": {
      "model_module": "@jupyter-widgets/controls",
      "model_module_version": "2.0.0",
      "model_name": "ToggleButtonStyleModel",
      "state": {
       "description_width": "",
       "font_family": null,
       "font_size": null,
       "font_style": null,
       "font_variant": null,
       "font_weight": null,
       "text_color": null,
       "text_decoration": null
      }
     },
     "ed5b359224aa49acb4e9fa9f3d89e095": {
      "model_module": "@jupyter-widgets/controls",
      "model_module_version": "2.0.0",
      "model_name": "HBoxModel",
      "state": {
       "_view_count": 0,
       "children": [
        "IPY_MODEL_051dc65ed23249f5bbbf893e7dd5f6b3"
       ],
       "layout": "IPY_MODEL_f1ebfbedce0c4b12ad727139fcdaf829"
      }
     },
     "ed7f8f5d23004cf3b1f8eea36b936f34": {
      "model_module": "@jupyter-widgets/controls",
      "model_module_version": "2.0.0",
      "model_name": "RadioButtonsModel",
      "state": {
       "index": null,
       "layout": "IPY_MODEL_8fa5d6fb1b8c45ef9bac3977dfc0de67",
       "style": "IPY_MODEL_abefcfa5b29a40db8e87d7ba1c8ddc31"
      }
     },
     "ed8dfbb9ad02495f8b90731810dee8a2": {
      "model_module": "@jupyter-widgets/controls",
      "model_module_version": "2.0.0",
      "model_name": "ToggleButtonStyleModel",
      "state": {
       "description_width": "",
       "font_family": null,
       "font_size": null,
       "font_style": null,
       "font_variant": null,
       "font_weight": null,
       "text_color": null,
       "text_decoration": null
      }
     },
     "edc894afe83142e9b8b60d19db456b02": {
      "model_module": "@jupyter-widgets/controls",
      "model_module_version": "2.0.0",
      "model_name": "DescriptionStyleModel",
      "state": {
       "description_width": ""
      }
     },
     "ee167dbec550484895174732769da191": {
      "model_module": "@jupyter-widgets/controls",
      "model_module_version": "2.0.0",
      "model_name": "ToggleButtonStyleModel",
      "state": {
       "description_width": "",
       "font_family": null,
       "font_size": null,
       "font_style": null,
       "font_variant": null,
       "font_weight": null,
       "text_color": null,
       "text_decoration": null
      }
     },
     "ee255efab8b24a0092068b25013d64c8": {
      "model_module": "@jupyter-widgets/base",
      "model_module_version": "2.0.0",
      "model_name": "LayoutModel",
      "state": {
       "height": "auto",
       "padding": "0px 0px 0px 4px",
       "width": "auto"
      }
     },
     "ee3e372409da449991d67f57ea725a71": {
      "model_module": "@jupyter-widgets/base",
      "model_module_version": "2.0.0",
      "model_name": "LayoutModel",
      "state": {}
     },
     "ee69d2b7ac964908b6677d9dbc3c1013": {
      "model_module": "@jupyter-widgets/controls",
      "model_module_version": "2.0.0",
      "model_name": "ToggleButtonStyleModel",
      "state": {
       "description_width": "",
       "font_family": null,
       "font_size": null,
       "font_style": null,
       "font_variant": null,
       "font_weight": null,
       "text_color": null,
       "text_decoration": null
      }
     },
     "eeedb673c29a4379a19517e4bb3ec749": {
      "model_module": "@jupyter-widgets/base",
      "model_module_version": "2.0.0",
      "model_name": "LayoutModel",
      "state": {
       "height": "auto",
       "padding": "0px 0px 0px 4px",
       "width": "auto"
      }
     },
     "eef281026714414cb18e01ce61696baf": {
      "model_module": "@jupyter-widgets/controls",
      "model_module_version": "2.0.0",
      "model_name": "ToggleButtonStyleModel",
      "state": {
       "description_width": "",
       "font_family": null,
       "font_size": null,
       "font_style": null,
       "font_variant": null,
       "font_weight": null,
       "text_color": null,
       "text_decoration": null
      }
     },
     "ef0b25029b434d488dd9830196a2cf37": {
      "model_module": "@jupyter-widgets/controls",
      "model_module_version": "2.0.0",
      "model_name": "ButtonStyleModel",
      "state": {
       "font_family": null,
       "font_size": null,
       "font_style": null,
       "font_variant": null,
       "font_weight": null,
       "text_color": null,
       "text_decoration": null
      }
     },
     "ef197fa5542c4de78a888e8092ddd733": {
      "model_module": "@jupyter-widgets/controls",
      "model_module_version": "2.0.0",
      "model_name": "ToggleButtonModel",
      "state": {
       "icon": "server",
       "layout": "IPY_MODEL_51f1d49e9415427a9f66119276c2f064",
       "style": "IPY_MODEL_c88f0270abc447d881c2bdc06bc8ee11",
       "tooltip": "Layers"
      }
     },
     "ef2b17e786f1480c9acbb1ebfd8f0065": {
      "model_module": "@jupyter-widgets/controls",
      "model_module_version": "2.0.0",
      "model_name": "ToggleButtonStyleModel",
      "state": {
       "description_width": "",
       "font_family": null,
       "font_size": null,
       "font_style": null,
       "font_variant": null,
       "font_weight": null,
       "text_color": null,
       "text_decoration": null
      }
     },
     "ef56b9c25f8a4310a8a7219cc87c6d2a": {
      "model_module": "@jupyter-widgets/controls",
      "model_module_version": "2.0.0",
      "model_name": "ToggleButtonStyleModel",
      "state": {
       "description_width": "",
       "font_family": null,
       "font_size": null,
       "font_style": null,
       "font_variant": null,
       "font_weight": null,
       "text_color": null,
       "text_decoration": null
      }
     },
     "ef6b1faaab084fb58202b8295ccc5bf4": {
      "model_module": "@jupyter-widgets/controls",
      "model_module_version": "2.0.0",
      "model_name": "HBoxModel",
      "state": {
       "children": [
        "IPY_MODEL_d89e115ceb734db3a2d2638d35b3334e",
        "IPY_MODEL_c86acd2310224382ab96445606537d8f"
       ],
       "layout": "IPY_MODEL_e598a5d86d1f4bb9870e0d1acb4bed26"
      }
     },
     "ef7193b340ff4271a748c3669e016dc2": {
      "model_module": "@jupyter-widgets/controls",
      "model_module_version": "2.0.0",
      "model_name": "ToggleButtonModel",
      "state": {
       "button_style": "primary",
       "icon": "hand-o-up",
       "layout": "IPY_MODEL_365dd9c2916d487c933ecaa6bf52fc01",
       "style": "IPY_MODEL_647f65f7428a435880a8daa48bcdd954",
       "tooltip": "Collect training samples"
      }
     },
     "ef914d4de30d4e00883bcb7501e78da2": {
      "model_module": "@jupyter-widgets/controls",
      "model_module_version": "2.0.0",
      "model_name": "ToggleButtonModel",
      "state": {
       "button_style": "primary",
       "icon": "info-circle",
       "layout": "IPY_MODEL_643c44db9f42406685e734fd283505ae",
       "style": "IPY_MODEL_51391486b7364a53a77f5e2d11216275",
       "tooltip": "Get COG/STAC pixel value"
      }
     },
     "ef9a941fc4f0417a8018fc3c24d0f90e": {
      "model_module": "@jupyter-widgets/controls",
      "model_module_version": "2.0.0",
      "model_name": "ToggleButtonModel",
      "state": {
       "icon": "server",
       "layout": "IPY_MODEL_45ca0c5815da47daacf8f2744769b480",
       "style": "IPY_MODEL_17da963e54c74a9dba0827ce0229f409",
       "tooltip": "Layer Manager",
       "value": true
      }
     },
     "efcb4d7aa90644388d8f7854cceb760a": {
      "model_module": "@jupyter-widgets/controls",
      "model_module_version": "2.0.0",
      "model_name": "VBoxModel",
      "state": {
       "_view_count": 0,
       "children": [
        "IPY_MODEL_72ee1addcb1644d58f37130282da50bd"
       ],
       "layout": "IPY_MODEL_d219ac6056df4b9880063dbb6aacc559"
      }
     },
     "efe2210966db4483ad594c4a26c5b7ea": {
      "model_module": "@jupyter-widgets/controls",
      "model_module_version": "2.0.0",
      "model_name": "ToggleButtonStyleModel",
      "state": {
       "description_width": "",
       "font_family": null,
       "font_size": null,
       "font_style": null,
       "font_variant": null,
       "font_weight": null,
       "text_color": null,
       "text_decoration": null
      }
     },
     "efe6162c4d384aaf9cd81248657757f3": {
      "model_module": "@jupyter-widgets/controls",
      "model_module_version": "2.0.0",
      "model_name": "DropdownModel",
      "state": {
       "index": null,
       "layout": "IPY_MODEL_9832cd3c43b44af3960313c00e14da01",
       "style": "IPY_MODEL_85ad85688a5649e4b4d4f9f5ab2ef111"
      }
     },
     "f0064a5521e0431eb94e68c3af3ee535": {
      "model_module": "@jupyter-widgets/base",
      "model_module_version": "2.0.0",
      "model_name": "LayoutModel",
      "state": {
       "height": "auto",
       "padding": "0px 0px 0px 4px",
       "width": "auto"
      }
     },
     "f01be20d3062411182ec799ed2825a6d": {
      "model_module": "@jupyter-widgets/base",
      "model_module_version": "2.0.0",
      "model_name": "LayoutModel",
      "state": {
       "height": "auto",
       "padding": "0px 0px 0px 4px",
       "width": "auto"
      }
     },
     "f0a5dc3c3ba440288b9392e0046f6692": {
      "model_module": "@jupyter-widgets/controls",
      "model_module_version": "2.0.0",
      "model_name": "TextModel",
      "state": {
       "layout": "IPY_MODEL_39dc0b86cc16440889b11965ab3f749f",
       "placeholder": "Search by place name or address",
       "style": "IPY_MODEL_23e2d3d052964c8b8b5d29bfaff61939",
       "tooltip": "Search location"
      }
     },
     "f0bedefb56344ca7b0d0d6669141677a": {
      "model_module": "@jupyter-widgets/base",
      "model_module_version": "2.0.0",
      "model_name": "LayoutModel",
      "state": {
       "height": "28px",
       "padding": "0px 0px 0px 4px",
       "width": "28px"
      }
     },
     "f0de629ab7254288a175921e375938bd": {
      "model_module": "@jupyter-widgets/base",
      "model_module_version": "2.0.0",
      "model_name": "LayoutModel",
      "state": {
       "max_width": "279px",
       "min_width": "279px"
      }
     },
     "f1311716ea8c44f6ac469c0a495017f4": {
      "model_module": "@jupyter-widgets/controls",
      "model_module_version": "2.0.0",
      "model_name": "ToggleButtonStyleModel",
      "state": {
       "description_width": "",
       "font_family": null,
       "font_size": null,
       "font_style": null,
       "font_variant": null,
       "font_weight": null,
       "text_color": null,
       "text_decoration": null
      }
     },
     "f16827561097495cb792b4ec91538fa2": {
      "model_module": "@jupyter-widgets/controls",
      "model_module_version": "2.0.0",
      "model_name": "ToggleButtonsModel",
      "state": {
       "_options_labels": [
        "name/address",
        "lat-lon",
        "data"
       ],
       "button_style": "",
       "icons": [],
       "index": 0,
       "layout": "IPY_MODEL_35c6c6178c1d4b8e8c8e27a65942568d",
       "style": "IPY_MODEL_745b21b4a3c1427099a9660c29cce8cb",
       "tooltips": [
        "Search by place name or address",
        "Search by lat-lon coordinates",
        "Search Earth Engine data catalog"
       ]
      }
     },
     "f1b201cf119f408ea7e059cd09316837": {
      "model_module": "@jupyter-widgets/controls",
      "model_module_version": "2.0.0",
      "model_name": "CheckboxModel",
      "state": {
       "description": "Maintain input raster dimensions?",
       "disabled": false,
       "layout": "IPY_MODEL_d214f507d75148d5a2abc8985c9331f8",
       "style": "IPY_MODEL_131035e7430b49098cc1fcca5c3cb80c",
       "value": true
      }
     },
     "f1ebfbedce0c4b12ad727139fcdaf829": {
      "model_module": "@jupyter-widgets/base",
      "model_module_version": "2.0.0",
      "model_name": "LayoutModel",
      "state": {}
     },
     "f200fd362e3d4791a0441f409ec0ed9e": {
      "model_module": "@jupyter-widgets/base",
      "model_module_version": "2.0.0",
      "model_name": "LayoutModel",
      "state": {}
     },
     "f21ab972615040c09bd99102fc866348": {
      "model_module": "@jupyter-widgets/base",
      "model_module_version": "2.0.0",
      "model_name": "LayoutModel",
      "state": {
       "height": "18px",
       "width": "140px"
      }
     },
     "f21c30a4bfd74eaba8855ed9352dd5aa": {
      "model_module": "@jupyter-widgets/output",
      "model_module_version": "1.0.0",
      "model_name": "OutputModel",
      "state": {
       "layout": "IPY_MODEL_106a8c6229c04865b1de695c61fda38c"
      }
     },
     "f22165e415b5429c87588fdb121b8466": {
      "model_module": "@jupyter-widgets/controls",
      "model_module_version": "2.0.0",
      "model_name": "ToggleButtonModel",
      "state": {
       "icon": "server",
       "layout": "IPY_MODEL_c5253b01f1594f4f83795f31a3e9ecd1",
       "style": "IPY_MODEL_a08b05958af247a4bfb6f113116e4bda",
       "tooltip": "Layers"
      }
     },
     "f23fa56e07dc4f5e92d0872a3667818f": {
      "model_module": "@jupyter-widgets/controls",
      "model_module_version": "2.0.0",
      "model_name": "HBoxModel",
      "state": {
       "children": [
        "IPY_MODEL_382e671b16d24499a1b1cedfdc76fe6c",
        "IPY_MODEL_05b563c3496f4fab8be1e51c9bb713e4",
        "IPY_MODEL_608b121165b4451fab3d2c249ecd7945"
       ],
       "layout": "IPY_MODEL_94b3759dcca149b2bc4cb10f38cf8b90"
      }
     },
     "f2444499ca9541e6be9c21e28ae79e8f": {
      "model_module": "@jupyter-widgets/controls",
      "model_module_version": "2.0.0",
      "model_name": "ToggleButtonStyleModel",
      "state": {
       "description_width": "",
       "font_family": null,
       "font_size": null,
       "font_style": null,
       "font_variant": null,
       "font_weight": null,
       "text_color": null,
       "text_decoration": null
      }
     },
     "f28220ef6ee942df8bbe208d5ccd28c5": {
      "model_module": "@jupyter-widgets/controls",
      "model_module_version": "2.0.0",
      "model_name": "ToggleButtonStyleModel",
      "state": {
       "description_width": "",
       "font_family": null,
       "font_size": null,
       "font_style": null,
       "font_variant": null,
       "font_weight": null,
       "text_color": null,
       "text_decoration": null
      }
     },
     "f29a69a0e9fe4f1fb3b9b93d4e64c383": {
      "model_module": "@jupyter-widgets/controls",
      "model_module_version": "2.0.0",
      "model_name": "ButtonStyleModel",
      "state": {
       "font_family": null,
       "font_size": null,
       "font_style": null,
       "font_variant": null,
       "font_weight": null,
       "text_color": null,
       "text_decoration": null
      }
     },
     "f2a8a6b6be5b41ca85fdc7993beaa343": {
      "model_module": "@jupyter-widgets/controls",
      "model_module_version": "2.0.0",
      "model_name": "HTMLStyleModel",
      "state": {
       "description_width": "",
       "font_size": null,
       "text_color": null
      }
     },
     "f2b04dc06c6f49ac9f96be2be432e40b": {
      "model_module": "@jupyter-widgets/controls",
      "model_module_version": "2.0.0",
      "model_name": "ToggleButtonStyleModel",
      "state": {
       "description_width": "",
       "font_family": null,
       "font_size": null,
       "font_style": null,
       "font_variant": null,
       "font_weight": null,
       "text_color": null,
       "text_decoration": null
      }
     },
     "f2b10eade7304c78a4eed3c04eb448c3": {
      "model_module": "@jupyter-widgets/controls",
      "model_module_version": "2.0.0",
      "model_name": "ToggleButtonsModel",
      "state": {
       "_options_labels": [
        "name/address",
        "lat-lon",
        "data"
       ],
       "button_style": "",
       "icons": [],
       "index": 0,
       "layout": "IPY_MODEL_27f09070fe5140eab3f26d84aad9d114",
       "style": "IPY_MODEL_30bb295d359e4999b4122bfefe38ba48",
       "tooltips": [
        "Search by place name or address",
        "Search by lat-lon coordinates",
        "Search Earth Engine data catalog"
       ]
      }
     },
     "f2d8e18392f247168777de7aa271e0bf": {
      "model_module": "@jupyter-widgets/base",
      "model_module_version": "2.0.0",
      "model_name": "LayoutModel",
      "state": {
       "height": "28px",
       "padding": "0px 0px 0px 4px",
       "width": "28px"
      }
     },
     "f2db3c5914ae4d10920b915fd66d0826": {
      "model_module": "@jupyter-widgets/base",
      "model_module_version": "2.0.0",
      "model_name": "LayoutModel",
      "state": {
       "height": "auto",
       "padding": "0px 0px 0px 4px",
       "width": "auto"
      }
     },
     "f2ec5823e9024173a2322fb07cfefdf5": {
      "model_module": "ipyevents",
      "model_module_version": "2.0.1",
      "model_name": "EventModel",
      "state": {
       "_supported_key_events": [
        "keydown",
        "keyup"
       ],
       "_supported_mouse_events": [
        "click",
        "auxclick",
        "dblclick",
        "mouseenter",
        "mouseleave",
        "mousedown",
        "mouseup",
        "mousemove",
        "wheel",
        "contextmenu",
        "dragstart",
        "drag",
        "dragend",
        "dragenter",
        "dragover",
        "dragleave",
        "drop"
       ],
       "_supported_touch_events": [
        "touchstart",
        "touchend",
        "touchmove",
        "touchcancel"
       ],
       "_view_module": "@jupyter-widgets/controls",
       "source": "IPY_MODEL_e5ec20f7f453428b8672b8a9539dc149",
       "throttle_or_debounce": "",
       "watched_events": [
        "mouseenter",
        "mouseleave"
       ],
       "xy_coordinate_system": ""
      }
     },
     "f312a1e9869f4072b2b90b91baaf420f": {
      "model_module": "@jupyter-widgets/base",
      "model_module_version": "2.0.0",
      "model_name": "LayoutModel",
      "state": {}
     },
     "f34d88b61b4641ad917075a61e543cc3": {
      "model_module": "@jupyter-widgets/base",
      "model_module_version": "2.0.0",
      "model_name": "LayoutModel",
      "state": {}
     },
     "f3919cb2104241f98a24981644fead89": {
      "model_module": "@jupyter-widgets/controls",
      "model_module_version": "2.0.0",
      "model_name": "ToggleButtonModel",
      "state": {
       "icon": "server",
       "layout": "IPY_MODEL_bcf842c06e2246258659af2a29ef922c",
       "style": "IPY_MODEL_280b74728b1c45ae866dc8eb85dbc608",
       "tooltip": "Layers"
      }
     },
     "f3a76a0d8cd841dea61704c4c0ad4a46": {
      "model_module": "@jupyter-widgets/controls",
      "model_module_version": "2.0.0",
      "model_name": "ToggleButtonStyleModel",
      "state": {
       "description_width": "",
       "font_family": null,
       "font_size": null,
       "font_style": null,
       "font_variant": null,
       "font_weight": null,
       "text_color": null,
       "text_decoration": null
      }
     },
     "f3c9543f63ae4d4ea569ab05b8ec331e": {
      "model_module": "@jupyter-widgets/controls",
      "model_module_version": "2.0.0",
      "model_name": "TextStyleModel",
      "state": {
       "description_width": "",
       "font_size": null,
       "text_color": null
      }
     },
     "f41daf7396f14a0598a98129aea40341": {
      "model_module": "jupyter-leaflet",
      "model_module_version": "^0.17",
      "model_name": "LeafletAttributionControlModel",
      "state": {
       "_model_module_version": "^0.17",
       "_view_module_version": "^0.17",
       "options": [
        "position",
        "prefix"
       ],
       "position": "bottomright",
       "prefix": "ipyleaflet"
      }
     },
     "f43d9d42e81845b2872b0a7fdce6cb3b": {
      "model_module": "@jupyter-widgets/base",
      "model_module_version": "2.0.0",
      "model_name": "LayoutModel",
      "state": {
       "height": "auto",
       "padding": "0px 0px 0px 4px",
       "width": "auto"
      }
     },
     "f449f0c0c81244a189bb56d851ab9cba": {
      "model_module": "@jupyter-widgets/base",
      "model_module_version": "2.0.0",
      "model_name": "LayoutModel",
      "state": {}
     },
     "f47c08b197b244fc8a5c947f63e6bf5e": {
      "model_module": "jupyter-leaflet",
      "model_module_version": "^0.17",
      "model_name": "LeafletDrawControlModel",
      "state": {
       "_model_module_version": "^0.17",
       "_view_module_version": "^0.17",
       "marker": {
        "shapeOptions": {
         "color": "#3388ff"
        }
       },
       "options": [
        "position"
       ],
       "rectangle": {
        "shapeOptions": {
         "color": "#3388ff"
        }
       }
      }
     },
     "f4d2f3e99fac4188b5d016f60720aba7": {
      "model_module": "@jupyter-widgets/base",
      "model_module_version": "2.0.0",
      "model_name": "LayoutModel",
      "state": {
       "max_height": "350px",
       "max_width": "340px",
       "overflow": "scroll"
      }
     },
     "f4f0c190341f4ec2a764fce79091a9fb": {
      "model_module": "@jupyter-widgets/controls",
      "model_module_version": "2.0.0",
      "model_name": "TextStyleModel",
      "state": {
       "description_width": "",
       "font_size": null,
       "text_color": null
      }
     },
     "f519809956a24592bfc71f75ad3bcb9a": {
      "model_module": "@jupyter-widgets/base",
      "model_module_version": "2.0.0",
      "model_name": "LayoutModel",
      "state": {}
     },
     "f53e5eea823c46ec81ca48573395780a": {
      "model_module": "@jupyter-widgets/controls",
      "model_module_version": "2.0.0",
      "model_name": "DropdownModel",
      "state": {
       "index": null,
       "layout": "IPY_MODEL_22f0a525d2154227b4c518321fe04b47",
       "style": "IPY_MODEL_3547dad7fb38466f8ac5a4712ebbaac1"
      }
     },
     "f542216a1c594384aba5b8ff1c5e2622": {
      "model_module": "@jupyter-widgets/controls",
      "model_module_version": "2.0.0",
      "model_name": "GridBoxModel",
      "state": {
       "children": [
        "IPY_MODEL_483186ac68854172a192587672944353",
        "IPY_MODEL_b9da06e0efa44b5d95128d26233a0586",
        "IPY_MODEL_6a831344e57246ecb8a377a25749f4cd",
        "IPY_MODEL_6f77ec8e9ee24ee5a869cc512219e4fc",
        "IPY_MODEL_caa4c107ee4e421fa3f18403f9e280d8",
        "IPY_MODEL_c47720a0770247048da9ddc05befeda2"
       ],
       "layout": "IPY_MODEL_4188def02e964dec940b898f42b4a673"
      }
     },
     "f56534f4eca34a2989a22ba946da3ca0": {
      "model_module": "@jupyter-widgets/controls",
      "model_module_version": "2.0.0",
      "model_name": "HBoxModel",
      "state": {
       "children": [
        "IPY_MODEL_091b0eb2602146e99e726089ea4ac19c",
        "IPY_MODEL_76cc9a1207fc49f1b5c4bd8e26ef2ac2"
       ],
       "layout": "IPY_MODEL_cf3202f151c74b708649222da4873d3f"
      }
     },
     "f570a42670a44ae7af29c28330319498": {
      "model_module": "jupyter-leaflet",
      "model_module_version": "^0.17",
      "model_name": "LeafletMapModel",
      "state": {
       "_model_module_version": "^0.17",
       "_view_module_version": "^0.17",
       "center": [
        28.647210004919998,
        77.11303710937501
       ],
       "controls": [
        "IPY_MODEL_4031b0266329471e91afc9fe36af7eb7",
        "IPY_MODEL_9d40d2ccfde14ab396fb77674a16c651",
        "IPY_MODEL_405049a97542414a8f083490b9f81001",
        "IPY_MODEL_fbea3984dfe541fcb5bb0c07b7413d5b",
        "IPY_MODEL_b911bec28d0a4b7286f1d68657eb4f43",
        "IPY_MODEL_9621bafa9d054433927ff6f1ef193869",
        "IPY_MODEL_4e1120c849884eb9b72cab84f1c1712d",
        "IPY_MODEL_60d1723a49f047398a42bfa6ba216866"
       ],
       "default_style": "IPY_MODEL_3215b6bf259644c39b92e03b1390b6f2",
       "dragging_style": "IPY_MODEL_bf4996fe833e4ff2837f00fdbea4d52b",
       "east": null,
       "fullscreen": false,
       "interpolation": "bilinear",
       "layers": [
        "IPY_MODEL_66947a6a90814d11ae41e3ed70be947a",
        "IPY_MODEL_bed22473acc04ae8a6f2122e0210c027",
        "IPY_MODEL_444a742a2d564f9597d35c6b7b8963eb",
        "IPY_MODEL_604ef21aa5f24521ba8a6318c54b143e",
        "IPY_MODEL_9b7c5181a0474177be246905cfdda8f9"
       ],
       "layout": "IPY_MODEL_bf800c996ce64bbaa03b6e1abed084ec",
       "max_zoom": 24,
       "modisdate": "2023-10-03",
       "north": -90,
       "options": [
        "bounce_at_zoom_limits",
        "box_zoom",
        "center",
        "close_popup_on_click",
        "double_click_zoom",
        "dragging",
        "fullscreen",
        "inertia",
        "inertia_deceleration",
        "inertia_max_speed",
        "interpolation",
        "keyboard",
        "keyboard_pan_offset",
        "keyboard_zoom_offset",
        "max_zoom",
        "min_zoom",
        "prefer_canvas",
        "scroll_wheel_zoom",
        "tap",
        "tap_tolerance",
        "touch_zoom",
        "world_copy_jump",
        "zoom",
        "zoom_animation_threshold",
        "zoom_delta",
        "zoom_snap"
       ],
       "prefer_canvas": false,
       "scroll_wheel_zoom": true,
       "south": 90,
       "style": "IPY_MODEL_3215b6bf259644c39b92e03b1390b6f2",
       "west": null,
       "window_url": "http://localhost:8888/lab/tree/02India_Analysis/2023October_PaperAnalysis.ipynb",
       "zoom": 8
      }
     },
     "f576da9c97a8497599fb7f7c8ee8a61e": {
      "model_module": "@jupyter-widgets/controls",
      "model_module_version": "2.0.0",
      "model_name": "ToggleButtonStyleModel",
      "state": {
       "description_width": "",
       "font_family": null,
       "font_size": null,
       "font_style": null,
       "font_variant": null,
       "font_weight": null,
       "text_color": null,
       "text_decoration": null
      }
     },
     "f58fe559de1c407193c6224850171d18": {
      "model_module": "jupyter-leaflet",
      "model_module_version": "^0.17",
      "model_name": "LeafletWidgetControlModel",
      "state": {
       "_model_module": "jupyter-leaflet",
       "_model_module_version": "^0.17",
       "_view_count": null,
       "_view_module": "jupyter-leaflet",
       "_view_module_version": "^0.17",
       "options": [
        "position",
        "transparent_bg"
       ],
       "position": "topright",
       "widget": "IPY_MODEL_a6072a00da2242e783c557a13f318328"
      }
     },
     "f5bc85fbaab44cba91cd3d7df39f8de0": {
      "model_module": "@jupyter-widgets/controls",
      "model_module_version": "2.0.0",
      "model_name": "ToggleButtonModel",
      "state": {
       "button_style": "primary",
       "icon": "bar-chart",
       "layout": "IPY_MODEL_a616017bcbae402683cf7e1f1bea54fb",
       "style": "IPY_MODEL_39eecacc9e2248f097e611c8cdc9665c",
       "tooltip": "Plotting"
      }
     },
     "f5c52fe5735d4e84841f057cecf8d8a9": {
      "model_module": "@jupyter-widgets/controls",
      "model_module_version": "2.0.0",
      "model_name": "HTMLModel",
      "state": {
       "layout": "IPY_MODEL_58c0d5485bd14681b0acbacc7c0356ba",
       "style": "IPY_MODEL_febf08e824be44fc85b57103e323275a"
      }
     },
     "f5f0c65ca5474403ab259a22d5cfa19f": {
      "model_module": "@jupyter-widgets/controls",
      "model_module_version": "2.0.0",
      "model_name": "ToggleButtonStyleModel",
      "state": {
       "description_width": "",
       "font_family": null,
       "font_size": null,
       "font_style": null,
       "font_variant": null,
       "font_weight": null,
       "text_color": null,
       "text_decoration": null
      }
     },
     "f5f7ffbb7037427d9314e92ce6257c0e": {
      "model_module": "jupyter-leaflet",
      "model_module_version": "^0.17",
      "model_name": "LeafletZoomControlModel",
      "state": {
       "_model_module_version": "^0.17",
       "_view_module_version": "^0.17",
       "options": [
        "position",
        "zoom_in_text",
        "zoom_in_title",
        "zoom_out_text",
        "zoom_out_title"
       ]
      }
     },
     "f60574b817f34e748ab169bc39c1ee0b": {
      "model_module": "@jupyter-widgets/controls",
      "model_module_version": "2.0.0",
      "model_name": "ToggleButtonModel",
      "state": {
       "button_style": "primary",
       "icon": "hand-o-up",
       "layout": "IPY_MODEL_926891b8b80c4c168fc3f5d5a2f87049",
       "style": "IPY_MODEL_671726fed1b14f7384e49b637dc7ac2e",
       "tooltip": "Collect training samples"
      }
     },
     "f621d06dd921490dad114a3a69fe40db": {
      "model_module": "jupyter-leaflet",
      "model_module_version": "^0.17",
      "model_name": "LeafletAttributionControlModel",
      "state": {
       "_model_module_version": "^0.17",
       "_view_module_version": "^0.17",
       "options": [
        "position",
        "prefix"
       ],
       "position": "bottomright",
       "prefix": "ipyleaflet"
      }
     },
     "f64139b3adb549d7aa2fcfdc327bd36a": {
      "model_module": "@jupyter-widgets/controls",
      "model_module_version": "2.0.0",
      "model_name": "ToggleButtonModel",
      "state": {
       "button_style": "primary",
       "icon": "line-chart",
       "layout": "IPY_MODEL_3f82cc34c72248efaa27a83ace6e5072",
       "style": "IPY_MODEL_a47c1584c8e248c5864c0a36f37da6a7",
       "tooltip": "Creating and plotting transects"
      }
     },
     "f6584b5ee2054f8bb8428370baeb41d4": {
      "model_module": "@jupyter-widgets/controls",
      "model_module_version": "2.0.0",
      "model_name": "LinkModel",
      "state": {
       "source": [
        "IPY_MODEL_8614581c9b514d57b56cc7555ed96641",
        "value"
       ],
       "target": [
        "IPY_MODEL_91e0285af09b4e5ab0c129e71cff85c8",
        "visible"
       ]
      }
     },
     "f664705790574e969ec224e83f03f7c4": {
      "model_module": "@jupyter-widgets/base",
      "model_module_version": "2.0.0",
      "model_name": "LayoutModel",
      "state": {
       "height": "auto",
       "padding": "0px 0px 0px 4px",
       "width": "auto"
      }
     },
     "f67e993be24f43348736018223459b98": {
      "model_module": "@jupyter-widgets/controls",
      "model_module_version": "2.0.0",
      "model_name": "ToggleButtonStyleModel",
      "state": {
       "description_width": "",
       "font_family": null,
       "font_size": null,
       "font_style": null,
       "font_variant": null,
       "font_weight": null,
       "text_color": null,
       "text_decoration": null
      }
     },
     "f681ae24c9454ec6982ffac5b4bb2ab7": {
      "model_module": "@jupyter-widgets/base",
      "model_module_version": "2.0.0",
      "model_name": "LayoutModel",
      "state": {
       "max_width": "57px",
       "min_width": "57px"
      }
     },
     "f6aaf5cf3daf4f2a937d348dbb7a11a8": {
      "model_module": "ipyevents",
      "model_module_version": "2.0.1",
      "model_name": "EventModel",
      "state": {
       "_supported_key_events": [
        "keydown",
        "keyup"
       ],
       "_supported_mouse_events": [
        "click",
        "auxclick",
        "dblclick",
        "mouseenter",
        "mouseleave",
        "mousedown",
        "mouseup",
        "mousemove",
        "wheel",
        "contextmenu",
        "dragstart",
        "drag",
        "dragend",
        "dragenter",
        "dragover",
        "dragleave",
        "drop"
       ],
       "_supported_touch_events": [
        "touchstart",
        "touchend",
        "touchmove",
        "touchcancel"
       ],
       "_view_module": "@jupyter-widgets/controls",
       "source": "IPY_MODEL_bb369d8efb5c46d4b02d337be7d9536a",
       "throttle_or_debounce": "",
       "watched_events": [
        "mouseenter",
        "mouseleave"
       ],
       "xy_coordinate_system": ""
      }
     },
     "f6ef386da6a14dc786b5345cb65e1147": {
      "model_module": "@jupyter-widgets/base",
      "model_module_version": "2.0.0",
      "model_name": "LayoutModel",
      "state": {
       "grid_gap": "1px 1px",
       "grid_template_columns": "32px 32px 32px ",
       "grid_template_rows": "32px 32px 32px 32px 32px ",
       "padding": "5px",
       "width": "109px"
      }
     },
     "f71fc0e3d1044722945026f41bad00fb": {
      "model_module": "@jupyter-widgets/controls",
      "model_module_version": "2.0.0",
      "model_name": "ToggleButtonStyleModel",
      "state": {
       "description_width": "",
       "font_family": null,
       "font_size": null,
       "font_style": null,
       "font_variant": null,
       "font_weight": null,
       "text_color": null,
       "text_decoration": null
      }
     },
     "f729dffddb984e7790cb44bc10e7940b": {
      "model_module": "@jupyter-widgets/base",
      "model_module_version": "2.0.0",
      "model_name": "LayoutModel",
      "state": {
       "height": "600px"
      }
     },
     "f730e51b2f624e23a7b4791dfa90ea53": {
      "model_module": "@jupyter-widgets/controls",
      "model_module_version": "2.0.0",
      "model_name": "ButtonStyleModel",
      "state": {
       "font_family": null,
       "font_size": null,
       "font_style": null,
       "font_variant": null,
       "font_weight": null,
       "text_color": null,
       "text_decoration": null
      }
     },
     "f74be9e4a242423394cf010831785951": {
      "model_module": "@jupyter-widgets/controls",
      "model_module_version": "2.0.0",
      "model_name": "ToggleButtonModel",
      "state": {
       "button_style": "primary",
       "icon": "random",
       "layout": "IPY_MODEL_fd536a3165db49ae96c2994aa485752c",
       "style": "IPY_MODEL_1594ff08ad39449c9f77ce36b1cc7ed1",
       "tooltip": "Sankey plots"
      }
     },
     "f75f39f9c2824767a719114f044781f0": {
      "model_module": "@jupyter-widgets/base",
      "model_module_version": "2.0.0",
      "model_name": "LayoutModel",
      "state": {
       "height": "auto",
       "padding": "0px 0px 0px 4px",
       "width": "auto"
      }
     },
     "f7785f76b09146e3a40ebed173668458": {
      "model_module": "@jupyter-widgets/controls",
      "model_module_version": "2.0.0",
      "model_name": "ToggleButtonStyleModel",
      "state": {
       "description_width": "",
       "font_family": null,
       "font_size": null,
       "font_style": null,
       "font_variant": null,
       "font_weight": null,
       "text_color": null,
       "text_decoration": null
      }
     },
     "f7c3563d8bdb4824bd8b3fe715f2b8ef": {
      "model_module": "@jupyter-widgets/controls",
      "model_module_version": "2.0.0",
      "model_name": "ToggleButtonModel",
      "state": {
       "button_style": "primary",
       "icon": "folder-open",
       "layout": "IPY_MODEL_2c1123e2bc8b42688b343b5170f400c5",
       "style": "IPY_MODEL_fa9ecbdba47a4d6da36ac522fc465ac6",
       "tooltip": "Open local vector/raster data"
      }
     },
     "f7e6c0b6f7c849fb89aff70957c3037e": {
      "model_module": "ipyevents",
      "model_module_version": "2.0.1",
      "model_name": "EventModel",
      "state": {
       "_supported_key_events": [
        "keydown",
        "keyup"
       ],
       "_supported_mouse_events": [
        "click",
        "auxclick",
        "dblclick",
        "mouseenter",
        "mouseleave",
        "mousedown",
        "mouseup",
        "mousemove",
        "wheel",
        "contextmenu",
        "dragstart",
        "drag",
        "dragend",
        "dragenter",
        "dragover",
        "dragleave",
        "drop"
       ],
       "_supported_touch_events": [
        "touchstart",
        "touchend",
        "touchmove",
        "touchcancel"
       ],
       "_view_module": "@jupyter-widgets/controls",
       "source": "IPY_MODEL_d4aaf3d8b10f4e06b1f99a228327a5db",
       "throttle_or_debounce": "",
       "watched_events": [
        "mouseenter",
        "mouseleave"
       ],
       "xy_coordinate_system": ""
      }
     },
     "f7f8dec92f6b4dd383fff44503ae19c1": {
      "model_module": "@jupyter-widgets/base",
      "model_module_version": "2.0.0",
      "model_name": "LayoutModel",
      "state": {}
     },
     "f823433d85a3487a88b6284a859433d0": {
      "model_module": "@jupyter-widgets/base",
      "model_module_version": "2.0.0",
      "model_name": "LayoutModel",
      "state": {
       "height": "auto",
       "padding": "0px 0px 0px 4px",
       "width": "auto"
      }
     },
     "f8246a8c8c7b468b9168670d5ce68987": {
      "model_module": "@jupyter-widgets/controls",
      "model_module_version": "2.0.0",
      "model_name": "ToggleButtonModel",
      "state": {
       "button_style": "primary",
       "icon": "map",
       "layout": "IPY_MODEL_4bf550ddc8cb4b1e8a75ce55f502f1c2",
       "style": "IPY_MODEL_364d93f086ea42bfa6426048017b68a1",
       "tooltip": "Change basemap"
      }
     },
     "f84237e87c634cbfaeb95825704d1b0a": {
      "model_module": "jupyter-leaflet",
      "model_module_version": "^0.17",
      "model_name": "LeafletZoomControlModel",
      "state": {
       "_model_module_version": "^0.17",
       "_view_module_version": "^0.17",
       "options": [
        "position",
        "zoom_in_text",
        "zoom_in_title",
        "zoom_out_text",
        "zoom_out_title"
       ]
      }
     },
     "f85e5a7603394dc5aa7539d8298b9528": {
      "model_module": "@jupyter-widgets/base",
      "model_module_version": "2.0.0",
      "model_name": "LayoutModel",
      "state": {
       "margin": "0 0 0 1em"
      }
     },
     "f87102c7ca424cc1a5c8e31a385c80e2": {
      "model_module": "@jupyter-widgets/controls",
      "model_module_version": "2.0.0",
      "model_name": "ButtonStyleModel",
      "state": {
       "font_family": null,
       "font_size": null,
       "font_style": null,
       "font_variant": null,
       "font_weight": null,
       "text_color": null,
       "text_decoration": null
      }
     },
     "f887551ad9de4b33b7fd865d632f3729": {
      "model_module": "jupyter-leaflet",
      "model_module_version": "^0.17",
      "model_name": "LeafletMeasureControlModel",
      "state": {
       "_model_module_version": "^0.17",
       "_view_module_version": "^0.17",
       "active_color": "orange",
       "options": [
        "active_color",
        "capture_z_index",
        "completed_color",
        "popup_options",
        "position",
        "primary_area_unit",
        "primary_length_unit",
        "secondary_area_unit",
        "secondary_length_unit"
       ],
       "position": "bottomleft",
       "primary_length_unit": "kilometers",
       "secondary_area_unit": null,
       "secondary_length_unit": null
      }
     },
     "f888aa7ca269414a92714ba36e75e449": {
      "model_module": "@jupyter-widgets/controls",
      "model_module_version": "2.0.0",
      "model_name": "DescriptionStyleModel",
      "state": {
       "description_width": ""
      }
     },
     "f8a150b7f9874aa6aabb4d3009b7cfb2": {
      "model_module": "@jupyter-widgets/base",
      "model_module_version": "2.0.0",
      "model_name": "LayoutModel",
      "state": {}
     },
     "f929f099e50a45ce9a2752cbd5b123d3": {
      "model_module": "@jupyter-widgets/controls",
      "model_module_version": "2.0.0",
      "model_name": "ToggleButtonStyleModel",
      "state": {
       "description_width": "",
       "font_family": null,
       "font_size": null,
       "font_style": null,
       "font_variant": null,
       "font_weight": null,
       "text_color": null,
       "text_decoration": null
      }
     },
     "f95347ae1bc2462eb3b1a49f9de9194d": {
      "model_module": "jupyter-leaflet",
      "model_module_version": "^0.17",
      "model_name": "LeafletWidgetControlModel",
      "state": {
       "_model_module": "jupyter-leaflet",
       "_model_module_version": "^0.17",
       "_view_count": null,
       "_view_module": "jupyter-leaflet",
       "_view_module_version": "^0.17",
       "options": [
        "position",
        "transparent_bg"
       ],
       "position": "topleft",
       "widget": "IPY_MODEL_ff00646821214ad38b0607cb6d8ec1a1"
      }
     },
     "f963f9e7013e4369881339c8f0ee4798": {
      "model_module": "jupyter-leaflet",
      "model_module_version": "^0.17",
      "model_name": "LeafletAttributionControlModel",
      "state": {
       "_model_module_version": "^0.17",
       "_view_module_version": "^0.17",
       "options": [
        "position",
        "prefix"
       ],
       "position": "bottomright",
       "prefix": "ipyleaflet"
      }
     },
     "f96e37103eba48a8965cfef1b5a2ec7d": {
      "model_module": "@jupyter-widgets/controls",
      "model_module_version": "2.0.0",
      "model_name": "ToggleButtonStyleModel",
      "state": {
       "description_width": "",
       "font_family": null,
       "font_size": null,
       "font_style": null,
       "font_variant": null,
       "font_weight": null,
       "text_color": null,
       "text_decoration": null
      }
     },
     "f981524f7a1c4e3481eabf5f1b6b74e9": {
      "model_module": "@jupyter-widgets/controls",
      "model_module_version": "2.0.0",
      "model_name": "ToggleButtonModel",
      "state": {
       "button_style": "primary",
       "icon": "gears",
       "layout": "IPY_MODEL_eeedb673c29a4379a19517e4bb3ec749",
       "style": "IPY_MODEL_ce3c0a69169c40ecad5c4f9670390906",
       "tooltip": "WhiteboxTools for local geoprocessing"
      }
     },
     "f9a8056860c94969bcbd9e5fb555cfd3": {
      "model_module": "@jupyter-widgets/base",
      "model_module_version": "2.0.0",
      "model_name": "LayoutModel",
      "state": {
       "height": "auto",
       "padding": "0px 0px 0px 4px",
       "width": "auto"
      }
     },
     "f9bf6701c20a449f94edb0c5a79fe5c7": {
      "model_module": "@jupyter-widgets/base",
      "model_module_version": "2.0.0",
      "model_name": "LayoutModel",
      "state": {
       "height": "auto",
       "padding": "0px 0px 0px 4px",
       "width": "auto"
      }
     },
     "f9dc5f6a5c484106abd08b58f7880fa6": {
      "model_module": "@jupyter-widgets/controls",
      "model_module_version": "2.0.0",
      "model_name": "HTMLModel",
      "state": {
       "layout": "IPY_MODEL_f200fd362e3d4791a0441f409ec0ed9e",
       "style": "IPY_MODEL_f2a8a6b6be5b41ca85fdc7993beaa343",
       "value": "Input File*"
      }
     },
     "f9e25038b7224f9a836f655f5e86eb92": {
      "model_module": "@jupyter-widgets/controls",
      "model_module_version": "2.0.0",
      "model_name": "ToggleButtonModel",
      "state": {
       "button_style": "primary",
       "icon": "hand-o-up",
       "layout": "IPY_MODEL_0b576598fceb4ca296702b227da3731b",
       "style": "IPY_MODEL_7656c72647644bbbb019a1fc5d8d30e1",
       "tooltip": "Collect training samples"
      }
     },
     "fa0fde18b2ae42c682a8c8df7dc4e3ed": {
      "model_module": "jupyter-leaflet",
      "model_module_version": "^0.17",
      "model_name": "LeafletWidgetControlModel",
      "state": {
       "_model_module": "jupyter-leaflet",
       "_model_module_version": "^0.17",
       "_view_count": null,
       "_view_module": "jupyter-leaflet",
       "_view_module_version": "^0.17",
       "options": [
        "position",
        "transparent_bg"
       ],
       "position": "topright",
       "widget": "IPY_MODEL_00a7b82864054d29818e8a0791603aed"
      }
     },
     "fa26b1a763d441309e564a706b5bfd0c": {
      "model_module": "@jupyter-widgets/base",
      "model_module_version": "2.0.0",
      "model_name": "LayoutModel",
      "state": {}
     },
     "fa5e823a38204825b38f7ba6c2d23306": {
      "model_module": "@jupyter-widgets/controls",
      "model_module_version": "2.0.0",
      "model_name": "ButtonModel",
      "state": {
       "button_style": "primary",
       "description": "import",
       "layout": "IPY_MODEL_ab930bb99f48425f89b3866eb779acfe",
       "style": "IPY_MODEL_d81d32acbf114708989df32459ff7b1b",
       "tooltip": "Click to import the selected asset"
      }
     },
     "fa811b3df45442dc93f8e6b796b2b122": {
      "model_module": "@jupyter-widgets/controls",
      "model_module_version": "2.0.0",
      "model_name": "ToggleButtonsStyleModel",
      "state": {
       "button_width": "110px",
       "description_width": ""
      }
     },
     "fa84efe1d29e4c3a806a3d550e83d057": {
      "model_module": "@jupyter-widgets/base",
      "model_module_version": "2.0.0",
      "model_name": "LayoutModel",
      "state": {
       "overflow": "auto"
      }
     },
     "fa9ecbdba47a4d6da36ac522fc465ac6": {
      "model_module": "@jupyter-widgets/controls",
      "model_module_version": "2.0.0",
      "model_name": "ToggleButtonStyleModel",
      "state": {
       "description_width": "",
       "font_family": null,
       "font_size": null,
       "font_style": null,
       "font_variant": null,
       "font_weight": null,
       "text_color": null,
       "text_decoration": null
      }
     },
     "fa9f8c36f8ee436782c6a02aa7b84b0b": {
      "model_module": "@jupyter-widgets/base",
      "model_module_version": "2.0.0",
      "model_name": "LayoutModel",
      "state": {
       "max_width": "57px",
       "min_width": "57px"
      }
     },
     "faa734f553904eb98a7ed1256d98b234": {
      "model_module": "@jupyter-widgets/controls",
      "model_module_version": "2.0.0",
      "model_name": "ToggleButtonStyleModel",
      "state": {
       "description_width": "",
       "font_family": null,
       "font_size": null,
       "font_style": null,
       "font_variant": null,
       "font_weight": null,
       "text_color": null,
       "text_decoration": null
      }
     },
     "fad62156599a4cbca4c424abd664490a": {
      "model_module": "@jupyter-widgets/controls",
      "model_module_version": "2.0.0",
      "model_name": "ToggleButtonStyleModel",
      "state": {
       "description_width": "",
       "font_family": null,
       "font_size": null,
       "font_style": null,
       "font_variant": null,
       "font_weight": null,
       "text_color": null,
       "text_decoration": null
      }
     },
     "fb530312165240e595803bcd50bd3bc1": {
      "model_module": "@jupyter-widgets/base",
      "model_module_version": "2.0.0",
      "model_name": "LayoutModel",
      "state": {
       "grid_area": "dircontent",
       "width": "auto"
      }
     },
     "fb6576cd95a6418dbf4f0263fbd63ecc": {
      "model_module": "@jupyter-widgets/base",
      "model_module_version": "2.0.0",
      "model_name": "LayoutModel",
      "state": {
       "height": "auto",
       "padding": "0px 0px 0px 4px",
       "width": "auto"
      }
     },
     "fb80c1b990494fd2aa6c37f91d805509": {
      "model_module": "jupyter-leaflet",
      "model_module_version": "^0.17",
      "model_name": "LeafletWidgetControlModel",
      "state": {
       "_model_module": "jupyter-leaflet",
       "_model_module_version": "^0.17",
       "_view_count": null,
       "_view_module": "jupyter-leaflet",
       "_view_module_version": "^0.17",
       "options": [
        "position",
        "transparent_bg"
       ],
       "position": "topleft",
       "widget": "IPY_MODEL_b6540b6350d04fa4a402c39c113b4e95"
      }
     },
     "fb972d96efd04fe8b7b8fb7bac51b6b2": {
      "model_module": "@jupyter-widgets/base",
      "model_module_version": "2.0.0",
      "model_name": "LayoutModel",
      "state": {}
     },
     "fb9c99196f36487b839c43c511bb1732": {
      "model_module": "@jupyter-widgets/base",
      "model_module_version": "2.0.0",
      "model_name": "LayoutModel",
      "state": {
       "height": "auto",
       "padding": "0px 0px 0px 4px",
       "width": "auto"
      }
     },
     "fbea3984dfe541fcb5bb0c07b7413d5b": {
      "model_module": "jupyter-leaflet",
      "model_module_version": "^0.17",
      "model_name": "LeafletDrawControlModel",
      "state": {
       "_model_module_version": "^0.17",
       "_view_module_version": "^0.17",
       "marker": {
        "shapeOptions": {
         "color": "#3388ff"
        }
       },
       "options": [
        "position"
       ],
       "polygon": {
        "shapeOptions": {
         "clickable": true,
         "color": "#3388ff",
         "fill": true,
         "fillColor": null,
         "fillOpacity": 0.2,
         "opacity": 0.5,
         "stroke": true,
         "weight": 4
        }
       },
       "polyline": {
        "shapeOptions": {
         "clickable": true,
         "color": "#3388ff",
         "fill": false,
         "opacity": 0.5,
         "stroke": true,
         "weight": 4
        }
       },
       "rectangle": {
        "shapeOptions": {
         "clickable": true,
         "color": "#3388ff",
         "fill": true,
         "fillColor": null,
         "fillOpacity": 0.2,
         "opacity": 0.5,
         "stroke": true,
         "weight": 4
        }
       }
      }
     },
     "fc0cf95611f148be8c4ebfcf8a11894f": {
      "model_module": "@jupyter-widgets/controls",
      "model_module_version": "2.0.0",
      "model_name": "ToggleButtonModel",
      "state": {
       "button_style": "primary",
       "icon": "bar-chart",
       "layout": "IPY_MODEL_d56e2d91c07940918659d5e6ca0c5a21",
       "style": "IPY_MODEL_cfd5000dd36140b197889905991c140f",
       "tooltip": "Plotting"
      }
     },
     "fc0e4827771a46d7a718dfb2a16ce72c": {
      "model_module": "@jupyter-widgets/controls",
      "model_module_version": "2.0.0",
      "model_name": "ToggleButtonStyleModel",
      "state": {
       "description_width": "",
       "font_family": null,
       "font_size": null,
       "font_style": null,
       "font_variant": null,
       "font_weight": null,
       "text_color": null,
       "text_decoration": null
      }
     },
     "fc712cc0a9234d7a8d07addd47aa14b0": {
      "model_module": "@jupyter-widgets/base",
      "model_module_version": "2.0.0",
      "model_name": "LayoutModel",
      "state": {
       "height": "auto",
       "padding": "0px 0px 0px 4px",
       "width": "auto"
      }
     },
     "fcb3bb499307434688fb00631f75c8ec": {
      "model_module": "@jupyter-widgets/controls",
      "model_module_version": "2.0.0",
      "model_name": "ToggleButtonModel",
      "state": {
       "button_style": "primary",
       "icon": "gears",
       "layout": "IPY_MODEL_a28f50def8254379b23c549cb98f3a0f",
       "style": "IPY_MODEL_2d8632e93c8e48769b46a8327a12719a",
       "tooltip": "WhiteboxTools for local geoprocessing",
       "value": true
      }
     },
     "fcb496ccf5e84d45aa73674f0b3a80e3": {
      "model_module": "@jupyter-widgets/controls",
      "model_module_version": "2.0.0",
      "model_name": "ToggleButtonModel",
      "state": {
       "icon": "server",
       "layout": "IPY_MODEL_99a4fa05ce624c14adbf9b096f0417c3",
       "style": "IPY_MODEL_95822d35a3544e24a81f000945c58a08",
       "tooltip": "Layers"
      }
     },
     "fcde865d7c1a4bb0a24521f2a1361e75": {
      "model_module": "jupyter-leaflet",
      "model_module_version": "^0.17",
      "model_name": "LeafletScaleControlModel",
      "state": {
       "_model_module_version": "^0.17",
       "_view_module_version": "^0.17",
       "imperial": true,
       "max_width": 100,
       "metric": true,
       "options": [
        "imperial",
        "max_width",
        "metric",
        "position",
        "update_when_idle"
       ],
       "position": "bottomleft",
       "update_when_idle": false
      }
     },
     "fce9fa00ab8c4210b80c45fb8a67467e": {
      "model_module": "@jupyter-widgets/controls",
      "model_module_version": "2.0.0",
      "model_name": "LabelStyleModel",
      "state": {
       "description_width": "initial",
       "font_family": null,
       "font_size": null,
       "font_style": null,
       "font_variant": null,
       "font_weight": null,
       "text_color": null,
       "text_decoration": null
      }
     },
     "fd46a6d910bd4677afd9f77dd5c646d9": {
      "model_module": "@jupyter-widgets/base",
      "model_module_version": "2.0.0",
      "model_name": "LayoutModel",
      "state": {}
     },
     "fd536a3165db49ae96c2994aa485752c": {
      "model_module": "@jupyter-widgets/base",
      "model_module_version": "2.0.0",
      "model_name": "LayoutModel",
      "state": {
       "height": "auto",
       "padding": "0px 0px 0px 4px",
       "width": "auto"
      }
     },
     "fd794d6c89be49fd989254a64b971b5b": {
      "model_module": "@jupyter-widgets/base",
      "model_module_version": "2.0.0",
      "model_name": "LayoutModel",
      "state": {
       "height": "auto",
       "padding": "0px 0px 0px 4px",
       "width": "auto"
      }
     },
     "fd86395188cf48248b2aaa1671dcde05": {
      "model_module": "@jupyter-widgets/controls",
      "model_module_version": "2.0.0",
      "model_name": "ToggleButtonStyleModel",
      "state": {
       "description_width": "",
       "font_family": null,
       "font_size": null,
       "font_style": null,
       "font_variant": null,
       "font_weight": null,
       "text_color": null,
       "text_decoration": null
      }
     },
     "fdb75422b6f24d3c80880c69f4ca128d": {
      "model_module": "@jupyter-widgets/controls",
      "model_module_version": "2.0.0",
      "model_name": "ToggleButtonStyleModel",
      "state": {
       "description_width": "",
       "font_family": null,
       "font_size": null,
       "font_style": null,
       "font_variant": null,
       "font_weight": null,
       "text_color": null,
       "text_decoration": null
      }
     },
     "fe1d9ebc2d0749169a5c0665dc11d9d4": {
      "model_module": "@jupyter-widgets/controls",
      "model_module_version": "2.0.0",
      "model_name": "ToggleButtonStyleModel",
      "state": {
       "description_width": "",
       "font_family": null,
       "font_size": null,
       "font_style": null,
       "font_variant": null,
       "font_weight": null,
       "text_color": null,
       "text_decoration": null
      }
     },
     "fe244f7adf644af99103f866427b4f92": {
      "model_module": "@jupyter-widgets/controls",
      "model_module_version": "2.0.0",
      "model_name": "VBoxModel",
      "state": {
       "children": [
        "IPY_MODEL_7f210498a14b4d8da081d98490f18a9f",
        "IPY_MODEL_5e5f18c4b30141ab94068688c19f5b22"
       ],
       "layout": "IPY_MODEL_7a26d94885a24e6093e6c8412d5250b2"
      }
     },
     "fe2a70267f63400b8002eebba7137990": {
      "model_module": "@jupyter-widgets/controls",
      "model_module_version": "2.0.0",
      "model_name": "VBoxModel",
      "state": {
       "children": [
        "IPY_MODEL_c4e2877c32ce424a941cda4c2693644b",
        "IPY_MODEL_1a6938045f1044228dd16320ecf0b923"
       ],
       "layout": "IPY_MODEL_c96ca950eb3b4ff38eea1d6415ad9853"
      }
     },
     "fe35ec1595e24f249c24c2b308d6eecd": {
      "model_module": "@jupyter-widgets/controls",
      "model_module_version": "2.0.0",
      "model_name": "ToggleButtonModel",
      "state": {
       "icon": "server",
       "layout": "IPY_MODEL_9ba12d3bde004e31be48909c7664ab55",
       "style": "IPY_MODEL_c6811147fdf94e4998c3d384e8637aa2",
       "tooltip": "Layers"
      }
     },
     "fe3712ed5f864575926a967a13dfc2a6": {
      "model_module": "@jupyter-widgets/controls",
      "model_module_version": "2.0.0",
      "model_name": "ToggleButtonModel",
      "state": {
       "button_style": "primary",
       "icon": "plus",
       "layout": "IPY_MODEL_754ee08df49e4d7bbbb44bd1d360ef77",
       "style": "IPY_MODEL_674ac190cc8347cba6ac00fd3940945c",
       "tooltip": "Expand toolbar"
      }
     },
     "fe5a5430f6e243c1862dae9ee52d55d5": {
      "model_module": "@jupyter-widgets/base",
      "model_module_version": "2.0.0",
      "model_name": "LayoutModel",
      "state": {
       "height": "auto",
       "padding": "0px 0px 0px 4px",
       "width": "auto"
      }
     },
     "feae659e998b4366a8a6800134a47eeb": {
      "model_module": "@jupyter-widgets/controls",
      "model_module_version": "2.0.0",
      "model_name": "ToggleButtonStyleModel",
      "state": {
       "description_width": "",
       "font_family": null,
       "font_size": null,
       "font_style": null,
       "font_variant": null,
       "font_weight": null,
       "text_color": null,
       "text_decoration": null
      }
     },
     "feb1e4ccfad7450bb14c93b03adba867": {
      "model_module": "@jupyter-widgets/base",
      "model_module_version": "2.0.0",
      "model_name": "LayoutModel",
      "state": {
       "max_width": "279px",
       "min_width": "279px"
      }
     },
     "febf08e824be44fc85b57103e323275a": {
      "model_module": "@jupyter-widgets/controls",
      "model_module_version": "2.0.0",
      "model_name": "HTMLStyleModel",
      "state": {
       "description_width": "",
       "font_size": null,
       "text_color": null
      }
     },
     "fec0d2c7f7be4d3188640152740617b3": {
      "model_module": "@jupyter-widgets/controls",
      "model_module_version": "2.0.0",
      "model_name": "DescriptionStyleModel",
      "state": {
       "description_width": ""
      }
     },
     "fee7c4ad36a341539e08c01cc31d714c": {
      "model_module": "@jupyter-widgets/base",
      "model_module_version": "2.0.0",
      "model_name": "LayoutModel",
      "state": {}
     },
     "ff00646821214ad38b0607cb6d8ec1a1": {
      "model_module": "@jupyter-widgets/controls",
      "model_module_version": "2.0.0",
      "model_name": "HBoxModel",
      "state": {
       "_view_count": 0,
       "children": [
        "IPY_MODEL_e246c6ea16a94337b17b7afbadcf604f"
       ],
       "layout": "IPY_MODEL_c4ba4a0e3c7f49d7b223d9a9422b523d"
      }
     },
     "ff52c80e596a4b7aa5942ea3539b02ab": {
      "model_module": "@jupyter-widgets/base",
      "model_module_version": "2.0.0",
      "model_name": "LayoutModel",
      "state": {}
     },
     "ff5fa9583b25483d98aed69101cb27ba": {
      "model_module": "@jupyter-widgets/controls",
      "model_module_version": "2.0.0",
      "model_name": "ToggleButtonModel",
      "state": {
       "button_style": "primary",
       "icon": "minus",
       "layout": "IPY_MODEL_b392095eea954d26821398992c5e6323",
       "style": "IPY_MODEL_458db83f843d47699163825f7e4889cc",
       "tooltip": "Expand toolbar"
      }
     },
     "ff88636229054f4e98ea1f2f6d8cf663": {
      "model_module": "@jupyter-widgets/controls",
      "model_module_version": "2.0.0",
      "model_name": "ToggleButtonModel",
      "state": {
       "icon": "server",
       "layout": "IPY_MODEL_e24ae56d89ea475b8e09b6aa9bf08170",
       "style": "IPY_MODEL_e83d98147bb0416aa42bce639e2ec299",
       "tooltip": "Layers"
      }
     },
     "ff9c7b3f9afe4a53b82aafee5ea7a68c": {
      "model_module": "@jupyter-widgets/controls",
      "model_module_version": "2.0.0",
      "model_name": "ToggleButtonStyleModel",
      "state": {
       "description_width": "",
       "font_family": null,
       "font_size": null,
       "font_style": null,
       "font_variant": null,
       "font_weight": null,
       "text_color": null,
       "text_decoration": null
      }
     },
     "ffada659e82d447faec891625db10432": {
      "model_module": "@jupyter-widgets/controls",
      "model_module_version": "2.0.0",
      "model_name": "ToggleButtonModel",
      "state": {
       "button_style": "primary",
       "icon": "fast-forward",
       "layout": "IPY_MODEL_60b20d2c195a46fabd9b9ad26d47eb3d",
       "style": "IPY_MODEL_75533c26f47c4f1a83b7898f134b90fc",
       "tooltip": "Activate timeslider"
      }
     },
     "ffcde09b25d74ddcb0e2d6f0e6652cb3": {
      "model_module": "@jupyter-widgets/controls",
      "model_module_version": "2.0.0",
      "model_name": "ToggleButtonModel",
      "state": {
       "button_style": "primary",
       "icon": "gears",
       "layout": "IPY_MODEL_f2db3c5914ae4d10920b915fd66d0826",
       "style": "IPY_MODEL_f576da9c97a8497599fb7f7c8ee8a61e",
       "tooltip": "WhiteboxTools for local geoprocessing"
      }
     },
     "ffe0a8bbc31d4d3c947555584754269b": {
      "model_module": "jupyter-leaflet",
      "model_module_version": "^0.17",
      "model_name": "LeafletMeasureControlModel",
      "state": {
       "_model_module_version": "^0.17",
       "_view_module_version": "^0.17",
       "active_color": "orange",
       "options": [
        "active_color",
        "capture_z_index",
        "completed_color",
        "popup_options",
        "position",
        "primary_area_unit",
        "primary_length_unit",
        "secondary_area_unit",
        "secondary_length_unit"
       ],
       "position": "bottomleft",
       "primary_length_unit": "kilometers",
       "secondary_area_unit": null,
       "secondary_length_unit": null
      }
     },
     "ffea59d4ed434ab7a3928c2fc7a25491": {
      "model_module": "@jupyter-widgets/controls",
      "model_module_version": "2.0.0",
      "model_name": "TextModel",
      "state": {
       "layout": "IPY_MODEL_a9512d9dc3004c12b638f2d364bc961d",
       "placeholder": "Search by place name or address",
       "style": "IPY_MODEL_eae463e2b2f2433aa77bb0d642f82e73",
       "tooltip": "Search location"
      }
     }
    },
    "version_major": 2,
    "version_minor": 0
   }
  }
 },
 "nbformat": 4,
 "nbformat_minor": 5
}
