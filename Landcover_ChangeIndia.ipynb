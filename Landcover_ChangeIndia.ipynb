{
 "cells": [
  {
   "cell_type": "markdown",
   "id": "5b40e0f9-e5ce-4b34-8a2e-52001a9fab3d",
   "metadata": {},
   "source": [
    "## Introduction to Ecosystem Services in Delhi NCR\n",
    "Ecosystem services refer to the benefits that humans receive from functioning ecosystems. Traditional approaches to urban development often neglect the role of ecosystem services in providing benefits to the health and well-being of city residents (Hogan et al., 2014). Without considering ecosystem services, urban areas are likely to experience degradation over time, leading to negative consequences for the sustainability and well-being of cities and their inhabitants. In the context of Delhi NCR, several studies have been conducted to understand and assess the ecosystem services provided by the region (Morya & Punia, 2021). The academic literature on ecosystem services in Delhi NCR has primarily focused on methods for mapping and assessing these services, as well as their significance for urban planning and decision-making processes.\n",
    "Study on Urban Land Management and Changes in Land Use/Cover One study conducted in Delhi NCR aimed to highlight the status of urban land management and urban sprawl practices, as well as land use/land cover\n",
    "\n",
    "changes in the region from 1992 to 2010 . The study followed the approach proposed by Costanza et al. to identify and monetarily value ecosystem services based on the functioning of ecosystems in the study area. The findings of this study revealed the effectiveness of using generalized ecosystem services value coefficients to estimate the annual economic value of ecosystem services in Delhi NCR. This study is seminal as it applied the approach proposed by Costanza et al. to assess ecosystem services in a specific urban area and provided insights into the economic value of these services.\n",
    "## Review of Academic Literature on Ecosystem Services\n",
    "In recent years, there has been a growing amount of research on the concept and evaluation of ecosystem services in Delhi NCR. Various methods have been proposed for the mapping and evaluation of ecosystem services in the region, including qualitative, quantitative, and monetary approaches . One important study analyzed a few recent experiences of Italian cities' land use plans to uncover innovative elements that could be applied to urban standards, particularly in terms of incorporating ecosystem services . This study highlights the need to move from traditional approaches based on quantitative definitions to more innovative solutions that consider the qualitative level of public services and the preservation of the environmental system. Furthermore, the study emphasized the importance of integrating ecosystem services into spatial and land use planning for effective decision-making and governance of the territory (Hogan et al., 2014).\n",
    "Another important study conducted in Delhi NCR focused on evaluating the service values of natural ecosystems and highlighted the need for future research to pay more attention to ecosystem services in urban areas (Morya & Punia, 2021).\n",
    "## Methodologies Used in Analyzing Ecosystem Services\n",
    "The methodologies used in analyzing ecosystem services in Delhi NCR vary, but they generally involve mapping and evaluating the qualitative, quantitative, and monetary aspects of these services. # In-Depth Analysis of Urban Ecosystem Services in Delhi NCR\n",
    "\n",
    "## Integrating Ecosystem Services into Urban Planning\n",
    "\n",
    "The existing literature on ecosystem services in Delhi NCR demonstrates the increasing recognition of the importance of integrating these services into urban planning and decision-making processes. The studies highlighted the need to transition from traditional quantitative approaches to more innovative solutions that consider the qualitative level of public services and the preservation of the environmental system. This shift in perspective acknowledges the essential role of ecosystem services in shaping sustainable urban development and ensuring the well-being of city residents.\n",
    "\n",
    "Furthermore, the findings emphasized the significance of integrating ecosystem services into spatial and land use planning for effective governance of the territory. This integration is crucial for balancing the demands of urban development with the preservation and maintenance of ecosystem services, ultimately contributing to the overall well-being and resilience of the city and its inhabitants.\n",
    "\n",
    "## Mapping and Evaluating Ecosystem Services\n",
    "\n",
    "The methodologies used in analyzing ecosystem services in Delhi NCR encompass a comprehensive approach that involves mapping and evaluating the qualitative, quantitative, and monetary aspects of these services. The studies have followed approaches proposed by Costanza et al., focusing on identifying and monetarily valuing ecosystem services based on the functioning of ecosystems in the study area. This integrated method enables a holistic understanding of the diverse ecosystem services provided by the region, offering insights into their economic value and significance in urban landscapes.\n",
    "\n",
    "## Future Directions for Research\n",
    "\n",
    "While the current literature has provided substantial insights into the assessment of ecosystem services in urban areas and has emphasized the need to pay more attention to ecosystem services in urban environments, further research is warranted. Future studies should delve into the complexities of urban ecosystems, considering the strong interactions between humans and the ecosystem. This shift in focus will enable assessment techniques to guide human activities in the future, fostering sustainable and resilient urban development in Delhi NCR.\n",
    "\n",
    "In the study of ecosystem services, an in-depth exploration of urban ecosystems is essential to fully comprehend the intricate dynamics and interdependence between human activities and the environment. By broadening the scope of research to encompass the complexities of urban ecosystems, future studies can contribute to the development of more effective and sustainable urban planning strategies that prioritize the preservation and enhancement of ecosystem services.\n",
    "\n",
    "## "
   ]
  },
  {
   "cell_type": "code",
   "execution_count": 1,
   "id": "d5fd5cef-707e-4021-9da1-3411cfdafcf7",
   "metadata": {},
   "outputs": [
    {
     "ename": "DriverError",
     "evalue": "/Users/abhin/OneDrive - Michigan State University/2Draft1Chapter4/IND_adm2.shp: No such file or directory",
     "output_type": "error",
     "traceback": [
      "\u001b[0;31m---------------------------------------------------------------------------\u001b[0m",
      "\u001b[0;31mCPLE_OpenFailedError\u001b[0m                      Traceback (most recent call last)",
      "\u001b[0;32mfiona/_shim.pyx\u001b[0m in \u001b[0;36mfiona._shim.gdal_open_vector\u001b[0;34m()\u001b[0m\n",
      "\u001b[0;32mfiona/_err.pyx\u001b[0m in \u001b[0;36mfiona._err.exc_wrap_pointer\u001b[0;34m()\u001b[0m\n",
      "\u001b[0;31mCPLE_OpenFailedError\u001b[0m: /Users/abhin/OneDrive - Michigan State University/2Draft1Chapter4/IND_adm2.shp: No such file or directory",
      "\nDuring handling of the above exception, another exception occurred:\n",
      "\u001b[0;31mDriverError\u001b[0m                               Traceback (most recent call last)",
      "\u001b[0;32m/var/folders/ly/rgjn5pn521xds5tj0m76ys_40000gn/T/ipykernel_41521/1228164480.py\u001b[0m in \u001b[0;36m<module>\u001b[0;34m\u001b[0m\n\u001b[1;32m     13\u001b[0m \u001b[0mshapefile3\u001b[0m\u001b[0;34m=\u001b[0m \u001b[0;34m\"/Users/abhin/OneDrive - Michigan State University/2Draft1Chapter4/IND_adm3.shp\"\u001b[0m\u001b[0;34m\u001b[0m\u001b[0;34m\u001b[0m\u001b[0m\n\u001b[1;32m     14\u001b[0m \u001b[0;31m# Read the shapefiles using Geopandas\u001b[0m\u001b[0;34m\u001b[0m\u001b[0;34m\u001b[0m\u001b[0m\n\u001b[0;32m---> 15\u001b[0;31m \u001b[0mdata1\u001b[0m \u001b[0;34m=\u001b[0m \u001b[0mgpd\u001b[0m\u001b[0;34m.\u001b[0m\u001b[0mread_file\u001b[0m\u001b[0;34m(\u001b[0m\u001b[0mshapefile1\u001b[0m\u001b[0;34m)\u001b[0m\u001b[0;34m\u001b[0m\u001b[0;34m\u001b[0m\u001b[0m\n\u001b[0m\u001b[1;32m     16\u001b[0m \u001b[0mdata2\u001b[0m \u001b[0;34m=\u001b[0m \u001b[0mgpd\u001b[0m\u001b[0;34m.\u001b[0m\u001b[0mread_file\u001b[0m\u001b[0;34m(\u001b[0m\u001b[0mshapefile2\u001b[0m\u001b[0;34m)\u001b[0m\u001b[0;34m\u001b[0m\u001b[0;34m\u001b[0m\u001b[0m\n\u001b[1;32m     17\u001b[0m \u001b[0mdata3\u001b[0m \u001b[0;34m=\u001b[0m \u001b[0mgpd\u001b[0m\u001b[0;34m.\u001b[0m\u001b[0mread_file\u001b[0m\u001b[0;34m(\u001b[0m\u001b[0mshapefile3\u001b[0m\u001b[0;34m)\u001b[0m\u001b[0;34m\u001b[0m\u001b[0;34m\u001b[0m\u001b[0m\n",
      "\u001b[0;32m~/opt/anaconda3/lib/python3.9/site-packages/geopandas/io/file.py\u001b[0m in \u001b[0;36m_read_file\u001b[0;34m(filename, bbox, mask, rows, engine, **kwargs)\u001b[0m\n\u001b[1;32m    295\u001b[0m             \u001b[0mpath_or_bytes\u001b[0m \u001b[0;34m=\u001b[0m \u001b[0mfilename\u001b[0m\u001b[0;34m\u001b[0m\u001b[0;34m\u001b[0m\u001b[0m\n\u001b[1;32m    296\u001b[0m \u001b[0;34m\u001b[0m\u001b[0m\n\u001b[0;32m--> 297\u001b[0;31m         return _read_file_fiona(\n\u001b[0m\u001b[1;32m    298\u001b[0m             \u001b[0mpath_or_bytes\u001b[0m\u001b[0;34m,\u001b[0m \u001b[0mfrom_bytes\u001b[0m\u001b[0;34m,\u001b[0m \u001b[0mbbox\u001b[0m\u001b[0;34m=\u001b[0m\u001b[0mbbox\u001b[0m\u001b[0;34m,\u001b[0m \u001b[0mmask\u001b[0m\u001b[0;34m=\u001b[0m\u001b[0mmask\u001b[0m\u001b[0;34m,\u001b[0m \u001b[0mrows\u001b[0m\u001b[0;34m=\u001b[0m\u001b[0mrows\u001b[0m\u001b[0;34m,\u001b[0m \u001b[0;34m**\u001b[0m\u001b[0mkwargs\u001b[0m\u001b[0;34m\u001b[0m\u001b[0;34m\u001b[0m\u001b[0m\n\u001b[1;32m    299\u001b[0m         )\n",
      "\u001b[0;32m~/opt/anaconda3/lib/python3.9/site-packages/geopandas/io/file.py\u001b[0m in \u001b[0;36m_read_file_fiona\u001b[0;34m(path_or_bytes, from_bytes, bbox, mask, rows, where, **kwargs)\u001b[0m\n\u001b[1;32m    336\u001b[0m \u001b[0;34m\u001b[0m\u001b[0m\n\u001b[1;32m    337\u001b[0m     \u001b[0;32mwith\u001b[0m \u001b[0mfiona_env\u001b[0m\u001b[0;34m(\u001b[0m\u001b[0;34m)\u001b[0m\u001b[0;34m:\u001b[0m\u001b[0;34m\u001b[0m\u001b[0;34m\u001b[0m\u001b[0m\n\u001b[0;32m--> 338\u001b[0;31m         \u001b[0;32mwith\u001b[0m \u001b[0mreader\u001b[0m\u001b[0;34m(\u001b[0m\u001b[0mpath_or_bytes\u001b[0m\u001b[0;34m,\u001b[0m \u001b[0;34m**\u001b[0m\u001b[0mkwargs\u001b[0m\u001b[0;34m)\u001b[0m \u001b[0;32mas\u001b[0m \u001b[0mfeatures\u001b[0m\u001b[0;34m:\u001b[0m\u001b[0;34m\u001b[0m\u001b[0;34m\u001b[0m\u001b[0m\n\u001b[0m\u001b[1;32m    339\u001b[0m             \u001b[0mcrs\u001b[0m \u001b[0;34m=\u001b[0m \u001b[0mfeatures\u001b[0m\u001b[0;34m.\u001b[0m\u001b[0mcrs_wkt\u001b[0m\u001b[0;34m\u001b[0m\u001b[0;34m\u001b[0m\u001b[0m\n\u001b[1;32m    340\u001b[0m             \u001b[0;31m# attempt to get EPSG code\u001b[0m\u001b[0;34m\u001b[0m\u001b[0;34m\u001b[0m\u001b[0m\n",
      "\u001b[0;32m~/opt/anaconda3/lib/python3.9/site-packages/fiona/env.py\u001b[0m in \u001b[0;36mwrapper\u001b[0;34m(*args, **kwargs)\u001b[0m\n\u001b[1;32m    406\u001b[0m     \u001b[0;32mdef\u001b[0m \u001b[0mwrapper\u001b[0m\u001b[0;34m(\u001b[0m\u001b[0;34m*\u001b[0m\u001b[0margs\u001b[0m\u001b[0;34m,\u001b[0m \u001b[0;34m**\u001b[0m\u001b[0mkwargs\u001b[0m\u001b[0;34m)\u001b[0m\u001b[0;34m:\u001b[0m\u001b[0;34m\u001b[0m\u001b[0;34m\u001b[0m\u001b[0m\n\u001b[1;32m    407\u001b[0m         \u001b[0;32mif\u001b[0m \u001b[0mlocal\u001b[0m\u001b[0;34m.\u001b[0m\u001b[0m_env\u001b[0m\u001b[0;34m:\u001b[0m\u001b[0;34m\u001b[0m\u001b[0;34m\u001b[0m\u001b[0m\n\u001b[0;32m--> 408\u001b[0;31m             \u001b[0;32mreturn\u001b[0m \u001b[0mf\u001b[0m\u001b[0;34m(\u001b[0m\u001b[0;34m*\u001b[0m\u001b[0margs\u001b[0m\u001b[0;34m,\u001b[0m \u001b[0;34m**\u001b[0m\u001b[0mkwargs\u001b[0m\u001b[0;34m)\u001b[0m\u001b[0;34m\u001b[0m\u001b[0;34m\u001b[0m\u001b[0m\n\u001b[0m\u001b[1;32m    409\u001b[0m         \u001b[0;32melse\u001b[0m\u001b[0;34m:\u001b[0m\u001b[0;34m\u001b[0m\u001b[0;34m\u001b[0m\u001b[0m\n\u001b[1;32m    410\u001b[0m             \u001b[0;32mif\u001b[0m \u001b[0misinstance\u001b[0m\u001b[0;34m(\u001b[0m\u001b[0margs\u001b[0m\u001b[0;34m[\u001b[0m\u001b[0;36m0\u001b[0m\u001b[0;34m]\u001b[0m\u001b[0;34m,\u001b[0m \u001b[0mstr\u001b[0m\u001b[0;34m)\u001b[0m\u001b[0;34m:\u001b[0m\u001b[0;34m\u001b[0m\u001b[0;34m\u001b[0m\u001b[0m\n",
      "\u001b[0;32m~/opt/anaconda3/lib/python3.9/site-packages/fiona/__init__.py\u001b[0m in \u001b[0;36mopen\u001b[0;34m(fp, mode, driver, schema, crs, encoding, layer, vfs, enabled_drivers, crs_wkt, **kwargs)\u001b[0m\n\u001b[1;32m    262\u001b[0m \u001b[0;34m\u001b[0m\u001b[0m\n\u001b[1;32m    263\u001b[0m         \u001b[0;32mif\u001b[0m \u001b[0mmode\u001b[0m \u001b[0;32min\u001b[0m \u001b[0;34m(\u001b[0m\u001b[0;34m'a'\u001b[0m\u001b[0;34m,\u001b[0m \u001b[0;34m'r'\u001b[0m\u001b[0;34m)\u001b[0m\u001b[0;34m:\u001b[0m\u001b[0;34m\u001b[0m\u001b[0;34m\u001b[0m\u001b[0m\n\u001b[0;32m--> 264\u001b[0;31m             c = Collection(path, mode, driver=driver, encoding=encoding,\n\u001b[0m\u001b[1;32m    265\u001b[0m                            layer=layer, enabled_drivers=enabled_drivers, **kwargs)\n\u001b[1;32m    266\u001b[0m         \u001b[0;32melif\u001b[0m \u001b[0mmode\u001b[0m \u001b[0;34m==\u001b[0m \u001b[0;34m'w'\u001b[0m\u001b[0;34m:\u001b[0m\u001b[0;34m\u001b[0m\u001b[0;34m\u001b[0m\u001b[0m\n",
      "\u001b[0;32m~/opt/anaconda3/lib/python3.9/site-packages/fiona/collection.py\u001b[0m in \u001b[0;36m__init__\u001b[0;34m(self, path, mode, driver, schema, crs, encoding, layer, vsi, archive, enabled_drivers, crs_wkt, ignore_fields, ignore_geometry, **kwargs)\u001b[0m\n\u001b[1;32m    160\u001b[0m             \u001b[0;32mif\u001b[0m \u001b[0mself\u001b[0m\u001b[0;34m.\u001b[0m\u001b[0mmode\u001b[0m \u001b[0;34m==\u001b[0m \u001b[0;34m'r'\u001b[0m\u001b[0;34m:\u001b[0m\u001b[0;34m\u001b[0m\u001b[0;34m\u001b[0m\u001b[0m\n\u001b[1;32m    161\u001b[0m                 \u001b[0mself\u001b[0m\u001b[0;34m.\u001b[0m\u001b[0msession\u001b[0m \u001b[0;34m=\u001b[0m \u001b[0mSession\u001b[0m\u001b[0;34m(\u001b[0m\u001b[0;34m)\u001b[0m\u001b[0;34m\u001b[0m\u001b[0;34m\u001b[0m\u001b[0m\n\u001b[0;32m--> 162\u001b[0;31m                 \u001b[0mself\u001b[0m\u001b[0;34m.\u001b[0m\u001b[0msession\u001b[0m\u001b[0;34m.\u001b[0m\u001b[0mstart\u001b[0m\u001b[0;34m(\u001b[0m\u001b[0mself\u001b[0m\u001b[0;34m,\u001b[0m \u001b[0;34m**\u001b[0m\u001b[0mkwargs\u001b[0m\u001b[0;34m)\u001b[0m\u001b[0;34m\u001b[0m\u001b[0;34m\u001b[0m\u001b[0m\n\u001b[0m\u001b[1;32m    163\u001b[0m             \u001b[0;32melif\u001b[0m \u001b[0mself\u001b[0m\u001b[0;34m.\u001b[0m\u001b[0mmode\u001b[0m \u001b[0;32min\u001b[0m \u001b[0;34m(\u001b[0m\u001b[0;34m'a'\u001b[0m\u001b[0;34m,\u001b[0m \u001b[0;34m'w'\u001b[0m\u001b[0;34m)\u001b[0m\u001b[0;34m:\u001b[0m\u001b[0;34m\u001b[0m\u001b[0;34m\u001b[0m\u001b[0m\n\u001b[1;32m    164\u001b[0m                 \u001b[0mself\u001b[0m\u001b[0;34m.\u001b[0m\u001b[0msession\u001b[0m \u001b[0;34m=\u001b[0m \u001b[0mWritingSession\u001b[0m\u001b[0;34m(\u001b[0m\u001b[0;34m)\u001b[0m\u001b[0;34m\u001b[0m\u001b[0;34m\u001b[0m\u001b[0m\n",
      "\u001b[0;32mfiona/ogrext.pyx\u001b[0m in \u001b[0;36mfiona.ogrext.Session.start\u001b[0;34m()\u001b[0m\n",
      "\u001b[0;32mfiona/_shim.pyx\u001b[0m in \u001b[0;36mfiona._shim.gdal_open_vector\u001b[0;34m()\u001b[0m\n",
      "\u001b[0;31mDriverError\u001b[0m: /Users/abhin/OneDrive - Michigan State University/2Draft1Chapter4/IND_adm2.shp: No such file or directory"
     ]
    }
   ],
   "source": [
    "import zipfile\n",
    "import geopandas as gpd\n",
    "import matplotlib.pyplot as plt\n",
    "\n",
    "# Path to the zipped folder\n",
    "#zip_folder = \"/Users/abhin/OneDrive - Michigan State University/2Draft1Chapter4/IND_adm.zip\"\n",
    "\n",
    "# Extract the shapefiles from the zip folder\n",
    "\n",
    "# Define the file paths of the extracted shapefiles\n",
    "shapefile1 = \"/Users/abhin/OneDrive - Michigan State University/2Draft1Chapter4/IND_adm2.shp\"\n",
    "shapefile2 = \"/Users/abhin/OneDrive - Michigan State University/2Draft1Chapter4/IND_adm3.shp\"\n",
    "shapefile3= \"/Users/abhin/OneDrive - Michigan State University/2Draft1Chapter4/IND_adm3.shp\"\n",
    "# Read the shapefiles using Geopandas\n",
    "data1 = gpd.read_file(shapefile1)\n",
    "data2 = gpd.read_file(shapefile2)\n",
    "data3 = gpd.read_file(shapefile3)\n",
    "# Create a new figure and axis\n",
    "fig, ax = plt.subplots()\n",
    "\n",
    "# Plot the shapefiles on the axis\n",
    "data1.plot(ax=ax, color='red', edgecolor='black')\n",
    "data2.plot(ax=ax, color='blue', edgecolor='black')\n",
    "data3.plot(ax=ax, color='yellow', edgecolor='black')\n",
    "# Set the title and labels\n",
    "ax.set_title(\"Shapefile Visualization\")\n",
    "ax.set_xlabel(\"Longitude\")\n",
    "ax.set_ylabel(\"Latitude\")\n",
    "\n",
    "# Show the plot\n",
    "plt.show()\n"
   ]
  }
 ],
 "metadata": {
  "kernelspec": {
   "display_name": "Python 3 (ipykernel)",
   "language": "python",
   "name": "python3"
  },
  "language_info": {
   "codemirror_mode": {
    "name": "ipython",
    "version": 3
   },
   "file_extension": ".py",
   "mimetype": "text/x-python",
   "name": "python",
   "nbconvert_exporter": "python",
   "pygments_lexer": "ipython3",
   "version": "3.9.15"
  },
  "widgets": {
   "application/vnd.jupyter.widget-state+json": {
    "state": {},
    "version_major": 2,
    "version_minor": 0
   }
  }
 },
 "nbformat": 4,
 "nbformat_minor": 5
}
